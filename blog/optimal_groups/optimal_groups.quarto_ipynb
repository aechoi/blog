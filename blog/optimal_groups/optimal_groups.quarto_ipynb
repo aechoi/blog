{
 "cells": [
  {
   "cell_type": "markdown",
   "id": "f937141c",
   "metadata": {},
   "source": [
    "---\n",
    "title: \"Optimal Group Project Assignment\"\n",
    "date: 2025-07-31\n",
    "format: html\n",
    "categories:\n",
    "- optimization\n",
    "draft: false\n",
    "jupyter: python3\n",
    "---\n",
    "\n",
    "My senior design project was essentially randomly assigned. \n",
    "\n",
    "The professor gave us a list of potential projects and told us to group up and rank our top five. When we got our assignments, I was a bit disappointed and confused because I got a project that I did not list on my preferences (something to do with measuring strain using digital image correlation). Stranger still, there had been other people that wanted our project. The professor said that the decisions were final. When asked, he said he ran a monte carlo simulation and picked the one that looked the best. We're not exactly sure what criteria he used, but the result was that many students were suboptimally assigned.\n",
    "\n",
    "Years later, I sometimes think of this, and having TA'd some courses with group projects, I wondered if there was a better way. The following is an approach that uses integer programming.\n",
    "\n",
    "Say you have $N$ students and $M$ projects. The goal is to group students to the projects they want in a way that optimizes for some sort of preference. For now, let's say every student provides a dissatisfaction score $d_{n,m} \\in [0, \\infty)$ for each project. Each student then has a vector $d_n \\in \\mathbb R^M$, and the entire class can be described using the following matrix.\n",
    "$$\n",
    "D = \\begin{bmatrix}\n",
    "| & & | \\\\\n",
    "d_{1} & \\cdots & d_{N} \\\\\n",
    "| & & |\n",
    "\\end{bmatrix}\n",
    "$$\n",
    "\n",
    "Each student must be assigned to one project. This can be described using a 1-hot vector, $a_n\\in\\mathbb R^m$, where the 1 corresponds to the assigned project. Again, the entire class can be assigned using a matrix. This will act as our decision variable.\n",
    "$$\n",
    "A = \\begin{bmatrix}\n",
    "| & & | \\\\\n",
    "a_{1} & \\cdots & a_{N} \\\\\n",
    "| & & |\n",
    "\\end{bmatrix}\n",
    "$$\n",
    "We can set maximum and minimum group sizes by specifying that the sum of the rows of $A$ must be between the bounds.\n",
    "\n",
    "For our objective, let's go with minimizing the total dissatisfaction of the class. This can be notated concisely as $\\min_A\\ \\text{Tr}(D^\\intercal A)$. We can run our optimization as follows."
   ]
  },
  {
   "cell_type": "code",
   "execution_count": 1,
   "id": "1714f0a9",
   "metadata": {},
   "outputs": [
    {
     "name": "stdout",
     "output_type": "stream",
     "text": [
      "The most dissatisfaction a student has is 0.11/1.0\n"
     ]
    }
   ],
   "source": [
    "import cvxpy as cp\n",
    "import numpy as np\n",
    "import matplotlib.pyplot as plt\n",
    "\n",
    "np.random.seed(0)\n",
    "\n",
    "num_projects = 50\n",
    "num_students = 200\n",
    "\n",
    "min_group_size = 3\n",
    "max_group_size = 5\n",
    "\n",
    "dissatisfaction_matrix = np.random.rand(num_projects, num_students)\n",
    "assignment_matrix = cp.Variable((num_projects, num_students), boolean=True)\n",
    "\n",
    "objective = cp.Minimize(cp.trace(dissatisfaction_matrix.T @ assignment_matrix))\n",
    "\n",
    "constraints = []\n",
    "constraints += [cp.sum(assignment_matrix, axis=0) == 1]  # each student gets assigned to only 1 project\n",
    "constraints += [cp.sum(assignment_matrix, axis=1) >= min_group_size]\n",
    "constraints += [cp.sum(assignment_matrix, axis=1) <= max_group_size]\n",
    "\n",
    "problem = cp.Problem(objective, constraints)\n",
    "problem.solve()\n",
    "\n",
    "student_dissatisfaction = np.diag(dissatisfaction_matrix.T @ assignment_matrix.value)\n",
    "print(f\"The most dissatisfaction a student has is {np.max(student_dissatisfaction):.2f}/1.0\")"
   ]
  },
  {
   "cell_type": "markdown",
   "id": "6ded7649",
   "metadata": {},
   "source": [
    "That's pretty good, but this doesn't yet solve our problem. It's unreasonable for a student to provide an absolute score for each project. Asking them to pick and rank their top five is much more reasonable. There are many ways you could map a list of five selections to dissatisfaction. One way is to assign constant values to the selections (say, 0 dissatisfaction for your top choice, 0.1 for your second, etc). Then, pick some large value for all omitted projects."
   ]
  },
  {
   "cell_type": "code",
   "execution_count": 2,
   "id": "8feeb1b9",
   "metadata": {},
   "outputs": [
    {
     "name": "stdout",
     "output_type": "stream",
     "text": [
      "The most dissatisfaction a student has is 0.20/1.0\n"
     ]
    }
   ],
   "source": [
    "num_ranks = 5\n",
    "omit_cost = 10\n",
    "\n",
    "# generate rankings from some underlying absolute total ranking\n",
    "absolute_rankings = np.random.rand(num_projects, num_students)\n",
    "rankings = np.argsort(absolute_rankings, axis=0)\n",
    "trunc_ranks = rankings[:num_ranks, :]\n",
    "\n",
    "dissatisfaction_matrix = np.zeros((num_projects, num_students)) + omit_cost\n",
    "student_vec = np.arange(num_students)\n",
    "for idx, rank in enumerate(trunc_ranks):\n",
    "    dissatisfaction_matrix[rank, student_vec] = idx\n",
    "dissatisfaction_matrix /= omit_cost # normalize\n",
    "\n",
    "objective = cp.Minimize(cp.trace(dissatisfaction_matrix.T @ assignment_matrix))\n",
    "\n",
    "problem = cp.Problem(objective, constraints)\n",
    "problem.solve()\n",
    "\n",
    "student_dissatisfaction = np.diag(dissatisfaction_matrix.T @ assignment_matrix.value)\n",
    "print(f\"The most dissatisfaction a student has is {np.max(student_dissatisfaction):.2f}/1.0\")"
   ]
  },
  {
   "cell_type": "markdown",
   "id": "c211fbfb",
   "metadata": {},
   "source": [
    "This still works. We know that no one was assigned a project they didn't like because the most dissatisfaction is less than 1. However, maybe we just got lucky. We're assigning uniformly random preferences for everyone, so it seems likely you'd be able to get everyone something that they like. \n",
    "\n",
    "Let's assume that the popularity of certain projects follows a sort of [Zipfian distribution](https://en.wikipedia.org/wiki/Zipf%27s_law). "
   ]
  },
  {
   "cell_type": "code",
   "execution_count": 3,
   "id": "cc12a147",
   "metadata": {},
   "outputs": [
    {
     "data": {
      "image/png": "[encoded data removed]",
      "text/plain": [
       "<Figure size 672x480 with 1 Axes>"
      ]
     },
     "metadata": {},
     "output_type": "display_data"
    }
   ],
   "source": [
    "def zipf_pmf(k, N):\n",
    "    \"\"\"Return the value of a Zipf probability mass function\"\"\"\n",
    "    return 1 / k * 1 / np.sum(1 / np.arange(1, num_projects + 1))\n",
    "\n",
    "project_probabilities = zipf_pmf(np.arange(1, num_projects + 1), num_projects)\n",
    "fig, ax = plt.subplots()\n",
    "ax.bar(np.arange(num_projects), project_probabilities)\n",
    "ax.set_ylabel(\"Probability\")\n",
    "ax.set_xlabel(\"Project Index\")\n",
    "_ = ax.set_title(\"Probability of Picking a Project\")"
   ]
  },
  {
   "cell_type": "markdown",
   "id": "09cdc642",
   "metadata": {},
   "source": [
    "We'll assume that students populate their preference list by picking from this distribution without replacement. "
   ]
  },
  {
   "cell_type": "code",
   "execution_count": 4,
   "id": "86d8002b",
   "metadata": {},
   "outputs": [],
   "source": [
    "trunc_ranks = []\n",
    "for _ in range(num_students):\n",
    "    trunc_ranks.append(np.random.choice(np.arange(num_projects), 5, replace=False, p=project_probabilities))\n",
    "\n",
    "trunc_ranks = np.asarray(trunc_ranks).T"
   ]
  },
  {
   "cell_type": "markdown",
   "id": "489bad7b",
   "metadata": {},
   "source": [
    "Now we can solve as before."
   ]
  },
  {
   "cell_type": "code",
   "execution_count": 5,
   "id": "54b156bb",
   "metadata": {},
   "outputs": [
    {
     "name": "stdout",
     "output_type": "stream",
     "text": [
      "The most dissatisfaction a student has is 0.40/1.0\n"
     ]
    }
   ],
   "source": [
    "dissatisfaction_matrix = np.zeros((num_projects, num_students)) + omit_cost\n",
    "student_vec = np.arange(num_students)\n",
    "for idx, rank in enumerate(trunc_ranks):\n",
    "    dissatisfaction_matrix[rank, student_vec] = idx\n",
    "dissatisfaction_matrix /= omit_cost # normalize\n",
    "\n",
    "objective = cp.Minimize(cp.trace(dissatisfaction_matrix.T @ assignment_matrix))\n",
    "\n",
    "problem = cp.Problem(objective, constraints)\n",
    "problem.solve()\n",
    "\n",
    "student_dissatisfaction = np.diag(dissatisfaction_matrix.T @ assignment_matrix.value)\n",
    "print(f\"The most dissatisfaction a student has is {np.max(student_dissatisfaction):.2f}/1.0\")"
   ]
  },
  {
   "cell_type": "markdown",
   "id": "2bc39a50",
   "metadata": {},
   "source": [
    "As expected, the worst case dissatisfaction did go up. But, you know what I can't get over?"
   ]
  },
  {
   "cell_type": "code",
   "execution_count": 6,
   "id": "72463dea",
   "metadata": {},
   "outputs": [
    {
     "name": "stdout",
     "output_type": "stream",
     "text": [
      "Number of students that didn't get anything on their list: 0.\n"
     ]
    }
   ],
   "source": [
    "print(f\"Number of students that didn't get anything on their list: {np.sum(student_dissatisfaction == 1)}.\")"
   ]
  },
  {
   "cell_type": "markdown",
   "id": "3ba155dd",
   "metadata": {},
   "source": [
    "<!-- REFERENCES -->\n",
    "<!-- ::: {#refs}\n",
    "## References\n",
    "::: -->\n",
    "<!-- --- -->\n",
    "\n",
    "<!-- EDIT HISTORY -->\n",
    "<!-- ::: {.callout-note}\n",
    "## Edit History\n",
    "\n",
    "- **2025-07-31**: Reformatted for new site\n",
    "::: -->\n",
    "\n",
    "---\n",
    "\n",
    "<!-- COMMENTS/REACTIONS -->"
   ]
  }
 ],
 "metadata": {
  "kernelspec": {
   "display_name": "Python 3 (ipykernel)",
   "language": "python",
   "name": "python3",
   "path": "C:\\Users\\Alex\\Nextcloud\\personal\\blog\\venvWin\\share\\jupyter\\kernels\\python3"
  },
  "language_info": {
   "codemirror_mode": {
    "name": "ipython",
    "version": 3
   },
   "file_extension": ".py",
   "mimetype": "text/x-python",
   "name": "python",
   "nbconvert_exporter": "python",
   "pygments_lexer": "ipython3",
   "version": "3.12.3"
  }
 },
 "nbformat": 4,
 "nbformat_minor": 5
}
