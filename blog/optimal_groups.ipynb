{
  "cells": [
    {
      "cell_type": "markdown",
      "metadata": {},
      "source": [
        "# Optimal Group Project Assignment\n",
        "\n",
        "My senior design project was essentially randomly assigned.\n",
        "\n",
        "The professor gave us a list of potential projects and told us to group\n",
        "up and rank our top five. When we got our assignments, I was a bit\n",
        "disappointed and confused because I got a project that I did not list on\n",
        "my preferences (something to do with measuring strain using digital\n",
        "image correlation). Stranger still, there had been other people that\n",
        "wanted our project. The professor said that the decisions were final.\n",
        "When asked, he said he ran a monte carlo simulation and picked the one\n",
        "that looked the best. We’re not exactly sure what criteria he used, but\n",
        "the result was that many students were suboptimally assigned.\n",
        "\n",
        "Years later, I sometimes think of this, and having TA’d some courses\n",
        "with group projects, I wondered if there was a better way. The following\n",
        "is an approach that uses integer programming.\n",
        "\n",
        "Say you have $N$ students and $M$ projects. The goal is to group\n",
        "students to the projects they want in a way that optimizes for some sort\n",
        "of preference. For now, let’s say every student provides a\n",
        "dissatisfaction score $d_{n,m} \\in [0, \\infty)$ for each project. Each\n",
        "student then has a vector $d_n \\in \\mathbb R^M$, and the entire class\n",
        "can be described using the following matrix. $$\n",
        "D = \\begin{bmatrix}\n",
        "| & & | \\\\\n",
        "d_{1} & \\cdots & d_{N} \\\\\n",
        "| & & |\n",
        "\\end{bmatrix}\n",
        "$$\n",
        "\n",
        "Each student must be assigned to one project. This can be described\n",
        "using a 1-hot vector, $a_n\\in\\mathbb R^m$, where the 1 corresponds to\n",
        "the assigned project. Again, the entire class can be assigned using a\n",
        "matrix. This will act as our decision variable. $$\n",
        "A = \\begin{bmatrix}\n",
        "| & & | \\\\\n",
        "a_{1} & \\cdots & a_{N} \\\\\n",
        "| & & |\n",
        "\\end{bmatrix}\n",
        "$$ We can set maximum and minimum group sizes by specifying that the sum\n",
        "of the rows of $A$ must be between the bounds.\n",
        "\n",
        "For our objective, let’s go with minimizing the total dissatisfaction of\n",
        "the class. This can be notated concisely as\n",
        "$\\min_A\\ \\text{Tr}(D^\\intercal A)$. We can run our optimization as\n",
        "follows."
      ],
      "id": "8432702e-e528-4336-bea8-93a0946b0050"
    },
    {
      "cell_type": "code",
      "execution_count": 1,
      "metadata": {},
      "outputs": [
        {
          "output_type": "stream",
          "name": "stdout",
          "text": [
            "The most dissatisfaction a student has is 0.11/1.0"
          ]
        }
      ],
      "source": [
        "import cvxpy as cp\n",
        "import numpy as np\n",
        "import matplotlib.pyplot as plt\n",
        "\n",
        "np.random.seed(0)\n",
        "\n",
        "num_projects = 50\n",
        "num_students = 200\n",
        "\n",
        "min_group_size = 3\n",
        "max_group_size = 5\n",
        "\n",
        "dissatisfaction_matrix = np.random.rand(num_projects, num_students)\n",
        "assignment_matrix = cp.Variable((num_projects, num_students), boolean=True)\n",
        "\n",
        "objective = cp.Minimize(cp.trace(dissatisfaction_matrix.T @ assignment_matrix))\n",
        "\n",
        "constraints = []\n",
        "constraints += [cp.sum(assignment_matrix, axis=0) == 1]  # each student gets assigned to only 1 project\n",
        "constraints += [cp.sum(assignment_matrix, axis=1) >= min_group_size]\n",
        "constraints += [cp.sum(assignment_matrix, axis=1) <= max_group_size]\n",
        "\n",
        "problem = cp.Problem(objective, constraints)\n",
        "problem.solve()\n",
        "\n",
        "student_dissatisfaction = np.diag(dissatisfaction_matrix.T @ assignment_matrix.value)\n",
        "print(f\"The most dissatisfaction a student has is {np.max(student_dissatisfaction):.2f}/1.0\")"
      ],
      "id": "4fd158e8"
    },
    {
      "cell_type": "markdown",
      "metadata": {},
      "source": [
        "That’s pretty good, but this doesn’t yet solve our problem. It’s\n",
        "unreasonable for a student to provide an absolute score for each\n",
        "project. Asking them to pick and rank their top five is much more\n",
        "reasonable. There are many ways you could map a list of five selections\n",
        "to dissatisfaction. One way is to assign constant values to the\n",
        "selections (say, 0 dissatisfaction for your top choice, 0.1 for your\n",
        "second, etc). Then, pick some large value for all omitted projects."
      ],
      "id": "0e824cd9-156a-46ae-8fa1-3c2af68109f3"
    },
    {
      "cell_type": "code",
      "execution_count": 2,
      "metadata": {},
      "outputs": [
        {
          "output_type": "stream",
          "name": "stdout",
          "text": [
            "The most dissatisfaction a student has is 0.20/1.0"
          ]
        }
      ],
      "source": [
        "num_ranks = 5\n",
        "omit_cost = 10\n",
        "\n",
        "# generate rankings from some underlying absolute total ranking\n",
        "absolute_rankings = np.random.rand(num_projects, num_students)\n",
        "rankings = np.argsort(absolute_rankings, axis=0)\n",
        "trunc_ranks = rankings[:num_ranks, :]\n",
        "\n",
        "dissatisfaction_matrix = np.zeros((num_projects, num_students)) + omit_cost\n",
        "student_vec = np.arange(num_students)\n",
        "for idx, rank in enumerate(trunc_ranks):\n",
        "    dissatisfaction_matrix[rank, student_vec] = idx\n",
        "dissatisfaction_matrix /= omit_cost # normalize\n",
        "\n",
        "objective = cp.Minimize(cp.trace(dissatisfaction_matrix.T @ assignment_matrix))\n",
        "\n",
        "problem = cp.Problem(objective, constraints)\n",
        "problem.solve()\n",
        "\n",
        "student_dissatisfaction = np.diag(dissatisfaction_matrix.T @ assignment_matrix.value)\n",
        "print(f\"The most dissatisfaction a student has is {np.max(student_dissatisfaction):.2f}/1.0\")"
      ],
      "id": "2e5fd21f"
    },
    {
      "cell_type": "markdown",
      "metadata": {},
      "source": [
        "This still works. We know that no one was assigned a project they didn’t\n",
        "like because the most dissatisfaction is less than 1. However, maybe we\n",
        "just got lucky. We’re assigning uniformly random preferences for\n",
        "everyone, so it seems likely you’d be able to get everyone something\n",
        "that they like.\n",
        "\n",
        "Let’s assume that the popularity of certain projects follows a sort of\n",
        "[Zipfian distribution](https://en.wikipedia.org/wiki/Zipf%27s_law)."
      ],
      "id": "6e465429-ce8b-4088-b499-6dac5e821d04"
    },
    {
      "cell_type": "code",
      "execution_count": 3,
      "metadata": {},
      "outputs": [
        {
          "output_type": "display_data",
          "metadata": {},
          "data": {
            "image/png": "[encoded data removed]"
          }
        }
      ],
      "source": [
        "def zipf_pmf(k, N):\n",
        "    \"\"\"Return the value of a Zipf probability mass function\"\"\"\n",
        "    return 1 / k * 1 / np.sum(1 / np.arange(1, num_projects + 1))\n",
        "\n",
        "project_probabilities = zipf_pmf(np.arange(1, num_projects + 1), num_projects)\n",
        "fig, ax = plt.subplots()\n",
        "ax.bar(np.arange(num_projects), project_probabilities)\n",
        "ax.set_ylabel(\"Probability\")\n",
        "ax.set_xlabel(\"Project Index\")\n",
        "_ = ax.set_title(\"Probability of Picking a Project\")"
      ],
      "id": "58d9d25e"
    },
    {
      "cell_type": "markdown",
      "metadata": {},
      "source": [
        "We’ll assume that students populate their preference list by picking\n",
        "from this distribution without replacement."
      ],
      "id": "c0054120-06f2-4fe7-bff0-a6c0acf45ee8"
    },
    {
      "cell_type": "code",
      "execution_count": 4,
      "metadata": {},
      "outputs": [],
      "source": [
        "trunc_ranks = []\n",
        "for _ in range(num_students):\n",
        "    trunc_ranks.append(np.random.choice(np.arange(num_projects), 5, replace=False, p=project_probabilities))\n",
        "\n",
        "trunc_ranks = np.asarray(trunc_ranks).T"
      ],
      "id": "09f3685d"
    },
    {
      "cell_type": "markdown",
      "metadata": {},
      "source": [
        "Now we can solve as before."
      ],
      "id": "cd18d6a5-442b-4467-ad53-d2cf6feba01d"
    },
    {
      "cell_type": "code",
      "execution_count": 5,
      "metadata": {},
      "outputs": [
        {
          "output_type": "stream",
          "name": "stdout",
          "text": [
            "The most dissatisfaction a student has is 0.40/1.0"
          ]
        }
      ],
      "source": [
        "dissatisfaction_matrix = np.zeros((num_projects, num_students)) + omit_cost\n",
        "student_vec = np.arange(num_students)\n",
        "for idx, rank in enumerate(trunc_ranks):\n",
        "    dissatisfaction_matrix[rank, student_vec] = idx\n",
        "dissatisfaction_matrix /= omit_cost # normalize\n",
        "\n",
        "objective = cp.Minimize(cp.trace(dissatisfaction_matrix.T @ assignment_matrix))\n",
        "\n",
        "problem = cp.Problem(objective, constraints)\n",
        "problem.solve()\n",
        "\n",
        "student_dissatisfaction = np.diag(dissatisfaction_matrix.T @ assignment_matrix.value)\n",
        "print(f\"The most dissatisfaction a student has is {np.max(student_dissatisfaction):.2f}/1.0\")"
      ],
      "id": "7f99185d"
    },
    {
      "cell_type": "markdown",
      "metadata": {},
      "source": [
        "As expected, the worst case dissatisfaction did go up. But, you know\n",
        "what I can’t get over?"
      ],
      "id": "829b3560-011f-4288-aa59-0a98698b9b91"
    },
    {
      "cell_type": "code",
      "execution_count": 6,
      "metadata": {},
      "outputs": [
        {
          "output_type": "stream",
          "name": "stdout",
          "text": [
            "Number of students that didn't get anything on their list: 0."
          ]
        }
      ],
      "source": [
        "print(f\"Number of students that didn't get anything on their list: {np.sum(student_dissatisfaction == 1)}.\")"
      ],
      "id": "318d94cc"
    },
    {
      "cell_type": "raw",
      "metadata": {
        "raw_mimetype": "text/html"
      },
      "source": [
        "<!-- REFERENCES -->"
      ],
      "id": "3f950c62-a120-40bf-aeea-5f8d042a6223"
    },
    {
      "cell_type": "raw",
      "metadata": {
        "raw_mimetype": "text/html"
      },
      "source": [
        "<!-- ::: {#refs}\n",
        "## References\n",
        "::: -->"
      ],
      "id": "78035025-2241-42ff-a0a5-cbe41125ee42"
    },
    {
      "cell_type": "raw",
      "metadata": {
        "raw_mimetype": "text/html"
      },
      "source": [
        "<!-- --- -->"
      ],
      "id": "87f7f678-bc46-40f0-a0c4-a38f094513ef"
    },
    {
      "cell_type": "raw",
      "metadata": {
        "raw_mimetype": "text/html"
      },
      "source": [
        "<!-- EDIT HISTORY -->"
      ],
      "id": "cf971e89-f927-498a-b100-46d308760aa4"
    },
    {
      "cell_type": "raw",
      "metadata": {
        "raw_mimetype": "text/html"
      },
      "source": [
        "<!-- ::: {.callout-note}\n",
        "## Edit History\n",
        "\n",
        "- **2025-07-31**: Reformatted for new site\n",
        "::: -->"
      ],
      "id": "7075795a-1014-49a4-a7dc-cb59e22a3286"
    },
    {
      "cell_type": "markdown",
      "metadata": {},
      "source": [
        "------------------------------------------------------------------------"
      ],
      "id": "ebe7f942-4cc1-4a67-993d-fe31b0aed834"
    },
    {
      "cell_type": "raw",
      "metadata": {
        "raw_mimetype": "text/html"
      },
      "source": [
        "<!-- COMMENTS/REACTIONS -->"
      ],
      "id": "4717b157-d429-47a9-9010-a56b099b7c61"
    }
  ],
  "nbformat": 4,
  "nbformat_minor": 5,
  "metadata": {
    "kernelspec": {
      "name": "python3",
      "display_name": "Python 3 (ipykernel)",
      "language": "python",
      "path": "C:"
    },
    "language_info": {
      "name": "python",
      "codemirror_mode": {
        "name": "ipython",
        "version": "3"
      },
      "file_extension": ".py",
      "mimetype": "text/x-python",
      "nbconvert_exporter": "python",
      "pygments_lexer": "ipython3",
      "version": "3.12.3"
    }
  }
}