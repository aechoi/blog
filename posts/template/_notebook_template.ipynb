{
 "cells": [
  {
   "cell_type": "raw",
   "id": "81125258",
   "metadata": {
    "vscode": {
     "languageId": "raw"
    }
   },
   "source": [
    "---\n",
    "title: TITLE\n",
    "date: today\n",
    "# date-modified: last-modified\n",
    "categories: \n",
    "- template\n",
    "bibliography: ref.bibtex\n",
    "draft: true\n",
    "---"
   ]
  },
  {
   "cell_type": "markdown",
   "id": "c9dc60ba",
   "metadata": {},
   "source": [
    "<!-- BODY -->"
   ]
  },
  {
   "cell_type": "raw",
   "id": "dcb66c4e",
   "metadata": {
    "vscode": {
     "languageId": "raw"
    }
   },
   "source": [
    "<!-- REFERENCES -->\n",
    "::: {#refs}\n",
    "## References\n",
    ":::\n",
    "---\n",
    "\n",
    "<!-- EDIT HISTORY -->\n",
    "::: {.callout-note}\n",
    "## Edit History\n",
    "\n",
    "- **20YY-MM-DD**: EDIT NOTE\n",
    ":::\n",
    "\n",
    "---\n",
    "\n",
    "<!-- COMMENTS/REACTIONS -->"
   ]
  }
 ],
 "metadata": {
  "kernelspec": {
   "display_name": "venvWin (3.12.3)",
   "language": "python",
   "name": "python3"
  },
  "language_info": {
   "codemirror_mode": {
    "name": "ipython",
    "version": 3
   },
   "file_extension": ".py",
   "mimetype": "text/x-python",
   "name": "python",
   "nbconvert_exporter": "python",
   "pygments_lexer": "ipython3",
   "version": "3.12.3"
  }
 },
 "nbformat": 4,
 "nbformat_minor": 5
}
