{
  "cells": [
    {
      "cell_type": "markdown",
      "metadata": {},
      "source": [
        "# Waves"
      ],
      "id": "3a959320-87fa-4458-9764-93b0484786c3"
    },
    {
      "cell_type": "raw",
      "metadata": {
        "raw_mimetype": "text/html"
      },
      "source": [
        "<!-- REFERENCES -->"
      ],
      "id": "55e03d90-06c8-4132-8cd3-897d07bca4d3"
    },
    {
      "cell_type": "markdown",
      "metadata": {},
      "source": [
        "## 1 References\n",
        "\n",
        "------------------------------------------------------------------------"
      ],
      "id": "74a3891c-daff-4584-b256-c4ecf383ccaf"
    },
    {
      "cell_type": "raw",
      "metadata": {
        "raw_mimetype": "text/html"
      },
      "source": [
        "<!-- EDIT HISTORY -->"
      ],
      "id": "8b9a5172-2d09-42c4-85da-4e991f44fc6c"
    },
    {
      "cell_type": "markdown",
      "metadata": {},
      "source": [
        "> **Edit History**\n",
        ">\n",
        "> -   **20YY-MM-DD**: EDIT NOTE\n",
        "\n",
        "------------------------------------------------------------------------"
      ],
      "id": "95fdd635-5332-484e-b151-3b8c432a58b7"
    },
    {
      "cell_type": "raw",
      "metadata": {
        "raw_mimetype": "text/html"
      },
      "source": [
        "<!-- COMMENTS/REACTIONS -->"
      ],
      "id": "15254e40-935d-4460-82b5-a8395eb81d68"
    },
    {
      "cell_type": "raw",
      "metadata": {
        "raw_mimetype": "text/html"
      },
      "source": [
        "<script src=\"https://giscus.app/client.js\"\n",
        "        data-repo=\"aechoi/blog\"\n",
        "        data-repo-id=\"R_kgDOPWDacg\"\n",
        "        data-category=\"Announcements\"\n",
        "        data-category-id=\"DIC_kwDOPWDacs4CtpTY\"\n",
        "        data-mapping=\"pathname\"\n",
        "        data-strict=\"0\"\n",
        "        data-reactions-enabled=\"1\"\n",
        "        data-emit-metadata=\"0\"\n",
        "        data-input-position=\"top\"\n",
        "        data-theme=\"light\"\n",
        "        data-lang=\"en\"\n",
        "        data-loading=\"lazy\"\n",
        "        crossorigin=\"anonymous\"\n",
        "        async>\n",
        "</script>"
      ],
      "id": "d67517b8-181c-4eac-8c52-0475b782f85a"
    }
  ],
  "nbformat": 4,
  "nbformat_minor": 5,
  "metadata": {
    "kernelspec": {
      "name": "python3",
      "display_name": "Python 3",
      "language": "python"
    },
    "language_info": {
      "name": "python",
      "codemirror_mode": {
        "name": "ipython",
        "version": "3"
      },
      "file_extension": ".py",
      "mimetype": "text/x-python",
      "nbconvert_exporter": "python",
      "pygments_lexer": "ipython3",
      "version": "3.12.3"
    }
  }
}