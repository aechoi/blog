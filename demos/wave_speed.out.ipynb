{
  "cells": [
    {
      "cell_type": "markdown",
      "metadata": {},
      "source": [
        "# Waves"
      ],
      "id": "da424f09-5f3d-49ca-8ba1-826c5274e3a6"
    },
    {
      "cell_type": "raw",
      "metadata": {
        "raw_mimetype": "text/html"
      },
      "source": [
        "<!-- REFERENCES -->"
      ],
      "id": "d8299d5d-8e42-4d35-9b0c-bcfaa170e293"
    },
    {
      "cell_type": "markdown",
      "metadata": {},
      "source": [
        "## 1 References\n",
        "\n",
        "------------------------------------------------------------------------"
      ],
      "id": "4d29e2e4-644a-46ae-ae29-088f00a2239b"
    },
    {
      "cell_type": "raw",
      "metadata": {
        "raw_mimetype": "text/html"
      },
      "source": [
        "<!-- EDIT HISTORY -->"
      ],
      "id": "37d9ec58-5e9d-4e45-a47e-8b644276dcef"
    },
    {
      "cell_type": "markdown",
      "metadata": {},
      "source": [
        "> **Edit History**\n",
        ">\n",
        "> -   **20YY-MM-DD**: EDIT NOTE\n",
        "\n",
        "------------------------------------------------------------------------"
      ],
      "id": "608b6533-1dfe-4232-a71e-2b37ea08b011"
    },
    {
      "cell_type": "raw",
      "metadata": {
        "raw_mimetype": "text/html"
      },
      "source": [
        "<!-- COMMENTS/REACTIONS -->"
      ],
      "id": "b7b8c26a-0ea7-4656-b196-c3b9cc401421"
    },
    {
      "cell_type": "raw",
      "metadata": {
        "raw_mimetype": "text/html"
      },
      "source": [
        "<script src=\"https://giscus.app/client.js\"\n",
        "        data-repo=\"aechoi/blog\"\n",
        "        data-repo-id=\"R_kgDOPWDacg\"\n",
        "        data-category=\"Announcements\"\n",
        "        data-category-id=\"DIC_kwDOPWDacs4CtpTY\"\n",
        "        data-mapping=\"pathname\"\n",
        "        data-strict=\"0\"\n",
        "        data-reactions-enabled=\"1\"\n",
        "        data-emit-metadata=\"0\"\n",
        "        data-input-position=\"top\"\n",
        "        data-theme=\"light\"\n",
        "        data-lang=\"en\"\n",
        "        data-loading=\"lazy\"\n",
        "        crossorigin=\"anonymous\"\n",
        "        async>\n",
        "</script>"
      ],
      "id": "238410a2-8547-4f71-ad59-634338d95eba"
    }
  ],
  "nbformat": 4,
  "nbformat_minor": 5,
  "metadata": {
    "kernelspec": {
      "name": "python3",
      "display_name": "Python 3",
      "language": "python"
    },
    "language_info": {
      "name": "python",
      "codemirror_mode": {
        "name": "ipython",
        "version": "3"
      },
      "file_extension": ".py",
      "mimetype": "text/x-python",
      "nbconvert_exporter": "python",
      "pygments_lexer": "ipython3",
      "version": "3.12.3"
    }
  }
}