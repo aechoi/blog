{
  "cells": [
    {
      "cell_type": "markdown",
      "metadata": {},
      "source": [
        "# Waves"
      ],
      "id": "02917b83-9edc-4d5a-ab0d-b096a0d4c6f4"
    },
    {
      "cell_type": "raw",
      "metadata": {
        "raw_mimetype": "text/html"
      },
      "source": [
        "<!-- REFERENCES -->"
      ],
      "id": "9142b081-aef6-478a-80e3-af5c9e8a501d"
    },
    {
      "cell_type": "markdown",
      "metadata": {},
      "source": [
        "## 1 References\n",
        "\n",
        "------------------------------------------------------------------------"
      ],
      "id": "de572de6-e42f-4f66-90b4-99817584bce3"
    },
    {
      "cell_type": "raw",
      "metadata": {
        "raw_mimetype": "text/html"
      },
      "source": [
        "<!-- EDIT HISTORY -->"
      ],
      "id": "84c0ba5f-edb9-45ba-986e-2c9800b5bd92"
    },
    {
      "cell_type": "markdown",
      "metadata": {},
      "source": [
        "> **Edit History**\n",
        ">\n",
        "> -   **20YY-MM-DD**: EDIT NOTE\n",
        "\n",
        "------------------------------------------------------------------------"
      ],
      "id": "915a96c8-c3d4-4cac-906a-a238dee87642"
    },
    {
      "cell_type": "raw",
      "metadata": {
        "raw_mimetype": "text/html"
      },
      "source": [
        "<!-- COMMENTS/REACTIONS -->"
      ],
      "id": "fe197d43-4f53-4dfe-bb7a-8a47f0a72e26"
    },
    {
      "cell_type": "raw",
      "metadata": {
        "raw_mimetype": "text/html"
      },
      "source": [
        "<script src=\"https://giscus.app/client.js\"\n",
        "        data-repo=\"aechoi/blog\"\n",
        "        data-repo-id=\"R_kgDOPWDacg\"\n",
        "        data-category=\"Announcements\"\n",
        "        data-category-id=\"DIC_kwDOPWDacs4CtpTY\"\n",
        "        data-mapping=\"pathname\"\n",
        "        data-strict=\"0\"\n",
        "        data-reactions-enabled=\"1\"\n",
        "        data-emit-metadata=\"0\"\n",
        "        data-input-position=\"top\"\n",
        "        data-theme=\"light\"\n",
        "        data-lang=\"en\"\n",
        "        data-loading=\"lazy\"\n",
        "        crossorigin=\"anonymous\"\n",
        "        async>\n",
        "</script>"
      ],
      "id": "5428dca1-3307-45ee-9838-d55b9f03b628"
    }
  ],
  "nbformat": 4,
  "nbformat_minor": 5,
  "metadata": {
    "kernelspec": {
      "name": "python3",
      "display_name": "venvWin (3.12.3)",
      "language": "python"
    },
    "language_info": {
      "name": "python",
      "codemirror_mode": {
        "name": "ipython",
        "version": "3"
      },
      "file_extension": ".py",
      "mimetype": "text/x-python",
      "nbconvert_exporter": "python",
      "pygments_lexer": "ipython3",
      "version": "3.12.3"
    }
  }
}