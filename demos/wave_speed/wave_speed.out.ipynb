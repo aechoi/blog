{
  "cells": [
    {
      "cell_type": "markdown",
      "metadata": {},
      "source": [
        "# Waves"
      ],
      "id": "2f9fe448-045f-4b16-85d9-1a88aaed84c0"
    },
    {
      "cell_type": "raw",
      "metadata": {
        "raw_mimetype": "text/html"
      },
      "source": [
        "<!-- REFERENCES -->"
      ],
      "id": "96bb4096-20da-4870-8329-8158fa66e119"
    },
    {
      "cell_type": "markdown",
      "metadata": {},
      "source": [
        "## 1 References\n",
        "\n",
        "------------------------------------------------------------------------"
      ],
      "id": "a3cceec7-c0f7-4f21-89b0-1e4abb78fd5a"
    },
    {
      "cell_type": "raw",
      "metadata": {
        "raw_mimetype": "text/html"
      },
      "source": [
        "<!-- EDIT HISTORY -->"
      ],
      "id": "896f00f2-aa35-41a3-9b7c-91b7de999553"
    },
    {
      "cell_type": "markdown",
      "metadata": {},
      "source": [
        "> **Edit History**\n",
        ">\n",
        "> -   **20YY-MM-DD**: EDIT NOTE\n",
        "\n",
        "------------------------------------------------------------------------"
      ],
      "id": "180fbec7-07a4-441a-8df6-38ad41dddf28"
    },
    {
      "cell_type": "raw",
      "metadata": {
        "raw_mimetype": "text/html"
      },
      "source": [
        "<!-- COMMENTS/REACTIONS -->"
      ],
      "id": "1e25a248-d977-47cd-9ae6-71e5842285a8"
    },
    {
      "cell_type": "raw",
      "metadata": {
        "raw_mimetype": "text/html"
      },
      "source": [
        "<script src=\"https://giscus.app/client.js\"\n",
        "        data-repo=\"aechoi/blog\"\n",
        "        data-repo-id=\"R_kgDOPWDacg\"\n",
        "        data-category=\"Announcements\"\n",
        "        data-category-id=\"DIC_kwDOPWDacs4CtpTY\"\n",
        "        data-mapping=\"pathname\"\n",
        "        data-strict=\"0\"\n",
        "        data-reactions-enabled=\"1\"\n",
        "        data-emit-metadata=\"0\"\n",
        "        data-input-position=\"top\"\n",
        "        data-theme=\"light\"\n",
        "        data-lang=\"en\"\n",
        "        data-loading=\"lazy\"\n",
        "        crossorigin=\"anonymous\"\n",
        "        async>\n",
        "</script>"
      ],
      "id": "ed962f8b-9b86-4782-9560-2b286d287eca"
    }
  ],
  "nbformat": 4,
  "nbformat_minor": 5,
  "metadata": {
    "kernelspec": {
      "name": "python3",
      "display_name": "venvWin (3.12.3)",
      "language": "python"
    },
    "language_info": {
      "name": "python",
      "codemirror_mode": {
        "name": "ipython",
        "version": "3"
      },
      "file_extension": ".py",
      "mimetype": "text/x-python",
      "nbconvert_exporter": "python",
      "pygments_lexer": "ipython3",
      "version": "3.12.3"
    }
  }
}