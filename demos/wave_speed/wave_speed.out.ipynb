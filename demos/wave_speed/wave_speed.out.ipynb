{
  "cells": [
    {
      "cell_type": "markdown",
      "metadata": {},
      "source": [
        "# Waves"
      ],
      "id": "7971604d-22a0-42d3-8da9-362ef9d5c02f"
    },
    {
      "cell_type": "raw",
      "metadata": {
        "raw_mimetype": "text/html"
      },
      "source": [
        "<!-- REFERENCES -->"
      ],
      "id": "9b755547-b688-4fcb-ae5c-5a38c14edc6a"
    },
    {
      "cell_type": "markdown",
      "metadata": {},
      "source": [
        "## 1 References\n",
        "\n",
        "------------------------------------------------------------------------"
      ],
      "id": "0c50959d-605f-4486-9c87-07e60975bdf8"
    },
    {
      "cell_type": "raw",
      "metadata": {
        "raw_mimetype": "text/html"
      },
      "source": [
        "<!-- EDIT HISTORY -->"
      ],
      "id": "38d0853a-2fff-43a5-bcaf-6176a269d23b"
    },
    {
      "cell_type": "markdown",
      "metadata": {},
      "source": [
        "> **Edit History**\n",
        ">\n",
        "> -   **20YY-MM-DD**: EDIT NOTE\n",
        "\n",
        "------------------------------------------------------------------------"
      ],
      "id": "8b1dc54e-8af6-4773-a913-79d7791c9e79"
    },
    {
      "cell_type": "raw",
      "metadata": {
        "raw_mimetype": "text/html"
      },
      "source": [
        "<!-- COMMENTS/REACTIONS -->"
      ],
      "id": "46eb2577-4b9f-4d53-b73a-95a43290f43a"
    },
    {
      "cell_type": "raw",
      "metadata": {
        "raw_mimetype": "text/html"
      },
      "source": [
        "<script src=\"https://giscus.app/client.js\"\n",
        "        data-repo=\"aechoi/blog\"\n",
        "        data-repo-id=\"R_kgDOPWDacg\"\n",
        "        data-category=\"Announcements\"\n",
        "        data-category-id=\"DIC_kwDOPWDacs4CtpTY\"\n",
        "        data-mapping=\"pathname\"\n",
        "        data-strict=\"0\"\n",
        "        data-reactions-enabled=\"1\"\n",
        "        data-emit-metadata=\"0\"\n",
        "        data-input-position=\"top\"\n",
        "        data-theme=\"light\"\n",
        "        data-lang=\"en\"\n",
        "        data-loading=\"lazy\"\n",
        "        crossorigin=\"anonymous\"\n",
        "        async>\n",
        "</script>"
      ],
      "id": "3b1babda-ef74-4cb7-924c-0a2e172a128d"
    }
  ],
  "nbformat": 4,
  "nbformat_minor": 5,
  "metadata": {
    "kernelspec": {
      "name": "python3",
      "display_name": "Python 3",
      "language": "python"
    },
    "language_info": {
      "name": "python",
      "codemirror_mode": {
        "name": "ipython",
        "version": "3"
      },
      "file_extension": ".py",
      "mimetype": "text/x-python",
      "nbconvert_exporter": "python",
      "pygments_lexer": "ipython3",
      "version": "3.12.3"
    }
  }
}