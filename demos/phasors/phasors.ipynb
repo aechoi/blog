{
 "cells": [
  {
   "cell_type": "raw",
   "id": "81125258",
   "metadata": {
    "vscode": {
     "languageId": "raw"
    }
   },
   "source": [
    "---\n",
    "title: Phasors\n",
    "date: today\n",
    "# date-modified: last-modified\n",
    "draft: true\n",
    "bibliography: ref.bibtex\n",
    "categories: \n",
    "- electrodynamics\n",
    "---"
   ]
  },
  {
   "cell_type": "code",
   "execution_count": 1,
   "id": "08af5d23",
   "metadata": {},
   "outputs": [],
   "source": [
    "import numpy as np\n",
    "import plotly.graph_objects as go\n",
    "import plotly.io as pio\n",
    "from plotly.subplots import make_subplots\n",
    "\n",
    "pio.renderers.default = \"plotly_mimetype+notebook_connected\""
   ]
  },
  {
   "cell_type": "markdown",
   "id": "c9dc60ba",
   "metadata": {},
   "source": [
    "## Introduction\n",
    "\n",
    "For many, phasors can feel a bit mystical. Many students may simply memorize the rules associated with them and run calculations without developing a more fundamental understanding. It's not uncommon for this to be the case at both the undergraduate and graduate level. \n",
    "\n",
    "The goal of this document is to motivate the use of phasors from the ground up, as well as to provide visual representations of complex numbers that make them intuitive to understand. Hopefully by the end, they seem like an obviously good choice for modeling sinusoidal signals. "
   ]
  },
  {
   "cell_type": "markdown",
   "id": "981fdce5",
   "metadata": {},
   "source": [
    "## Preliminaries: Complex Numbers and Euler's Equation\n",
    "\n",
    "Before talking about sinusoids or time domain signals, let's start by coming to grips with Euler's equation. Let's start by asking the question, what does it mean to raise a number to an imaginary power?\n",
    "\n",
    "$$ e^i = ?$$\n",
    "\n",
    "Exponential notation, $e^a$, naivly seems to imply $a$ repeated multiplications of $e$. However, recall that exponents have been extended from natural numbers to whole numbers ($e^0 = 1$), integers ($e^{-a} = 1/e^a$), rational numbers ($e^{1/2} = \\sqrt{e}$), and real numbers ([$e^\\pi - \\pi = 20$](https://xkcd.com/217/)). None of these hold on to the concept of repeated multiplication. Instead, they use a different property of exponentiation to derive these relationships (namely, $e^ae^b=e^{a+b} \\implies \\exp(a)\\exp(b) = \\exp(a+b)$).\n",
    "\n",
    "The properties of exponentials can be generalized further to accept complex inputs. Just like how exponentiation can be generalized from repeated multiplication to a function that relates the product of outputs to the sum of inputs, it can be generalized again such that it is a function that is its own derivative.\n",
    "\n",
    "$$\n",
    "e^x = \\frac{\\text{d}e^x}{\\text{d}x}\n",
    "$$\n",
    "\n",
    "We will first derive Euler's Equation, then examine some of its properties.\n",
    "\n",
    "### Deriving Euler's Equation from Picard Iterates\n",
    "\n",
    "Say we want to define a function, $f(x)$, that is equal to its own derivative.\n",
    "$$f(x) = f'(x)$$\n",
    "\n",
    "You may already know what the answer is, but let's try to rederive it. We'll start by making a guess.\n",
    "$$f_0(x) = 1$$\n",
    "\n",
    "This is a pretty bad guess. We know that $f_0'(x) = 0$, but we need $f_0'(x) = f_0(x) = 1$. \n",
    "\n",
    "Watch how we'll improve this iteratively (for a truly rigorous treatment, see [Picard Iterates](https://en.wikipedia.org/wiki/Picard–Lindelöf_theorem)). \n",
    "\n",
    "\\begin{align}\n",
    "f_0(x) &= 1 \\\\\n",
    "f'_0(x) &= 0\\\\\n",
    "\\\\\n",
    "f_1(x) &= 1+x \\\\\n",
    "f_1'(x) &= 1\\\\\n",
    "\\\\\n",
    "f_2(x) &= 1 + x + \\frac{1}{2}x^2 \\\\\n",
    "f'_2(x) &= 1 + x\\\\\n",
    "\n",
    "&\\vdots \\\\\n",
    "\n",
    "f(x) &= 1 + x + \\frac{x^2}{2!} + \\frac{x^3}{3!} + \\dots = \\sum_{k=0}^\\infty \\frac{x^k}{k!}\\\\\n",
    "f'(x) &= 1 + x + \\frac{x^2}{2!} + \\frac{x^3}{3!} + \\dots = \\sum_{k=0}^\\infty \\frac{x^k}{k!}\n",
    "\\end{align}\n",
    "\n",
    "We end up with a familiar equation for the Taylor expansion of $e^x$. Notationally, we can keep the form of $e^x$, but semantically we should refer to this infinite sum. \n",
    "\n",
    "::: {.callout-note}\n",
    "## Exercise\n",
    "\n",
    "Verify that this does in fact satisfy the product rule for exponentials ($e^ae^b = e^{a+b}$). Convince yourself that every other property of exponentials will hold.\n",
    "\n",
    ":::\n",
    "\n",
    "With this form, we can simply plug in $i$ as an argument to see what the result is. In other words: \n",
    "$$e^i = 1 +i +\\frac{-1}{2} + i\\frac{-1}{3!} +\\dots$$\n",
    "\n",
    "The above is just some complex number. It doesn't really simplify well, but we can try extracting some structure by evaluating $e^{i\\theta}$ where $\\theta \\in \\mathbb R$.\n",
    "\n",
    "$$e^{i\\theta} = 1 + i\\theta + \\frac{-\\theta^2}{2} + i\\frac{-\\theta^3}{3!} + \\dots \\\\\n",
    "= \\left(1 - \\frac{\\theta^2}{2} + \\dots \\right) + i\\left(\\theta - \\frac{\\theta^3}{3!} + \\dots \\right)$$\n",
    "\n",
    "If you recall your Taylor Series, you may recognize the right hand side as the series for $\\cos{\\theta}$ and $\\sin{\\theta}$. Resulting in\n",
    "\n",
    "$$e^{i\\theta} = \\cos{\\theta} + i\\sin{\\theta}$$\n",
    "\n",
    "Thus, we rederive Euler's Equation.\n",
    "\n",
    "::: {.callout-info}\n",
    "\n",
    "The complex exponential of every other base can be obtained by recalling the property that $a^{i\\theta} = (e^{\\ln a})^{i\\theta} = e^{i\\theta\\ln a}$\n",
    "\n",
    ":::\n",
    "\n",
    "### Properties of Euler's Equation\n",
    "Euler's equation evaluates to some complex number. Plotting this number on the complex plane, we see that $\\theta$ corresponds to the angle between the real axis and the point. "
   ]
  },
  {
   "cell_type": "code",
   "execution_count": 2,
   "id": "03977f80",
   "metadata": {},
   "outputs": [
    {
     "data": {
      "text/html": [
       "        <script type=\"text/javascript\">\n",
       "        window.PlotlyConfig = {MathJaxConfig: 'local'};\n",
       "        if (window.MathJax && window.MathJax.Hub && window.MathJax.Hub.Config) {window.MathJax.Hub.Config({SVG: {font: \"STIX-Web\"}});}\n",
       "        </script>\n",
       "        <script type=\"module\">import \"https://cdn.plot.ly/plotly-3.0.1.min\"</script>\n",
       "        "
      ]
     },
     "metadata": {},
     "output_type": "display_data"
    },
    {
     "data": {
      "application/vnd.plotly.v1+json": {
       "config": {
        "plotlyServerURL": "https://plot.ly"
       },
       "data": [
        {
         "line": {
          "color": "blue",
          "width": 3
         },
         "mode": "lines",
         "name": "vector",
         "type": "scatter",
         "x": [
          0,
          1.0
         ],
         "xaxis": "x",
         "y": [
          0,
          0.0
         ],
         "yaxis": "y"
        },
        {
         "line": {
          "color": "red",
          "width": 3
         },
         "mode": "lines",
         "name": "real",
         "type": "scatter",
         "x": [
          0,
          1.0
         ],
         "xaxis": "x",
         "y": [
          0.0,
          0.0
         ],
         "yaxis": "y"
        },
        {
         "marker": {
          "color": "black"
         },
         "mode": "markers",
         "name": "point",
         "type": "scatter",
         "x": [
          1.0
         ],
         "xaxis": "x",
         "y": [
          0.0
         ],
         "yaxis": "y"
        },
        {
         "line": {
          "color": "blue",
          "width": 3
         },
         "mode": "lines",
         "name": "signal",
         "type": "scatter",
         "x": [
          0,
          1
         ],
         "xaxis": "x2",
         "y": [
          1.0,
          1.0
         ],
         "yaxis": "y2"
        },
        {
         "line": {
          "color": "red",
          "width": 3
         },
         "mode": "lines",
         "name": "real",
         "type": "scatter",
         "x": [
          0,
          0
         ],
         "xaxis": "x2",
         "y": [
          0,
          1.0
         ],
         "yaxis": "y2"
        },
        {
         "marker": {
          "color": "black"
         },
         "mode": "markers",
         "name": "point",
         "type": "scatter",
         "x": [
          0
         ],
         "xaxis": "x2",
         "y": [
          1.0
         ],
         "yaxis": "y2"
        }
       ],
       "frames": [
        {
         "data": [
          {
           "line": {
            "width": 3
           },
           "mode": "lines",
           "type": "scatter",
           "x": [
            0,
            1.0
           ],
           "y": [
            0,
            0.0
           ]
          },
          {
           "line": {
            "width": 3
           },
           "mode": "lines",
           "type": "scatter",
           "x": [
            0,
            1.0
           ],
           "y": [
            0.0,
            0.0
           ]
          },
          {
           "mode": "markers",
           "type": "scatter",
           "x": [
            1.0
           ],
           "y": [
            0.0
           ]
          },
          {
           "type": "scatter",
           "x": [
            0,
            1
           ],
           "y": [
            1.0,
            1.0
           ]
          },
          {
           "type": "scatter",
           "x": [
            0,
            0
           ],
           "y": [
            0,
            1.0
           ]
          },
          {
           "type": "scatter",
           "x": [
            0
           ],
           "y": [
            1.0
           ]
          }
         ],
         "name": "0"
        },
        {
         "data": [
          {
           "line": {
            "width": 3
           },
           "mode": "lines",
           "type": "scatter",
           "x": [
            0,
            0.9921147013144779
           ],
           "y": [
            0,
            0.12533323356430426
           ]
          },
          {
           "line": {
            "width": 3
           },
           "mode": "lines",
           "type": "scatter",
           "x": [
            0,
            0.9921147013144779
           ],
           "y": [
            0.12533323356430426,
            0.12533323356430426
           ]
          },
          {
           "mode": "markers",
           "type": "scatter",
           "x": [
            0.9921147013144779
           ],
           "y": [
            0.12533323356430426
           ]
          },
          {
           "type": "scatter",
           "x": [
            0,
            1
           ],
           "y": [
            0.9921147013144779,
            0.9921147013144779
           ]
          },
          {
           "type": "scatter",
           "x": [
            0,
            0
           ],
           "y": [
            0,
            0.9921147013144779
           ]
          },
          {
           "type": "scatter",
           "x": [
            0
           ],
           "y": [
            0.9921147013144779
           ]
          }
         ],
         "name": "1"
        },
        {
         "data": [
          {
           "line": {
            "width": 3
           },
           "mode": "lines",
           "type": "scatter",
           "x": [
            0,
            0.9685831611286311
           ],
           "y": [
            0,
            0.2486898871648548
           ]
          },
          {
           "line": {
            "width": 3
           },
           "mode": "lines",
           "type": "scatter",
           "x": [
            0,
            0.9685831611286311
           ],
           "y": [
            0.2486898871648548,
            0.2486898871648548
           ]
          },
          {
           "mode": "markers",
           "type": "scatter",
           "x": [
            0.9685831611286311
           ],
           "y": [
            0.2486898871648548
           ]
          },
          {
           "type": "scatter",
           "x": [
            0,
            1
           ],
           "y": [
            0.9685831611286311,
            0.9685831611286311
           ]
          },
          {
           "type": "scatter",
           "x": [
            0,
            0
           ],
           "y": [
            0,
            0.9685831611286311
           ]
          },
          {
           "type": "scatter",
           "x": [
            0
           ],
           "y": [
            0.9685831611286311
           ]
          }
         ],
         "name": "2"
        },
        {
         "data": [
          {
           "line": {
            "width": 3
           },
           "mode": "lines",
           "type": "scatter",
           "x": [
            0,
            0.9297764858882513
           ],
           "y": [
            0,
            0.368124552684678
           ]
          },
          {
           "line": {
            "width": 3
           },
           "mode": "lines",
           "type": "scatter",
           "x": [
            0,
            0.9297764858882513
           ],
           "y": [
            0.368124552684678,
            0.368124552684678
           ]
          },
          {
           "mode": "markers",
           "type": "scatter",
           "x": [
            0.9297764858882513
           ],
           "y": [
            0.368124552684678
           ]
          },
          {
           "type": "scatter",
           "x": [
            0,
            1
           ],
           "y": [
            0.9297764858882513,
            0.9297764858882513
           ]
          },
          {
           "type": "scatter",
           "x": [
            0,
            0
           ],
           "y": [
            0,
            0.9297764858882513
           ]
          },
          {
           "type": "scatter",
           "x": [
            0
           ],
           "y": [
            0.9297764858882513
           ]
          }
         ],
         "name": "3"
        },
        {
         "data": [
          {
           "line": {
            "width": 3
           },
           "mode": "lines",
           "type": "scatter",
           "x": [
            0,
            0.8763066800438636
           ],
           "y": [
            0,
            0.4817536741017153
           ]
          },
          {
           "line": {
            "width": 3
           },
           "mode": "lines",
           "type": "scatter",
           "x": [
            0,
            0.8763066800438636
           ],
           "y": [
            0.4817536741017153,
            0.4817536741017153
           ]
          },
          {
           "mode": "markers",
           "type": "scatter",
           "x": [
            0.8763066800438636
           ],
           "y": [
            0.4817536741017153
           ]
          },
          {
           "type": "scatter",
           "x": [
            0,
            1
           ],
           "y": [
            0.8763066800438636,
            0.8763066800438636
           ]
          },
          {
           "type": "scatter",
           "x": [
            0,
            0
           ],
           "y": [
            0,
            0.8763066800438636
           ]
          },
          {
           "type": "scatter",
           "x": [
            0
           ],
           "y": [
            0.8763066800438636
           ]
          }
         ],
         "name": "4"
        },
        {
         "data": [
          {
           "line": {
            "width": 3
           },
           "mode": "lines",
           "type": "scatter",
           "x": [
            0,
            0.8090169943749475
           ],
           "y": [
            0,
            0.5877852522924731
           ]
          },
          {
           "line": {
            "width": 3
           },
           "mode": "lines",
           "type": "scatter",
           "x": [
            0,
            0.8090169943749475
           ],
           "y": [
            0.5877852522924731,
            0.5877852522924731
           ]
          },
          {
           "mode": "markers",
           "type": "scatter",
           "x": [
            0.8090169943749475
           ],
           "y": [
            0.5877852522924731
           ]
          },
          {
           "type": "scatter",
           "x": [
            0,
            1
           ],
           "y": [
            0.8090169943749475,
            0.8090169943749475
           ]
          },
          {
           "type": "scatter",
           "x": [
            0,
            0
           ],
           "y": [
            0,
            0.8090169943749475
           ]
          },
          {
           "type": "scatter",
           "x": [
            0
           ],
           "y": [
            0.8090169943749475
           ]
          }
         ],
         "name": "5"
        },
        {
         "data": [
          {
           "line": {
            "width": 3
           },
           "mode": "lines",
           "type": "scatter",
           "x": [
            0,
            0.7289686274214116
           ],
           "y": [
            0,
            0.6845471059286887
           ]
          },
          {
           "line": {
            "width": 3
           },
           "mode": "lines",
           "type": "scatter",
           "x": [
            0,
            0.7289686274214116
           ],
           "y": [
            0.6845471059286887,
            0.6845471059286887
           ]
          },
          {
           "mode": "markers",
           "type": "scatter",
           "x": [
            0.7289686274214116
           ],
           "y": [
            0.6845471059286887
           ]
          },
          {
           "type": "scatter",
           "x": [
            0,
            1
           ],
           "y": [
            0.7289686274214116,
            0.7289686274214116
           ]
          },
          {
           "type": "scatter",
           "x": [
            0,
            0
           ],
           "y": [
            0,
            0.7289686274214116
           ]
          },
          {
           "type": "scatter",
           "x": [
            0
           ],
           "y": [
            0.7289686274214116
           ]
          }
         ],
         "name": "6"
        },
        {
         "data": [
          {
           "line": {
            "width": 3
           },
           "mode": "lines",
           "type": "scatter",
           "x": [
            0,
            0.6374239897486896
           ],
           "y": [
            0,
            0.7705132427757893
           ]
          },
          {
           "line": {
            "width": 3
           },
           "mode": "lines",
           "type": "scatter",
           "x": [
            0,
            0.6374239897486896
           ],
           "y": [
            0.7705132427757893,
            0.7705132427757893
           ]
          },
          {
           "mode": "markers",
           "type": "scatter",
           "x": [
            0.6374239897486896
           ],
           "y": [
            0.7705132427757893
           ]
          },
          {
           "type": "scatter",
           "x": [
            0,
            1
           ],
           "y": [
            0.6374239897486896,
            0.6374239897486896
           ]
          },
          {
           "type": "scatter",
           "x": [
            0,
            0
           ],
           "y": [
            0,
            0.6374239897486896
           ]
          },
          {
           "type": "scatter",
           "x": [
            0
           ],
           "y": [
            0.6374239897486896
           ]
          }
         ],
         "name": "7"
        },
        {
         "data": [
          {
           "line": {
            "width": 3
           },
           "mode": "lines",
           "type": "scatter",
           "x": [
            0,
            0.5358267949789965
           ],
           "y": [
            0,
            0.8443279255020151
           ]
          },
          {
           "line": {
            "width": 3
           },
           "mode": "lines",
           "type": "scatter",
           "x": [
            0,
            0.5358267949789965
           ],
           "y": [
            0.8443279255020151,
            0.8443279255020151
           ]
          },
          {
           "mode": "markers",
           "type": "scatter",
           "x": [
            0.5358267949789965
           ],
           "y": [
            0.8443279255020151
           ]
          },
          {
           "type": "scatter",
           "x": [
            0,
            1
           ],
           "y": [
            0.5358267949789965,
            0.5358267949789965
           ]
          },
          {
           "type": "scatter",
           "x": [
            0,
            0
           ],
           "y": [
            0,
            0.5358267949789965
           ]
          },
          {
           "type": "scatter",
           "x": [
            0
           ],
           "y": [
            0.5358267949789965
           ]
          }
         ],
         "name": "8"
        },
        {
         "data": [
          {
           "line": {
            "width": 3
           },
           "mode": "lines",
           "type": "scatter",
           "x": [
            0,
            0.42577929156507266
           ],
           "y": [
            0,
            0.9048270524660196
           ]
          },
          {
           "line": {
            "width": 3
           },
           "mode": "lines",
           "type": "scatter",
           "x": [
            0,
            0.42577929156507266
           ],
           "y": [
            0.9048270524660196,
            0.9048270524660196
           ]
          },
          {
           "mode": "markers",
           "type": "scatter",
           "x": [
            0.42577929156507266
           ],
           "y": [
            0.9048270524660196
           ]
          },
          {
           "type": "scatter",
           "x": [
            0,
            1
           ],
           "y": [
            0.42577929156507266,
            0.42577929156507266
           ]
          },
          {
           "type": "scatter",
           "x": [
            0,
            0
           ],
           "y": [
            0,
            0.42577929156507266
           ]
          },
          {
           "type": "scatter",
           "x": [
            0
           ],
           "y": [
            0.42577929156507266
           ]
          }
         ],
         "name": "9"
        },
        {
         "data": [
          {
           "line": {
            "width": 3
           },
           "mode": "lines",
           "type": "scatter",
           "x": [
            0,
            0.30901699437494745
           ],
           "y": [
            0,
            0.9510565162951535
           ]
          },
          {
           "line": {
            "width": 3
           },
           "mode": "lines",
           "type": "scatter",
           "x": [
            0,
            0.30901699437494745
           ],
           "y": [
            0.9510565162951535,
            0.9510565162951535
           ]
          },
          {
           "mode": "markers",
           "type": "scatter",
           "x": [
            0.30901699437494745
           ],
           "y": [
            0.9510565162951535
           ]
          },
          {
           "type": "scatter",
           "x": [
            0,
            1
           ],
           "y": [
            0.30901699437494745,
            0.30901699437494745
           ]
          },
          {
           "type": "scatter",
           "x": [
            0,
            0
           ],
           "y": [
            0,
            0.30901699437494745
           ]
          },
          {
           "type": "scatter",
           "x": [
            0
           ],
           "y": [
            0.30901699437494745
           ]
          }
         ],
         "name": "10"
        },
        {
         "data": [
          {
           "line": {
            "width": 3
           },
           "mode": "lines",
           "type": "scatter",
           "x": [
            0,
            0.18738131458572452
           ],
           "y": [
            0,
            0.9822872507286887
           ]
          },
          {
           "line": {
            "width": 3
           },
           "mode": "lines",
           "type": "scatter",
           "x": [
            0,
            0.18738131458572452
           ],
           "y": [
            0.9822872507286887,
            0.9822872507286887
           ]
          },
          {
           "mode": "markers",
           "type": "scatter",
           "x": [
            0.18738131458572452
           ],
           "y": [
            0.9822872507286887
           ]
          },
          {
           "type": "scatter",
           "x": [
            0,
            1
           ],
           "y": [
            0.18738131458572452,
            0.18738131458572452
           ]
          },
          {
           "type": "scatter",
           "x": [
            0,
            0
           ],
           "y": [
            0,
            0.18738131458572452
           ]
          },
          {
           "type": "scatter",
           "x": [
            0
           ],
           "y": [
            0.18738131458572452
           ]
          }
         ],
         "name": "11"
        },
        {
         "data": [
          {
           "line": {
            "width": 3
           },
           "mode": "lines",
           "type": "scatter",
           "x": [
            0,
            0.0627905195293133
           ],
           "y": [
            0,
            0.9980267284282716
           ]
          },
          {
           "line": {
            "width": 3
           },
           "mode": "lines",
           "type": "scatter",
           "x": [
            0,
            0.0627905195293133
           ],
           "y": [
            0.9980267284282716,
            0.9980267284282716
           ]
          },
          {
           "mode": "markers",
           "type": "scatter",
           "x": [
            0.0627905195293133
           ],
           "y": [
            0.9980267284282716
           ]
          },
          {
           "type": "scatter",
           "x": [
            0,
            1
           ],
           "y": [
            0.0627905195293133,
            0.0627905195293133
           ]
          },
          {
           "type": "scatter",
           "x": [
            0,
            0
           ],
           "y": [
            0,
            0.0627905195293133
           ]
          },
          {
           "type": "scatter",
           "x": [
            0
           ],
           "y": [
            0.0627905195293133
           ]
          }
         ],
         "name": "12"
        },
        {
         "data": [
          {
           "line": {
            "width": 3
           },
           "mode": "lines",
           "type": "scatter",
           "x": [
            0,
            -0.0627905195293134
           ],
           "y": [
            0,
            0.9980267284282716
           ]
          },
          {
           "line": {
            "width": 3
           },
           "mode": "lines",
           "type": "scatter",
           "x": [
            0,
            -0.0627905195293134
           ],
           "y": [
            0.9980267284282716,
            0.9980267284282716
           ]
          },
          {
           "mode": "markers",
           "type": "scatter",
           "x": [
            -0.0627905195293134
           ],
           "y": [
            0.9980267284282716
           ]
          },
          {
           "type": "scatter",
           "x": [
            0,
            1
           ],
           "y": [
            -0.0627905195293134,
            -0.0627905195293134
           ]
          },
          {
           "type": "scatter",
           "x": [
            0,
            0
           ],
           "y": [
            0,
            -0.0627905195293134
           ]
          },
          {
           "type": "scatter",
           "x": [
            0
           ],
           "y": [
            -0.0627905195293134
           ]
          }
         ],
         "name": "13"
        },
        {
         "data": [
          {
           "line": {
            "width": 3
           },
           "mode": "lines",
           "type": "scatter",
           "x": [
            0,
            -0.18738131458572482
           ],
           "y": [
            0,
            0.9822872507286886
           ]
          },
          {
           "line": {
            "width": 3
           },
           "mode": "lines",
           "type": "scatter",
           "x": [
            0,
            -0.18738131458572482
           ],
           "y": [
            0.9822872507286886,
            0.9822872507286886
           ]
          },
          {
           "mode": "markers",
           "type": "scatter",
           "x": [
            -0.18738131458572482
           ],
           "y": [
            0.9822872507286886
           ]
          },
          {
           "type": "scatter",
           "x": [
            0,
            1
           ],
           "y": [
            -0.18738131458572482,
            -0.18738131458572482
           ]
          },
          {
           "type": "scatter",
           "x": [
            0,
            0
           ],
           "y": [
            0,
            -0.18738131458572482
           ]
          },
          {
           "type": "scatter",
           "x": [
            0
           ],
           "y": [
            -0.18738131458572482
           ]
          }
         ],
         "name": "14"
        },
        {
         "data": [
          {
           "line": {
            "width": 3
           },
           "mode": "lines",
           "type": "scatter",
           "x": [
            0,
            -0.30901699437494756
           ],
           "y": [
            0,
            0.9510565162951535
           ]
          },
          {
           "line": {
            "width": 3
           },
           "mode": "lines",
           "type": "scatter",
           "x": [
            0,
            -0.30901699437494756
           ],
           "y": [
            0.9510565162951535,
            0.9510565162951535
           ]
          },
          {
           "mode": "markers",
           "type": "scatter",
           "x": [
            -0.30901699437494756
           ],
           "y": [
            0.9510565162951535
           ]
          },
          {
           "type": "scatter",
           "x": [
            0,
            1
           ],
           "y": [
            -0.30901699437494756,
            -0.30901699437494756
           ]
          },
          {
           "type": "scatter",
           "x": [
            0,
            0
           ],
           "y": [
            0,
            -0.30901699437494756
           ]
          },
          {
           "type": "scatter",
           "x": [
            0
           ],
           "y": [
            -0.30901699437494756
           ]
          }
         ],
         "name": "15"
        },
        {
         "data": [
          {
           "line": {
            "width": 3
           },
           "mode": "lines",
           "type": "scatter",
           "x": [
            0,
            -0.4257792915650727
           ],
           "y": [
            0,
            0.9048270524660195
           ]
          },
          {
           "line": {
            "width": 3
           },
           "mode": "lines",
           "type": "scatter",
           "x": [
            0,
            -0.4257792915650727
           ],
           "y": [
            0.9048270524660195,
            0.9048270524660195
           ]
          },
          {
           "mode": "markers",
           "type": "scatter",
           "x": [
            -0.4257792915650727
           ],
           "y": [
            0.9048270524660195
           ]
          },
          {
           "type": "scatter",
           "x": [
            0,
            1
           ],
           "y": [
            -0.4257792915650727,
            -0.4257792915650727
           ]
          },
          {
           "type": "scatter",
           "x": [
            0,
            0
           ],
           "y": [
            0,
            -0.4257792915650727
           ]
          },
          {
           "type": "scatter",
           "x": [
            0
           ],
           "y": [
            -0.4257792915650727
           ]
          }
         ],
         "name": "16"
        },
        {
         "data": [
          {
           "line": {
            "width": 3
           },
           "mode": "lines",
           "type": "scatter",
           "x": [
            0,
            -0.5358267949789969
           ],
           "y": [
            0,
            0.844327925502015
           ]
          },
          {
           "line": {
            "width": 3
           },
           "mode": "lines",
           "type": "scatter",
           "x": [
            0,
            -0.5358267949789969
           ],
           "y": [
            0.844327925502015,
            0.844327925502015
           ]
          },
          {
           "mode": "markers",
           "type": "scatter",
           "x": [
            -0.5358267949789969
           ],
           "y": [
            0.844327925502015
           ]
          },
          {
           "type": "scatter",
           "x": [
            0,
            1
           ],
           "y": [
            -0.5358267949789969,
            -0.5358267949789969
           ]
          },
          {
           "type": "scatter",
           "x": [
            0,
            0
           ],
           "y": [
            0,
            -0.5358267949789969
           ]
          },
          {
           "type": "scatter",
           "x": [
            0
           ],
           "y": [
            -0.5358267949789969
           ]
          }
         ],
         "name": "17"
        },
        {
         "data": [
          {
           "line": {
            "width": 3
           },
           "mode": "lines",
           "type": "scatter",
           "x": [
            0,
            -0.6374239897486897
           ],
           "y": [
            0,
            0.7705132427757893
           ]
          },
          {
           "line": {
            "width": 3
           },
           "mode": "lines",
           "type": "scatter",
           "x": [
            0,
            -0.6374239897486897
           ],
           "y": [
            0.7705132427757893,
            0.7705132427757893
           ]
          },
          {
           "mode": "markers",
           "type": "scatter",
           "x": [
            -0.6374239897486897
           ],
           "y": [
            0.7705132427757893
           ]
          },
          {
           "type": "scatter",
           "x": [
            0,
            1
           ],
           "y": [
            -0.6374239897486897,
            -0.6374239897486897
           ]
          },
          {
           "type": "scatter",
           "x": [
            0,
            0
           ],
           "y": [
            0,
            -0.6374239897486897
           ]
          },
          {
           "type": "scatter",
           "x": [
            0
           ],
           "y": [
            -0.6374239897486897
           ]
          }
         ],
         "name": "18"
        },
        {
         "data": [
          {
           "line": {
            "width": 3
           },
           "mode": "lines",
           "type": "scatter",
           "x": [
            0,
            -0.7289686274214117
           ],
           "y": [
            0,
            0.6845471059286885
           ]
          },
          {
           "line": {
            "width": 3
           },
           "mode": "lines",
           "type": "scatter",
           "x": [
            0,
            -0.7289686274214117
           ],
           "y": [
            0.6845471059286885,
            0.6845471059286885
           ]
          },
          {
           "mode": "markers",
           "type": "scatter",
           "x": [
            -0.7289686274214117
           ],
           "y": [
            0.6845471059286885
           ]
          },
          {
           "type": "scatter",
           "x": [
            0,
            1
           ],
           "y": [
            -0.7289686274214117,
            -0.7289686274214117
           ]
          },
          {
           "type": "scatter",
           "x": [
            0,
            0
           ],
           "y": [
            0,
            -0.7289686274214117
           ]
          },
          {
           "type": "scatter",
           "x": [
            0
           ],
           "y": [
            -0.7289686274214117
           ]
          }
         ],
         "name": "19"
        },
        {
         "data": [
          {
           "line": {
            "width": 3
           },
           "mode": "lines",
           "type": "scatter",
           "x": [
            0,
            -0.8090169943749473
           ],
           "y": [
            0,
            0.5877852522924732
           ]
          },
          {
           "line": {
            "width": 3
           },
           "mode": "lines",
           "type": "scatter",
           "x": [
            0,
            -0.8090169943749473
           ],
           "y": [
            0.5877852522924732,
            0.5877852522924732
           ]
          },
          {
           "mode": "markers",
           "type": "scatter",
           "x": [
            -0.8090169943749473
           ],
           "y": [
            0.5877852522924732
           ]
          },
          {
           "type": "scatter",
           "x": [
            0,
            1
           ],
           "y": [
            -0.8090169943749473,
            -0.8090169943749473
           ]
          },
          {
           "type": "scatter",
           "x": [
            0,
            0
           ],
           "y": [
            0,
            -0.8090169943749473
           ]
          },
          {
           "type": "scatter",
           "x": [
            0
           ],
           "y": [
            -0.8090169943749473
           ]
          }
         ],
         "name": "20"
        },
        {
         "data": [
          {
           "line": {
            "width": 3
           },
           "mode": "lines",
           "type": "scatter",
           "x": [
            0,
            -0.8763066800438636
           ],
           "y": [
            0,
            0.4817536741017152
           ]
          },
          {
           "line": {
            "width": 3
           },
           "mode": "lines",
           "type": "scatter",
           "x": [
            0,
            -0.8763066800438636
           ],
           "y": [
            0.4817536741017152,
            0.4817536741017152
           ]
          },
          {
           "mode": "markers",
           "type": "scatter",
           "x": [
            -0.8763066800438636
           ],
           "y": [
            0.4817536741017152
           ]
          },
          {
           "type": "scatter",
           "x": [
            0,
            1
           ],
           "y": [
            -0.8763066800438636,
            -0.8763066800438636
           ]
          },
          {
           "type": "scatter",
           "x": [
            0,
            0
           ],
           "y": [
            0,
            -0.8763066800438636
           ]
          },
          {
           "type": "scatter",
           "x": [
            0
           ],
           "y": [
            -0.8763066800438636
           ]
          }
         ],
         "name": "21"
        },
        {
         "data": [
          {
           "line": {
            "width": 3
           },
           "mode": "lines",
           "type": "scatter",
           "x": [
            0,
            -0.9297764858882515
           ],
           "y": [
            0,
            0.36812455268467775
           ]
          },
          {
           "line": {
            "width": 3
           },
           "mode": "lines",
           "type": "scatter",
           "x": [
            0,
            -0.9297764858882515
           ],
           "y": [
            0.36812455268467775,
            0.36812455268467775
           ]
          },
          {
           "mode": "markers",
           "type": "scatter",
           "x": [
            -0.9297764858882515
           ],
           "y": [
            0.36812455268467775
           ]
          },
          {
           "type": "scatter",
           "x": [
            0,
            1
           ],
           "y": [
            -0.9297764858882515,
            -0.9297764858882515
           ]
          },
          {
           "type": "scatter",
           "x": [
            0,
            0
           ],
           "y": [
            0,
            -0.9297764858882515
           ]
          },
          {
           "type": "scatter",
           "x": [
            0
           ],
           "y": [
            -0.9297764858882515
           ]
          }
         ],
         "name": "22"
        },
        {
         "data": [
          {
           "line": {
            "width": 3
           },
           "mode": "lines",
           "type": "scatter",
           "x": [
            0,
            -0.9685831611286311
           ],
           "y": [
            0,
            0.24868988716485482
           ]
          },
          {
           "line": {
            "width": 3
           },
           "mode": "lines",
           "type": "scatter",
           "x": [
            0,
            -0.9685831611286311
           ],
           "y": [
            0.24868988716485482,
            0.24868988716485482
           ]
          },
          {
           "mode": "markers",
           "type": "scatter",
           "x": [
            -0.9685831611286311
           ],
           "y": [
            0.24868988716485482
           ]
          },
          {
           "type": "scatter",
           "x": [
            0,
            1
           ],
           "y": [
            -0.9685831611286311,
            -0.9685831611286311
           ]
          },
          {
           "type": "scatter",
           "x": [
            0,
            0
           ],
           "y": [
            0,
            -0.9685831611286311
           ]
          },
          {
           "type": "scatter",
           "x": [
            0
           ],
           "y": [
            -0.9685831611286311
           ]
          }
         ],
         "name": "23"
        },
        {
         "data": [
          {
           "line": {
            "width": 3
           },
           "mode": "lines",
           "type": "scatter",
           "x": [
            0,
            -0.9921147013144779
           ],
           "y": [
            0,
            0.1253332335643041
           ]
          },
          {
           "line": {
            "width": 3
           },
           "mode": "lines",
           "type": "scatter",
           "x": [
            0,
            -0.9921147013144779
           ],
           "y": [
            0.1253332335643041,
            0.1253332335643041
           ]
          },
          {
           "mode": "markers",
           "type": "scatter",
           "x": [
            -0.9921147013144779
           ],
           "y": [
            0.1253332335643041
           ]
          },
          {
           "type": "scatter",
           "x": [
            0,
            1
           ],
           "y": [
            -0.9921147013144779,
            -0.9921147013144779
           ]
          },
          {
           "type": "scatter",
           "x": [
            0,
            0
           ],
           "y": [
            0,
            -0.9921147013144779
           ]
          },
          {
           "type": "scatter",
           "x": [
            0
           ],
           "y": [
            -0.9921147013144779
           ]
          }
         ],
         "name": "24"
        },
        {
         "data": [
          {
           "line": {
            "width": 3
           },
           "mode": "lines",
           "type": "scatter",
           "x": [
            0,
            -1.0
           ],
           "y": [
            0,
            -3.216245299353273e-16
           ]
          },
          {
           "line": {
            "width": 3
           },
           "mode": "lines",
           "type": "scatter",
           "x": [
            0,
            -1.0
           ],
           "y": [
            -3.216245299353273e-16,
            -3.216245299353273e-16
           ]
          },
          {
           "mode": "markers",
           "type": "scatter",
           "x": [
            -1.0
           ],
           "y": [
            -3.216245299353273e-16
           ]
          },
          {
           "type": "scatter",
           "x": [
            0,
            1
           ],
           "y": [
            -1.0,
            -1.0
           ]
          },
          {
           "type": "scatter",
           "x": [
            0,
            0
           ],
           "y": [
            0,
            -1.0
           ]
          },
          {
           "type": "scatter",
           "x": [
            0
           ],
           "y": [
            -1.0
           ]
          }
         ],
         "name": "25"
        },
        {
         "data": [
          {
           "line": {
            "width": 3
           },
           "mode": "lines",
           "type": "scatter",
           "x": [
            0,
            -0.9921147013144779
           ],
           "y": [
            0,
            -0.12533323356430429
           ]
          },
          {
           "line": {
            "width": 3
           },
           "mode": "lines",
           "type": "scatter",
           "x": [
            0,
            -0.9921147013144779
           ],
           "y": [
            -0.12533323356430429,
            -0.12533323356430429
           ]
          },
          {
           "mode": "markers",
           "type": "scatter",
           "x": [
            -0.9921147013144779
           ],
           "y": [
            -0.12533323356430429
           ]
          },
          {
           "type": "scatter",
           "x": [
            0,
            1
           ],
           "y": [
            -0.9921147013144779,
            -0.9921147013144779
           ]
          },
          {
           "type": "scatter",
           "x": [
            0,
            0
           ],
           "y": [
            0,
            -0.9921147013144779
           ]
          },
          {
           "type": "scatter",
           "x": [
            0
           ],
           "y": [
            -0.9921147013144779
           ]
          }
         ],
         "name": "26"
        },
        {
         "data": [
          {
           "line": {
            "width": 3
           },
           "mode": "lines",
           "type": "scatter",
           "x": [
            0,
            -0.9685831611286311
           ],
           "y": [
            0,
            -0.24868988716485502
           ]
          },
          {
           "line": {
            "width": 3
           },
           "mode": "lines",
           "type": "scatter",
           "x": [
            0,
            -0.9685831611286311
           ],
           "y": [
            -0.24868988716485502,
            -0.24868988716485502
           ]
          },
          {
           "mode": "markers",
           "type": "scatter",
           "x": [
            -0.9685831611286311
           ],
           "y": [
            -0.24868988716485502
           ]
          },
          {
           "type": "scatter",
           "x": [
            0,
            1
           ],
           "y": [
            -0.9685831611286311,
            -0.9685831611286311
           ]
          },
          {
           "type": "scatter",
           "x": [
            0,
            0
           ],
           "y": [
            0,
            -0.9685831611286311
           ]
          },
          {
           "type": "scatter",
           "x": [
            0
           ],
           "y": [
            -0.9685831611286311
           ]
          }
         ],
         "name": "27"
        },
        {
         "data": [
          {
           "line": {
            "width": 3
           },
           "mode": "lines",
           "type": "scatter",
           "x": [
            0,
            -0.9297764858882512
           ],
           "y": [
            0,
            -0.3681245526846783
           ]
          },
          {
           "line": {
            "width": 3
           },
           "mode": "lines",
           "type": "scatter",
           "x": [
            0,
            -0.9297764858882512
           ],
           "y": [
            -0.3681245526846783,
            -0.3681245526846783
           ]
          },
          {
           "mode": "markers",
           "type": "scatter",
           "x": [
            -0.9297764858882512
           ],
           "y": [
            -0.3681245526846783
           ]
          },
          {
           "type": "scatter",
           "x": [
            0,
            1
           ],
           "y": [
            -0.9297764858882512,
            -0.9297764858882512
           ]
          },
          {
           "type": "scatter",
           "x": [
            0,
            0
           ],
           "y": [
            0,
            -0.9297764858882512
           ]
          },
          {
           "type": "scatter",
           "x": [
            0
           ],
           "y": [
            -0.9297764858882512
           ]
          }
         ],
         "name": "28"
        },
        {
         "data": [
          {
           "line": {
            "width": 3
           },
           "mode": "lines",
           "type": "scatter",
           "x": [
            0,
            -0.8763066800438636
           ],
           "y": [
            0,
            -0.4817536741017154
           ]
          },
          {
           "line": {
            "width": 3
           },
           "mode": "lines",
           "type": "scatter",
           "x": [
            0,
            -0.8763066800438636
           ],
           "y": [
            -0.4817536741017154,
            -0.4817536741017154
           ]
          },
          {
           "mode": "markers",
           "type": "scatter",
           "x": [
            -0.8763066800438636
           ],
           "y": [
            -0.4817536741017154
           ]
          },
          {
           "type": "scatter",
           "x": [
            0,
            1
           ],
           "y": [
            -0.8763066800438636,
            -0.8763066800438636
           ]
          },
          {
           "type": "scatter",
           "x": [
            0,
            0
           ],
           "y": [
            0,
            -0.8763066800438636
           ]
          },
          {
           "type": "scatter",
           "x": [
            0
           ],
           "y": [
            -0.8763066800438636
           ]
          }
         ],
         "name": "29"
        },
        {
         "data": [
          {
           "line": {
            "width": 3
           },
           "mode": "lines",
           "type": "scatter",
           "x": [
            0,
            -0.8090169943749472
           ],
           "y": [
            0,
            -0.5877852522924734
           ]
          },
          {
           "line": {
            "width": 3
           },
           "mode": "lines",
           "type": "scatter",
           "x": [
            0,
            -0.8090169943749472
           ],
           "y": [
            -0.5877852522924734,
            -0.5877852522924734
           ]
          },
          {
           "mode": "markers",
           "type": "scatter",
           "x": [
            -0.8090169943749472
           ],
           "y": [
            -0.5877852522924734
           ]
          },
          {
           "type": "scatter",
           "x": [
            0,
            1
           ],
           "y": [
            -0.8090169943749472,
            -0.8090169943749472
           ]
          },
          {
           "type": "scatter",
           "x": [
            0,
            0
           ],
           "y": [
            0,
            -0.8090169943749472
           ]
          },
          {
           "type": "scatter",
           "x": [
            0
           ],
           "y": [
            -0.8090169943749472
           ]
          }
         ],
         "name": "30"
        },
        {
         "data": [
          {
           "line": {
            "width": 3
           },
           "mode": "lines",
           "type": "scatter",
           "x": [
            0,
            -0.7289686274214116
           ],
           "y": [
            0,
            -0.6845471059286887
           ]
          },
          {
           "line": {
            "width": 3
           },
           "mode": "lines",
           "type": "scatter",
           "x": [
            0,
            -0.7289686274214116
           ],
           "y": [
            -0.6845471059286887,
            -0.6845471059286887
           ]
          },
          {
           "mode": "markers",
           "type": "scatter",
           "x": [
            -0.7289686274214116
           ],
           "y": [
            -0.6845471059286887
           ]
          },
          {
           "type": "scatter",
           "x": [
            0,
            1
           ],
           "y": [
            -0.7289686274214116,
            -0.7289686274214116
           ]
          },
          {
           "type": "scatter",
           "x": [
            0,
            0
           ],
           "y": [
            0,
            -0.7289686274214116
           ]
          },
          {
           "type": "scatter",
           "x": [
            0
           ],
           "y": [
            -0.7289686274214116
           ]
          }
         ],
         "name": "31"
        },
        {
         "data": [
          {
           "line": {
            "width": 3
           },
           "mode": "lines",
           "type": "scatter",
           "x": [
            0,
            -0.6374239897486895
           ],
           "y": [
            0,
            -0.7705132427757894
           ]
          },
          {
           "line": {
            "width": 3
           },
           "mode": "lines",
           "type": "scatter",
           "x": [
            0,
            -0.6374239897486895
           ],
           "y": [
            -0.7705132427757894,
            -0.7705132427757894
           ]
          },
          {
           "mode": "markers",
           "type": "scatter",
           "x": [
            -0.6374239897486895
           ],
           "y": [
            -0.7705132427757894
           ]
          },
          {
           "type": "scatter",
           "x": [
            0,
            1
           ],
           "y": [
            -0.6374239897486895,
            -0.6374239897486895
           ]
          },
          {
           "type": "scatter",
           "x": [
            0,
            0
           ],
           "y": [
            0,
            -0.6374239897486895
           ]
          },
          {
           "type": "scatter",
           "x": [
            0
           ],
           "y": [
            -0.6374239897486895
           ]
          }
         ],
         "name": "32"
        },
        {
         "data": [
          {
           "line": {
            "width": 3
           },
           "mode": "lines",
           "type": "scatter",
           "x": [
            0,
            -0.5358267949789963
           ],
           "y": [
            0,
            -0.8443279255020153
           ]
          },
          {
           "line": {
            "width": 3
           },
           "mode": "lines",
           "type": "scatter",
           "x": [
            0,
            -0.5358267949789963
           ],
           "y": [
            -0.8443279255020153,
            -0.8443279255020153
           ]
          },
          {
           "mode": "markers",
           "type": "scatter",
           "x": [
            -0.5358267949789963
           ],
           "y": [
            -0.8443279255020153
           ]
          },
          {
           "type": "scatter",
           "x": [
            0,
            1
           ],
           "y": [
            -0.5358267949789963,
            -0.5358267949789963
           ]
          },
          {
           "type": "scatter",
           "x": [
            0,
            0
           ],
           "y": [
            0,
            -0.5358267949789963
           ]
          },
          {
           "type": "scatter",
           "x": [
            0
           ],
           "y": [
            -0.5358267949789963
           ]
          }
         ],
         "name": "33"
        },
        {
         "data": [
          {
           "line": {
            "width": 3
           },
           "mode": "lines",
           "type": "scatter",
           "x": [
            0,
            -0.42577929156507216
           ],
           "y": [
            0,
            -0.9048270524660198
           ]
          },
          {
           "line": {
            "width": 3
           },
           "mode": "lines",
           "type": "scatter",
           "x": [
            0,
            -0.42577929156507216
           ],
           "y": [
            -0.9048270524660198,
            -0.9048270524660198
           ]
          },
          {
           "mode": "markers",
           "type": "scatter",
           "x": [
            -0.42577929156507216
           ],
           "y": [
            -0.9048270524660198
           ]
          },
          {
           "type": "scatter",
           "x": [
            0,
            1
           ],
           "y": [
            -0.42577929156507216,
            -0.42577929156507216
           ]
          },
          {
           "type": "scatter",
           "x": [
            0,
            0
           ],
           "y": [
            0,
            -0.42577929156507216
           ]
          },
          {
           "type": "scatter",
           "x": [
            0
           ],
           "y": [
            -0.42577929156507216
           ]
          }
         ],
         "name": "34"
        },
        {
         "data": [
          {
           "line": {
            "width": 3
           },
           "mode": "lines",
           "type": "scatter",
           "x": [
            0,
            -0.30901699437494756
           ],
           "y": [
            0,
            -0.9510565162951535
           ]
          },
          {
           "line": {
            "width": 3
           },
           "mode": "lines",
           "type": "scatter",
           "x": [
            0,
            -0.30901699437494756
           ],
           "y": [
            -0.9510565162951535,
            -0.9510565162951535
           ]
          },
          {
           "mode": "markers",
           "type": "scatter",
           "x": [
            -0.30901699437494756
           ],
           "y": [
            -0.9510565162951535
           ]
          },
          {
           "type": "scatter",
           "x": [
            0,
            1
           ],
           "y": [
            -0.30901699437494756,
            -0.30901699437494756
           ]
          },
          {
           "type": "scatter",
           "x": [
            0,
            0
           ],
           "y": [
            0,
            -0.30901699437494756
           ]
          },
          {
           "type": "scatter",
           "x": [
            0
           ],
           "y": [
            -0.30901699437494756
           ]
          }
         ],
         "name": "35"
        },
        {
         "data": [
          {
           "line": {
            "width": 3
           },
           "mode": "lines",
           "type": "scatter",
           "x": [
            0,
            -0.18738131458572463
           ],
           "y": [
            0,
            -0.9822872507286887
           ]
          },
          {
           "line": {
            "width": 3
           },
           "mode": "lines",
           "type": "scatter",
           "x": [
            0,
            -0.18738131458572463
           ],
           "y": [
            -0.9822872507286887,
            -0.9822872507286887
           ]
          },
          {
           "mode": "markers",
           "type": "scatter",
           "x": [
            -0.18738131458572463
           ],
           "y": [
            -0.9822872507286887
           ]
          },
          {
           "type": "scatter",
           "x": [
            0,
            1
           ],
           "y": [
            -0.18738131458572463,
            -0.18738131458572463
           ]
          },
          {
           "type": "scatter",
           "x": [
            0,
            0
           ],
           "y": [
            0,
            -0.18738131458572463
           ]
          },
          {
           "type": "scatter",
           "x": [
            0
           ],
           "y": [
            -0.18738131458572463
           ]
          }
         ],
         "name": "36"
        },
        {
         "data": [
          {
           "line": {
            "width": 3
           },
           "mode": "lines",
           "type": "scatter",
           "x": [
            0,
            -0.06279051952931321
           ],
           "y": [
            0,
            -0.9980267284282716
           ]
          },
          {
           "line": {
            "width": 3
           },
           "mode": "lines",
           "type": "scatter",
           "x": [
            0,
            -0.06279051952931321
           ],
           "y": [
            -0.9980267284282716,
            -0.9980267284282716
           ]
          },
          {
           "mode": "markers",
           "type": "scatter",
           "x": [
            -0.06279051952931321
           ],
           "y": [
            -0.9980267284282716
           ]
          },
          {
           "type": "scatter",
           "x": [
            0,
            1
           ],
           "y": [
            -0.06279051952931321,
            -0.06279051952931321
           ]
          },
          {
           "type": "scatter",
           "x": [
            0,
            0
           ],
           "y": [
            0,
            -0.06279051952931321
           ]
          },
          {
           "type": "scatter",
           "x": [
            0
           ],
           "y": [
            -0.06279051952931321
           ]
          }
         ],
         "name": "37"
        },
        {
         "data": [
          {
           "line": {
            "width": 3
           },
           "mode": "lines",
           "type": "scatter",
           "x": [
            0,
            0.06279051952931372
           ],
           "y": [
            0,
            -0.9980267284282716
           ]
          },
          {
           "line": {
            "width": 3
           },
           "mode": "lines",
           "type": "scatter",
           "x": [
            0,
            0.06279051952931372
           ],
           "y": [
            -0.9980267284282716,
            -0.9980267284282716
           ]
          },
          {
           "mode": "markers",
           "type": "scatter",
           "x": [
            0.06279051952931372
           ],
           "y": [
            -0.9980267284282716
           ]
          },
          {
           "type": "scatter",
           "x": [
            0,
            1
           ],
           "y": [
            0.06279051952931372,
            0.06279051952931372
           ]
          },
          {
           "type": "scatter",
           "x": [
            0,
            0
           ],
           "y": [
            0,
            0.06279051952931372
           ]
          },
          {
           "type": "scatter",
           "x": [
            0
           ],
           "y": [
            0.06279051952931372
           ]
          }
         ],
         "name": "38"
        },
        {
         "data": [
          {
           "line": {
            "width": 3
           },
           "mode": "lines",
           "type": "scatter",
           "x": [
            0,
            0.18738131458572513
           ],
           "y": [
            0,
            -0.9822872507286886
           ]
          },
          {
           "line": {
            "width": 3
           },
           "mode": "lines",
           "type": "scatter",
           "x": [
            0,
            0.18738131458572513
           ],
           "y": [
            -0.9822872507286886,
            -0.9822872507286886
           ]
          },
          {
           "mode": "markers",
           "type": "scatter",
           "x": [
            0.18738131458572513
           ],
           "y": [
            -0.9822872507286886
           ]
          },
          {
           "type": "scatter",
           "x": [
            0,
            1
           ],
           "y": [
            0.18738131458572513,
            0.18738131458572513
           ]
          },
          {
           "type": "scatter",
           "x": [
            0,
            0
           ],
           "y": [
            0,
            0.18738131458572513
           ]
          },
          {
           "type": "scatter",
           "x": [
            0
           ],
           "y": [
            0.18738131458572513
           ]
          }
         ],
         "name": "39"
        },
        {
         "data": [
          {
           "line": {
            "width": 3
           },
           "mode": "lines",
           "type": "scatter",
           "x": [
            0,
            0.30901699437494723
           ],
           "y": [
            0,
            -0.9510565162951536
           ]
          },
          {
           "line": {
            "width": 3
           },
           "mode": "lines",
           "type": "scatter",
           "x": [
            0,
            0.30901699437494723
           ],
           "y": [
            -0.9510565162951536,
            -0.9510565162951536
           ]
          },
          {
           "mode": "markers",
           "type": "scatter",
           "x": [
            0.30901699437494723
           ],
           "y": [
            -0.9510565162951536
           ]
          },
          {
           "type": "scatter",
           "x": [
            0,
            1
           ],
           "y": [
            0.30901699437494723,
            0.30901699437494723
           ]
          },
          {
           "type": "scatter",
           "x": [
            0,
            0
           ],
           "y": [
            0,
            0.30901699437494723
           ]
          },
          {
           "type": "scatter",
           "x": [
            0
           ],
           "y": [
            0.30901699437494723
           ]
          }
         ],
         "name": "40"
        },
        {
         "data": [
          {
           "line": {
            "width": 3
           },
           "mode": "lines",
           "type": "scatter",
           "x": [
            0,
            0.4257792915650726
           ],
           "y": [
            0,
            -0.9048270524660196
           ]
          },
          {
           "line": {
            "width": 3
           },
           "mode": "lines",
           "type": "scatter",
           "x": [
            0,
            0.4257792915650726
           ],
           "y": [
            -0.9048270524660196,
            -0.9048270524660196
           ]
          },
          {
           "mode": "markers",
           "type": "scatter",
           "x": [
            0.4257792915650726
           ],
           "y": [
            -0.9048270524660196
           ]
          },
          {
           "type": "scatter",
           "x": [
            0,
            1
           ],
           "y": [
            0.4257792915650726,
            0.4257792915650726
           ]
          },
          {
           "type": "scatter",
           "x": [
            0,
            0
           ],
           "y": [
            0,
            0.4257792915650726
           ]
          },
          {
           "type": "scatter",
           "x": [
            0
           ],
           "y": [
            0.4257792915650726
           ]
          }
         ],
         "name": "41"
        },
        {
         "data": [
          {
           "line": {
            "width": 3
           },
           "mode": "lines",
           "type": "scatter",
           "x": [
            0,
            0.5358267949789968
           ],
           "y": [
            0,
            -0.844327925502015
           ]
          },
          {
           "line": {
            "width": 3
           },
           "mode": "lines",
           "type": "scatter",
           "x": [
            0,
            0.5358267949789968
           ],
           "y": [
            -0.844327925502015,
            -0.844327925502015
           ]
          },
          {
           "mode": "markers",
           "type": "scatter",
           "x": [
            0.5358267949789968
           ],
           "y": [
            -0.844327925502015
           ]
          },
          {
           "type": "scatter",
           "x": [
            0,
            1
           ],
           "y": [
            0.5358267949789968,
            0.5358267949789968
           ]
          },
          {
           "type": "scatter",
           "x": [
            0,
            0
           ],
           "y": [
            0,
            0.5358267949789968
           ]
          },
          {
           "type": "scatter",
           "x": [
            0
           ],
           "y": [
            0.5358267949789968
           ]
          }
         ],
         "name": "42"
        },
        {
         "data": [
          {
           "line": {
            "width": 3
           },
           "mode": "lines",
           "type": "scatter",
           "x": [
            0,
            0.63742398974869
           ],
           "y": [
            0,
            -0.770513242775789
           ]
          },
          {
           "line": {
            "width": 3
           },
           "mode": "lines",
           "type": "scatter",
           "x": [
            0,
            0.63742398974869
           ],
           "y": [
            -0.770513242775789,
            -0.770513242775789
           ]
          },
          {
           "mode": "markers",
           "type": "scatter",
           "x": [
            0.63742398974869
           ],
           "y": [
            -0.770513242775789
           ]
          },
          {
           "type": "scatter",
           "x": [
            0,
            1
           ],
           "y": [
            0.63742398974869,
            0.63742398974869
           ]
          },
          {
           "type": "scatter",
           "x": [
            0,
            0
           ],
           "y": [
            0,
            0.63742398974869
           ]
          },
          {
           "type": "scatter",
           "x": [
            0
           ],
           "y": [
            0.63742398974869
           ]
          }
         ],
         "name": "43"
        },
        {
         "data": [
          {
           "line": {
            "width": 3
           },
           "mode": "lines",
           "type": "scatter",
           "x": [
            0,
            0.7289686274214119
           ],
           "y": [
            0,
            -0.6845471059286883
           ]
          },
          {
           "line": {
            "width": 3
           },
           "mode": "lines",
           "type": "scatter",
           "x": [
            0,
            0.7289686274214119
           ],
           "y": [
            -0.6845471059286883,
            -0.6845471059286883
           ]
          },
          {
           "mode": "markers",
           "type": "scatter",
           "x": [
            0.7289686274214119
           ],
           "y": [
            -0.6845471059286883
           ]
          },
          {
           "type": "scatter",
           "x": [
            0,
            1
           ],
           "y": [
            0.7289686274214119,
            0.7289686274214119
           ]
          },
          {
           "type": "scatter",
           "x": [
            0,
            0
           ],
           "y": [
            0,
            0.7289686274214119
           ]
          },
          {
           "type": "scatter",
           "x": [
            0
           ],
           "y": [
            0.7289686274214119
           ]
          }
         ],
         "name": "44"
        },
        {
         "data": [
          {
           "line": {
            "width": 3
           },
           "mode": "lines",
           "type": "scatter",
           "x": [
            0,
            0.8090169943749478
           ],
           "y": [
            0,
            -0.5877852522924726
           ]
          },
          {
           "line": {
            "width": 3
           },
           "mode": "lines",
           "type": "scatter",
           "x": [
            0,
            0.8090169943749478
           ],
           "y": [
            -0.5877852522924726,
            -0.5877852522924726
           ]
          },
          {
           "mode": "markers",
           "type": "scatter",
           "x": [
            0.8090169943749478
           ],
           "y": [
            -0.5877852522924726
           ]
          },
          {
           "type": "scatter",
           "x": [
            0,
            1
           ],
           "y": [
            0.8090169943749478,
            0.8090169943749478
           ]
          },
          {
           "type": "scatter",
           "x": [
            0,
            0
           ],
           "y": [
            0,
            0.8090169943749478
           ]
          },
          {
           "type": "scatter",
           "x": [
            0
           ],
           "y": [
            0.8090169943749478
           ]
          }
         ],
         "name": "45"
        },
        {
         "data": [
          {
           "line": {
            "width": 3
           },
           "mode": "lines",
           "type": "scatter",
           "x": [
            0,
            0.8763066800438636
           ],
           "y": [
            0,
            -0.4817536741017153
           ]
          },
          {
           "line": {
            "width": 3
           },
           "mode": "lines",
           "type": "scatter",
           "x": [
            0,
            0.8763066800438636
           ],
           "y": [
            -0.4817536741017153,
            -0.4817536741017153
           ]
          },
          {
           "mode": "markers",
           "type": "scatter",
           "x": [
            0.8763066800438636
           ],
           "y": [
            -0.4817536741017153
           ]
          },
          {
           "type": "scatter",
           "x": [
            0,
            1
           ],
           "y": [
            0.8763066800438636,
            0.8763066800438636
           ]
          },
          {
           "type": "scatter",
           "x": [
            0,
            0
           ],
           "y": [
            0,
            0.8763066800438636
           ]
          },
          {
           "type": "scatter",
           "x": [
            0
           ],
           "y": [
            0.8763066800438636
           ]
          }
         ],
         "name": "46"
        },
        {
         "data": [
          {
           "line": {
            "width": 3
           },
           "mode": "lines",
           "type": "scatter",
           "x": [
            0,
            0.9297764858882515
           ],
           "y": [
            0,
            -0.36812455268467786
           ]
          },
          {
           "line": {
            "width": 3
           },
           "mode": "lines",
           "type": "scatter",
           "x": [
            0,
            0.9297764858882515
           ],
           "y": [
            -0.36812455268467786,
            -0.36812455268467786
           ]
          },
          {
           "mode": "markers",
           "type": "scatter",
           "x": [
            0.9297764858882515
           ],
           "y": [
            -0.36812455268467786
           ]
          },
          {
           "type": "scatter",
           "x": [
            0,
            1
           ],
           "y": [
            0.9297764858882515,
            0.9297764858882515
           ]
          },
          {
           "type": "scatter",
           "x": [
            0,
            0
           ],
           "y": [
            0,
            0.9297764858882515
           ]
          },
          {
           "type": "scatter",
           "x": [
            0
           ],
           "y": [
            0.9297764858882515
           ]
          }
         ],
         "name": "47"
        },
        {
         "data": [
          {
           "line": {
            "width": 3
           },
           "mode": "lines",
           "type": "scatter",
           "x": [
            0,
            0.9685831611286312
           ],
           "y": [
            0,
            -0.2486898871648545
           ]
          },
          {
           "line": {
            "width": 3
           },
           "mode": "lines",
           "type": "scatter",
           "x": [
            0,
            0.9685831611286312
           ],
           "y": [
            -0.2486898871648545,
            -0.2486898871648545
           ]
          },
          {
           "mode": "markers",
           "type": "scatter",
           "x": [
            0.9685831611286312
           ],
           "y": [
            -0.2486898871648545
           ]
          },
          {
           "type": "scatter",
           "x": [
            0,
            1
           ],
           "y": [
            0.9685831611286312,
            0.9685831611286312
           ]
          },
          {
           "type": "scatter",
           "x": [
            0,
            0
           ],
           "y": [
            0,
            0.9685831611286312
           ]
          },
          {
           "type": "scatter",
           "x": [
            0
           ],
           "y": [
            0.9685831611286312
           ]
          }
         ],
         "name": "48"
        },
        {
         "data": [
          {
           "line": {
            "width": 3
           },
           "mode": "lines",
           "type": "scatter",
           "x": [
            0,
            0.9921147013144779
           ],
           "y": [
            0,
            -0.1253332335643038
           ]
          },
          {
           "line": {
            "width": 3
           },
           "mode": "lines",
           "type": "scatter",
           "x": [
            0,
            0.9921147013144779
           ],
           "y": [
            -0.1253332335643038,
            -0.1253332335643038
           ]
          },
          {
           "mode": "markers",
           "type": "scatter",
           "x": [
            0.9921147013144779
           ],
           "y": [
            -0.1253332335643038
           ]
          },
          {
           "type": "scatter",
           "x": [
            0,
            1
           ],
           "y": [
            0.9921147013144779,
            0.9921147013144779
           ]
          },
          {
           "type": "scatter",
           "x": [
            0,
            0
           ],
           "y": [
            0,
            0.9921147013144779
           ]
          },
          {
           "type": "scatter",
           "x": [
            0
           ],
           "y": [
            0.9921147013144779
           ]
          }
         ],
         "name": "49"
        },
        {
         "data": [
          {
           "line": {
            "width": 3
           },
           "mode": "lines",
           "type": "scatter",
           "x": [
            0,
            1.0
           ],
           "y": [
            0,
            6.432490598706546e-16
           ]
          },
          {
           "line": {
            "width": 3
           },
           "mode": "lines",
           "type": "scatter",
           "x": [
            0,
            1.0
           ],
           "y": [
            6.432490598706546e-16,
            6.432490598706546e-16
           ]
          },
          {
           "mode": "markers",
           "type": "scatter",
           "x": [
            1.0
           ],
           "y": [
            6.432490598706546e-16
           ]
          },
          {
           "type": "scatter",
           "x": [
            0,
            1
           ],
           "y": [
            1.0,
            1.0
           ]
          },
          {
           "type": "scatter",
           "x": [
            0,
            0
           ],
           "y": [
            0,
            1.0
           ]
          },
          {
           "type": "scatter",
           "x": [
            0
           ],
           "y": [
            1.0
           ]
          }
         ],
         "name": "50"
        },
        {
         "data": [
          {
           "line": {
            "width": 3
           },
           "mode": "lines",
           "type": "scatter",
           "x": [
            0,
            0.9921147013144779
           ],
           "y": [
            0,
            0.12533323356430418
           ]
          },
          {
           "line": {
            "width": 3
           },
           "mode": "lines",
           "type": "scatter",
           "x": [
            0,
            0.9921147013144779
           ],
           "y": [
            0.12533323356430418,
            0.12533323356430418
           ]
          },
          {
           "mode": "markers",
           "type": "scatter",
           "x": [
            0.9921147013144779
           ],
           "y": [
            0.12533323356430418
           ]
          },
          {
           "type": "scatter",
           "x": [
            0,
            1
           ],
           "y": [
            0.9921147013144779,
            0.9921147013144779
           ]
          },
          {
           "type": "scatter",
           "x": [
            0,
            0
           ],
           "y": [
            0,
            0.9921147013144779
           ]
          },
          {
           "type": "scatter",
           "x": [
            0
           ],
           "y": [
            0.9921147013144779
           ]
          }
         ],
         "name": "51"
        },
        {
         "data": [
          {
           "line": {
            "width": 3
           },
           "mode": "lines",
           "type": "scatter",
           "x": [
            0,
            0.9685831611286311
           ],
           "y": [
            0,
            0.24868988716485488
           ]
          },
          {
           "line": {
            "width": 3
           },
           "mode": "lines",
           "type": "scatter",
           "x": [
            0,
            0.9685831611286311
           ],
           "y": [
            0.24868988716485488,
            0.24868988716485488
           ]
          },
          {
           "mode": "markers",
           "type": "scatter",
           "x": [
            0.9685831611286311
           ],
           "y": [
            0.24868988716485488
           ]
          },
          {
           "type": "scatter",
           "x": [
            0,
            1
           ],
           "y": [
            0.9685831611286311,
            0.9685831611286311
           ]
          },
          {
           "type": "scatter",
           "x": [
            0,
            0
           ],
           "y": [
            0,
            0.9685831611286311
           ]
          },
          {
           "type": "scatter",
           "x": [
            0
           ],
           "y": [
            0.9685831611286311
           ]
          }
         ],
         "name": "52"
        },
        {
         "data": [
          {
           "line": {
            "width": 3
           },
           "mode": "lines",
           "type": "scatter",
           "x": [
            0,
            0.9297764858882513
           ],
           "y": [
            0,
            0.3681245526846782
           ]
          },
          {
           "line": {
            "width": 3
           },
           "mode": "lines",
           "type": "scatter",
           "x": [
            0,
            0.9297764858882513
           ],
           "y": [
            0.3681245526846782,
            0.3681245526846782
           ]
          },
          {
           "mode": "markers",
           "type": "scatter",
           "x": [
            0.9297764858882513
           ],
           "y": [
            0.3681245526846782
           ]
          },
          {
           "type": "scatter",
           "x": [
            0,
            1
           ],
           "y": [
            0.9297764858882513,
            0.9297764858882513
           ]
          },
          {
           "type": "scatter",
           "x": [
            0,
            0
           ],
           "y": [
            0,
            0.9297764858882513
           ]
          },
          {
           "type": "scatter",
           "x": [
            0
           ],
           "y": [
            0.9297764858882513
           ]
          }
         ],
         "name": "53"
        },
        {
         "data": [
          {
           "line": {
            "width": 3
           },
           "mode": "lines",
           "type": "scatter",
           "x": [
            0,
            0.8763066800438634
           ],
           "y": [
            0,
            0.48175367410171566
           ]
          },
          {
           "line": {
            "width": 3
           },
           "mode": "lines",
           "type": "scatter",
           "x": [
            0,
            0.8763066800438634
           ],
           "y": [
            0.48175367410171566,
            0.48175367410171566
           ]
          },
          {
           "mode": "markers",
           "type": "scatter",
           "x": [
            0.8763066800438634
           ],
           "y": [
            0.48175367410171566
           ]
          },
          {
           "type": "scatter",
           "x": [
            0,
            1
           ],
           "y": [
            0.8763066800438634,
            0.8763066800438634
           ]
          },
          {
           "type": "scatter",
           "x": [
            0,
            0
           ],
           "y": [
            0,
            0.8763066800438634
           ]
          },
          {
           "type": "scatter",
           "x": [
            0
           ],
           "y": [
            0.8763066800438634
           ]
          }
         ],
         "name": "54"
        },
        {
         "data": [
          {
           "line": {
            "width": 3
           },
           "mode": "lines",
           "type": "scatter",
           "x": [
            0,
            0.8090169943749471
           ],
           "y": [
            0,
            0.5877852522924736
           ]
          },
          {
           "line": {
            "width": 3
           },
           "mode": "lines",
           "type": "scatter",
           "x": [
            0,
            0.8090169943749471
           ],
           "y": [
            0.5877852522924736,
            0.5877852522924736
           ]
          },
          {
           "mode": "markers",
           "type": "scatter",
           "x": [
            0.8090169943749471
           ],
           "y": [
            0.5877852522924736
           ]
          },
          {
           "type": "scatter",
           "x": [
            0,
            1
           ],
           "y": [
            0.8090169943749471,
            0.8090169943749471
           ]
          },
          {
           "type": "scatter",
           "x": [
            0,
            0
           ],
           "y": [
            0,
            0.8090169943749471
           ]
          },
          {
           "type": "scatter",
           "x": [
            0
           ],
           "y": [
            0.8090169943749471
           ]
          }
         ],
         "name": "55"
        },
        {
         "data": [
          {
           "line": {
            "width": 3
           },
           "mode": "lines",
           "type": "scatter",
           "x": [
            0,
            0.728968627421411
           ],
           "y": [
            0,
            0.6845471059286893
           ]
          },
          {
           "line": {
            "width": 3
           },
           "mode": "lines",
           "type": "scatter",
           "x": [
            0,
            0.728968627421411
           ],
           "y": [
            0.6845471059286893,
            0.6845471059286893
           ]
          },
          {
           "mode": "markers",
           "type": "scatter",
           "x": [
            0.728968627421411
           ],
           "y": [
            0.6845471059286893
           ]
          },
          {
           "type": "scatter",
           "x": [
            0,
            1
           ],
           "y": [
            0.728968627421411,
            0.728968627421411
           ]
          },
          {
           "type": "scatter",
           "x": [
            0,
            0
           ],
           "y": [
            0,
            0.728968627421411
           ]
          },
          {
           "type": "scatter",
           "x": [
            0
           ],
           "y": [
            0.728968627421411
           ]
          }
         ],
         "name": "56"
        },
        {
         "data": [
          {
           "line": {
            "width": 3
           },
           "mode": "lines",
           "type": "scatter",
           "x": [
            0,
            0.6374239897486896
           ],
           "y": [
            0,
            0.7705132427757893
           ]
          },
          {
           "line": {
            "width": 3
           },
           "mode": "lines",
           "type": "scatter",
           "x": [
            0,
            0.6374239897486896
           ],
           "y": [
            0.7705132427757893,
            0.7705132427757893
           ]
          },
          {
           "mode": "markers",
           "type": "scatter",
           "x": [
            0.6374239897486896
           ],
           "y": [
            0.7705132427757893
           ]
          },
          {
           "type": "scatter",
           "x": [
            0,
            1
           ],
           "y": [
            0.6374239897486896,
            0.6374239897486896
           ]
          },
          {
           "type": "scatter",
           "x": [
            0,
            0
           ],
           "y": [
            0,
            0.6374239897486896
           ]
          },
          {
           "type": "scatter",
           "x": [
            0
           ],
           "y": [
            0.6374239897486896
           ]
          }
         ],
         "name": "57"
        },
        {
         "data": [
          {
           "line": {
            "width": 3
           },
           "mode": "lines",
           "type": "scatter",
           "x": [
            0,
            0.5358267949789964
           ],
           "y": [
            0,
            0.8443279255020152
           ]
          },
          {
           "line": {
            "width": 3
           },
           "mode": "lines",
           "type": "scatter",
           "x": [
            0,
            0.5358267949789964
           ],
           "y": [
            0.8443279255020152,
            0.8443279255020152
           ]
          },
          {
           "mode": "markers",
           "type": "scatter",
           "x": [
            0.5358267949789964
           ],
           "y": [
            0.8443279255020152
           ]
          },
          {
           "type": "scatter",
           "x": [
            0,
            1
           ],
           "y": [
            0.5358267949789964,
            0.5358267949789964
           ]
          },
          {
           "type": "scatter",
           "x": [
            0,
            0
           ],
           "y": [
            0,
            0.5358267949789964
           ]
          },
          {
           "type": "scatter",
           "x": [
            0
           ],
           "y": [
            0.5358267949789964
           ]
          }
         ],
         "name": "58"
        },
        {
         "data": [
          {
           "line": {
            "width": 3
           },
           "mode": "lines",
           "type": "scatter",
           "x": [
            0,
            0.42577929156507227
           ],
           "y": [
            0,
            0.9048270524660197
           ]
          },
          {
           "line": {
            "width": 3
           },
           "mode": "lines",
           "type": "scatter",
           "x": [
            0,
            0.42577929156507227
           ],
           "y": [
            0.9048270524660197,
            0.9048270524660197
           ]
          },
          {
           "mode": "markers",
           "type": "scatter",
           "x": [
            0.42577929156507227
           ],
           "y": [
            0.9048270524660197
           ]
          },
          {
           "type": "scatter",
           "x": [
            0,
            1
           ],
           "y": [
            0.42577929156507227,
            0.42577929156507227
           ]
          },
          {
           "type": "scatter",
           "x": [
            0,
            0
           ],
           "y": [
            0,
            0.42577929156507227
           ]
          },
          {
           "type": "scatter",
           "x": [
            0
           ],
           "y": [
            0.42577929156507227
           ]
          }
         ],
         "name": "59"
        },
        {
         "data": [
          {
           "line": {
            "width": 3
           },
           "mode": "lines",
           "type": "scatter",
           "x": [
            0,
            0.30901699437494684
           ],
           "y": [
            0,
            0.9510565162951538
           ]
          },
          {
           "line": {
            "width": 3
           },
           "mode": "lines",
           "type": "scatter",
           "x": [
            0,
            0.30901699437494684
           ],
           "y": [
            0.9510565162951538,
            0.9510565162951538
           ]
          },
          {
           "mode": "markers",
           "type": "scatter",
           "x": [
            0.30901699437494684
           ],
           "y": [
            0.9510565162951538
           ]
          },
          {
           "type": "scatter",
           "x": [
            0,
            1
           ],
           "y": [
            0.30901699437494684,
            0.30901699437494684
           ]
          },
          {
           "type": "scatter",
           "x": [
            0,
            0
           ],
           "y": [
            0,
            0.30901699437494684
           ]
          },
          {
           "type": "scatter",
           "x": [
            0
           ],
           "y": [
            0.30901699437494684
           ]
          }
         ],
         "name": "60"
        },
        {
         "data": [
          {
           "line": {
            "width": 3
           },
           "mode": "lines",
           "type": "scatter",
           "x": [
            0,
            0.18738131458572388
           ],
           "y": [
            0,
            0.9822872507286888
           ]
          },
          {
           "line": {
            "width": 3
           },
           "mode": "lines",
           "type": "scatter",
           "x": [
            0,
            0.18738131458572388
           ],
           "y": [
            0.9822872507286888,
            0.9822872507286888
           ]
          },
          {
           "mode": "markers",
           "type": "scatter",
           "x": [
            0.18738131458572388
           ],
           "y": [
            0.9822872507286888
           ]
          },
          {
           "type": "scatter",
           "x": [
            0,
            1
           ],
           "y": [
            0.18738131458572388,
            0.18738131458572388
           ]
          },
          {
           "type": "scatter",
           "x": [
            0,
            0
           ],
           "y": [
            0,
            0.18738131458572388
           ]
          },
          {
           "type": "scatter",
           "x": [
            0
           ],
           "y": [
            0.18738131458572388
           ]
          }
         ],
         "name": "61"
        },
        {
         "data": [
          {
           "line": {
            "width": 3
           },
           "mode": "lines",
           "type": "scatter",
           "x": [
            0,
            0.06279051952931332
           ],
           "y": [
            0,
            0.9980267284282716
           ]
          },
          {
           "line": {
            "width": 3
           },
           "mode": "lines",
           "type": "scatter",
           "x": [
            0,
            0.06279051952931332
           ],
           "y": [
            0.9980267284282716,
            0.9980267284282716
           ]
          },
          {
           "mode": "markers",
           "type": "scatter",
           "x": [
            0.06279051952931332
           ],
           "y": [
            0.9980267284282716
           ]
          },
          {
           "type": "scatter",
           "x": [
            0,
            1
           ],
           "y": [
            0.06279051952931332,
            0.06279051952931332
           ]
          },
          {
           "type": "scatter",
           "x": [
            0,
            0
           ],
           "y": [
            0,
            0.06279051952931332
           ]
          },
          {
           "type": "scatter",
           "x": [
            0
           ],
           "y": [
            0.06279051952931332
           ]
          }
         ],
         "name": "62"
        },
        {
         "data": [
          {
           "line": {
            "width": 3
           },
           "mode": "lines",
           "type": "scatter",
           "x": [
            0,
            -0.0627905195293136
           ],
           "y": [
            0,
            0.9980267284282716
           ]
          },
          {
           "line": {
            "width": 3
           },
           "mode": "lines",
           "type": "scatter",
           "x": [
            0,
            -0.0627905195293136
           ],
           "y": [
            0.9980267284282716,
            0.9980267284282716
           ]
          },
          {
           "mode": "markers",
           "type": "scatter",
           "x": [
            -0.0627905195293136
           ],
           "y": [
            0.9980267284282716
           ]
          },
          {
           "type": "scatter",
           "x": [
            0,
            1
           ],
           "y": [
            -0.0627905195293136,
            -0.0627905195293136
           ]
          },
          {
           "type": "scatter",
           "x": [
            0,
            0
           ],
           "y": [
            0,
            -0.0627905195293136
           ]
          },
          {
           "type": "scatter",
           "x": [
            0
           ],
           "y": [
            -0.0627905195293136
           ]
          }
         ],
         "name": "63"
        },
        {
         "data": [
          {
           "line": {
            "width": 3
           },
           "mode": "lines",
           "type": "scatter",
           "x": [
            0,
            -0.18738131458572502
           ],
           "y": [
            0,
            0.9822872507286886
           ]
          },
          {
           "line": {
            "width": 3
           },
           "mode": "lines",
           "type": "scatter",
           "x": [
            0,
            -0.18738131458572502
           ],
           "y": [
            0.9822872507286886,
            0.9822872507286886
           ]
          },
          {
           "mode": "markers",
           "type": "scatter",
           "x": [
            -0.18738131458572502
           ],
           "y": [
            0.9822872507286886
           ]
          },
          {
           "type": "scatter",
           "x": [
            0,
            1
           ],
           "y": [
            -0.18738131458572502,
            -0.18738131458572502
           ]
          },
          {
           "type": "scatter",
           "x": [
            0,
            0
           ],
           "y": [
            0,
            -0.18738131458572502
           ]
          },
          {
           "type": "scatter",
           "x": [
            0
           ],
           "y": [
            -0.18738131458572502
           ]
          }
         ],
         "name": "64"
        },
        {
         "data": [
          {
           "line": {
            "width": 3
           },
           "mode": "lines",
           "type": "scatter",
           "x": [
            0,
            -0.3090169943749471
           ],
           "y": [
            0,
            0.9510565162951536
           ]
          },
          {
           "line": {
            "width": 3
           },
           "mode": "lines",
           "type": "scatter",
           "x": [
            0,
            -0.3090169943749471
           ],
           "y": [
            0.9510565162951536,
            0.9510565162951536
           ]
          },
          {
           "mode": "markers",
           "type": "scatter",
           "x": [
            -0.3090169943749471
           ],
           "y": [
            0.9510565162951536
           ]
          },
          {
           "type": "scatter",
           "x": [
            0,
            1
           ],
           "y": [
            -0.3090169943749471,
            -0.3090169943749471
           ]
          },
          {
           "type": "scatter",
           "x": [
            0,
            0
           ],
           "y": [
            0,
            -0.3090169943749471
           ]
          },
          {
           "type": "scatter",
           "x": [
            0
           ],
           "y": [
            -0.3090169943749471
           ]
          }
         ],
         "name": "65"
        },
        {
         "data": [
          {
           "line": {
            "width": 3
           },
           "mode": "lines",
           "type": "scatter",
           "x": [
            0,
            -0.4257792915650733
           ],
           "y": [
            0,
            0.9048270524660192
           ]
          },
          {
           "line": {
            "width": 3
           },
           "mode": "lines",
           "type": "scatter",
           "x": [
            0,
            -0.4257792915650733
           ],
           "y": [
            0.9048270524660192,
            0.9048270524660192
           ]
          },
          {
           "mode": "markers",
           "type": "scatter",
           "x": [
            -0.4257792915650733
           ],
           "y": [
            0.9048270524660192
           ]
          },
          {
           "type": "scatter",
           "x": [
            0,
            1
           ],
           "y": [
            -0.4257792915650733,
            -0.4257792915650733
           ]
          },
          {
           "type": "scatter",
           "x": [
            0,
            0
           ],
           "y": [
            0,
            -0.4257792915650733
           ]
          },
          {
           "type": "scatter",
           "x": [
            0
           ],
           "y": [
            -0.4257792915650733
           ]
          }
         ],
         "name": "66"
        },
        {
         "data": [
          {
           "line": {
            "width": 3
           },
           "mode": "lines",
           "type": "scatter",
           "x": [
            0,
            -0.5358267949789967
           ],
           "y": [
            0,
            0.8443279255020151
           ]
          },
          {
           "line": {
            "width": 3
           },
           "mode": "lines",
           "type": "scatter",
           "x": [
            0,
            -0.5358267949789967
           ],
           "y": [
            0.8443279255020151,
            0.8443279255020151
           ]
          },
          {
           "mode": "markers",
           "type": "scatter",
           "x": [
            -0.5358267949789967
           ],
           "y": [
            0.8443279255020151
           ]
          },
          {
           "type": "scatter",
           "x": [
            0,
            1
           ],
           "y": [
            -0.5358267949789967,
            -0.5358267949789967
           ]
          },
          {
           "type": "scatter",
           "x": [
            0,
            0
           ],
           "y": [
            0,
            -0.5358267949789967
           ]
          },
          {
           "type": "scatter",
           "x": [
            0
           ],
           "y": [
            -0.5358267949789967
           ]
          }
         ],
         "name": "67"
        },
        {
         "data": [
          {
           "line": {
            "width": 3
           },
           "mode": "lines",
           "type": "scatter",
           "x": [
            0,
            -0.6374239897486905
           ],
           "y": [
            0,
            0.7705132427757886
           ]
          },
          {
           "line": {
            "width": 3
           },
           "mode": "lines",
           "type": "scatter",
           "x": [
            0,
            -0.6374239897486905
           ],
           "y": [
            0.7705132427757886,
            0.7705132427757886
           ]
          },
          {
           "mode": "markers",
           "type": "scatter",
           "x": [
            -0.6374239897486905
           ],
           "y": [
            0.7705132427757886
           ]
          },
          {
           "type": "scatter",
           "x": [
            0,
            1
           ],
           "y": [
            -0.6374239897486905,
            -0.6374239897486905
           ]
          },
          {
           "type": "scatter",
           "x": [
            0,
            0
           ],
           "y": [
            0,
            -0.6374239897486905
           ]
          },
          {
           "type": "scatter",
           "x": [
            0
           ],
           "y": [
            -0.6374239897486905
           ]
          }
         ],
         "name": "68"
        },
        {
         "data": [
          {
           "line": {
            "width": 3
           },
           "mode": "lines",
           "type": "scatter",
           "x": [
            0,
            -0.7289686274214118
           ],
           "y": [
            0,
            0.6845471059286884
           ]
          },
          {
           "line": {
            "width": 3
           },
           "mode": "lines",
           "type": "scatter",
           "x": [
            0,
            -0.7289686274214118
           ],
           "y": [
            0.6845471059286884,
            0.6845471059286884
           ]
          },
          {
           "mode": "markers",
           "type": "scatter",
           "x": [
            -0.7289686274214118
           ],
           "y": [
            0.6845471059286884
           ]
          },
          {
           "type": "scatter",
           "x": [
            0,
            1
           ],
           "y": [
            -0.7289686274214118,
            -0.7289686274214118
           ]
          },
          {
           "type": "scatter",
           "x": [
            0,
            0
           ],
           "y": [
            0,
            -0.7289686274214118
           ]
          },
          {
           "type": "scatter",
           "x": [
            0
           ],
           "y": [
            -0.7289686274214118
           ]
          }
         ],
         "name": "69"
        },
        {
         "data": [
          {
           "line": {
            "width": 3
           },
           "mode": "lines",
           "type": "scatter",
           "x": [
            0,
            -0.8090169943749472
           ],
           "y": [
            0,
            0.5877852522924734
           ]
          },
          {
           "line": {
            "width": 3
           },
           "mode": "lines",
           "type": "scatter",
           "x": [
            0,
            -0.8090169943749472
           ],
           "y": [
            0.5877852522924734,
            0.5877852522924734
           ]
          },
          {
           "mode": "markers",
           "type": "scatter",
           "x": [
            -0.8090169943749472
           ],
           "y": [
            0.5877852522924734
           ]
          },
          {
           "type": "scatter",
           "x": [
            0,
            1
           ],
           "y": [
            -0.8090169943749472,
            -0.8090169943749472
           ]
          },
          {
           "type": "scatter",
           "x": [
            0,
            0
           ],
           "y": [
            0,
            -0.8090169943749472
           ]
          },
          {
           "type": "scatter",
           "x": [
            0
           ],
           "y": [
            -0.8090169943749472
           ]
          }
         ],
         "name": "70"
        },
        {
         "data": [
          {
           "line": {
            "width": 3
           },
           "mode": "lines",
           "type": "scatter",
           "x": [
            0,
            -0.8763066800438639
           ],
           "y": [
            0,
            0.48175367410171466
           ]
          },
          {
           "line": {
            "width": 3
           },
           "mode": "lines",
           "type": "scatter",
           "x": [
            0,
            -0.8763066800438639
           ],
           "y": [
            0.48175367410171466,
            0.48175367410171466
           ]
          },
          {
           "mode": "markers",
           "type": "scatter",
           "x": [
            -0.8763066800438639
           ],
           "y": [
            0.48175367410171466
           ]
          },
          {
           "type": "scatter",
           "x": [
            0,
            1
           ],
           "y": [
            -0.8763066800438639,
            -0.8763066800438639
           ]
          },
          {
           "type": "scatter",
           "x": [
            0,
            0
           ],
           "y": [
            0,
            -0.8763066800438639
           ]
          },
          {
           "type": "scatter",
           "x": [
            0
           ],
           "y": [
            -0.8763066800438639
           ]
          }
         ],
         "name": "71"
        },
        {
         "data": [
          {
           "line": {
            "width": 3
           },
           "mode": "lines",
           "type": "scatter",
           "x": [
            0,
            -0.9297764858882515
           ],
           "y": [
            0,
            0.368124552684678
           ]
          },
          {
           "line": {
            "width": 3
           },
           "mode": "lines",
           "type": "scatter",
           "x": [
            0,
            -0.9297764858882515
           ],
           "y": [
            0.368124552684678,
            0.368124552684678
           ]
          },
          {
           "mode": "markers",
           "type": "scatter",
           "x": [
            -0.9297764858882515
           ],
           "y": [
            0.368124552684678
           ]
          },
          {
           "type": "scatter",
           "x": [
            0,
            1
           ],
           "y": [
            -0.9297764858882515,
            -0.9297764858882515
           ]
          },
          {
           "type": "scatter",
           "x": [
            0,
            0
           ],
           "y": [
            0,
            -0.9297764858882515
           ]
          },
          {
           "type": "scatter",
           "x": [
            0
           ],
           "y": [
            -0.9297764858882515
           ]
          }
         ],
         "name": "72"
        },
        {
         "data": [
          {
           "line": {
            "width": 3
           },
           "mode": "lines",
           "type": "scatter",
           "x": [
            0,
            -0.9685831611286314
           ],
           "y": [
            0,
            0.24868988716485377
           ]
          },
          {
           "line": {
            "width": 3
           },
           "mode": "lines",
           "type": "scatter",
           "x": [
            0,
            -0.9685831611286314
           ],
           "y": [
            0.24868988716485377,
            0.24868988716485377
           ]
          },
          {
           "mode": "markers",
           "type": "scatter",
           "x": [
            -0.9685831611286314
           ],
           "y": [
            0.24868988716485377
           ]
          },
          {
           "type": "scatter",
           "x": [
            0,
            1
           ],
           "y": [
            -0.9685831611286314,
            -0.9685831611286314
           ]
          },
          {
           "type": "scatter",
           "x": [
            0,
            0
           ],
           "y": [
            0,
            -0.9685831611286314
           ]
          },
          {
           "type": "scatter",
           "x": [
            0
           ],
           "y": [
            -0.9685831611286314
           ]
          }
         ],
         "name": "73"
        },
        {
         "data": [
          {
           "line": {
            "width": 3
           },
           "mode": "lines",
           "type": "scatter",
           "x": [
            0,
            -0.9921147013144779
           ],
           "y": [
            0,
            0.1253332335643039
           ]
          },
          {
           "line": {
            "width": 3
           },
           "mode": "lines",
           "type": "scatter",
           "x": [
            0,
            -0.9921147013144779
           ],
           "y": [
            0.1253332335643039,
            0.1253332335643039
           ]
          },
          {
           "mode": "markers",
           "type": "scatter",
           "x": [
            -0.9921147013144779
           ],
           "y": [
            0.1253332335643039
           ]
          },
          {
           "type": "scatter",
           "x": [
            0,
            1
           ],
           "y": [
            -0.9921147013144779,
            -0.9921147013144779
           ]
          },
          {
           "type": "scatter",
           "x": [
            0,
            0
           ],
           "y": [
            0,
            -0.9921147013144779
           ]
          },
          {
           "type": "scatter",
           "x": [
            0
           ],
           "y": [
            -0.9921147013144779
           ]
          }
         ],
         "name": "74"
        },
        {
         "data": [
          {
           "line": {
            "width": 3
           },
           "mode": "lines",
           "type": "scatter",
           "x": [
            0,
            -1.0
           ],
           "y": [
            0,
            3.6739403974420594e-16
           ]
          },
          {
           "line": {
            "width": 3
           },
           "mode": "lines",
           "type": "scatter",
           "x": [
            0,
            -1.0
           ],
           "y": [
            3.6739403974420594e-16,
            3.6739403974420594e-16
           ]
          },
          {
           "mode": "markers",
           "type": "scatter",
           "x": [
            -1.0
           ],
           "y": [
            3.6739403974420594e-16
           ]
          },
          {
           "type": "scatter",
           "x": [
            0,
            1
           ],
           "y": [
            -1.0,
            -1.0
           ]
          },
          {
           "type": "scatter",
           "x": [
            0,
            0
           ],
           "y": [
            0,
            -1.0
           ]
          },
          {
           "type": "scatter",
           "x": [
            0
           ],
           "y": [
            -1.0
           ]
          }
         ],
         "name": "75"
        },
        {
         "data": [
          {
           "line": {
            "width": 3
           },
           "mode": "lines",
           "type": "scatter",
           "x": [
            0,
            -0.9921147013144778
           ],
           "y": [
            0,
            -0.12533323356430492
           ]
          },
          {
           "line": {
            "width": 3
           },
           "mode": "lines",
           "type": "scatter",
           "x": [
            0,
            -0.9921147013144778
           ],
           "y": [
            -0.12533323356430492,
            -0.12533323356430492
           ]
          },
          {
           "mode": "markers",
           "type": "scatter",
           "x": [
            -0.9921147013144778
           ],
           "y": [
            -0.12533323356430492
           ]
          },
          {
           "type": "scatter",
           "x": [
            0,
            1
           ],
           "y": [
            -0.9921147013144778,
            -0.9921147013144778
           ]
          },
          {
           "type": "scatter",
           "x": [
            0,
            0
           ],
           "y": [
            0,
            -0.9921147013144778
           ]
          },
          {
           "type": "scatter",
           "x": [
            0
           ],
           "y": [
            -0.9921147013144778
           ]
          }
         ],
         "name": "76"
        },
        {
         "data": [
          {
           "line": {
            "width": 3
           },
           "mode": "lines",
           "type": "scatter",
           "x": [
            0,
            -0.9685831611286311
           ],
           "y": [
            0,
            -0.24868988716485477
           ]
          },
          {
           "line": {
            "width": 3
           },
           "mode": "lines",
           "type": "scatter",
           "x": [
            0,
            -0.9685831611286311
           ],
           "y": [
            -0.24868988716485477,
            -0.24868988716485477
           ]
          },
          {
           "mode": "markers",
           "type": "scatter",
           "x": [
            -0.9685831611286311
           ],
           "y": [
            -0.24868988716485477
           ]
          },
          {
           "type": "scatter",
           "x": [
            0,
            1
           ],
           "y": [
            -0.9685831611286311,
            -0.9685831611286311
           ]
          },
          {
           "type": "scatter",
           "x": [
            0,
            0
           ],
           "y": [
            0,
            -0.9685831611286311
           ]
          },
          {
           "type": "scatter",
           "x": [
            0
           ],
           "y": [
            -0.9685831611286311
           ]
          }
         ],
         "name": "77"
        },
        {
         "data": [
          {
           "line": {
            "width": 3
           },
           "mode": "lines",
           "type": "scatter",
           "x": [
            0,
            -0.929776485888251
           ],
           "y": [
            0,
            -0.3681245526846789
           ]
          },
          {
           "line": {
            "width": 3
           },
           "mode": "lines",
           "type": "scatter",
           "x": [
            0,
            -0.929776485888251
           ],
           "y": [
            -0.3681245526846789,
            -0.3681245526846789
           ]
          },
          {
           "mode": "markers",
           "type": "scatter",
           "x": [
            -0.929776485888251
           ],
           "y": [
            -0.3681245526846789
           ]
          },
          {
           "type": "scatter",
           "x": [
            0,
            1
           ],
           "y": [
            -0.929776485888251,
            -0.929776485888251
           ]
          },
          {
           "type": "scatter",
           "x": [
            0,
            0
           ],
           "y": [
            0,
            -0.929776485888251
           ]
          },
          {
           "type": "scatter",
           "x": [
            0
           ],
           "y": [
            -0.929776485888251
           ]
          }
         ],
         "name": "78"
        },
        {
         "data": [
          {
           "line": {
            "width": 3
           },
           "mode": "lines",
           "type": "scatter",
           "x": [
            0,
            -0.8763066800438635
           ],
           "y": [
            0,
            -0.48175367410171555
           ]
          },
          {
           "line": {
            "width": 3
           },
           "mode": "lines",
           "type": "scatter",
           "x": [
            0,
            -0.8763066800438635
           ],
           "y": [
            -0.48175367410171555,
            -0.48175367410171555
           ]
          },
          {
           "mode": "markers",
           "type": "scatter",
           "x": [
            -0.8763066800438635
           ],
           "y": [
            -0.48175367410171555
           ]
          },
          {
           "type": "scatter",
           "x": [
            0,
            1
           ],
           "y": [
            -0.8763066800438635,
            -0.8763066800438635
           ]
          },
          {
           "type": "scatter",
           "x": [
            0,
            0
           ],
           "y": [
            0,
            -0.8763066800438635
           ]
          },
          {
           "type": "scatter",
           "x": [
            0
           ],
           "y": [
            -0.8763066800438635
           ]
          }
         ],
         "name": "79"
        },
        {
         "data": [
          {
           "line": {
            "width": 3
           },
           "mode": "lines",
           "type": "scatter",
           "x": [
            0,
            -0.8090169943749477
           ],
           "y": [
            0,
            -0.5877852522924728
           ]
          },
          {
           "line": {
            "width": 3
           },
           "mode": "lines",
           "type": "scatter",
           "x": [
            0,
            -0.8090169943749477
           ],
           "y": [
            -0.5877852522924728,
            -0.5877852522924728
           ]
          },
          {
           "mode": "markers",
           "type": "scatter",
           "x": [
            -0.8090169943749477
           ],
           "y": [
            -0.5877852522924728
           ]
          },
          {
           "type": "scatter",
           "x": [
            0,
            1
           ],
           "y": [
            -0.8090169943749477,
            -0.8090169943749477
           ]
          },
          {
           "type": "scatter",
           "x": [
            0,
            0
           ],
           "y": [
            0,
            -0.8090169943749477
           ]
          },
          {
           "type": "scatter",
           "x": [
            0
           ],
           "y": [
            -0.8090169943749477
           ]
          }
         ],
         "name": "80"
        },
        {
         "data": [
          {
           "line": {
            "width": 3
           },
           "mode": "lines",
           "type": "scatter",
           "x": [
            0,
            -0.728968627421411
           ],
           "y": [
            0,
            -0.6845471059286892
           ]
          },
          {
           "line": {
            "width": 3
           },
           "mode": "lines",
           "type": "scatter",
           "x": [
            0,
            -0.728968627421411
           ],
           "y": [
            -0.6845471059286892,
            -0.6845471059286892
           ]
          },
          {
           "mode": "markers",
           "type": "scatter",
           "x": [
            -0.728968627421411
           ],
           "y": [
            -0.6845471059286892
           ]
          },
          {
           "type": "scatter",
           "x": [
            0,
            1
           ],
           "y": [
            -0.728968627421411,
            -0.728968627421411
           ]
          },
          {
           "type": "scatter",
           "x": [
            0,
            0
           ],
           "y": [
            0,
            -0.728968627421411
           ]
          },
          {
           "type": "scatter",
           "x": [
            0
           ],
           "y": [
            -0.728968627421411
           ]
          }
         ],
         "name": "81"
        },
        {
         "data": [
          {
           "line": {
            "width": 3
           },
           "mode": "lines",
           "type": "scatter",
           "x": [
            0,
            -0.6374239897486897
           ],
           "y": [
            0,
            -0.7705132427757891
           ]
          },
          {
           "line": {
            "width": 3
           },
           "mode": "lines",
           "type": "scatter",
           "x": [
            0,
            -0.6374239897486897
           ],
           "y": [
            -0.7705132427757891,
            -0.7705132427757891
           ]
          },
          {
           "mode": "markers",
           "type": "scatter",
           "x": [
            -0.6374239897486897
           ],
           "y": [
            -0.7705132427757891
           ]
          },
          {
           "type": "scatter",
           "x": [
            0,
            1
           ],
           "y": [
            -0.6374239897486897,
            -0.6374239897486897
           ]
          },
          {
           "type": "scatter",
           "x": [
            0,
            0
           ],
           "y": [
            0,
            -0.6374239897486897
           ]
          },
          {
           "type": "scatter",
           "x": [
            0
           ],
           "y": [
            -0.6374239897486897
           ]
          }
         ],
         "name": "82"
        },
        {
         "data": [
          {
           "line": {
            "width": 3
           },
           "mode": "lines",
           "type": "scatter",
           "x": [
            0,
            -0.5358267949789958
           ],
           "y": [
            0,
            -0.8443279255020156
           ]
          },
          {
           "line": {
            "width": 3
           },
           "mode": "lines",
           "type": "scatter",
           "x": [
            0,
            -0.5358267949789958
           ],
           "y": [
            -0.8443279255020156,
            -0.8443279255020156
           ]
          },
          {
           "mode": "markers",
           "type": "scatter",
           "x": [
            -0.5358267949789958
           ],
           "y": [
            -0.8443279255020156
           ]
          },
          {
           "type": "scatter",
           "x": [
            0,
            1
           ],
           "y": [
            -0.5358267949789958,
            -0.5358267949789958
           ]
          },
          {
           "type": "scatter",
           "x": [
            0,
            0
           ],
           "y": [
            0,
            -0.5358267949789958
           ]
          },
          {
           "type": "scatter",
           "x": [
            0
           ],
           "y": [
            -0.5358267949789958
           ]
          }
         ],
         "name": "83"
        },
        {
         "data": [
          {
           "line": {
            "width": 3
           },
           "mode": "lines",
           "type": "scatter",
           "x": [
            0,
            -0.4257792915650724
           ],
           "y": [
            0,
            -0.9048270524660197
           ]
          },
          {
           "line": {
            "width": 3
           },
           "mode": "lines",
           "type": "scatter",
           "x": [
            0,
            -0.4257792915650724
           ],
           "y": [
            -0.9048270524660197,
            -0.9048270524660197
           ]
          },
          {
           "mode": "markers",
           "type": "scatter",
           "x": [
            -0.4257792915650724
           ],
           "y": [
            -0.9048270524660197
           ]
          },
          {
           "type": "scatter",
           "x": [
            0,
            1
           ],
           "y": [
            -0.4257792915650724,
            -0.4257792915650724
           ]
          },
          {
           "type": "scatter",
           "x": [
            0,
            0
           ],
           "y": [
            0,
            -0.4257792915650724
           ]
          },
          {
           "type": "scatter",
           "x": [
            0
           ],
           "y": [
            -0.4257792915650724
           ]
          }
         ],
         "name": "84"
        },
        {
         "data": [
          {
           "line": {
            "width": 3
           },
           "mode": "lines",
           "type": "scatter",
           "x": [
            0,
            -0.3090169943749461
           ],
           "y": [
            0,
            -0.951056516295154
           ]
          },
          {
           "line": {
            "width": 3
           },
           "mode": "lines",
           "type": "scatter",
           "x": [
            0,
            -0.3090169943749461
           ],
           "y": [
            -0.951056516295154,
            -0.951056516295154
           ]
          },
          {
           "mode": "markers",
           "type": "scatter",
           "x": [
            -0.3090169943749461
           ],
           "y": [
            -0.951056516295154
           ]
          },
          {
           "type": "scatter",
           "x": [
            0,
            1
           ],
           "y": [
            -0.3090169943749461,
            -0.3090169943749461
           ]
          },
          {
           "type": "scatter",
           "x": [
            0,
            0
           ],
           "y": [
            0,
            -0.3090169943749461
           ]
          },
          {
           "type": "scatter",
           "x": [
            0
           ],
           "y": [
            -0.3090169943749461
           ]
          }
         ],
         "name": "85"
        },
        {
         "data": [
          {
           "line": {
            "width": 3
           },
           "mode": "lines",
           "type": "scatter",
           "x": [
            0,
            -0.187381314585724
           ],
           "y": [
            0,
            -0.9822872507286888
           ]
          },
          {
           "line": {
            "width": 3
           },
           "mode": "lines",
           "type": "scatter",
           "x": [
            0,
            -0.187381314585724
           ],
           "y": [
            -0.9822872507286888,
            -0.9822872507286888
           ]
          },
          {
           "mode": "markers",
           "type": "scatter",
           "x": [
            -0.187381314585724
           ],
           "y": [
            -0.9822872507286888
           ]
          },
          {
           "type": "scatter",
           "x": [
            0,
            1
           ],
           "y": [
            -0.187381314585724,
            -0.187381314585724
           ]
          },
          {
           "type": "scatter",
           "x": [
            0,
            0
           ],
           "y": [
            0,
            -0.187381314585724
           ]
          },
          {
           "type": "scatter",
           "x": [
            0
           ],
           "y": [
            -0.187381314585724
           ]
          }
         ],
         "name": "86"
        },
        {
         "data": [
          {
           "line": {
            "width": 3
           },
           "mode": "lines",
           "type": "scatter",
           "x": [
            0,
            -0.06279051952931344
           ],
           "y": [
            0,
            -0.9980267284282716
           ]
          },
          {
           "line": {
            "width": 3
           },
           "mode": "lines",
           "type": "scatter",
           "x": [
            0,
            -0.06279051952931344
           ],
           "y": [
            -0.9980267284282716,
            -0.9980267284282716
           ]
          },
          {
           "mode": "markers",
           "type": "scatter",
           "x": [
            -0.06279051952931344
           ],
           "y": [
            -0.9980267284282716
           ]
          },
          {
           "type": "scatter",
           "x": [
            0,
            1
           ],
           "y": [
            -0.06279051952931344,
            -0.06279051952931344
           ]
          },
          {
           "type": "scatter",
           "x": [
            0,
            0
           ],
           "y": [
            0,
            -0.06279051952931344
           ]
          },
          {
           "type": "scatter",
           "x": [
            0
           ],
           "y": [
            -0.06279051952931344
           ]
          }
         ],
         "name": "87"
        },
        {
         "data": [
          {
           "line": {
            "width": 3
           },
           "mode": "lines",
           "type": "scatter",
           "x": [
            0,
            0.06279051952931436
           ],
           "y": [
            0,
            -0.9980267284282714
           ]
          },
          {
           "line": {
            "width": 3
           },
           "mode": "lines",
           "type": "scatter",
           "x": [
            0,
            0.06279051952931436
           ],
           "y": [
            -0.9980267284282714,
            -0.9980267284282714
           ]
          },
          {
           "mode": "markers",
           "type": "scatter",
           "x": [
            0.06279051952931436
           ],
           "y": [
            -0.9980267284282714
           ]
          },
          {
           "type": "scatter",
           "x": [
            0,
            1
           ],
           "y": [
            0.06279051952931436,
            0.06279051952931436
           ]
          },
          {
           "type": "scatter",
           "x": [
            0,
            0
           ],
           "y": [
            0,
            0.06279051952931436
           ]
          },
          {
           "type": "scatter",
           "x": [
            0
           ],
           "y": [
            0.06279051952931436
           ]
          }
         ],
         "name": "88"
        },
        {
         "data": [
          {
           "line": {
            "width": 3
           },
           "mode": "lines",
           "type": "scatter",
           "x": [
            0,
            0.1873813145857249
           ],
           "y": [
            0,
            -0.9822872507286886
           ]
          },
          {
           "line": {
            "width": 3
           },
           "mode": "lines",
           "type": "scatter",
           "x": [
            0,
            0.1873813145857249
           ],
           "y": [
            -0.9822872507286886,
            -0.9822872507286886
           ]
          },
          {
           "mode": "markers",
           "type": "scatter",
           "x": [
            0.1873813145857249
           ],
           "y": [
            -0.9822872507286886
           ]
          },
          {
           "type": "scatter",
           "x": [
            0,
            1
           ],
           "y": [
            0.1873813145857249,
            0.1873813145857249
           ]
          },
          {
           "type": "scatter",
           "x": [
            0,
            0
           ],
           "y": [
            0,
            0.1873813145857249
           ]
          },
          {
           "type": "scatter",
           "x": [
            0
           ],
           "y": [
            0.1873813145857249
           ]
          }
         ],
         "name": "89"
        },
        {
         "data": [
          {
           "line": {
            "width": 3
           },
           "mode": "lines",
           "type": "scatter",
           "x": [
            0,
            0.3090169943749487
           ],
           "y": [
            0,
            -0.9510565162951532
           ]
          },
          {
           "line": {
            "width": 3
           },
           "mode": "lines",
           "type": "scatter",
           "x": [
            0,
            0.3090169943749487
           ],
           "y": [
            -0.9510565162951532,
            -0.9510565162951532
           ]
          },
          {
           "mode": "markers",
           "type": "scatter",
           "x": [
            0.3090169943749487
           ],
           "y": [
            -0.9510565162951532
           ]
          },
          {
           "type": "scatter",
           "x": [
            0,
            1
           ],
           "y": [
            0.3090169943749487,
            0.3090169943749487
           ]
          },
          {
           "type": "scatter",
           "x": [
            0,
            0
           ],
           "y": [
            0,
            0.3090169943749487
           ]
          },
          {
           "type": "scatter",
           "x": [
            0
           ],
           "y": [
            0.3090169943749487
           ]
          }
         ],
         "name": "90"
        },
        {
         "data": [
          {
           "line": {
            "width": 3
           },
           "mode": "lines",
           "type": "scatter",
           "x": [
            0,
            0.4257792915650732
           ],
           "y": [
            0,
            -0.9048270524660192
           ]
          },
          {
           "line": {
            "width": 3
           },
           "mode": "lines",
           "type": "scatter",
           "x": [
            0,
            0.4257792915650732
           ],
           "y": [
            -0.9048270524660192,
            -0.9048270524660192
           ]
          },
          {
           "mode": "markers",
           "type": "scatter",
           "x": [
            0.4257792915650732
           ],
           "y": [
            -0.9048270524660192
           ]
          },
          {
           "type": "scatter",
           "x": [
            0,
            1
           ],
           "y": [
            0.4257792915650732,
            0.4257792915650732
           ]
          },
          {
           "type": "scatter",
           "x": [
            0,
            0
           ],
           "y": [
            0,
            0.4257792915650732
           ]
          },
          {
           "type": "scatter",
           "x": [
            0
           ],
           "y": [
            0.4257792915650732
           ]
          }
         ],
         "name": "91"
        },
        {
         "data": [
          {
           "line": {
            "width": 3
           },
           "mode": "lines",
           "type": "scatter",
           "x": [
            0,
            0.5358267949789965
           ],
           "y": [
            0,
            -0.8443279255020152
           ]
          },
          {
           "line": {
            "width": 3
           },
           "mode": "lines",
           "type": "scatter",
           "x": [
            0,
            0.5358267949789965
           ],
           "y": [
            -0.8443279255020152,
            -0.8443279255020152
           ]
          },
          {
           "mode": "markers",
           "type": "scatter",
           "x": [
            0.5358267949789965
           ],
           "y": [
            -0.8443279255020152
           ]
          },
          {
           "type": "scatter",
           "x": [
            0,
            1
           ],
           "y": [
            0.5358267949789965,
            0.5358267949789965
           ]
          },
          {
           "type": "scatter",
           "x": [
            0,
            0
           ],
           "y": [
            0,
            0.5358267949789965
           ]
          },
          {
           "type": "scatter",
           "x": [
            0
           ],
           "y": [
            0.5358267949789965
           ]
          }
         ],
         "name": "92"
        },
        {
         "data": [
          {
           "line": {
            "width": 3
           },
           "mode": "lines",
           "type": "scatter",
           "x": [
            0,
            0.6374239897486904
           ],
           "y": [
            0,
            -0.7705132427757886
           ]
          },
          {
           "line": {
            "width": 3
           },
           "mode": "lines",
           "type": "scatter",
           "x": [
            0,
            0.6374239897486904
           ],
           "y": [
            -0.7705132427757886,
            -0.7705132427757886
           ]
          },
          {
           "mode": "markers",
           "type": "scatter",
           "x": [
            0.6374239897486904
           ],
           "y": [
            -0.7705132427757886
           ]
          },
          {
           "type": "scatter",
           "x": [
            0,
            1
           ],
           "y": [
            0.6374239897486904,
            0.6374239897486904
           ]
          },
          {
           "type": "scatter",
           "x": [
            0,
            0
           ],
           "y": [
            0,
            0.6374239897486904
           ]
          },
          {
           "type": "scatter",
           "x": [
            0
           ],
           "y": [
            0.6374239897486904
           ]
          }
         ],
         "name": "93"
        },
        {
         "data": [
          {
           "line": {
            "width": 3
           },
           "mode": "lines",
           "type": "scatter",
           "x": [
            0,
            0.7289686274214117
           ],
           "y": [
            0,
            -0.6845471059286885
           ]
          },
          {
           "line": {
            "width": 3
           },
           "mode": "lines",
           "type": "scatter",
           "x": [
            0,
            0.7289686274214117
           ],
           "y": [
            -0.6845471059286885,
            -0.6845471059286885
           ]
          },
          {
           "mode": "markers",
           "type": "scatter",
           "x": [
            0.7289686274214117
           ],
           "y": [
            -0.6845471059286885
           ]
          },
          {
           "type": "scatter",
           "x": [
            0,
            1
           ],
           "y": [
            0.7289686274214117,
            0.7289686274214117
           ]
          },
          {
           "type": "scatter",
           "x": [
            0,
            0
           ],
           "y": [
            0,
            0.7289686274214117
           ]
          },
          {
           "type": "scatter",
           "x": [
            0
           ],
           "y": [
            0.7289686274214117
           ]
          }
         ],
         "name": "94"
        },
        {
         "data": [
          {
           "line": {
            "width": 3
           },
           "mode": "lines",
           "type": "scatter",
           "x": [
            0,
            0.8090169943749482
           ],
           "y": [
            0,
            -0.587785252292472
           ]
          },
          {
           "line": {
            "width": 3
           },
           "mode": "lines",
           "type": "scatter",
           "x": [
            0,
            0.8090169943749482
           ],
           "y": [
            -0.587785252292472,
            -0.587785252292472
           ]
          },
          {
           "mode": "markers",
           "type": "scatter",
           "x": [
            0.8090169943749482
           ],
           "y": [
            -0.587785252292472
           ]
          },
          {
           "type": "scatter",
           "x": [
            0,
            1
           ],
           "y": [
            0.8090169943749482,
            0.8090169943749482
           ]
          },
          {
           "type": "scatter",
           "x": [
            0,
            0
           ],
           "y": [
            0,
            0.8090169943749482
           ]
          },
          {
           "type": "scatter",
           "x": [
            0
           ],
           "y": [
            0.8090169943749482
           ]
          }
         ],
         "name": "95"
        },
        {
         "data": [
          {
           "line": {
            "width": 3
           },
           "mode": "lines",
           "type": "scatter",
           "x": [
            0,
            0.8763066800438639
           ],
           "y": [
            0,
            -0.48175367410171477
           ]
          },
          {
           "line": {
            "width": 3
           },
           "mode": "lines",
           "type": "scatter",
           "x": [
            0,
            0.8763066800438639
           ],
           "y": [
            -0.48175367410171477,
            -0.48175367410171477
           ]
          },
          {
           "mode": "markers",
           "type": "scatter",
           "x": [
            0.8763066800438639
           ],
           "y": [
            -0.48175367410171477
           ]
          },
          {
           "type": "scatter",
           "x": [
            0,
            1
           ],
           "y": [
            0.8763066800438639,
            0.8763066800438639
           ]
          },
          {
           "type": "scatter",
           "x": [
            0,
            0
           ],
           "y": [
            0,
            0.8763066800438639
           ]
          },
          {
           "type": "scatter",
           "x": [
            0
           ],
           "y": [
            0.8763066800438639
           ]
          }
         ],
         "name": "96"
        },
        {
         "data": [
          {
           "line": {
            "width": 3
           },
           "mode": "lines",
           "type": "scatter",
           "x": [
            0,
            0.9297764858882513
           ],
           "y": [
            0,
            -0.3681245526846781
           ]
          },
          {
           "line": {
            "width": 3
           },
           "mode": "lines",
           "type": "scatter",
           "x": [
            0,
            0.9297764858882513
           ],
           "y": [
            -0.3681245526846781,
            -0.3681245526846781
           ]
          },
          {
           "mode": "markers",
           "type": "scatter",
           "x": [
            0.9297764858882513
           ],
           "y": [
            -0.3681245526846781
           ]
          },
          {
           "type": "scatter",
           "x": [
            0,
            1
           ],
           "y": [
            0.9297764858882513,
            0.9297764858882513
           ]
          },
          {
           "type": "scatter",
           "x": [
            0,
            0
           ],
           "y": [
            0,
            0.9297764858882513
           ]
          },
          {
           "type": "scatter",
           "x": [
            0
           ],
           "y": [
            0.9297764858882513
           ]
          }
         ],
         "name": "97"
        },
        {
         "data": [
          {
           "line": {
            "width": 3
           },
           "mode": "lines",
           "type": "scatter",
           "x": [
            0,
            0.9685831611286314
           ],
           "y": [
            0,
            -0.24868988716485388
           ]
          },
          {
           "line": {
            "width": 3
           },
           "mode": "lines",
           "type": "scatter",
           "x": [
            0,
            0.9685831611286314
           ],
           "y": [
            -0.24868988716485388,
            -0.24868988716485388
           ]
          },
          {
           "mode": "markers",
           "type": "scatter",
           "x": [
            0.9685831611286314
           ],
           "y": [
            -0.24868988716485388
           ]
          },
          {
           "type": "scatter",
           "x": [
            0,
            1
           ],
           "y": [
            0.9685831611286314,
            0.9685831611286314
           ]
          },
          {
           "type": "scatter",
           "x": [
            0,
            0
           ],
           "y": [
            0,
            0.9685831611286314
           ]
          },
          {
           "type": "scatter",
           "x": [
            0
           ],
           "y": [
            0.9685831611286314
           ]
          }
         ],
         "name": "98"
        },
        {
         "data": [
          {
           "line": {
            "width": 3
           },
           "mode": "lines",
           "type": "scatter",
           "x": [
            0,
            0.9921147013144779
           ],
           "y": [
            0,
            -0.125333233564304
           ]
          },
          {
           "line": {
            "width": 3
           },
           "mode": "lines",
           "type": "scatter",
           "x": [
            0,
            0.9921147013144779
           ],
           "y": [
            -0.125333233564304,
            -0.125333233564304
           ]
          },
          {
           "mode": "markers",
           "type": "scatter",
           "x": [
            0.9921147013144779
           ],
           "y": [
            -0.125333233564304
           ]
          },
          {
           "type": "scatter",
           "x": [
            0,
            1
           ],
           "y": [
            0.9921147013144779,
            0.9921147013144779
           ]
          },
          {
           "type": "scatter",
           "x": [
            0,
            0
           ],
           "y": [
            0,
            0.9921147013144779
           ]
          },
          {
           "type": "scatter",
           "x": [
            0
           ],
           "y": [
            0.9921147013144779
           ]
          }
         ],
         "name": "99"
        },
        {
         "data": [
          {
           "line": {
            "width": 3
           },
           "mode": "lines",
           "type": "scatter",
           "x": [
            0,
            1.0
           ],
           "y": [
            0,
            -4.898587196589413e-16
           ]
          },
          {
           "line": {
            "width": 3
           },
           "mode": "lines",
           "type": "scatter",
           "x": [
            0,
            1.0
           ],
           "y": [
            -4.898587196589413e-16,
            -4.898587196589413e-16
           ]
          },
          {
           "mode": "markers",
           "type": "scatter",
           "x": [
            1.0
           ],
           "y": [
            -4.898587196589413e-16
           ]
          },
          {
           "type": "scatter",
           "x": [
            0,
            1
           ],
           "y": [
            1.0,
            1.0
           ]
          },
          {
           "type": "scatter",
           "x": [
            0,
            0
           ],
           "y": [
            0,
            1.0
           ]
          },
          {
           "type": "scatter",
           "x": [
            0
           ],
           "y": [
            1.0
           ]
          }
         ],
         "name": "100"
        }
       ],
       "layout": {
        "annotations": [
         {
          "font": {
           "size": 16
          },
          "showarrow": false,
          "text": "Phasor Domain",
          "x": 0.225,
          "xanchor": "center",
          "xref": "paper",
          "y": 1.0,
          "yanchor": "bottom",
          "yref": "paper"
         },
         {
          "font": {
           "size": 16
          },
          "showarrow": false,
          "text": "Spatial Domain",
          "x": 0.775,
          "xanchor": "center",
          "xref": "paper",
          "y": 1.0,
          "yanchor": "bottom",
          "yref": "paper"
         }
        ],
        "sliders": [
         {
          "active": 0,
          "pad": {
           "t": 50
          },
          "steps": [
           {
            "args": [
             [
              "0"
             ],
             {
              "frame": {
               "duration": 0,
               "redraw": true
              },
              "mode": "immediate",
              "transition": {
               "duration": 0
              }
             }
            ],
            "label": "Time: 0.0",
            "method": "animate"
           },
           {
            "args": [
             [
              "1"
             ],
             {
              "frame": {
               "duration": 0,
               "redraw": true
              },
              "mode": "immediate",
              "transition": {
               "duration": 0
              }
             }
            ],
            "label": "Time: 0.13",
            "method": "animate"
           },
           {
            "args": [
             [
              "2"
             ],
             {
              "frame": {
               "duration": 0,
               "redraw": true
              },
              "mode": "immediate",
              "transition": {
               "duration": 0
              }
             }
            ],
            "label": "Time: 0.25",
            "method": "animate"
           },
           {
            "args": [
             [
              "3"
             ],
             {
              "frame": {
               "duration": 0,
               "redraw": true
              },
              "mode": "immediate",
              "transition": {
               "duration": 0
              }
             }
            ],
            "label": "Time: 0.38",
            "method": "animate"
           },
           {
            "args": [
             [
              "4"
             ],
             {
              "frame": {
               "duration": 0,
               "redraw": true
              },
              "mode": "immediate",
              "transition": {
               "duration": 0
              }
             }
            ],
            "label": "Time: 0.5",
            "method": "animate"
           },
           {
            "args": [
             [
              "5"
             ],
             {
              "frame": {
               "duration": 0,
               "redraw": true
              },
              "mode": "immediate",
              "transition": {
               "duration": 0
              }
             }
            ],
            "label": "Time: 0.63",
            "method": "animate"
           },
           {
            "args": [
             [
              "6"
             ],
             {
              "frame": {
               "duration": 0,
               "redraw": true
              },
              "mode": "immediate",
              "transition": {
               "duration": 0
              }
             }
            ],
            "label": "Time: 0.75",
            "method": "animate"
           },
           {
            "args": [
             [
              "7"
             ],
             {
              "frame": {
               "duration": 0,
               "redraw": true
              },
              "mode": "immediate",
              "transition": {
               "duration": 0
              }
             }
            ],
            "label": "Time: 0.88",
            "method": "animate"
           },
           {
            "args": [
             [
              "8"
             ],
             {
              "frame": {
               "duration": 0,
               "redraw": true
              },
              "mode": "immediate",
              "transition": {
               "duration": 0
              }
             }
            ],
            "label": "Time: 1.01",
            "method": "animate"
           },
           {
            "args": [
             [
              "9"
             ],
             {
              "frame": {
               "duration": 0,
               "redraw": true
              },
              "mode": "immediate",
              "transition": {
               "duration": 0
              }
             }
            ],
            "label": "Time: 1.13",
            "method": "animate"
           },
           {
            "args": [
             [
              "10"
             ],
             {
              "frame": {
               "duration": 0,
               "redraw": true
              },
              "mode": "immediate",
              "transition": {
               "duration": 0
              }
             }
            ],
            "label": "Time: 1.26",
            "method": "animate"
           },
           {
            "args": [
             [
              "11"
             ],
             {
              "frame": {
               "duration": 0,
               "redraw": true
              },
              "mode": "immediate",
              "transition": {
               "duration": 0
              }
             }
            ],
            "label": "Time: 1.38",
            "method": "animate"
           },
           {
            "args": [
             [
              "12"
             ],
             {
              "frame": {
               "duration": 0,
               "redraw": true
              },
              "mode": "immediate",
              "transition": {
               "duration": 0
              }
             }
            ],
            "label": "Time: 1.51",
            "method": "animate"
           },
           {
            "args": [
             [
              "13"
             ],
             {
              "frame": {
               "duration": 0,
               "redraw": true
              },
              "mode": "immediate",
              "transition": {
               "duration": 0
              }
             }
            ],
            "label": "Time: 1.63",
            "method": "animate"
           },
           {
            "args": [
             [
              "14"
             ],
             {
              "frame": {
               "duration": 0,
               "redraw": true
              },
              "mode": "immediate",
              "transition": {
               "duration": 0
              }
             }
            ],
            "label": "Time: 1.76",
            "method": "animate"
           },
           {
            "args": [
             [
              "15"
             ],
             {
              "frame": {
               "duration": 0,
               "redraw": true
              },
              "mode": "immediate",
              "transition": {
               "duration": 0
              }
             }
            ],
            "label": "Time: 1.88",
            "method": "animate"
           },
           {
            "args": [
             [
              "16"
             ],
             {
              "frame": {
               "duration": 0,
               "redraw": true
              },
              "mode": "immediate",
              "transition": {
               "duration": 0
              }
             }
            ],
            "label": "Time: 2.01",
            "method": "animate"
           },
           {
            "args": [
             [
              "17"
             ],
             {
              "frame": {
               "duration": 0,
               "redraw": true
              },
              "mode": "immediate",
              "transition": {
               "duration": 0
              }
             }
            ],
            "label": "Time: 2.14",
            "method": "animate"
           },
           {
            "args": [
             [
              "18"
             ],
             {
              "frame": {
               "duration": 0,
               "redraw": true
              },
              "mode": "immediate",
              "transition": {
               "duration": 0
              }
             }
            ],
            "label": "Time: 2.26",
            "method": "animate"
           },
           {
            "args": [
             [
              "19"
             ],
             {
              "frame": {
               "duration": 0,
               "redraw": true
              },
              "mode": "immediate",
              "transition": {
               "duration": 0
              }
             }
            ],
            "label": "Time: 2.39",
            "method": "animate"
           },
           {
            "args": [
             [
              "20"
             ],
             {
              "frame": {
               "duration": 0,
               "redraw": true
              },
              "mode": "immediate",
              "transition": {
               "duration": 0
              }
             }
            ],
            "label": "Time: 2.51",
            "method": "animate"
           },
           {
            "args": [
             [
              "21"
             ],
             {
              "frame": {
               "duration": 0,
               "redraw": true
              },
              "mode": "immediate",
              "transition": {
               "duration": 0
              }
             }
            ],
            "label": "Time: 2.64",
            "method": "animate"
           },
           {
            "args": [
             [
              "22"
             ],
             {
              "frame": {
               "duration": 0,
               "redraw": true
              },
              "mode": "immediate",
              "transition": {
               "duration": 0
              }
             }
            ],
            "label": "Time: 2.76",
            "method": "animate"
           },
           {
            "args": [
             [
              "23"
             ],
             {
              "frame": {
               "duration": 0,
               "redraw": true
              },
              "mode": "immediate",
              "transition": {
               "duration": 0
              }
             }
            ],
            "label": "Time: 2.89",
            "method": "animate"
           },
           {
            "args": [
             [
              "24"
             ],
             {
              "frame": {
               "duration": 0,
               "redraw": true
              },
              "mode": "immediate",
              "transition": {
               "duration": 0
              }
             }
            ],
            "label": "Time: 3.02",
            "method": "animate"
           },
           {
            "args": [
             [
              "25"
             ],
             {
              "frame": {
               "duration": 0,
               "redraw": true
              },
              "mode": "immediate",
              "transition": {
               "duration": 0
              }
             }
            ],
            "label": "Time: 3.14",
            "method": "animate"
           },
           {
            "args": [
             [
              "26"
             ],
             {
              "frame": {
               "duration": 0,
               "redraw": true
              },
              "mode": "immediate",
              "transition": {
               "duration": 0
              }
             }
            ],
            "label": "Time: 3.27",
            "method": "animate"
           },
           {
            "args": [
             [
              "27"
             ],
             {
              "frame": {
               "duration": 0,
               "redraw": true
              },
              "mode": "immediate",
              "transition": {
               "duration": 0
              }
             }
            ],
            "label": "Time: 3.39",
            "method": "animate"
           },
           {
            "args": [
             [
              "28"
             ],
             {
              "frame": {
               "duration": 0,
               "redraw": true
              },
              "mode": "immediate",
              "transition": {
               "duration": 0
              }
             }
            ],
            "label": "Time: 3.52",
            "method": "animate"
           },
           {
            "args": [
             [
              "29"
             ],
             {
              "frame": {
               "duration": 0,
               "redraw": true
              },
              "mode": "immediate",
              "transition": {
               "duration": 0
              }
             }
            ],
            "label": "Time: 3.64",
            "method": "animate"
           },
           {
            "args": [
             [
              "30"
             ],
             {
              "frame": {
               "duration": 0,
               "redraw": true
              },
              "mode": "immediate",
              "transition": {
               "duration": 0
              }
             }
            ],
            "label": "Time: 3.77",
            "method": "animate"
           },
           {
            "args": [
             [
              "31"
             ],
             {
              "frame": {
               "duration": 0,
               "redraw": true
              },
              "mode": "immediate",
              "transition": {
               "duration": 0
              }
             }
            ],
            "label": "Time: 3.9",
            "method": "animate"
           },
           {
            "args": [
             [
              "32"
             ],
             {
              "frame": {
               "duration": 0,
               "redraw": true
              },
              "mode": "immediate",
              "transition": {
               "duration": 0
              }
             }
            ],
            "label": "Time: 4.02",
            "method": "animate"
           },
           {
            "args": [
             [
              "33"
             ],
             {
              "frame": {
               "duration": 0,
               "redraw": true
              },
              "mode": "immediate",
              "transition": {
               "duration": 0
              }
             }
            ],
            "label": "Time: 4.15",
            "method": "animate"
           },
           {
            "args": [
             [
              "34"
             ],
             {
              "frame": {
               "duration": 0,
               "redraw": true
              },
              "mode": "immediate",
              "transition": {
               "duration": 0
              }
             }
            ],
            "label": "Time: 4.27",
            "method": "animate"
           },
           {
            "args": [
             [
              "35"
             ],
             {
              "frame": {
               "duration": 0,
               "redraw": true
              },
              "mode": "immediate",
              "transition": {
               "duration": 0
              }
             }
            ],
            "label": "Time: 4.4",
            "method": "animate"
           },
           {
            "args": [
             [
              "36"
             ],
             {
              "frame": {
               "duration": 0,
               "redraw": true
              },
              "mode": "immediate",
              "transition": {
               "duration": 0
              }
             }
            ],
            "label": "Time: 4.52",
            "method": "animate"
           },
           {
            "args": [
             [
              "37"
             ],
             {
              "frame": {
               "duration": 0,
               "redraw": true
              },
              "mode": "immediate",
              "transition": {
               "duration": 0
              }
             }
            ],
            "label": "Time: 4.65",
            "method": "animate"
           },
           {
            "args": [
             [
              "38"
             ],
             {
              "frame": {
               "duration": 0,
               "redraw": true
              },
              "mode": "immediate",
              "transition": {
               "duration": 0
              }
             }
            ],
            "label": "Time: 4.78",
            "method": "animate"
           },
           {
            "args": [
             [
              "39"
             ],
             {
              "frame": {
               "duration": 0,
               "redraw": true
              },
              "mode": "immediate",
              "transition": {
               "duration": 0
              }
             }
            ],
            "label": "Time: 4.9",
            "method": "animate"
           },
           {
            "args": [
             [
              "40"
             ],
             {
              "frame": {
               "duration": 0,
               "redraw": true
              },
              "mode": "immediate",
              "transition": {
               "duration": 0
              }
             }
            ],
            "label": "Time: 5.03",
            "method": "animate"
           },
           {
            "args": [
             [
              "41"
             ],
             {
              "frame": {
               "duration": 0,
               "redraw": true
              },
              "mode": "immediate",
              "transition": {
               "duration": 0
              }
             }
            ],
            "label": "Time: 5.15",
            "method": "animate"
           },
           {
            "args": [
             [
              "42"
             ],
             {
              "frame": {
               "duration": 0,
               "redraw": true
              },
              "mode": "immediate",
              "transition": {
               "duration": 0
              }
             }
            ],
            "label": "Time: 5.28",
            "method": "animate"
           },
           {
            "args": [
             [
              "43"
             ],
             {
              "frame": {
               "duration": 0,
               "redraw": true
              },
              "mode": "immediate",
              "transition": {
               "duration": 0
              }
             }
            ],
            "label": "Time: 5.4",
            "method": "animate"
           },
           {
            "args": [
             [
              "44"
             ],
             {
              "frame": {
               "duration": 0,
               "redraw": true
              },
              "mode": "immediate",
              "transition": {
               "duration": 0
              }
             }
            ],
            "label": "Time: 5.53",
            "method": "animate"
           },
           {
            "args": [
             [
              "45"
             ],
             {
              "frame": {
               "duration": 0,
               "redraw": true
              },
              "mode": "immediate",
              "transition": {
               "duration": 0
              }
             }
            ],
            "label": "Time: 5.65",
            "method": "animate"
           },
           {
            "args": [
             [
              "46"
             ],
             {
              "frame": {
               "duration": 0,
               "redraw": true
              },
              "mode": "immediate",
              "transition": {
               "duration": 0
              }
             }
            ],
            "label": "Time: 5.78",
            "method": "animate"
           },
           {
            "args": [
             [
              "47"
             ],
             {
              "frame": {
               "duration": 0,
               "redraw": true
              },
              "mode": "immediate",
              "transition": {
               "duration": 0
              }
             }
            ],
            "label": "Time: 5.91",
            "method": "animate"
           },
           {
            "args": [
             [
              "48"
             ],
             {
              "frame": {
               "duration": 0,
               "redraw": true
              },
              "mode": "immediate",
              "transition": {
               "duration": 0
              }
             }
            ],
            "label": "Time: 6.03",
            "method": "animate"
           },
           {
            "args": [
             [
              "49"
             ],
             {
              "frame": {
               "duration": 0,
               "redraw": true
              },
              "mode": "immediate",
              "transition": {
               "duration": 0
              }
             }
            ],
            "label": "Time: 6.16",
            "method": "animate"
           },
           {
            "args": [
             [
              "50"
             ],
             {
              "frame": {
               "duration": 0,
               "redraw": true
              },
              "mode": "immediate",
              "transition": {
               "duration": 0
              }
             }
            ],
            "label": "Time: 6.28",
            "method": "animate"
           },
           {
            "args": [
             [
              "51"
             ],
             {
              "frame": {
               "duration": 0,
               "redraw": true
              },
              "mode": "immediate",
              "transition": {
               "duration": 0
              }
             }
            ],
            "label": "Time: 6.41",
            "method": "animate"
           },
           {
            "args": [
             [
              "52"
             ],
             {
              "frame": {
               "duration": 0,
               "redraw": true
              },
              "mode": "immediate",
              "transition": {
               "duration": 0
              }
             }
            ],
            "label": "Time: 6.53",
            "method": "animate"
           },
           {
            "args": [
             [
              "53"
             ],
             {
              "frame": {
               "duration": 0,
               "redraw": true
              },
              "mode": "immediate",
              "transition": {
               "duration": 0
              }
             }
            ],
            "label": "Time: 6.66",
            "method": "animate"
           },
           {
            "args": [
             [
              "54"
             ],
             {
              "frame": {
               "duration": 0,
               "redraw": true
              },
              "mode": "immediate",
              "transition": {
               "duration": 0
              }
             }
            ],
            "label": "Time: 6.79",
            "method": "animate"
           },
           {
            "args": [
             [
              "55"
             ],
             {
              "frame": {
               "duration": 0,
               "redraw": true
              },
              "mode": "immediate",
              "transition": {
               "duration": 0
              }
             }
            ],
            "label": "Time: 6.91",
            "method": "animate"
           },
           {
            "args": [
             [
              "56"
             ],
             {
              "frame": {
               "duration": 0,
               "redraw": true
              },
              "mode": "immediate",
              "transition": {
               "duration": 0
              }
             }
            ],
            "label": "Time: 7.04",
            "method": "animate"
           },
           {
            "args": [
             [
              "57"
             ],
             {
              "frame": {
               "duration": 0,
               "redraw": true
              },
              "mode": "immediate",
              "transition": {
               "duration": 0
              }
             }
            ],
            "label": "Time: 7.16",
            "method": "animate"
           },
           {
            "args": [
             [
              "58"
             ],
             {
              "frame": {
               "duration": 0,
               "redraw": true
              },
              "mode": "immediate",
              "transition": {
               "duration": 0
              }
             }
            ],
            "label": "Time: 7.29",
            "method": "animate"
           },
           {
            "args": [
             [
              "59"
             ],
             {
              "frame": {
               "duration": 0,
               "redraw": true
              },
              "mode": "immediate",
              "transition": {
               "duration": 0
              }
             }
            ],
            "label": "Time: 7.41",
            "method": "animate"
           },
           {
            "args": [
             [
              "60"
             ],
             {
              "frame": {
               "duration": 0,
               "redraw": true
              },
              "mode": "immediate",
              "transition": {
               "duration": 0
              }
             }
            ],
            "label": "Time: 7.54",
            "method": "animate"
           },
           {
            "args": [
             [
              "61"
             ],
             {
              "frame": {
               "duration": 0,
               "redraw": true
              },
              "mode": "immediate",
              "transition": {
               "duration": 0
              }
             }
            ],
            "label": "Time: 7.67",
            "method": "animate"
           },
           {
            "args": [
             [
              "62"
             ],
             {
              "frame": {
               "duration": 0,
               "redraw": true
              },
              "mode": "immediate",
              "transition": {
               "duration": 0
              }
             }
            ],
            "label": "Time: 7.79",
            "method": "animate"
           },
           {
            "args": [
             [
              "63"
             ],
             {
              "frame": {
               "duration": 0,
               "redraw": true
              },
              "mode": "immediate",
              "transition": {
               "duration": 0
              }
             }
            ],
            "label": "Time: 7.92",
            "method": "animate"
           },
           {
            "args": [
             [
              "64"
             ],
             {
              "frame": {
               "duration": 0,
               "redraw": true
              },
              "mode": "immediate",
              "transition": {
               "duration": 0
              }
             }
            ],
            "label": "Time: 8.04",
            "method": "animate"
           },
           {
            "args": [
             [
              "65"
             ],
             {
              "frame": {
               "duration": 0,
               "redraw": true
              },
              "mode": "immediate",
              "transition": {
               "duration": 0
              }
             }
            ],
            "label": "Time: 8.17",
            "method": "animate"
           },
           {
            "args": [
             [
              "66"
             ],
             {
              "frame": {
               "duration": 0,
               "redraw": true
              },
              "mode": "immediate",
              "transition": {
               "duration": 0
              }
             }
            ],
            "label": "Time: 8.29",
            "method": "animate"
           },
           {
            "args": [
             [
              "67"
             ],
             {
              "frame": {
               "duration": 0,
               "redraw": true
              },
              "mode": "immediate",
              "transition": {
               "duration": 0
              }
             }
            ],
            "label": "Time: 8.42",
            "method": "animate"
           },
           {
            "args": [
             [
              "68"
             ],
             {
              "frame": {
               "duration": 0,
               "redraw": true
              },
              "mode": "immediate",
              "transition": {
               "duration": 0
              }
             }
            ],
            "label": "Time: 8.55",
            "method": "animate"
           },
           {
            "args": [
             [
              "69"
             ],
             {
              "frame": {
               "duration": 0,
               "redraw": true
              },
              "mode": "immediate",
              "transition": {
               "duration": 0
              }
             }
            ],
            "label": "Time: 8.67",
            "method": "animate"
           },
           {
            "args": [
             [
              "70"
             ],
             {
              "frame": {
               "duration": 0,
               "redraw": true
              },
              "mode": "immediate",
              "transition": {
               "duration": 0
              }
             }
            ],
            "label": "Time: 8.8",
            "method": "animate"
           },
           {
            "args": [
             [
              "71"
             ],
             {
              "frame": {
               "duration": 0,
               "redraw": true
              },
              "mode": "immediate",
              "transition": {
               "duration": 0
              }
             }
            ],
            "label": "Time: 8.92",
            "method": "animate"
           },
           {
            "args": [
             [
              "72"
             ],
             {
              "frame": {
               "duration": 0,
               "redraw": true
              },
              "mode": "immediate",
              "transition": {
               "duration": 0
              }
             }
            ],
            "label": "Time: 9.05",
            "method": "animate"
           },
           {
            "args": [
             [
              "73"
             ],
             {
              "frame": {
               "duration": 0,
               "redraw": true
              },
              "mode": "immediate",
              "transition": {
               "duration": 0
              }
             }
            ],
            "label": "Time: 9.17",
            "method": "animate"
           },
           {
            "args": [
             [
              "74"
             ],
             {
              "frame": {
               "duration": 0,
               "redraw": true
              },
              "mode": "immediate",
              "transition": {
               "duration": 0
              }
             }
            ],
            "label": "Time: 9.3",
            "method": "animate"
           },
           {
            "args": [
             [
              "75"
             ],
             {
              "frame": {
               "duration": 0,
               "redraw": true
              },
              "mode": "immediate",
              "transition": {
               "duration": 0
              }
             }
            ],
            "label": "Time: 9.42",
            "method": "animate"
           },
           {
            "args": [
             [
              "76"
             ],
             {
              "frame": {
               "duration": 0,
               "redraw": true
              },
              "mode": "immediate",
              "transition": {
               "duration": 0
              }
             }
            ],
            "label": "Time: 9.55",
            "method": "animate"
           },
           {
            "args": [
             [
              "77"
             ],
             {
              "frame": {
               "duration": 0,
               "redraw": true
              },
              "mode": "immediate",
              "transition": {
               "duration": 0
              }
             }
            ],
            "label": "Time: 9.68",
            "method": "animate"
           },
           {
            "args": [
             [
              "78"
             ],
             {
              "frame": {
               "duration": 0,
               "redraw": true
              },
              "mode": "immediate",
              "transition": {
               "duration": 0
              }
             }
            ],
            "label": "Time: 9.8",
            "method": "animate"
           },
           {
            "args": [
             [
              "79"
             ],
             {
              "frame": {
               "duration": 0,
               "redraw": true
              },
              "mode": "immediate",
              "transition": {
               "duration": 0
              }
             }
            ],
            "label": "Time: 9.93",
            "method": "animate"
           },
           {
            "args": [
             [
              "80"
             ],
             {
              "frame": {
               "duration": 0,
               "redraw": true
              },
              "mode": "immediate",
              "transition": {
               "duration": 0
              }
             }
            ],
            "label": "Time: 10.05",
            "method": "animate"
           },
           {
            "args": [
             [
              "81"
             ],
             {
              "frame": {
               "duration": 0,
               "redraw": true
              },
              "mode": "immediate",
              "transition": {
               "duration": 0
              }
             }
            ],
            "label": "Time: 10.18",
            "method": "animate"
           },
           {
            "args": [
             [
              "82"
             ],
             {
              "frame": {
               "duration": 0,
               "redraw": true
              },
              "mode": "immediate",
              "transition": {
               "duration": 0
              }
             }
            ],
            "label": "Time: 10.3",
            "method": "animate"
           },
           {
            "args": [
             [
              "83"
             ],
             {
              "frame": {
               "duration": 0,
               "redraw": true
              },
              "mode": "immediate",
              "transition": {
               "duration": 0
              }
             }
            ],
            "label": "Time: 10.43",
            "method": "animate"
           },
           {
            "args": [
             [
              "84"
             ],
             {
              "frame": {
               "duration": 0,
               "redraw": true
              },
              "mode": "immediate",
              "transition": {
               "duration": 0
              }
             }
            ],
            "label": "Time: 10.56",
            "method": "animate"
           },
           {
            "args": [
             [
              "85"
             ],
             {
              "frame": {
               "duration": 0,
               "redraw": true
              },
              "mode": "immediate",
              "transition": {
               "duration": 0
              }
             }
            ],
            "label": "Time: 10.68",
            "method": "animate"
           },
           {
            "args": [
             [
              "86"
             ],
             {
              "frame": {
               "duration": 0,
               "redraw": true
              },
              "mode": "immediate",
              "transition": {
               "duration": 0
              }
             }
            ],
            "label": "Time: 10.81",
            "method": "animate"
           },
           {
            "args": [
             [
              "87"
             ],
             {
              "frame": {
               "duration": 0,
               "redraw": true
              },
              "mode": "immediate",
              "transition": {
               "duration": 0
              }
             }
            ],
            "label": "Time: 10.93",
            "method": "animate"
           },
           {
            "args": [
             [
              "88"
             ],
             {
              "frame": {
               "duration": 0,
               "redraw": true
              },
              "mode": "immediate",
              "transition": {
               "duration": 0
              }
             }
            ],
            "label": "Time: 11.06",
            "method": "animate"
           },
           {
            "args": [
             [
              "89"
             ],
             {
              "frame": {
               "duration": 0,
               "redraw": true
              },
              "mode": "immediate",
              "transition": {
               "duration": 0
              }
             }
            ],
            "label": "Time: 11.18",
            "method": "animate"
           },
           {
            "args": [
             [
              "90"
             ],
             {
              "frame": {
               "duration": 0,
               "redraw": true
              },
              "mode": "immediate",
              "transition": {
               "duration": 0
              }
             }
            ],
            "label": "Time: 11.31",
            "method": "animate"
           },
           {
            "args": [
             [
              "91"
             ],
             {
              "frame": {
               "duration": 0,
               "redraw": true
              },
              "mode": "immediate",
              "transition": {
               "duration": 0
              }
             }
            ],
            "label": "Time: 11.44",
            "method": "animate"
           },
           {
            "args": [
             [
              "92"
             ],
             {
              "frame": {
               "duration": 0,
               "redraw": true
              },
              "mode": "immediate",
              "transition": {
               "duration": 0
              }
             }
            ],
            "label": "Time: 11.56",
            "method": "animate"
           },
           {
            "args": [
             [
              "93"
             ],
             {
              "frame": {
               "duration": 0,
               "redraw": true
              },
              "mode": "immediate",
              "transition": {
               "duration": 0
              }
             }
            ],
            "label": "Time: 11.69",
            "method": "animate"
           },
           {
            "args": [
             [
              "94"
             ],
             {
              "frame": {
               "duration": 0,
               "redraw": true
              },
              "mode": "immediate",
              "transition": {
               "duration": 0
              }
             }
            ],
            "label": "Time: 11.81",
            "method": "animate"
           },
           {
            "args": [
             [
              "95"
             ],
             {
              "frame": {
               "duration": 0,
               "redraw": true
              },
              "mode": "immediate",
              "transition": {
               "duration": 0
              }
             }
            ],
            "label": "Time: 11.94",
            "method": "animate"
           },
           {
            "args": [
             [
              "96"
             ],
             {
              "frame": {
               "duration": 0,
               "redraw": true
              },
              "mode": "immediate",
              "transition": {
               "duration": 0
              }
             }
            ],
            "label": "Time: 12.06",
            "method": "animate"
           },
           {
            "args": [
             [
              "97"
             ],
             {
              "frame": {
               "duration": 0,
               "redraw": true
              },
              "mode": "immediate",
              "transition": {
               "duration": 0
              }
             }
            ],
            "label": "Time: 12.19",
            "method": "animate"
           },
           {
            "args": [
             [
              "98"
             ],
             {
              "frame": {
               "duration": 0,
               "redraw": true
              },
              "mode": "immediate",
              "transition": {
               "duration": 0
              }
             }
            ],
            "label": "Time: 12.32",
            "method": "animate"
           },
           {
            "args": [
             [
              "99"
             ],
             {
              "frame": {
               "duration": 0,
               "redraw": true
              },
              "mode": "immediate",
              "transition": {
               "duration": 0
              }
             }
            ],
            "label": "Time: 12.44",
            "method": "animate"
           },
           {
            "args": [
             [
              "100"
             ],
             {
              "frame": {
               "duration": 0,
               "redraw": true
              },
              "mode": "immediate",
              "transition": {
               "duration": 0
              }
             }
            ],
            "label": "Time: 12.57",
            "method": "animate"
           }
          ]
         }
        ],
        "template": {
         "data": {
          "bar": [
           {
            "error_x": {
             "color": "#2a3f5f"
            },
            "error_y": {
             "color": "#2a3f5f"
            },
            "marker": {
             "line": {
              "color": "#E5ECF6",
              "width": 0.5
             },
             "pattern": {
              "fillmode": "overlay",
              "size": 10,
              "solidity": 0.2
             }
            },
            "type": "bar"
           }
          ],
          "barpolar": [
           {
            "marker": {
             "line": {
              "color": "#E5ECF6",
              "width": 0.5
             },
             "pattern": {
              "fillmode": "overlay",
              "size": 10,
              "solidity": 0.2
             }
            },
            "type": "barpolar"
           }
          ],
          "carpet": [
           {
            "aaxis": {
             "endlinecolor": "#2a3f5f",
             "gridcolor": "white",
             "linecolor": "white",
             "minorgridcolor": "white",
             "startlinecolor": "#2a3f5f"
            },
            "baxis": {
             "endlinecolor": "#2a3f5f",
             "gridcolor": "white",
             "linecolor": "white",
             "minorgridcolor": "white",
             "startlinecolor": "#2a3f5f"
            },
            "type": "carpet"
           }
          ],
          "choropleth": [
           {
            "colorbar": {
             "outlinewidth": 0,
             "ticks": ""
            },
            "type": "choropleth"
           }
          ],
          "contour": [
           {
            "colorbar": {
             "outlinewidth": 0,
             "ticks": ""
            },
            "colorscale": [
             [
              0.0,
              "#0d0887"
             ],
             [
              0.1111111111111111,
              "#46039f"
             ],
             [
              0.2222222222222222,
              "#7201a8"
             ],
             [
              0.3333333333333333,
              "#9c179e"
             ],
             [
              0.4444444444444444,
              "#bd3786"
             ],
             [
              0.5555555555555556,
              "#d8576b"
             ],
             [
              0.6666666666666666,
              "#ed7953"
             ],
             [
              0.7777777777777778,
              "#fb9f3a"
             ],
             [
              0.8888888888888888,
              "#fdca26"
             ],
             [
              1.0,
              "#f0f921"
             ]
            ],
            "type": "contour"
           }
          ],
          "contourcarpet": [
           {
            "colorbar": {
             "outlinewidth": 0,
             "ticks": ""
            },
            "type": "contourcarpet"
           }
          ],
          "heatmap": [
           {
            "colorbar": {
             "outlinewidth": 0,
             "ticks": ""
            },
            "colorscale": [
             [
              0.0,
              "#0d0887"
             ],
             [
              0.1111111111111111,
              "#46039f"
             ],
             [
              0.2222222222222222,
              "#7201a8"
             ],
             [
              0.3333333333333333,
              "#9c179e"
             ],
             [
              0.4444444444444444,
              "#bd3786"
             ],
             [
              0.5555555555555556,
              "#d8576b"
             ],
             [
              0.6666666666666666,
              "#ed7953"
             ],
             [
              0.7777777777777778,
              "#fb9f3a"
             ],
             [
              0.8888888888888888,
              "#fdca26"
             ],
             [
              1.0,
              "#f0f921"
             ]
            ],
            "type": "heatmap"
           }
          ],
          "histogram": [
           {
            "marker": {
             "pattern": {
              "fillmode": "overlay",
              "size": 10,
              "solidity": 0.2
             }
            },
            "type": "histogram"
           }
          ],
          "histogram2d": [
           {
            "colorbar": {
             "outlinewidth": 0,
             "ticks": ""
            },
            "colorscale": [
             [
              0.0,
              "#0d0887"
             ],
             [
              0.1111111111111111,
              "#46039f"
             ],
             [
              0.2222222222222222,
              "#7201a8"
             ],
             [
              0.3333333333333333,
              "#9c179e"
             ],
             [
              0.4444444444444444,
              "#bd3786"
             ],
             [
              0.5555555555555556,
              "#d8576b"
             ],
             [
              0.6666666666666666,
              "#ed7953"
             ],
             [
              0.7777777777777778,
              "#fb9f3a"
             ],
             [
              0.8888888888888888,
              "#fdca26"
             ],
             [
              1.0,
              "#f0f921"
             ]
            ],
            "type": "histogram2d"
           }
          ],
          "histogram2dcontour": [
           {
            "colorbar": {
             "outlinewidth": 0,
             "ticks": ""
            },
            "colorscale": [
             [
              0.0,
              "#0d0887"
             ],
             [
              0.1111111111111111,
              "#46039f"
             ],
             [
              0.2222222222222222,
              "#7201a8"
             ],
             [
              0.3333333333333333,
              "#9c179e"
             ],
             [
              0.4444444444444444,
              "#bd3786"
             ],
             [
              0.5555555555555556,
              "#d8576b"
             ],
             [
              0.6666666666666666,
              "#ed7953"
             ],
             [
              0.7777777777777778,
              "#fb9f3a"
             ],
             [
              0.8888888888888888,
              "#fdca26"
             ],
             [
              1.0,
              "#f0f921"
             ]
            ],
            "type": "histogram2dcontour"
           }
          ],
          "mesh3d": [
           {
            "colorbar": {
             "outlinewidth": 0,
             "ticks": ""
            },
            "type": "mesh3d"
           }
          ],
          "parcoords": [
           {
            "line": {
             "colorbar": {
              "outlinewidth": 0,
              "ticks": ""
             }
            },
            "type": "parcoords"
           }
          ],
          "pie": [
           {
            "automargin": true,
            "type": "pie"
           }
          ],
          "scatter": [
           {
            "fillpattern": {
             "fillmode": "overlay",
             "size": 10,
             "solidity": 0.2
            },
            "type": "scatter"
           }
          ],
          "scatter3d": [
           {
            "line": {
             "colorbar": {
              "outlinewidth": 0,
              "ticks": ""
             }
            },
            "marker": {
             "colorbar": {
              "outlinewidth": 0,
              "ticks": ""
             }
            },
            "type": "scatter3d"
           }
          ],
          "scattercarpet": [
           {
            "marker": {
             "colorbar": {
              "outlinewidth": 0,
              "ticks": ""
             }
            },
            "type": "scattercarpet"
           }
          ],
          "scattergeo": [
           {
            "marker": {
             "colorbar": {
              "outlinewidth": 0,
              "ticks": ""
             }
            },
            "type": "scattergeo"
           }
          ],
          "scattergl": [
           {
            "marker": {
             "colorbar": {
              "outlinewidth": 0,
              "ticks": ""
             }
            },
            "type": "scattergl"
           }
          ],
          "scattermap": [
           {
            "marker": {
             "colorbar": {
              "outlinewidth": 0,
              "ticks": ""
             }
            },
            "type": "scattermap"
           }
          ],
          "scattermapbox": [
           {
            "marker": {
             "colorbar": {
              "outlinewidth": 0,
              "ticks": ""
             }
            },
            "type": "scattermapbox"
           }
          ],
          "scatterpolar": [
           {
            "marker": {
             "colorbar": {
              "outlinewidth": 0,
              "ticks": ""
             }
            },
            "type": "scatterpolar"
           }
          ],
          "scatterpolargl": [
           {
            "marker": {
             "colorbar": {
              "outlinewidth": 0,
              "ticks": ""
             }
            },
            "type": "scatterpolargl"
           }
          ],
          "scatterternary": [
           {
            "marker": {
             "colorbar": {
              "outlinewidth": 0,
              "ticks": ""
             }
            },
            "type": "scatterternary"
           }
          ],
          "surface": [
           {
            "colorbar": {
             "outlinewidth": 0,
             "ticks": ""
            },
            "colorscale": [
             [
              0.0,
              "#0d0887"
             ],
             [
              0.1111111111111111,
              "#46039f"
             ],
             [
              0.2222222222222222,
              "#7201a8"
             ],
             [
              0.3333333333333333,
              "#9c179e"
             ],
             [
              0.4444444444444444,
              "#bd3786"
             ],
             [
              0.5555555555555556,
              "#d8576b"
             ],
             [
              0.6666666666666666,
              "#ed7953"
             ],
             [
              0.7777777777777778,
              "#fb9f3a"
             ],
             [
              0.8888888888888888,
              "#fdca26"
             ],
             [
              1.0,
              "#f0f921"
             ]
            ],
            "type": "surface"
           }
          ],
          "table": [
           {
            "cells": {
             "fill": {
              "color": "#EBF0F8"
             },
             "line": {
              "color": "white"
             }
            },
            "header": {
             "fill": {
              "color": "#C8D4E3"
             },
             "line": {
              "color": "white"
             }
            },
            "type": "table"
           }
          ]
         },
         "layout": {
          "annotationdefaults": {
           "arrowcolor": "#2a3f5f",
           "arrowhead": 0,
           "arrowwidth": 1
          },
          "autotypenumbers": "strict",
          "coloraxis": {
           "colorbar": {
            "outlinewidth": 0,
            "ticks": ""
           }
          },
          "colorscale": {
           "diverging": [
            [
             0,
             "#8e0152"
            ],
            [
             0.1,
             "#c51b7d"
            ],
            [
             0.2,
             "#de77ae"
            ],
            [
             0.3,
             "#f1b6da"
            ],
            [
             0.4,
             "#fde0ef"
            ],
            [
             0.5,
             "#f7f7f7"
            ],
            [
             0.6,
             "#e6f5d0"
            ],
            [
             0.7,
             "#b8e186"
            ],
            [
             0.8,
             "#7fbc41"
            ],
            [
             0.9,
             "#4d9221"
            ],
            [
             1,
             "#276419"
            ]
           ],
           "sequential": [
            [
             0.0,
             "#0d0887"
            ],
            [
             0.1111111111111111,
             "#46039f"
            ],
            [
             0.2222222222222222,
             "#7201a8"
            ],
            [
             0.3333333333333333,
             "#9c179e"
            ],
            [
             0.4444444444444444,
             "#bd3786"
            ],
            [
             0.5555555555555556,
             "#d8576b"
            ],
            [
             0.6666666666666666,
             "#ed7953"
            ],
            [
             0.7777777777777778,
             "#fb9f3a"
            ],
            [
             0.8888888888888888,
             "#fdca26"
            ],
            [
             1.0,
             "#f0f921"
            ]
           ],
           "sequentialminus": [
            [
             0.0,
             "#0d0887"
            ],
            [
             0.1111111111111111,
             "#46039f"
            ],
            [
             0.2222222222222222,
             "#7201a8"
            ],
            [
             0.3333333333333333,
             "#9c179e"
            ],
            [
             0.4444444444444444,
             "#bd3786"
            ],
            [
             0.5555555555555556,
             "#d8576b"
            ],
            [
             0.6666666666666666,
             "#ed7953"
            ],
            [
             0.7777777777777778,
             "#fb9f3a"
            ],
            [
             0.8888888888888888,
             "#fdca26"
            ],
            [
             1.0,
             "#f0f921"
            ]
           ]
          },
          "colorway": [
           "#636efa",
           "#EF553B",
           "#00cc96",
           "#ab63fa",
           "#FFA15A",
           "#19d3f3",
           "#FF6692",
           "#B6E880",
           "#FF97FF",
           "#FECB52"
          ],
          "font": {
           "color": "#2a3f5f"
          },
          "geo": {
           "bgcolor": "white",
           "lakecolor": "white",
           "landcolor": "#E5ECF6",
           "showlakes": true,
           "showland": true,
           "subunitcolor": "white"
          },
          "hoverlabel": {
           "align": "left"
          },
          "hovermode": "closest",
          "mapbox": {
           "style": "light"
          },
          "margin": {
           "b": 0,
           "l": 0,
           "r": 0,
           "t": 30
          },
          "paper_bgcolor": "white",
          "plot_bgcolor": "#E5ECF6",
          "polar": {
           "angularaxis": {
            "gridcolor": "white",
            "linecolor": "white",
            "ticks": ""
           },
           "bgcolor": "#E5ECF6",
           "radialaxis": {
            "gridcolor": "white",
            "linecolor": "white",
            "ticks": ""
           }
          },
          "scene": {
           "xaxis": {
            "backgroundcolor": "#E5ECF6",
            "gridcolor": "white",
            "gridwidth": 2,
            "linecolor": "white",
            "showbackground": true,
            "ticks": "",
            "zerolinecolor": "white"
           },
           "yaxis": {
            "backgroundcolor": "#E5ECF6",
            "gridcolor": "white",
            "gridwidth": 2,
            "linecolor": "white",
            "showbackground": true,
            "ticks": "",
            "zerolinecolor": "white"
           },
           "zaxis": {
            "backgroundcolor": "#E5ECF6",
            "gridcolor": "white",
            "gridwidth": 2,
            "linecolor": "white",
            "showbackground": true,
            "ticks": "",
            "zerolinecolor": "white"
           }
          },
          "shapedefaults": {
           "line": {
            "color": "#2a3f5f"
           }
          },
          "ternary": {
           "aaxis": {
            "gridcolor": "white",
            "linecolor": "white",
            "ticks": ""
           },
           "baxis": {
            "gridcolor": "white",
            "linecolor": "white",
            "ticks": ""
           },
           "bgcolor": "#E5ECF6",
           "caxis": {
            "gridcolor": "white",
            "linecolor": "white",
            "ticks": ""
           }
          },
          "title": {
           "x": 0.05
          },
          "xaxis": {
           "automargin": true,
           "gridcolor": "white",
           "linecolor": "white",
           "ticks": "",
           "title": {
            "standoff": 15
           },
           "zerolinecolor": "white",
           "zerolinewidth": 2
          },
          "yaxis": {
           "automargin": true,
           "gridcolor": "white",
           "linecolor": "white",
           "ticks": "",
           "title": {
            "standoff": 15
           },
           "zerolinecolor": "white",
           "zerolinewidth": 2
          }
         }
        },
        "xaxis": {
         "anchor": "y",
         "constrain": "domain",
         "domain": [
          0.0,
          0.45
         ],
         "range": [
          -2,
          2
         ],
         "scaleanchor": "y",
         "title": {
          "text": "Real Part"
         }
        },
        "xaxis2": {
         "anchor": "y2",
         "domain": [
          0.55,
          1.0
         ],
         "range": [
          -0.1,
          1.1
         ],
         "title": {
          "text": "Space [m]"
         }
        },
        "yaxis": {
         "anchor": "x",
         "domain": [
          0.0,
          1.0
         ],
         "range": [
          -2,
          2
         ],
         "title": {
          "text": "Imag Part"
         }
        },
        "yaxis2": {
         "anchor": "x2",
         "domain": [
          0.0,
          1.0
         ],
         "range": [
          -2,
          2
         ],
         "title": {
          "text": "Value"
         }
        }
       }
      },
      "text/html": [
       "<div>            <script src=\"https://cdnjs.cloudflare.com/ajax/libs/mathjax/2.7.5/MathJax.js?config=TeX-AMS-MML_SVG\"></script><script type=\"text/javascript\">if (window.MathJax && window.MathJax.Hub && window.MathJax.Hub.Config) {window.MathJax.Hub.Config({SVG: {font: \"STIX-Web\"}});}</script>                <script type=\"text/javascript\">window.PlotlyConfig = {MathJaxConfig: 'local'};</script>\n",
       "        <script charset=\"utf-8\" src=\"https://cdn.plot.ly/plotly-3.0.1.min.js\" integrity=\"sha256-oy6Be7Eh6eiQFs5M7oXuPxxm9qbJXEtTpfSI93dW16Q=\" crossorigin=\"anonymous\"></script>                <div id=\"8134071e-22f1-42d5-b97b-e67cf63de2aa\" class=\"plotly-graph-div\" style=\"height:525px; width:100%;\"></div>            <script type=\"text/javascript\">                window.PLOTLYENV=window.PLOTLYENV || {};                                if (document.getElementById(\"8134071e-22f1-42d5-b97b-e67cf63de2aa\")) {                    Plotly.newPlot(                        \"8134071e-22f1-42d5-b97b-e67cf63de2aa\",                        [{\"line\":{\"color\":\"blue\",\"width\":3},\"mode\":\"lines\",\"name\":\"vector\",\"x\":[0,1.0],\"y\":[0,0.0],\"type\":\"scatter\",\"xaxis\":\"x\",\"yaxis\":\"y\"},{\"line\":{\"color\":\"red\",\"width\":3},\"mode\":\"lines\",\"name\":\"real\",\"x\":[0,1.0],\"y\":[0.0,0.0],\"type\":\"scatter\",\"xaxis\":\"x\",\"yaxis\":\"y\"},{\"marker\":{\"color\":\"black\"},\"mode\":\"markers\",\"name\":\"point\",\"x\":[1.0],\"y\":[0.0],\"type\":\"scatter\",\"xaxis\":\"x\",\"yaxis\":\"y\"},{\"line\":{\"color\":\"blue\",\"width\":3},\"mode\":\"lines\",\"name\":\"signal\",\"x\":[0,1],\"y\":[1.0,1.0],\"type\":\"scatter\",\"xaxis\":\"x2\",\"yaxis\":\"y2\"},{\"line\":{\"color\":\"red\",\"width\":3},\"mode\":\"lines\",\"name\":\"real\",\"x\":[0,0],\"y\":[0,1.0],\"type\":\"scatter\",\"xaxis\":\"x2\",\"yaxis\":\"y2\"},{\"marker\":{\"color\":\"black\"},\"mode\":\"markers\",\"name\":\"point\",\"x\":[0],\"y\":[1.0],\"type\":\"scatter\",\"xaxis\":\"x2\",\"yaxis\":\"y2\"}],                        {\"template\":{\"data\":{\"histogram2dcontour\":[{\"type\":\"histogram2dcontour\",\"colorbar\":{\"outlinewidth\":0,\"ticks\":\"\"},\"colorscale\":[[0.0,\"#0d0887\"],[0.1111111111111111,\"#46039f\"],[0.2222222222222222,\"#7201a8\"],[0.3333333333333333,\"#9c179e\"],[0.4444444444444444,\"#bd3786\"],[0.5555555555555556,\"#d8576b\"],[0.6666666666666666,\"#ed7953\"],[0.7777777777777778,\"#fb9f3a\"],[0.8888888888888888,\"#fdca26\"],[1.0,\"#f0f921\"]]}],\"choropleth\":[{\"type\":\"choropleth\",\"colorbar\":{\"outlinewidth\":0,\"ticks\":\"\"}}],\"histogram2d\":[{\"type\":\"histogram2d\",\"colorbar\":{\"outlinewidth\":0,\"ticks\":\"\"},\"colorscale\":[[0.0,\"#0d0887\"],[0.1111111111111111,\"#46039f\"],[0.2222222222222222,\"#7201a8\"],[0.3333333333333333,\"#9c179e\"],[0.4444444444444444,\"#bd3786\"],[0.5555555555555556,\"#d8576b\"],[0.6666666666666666,\"#ed7953\"],[0.7777777777777778,\"#fb9f3a\"],[0.8888888888888888,\"#fdca26\"],[1.0,\"#f0f921\"]]}],\"heatmap\":[{\"type\":\"heatmap\",\"colorbar\":{\"outlinewidth\":0,\"ticks\":\"\"},\"colorscale\":[[0.0,\"#0d0887\"],[0.1111111111111111,\"#46039f\"],[0.2222222222222222,\"#7201a8\"],[0.3333333333333333,\"#9c179e\"],[0.4444444444444444,\"#bd3786\"],[0.5555555555555556,\"#d8576b\"],[0.6666666666666666,\"#ed7953\"],[0.7777777777777778,\"#fb9f3a\"],[0.8888888888888888,\"#fdca26\"],[1.0,\"#f0f921\"]]}],\"contourcarpet\":[{\"type\":\"contourcarpet\",\"colorbar\":{\"outlinewidth\":0,\"ticks\":\"\"}}],\"contour\":[{\"type\":\"contour\",\"colorbar\":{\"outlinewidth\":0,\"ticks\":\"\"},\"colorscale\":[[0.0,\"#0d0887\"],[0.1111111111111111,\"#46039f\"],[0.2222222222222222,\"#7201a8\"],[0.3333333333333333,\"#9c179e\"],[0.4444444444444444,\"#bd3786\"],[0.5555555555555556,\"#d8576b\"],[0.6666666666666666,\"#ed7953\"],[0.7777777777777778,\"#fb9f3a\"],[0.8888888888888888,\"#fdca26\"],[1.0,\"#f0f921\"]]}],\"surface\":[{\"type\":\"surface\",\"colorbar\":{\"outlinewidth\":0,\"ticks\":\"\"},\"colorscale\":[[0.0,\"#0d0887\"],[0.1111111111111111,\"#46039f\"],[0.2222222222222222,\"#7201a8\"],[0.3333333333333333,\"#9c179e\"],[0.4444444444444444,\"#bd3786\"],[0.5555555555555556,\"#d8576b\"],[0.6666666666666666,\"#ed7953\"],[0.7777777777777778,\"#fb9f3a\"],[0.8888888888888888,\"#fdca26\"],[1.0,\"#f0f921\"]]}],\"mesh3d\":[{\"type\":\"mesh3d\",\"colorbar\":{\"outlinewidth\":0,\"ticks\":\"\"}}],\"scatter\":[{\"fillpattern\":{\"fillmode\":\"overlay\",\"size\":10,\"solidity\":0.2},\"type\":\"scatter\"}],\"parcoords\":[{\"type\":\"parcoords\",\"line\":{\"colorbar\":{\"outlinewidth\":0,\"ticks\":\"\"}}}],\"scatterpolargl\":[{\"type\":\"scatterpolargl\",\"marker\":{\"colorbar\":{\"outlinewidth\":0,\"ticks\":\"\"}}}],\"bar\":[{\"error_x\":{\"color\":\"#2a3f5f\"},\"error_y\":{\"color\":\"#2a3f5f\"},\"marker\":{\"line\":{\"color\":\"#E5ECF6\",\"width\":0.5},\"pattern\":{\"fillmode\":\"overlay\",\"size\":10,\"solidity\":0.2}},\"type\":\"bar\"}],\"scattergeo\":[{\"type\":\"scattergeo\",\"marker\":{\"colorbar\":{\"outlinewidth\":0,\"ticks\":\"\"}}}],\"scatterpolar\":[{\"type\":\"scatterpolar\",\"marker\":{\"colorbar\":{\"outlinewidth\":0,\"ticks\":\"\"}}}],\"histogram\":[{\"marker\":{\"pattern\":{\"fillmode\":\"overlay\",\"size\":10,\"solidity\":0.2}},\"type\":\"histogram\"}],\"scattergl\":[{\"type\":\"scattergl\",\"marker\":{\"colorbar\":{\"outlinewidth\":0,\"ticks\":\"\"}}}],\"scatter3d\":[{\"type\":\"scatter3d\",\"line\":{\"colorbar\":{\"outlinewidth\":0,\"ticks\":\"\"}},\"marker\":{\"colorbar\":{\"outlinewidth\":0,\"ticks\":\"\"}}}],\"scattermap\":[{\"type\":\"scattermap\",\"marker\":{\"colorbar\":{\"outlinewidth\":0,\"ticks\":\"\"}}}],\"scattermapbox\":[{\"type\":\"scattermapbox\",\"marker\":{\"colorbar\":{\"outlinewidth\":0,\"ticks\":\"\"}}}],\"scatterternary\":[{\"type\":\"scatterternary\",\"marker\":{\"colorbar\":{\"outlinewidth\":0,\"ticks\":\"\"}}}],\"scattercarpet\":[{\"type\":\"scattercarpet\",\"marker\":{\"colorbar\":{\"outlinewidth\":0,\"ticks\":\"\"}}}],\"carpet\":[{\"aaxis\":{\"endlinecolor\":\"#2a3f5f\",\"gridcolor\":\"white\",\"linecolor\":\"white\",\"minorgridcolor\":\"white\",\"startlinecolor\":\"#2a3f5f\"},\"baxis\":{\"endlinecolor\":\"#2a3f5f\",\"gridcolor\":\"white\",\"linecolor\":\"white\",\"minorgridcolor\":\"white\",\"startlinecolor\":\"#2a3f5f\"},\"type\":\"carpet\"}],\"table\":[{\"cells\":{\"fill\":{\"color\":\"#EBF0F8\"},\"line\":{\"color\":\"white\"}},\"header\":{\"fill\":{\"color\":\"#C8D4E3\"},\"line\":{\"color\":\"white\"}},\"type\":\"table\"}],\"barpolar\":[{\"marker\":{\"line\":{\"color\":\"#E5ECF6\",\"width\":0.5},\"pattern\":{\"fillmode\":\"overlay\",\"size\":10,\"solidity\":0.2}},\"type\":\"barpolar\"}],\"pie\":[{\"automargin\":true,\"type\":\"pie\"}]},\"layout\":{\"autotypenumbers\":\"strict\",\"colorway\":[\"#636efa\",\"#EF553B\",\"#00cc96\",\"#ab63fa\",\"#FFA15A\",\"#19d3f3\",\"#FF6692\",\"#B6E880\",\"#FF97FF\",\"#FECB52\"],\"font\":{\"color\":\"#2a3f5f\"},\"hovermode\":\"closest\",\"hoverlabel\":{\"align\":\"left\"},\"paper_bgcolor\":\"white\",\"plot_bgcolor\":\"#E5ECF6\",\"polar\":{\"bgcolor\":\"#E5ECF6\",\"angularaxis\":{\"gridcolor\":\"white\",\"linecolor\":\"white\",\"ticks\":\"\"},\"radialaxis\":{\"gridcolor\":\"white\",\"linecolor\":\"white\",\"ticks\":\"\"}},\"ternary\":{\"bgcolor\":\"#E5ECF6\",\"aaxis\":{\"gridcolor\":\"white\",\"linecolor\":\"white\",\"ticks\":\"\"},\"baxis\":{\"gridcolor\":\"white\",\"linecolor\":\"white\",\"ticks\":\"\"},\"caxis\":{\"gridcolor\":\"white\",\"linecolor\":\"white\",\"ticks\":\"\"}},\"coloraxis\":{\"colorbar\":{\"outlinewidth\":0,\"ticks\":\"\"}},\"colorscale\":{\"sequential\":[[0.0,\"#0d0887\"],[0.1111111111111111,\"#46039f\"],[0.2222222222222222,\"#7201a8\"],[0.3333333333333333,\"#9c179e\"],[0.4444444444444444,\"#bd3786\"],[0.5555555555555556,\"#d8576b\"],[0.6666666666666666,\"#ed7953\"],[0.7777777777777778,\"#fb9f3a\"],[0.8888888888888888,\"#fdca26\"],[1.0,\"#f0f921\"]],\"sequentialminus\":[[0.0,\"#0d0887\"],[0.1111111111111111,\"#46039f\"],[0.2222222222222222,\"#7201a8\"],[0.3333333333333333,\"#9c179e\"],[0.4444444444444444,\"#bd3786\"],[0.5555555555555556,\"#d8576b\"],[0.6666666666666666,\"#ed7953\"],[0.7777777777777778,\"#fb9f3a\"],[0.8888888888888888,\"#fdca26\"],[1.0,\"#f0f921\"]],\"diverging\":[[0,\"#8e0152\"],[0.1,\"#c51b7d\"],[0.2,\"#de77ae\"],[0.3,\"#f1b6da\"],[0.4,\"#fde0ef\"],[0.5,\"#f7f7f7\"],[0.6,\"#e6f5d0\"],[0.7,\"#b8e186\"],[0.8,\"#7fbc41\"],[0.9,\"#4d9221\"],[1,\"#276419\"]]},\"xaxis\":{\"gridcolor\":\"white\",\"linecolor\":\"white\",\"ticks\":\"\",\"title\":{\"standoff\":15},\"zerolinecolor\":\"white\",\"automargin\":true,\"zerolinewidth\":2},\"yaxis\":{\"gridcolor\":\"white\",\"linecolor\":\"white\",\"ticks\":\"\",\"title\":{\"standoff\":15},\"zerolinecolor\":\"white\",\"automargin\":true,\"zerolinewidth\":2},\"scene\":{\"xaxis\":{\"backgroundcolor\":\"#E5ECF6\",\"gridcolor\":\"white\",\"linecolor\":\"white\",\"showbackground\":true,\"ticks\":\"\",\"zerolinecolor\":\"white\",\"gridwidth\":2},\"yaxis\":{\"backgroundcolor\":\"#E5ECF6\",\"gridcolor\":\"white\",\"linecolor\":\"white\",\"showbackground\":true,\"ticks\":\"\",\"zerolinecolor\":\"white\",\"gridwidth\":2},\"zaxis\":{\"backgroundcolor\":\"#E5ECF6\",\"gridcolor\":\"white\",\"linecolor\":\"white\",\"showbackground\":true,\"ticks\":\"\",\"zerolinecolor\":\"white\",\"gridwidth\":2}},\"shapedefaults\":{\"line\":{\"color\":\"#2a3f5f\"}},\"annotationdefaults\":{\"arrowcolor\":\"#2a3f5f\",\"arrowhead\":0,\"arrowwidth\":1},\"geo\":{\"bgcolor\":\"white\",\"landcolor\":\"#E5ECF6\",\"subunitcolor\":\"white\",\"showland\":true,\"showlakes\":true,\"lakecolor\":\"white\"},\"title\":{\"x\":0.05},\"mapbox\":{\"style\":\"light\"},\"margin\":{\"b\":0,\"l\":0,\"r\":0,\"t\":30}}},\"xaxis\":{\"anchor\":\"y\",\"domain\":[0.0,0.45],\"title\":{\"text\":\"Real Part\"},\"range\":[-2,2],\"scaleanchor\":\"y\",\"constrain\":\"domain\"},\"yaxis\":{\"anchor\":\"x\",\"domain\":[0.0,1.0],\"title\":{\"text\":\"Imag Part\"},\"range\":[-2,2]},\"xaxis2\":{\"anchor\":\"y2\",\"domain\":[0.55,1.0],\"title\":{\"text\":\"Space [m]\"},\"range\":[-0.1,1.1]},\"yaxis2\":{\"anchor\":\"x2\",\"domain\":[0.0,1.0],\"title\":{\"text\":\"Value\"},\"range\":[-2,2]},\"annotations\":[{\"font\":{\"size\":16},\"showarrow\":false,\"text\":\"Phasor Domain\",\"x\":0.225,\"xanchor\":\"center\",\"xref\":\"paper\",\"y\":1.0,\"yanchor\":\"bottom\",\"yref\":\"paper\"},{\"font\":{\"size\":16},\"showarrow\":false,\"text\":\"Spatial Domain\",\"x\":0.775,\"xanchor\":\"center\",\"xref\":\"paper\",\"y\":1.0,\"yanchor\":\"bottom\",\"yref\":\"paper\"}],\"sliders\":[{\"active\":0,\"pad\":{\"t\":50},\"steps\":[{\"args\":[[\"0\"],{\"mode\":\"immediate\",\"frame\":{\"duration\":0,\"redraw\":true},\"transition\":{\"duration\":0}}],\"label\":\"Time: 0.0\",\"method\":\"animate\"},{\"args\":[[\"1\"],{\"mode\":\"immediate\",\"frame\":{\"duration\":0,\"redraw\":true},\"transition\":{\"duration\":0}}],\"label\":\"Time: 0.13\",\"method\":\"animate\"},{\"args\":[[\"2\"],{\"mode\":\"immediate\",\"frame\":{\"duration\":0,\"redraw\":true},\"transition\":{\"duration\":0}}],\"label\":\"Time: 0.25\",\"method\":\"animate\"},{\"args\":[[\"3\"],{\"mode\":\"immediate\",\"frame\":{\"duration\":0,\"redraw\":true},\"transition\":{\"duration\":0}}],\"label\":\"Time: 0.38\",\"method\":\"animate\"},{\"args\":[[\"4\"],{\"mode\":\"immediate\",\"frame\":{\"duration\":0,\"redraw\":true},\"transition\":{\"duration\":0}}],\"label\":\"Time: 0.5\",\"method\":\"animate\"},{\"args\":[[\"5\"],{\"mode\":\"immediate\",\"frame\":{\"duration\":0,\"redraw\":true},\"transition\":{\"duration\":0}}],\"label\":\"Time: 0.63\",\"method\":\"animate\"},{\"args\":[[\"6\"],{\"mode\":\"immediate\",\"frame\":{\"duration\":0,\"redraw\":true},\"transition\":{\"duration\":0}}],\"label\":\"Time: 0.75\",\"method\":\"animate\"},{\"args\":[[\"7\"],{\"mode\":\"immediate\",\"frame\":{\"duration\":0,\"redraw\":true},\"transition\":{\"duration\":0}}],\"label\":\"Time: 0.88\",\"method\":\"animate\"},{\"args\":[[\"8\"],{\"mode\":\"immediate\",\"frame\":{\"duration\":0,\"redraw\":true},\"transition\":{\"duration\":0}}],\"label\":\"Time: 1.01\",\"method\":\"animate\"},{\"args\":[[\"9\"],{\"mode\":\"immediate\",\"frame\":{\"duration\":0,\"redraw\":true},\"transition\":{\"duration\":0}}],\"label\":\"Time: 1.13\",\"method\":\"animate\"},{\"args\":[[\"10\"],{\"mode\":\"immediate\",\"frame\":{\"duration\":0,\"redraw\":true},\"transition\":{\"duration\":0}}],\"label\":\"Time: 1.26\",\"method\":\"animate\"},{\"args\":[[\"11\"],{\"mode\":\"immediate\",\"frame\":{\"duration\":0,\"redraw\":true},\"transition\":{\"duration\":0}}],\"label\":\"Time: 1.38\",\"method\":\"animate\"},{\"args\":[[\"12\"],{\"mode\":\"immediate\",\"frame\":{\"duration\":0,\"redraw\":true},\"transition\":{\"duration\":0}}],\"label\":\"Time: 1.51\",\"method\":\"animate\"},{\"args\":[[\"13\"],{\"mode\":\"immediate\",\"frame\":{\"duration\":0,\"redraw\":true},\"transition\":{\"duration\":0}}],\"label\":\"Time: 1.63\",\"method\":\"animate\"},{\"args\":[[\"14\"],{\"mode\":\"immediate\",\"frame\":{\"duration\":0,\"redraw\":true},\"transition\":{\"duration\":0}}],\"label\":\"Time: 1.76\",\"method\":\"animate\"},{\"args\":[[\"15\"],{\"mode\":\"immediate\",\"frame\":{\"duration\":0,\"redraw\":true},\"transition\":{\"duration\":0}}],\"label\":\"Time: 1.88\",\"method\":\"animate\"},{\"args\":[[\"16\"],{\"mode\":\"immediate\",\"frame\":{\"duration\":0,\"redraw\":true},\"transition\":{\"duration\":0}}],\"label\":\"Time: 2.01\",\"method\":\"animate\"},{\"args\":[[\"17\"],{\"mode\":\"immediate\",\"frame\":{\"duration\":0,\"redraw\":true},\"transition\":{\"duration\":0}}],\"label\":\"Time: 2.14\",\"method\":\"animate\"},{\"args\":[[\"18\"],{\"mode\":\"immediate\",\"frame\":{\"duration\":0,\"redraw\":true},\"transition\":{\"duration\":0}}],\"label\":\"Time: 2.26\",\"method\":\"animate\"},{\"args\":[[\"19\"],{\"mode\":\"immediate\",\"frame\":{\"duration\":0,\"redraw\":true},\"transition\":{\"duration\":0}}],\"label\":\"Time: 2.39\",\"method\":\"animate\"},{\"args\":[[\"20\"],{\"mode\":\"immediate\",\"frame\":{\"duration\":0,\"redraw\":true},\"transition\":{\"duration\":0}}],\"label\":\"Time: 2.51\",\"method\":\"animate\"},{\"args\":[[\"21\"],{\"mode\":\"immediate\",\"frame\":{\"duration\":0,\"redraw\":true},\"transition\":{\"duration\":0}}],\"label\":\"Time: 2.64\",\"method\":\"animate\"},{\"args\":[[\"22\"],{\"mode\":\"immediate\",\"frame\":{\"duration\":0,\"redraw\":true},\"transition\":{\"duration\":0}}],\"label\":\"Time: 2.76\",\"method\":\"animate\"},{\"args\":[[\"23\"],{\"mode\":\"immediate\",\"frame\":{\"duration\":0,\"redraw\":true},\"transition\":{\"duration\":0}}],\"label\":\"Time: 2.89\",\"method\":\"animate\"},{\"args\":[[\"24\"],{\"mode\":\"immediate\",\"frame\":{\"duration\":0,\"redraw\":true},\"transition\":{\"duration\":0}}],\"label\":\"Time: 3.02\",\"method\":\"animate\"},{\"args\":[[\"25\"],{\"mode\":\"immediate\",\"frame\":{\"duration\":0,\"redraw\":true},\"transition\":{\"duration\":0}}],\"label\":\"Time: 3.14\",\"method\":\"animate\"},{\"args\":[[\"26\"],{\"mode\":\"immediate\",\"frame\":{\"duration\":0,\"redraw\":true},\"transition\":{\"duration\":0}}],\"label\":\"Time: 3.27\",\"method\":\"animate\"},{\"args\":[[\"27\"],{\"mode\":\"immediate\",\"frame\":{\"duration\":0,\"redraw\":true},\"transition\":{\"duration\":0}}],\"label\":\"Time: 3.39\",\"method\":\"animate\"},{\"args\":[[\"28\"],{\"mode\":\"immediate\",\"frame\":{\"duration\":0,\"redraw\":true},\"transition\":{\"duration\":0}}],\"label\":\"Time: 3.52\",\"method\":\"animate\"},{\"args\":[[\"29\"],{\"mode\":\"immediate\",\"frame\":{\"duration\":0,\"redraw\":true},\"transition\":{\"duration\":0}}],\"label\":\"Time: 3.64\",\"method\":\"animate\"},{\"args\":[[\"30\"],{\"mode\":\"immediate\",\"frame\":{\"duration\":0,\"redraw\":true},\"transition\":{\"duration\":0}}],\"label\":\"Time: 3.77\",\"method\":\"animate\"},{\"args\":[[\"31\"],{\"mode\":\"immediate\",\"frame\":{\"duration\":0,\"redraw\":true},\"transition\":{\"duration\":0}}],\"label\":\"Time: 3.9\",\"method\":\"animate\"},{\"args\":[[\"32\"],{\"mode\":\"immediate\",\"frame\":{\"duration\":0,\"redraw\":true},\"transition\":{\"duration\":0}}],\"label\":\"Time: 4.02\",\"method\":\"animate\"},{\"args\":[[\"33\"],{\"mode\":\"immediate\",\"frame\":{\"duration\":0,\"redraw\":true},\"transition\":{\"duration\":0}}],\"label\":\"Time: 4.15\",\"method\":\"animate\"},{\"args\":[[\"34\"],{\"mode\":\"immediate\",\"frame\":{\"duration\":0,\"redraw\":true},\"transition\":{\"duration\":0}}],\"label\":\"Time: 4.27\",\"method\":\"animate\"},{\"args\":[[\"35\"],{\"mode\":\"immediate\",\"frame\":{\"duration\":0,\"redraw\":true},\"transition\":{\"duration\":0}}],\"label\":\"Time: 4.4\",\"method\":\"animate\"},{\"args\":[[\"36\"],{\"mode\":\"immediate\",\"frame\":{\"duration\":0,\"redraw\":true},\"transition\":{\"duration\":0}}],\"label\":\"Time: 4.52\",\"method\":\"animate\"},{\"args\":[[\"37\"],{\"mode\":\"immediate\",\"frame\":{\"duration\":0,\"redraw\":true},\"transition\":{\"duration\":0}}],\"label\":\"Time: 4.65\",\"method\":\"animate\"},{\"args\":[[\"38\"],{\"mode\":\"immediate\",\"frame\":{\"duration\":0,\"redraw\":true},\"transition\":{\"duration\":0}}],\"label\":\"Time: 4.78\",\"method\":\"animate\"},{\"args\":[[\"39\"],{\"mode\":\"immediate\",\"frame\":{\"duration\":0,\"redraw\":true},\"transition\":{\"duration\":0}}],\"label\":\"Time: 4.9\",\"method\":\"animate\"},{\"args\":[[\"40\"],{\"mode\":\"immediate\",\"frame\":{\"duration\":0,\"redraw\":true},\"transition\":{\"duration\":0}}],\"label\":\"Time: 5.03\",\"method\":\"animate\"},{\"args\":[[\"41\"],{\"mode\":\"immediate\",\"frame\":{\"duration\":0,\"redraw\":true},\"transition\":{\"duration\":0}}],\"label\":\"Time: 5.15\",\"method\":\"animate\"},{\"args\":[[\"42\"],{\"mode\":\"immediate\",\"frame\":{\"duration\":0,\"redraw\":true},\"transition\":{\"duration\":0}}],\"label\":\"Time: 5.28\",\"method\":\"animate\"},{\"args\":[[\"43\"],{\"mode\":\"immediate\",\"frame\":{\"duration\":0,\"redraw\":true},\"transition\":{\"duration\":0}}],\"label\":\"Time: 5.4\",\"method\":\"animate\"},{\"args\":[[\"44\"],{\"mode\":\"immediate\",\"frame\":{\"duration\":0,\"redraw\":true},\"transition\":{\"duration\":0}}],\"label\":\"Time: 5.53\",\"method\":\"animate\"},{\"args\":[[\"45\"],{\"mode\":\"immediate\",\"frame\":{\"duration\":0,\"redraw\":true},\"transition\":{\"duration\":0}}],\"label\":\"Time: 5.65\",\"method\":\"animate\"},{\"args\":[[\"46\"],{\"mode\":\"immediate\",\"frame\":{\"duration\":0,\"redraw\":true},\"transition\":{\"duration\":0}}],\"label\":\"Time: 5.78\",\"method\":\"animate\"},{\"args\":[[\"47\"],{\"mode\":\"immediate\",\"frame\":{\"duration\":0,\"redraw\":true},\"transition\":{\"duration\":0}}],\"label\":\"Time: 5.91\",\"method\":\"animate\"},{\"args\":[[\"48\"],{\"mode\":\"immediate\",\"frame\":{\"duration\":0,\"redraw\":true},\"transition\":{\"duration\":0}}],\"label\":\"Time: 6.03\",\"method\":\"animate\"},{\"args\":[[\"49\"],{\"mode\":\"immediate\",\"frame\":{\"duration\":0,\"redraw\":true},\"transition\":{\"duration\":0}}],\"label\":\"Time: 6.16\",\"method\":\"animate\"},{\"args\":[[\"50\"],{\"mode\":\"immediate\",\"frame\":{\"duration\":0,\"redraw\":true},\"transition\":{\"duration\":0}}],\"label\":\"Time: 6.28\",\"method\":\"animate\"},{\"args\":[[\"51\"],{\"mode\":\"immediate\",\"frame\":{\"duration\":0,\"redraw\":true},\"transition\":{\"duration\":0}}],\"label\":\"Time: 6.41\",\"method\":\"animate\"},{\"args\":[[\"52\"],{\"mode\":\"immediate\",\"frame\":{\"duration\":0,\"redraw\":true},\"transition\":{\"duration\":0}}],\"label\":\"Time: 6.53\",\"method\":\"animate\"},{\"args\":[[\"53\"],{\"mode\":\"immediate\",\"frame\":{\"duration\":0,\"redraw\":true},\"transition\":{\"duration\":0}}],\"label\":\"Time: 6.66\",\"method\":\"animate\"},{\"args\":[[\"54\"],{\"mode\":\"immediate\",\"frame\":{\"duration\":0,\"redraw\":true},\"transition\":{\"duration\":0}}],\"label\":\"Time: 6.79\",\"method\":\"animate\"},{\"args\":[[\"55\"],{\"mode\":\"immediate\",\"frame\":{\"duration\":0,\"redraw\":true},\"transition\":{\"duration\":0}}],\"label\":\"Time: 6.91\",\"method\":\"animate\"},{\"args\":[[\"56\"],{\"mode\":\"immediate\",\"frame\":{\"duration\":0,\"redraw\":true},\"transition\":{\"duration\":0}}],\"label\":\"Time: 7.04\",\"method\":\"animate\"},{\"args\":[[\"57\"],{\"mode\":\"immediate\",\"frame\":{\"duration\":0,\"redraw\":true},\"transition\":{\"duration\":0}}],\"label\":\"Time: 7.16\",\"method\":\"animate\"},{\"args\":[[\"58\"],{\"mode\":\"immediate\",\"frame\":{\"duration\":0,\"redraw\":true},\"transition\":{\"duration\":0}}],\"label\":\"Time: 7.29\",\"method\":\"animate\"},{\"args\":[[\"59\"],{\"mode\":\"immediate\",\"frame\":{\"duration\":0,\"redraw\":true},\"transition\":{\"duration\":0}}],\"label\":\"Time: 7.41\",\"method\":\"animate\"},{\"args\":[[\"60\"],{\"mode\":\"immediate\",\"frame\":{\"duration\":0,\"redraw\":true},\"transition\":{\"duration\":0}}],\"label\":\"Time: 7.54\",\"method\":\"animate\"},{\"args\":[[\"61\"],{\"mode\":\"immediate\",\"frame\":{\"duration\":0,\"redraw\":true},\"transition\":{\"duration\":0}}],\"label\":\"Time: 7.67\",\"method\":\"animate\"},{\"args\":[[\"62\"],{\"mode\":\"immediate\",\"frame\":{\"duration\":0,\"redraw\":true},\"transition\":{\"duration\":0}}],\"label\":\"Time: 7.79\",\"method\":\"animate\"},{\"args\":[[\"63\"],{\"mode\":\"immediate\",\"frame\":{\"duration\":0,\"redraw\":true},\"transition\":{\"duration\":0}}],\"label\":\"Time: 7.92\",\"method\":\"animate\"},{\"args\":[[\"64\"],{\"mode\":\"immediate\",\"frame\":{\"duration\":0,\"redraw\":true},\"transition\":{\"duration\":0}}],\"label\":\"Time: 8.04\",\"method\":\"animate\"},{\"args\":[[\"65\"],{\"mode\":\"immediate\",\"frame\":{\"duration\":0,\"redraw\":true},\"transition\":{\"duration\":0}}],\"label\":\"Time: 8.17\",\"method\":\"animate\"},{\"args\":[[\"66\"],{\"mode\":\"immediate\",\"frame\":{\"duration\":0,\"redraw\":true},\"transition\":{\"duration\":0}}],\"label\":\"Time: 8.29\",\"method\":\"animate\"},{\"args\":[[\"67\"],{\"mode\":\"immediate\",\"frame\":{\"duration\":0,\"redraw\":true},\"transition\":{\"duration\":0}}],\"label\":\"Time: 8.42\",\"method\":\"animate\"},{\"args\":[[\"68\"],{\"mode\":\"immediate\",\"frame\":{\"duration\":0,\"redraw\":true},\"transition\":{\"duration\":0}}],\"label\":\"Time: 8.55\",\"method\":\"animate\"},{\"args\":[[\"69\"],{\"mode\":\"immediate\",\"frame\":{\"duration\":0,\"redraw\":true},\"transition\":{\"duration\":0}}],\"label\":\"Time: 8.67\",\"method\":\"animate\"},{\"args\":[[\"70\"],{\"mode\":\"immediate\",\"frame\":{\"duration\":0,\"redraw\":true},\"transition\":{\"duration\":0}}],\"label\":\"Time: 8.8\",\"method\":\"animate\"},{\"args\":[[\"71\"],{\"mode\":\"immediate\",\"frame\":{\"duration\":0,\"redraw\":true},\"transition\":{\"duration\":0}}],\"label\":\"Time: 8.92\",\"method\":\"animate\"},{\"args\":[[\"72\"],{\"mode\":\"immediate\",\"frame\":{\"duration\":0,\"redraw\":true},\"transition\":{\"duration\":0}}],\"label\":\"Time: 9.05\",\"method\":\"animate\"},{\"args\":[[\"73\"],{\"mode\":\"immediate\",\"frame\":{\"duration\":0,\"redraw\":true},\"transition\":{\"duration\":0}}],\"label\":\"Time: 9.17\",\"method\":\"animate\"},{\"args\":[[\"74\"],{\"mode\":\"immediate\",\"frame\":{\"duration\":0,\"redraw\":true},\"transition\":{\"duration\":0}}],\"label\":\"Time: 9.3\",\"method\":\"animate\"},{\"args\":[[\"75\"],{\"mode\":\"immediate\",\"frame\":{\"duration\":0,\"redraw\":true},\"transition\":{\"duration\":0}}],\"label\":\"Time: 9.42\",\"method\":\"animate\"},{\"args\":[[\"76\"],{\"mode\":\"immediate\",\"frame\":{\"duration\":0,\"redraw\":true},\"transition\":{\"duration\":0}}],\"label\":\"Time: 9.55\",\"method\":\"animate\"},{\"args\":[[\"77\"],{\"mode\":\"immediate\",\"frame\":{\"duration\":0,\"redraw\":true},\"transition\":{\"duration\":0}}],\"label\":\"Time: 9.68\",\"method\":\"animate\"},{\"args\":[[\"78\"],{\"mode\":\"immediate\",\"frame\":{\"duration\":0,\"redraw\":true},\"transition\":{\"duration\":0}}],\"label\":\"Time: 9.8\",\"method\":\"animate\"},{\"args\":[[\"79\"],{\"mode\":\"immediate\",\"frame\":{\"duration\":0,\"redraw\":true},\"transition\":{\"duration\":0}}],\"label\":\"Time: 9.93\",\"method\":\"animate\"},{\"args\":[[\"80\"],{\"mode\":\"immediate\",\"frame\":{\"duration\":0,\"redraw\":true},\"transition\":{\"duration\":0}}],\"label\":\"Time: 10.05\",\"method\":\"animate\"},{\"args\":[[\"81\"],{\"mode\":\"immediate\",\"frame\":{\"duration\":0,\"redraw\":true},\"transition\":{\"duration\":0}}],\"label\":\"Time: 10.18\",\"method\":\"animate\"},{\"args\":[[\"82\"],{\"mode\":\"immediate\",\"frame\":{\"duration\":0,\"redraw\":true},\"transition\":{\"duration\":0}}],\"label\":\"Time: 10.3\",\"method\":\"animate\"},{\"args\":[[\"83\"],{\"mode\":\"immediate\",\"frame\":{\"duration\":0,\"redraw\":true},\"transition\":{\"duration\":0}}],\"label\":\"Time: 10.43\",\"method\":\"animate\"},{\"args\":[[\"84\"],{\"mode\":\"immediate\",\"frame\":{\"duration\":0,\"redraw\":true},\"transition\":{\"duration\":0}}],\"label\":\"Time: 10.56\",\"method\":\"animate\"},{\"args\":[[\"85\"],{\"mode\":\"immediate\",\"frame\":{\"duration\":0,\"redraw\":true},\"transition\":{\"duration\":0}}],\"label\":\"Time: 10.68\",\"method\":\"animate\"},{\"args\":[[\"86\"],{\"mode\":\"immediate\",\"frame\":{\"duration\":0,\"redraw\":true},\"transition\":{\"duration\":0}}],\"label\":\"Time: 10.81\",\"method\":\"animate\"},{\"args\":[[\"87\"],{\"mode\":\"immediate\",\"frame\":{\"duration\":0,\"redraw\":true},\"transition\":{\"duration\":0}}],\"label\":\"Time: 10.93\",\"method\":\"animate\"},{\"args\":[[\"88\"],{\"mode\":\"immediate\",\"frame\":{\"duration\":0,\"redraw\":true},\"transition\":{\"duration\":0}}],\"label\":\"Time: 11.06\",\"method\":\"animate\"},{\"args\":[[\"89\"],{\"mode\":\"immediate\",\"frame\":{\"duration\":0,\"redraw\":true},\"transition\":{\"duration\":0}}],\"label\":\"Time: 11.18\",\"method\":\"animate\"},{\"args\":[[\"90\"],{\"mode\":\"immediate\",\"frame\":{\"duration\":0,\"redraw\":true},\"transition\":{\"duration\":0}}],\"label\":\"Time: 11.31\",\"method\":\"animate\"},{\"args\":[[\"91\"],{\"mode\":\"immediate\",\"frame\":{\"duration\":0,\"redraw\":true},\"transition\":{\"duration\":0}}],\"label\":\"Time: 11.44\",\"method\":\"animate\"},{\"args\":[[\"92\"],{\"mode\":\"immediate\",\"frame\":{\"duration\":0,\"redraw\":true},\"transition\":{\"duration\":0}}],\"label\":\"Time: 11.56\",\"method\":\"animate\"},{\"args\":[[\"93\"],{\"mode\":\"immediate\",\"frame\":{\"duration\":0,\"redraw\":true},\"transition\":{\"duration\":0}}],\"label\":\"Time: 11.69\",\"method\":\"animate\"},{\"args\":[[\"94\"],{\"mode\":\"immediate\",\"frame\":{\"duration\":0,\"redraw\":true},\"transition\":{\"duration\":0}}],\"label\":\"Time: 11.81\",\"method\":\"animate\"},{\"args\":[[\"95\"],{\"mode\":\"immediate\",\"frame\":{\"duration\":0,\"redraw\":true},\"transition\":{\"duration\":0}}],\"label\":\"Time: 11.94\",\"method\":\"animate\"},{\"args\":[[\"96\"],{\"mode\":\"immediate\",\"frame\":{\"duration\":0,\"redraw\":true},\"transition\":{\"duration\":0}}],\"label\":\"Time: 12.06\",\"method\":\"animate\"},{\"args\":[[\"97\"],{\"mode\":\"immediate\",\"frame\":{\"duration\":0,\"redraw\":true},\"transition\":{\"duration\":0}}],\"label\":\"Time: 12.19\",\"method\":\"animate\"},{\"args\":[[\"98\"],{\"mode\":\"immediate\",\"frame\":{\"duration\":0,\"redraw\":true},\"transition\":{\"duration\":0}}],\"label\":\"Time: 12.32\",\"method\":\"animate\"},{\"args\":[[\"99\"],{\"mode\":\"immediate\",\"frame\":{\"duration\":0,\"redraw\":true},\"transition\":{\"duration\":0}}],\"label\":\"Time: 12.44\",\"method\":\"animate\"},{\"args\":[[\"100\"],{\"mode\":\"immediate\",\"frame\":{\"duration\":0,\"redraw\":true},\"transition\":{\"duration\":0}}],\"label\":\"Time: 12.57\",\"method\":\"animate\"}]}]},                        {\"responsive\": true}                    ).then(function(){\n",
       "                            Plotly.addFrames('8134071e-22f1-42d5-b97b-e67cf63de2aa', [{\"data\":[{\"line\":{\"width\":3},\"mode\":\"lines\",\"x\":[0,1.0],\"y\":[0,0.0],\"type\":\"scatter\"},{\"line\":{\"width\":3},\"mode\":\"lines\",\"x\":[0,1.0],\"y\":[0.0,0.0],\"type\":\"scatter\"},{\"mode\":\"markers\",\"x\":[1.0],\"y\":[0.0],\"type\":\"scatter\"},{\"x\":[0,1],\"y\":[1.0,1.0],\"type\":\"scatter\"},{\"x\":[0,0],\"y\":[0,1.0],\"type\":\"scatter\"},{\"x\":[0],\"y\":[1.0],\"type\":\"scatter\"}],\"name\":\"0\"},{\"data\":[{\"line\":{\"width\":3},\"mode\":\"lines\",\"x\":[0,0.9921147013144779],\"y\":[0,0.12533323356430426],\"type\":\"scatter\"},{\"line\":{\"width\":3},\"mode\":\"lines\",\"x\":[0,0.9921147013144779],\"y\":[0.12533323356430426,0.12533323356430426],\"type\":\"scatter\"},{\"mode\":\"markers\",\"x\":[0.9921147013144779],\"y\":[0.12533323356430426],\"type\":\"scatter\"},{\"x\":[0,1],\"y\":[0.9921147013144779,0.9921147013144779],\"type\":\"scatter\"},{\"x\":[0,0],\"y\":[0,0.9921147013144779],\"type\":\"scatter\"},{\"x\":[0],\"y\":[0.9921147013144779],\"type\":\"scatter\"}],\"name\":\"1\"},{\"data\":[{\"line\":{\"width\":3},\"mode\":\"lines\",\"x\":[0,0.9685831611286311],\"y\":[0,0.2486898871648548],\"type\":\"scatter\"},{\"line\":{\"width\":3},\"mode\":\"lines\",\"x\":[0,0.9685831611286311],\"y\":[0.2486898871648548,0.2486898871648548],\"type\":\"scatter\"},{\"mode\":\"markers\",\"x\":[0.9685831611286311],\"y\":[0.2486898871648548],\"type\":\"scatter\"},{\"x\":[0,1],\"y\":[0.9685831611286311,0.9685831611286311],\"type\":\"scatter\"},{\"x\":[0,0],\"y\":[0,0.9685831611286311],\"type\":\"scatter\"},{\"x\":[0],\"y\":[0.9685831611286311],\"type\":\"scatter\"}],\"name\":\"2\"},{\"data\":[{\"line\":{\"width\":3},\"mode\":\"lines\",\"x\":[0,0.9297764858882513],\"y\":[0,0.368124552684678],\"type\":\"scatter\"},{\"line\":{\"width\":3},\"mode\":\"lines\",\"x\":[0,0.9297764858882513],\"y\":[0.368124552684678,0.368124552684678],\"type\":\"scatter\"},{\"mode\":\"markers\",\"x\":[0.9297764858882513],\"y\":[0.368124552684678],\"type\":\"scatter\"},{\"x\":[0,1],\"y\":[0.9297764858882513,0.9297764858882513],\"type\":\"scatter\"},{\"x\":[0,0],\"y\":[0,0.9297764858882513],\"type\":\"scatter\"},{\"x\":[0],\"y\":[0.9297764858882513],\"type\":\"scatter\"}],\"name\":\"3\"},{\"data\":[{\"line\":{\"width\":3},\"mode\":\"lines\",\"x\":[0,0.8763066800438636],\"y\":[0,0.4817536741017153],\"type\":\"scatter\"},{\"line\":{\"width\":3},\"mode\":\"lines\",\"x\":[0,0.8763066800438636],\"y\":[0.4817536741017153,0.4817536741017153],\"type\":\"scatter\"},{\"mode\":\"markers\",\"x\":[0.8763066800438636],\"y\":[0.4817536741017153],\"type\":\"scatter\"},{\"x\":[0,1],\"y\":[0.8763066800438636,0.8763066800438636],\"type\":\"scatter\"},{\"x\":[0,0],\"y\":[0,0.8763066800438636],\"type\":\"scatter\"},{\"x\":[0],\"y\":[0.8763066800438636],\"type\":\"scatter\"}],\"name\":\"4\"},{\"data\":[{\"line\":{\"width\":3},\"mode\":\"lines\",\"x\":[0,0.8090169943749475],\"y\":[0,0.5877852522924731],\"type\":\"scatter\"},{\"line\":{\"width\":3},\"mode\":\"lines\",\"x\":[0,0.8090169943749475],\"y\":[0.5877852522924731,0.5877852522924731],\"type\":\"scatter\"},{\"mode\":\"markers\",\"x\":[0.8090169943749475],\"y\":[0.5877852522924731],\"type\":\"scatter\"},{\"x\":[0,1],\"y\":[0.8090169943749475,0.8090169943749475],\"type\":\"scatter\"},{\"x\":[0,0],\"y\":[0,0.8090169943749475],\"type\":\"scatter\"},{\"x\":[0],\"y\":[0.8090169943749475],\"type\":\"scatter\"}],\"name\":\"5\"},{\"data\":[{\"line\":{\"width\":3},\"mode\":\"lines\",\"x\":[0,0.7289686274214116],\"y\":[0,0.6845471059286887],\"type\":\"scatter\"},{\"line\":{\"width\":3},\"mode\":\"lines\",\"x\":[0,0.7289686274214116],\"y\":[0.6845471059286887,0.6845471059286887],\"type\":\"scatter\"},{\"mode\":\"markers\",\"x\":[0.7289686274214116],\"y\":[0.6845471059286887],\"type\":\"scatter\"},{\"x\":[0,1],\"y\":[0.7289686274214116,0.7289686274214116],\"type\":\"scatter\"},{\"x\":[0,0],\"y\":[0,0.7289686274214116],\"type\":\"scatter\"},{\"x\":[0],\"y\":[0.7289686274214116],\"type\":\"scatter\"}],\"name\":\"6\"},{\"data\":[{\"line\":{\"width\":3},\"mode\":\"lines\",\"x\":[0,0.6374239897486896],\"y\":[0,0.7705132427757893],\"type\":\"scatter\"},{\"line\":{\"width\":3},\"mode\":\"lines\",\"x\":[0,0.6374239897486896],\"y\":[0.7705132427757893,0.7705132427757893],\"type\":\"scatter\"},{\"mode\":\"markers\",\"x\":[0.6374239897486896],\"y\":[0.7705132427757893],\"type\":\"scatter\"},{\"x\":[0,1],\"y\":[0.6374239897486896,0.6374239897486896],\"type\":\"scatter\"},{\"x\":[0,0],\"y\":[0,0.6374239897486896],\"type\":\"scatter\"},{\"x\":[0],\"y\":[0.6374239897486896],\"type\":\"scatter\"}],\"name\":\"7\"},{\"data\":[{\"line\":{\"width\":3},\"mode\":\"lines\",\"x\":[0,0.5358267949789965],\"y\":[0,0.8443279255020151],\"type\":\"scatter\"},{\"line\":{\"width\":3},\"mode\":\"lines\",\"x\":[0,0.5358267949789965],\"y\":[0.8443279255020151,0.8443279255020151],\"type\":\"scatter\"},{\"mode\":\"markers\",\"x\":[0.5358267949789965],\"y\":[0.8443279255020151],\"type\":\"scatter\"},{\"x\":[0,1],\"y\":[0.5358267949789965,0.5358267949789965],\"type\":\"scatter\"},{\"x\":[0,0],\"y\":[0,0.5358267949789965],\"type\":\"scatter\"},{\"x\":[0],\"y\":[0.5358267949789965],\"type\":\"scatter\"}],\"name\":\"8\"},{\"data\":[{\"line\":{\"width\":3},\"mode\":\"lines\",\"x\":[0,0.42577929156507266],\"y\":[0,0.9048270524660196],\"type\":\"scatter\"},{\"line\":{\"width\":3},\"mode\":\"lines\",\"x\":[0,0.42577929156507266],\"y\":[0.9048270524660196,0.9048270524660196],\"type\":\"scatter\"},{\"mode\":\"markers\",\"x\":[0.42577929156507266],\"y\":[0.9048270524660196],\"type\":\"scatter\"},{\"x\":[0,1],\"y\":[0.42577929156507266,0.42577929156507266],\"type\":\"scatter\"},{\"x\":[0,0],\"y\":[0,0.42577929156507266],\"type\":\"scatter\"},{\"x\":[0],\"y\":[0.42577929156507266],\"type\":\"scatter\"}],\"name\":\"9\"},{\"data\":[{\"line\":{\"width\":3},\"mode\":\"lines\",\"x\":[0,0.30901699437494745],\"y\":[0,0.9510565162951535],\"type\":\"scatter\"},{\"line\":{\"width\":3},\"mode\":\"lines\",\"x\":[0,0.30901699437494745],\"y\":[0.9510565162951535,0.9510565162951535],\"type\":\"scatter\"},{\"mode\":\"markers\",\"x\":[0.30901699437494745],\"y\":[0.9510565162951535],\"type\":\"scatter\"},{\"x\":[0,1],\"y\":[0.30901699437494745,0.30901699437494745],\"type\":\"scatter\"},{\"x\":[0,0],\"y\":[0,0.30901699437494745],\"type\":\"scatter\"},{\"x\":[0],\"y\":[0.30901699437494745],\"type\":\"scatter\"}],\"name\":\"10\"},{\"data\":[{\"line\":{\"width\":3},\"mode\":\"lines\",\"x\":[0,0.18738131458572452],\"y\":[0,0.9822872507286887],\"type\":\"scatter\"},{\"line\":{\"width\":3},\"mode\":\"lines\",\"x\":[0,0.18738131458572452],\"y\":[0.9822872507286887,0.9822872507286887],\"type\":\"scatter\"},{\"mode\":\"markers\",\"x\":[0.18738131458572452],\"y\":[0.9822872507286887],\"type\":\"scatter\"},{\"x\":[0,1],\"y\":[0.18738131458572452,0.18738131458572452],\"type\":\"scatter\"},{\"x\":[0,0],\"y\":[0,0.18738131458572452],\"type\":\"scatter\"},{\"x\":[0],\"y\":[0.18738131458572452],\"type\":\"scatter\"}],\"name\":\"11\"},{\"data\":[{\"line\":{\"width\":3},\"mode\":\"lines\",\"x\":[0,0.0627905195293133],\"y\":[0,0.9980267284282716],\"type\":\"scatter\"},{\"line\":{\"width\":3},\"mode\":\"lines\",\"x\":[0,0.0627905195293133],\"y\":[0.9980267284282716,0.9980267284282716],\"type\":\"scatter\"},{\"mode\":\"markers\",\"x\":[0.0627905195293133],\"y\":[0.9980267284282716],\"type\":\"scatter\"},{\"x\":[0,1],\"y\":[0.0627905195293133,0.0627905195293133],\"type\":\"scatter\"},{\"x\":[0,0],\"y\":[0,0.0627905195293133],\"type\":\"scatter\"},{\"x\":[0],\"y\":[0.0627905195293133],\"type\":\"scatter\"}],\"name\":\"12\"},{\"data\":[{\"line\":{\"width\":3},\"mode\":\"lines\",\"x\":[0,-0.0627905195293134],\"y\":[0,0.9980267284282716],\"type\":\"scatter\"},{\"line\":{\"width\":3},\"mode\":\"lines\",\"x\":[0,-0.0627905195293134],\"y\":[0.9980267284282716,0.9980267284282716],\"type\":\"scatter\"},{\"mode\":\"markers\",\"x\":[-0.0627905195293134],\"y\":[0.9980267284282716],\"type\":\"scatter\"},{\"x\":[0,1],\"y\":[-0.0627905195293134,-0.0627905195293134],\"type\":\"scatter\"},{\"x\":[0,0],\"y\":[0,-0.0627905195293134],\"type\":\"scatter\"},{\"x\":[0],\"y\":[-0.0627905195293134],\"type\":\"scatter\"}],\"name\":\"13\"},{\"data\":[{\"line\":{\"width\":3},\"mode\":\"lines\",\"x\":[0,-0.18738131458572482],\"y\":[0,0.9822872507286886],\"type\":\"scatter\"},{\"line\":{\"width\":3},\"mode\":\"lines\",\"x\":[0,-0.18738131458572482],\"y\":[0.9822872507286886,0.9822872507286886],\"type\":\"scatter\"},{\"mode\":\"markers\",\"x\":[-0.18738131458572482],\"y\":[0.9822872507286886],\"type\":\"scatter\"},{\"x\":[0,1],\"y\":[-0.18738131458572482,-0.18738131458572482],\"type\":\"scatter\"},{\"x\":[0,0],\"y\":[0,-0.18738131458572482],\"type\":\"scatter\"},{\"x\":[0],\"y\":[-0.18738131458572482],\"type\":\"scatter\"}],\"name\":\"14\"},{\"data\":[{\"line\":{\"width\":3},\"mode\":\"lines\",\"x\":[0,-0.30901699437494756],\"y\":[0,0.9510565162951535],\"type\":\"scatter\"},{\"line\":{\"width\":3},\"mode\":\"lines\",\"x\":[0,-0.30901699437494756],\"y\":[0.9510565162951535,0.9510565162951535],\"type\":\"scatter\"},{\"mode\":\"markers\",\"x\":[-0.30901699437494756],\"y\":[0.9510565162951535],\"type\":\"scatter\"},{\"x\":[0,1],\"y\":[-0.30901699437494756,-0.30901699437494756],\"type\":\"scatter\"},{\"x\":[0,0],\"y\":[0,-0.30901699437494756],\"type\":\"scatter\"},{\"x\":[0],\"y\":[-0.30901699437494756],\"type\":\"scatter\"}],\"name\":\"15\"},{\"data\":[{\"line\":{\"width\":3},\"mode\":\"lines\",\"x\":[0,-0.4257792915650727],\"y\":[0,0.9048270524660195],\"type\":\"scatter\"},{\"line\":{\"width\":3},\"mode\":\"lines\",\"x\":[0,-0.4257792915650727],\"y\":[0.9048270524660195,0.9048270524660195],\"type\":\"scatter\"},{\"mode\":\"markers\",\"x\":[-0.4257792915650727],\"y\":[0.9048270524660195],\"type\":\"scatter\"},{\"x\":[0,1],\"y\":[-0.4257792915650727,-0.4257792915650727],\"type\":\"scatter\"},{\"x\":[0,0],\"y\":[0,-0.4257792915650727],\"type\":\"scatter\"},{\"x\":[0],\"y\":[-0.4257792915650727],\"type\":\"scatter\"}],\"name\":\"16\"},{\"data\":[{\"line\":{\"width\":3},\"mode\":\"lines\",\"x\":[0,-0.5358267949789969],\"y\":[0,0.844327925502015],\"type\":\"scatter\"},{\"line\":{\"width\":3},\"mode\":\"lines\",\"x\":[0,-0.5358267949789969],\"y\":[0.844327925502015,0.844327925502015],\"type\":\"scatter\"},{\"mode\":\"markers\",\"x\":[-0.5358267949789969],\"y\":[0.844327925502015],\"type\":\"scatter\"},{\"x\":[0,1],\"y\":[-0.5358267949789969,-0.5358267949789969],\"type\":\"scatter\"},{\"x\":[0,0],\"y\":[0,-0.5358267949789969],\"type\":\"scatter\"},{\"x\":[0],\"y\":[-0.5358267949789969],\"type\":\"scatter\"}],\"name\":\"17\"},{\"data\":[{\"line\":{\"width\":3},\"mode\":\"lines\",\"x\":[0,-0.6374239897486897],\"y\":[0,0.7705132427757893],\"type\":\"scatter\"},{\"line\":{\"width\":3},\"mode\":\"lines\",\"x\":[0,-0.6374239897486897],\"y\":[0.7705132427757893,0.7705132427757893],\"type\":\"scatter\"},{\"mode\":\"markers\",\"x\":[-0.6374239897486897],\"y\":[0.7705132427757893],\"type\":\"scatter\"},{\"x\":[0,1],\"y\":[-0.6374239897486897,-0.6374239897486897],\"type\":\"scatter\"},{\"x\":[0,0],\"y\":[0,-0.6374239897486897],\"type\":\"scatter\"},{\"x\":[0],\"y\":[-0.6374239897486897],\"type\":\"scatter\"}],\"name\":\"18\"},{\"data\":[{\"line\":{\"width\":3},\"mode\":\"lines\",\"x\":[0,-0.7289686274214117],\"y\":[0,0.6845471059286885],\"type\":\"scatter\"},{\"line\":{\"width\":3},\"mode\":\"lines\",\"x\":[0,-0.7289686274214117],\"y\":[0.6845471059286885,0.6845471059286885],\"type\":\"scatter\"},{\"mode\":\"markers\",\"x\":[-0.7289686274214117],\"y\":[0.6845471059286885],\"type\":\"scatter\"},{\"x\":[0,1],\"y\":[-0.7289686274214117,-0.7289686274214117],\"type\":\"scatter\"},{\"x\":[0,0],\"y\":[0,-0.7289686274214117],\"type\":\"scatter\"},{\"x\":[0],\"y\":[-0.7289686274214117],\"type\":\"scatter\"}],\"name\":\"19\"},{\"data\":[{\"line\":{\"width\":3},\"mode\":\"lines\",\"x\":[0,-0.8090169943749473],\"y\":[0,0.5877852522924732],\"type\":\"scatter\"},{\"line\":{\"width\":3},\"mode\":\"lines\",\"x\":[0,-0.8090169943749473],\"y\":[0.5877852522924732,0.5877852522924732],\"type\":\"scatter\"},{\"mode\":\"markers\",\"x\":[-0.8090169943749473],\"y\":[0.5877852522924732],\"type\":\"scatter\"},{\"x\":[0,1],\"y\":[-0.8090169943749473,-0.8090169943749473],\"type\":\"scatter\"},{\"x\":[0,0],\"y\":[0,-0.8090169943749473],\"type\":\"scatter\"},{\"x\":[0],\"y\":[-0.8090169943749473],\"type\":\"scatter\"}],\"name\":\"20\"},{\"data\":[{\"line\":{\"width\":3},\"mode\":\"lines\",\"x\":[0,-0.8763066800438636],\"y\":[0,0.4817536741017152],\"type\":\"scatter\"},{\"line\":{\"width\":3},\"mode\":\"lines\",\"x\":[0,-0.8763066800438636],\"y\":[0.4817536741017152,0.4817536741017152],\"type\":\"scatter\"},{\"mode\":\"markers\",\"x\":[-0.8763066800438636],\"y\":[0.4817536741017152],\"type\":\"scatter\"},{\"x\":[0,1],\"y\":[-0.8763066800438636,-0.8763066800438636],\"type\":\"scatter\"},{\"x\":[0,0],\"y\":[0,-0.8763066800438636],\"type\":\"scatter\"},{\"x\":[0],\"y\":[-0.8763066800438636],\"type\":\"scatter\"}],\"name\":\"21\"},{\"data\":[{\"line\":{\"width\":3},\"mode\":\"lines\",\"x\":[0,-0.9297764858882515],\"y\":[0,0.36812455268467775],\"type\":\"scatter\"},{\"line\":{\"width\":3},\"mode\":\"lines\",\"x\":[0,-0.9297764858882515],\"y\":[0.36812455268467775,0.36812455268467775],\"type\":\"scatter\"},{\"mode\":\"markers\",\"x\":[-0.9297764858882515],\"y\":[0.36812455268467775],\"type\":\"scatter\"},{\"x\":[0,1],\"y\":[-0.9297764858882515,-0.9297764858882515],\"type\":\"scatter\"},{\"x\":[0,0],\"y\":[0,-0.9297764858882515],\"type\":\"scatter\"},{\"x\":[0],\"y\":[-0.9297764858882515],\"type\":\"scatter\"}],\"name\":\"22\"},{\"data\":[{\"line\":{\"width\":3},\"mode\":\"lines\",\"x\":[0,-0.9685831611286311],\"y\":[0,0.24868988716485482],\"type\":\"scatter\"},{\"line\":{\"width\":3},\"mode\":\"lines\",\"x\":[0,-0.9685831611286311],\"y\":[0.24868988716485482,0.24868988716485482],\"type\":\"scatter\"},{\"mode\":\"markers\",\"x\":[-0.9685831611286311],\"y\":[0.24868988716485482],\"type\":\"scatter\"},{\"x\":[0,1],\"y\":[-0.9685831611286311,-0.9685831611286311],\"type\":\"scatter\"},{\"x\":[0,0],\"y\":[0,-0.9685831611286311],\"type\":\"scatter\"},{\"x\":[0],\"y\":[-0.9685831611286311],\"type\":\"scatter\"}],\"name\":\"23\"},{\"data\":[{\"line\":{\"width\":3},\"mode\":\"lines\",\"x\":[0,-0.9921147013144779],\"y\":[0,0.1253332335643041],\"type\":\"scatter\"},{\"line\":{\"width\":3},\"mode\":\"lines\",\"x\":[0,-0.9921147013144779],\"y\":[0.1253332335643041,0.1253332335643041],\"type\":\"scatter\"},{\"mode\":\"markers\",\"x\":[-0.9921147013144779],\"y\":[0.1253332335643041],\"type\":\"scatter\"},{\"x\":[0,1],\"y\":[-0.9921147013144779,-0.9921147013144779],\"type\":\"scatter\"},{\"x\":[0,0],\"y\":[0,-0.9921147013144779],\"type\":\"scatter\"},{\"x\":[0],\"y\":[-0.9921147013144779],\"type\":\"scatter\"}],\"name\":\"24\"},{\"data\":[{\"line\":{\"width\":3},\"mode\":\"lines\",\"x\":[0,-1.0],\"y\":[0,-3.216245299353273e-16],\"type\":\"scatter\"},{\"line\":{\"width\":3},\"mode\":\"lines\",\"x\":[0,-1.0],\"y\":[-3.216245299353273e-16,-3.216245299353273e-16],\"type\":\"scatter\"},{\"mode\":\"markers\",\"x\":[-1.0],\"y\":[-3.216245299353273e-16],\"type\":\"scatter\"},{\"x\":[0,1],\"y\":[-1.0,-1.0],\"type\":\"scatter\"},{\"x\":[0,0],\"y\":[0,-1.0],\"type\":\"scatter\"},{\"x\":[0],\"y\":[-1.0],\"type\":\"scatter\"}],\"name\":\"25\"},{\"data\":[{\"line\":{\"width\":3},\"mode\":\"lines\",\"x\":[0,-0.9921147013144779],\"y\":[0,-0.12533323356430429],\"type\":\"scatter\"},{\"line\":{\"width\":3},\"mode\":\"lines\",\"x\":[0,-0.9921147013144779],\"y\":[-0.12533323356430429,-0.12533323356430429],\"type\":\"scatter\"},{\"mode\":\"markers\",\"x\":[-0.9921147013144779],\"y\":[-0.12533323356430429],\"type\":\"scatter\"},{\"x\":[0,1],\"y\":[-0.9921147013144779,-0.9921147013144779],\"type\":\"scatter\"},{\"x\":[0,0],\"y\":[0,-0.9921147013144779],\"type\":\"scatter\"},{\"x\":[0],\"y\":[-0.9921147013144779],\"type\":\"scatter\"}],\"name\":\"26\"},{\"data\":[{\"line\":{\"width\":3},\"mode\":\"lines\",\"x\":[0,-0.9685831611286311],\"y\":[0,-0.24868988716485502],\"type\":\"scatter\"},{\"line\":{\"width\":3},\"mode\":\"lines\",\"x\":[0,-0.9685831611286311],\"y\":[-0.24868988716485502,-0.24868988716485502],\"type\":\"scatter\"},{\"mode\":\"markers\",\"x\":[-0.9685831611286311],\"y\":[-0.24868988716485502],\"type\":\"scatter\"},{\"x\":[0,1],\"y\":[-0.9685831611286311,-0.9685831611286311],\"type\":\"scatter\"},{\"x\":[0,0],\"y\":[0,-0.9685831611286311],\"type\":\"scatter\"},{\"x\":[0],\"y\":[-0.9685831611286311],\"type\":\"scatter\"}],\"name\":\"27\"},{\"data\":[{\"line\":{\"width\":3},\"mode\":\"lines\",\"x\":[0,-0.9297764858882512],\"y\":[0,-0.3681245526846783],\"type\":\"scatter\"},{\"line\":{\"width\":3},\"mode\":\"lines\",\"x\":[0,-0.9297764858882512],\"y\":[-0.3681245526846783,-0.3681245526846783],\"type\":\"scatter\"},{\"mode\":\"markers\",\"x\":[-0.9297764858882512],\"y\":[-0.3681245526846783],\"type\":\"scatter\"},{\"x\":[0,1],\"y\":[-0.9297764858882512,-0.9297764858882512],\"type\":\"scatter\"},{\"x\":[0,0],\"y\":[0,-0.9297764858882512],\"type\":\"scatter\"},{\"x\":[0],\"y\":[-0.9297764858882512],\"type\":\"scatter\"}],\"name\":\"28\"},{\"data\":[{\"line\":{\"width\":3},\"mode\":\"lines\",\"x\":[0,-0.8763066800438636],\"y\":[0,-0.4817536741017154],\"type\":\"scatter\"},{\"line\":{\"width\":3},\"mode\":\"lines\",\"x\":[0,-0.8763066800438636],\"y\":[-0.4817536741017154,-0.4817536741017154],\"type\":\"scatter\"},{\"mode\":\"markers\",\"x\":[-0.8763066800438636],\"y\":[-0.4817536741017154],\"type\":\"scatter\"},{\"x\":[0,1],\"y\":[-0.8763066800438636,-0.8763066800438636],\"type\":\"scatter\"},{\"x\":[0,0],\"y\":[0,-0.8763066800438636],\"type\":\"scatter\"},{\"x\":[0],\"y\":[-0.8763066800438636],\"type\":\"scatter\"}],\"name\":\"29\"},{\"data\":[{\"line\":{\"width\":3},\"mode\":\"lines\",\"x\":[0,-0.8090169943749472],\"y\":[0,-0.5877852522924734],\"type\":\"scatter\"},{\"line\":{\"width\":3},\"mode\":\"lines\",\"x\":[0,-0.8090169943749472],\"y\":[-0.5877852522924734,-0.5877852522924734],\"type\":\"scatter\"},{\"mode\":\"markers\",\"x\":[-0.8090169943749472],\"y\":[-0.5877852522924734],\"type\":\"scatter\"},{\"x\":[0,1],\"y\":[-0.8090169943749472,-0.8090169943749472],\"type\":\"scatter\"},{\"x\":[0,0],\"y\":[0,-0.8090169943749472],\"type\":\"scatter\"},{\"x\":[0],\"y\":[-0.8090169943749472],\"type\":\"scatter\"}],\"name\":\"30\"},{\"data\":[{\"line\":{\"width\":3},\"mode\":\"lines\",\"x\":[0,-0.7289686274214116],\"y\":[0,-0.6845471059286887],\"type\":\"scatter\"},{\"line\":{\"width\":3},\"mode\":\"lines\",\"x\":[0,-0.7289686274214116],\"y\":[-0.6845471059286887,-0.6845471059286887],\"type\":\"scatter\"},{\"mode\":\"markers\",\"x\":[-0.7289686274214116],\"y\":[-0.6845471059286887],\"type\":\"scatter\"},{\"x\":[0,1],\"y\":[-0.7289686274214116,-0.7289686274214116],\"type\":\"scatter\"},{\"x\":[0,0],\"y\":[0,-0.7289686274214116],\"type\":\"scatter\"},{\"x\":[0],\"y\":[-0.7289686274214116],\"type\":\"scatter\"}],\"name\":\"31\"},{\"data\":[{\"line\":{\"width\":3},\"mode\":\"lines\",\"x\":[0,-0.6374239897486895],\"y\":[0,-0.7705132427757894],\"type\":\"scatter\"},{\"line\":{\"width\":3},\"mode\":\"lines\",\"x\":[0,-0.6374239897486895],\"y\":[-0.7705132427757894,-0.7705132427757894],\"type\":\"scatter\"},{\"mode\":\"markers\",\"x\":[-0.6374239897486895],\"y\":[-0.7705132427757894],\"type\":\"scatter\"},{\"x\":[0,1],\"y\":[-0.6374239897486895,-0.6374239897486895],\"type\":\"scatter\"},{\"x\":[0,0],\"y\":[0,-0.6374239897486895],\"type\":\"scatter\"},{\"x\":[0],\"y\":[-0.6374239897486895],\"type\":\"scatter\"}],\"name\":\"32\"},{\"data\":[{\"line\":{\"width\":3},\"mode\":\"lines\",\"x\":[0,-0.5358267949789963],\"y\":[0,-0.8443279255020153],\"type\":\"scatter\"},{\"line\":{\"width\":3},\"mode\":\"lines\",\"x\":[0,-0.5358267949789963],\"y\":[-0.8443279255020153,-0.8443279255020153],\"type\":\"scatter\"},{\"mode\":\"markers\",\"x\":[-0.5358267949789963],\"y\":[-0.8443279255020153],\"type\":\"scatter\"},{\"x\":[0,1],\"y\":[-0.5358267949789963,-0.5358267949789963],\"type\":\"scatter\"},{\"x\":[0,0],\"y\":[0,-0.5358267949789963],\"type\":\"scatter\"},{\"x\":[0],\"y\":[-0.5358267949789963],\"type\":\"scatter\"}],\"name\":\"33\"},{\"data\":[{\"line\":{\"width\":3},\"mode\":\"lines\",\"x\":[0,-0.42577929156507216],\"y\":[0,-0.9048270524660198],\"type\":\"scatter\"},{\"line\":{\"width\":3},\"mode\":\"lines\",\"x\":[0,-0.42577929156507216],\"y\":[-0.9048270524660198,-0.9048270524660198],\"type\":\"scatter\"},{\"mode\":\"markers\",\"x\":[-0.42577929156507216],\"y\":[-0.9048270524660198],\"type\":\"scatter\"},{\"x\":[0,1],\"y\":[-0.42577929156507216,-0.42577929156507216],\"type\":\"scatter\"},{\"x\":[0,0],\"y\":[0,-0.42577929156507216],\"type\":\"scatter\"},{\"x\":[0],\"y\":[-0.42577929156507216],\"type\":\"scatter\"}],\"name\":\"34\"},{\"data\":[{\"line\":{\"width\":3},\"mode\":\"lines\",\"x\":[0,-0.30901699437494756],\"y\":[0,-0.9510565162951535],\"type\":\"scatter\"},{\"line\":{\"width\":3},\"mode\":\"lines\",\"x\":[0,-0.30901699437494756],\"y\":[-0.9510565162951535,-0.9510565162951535],\"type\":\"scatter\"},{\"mode\":\"markers\",\"x\":[-0.30901699437494756],\"y\":[-0.9510565162951535],\"type\":\"scatter\"},{\"x\":[0,1],\"y\":[-0.30901699437494756,-0.30901699437494756],\"type\":\"scatter\"},{\"x\":[0,0],\"y\":[0,-0.30901699437494756],\"type\":\"scatter\"},{\"x\":[0],\"y\":[-0.30901699437494756],\"type\":\"scatter\"}],\"name\":\"35\"},{\"data\":[{\"line\":{\"width\":3},\"mode\":\"lines\",\"x\":[0,-0.18738131458572463],\"y\":[0,-0.9822872507286887],\"type\":\"scatter\"},{\"line\":{\"width\":3},\"mode\":\"lines\",\"x\":[0,-0.18738131458572463],\"y\":[-0.9822872507286887,-0.9822872507286887],\"type\":\"scatter\"},{\"mode\":\"markers\",\"x\":[-0.18738131458572463],\"y\":[-0.9822872507286887],\"type\":\"scatter\"},{\"x\":[0,1],\"y\":[-0.18738131458572463,-0.18738131458572463],\"type\":\"scatter\"},{\"x\":[0,0],\"y\":[0,-0.18738131458572463],\"type\":\"scatter\"},{\"x\":[0],\"y\":[-0.18738131458572463],\"type\":\"scatter\"}],\"name\":\"36\"},{\"data\":[{\"line\":{\"width\":3},\"mode\":\"lines\",\"x\":[0,-0.06279051952931321],\"y\":[0,-0.9980267284282716],\"type\":\"scatter\"},{\"line\":{\"width\":3},\"mode\":\"lines\",\"x\":[0,-0.06279051952931321],\"y\":[-0.9980267284282716,-0.9980267284282716],\"type\":\"scatter\"},{\"mode\":\"markers\",\"x\":[-0.06279051952931321],\"y\":[-0.9980267284282716],\"type\":\"scatter\"},{\"x\":[0,1],\"y\":[-0.06279051952931321,-0.06279051952931321],\"type\":\"scatter\"},{\"x\":[0,0],\"y\":[0,-0.06279051952931321],\"type\":\"scatter\"},{\"x\":[0],\"y\":[-0.06279051952931321],\"type\":\"scatter\"}],\"name\":\"37\"},{\"data\":[{\"line\":{\"width\":3},\"mode\":\"lines\",\"x\":[0,0.06279051952931372],\"y\":[0,-0.9980267284282716],\"type\":\"scatter\"},{\"line\":{\"width\":3},\"mode\":\"lines\",\"x\":[0,0.06279051952931372],\"y\":[-0.9980267284282716,-0.9980267284282716],\"type\":\"scatter\"},{\"mode\":\"markers\",\"x\":[0.06279051952931372],\"y\":[-0.9980267284282716],\"type\":\"scatter\"},{\"x\":[0,1],\"y\":[0.06279051952931372,0.06279051952931372],\"type\":\"scatter\"},{\"x\":[0,0],\"y\":[0,0.06279051952931372],\"type\":\"scatter\"},{\"x\":[0],\"y\":[0.06279051952931372],\"type\":\"scatter\"}],\"name\":\"38\"},{\"data\":[{\"line\":{\"width\":3},\"mode\":\"lines\",\"x\":[0,0.18738131458572513],\"y\":[0,-0.9822872507286886],\"type\":\"scatter\"},{\"line\":{\"width\":3},\"mode\":\"lines\",\"x\":[0,0.18738131458572513],\"y\":[-0.9822872507286886,-0.9822872507286886],\"type\":\"scatter\"},{\"mode\":\"markers\",\"x\":[0.18738131458572513],\"y\":[-0.9822872507286886],\"type\":\"scatter\"},{\"x\":[0,1],\"y\":[0.18738131458572513,0.18738131458572513],\"type\":\"scatter\"},{\"x\":[0,0],\"y\":[0,0.18738131458572513],\"type\":\"scatter\"},{\"x\":[0],\"y\":[0.18738131458572513],\"type\":\"scatter\"}],\"name\":\"39\"},{\"data\":[{\"line\":{\"width\":3},\"mode\":\"lines\",\"x\":[0,0.30901699437494723],\"y\":[0,-0.9510565162951536],\"type\":\"scatter\"},{\"line\":{\"width\":3},\"mode\":\"lines\",\"x\":[0,0.30901699437494723],\"y\":[-0.9510565162951536,-0.9510565162951536],\"type\":\"scatter\"},{\"mode\":\"markers\",\"x\":[0.30901699437494723],\"y\":[-0.9510565162951536],\"type\":\"scatter\"},{\"x\":[0,1],\"y\":[0.30901699437494723,0.30901699437494723],\"type\":\"scatter\"},{\"x\":[0,0],\"y\":[0,0.30901699437494723],\"type\":\"scatter\"},{\"x\":[0],\"y\":[0.30901699437494723],\"type\":\"scatter\"}],\"name\":\"40\"},{\"data\":[{\"line\":{\"width\":3},\"mode\":\"lines\",\"x\":[0,0.4257792915650726],\"y\":[0,-0.9048270524660196],\"type\":\"scatter\"},{\"line\":{\"width\":3},\"mode\":\"lines\",\"x\":[0,0.4257792915650726],\"y\":[-0.9048270524660196,-0.9048270524660196],\"type\":\"scatter\"},{\"mode\":\"markers\",\"x\":[0.4257792915650726],\"y\":[-0.9048270524660196],\"type\":\"scatter\"},{\"x\":[0,1],\"y\":[0.4257792915650726,0.4257792915650726],\"type\":\"scatter\"},{\"x\":[0,0],\"y\":[0,0.4257792915650726],\"type\":\"scatter\"},{\"x\":[0],\"y\":[0.4257792915650726],\"type\":\"scatter\"}],\"name\":\"41\"},{\"data\":[{\"line\":{\"width\":3},\"mode\":\"lines\",\"x\":[0,0.5358267949789968],\"y\":[0,-0.844327925502015],\"type\":\"scatter\"},{\"line\":{\"width\":3},\"mode\":\"lines\",\"x\":[0,0.5358267949789968],\"y\":[-0.844327925502015,-0.844327925502015],\"type\":\"scatter\"},{\"mode\":\"markers\",\"x\":[0.5358267949789968],\"y\":[-0.844327925502015],\"type\":\"scatter\"},{\"x\":[0,1],\"y\":[0.5358267949789968,0.5358267949789968],\"type\":\"scatter\"},{\"x\":[0,0],\"y\":[0,0.5358267949789968],\"type\":\"scatter\"},{\"x\":[0],\"y\":[0.5358267949789968],\"type\":\"scatter\"}],\"name\":\"42\"},{\"data\":[{\"line\":{\"width\":3},\"mode\":\"lines\",\"x\":[0,0.63742398974869],\"y\":[0,-0.770513242775789],\"type\":\"scatter\"},{\"line\":{\"width\":3},\"mode\":\"lines\",\"x\":[0,0.63742398974869],\"y\":[-0.770513242775789,-0.770513242775789],\"type\":\"scatter\"},{\"mode\":\"markers\",\"x\":[0.63742398974869],\"y\":[-0.770513242775789],\"type\":\"scatter\"},{\"x\":[0,1],\"y\":[0.63742398974869,0.63742398974869],\"type\":\"scatter\"},{\"x\":[0,0],\"y\":[0,0.63742398974869],\"type\":\"scatter\"},{\"x\":[0],\"y\":[0.63742398974869],\"type\":\"scatter\"}],\"name\":\"43\"},{\"data\":[{\"line\":{\"width\":3},\"mode\":\"lines\",\"x\":[0,0.7289686274214119],\"y\":[0,-0.6845471059286883],\"type\":\"scatter\"},{\"line\":{\"width\":3},\"mode\":\"lines\",\"x\":[0,0.7289686274214119],\"y\":[-0.6845471059286883,-0.6845471059286883],\"type\":\"scatter\"},{\"mode\":\"markers\",\"x\":[0.7289686274214119],\"y\":[-0.6845471059286883],\"type\":\"scatter\"},{\"x\":[0,1],\"y\":[0.7289686274214119,0.7289686274214119],\"type\":\"scatter\"},{\"x\":[0,0],\"y\":[0,0.7289686274214119],\"type\":\"scatter\"},{\"x\":[0],\"y\":[0.7289686274214119],\"type\":\"scatter\"}],\"name\":\"44\"},{\"data\":[{\"line\":{\"width\":3},\"mode\":\"lines\",\"x\":[0,0.8090169943749478],\"y\":[0,-0.5877852522924726],\"type\":\"scatter\"},{\"line\":{\"width\":3},\"mode\":\"lines\",\"x\":[0,0.8090169943749478],\"y\":[-0.5877852522924726,-0.5877852522924726],\"type\":\"scatter\"},{\"mode\":\"markers\",\"x\":[0.8090169943749478],\"y\":[-0.5877852522924726],\"type\":\"scatter\"},{\"x\":[0,1],\"y\":[0.8090169943749478,0.8090169943749478],\"type\":\"scatter\"},{\"x\":[0,0],\"y\":[0,0.8090169943749478],\"type\":\"scatter\"},{\"x\":[0],\"y\":[0.8090169943749478],\"type\":\"scatter\"}],\"name\":\"45\"},{\"data\":[{\"line\":{\"width\":3},\"mode\":\"lines\",\"x\":[0,0.8763066800438636],\"y\":[0,-0.4817536741017153],\"type\":\"scatter\"},{\"line\":{\"width\":3},\"mode\":\"lines\",\"x\":[0,0.8763066800438636],\"y\":[-0.4817536741017153,-0.4817536741017153],\"type\":\"scatter\"},{\"mode\":\"markers\",\"x\":[0.8763066800438636],\"y\":[-0.4817536741017153],\"type\":\"scatter\"},{\"x\":[0,1],\"y\":[0.8763066800438636,0.8763066800438636],\"type\":\"scatter\"},{\"x\":[0,0],\"y\":[0,0.8763066800438636],\"type\":\"scatter\"},{\"x\":[0],\"y\":[0.8763066800438636],\"type\":\"scatter\"}],\"name\":\"46\"},{\"data\":[{\"line\":{\"width\":3},\"mode\":\"lines\",\"x\":[0,0.9297764858882515],\"y\":[0,-0.36812455268467786],\"type\":\"scatter\"},{\"line\":{\"width\":3},\"mode\":\"lines\",\"x\":[0,0.9297764858882515],\"y\":[-0.36812455268467786,-0.36812455268467786],\"type\":\"scatter\"},{\"mode\":\"markers\",\"x\":[0.9297764858882515],\"y\":[-0.36812455268467786],\"type\":\"scatter\"},{\"x\":[0,1],\"y\":[0.9297764858882515,0.9297764858882515],\"type\":\"scatter\"},{\"x\":[0,0],\"y\":[0,0.9297764858882515],\"type\":\"scatter\"},{\"x\":[0],\"y\":[0.9297764858882515],\"type\":\"scatter\"}],\"name\":\"47\"},{\"data\":[{\"line\":{\"width\":3},\"mode\":\"lines\",\"x\":[0,0.9685831611286312],\"y\":[0,-0.2486898871648545],\"type\":\"scatter\"},{\"line\":{\"width\":3},\"mode\":\"lines\",\"x\":[0,0.9685831611286312],\"y\":[-0.2486898871648545,-0.2486898871648545],\"type\":\"scatter\"},{\"mode\":\"markers\",\"x\":[0.9685831611286312],\"y\":[-0.2486898871648545],\"type\":\"scatter\"},{\"x\":[0,1],\"y\":[0.9685831611286312,0.9685831611286312],\"type\":\"scatter\"},{\"x\":[0,0],\"y\":[0,0.9685831611286312],\"type\":\"scatter\"},{\"x\":[0],\"y\":[0.9685831611286312],\"type\":\"scatter\"}],\"name\":\"48\"},{\"data\":[{\"line\":{\"width\":3},\"mode\":\"lines\",\"x\":[0,0.9921147013144779],\"y\":[0,-0.1253332335643038],\"type\":\"scatter\"},{\"line\":{\"width\":3},\"mode\":\"lines\",\"x\":[0,0.9921147013144779],\"y\":[-0.1253332335643038,-0.1253332335643038],\"type\":\"scatter\"},{\"mode\":\"markers\",\"x\":[0.9921147013144779],\"y\":[-0.1253332335643038],\"type\":\"scatter\"},{\"x\":[0,1],\"y\":[0.9921147013144779,0.9921147013144779],\"type\":\"scatter\"},{\"x\":[0,0],\"y\":[0,0.9921147013144779],\"type\":\"scatter\"},{\"x\":[0],\"y\":[0.9921147013144779],\"type\":\"scatter\"}],\"name\":\"49\"},{\"data\":[{\"line\":{\"width\":3},\"mode\":\"lines\",\"x\":[0,1.0],\"y\":[0,6.432490598706546e-16],\"type\":\"scatter\"},{\"line\":{\"width\":3},\"mode\":\"lines\",\"x\":[0,1.0],\"y\":[6.432490598706546e-16,6.432490598706546e-16],\"type\":\"scatter\"},{\"mode\":\"markers\",\"x\":[1.0],\"y\":[6.432490598706546e-16],\"type\":\"scatter\"},{\"x\":[0,1],\"y\":[1.0,1.0],\"type\":\"scatter\"},{\"x\":[0,0],\"y\":[0,1.0],\"type\":\"scatter\"},{\"x\":[0],\"y\":[1.0],\"type\":\"scatter\"}],\"name\":\"50\"},{\"data\":[{\"line\":{\"width\":3},\"mode\":\"lines\",\"x\":[0,0.9921147013144779],\"y\":[0,0.12533323356430418],\"type\":\"scatter\"},{\"line\":{\"width\":3},\"mode\":\"lines\",\"x\":[0,0.9921147013144779],\"y\":[0.12533323356430418,0.12533323356430418],\"type\":\"scatter\"},{\"mode\":\"markers\",\"x\":[0.9921147013144779],\"y\":[0.12533323356430418],\"type\":\"scatter\"},{\"x\":[0,1],\"y\":[0.9921147013144779,0.9921147013144779],\"type\":\"scatter\"},{\"x\":[0,0],\"y\":[0,0.9921147013144779],\"type\":\"scatter\"},{\"x\":[0],\"y\":[0.9921147013144779],\"type\":\"scatter\"}],\"name\":\"51\"},{\"data\":[{\"line\":{\"width\":3},\"mode\":\"lines\",\"x\":[0,0.9685831611286311],\"y\":[0,0.24868988716485488],\"type\":\"scatter\"},{\"line\":{\"width\":3},\"mode\":\"lines\",\"x\":[0,0.9685831611286311],\"y\":[0.24868988716485488,0.24868988716485488],\"type\":\"scatter\"},{\"mode\":\"markers\",\"x\":[0.9685831611286311],\"y\":[0.24868988716485488],\"type\":\"scatter\"},{\"x\":[0,1],\"y\":[0.9685831611286311,0.9685831611286311],\"type\":\"scatter\"},{\"x\":[0,0],\"y\":[0,0.9685831611286311],\"type\":\"scatter\"},{\"x\":[0],\"y\":[0.9685831611286311],\"type\":\"scatter\"}],\"name\":\"52\"},{\"data\":[{\"line\":{\"width\":3},\"mode\":\"lines\",\"x\":[0,0.9297764858882513],\"y\":[0,0.3681245526846782],\"type\":\"scatter\"},{\"line\":{\"width\":3},\"mode\":\"lines\",\"x\":[0,0.9297764858882513],\"y\":[0.3681245526846782,0.3681245526846782],\"type\":\"scatter\"},{\"mode\":\"markers\",\"x\":[0.9297764858882513],\"y\":[0.3681245526846782],\"type\":\"scatter\"},{\"x\":[0,1],\"y\":[0.9297764858882513,0.9297764858882513],\"type\":\"scatter\"},{\"x\":[0,0],\"y\":[0,0.9297764858882513],\"type\":\"scatter\"},{\"x\":[0],\"y\":[0.9297764858882513],\"type\":\"scatter\"}],\"name\":\"53\"},{\"data\":[{\"line\":{\"width\":3},\"mode\":\"lines\",\"x\":[0,0.8763066800438634],\"y\":[0,0.48175367410171566],\"type\":\"scatter\"},{\"line\":{\"width\":3},\"mode\":\"lines\",\"x\":[0,0.8763066800438634],\"y\":[0.48175367410171566,0.48175367410171566],\"type\":\"scatter\"},{\"mode\":\"markers\",\"x\":[0.8763066800438634],\"y\":[0.48175367410171566],\"type\":\"scatter\"},{\"x\":[0,1],\"y\":[0.8763066800438634,0.8763066800438634],\"type\":\"scatter\"},{\"x\":[0,0],\"y\":[0,0.8763066800438634],\"type\":\"scatter\"},{\"x\":[0],\"y\":[0.8763066800438634],\"type\":\"scatter\"}],\"name\":\"54\"},{\"data\":[{\"line\":{\"width\":3},\"mode\":\"lines\",\"x\":[0,0.8090169943749471],\"y\":[0,0.5877852522924736],\"type\":\"scatter\"},{\"line\":{\"width\":3},\"mode\":\"lines\",\"x\":[0,0.8090169943749471],\"y\":[0.5877852522924736,0.5877852522924736],\"type\":\"scatter\"},{\"mode\":\"markers\",\"x\":[0.8090169943749471],\"y\":[0.5877852522924736],\"type\":\"scatter\"},{\"x\":[0,1],\"y\":[0.8090169943749471,0.8090169943749471],\"type\":\"scatter\"},{\"x\":[0,0],\"y\":[0,0.8090169943749471],\"type\":\"scatter\"},{\"x\":[0],\"y\":[0.8090169943749471],\"type\":\"scatter\"}],\"name\":\"55\"},{\"data\":[{\"line\":{\"width\":3},\"mode\":\"lines\",\"x\":[0,0.728968627421411],\"y\":[0,0.6845471059286893],\"type\":\"scatter\"},{\"line\":{\"width\":3},\"mode\":\"lines\",\"x\":[0,0.728968627421411],\"y\":[0.6845471059286893,0.6845471059286893],\"type\":\"scatter\"},{\"mode\":\"markers\",\"x\":[0.728968627421411],\"y\":[0.6845471059286893],\"type\":\"scatter\"},{\"x\":[0,1],\"y\":[0.728968627421411,0.728968627421411],\"type\":\"scatter\"},{\"x\":[0,0],\"y\":[0,0.728968627421411],\"type\":\"scatter\"},{\"x\":[0],\"y\":[0.728968627421411],\"type\":\"scatter\"}],\"name\":\"56\"},{\"data\":[{\"line\":{\"width\":3},\"mode\":\"lines\",\"x\":[0,0.6374239897486896],\"y\":[0,0.7705132427757893],\"type\":\"scatter\"},{\"line\":{\"width\":3},\"mode\":\"lines\",\"x\":[0,0.6374239897486896],\"y\":[0.7705132427757893,0.7705132427757893],\"type\":\"scatter\"},{\"mode\":\"markers\",\"x\":[0.6374239897486896],\"y\":[0.7705132427757893],\"type\":\"scatter\"},{\"x\":[0,1],\"y\":[0.6374239897486896,0.6374239897486896],\"type\":\"scatter\"},{\"x\":[0,0],\"y\":[0,0.6374239897486896],\"type\":\"scatter\"},{\"x\":[0],\"y\":[0.6374239897486896],\"type\":\"scatter\"}],\"name\":\"57\"},{\"data\":[{\"line\":{\"width\":3},\"mode\":\"lines\",\"x\":[0,0.5358267949789964],\"y\":[0,0.8443279255020152],\"type\":\"scatter\"},{\"line\":{\"width\":3},\"mode\":\"lines\",\"x\":[0,0.5358267949789964],\"y\":[0.8443279255020152,0.8443279255020152],\"type\":\"scatter\"},{\"mode\":\"markers\",\"x\":[0.5358267949789964],\"y\":[0.8443279255020152],\"type\":\"scatter\"},{\"x\":[0,1],\"y\":[0.5358267949789964,0.5358267949789964],\"type\":\"scatter\"},{\"x\":[0,0],\"y\":[0,0.5358267949789964],\"type\":\"scatter\"},{\"x\":[0],\"y\":[0.5358267949789964],\"type\":\"scatter\"}],\"name\":\"58\"},{\"data\":[{\"line\":{\"width\":3},\"mode\":\"lines\",\"x\":[0,0.42577929156507227],\"y\":[0,0.9048270524660197],\"type\":\"scatter\"},{\"line\":{\"width\":3},\"mode\":\"lines\",\"x\":[0,0.42577929156507227],\"y\":[0.9048270524660197,0.9048270524660197],\"type\":\"scatter\"},{\"mode\":\"markers\",\"x\":[0.42577929156507227],\"y\":[0.9048270524660197],\"type\":\"scatter\"},{\"x\":[0,1],\"y\":[0.42577929156507227,0.42577929156507227],\"type\":\"scatter\"},{\"x\":[0,0],\"y\":[0,0.42577929156507227],\"type\":\"scatter\"},{\"x\":[0],\"y\":[0.42577929156507227],\"type\":\"scatter\"}],\"name\":\"59\"},{\"data\":[{\"line\":{\"width\":3},\"mode\":\"lines\",\"x\":[0,0.30901699437494684],\"y\":[0,0.9510565162951538],\"type\":\"scatter\"},{\"line\":{\"width\":3},\"mode\":\"lines\",\"x\":[0,0.30901699437494684],\"y\":[0.9510565162951538,0.9510565162951538],\"type\":\"scatter\"},{\"mode\":\"markers\",\"x\":[0.30901699437494684],\"y\":[0.9510565162951538],\"type\":\"scatter\"},{\"x\":[0,1],\"y\":[0.30901699437494684,0.30901699437494684],\"type\":\"scatter\"},{\"x\":[0,0],\"y\":[0,0.30901699437494684],\"type\":\"scatter\"},{\"x\":[0],\"y\":[0.30901699437494684],\"type\":\"scatter\"}],\"name\":\"60\"},{\"data\":[{\"line\":{\"width\":3},\"mode\":\"lines\",\"x\":[0,0.18738131458572388],\"y\":[0,0.9822872507286888],\"type\":\"scatter\"},{\"line\":{\"width\":3},\"mode\":\"lines\",\"x\":[0,0.18738131458572388],\"y\":[0.9822872507286888,0.9822872507286888],\"type\":\"scatter\"},{\"mode\":\"markers\",\"x\":[0.18738131458572388],\"y\":[0.9822872507286888],\"type\":\"scatter\"},{\"x\":[0,1],\"y\":[0.18738131458572388,0.18738131458572388],\"type\":\"scatter\"},{\"x\":[0,0],\"y\":[0,0.18738131458572388],\"type\":\"scatter\"},{\"x\":[0],\"y\":[0.18738131458572388],\"type\":\"scatter\"}],\"name\":\"61\"},{\"data\":[{\"line\":{\"width\":3},\"mode\":\"lines\",\"x\":[0,0.06279051952931332],\"y\":[0,0.9980267284282716],\"type\":\"scatter\"},{\"line\":{\"width\":3},\"mode\":\"lines\",\"x\":[0,0.06279051952931332],\"y\":[0.9980267284282716,0.9980267284282716],\"type\":\"scatter\"},{\"mode\":\"markers\",\"x\":[0.06279051952931332],\"y\":[0.9980267284282716],\"type\":\"scatter\"},{\"x\":[0,1],\"y\":[0.06279051952931332,0.06279051952931332],\"type\":\"scatter\"},{\"x\":[0,0],\"y\":[0,0.06279051952931332],\"type\":\"scatter\"},{\"x\":[0],\"y\":[0.06279051952931332],\"type\":\"scatter\"}],\"name\":\"62\"},{\"data\":[{\"line\":{\"width\":3},\"mode\":\"lines\",\"x\":[0,-0.0627905195293136],\"y\":[0,0.9980267284282716],\"type\":\"scatter\"},{\"line\":{\"width\":3},\"mode\":\"lines\",\"x\":[0,-0.0627905195293136],\"y\":[0.9980267284282716,0.9980267284282716],\"type\":\"scatter\"},{\"mode\":\"markers\",\"x\":[-0.0627905195293136],\"y\":[0.9980267284282716],\"type\":\"scatter\"},{\"x\":[0,1],\"y\":[-0.0627905195293136,-0.0627905195293136],\"type\":\"scatter\"},{\"x\":[0,0],\"y\":[0,-0.0627905195293136],\"type\":\"scatter\"},{\"x\":[0],\"y\":[-0.0627905195293136],\"type\":\"scatter\"}],\"name\":\"63\"},{\"data\":[{\"line\":{\"width\":3},\"mode\":\"lines\",\"x\":[0,-0.18738131458572502],\"y\":[0,0.9822872507286886],\"type\":\"scatter\"},{\"line\":{\"width\":3},\"mode\":\"lines\",\"x\":[0,-0.18738131458572502],\"y\":[0.9822872507286886,0.9822872507286886],\"type\":\"scatter\"},{\"mode\":\"markers\",\"x\":[-0.18738131458572502],\"y\":[0.9822872507286886],\"type\":\"scatter\"},{\"x\":[0,1],\"y\":[-0.18738131458572502,-0.18738131458572502],\"type\":\"scatter\"},{\"x\":[0,0],\"y\":[0,-0.18738131458572502],\"type\":\"scatter\"},{\"x\":[0],\"y\":[-0.18738131458572502],\"type\":\"scatter\"}],\"name\":\"64\"},{\"data\":[{\"line\":{\"width\":3},\"mode\":\"lines\",\"x\":[0,-0.3090169943749471],\"y\":[0,0.9510565162951536],\"type\":\"scatter\"},{\"line\":{\"width\":3},\"mode\":\"lines\",\"x\":[0,-0.3090169943749471],\"y\":[0.9510565162951536,0.9510565162951536],\"type\":\"scatter\"},{\"mode\":\"markers\",\"x\":[-0.3090169943749471],\"y\":[0.9510565162951536],\"type\":\"scatter\"},{\"x\":[0,1],\"y\":[-0.3090169943749471,-0.3090169943749471],\"type\":\"scatter\"},{\"x\":[0,0],\"y\":[0,-0.3090169943749471],\"type\":\"scatter\"},{\"x\":[0],\"y\":[-0.3090169943749471],\"type\":\"scatter\"}],\"name\":\"65\"},{\"data\":[{\"line\":{\"width\":3},\"mode\":\"lines\",\"x\":[0,-0.4257792915650733],\"y\":[0,0.9048270524660192],\"type\":\"scatter\"},{\"line\":{\"width\":3},\"mode\":\"lines\",\"x\":[0,-0.4257792915650733],\"y\":[0.9048270524660192,0.9048270524660192],\"type\":\"scatter\"},{\"mode\":\"markers\",\"x\":[-0.4257792915650733],\"y\":[0.9048270524660192],\"type\":\"scatter\"},{\"x\":[0,1],\"y\":[-0.4257792915650733,-0.4257792915650733],\"type\":\"scatter\"},{\"x\":[0,0],\"y\":[0,-0.4257792915650733],\"type\":\"scatter\"},{\"x\":[0],\"y\":[-0.4257792915650733],\"type\":\"scatter\"}],\"name\":\"66\"},{\"data\":[{\"line\":{\"width\":3},\"mode\":\"lines\",\"x\":[0,-0.5358267949789967],\"y\":[0,0.8443279255020151],\"type\":\"scatter\"},{\"line\":{\"width\":3},\"mode\":\"lines\",\"x\":[0,-0.5358267949789967],\"y\":[0.8443279255020151,0.8443279255020151],\"type\":\"scatter\"},{\"mode\":\"markers\",\"x\":[-0.5358267949789967],\"y\":[0.8443279255020151],\"type\":\"scatter\"},{\"x\":[0,1],\"y\":[-0.5358267949789967,-0.5358267949789967],\"type\":\"scatter\"},{\"x\":[0,0],\"y\":[0,-0.5358267949789967],\"type\":\"scatter\"},{\"x\":[0],\"y\":[-0.5358267949789967],\"type\":\"scatter\"}],\"name\":\"67\"},{\"data\":[{\"line\":{\"width\":3},\"mode\":\"lines\",\"x\":[0,-0.6374239897486905],\"y\":[0,0.7705132427757886],\"type\":\"scatter\"},{\"line\":{\"width\":3},\"mode\":\"lines\",\"x\":[0,-0.6374239897486905],\"y\":[0.7705132427757886,0.7705132427757886],\"type\":\"scatter\"},{\"mode\":\"markers\",\"x\":[-0.6374239897486905],\"y\":[0.7705132427757886],\"type\":\"scatter\"},{\"x\":[0,1],\"y\":[-0.6374239897486905,-0.6374239897486905],\"type\":\"scatter\"},{\"x\":[0,0],\"y\":[0,-0.6374239897486905],\"type\":\"scatter\"},{\"x\":[0],\"y\":[-0.6374239897486905],\"type\":\"scatter\"}],\"name\":\"68\"},{\"data\":[{\"line\":{\"width\":3},\"mode\":\"lines\",\"x\":[0,-0.7289686274214118],\"y\":[0,0.6845471059286884],\"type\":\"scatter\"},{\"line\":{\"width\":3},\"mode\":\"lines\",\"x\":[0,-0.7289686274214118],\"y\":[0.6845471059286884,0.6845471059286884],\"type\":\"scatter\"},{\"mode\":\"markers\",\"x\":[-0.7289686274214118],\"y\":[0.6845471059286884],\"type\":\"scatter\"},{\"x\":[0,1],\"y\":[-0.7289686274214118,-0.7289686274214118],\"type\":\"scatter\"},{\"x\":[0,0],\"y\":[0,-0.7289686274214118],\"type\":\"scatter\"},{\"x\":[0],\"y\":[-0.7289686274214118],\"type\":\"scatter\"}],\"name\":\"69\"},{\"data\":[{\"line\":{\"width\":3},\"mode\":\"lines\",\"x\":[0,-0.8090169943749472],\"y\":[0,0.5877852522924734],\"type\":\"scatter\"},{\"line\":{\"width\":3},\"mode\":\"lines\",\"x\":[0,-0.8090169943749472],\"y\":[0.5877852522924734,0.5877852522924734],\"type\":\"scatter\"},{\"mode\":\"markers\",\"x\":[-0.8090169943749472],\"y\":[0.5877852522924734],\"type\":\"scatter\"},{\"x\":[0,1],\"y\":[-0.8090169943749472,-0.8090169943749472],\"type\":\"scatter\"},{\"x\":[0,0],\"y\":[0,-0.8090169943749472],\"type\":\"scatter\"},{\"x\":[0],\"y\":[-0.8090169943749472],\"type\":\"scatter\"}],\"name\":\"70\"},{\"data\":[{\"line\":{\"width\":3},\"mode\":\"lines\",\"x\":[0,-0.8763066800438639],\"y\":[0,0.48175367410171466],\"type\":\"scatter\"},{\"line\":{\"width\":3},\"mode\":\"lines\",\"x\":[0,-0.8763066800438639],\"y\":[0.48175367410171466,0.48175367410171466],\"type\":\"scatter\"},{\"mode\":\"markers\",\"x\":[-0.8763066800438639],\"y\":[0.48175367410171466],\"type\":\"scatter\"},{\"x\":[0,1],\"y\":[-0.8763066800438639,-0.8763066800438639],\"type\":\"scatter\"},{\"x\":[0,0],\"y\":[0,-0.8763066800438639],\"type\":\"scatter\"},{\"x\":[0],\"y\":[-0.8763066800438639],\"type\":\"scatter\"}],\"name\":\"71\"},{\"data\":[{\"line\":{\"width\":3},\"mode\":\"lines\",\"x\":[0,-0.9297764858882515],\"y\":[0,0.368124552684678],\"type\":\"scatter\"},{\"line\":{\"width\":3},\"mode\":\"lines\",\"x\":[0,-0.9297764858882515],\"y\":[0.368124552684678,0.368124552684678],\"type\":\"scatter\"},{\"mode\":\"markers\",\"x\":[-0.9297764858882515],\"y\":[0.368124552684678],\"type\":\"scatter\"},{\"x\":[0,1],\"y\":[-0.9297764858882515,-0.9297764858882515],\"type\":\"scatter\"},{\"x\":[0,0],\"y\":[0,-0.9297764858882515],\"type\":\"scatter\"},{\"x\":[0],\"y\":[-0.9297764858882515],\"type\":\"scatter\"}],\"name\":\"72\"},{\"data\":[{\"line\":{\"width\":3},\"mode\":\"lines\",\"x\":[0,-0.9685831611286314],\"y\":[0,0.24868988716485377],\"type\":\"scatter\"},{\"line\":{\"width\":3},\"mode\":\"lines\",\"x\":[0,-0.9685831611286314],\"y\":[0.24868988716485377,0.24868988716485377],\"type\":\"scatter\"},{\"mode\":\"markers\",\"x\":[-0.9685831611286314],\"y\":[0.24868988716485377],\"type\":\"scatter\"},{\"x\":[0,1],\"y\":[-0.9685831611286314,-0.9685831611286314],\"type\":\"scatter\"},{\"x\":[0,0],\"y\":[0,-0.9685831611286314],\"type\":\"scatter\"},{\"x\":[0],\"y\":[-0.9685831611286314],\"type\":\"scatter\"}],\"name\":\"73\"},{\"data\":[{\"line\":{\"width\":3},\"mode\":\"lines\",\"x\":[0,-0.9921147013144779],\"y\":[0,0.1253332335643039],\"type\":\"scatter\"},{\"line\":{\"width\":3},\"mode\":\"lines\",\"x\":[0,-0.9921147013144779],\"y\":[0.1253332335643039,0.1253332335643039],\"type\":\"scatter\"},{\"mode\":\"markers\",\"x\":[-0.9921147013144779],\"y\":[0.1253332335643039],\"type\":\"scatter\"},{\"x\":[0,1],\"y\":[-0.9921147013144779,-0.9921147013144779],\"type\":\"scatter\"},{\"x\":[0,0],\"y\":[0,-0.9921147013144779],\"type\":\"scatter\"},{\"x\":[0],\"y\":[-0.9921147013144779],\"type\":\"scatter\"}],\"name\":\"74\"},{\"data\":[{\"line\":{\"width\":3},\"mode\":\"lines\",\"x\":[0,-1.0],\"y\":[0,3.6739403974420594e-16],\"type\":\"scatter\"},{\"line\":{\"width\":3},\"mode\":\"lines\",\"x\":[0,-1.0],\"y\":[3.6739403974420594e-16,3.6739403974420594e-16],\"type\":\"scatter\"},{\"mode\":\"markers\",\"x\":[-1.0],\"y\":[3.6739403974420594e-16],\"type\":\"scatter\"},{\"x\":[0,1],\"y\":[-1.0,-1.0],\"type\":\"scatter\"},{\"x\":[0,0],\"y\":[0,-1.0],\"type\":\"scatter\"},{\"x\":[0],\"y\":[-1.0],\"type\":\"scatter\"}],\"name\":\"75\"},{\"data\":[{\"line\":{\"width\":3},\"mode\":\"lines\",\"x\":[0,-0.9921147013144778],\"y\":[0,-0.12533323356430492],\"type\":\"scatter\"},{\"line\":{\"width\":3},\"mode\":\"lines\",\"x\":[0,-0.9921147013144778],\"y\":[-0.12533323356430492,-0.12533323356430492],\"type\":\"scatter\"},{\"mode\":\"markers\",\"x\":[-0.9921147013144778],\"y\":[-0.12533323356430492],\"type\":\"scatter\"},{\"x\":[0,1],\"y\":[-0.9921147013144778,-0.9921147013144778],\"type\":\"scatter\"},{\"x\":[0,0],\"y\":[0,-0.9921147013144778],\"type\":\"scatter\"},{\"x\":[0],\"y\":[-0.9921147013144778],\"type\":\"scatter\"}],\"name\":\"76\"},{\"data\":[{\"line\":{\"width\":3},\"mode\":\"lines\",\"x\":[0,-0.9685831611286311],\"y\":[0,-0.24868988716485477],\"type\":\"scatter\"},{\"line\":{\"width\":3},\"mode\":\"lines\",\"x\":[0,-0.9685831611286311],\"y\":[-0.24868988716485477,-0.24868988716485477],\"type\":\"scatter\"},{\"mode\":\"markers\",\"x\":[-0.9685831611286311],\"y\":[-0.24868988716485477],\"type\":\"scatter\"},{\"x\":[0,1],\"y\":[-0.9685831611286311,-0.9685831611286311],\"type\":\"scatter\"},{\"x\":[0,0],\"y\":[0,-0.9685831611286311],\"type\":\"scatter\"},{\"x\":[0],\"y\":[-0.9685831611286311],\"type\":\"scatter\"}],\"name\":\"77\"},{\"data\":[{\"line\":{\"width\":3},\"mode\":\"lines\",\"x\":[0,-0.929776485888251],\"y\":[0,-0.3681245526846789],\"type\":\"scatter\"},{\"line\":{\"width\":3},\"mode\":\"lines\",\"x\":[0,-0.929776485888251],\"y\":[-0.3681245526846789,-0.3681245526846789],\"type\":\"scatter\"},{\"mode\":\"markers\",\"x\":[-0.929776485888251],\"y\":[-0.3681245526846789],\"type\":\"scatter\"},{\"x\":[0,1],\"y\":[-0.929776485888251,-0.929776485888251],\"type\":\"scatter\"},{\"x\":[0,0],\"y\":[0,-0.929776485888251],\"type\":\"scatter\"},{\"x\":[0],\"y\":[-0.929776485888251],\"type\":\"scatter\"}],\"name\":\"78\"},{\"data\":[{\"line\":{\"width\":3},\"mode\":\"lines\",\"x\":[0,-0.8763066800438635],\"y\":[0,-0.48175367410171555],\"type\":\"scatter\"},{\"line\":{\"width\":3},\"mode\":\"lines\",\"x\":[0,-0.8763066800438635],\"y\":[-0.48175367410171555,-0.48175367410171555],\"type\":\"scatter\"},{\"mode\":\"markers\",\"x\":[-0.8763066800438635],\"y\":[-0.48175367410171555],\"type\":\"scatter\"},{\"x\":[0,1],\"y\":[-0.8763066800438635,-0.8763066800438635],\"type\":\"scatter\"},{\"x\":[0,0],\"y\":[0,-0.8763066800438635],\"type\":\"scatter\"},{\"x\":[0],\"y\":[-0.8763066800438635],\"type\":\"scatter\"}],\"name\":\"79\"},{\"data\":[{\"line\":{\"width\":3},\"mode\":\"lines\",\"x\":[0,-0.8090169943749477],\"y\":[0,-0.5877852522924728],\"type\":\"scatter\"},{\"line\":{\"width\":3},\"mode\":\"lines\",\"x\":[0,-0.8090169943749477],\"y\":[-0.5877852522924728,-0.5877852522924728],\"type\":\"scatter\"},{\"mode\":\"markers\",\"x\":[-0.8090169943749477],\"y\":[-0.5877852522924728],\"type\":\"scatter\"},{\"x\":[0,1],\"y\":[-0.8090169943749477,-0.8090169943749477],\"type\":\"scatter\"},{\"x\":[0,0],\"y\":[0,-0.8090169943749477],\"type\":\"scatter\"},{\"x\":[0],\"y\":[-0.8090169943749477],\"type\":\"scatter\"}],\"name\":\"80\"},{\"data\":[{\"line\":{\"width\":3},\"mode\":\"lines\",\"x\":[0,-0.728968627421411],\"y\":[0,-0.6845471059286892],\"type\":\"scatter\"},{\"line\":{\"width\":3},\"mode\":\"lines\",\"x\":[0,-0.728968627421411],\"y\":[-0.6845471059286892,-0.6845471059286892],\"type\":\"scatter\"},{\"mode\":\"markers\",\"x\":[-0.728968627421411],\"y\":[-0.6845471059286892],\"type\":\"scatter\"},{\"x\":[0,1],\"y\":[-0.728968627421411,-0.728968627421411],\"type\":\"scatter\"},{\"x\":[0,0],\"y\":[0,-0.728968627421411],\"type\":\"scatter\"},{\"x\":[0],\"y\":[-0.728968627421411],\"type\":\"scatter\"}],\"name\":\"81\"},{\"data\":[{\"line\":{\"width\":3},\"mode\":\"lines\",\"x\":[0,-0.6374239897486897],\"y\":[0,-0.7705132427757891],\"type\":\"scatter\"},{\"line\":{\"width\":3},\"mode\":\"lines\",\"x\":[0,-0.6374239897486897],\"y\":[-0.7705132427757891,-0.7705132427757891],\"type\":\"scatter\"},{\"mode\":\"markers\",\"x\":[-0.6374239897486897],\"y\":[-0.7705132427757891],\"type\":\"scatter\"},{\"x\":[0,1],\"y\":[-0.6374239897486897,-0.6374239897486897],\"type\":\"scatter\"},{\"x\":[0,0],\"y\":[0,-0.6374239897486897],\"type\":\"scatter\"},{\"x\":[0],\"y\":[-0.6374239897486897],\"type\":\"scatter\"}],\"name\":\"82\"},{\"data\":[{\"line\":{\"width\":3},\"mode\":\"lines\",\"x\":[0,-0.5358267949789958],\"y\":[0,-0.8443279255020156],\"type\":\"scatter\"},{\"line\":{\"width\":3},\"mode\":\"lines\",\"x\":[0,-0.5358267949789958],\"y\":[-0.8443279255020156,-0.8443279255020156],\"type\":\"scatter\"},{\"mode\":\"markers\",\"x\":[-0.5358267949789958],\"y\":[-0.8443279255020156],\"type\":\"scatter\"},{\"x\":[0,1],\"y\":[-0.5358267949789958,-0.5358267949789958],\"type\":\"scatter\"},{\"x\":[0,0],\"y\":[0,-0.5358267949789958],\"type\":\"scatter\"},{\"x\":[0],\"y\":[-0.5358267949789958],\"type\":\"scatter\"}],\"name\":\"83\"},{\"data\":[{\"line\":{\"width\":3},\"mode\":\"lines\",\"x\":[0,-0.4257792915650724],\"y\":[0,-0.9048270524660197],\"type\":\"scatter\"},{\"line\":{\"width\":3},\"mode\":\"lines\",\"x\":[0,-0.4257792915650724],\"y\":[-0.9048270524660197,-0.9048270524660197],\"type\":\"scatter\"},{\"mode\":\"markers\",\"x\":[-0.4257792915650724],\"y\":[-0.9048270524660197],\"type\":\"scatter\"},{\"x\":[0,1],\"y\":[-0.4257792915650724,-0.4257792915650724],\"type\":\"scatter\"},{\"x\":[0,0],\"y\":[0,-0.4257792915650724],\"type\":\"scatter\"},{\"x\":[0],\"y\":[-0.4257792915650724],\"type\":\"scatter\"}],\"name\":\"84\"},{\"data\":[{\"line\":{\"width\":3},\"mode\":\"lines\",\"x\":[0,-0.3090169943749461],\"y\":[0,-0.951056516295154],\"type\":\"scatter\"},{\"line\":{\"width\":3},\"mode\":\"lines\",\"x\":[0,-0.3090169943749461],\"y\":[-0.951056516295154,-0.951056516295154],\"type\":\"scatter\"},{\"mode\":\"markers\",\"x\":[-0.3090169943749461],\"y\":[-0.951056516295154],\"type\":\"scatter\"},{\"x\":[0,1],\"y\":[-0.3090169943749461,-0.3090169943749461],\"type\":\"scatter\"},{\"x\":[0,0],\"y\":[0,-0.3090169943749461],\"type\":\"scatter\"},{\"x\":[0],\"y\":[-0.3090169943749461],\"type\":\"scatter\"}],\"name\":\"85\"},{\"data\":[{\"line\":{\"width\":3},\"mode\":\"lines\",\"x\":[0,-0.187381314585724],\"y\":[0,-0.9822872507286888],\"type\":\"scatter\"},{\"line\":{\"width\":3},\"mode\":\"lines\",\"x\":[0,-0.187381314585724],\"y\":[-0.9822872507286888,-0.9822872507286888],\"type\":\"scatter\"},{\"mode\":\"markers\",\"x\":[-0.187381314585724],\"y\":[-0.9822872507286888],\"type\":\"scatter\"},{\"x\":[0,1],\"y\":[-0.187381314585724,-0.187381314585724],\"type\":\"scatter\"},{\"x\":[0,0],\"y\":[0,-0.187381314585724],\"type\":\"scatter\"},{\"x\":[0],\"y\":[-0.187381314585724],\"type\":\"scatter\"}],\"name\":\"86\"},{\"data\":[{\"line\":{\"width\":3},\"mode\":\"lines\",\"x\":[0,-0.06279051952931344],\"y\":[0,-0.9980267284282716],\"type\":\"scatter\"},{\"line\":{\"width\":3},\"mode\":\"lines\",\"x\":[0,-0.06279051952931344],\"y\":[-0.9980267284282716,-0.9980267284282716],\"type\":\"scatter\"},{\"mode\":\"markers\",\"x\":[-0.06279051952931344],\"y\":[-0.9980267284282716],\"type\":\"scatter\"},{\"x\":[0,1],\"y\":[-0.06279051952931344,-0.06279051952931344],\"type\":\"scatter\"},{\"x\":[0,0],\"y\":[0,-0.06279051952931344],\"type\":\"scatter\"},{\"x\":[0],\"y\":[-0.06279051952931344],\"type\":\"scatter\"}],\"name\":\"87\"},{\"data\":[{\"line\":{\"width\":3},\"mode\":\"lines\",\"x\":[0,0.06279051952931436],\"y\":[0,-0.9980267284282714],\"type\":\"scatter\"},{\"line\":{\"width\":3},\"mode\":\"lines\",\"x\":[0,0.06279051952931436],\"y\":[-0.9980267284282714,-0.9980267284282714],\"type\":\"scatter\"},{\"mode\":\"markers\",\"x\":[0.06279051952931436],\"y\":[-0.9980267284282714],\"type\":\"scatter\"},{\"x\":[0,1],\"y\":[0.06279051952931436,0.06279051952931436],\"type\":\"scatter\"},{\"x\":[0,0],\"y\":[0,0.06279051952931436],\"type\":\"scatter\"},{\"x\":[0],\"y\":[0.06279051952931436],\"type\":\"scatter\"}],\"name\":\"88\"},{\"data\":[{\"line\":{\"width\":3},\"mode\":\"lines\",\"x\":[0,0.1873813145857249],\"y\":[0,-0.9822872507286886],\"type\":\"scatter\"},{\"line\":{\"width\":3},\"mode\":\"lines\",\"x\":[0,0.1873813145857249],\"y\":[-0.9822872507286886,-0.9822872507286886],\"type\":\"scatter\"},{\"mode\":\"markers\",\"x\":[0.1873813145857249],\"y\":[-0.9822872507286886],\"type\":\"scatter\"},{\"x\":[0,1],\"y\":[0.1873813145857249,0.1873813145857249],\"type\":\"scatter\"},{\"x\":[0,0],\"y\":[0,0.1873813145857249],\"type\":\"scatter\"},{\"x\":[0],\"y\":[0.1873813145857249],\"type\":\"scatter\"}],\"name\":\"89\"},{\"data\":[{\"line\":{\"width\":3},\"mode\":\"lines\",\"x\":[0,0.3090169943749487],\"y\":[0,-0.9510565162951532],\"type\":\"scatter\"},{\"line\":{\"width\":3},\"mode\":\"lines\",\"x\":[0,0.3090169943749487],\"y\":[-0.9510565162951532,-0.9510565162951532],\"type\":\"scatter\"},{\"mode\":\"markers\",\"x\":[0.3090169943749487],\"y\":[-0.9510565162951532],\"type\":\"scatter\"},{\"x\":[0,1],\"y\":[0.3090169943749487,0.3090169943749487],\"type\":\"scatter\"},{\"x\":[0,0],\"y\":[0,0.3090169943749487],\"type\":\"scatter\"},{\"x\":[0],\"y\":[0.3090169943749487],\"type\":\"scatter\"}],\"name\":\"90\"},{\"data\":[{\"line\":{\"width\":3},\"mode\":\"lines\",\"x\":[0,0.4257792915650732],\"y\":[0,-0.9048270524660192],\"type\":\"scatter\"},{\"line\":{\"width\":3},\"mode\":\"lines\",\"x\":[0,0.4257792915650732],\"y\":[-0.9048270524660192,-0.9048270524660192],\"type\":\"scatter\"},{\"mode\":\"markers\",\"x\":[0.4257792915650732],\"y\":[-0.9048270524660192],\"type\":\"scatter\"},{\"x\":[0,1],\"y\":[0.4257792915650732,0.4257792915650732],\"type\":\"scatter\"},{\"x\":[0,0],\"y\":[0,0.4257792915650732],\"type\":\"scatter\"},{\"x\":[0],\"y\":[0.4257792915650732],\"type\":\"scatter\"}],\"name\":\"91\"},{\"data\":[{\"line\":{\"width\":3},\"mode\":\"lines\",\"x\":[0,0.5358267949789965],\"y\":[0,-0.8443279255020152],\"type\":\"scatter\"},{\"line\":{\"width\":3},\"mode\":\"lines\",\"x\":[0,0.5358267949789965],\"y\":[-0.8443279255020152,-0.8443279255020152],\"type\":\"scatter\"},{\"mode\":\"markers\",\"x\":[0.5358267949789965],\"y\":[-0.8443279255020152],\"type\":\"scatter\"},{\"x\":[0,1],\"y\":[0.5358267949789965,0.5358267949789965],\"type\":\"scatter\"},{\"x\":[0,0],\"y\":[0,0.5358267949789965],\"type\":\"scatter\"},{\"x\":[0],\"y\":[0.5358267949789965],\"type\":\"scatter\"}],\"name\":\"92\"},{\"data\":[{\"line\":{\"width\":3},\"mode\":\"lines\",\"x\":[0,0.6374239897486904],\"y\":[0,-0.7705132427757886],\"type\":\"scatter\"},{\"line\":{\"width\":3},\"mode\":\"lines\",\"x\":[0,0.6374239897486904],\"y\":[-0.7705132427757886,-0.7705132427757886],\"type\":\"scatter\"},{\"mode\":\"markers\",\"x\":[0.6374239897486904],\"y\":[-0.7705132427757886],\"type\":\"scatter\"},{\"x\":[0,1],\"y\":[0.6374239897486904,0.6374239897486904],\"type\":\"scatter\"},{\"x\":[0,0],\"y\":[0,0.6374239897486904],\"type\":\"scatter\"},{\"x\":[0],\"y\":[0.6374239897486904],\"type\":\"scatter\"}],\"name\":\"93\"},{\"data\":[{\"line\":{\"width\":3},\"mode\":\"lines\",\"x\":[0,0.7289686274214117],\"y\":[0,-0.6845471059286885],\"type\":\"scatter\"},{\"line\":{\"width\":3},\"mode\":\"lines\",\"x\":[0,0.7289686274214117],\"y\":[-0.6845471059286885,-0.6845471059286885],\"type\":\"scatter\"},{\"mode\":\"markers\",\"x\":[0.7289686274214117],\"y\":[-0.6845471059286885],\"type\":\"scatter\"},{\"x\":[0,1],\"y\":[0.7289686274214117,0.7289686274214117],\"type\":\"scatter\"},{\"x\":[0,0],\"y\":[0,0.7289686274214117],\"type\":\"scatter\"},{\"x\":[0],\"y\":[0.7289686274214117],\"type\":\"scatter\"}],\"name\":\"94\"},{\"data\":[{\"line\":{\"width\":3},\"mode\":\"lines\",\"x\":[0,0.8090169943749482],\"y\":[0,-0.587785252292472],\"type\":\"scatter\"},{\"line\":{\"width\":3},\"mode\":\"lines\",\"x\":[0,0.8090169943749482],\"y\":[-0.587785252292472,-0.587785252292472],\"type\":\"scatter\"},{\"mode\":\"markers\",\"x\":[0.8090169943749482],\"y\":[-0.587785252292472],\"type\":\"scatter\"},{\"x\":[0,1],\"y\":[0.8090169943749482,0.8090169943749482],\"type\":\"scatter\"},{\"x\":[0,0],\"y\":[0,0.8090169943749482],\"type\":\"scatter\"},{\"x\":[0],\"y\":[0.8090169943749482],\"type\":\"scatter\"}],\"name\":\"95\"},{\"data\":[{\"line\":{\"width\":3},\"mode\":\"lines\",\"x\":[0,0.8763066800438639],\"y\":[0,-0.48175367410171477],\"type\":\"scatter\"},{\"line\":{\"width\":3},\"mode\":\"lines\",\"x\":[0,0.8763066800438639],\"y\":[-0.48175367410171477,-0.48175367410171477],\"type\":\"scatter\"},{\"mode\":\"markers\",\"x\":[0.8763066800438639],\"y\":[-0.48175367410171477],\"type\":\"scatter\"},{\"x\":[0,1],\"y\":[0.8763066800438639,0.8763066800438639],\"type\":\"scatter\"},{\"x\":[0,0],\"y\":[0,0.8763066800438639],\"type\":\"scatter\"},{\"x\":[0],\"y\":[0.8763066800438639],\"type\":\"scatter\"}],\"name\":\"96\"},{\"data\":[{\"line\":{\"width\":3},\"mode\":\"lines\",\"x\":[0,0.9297764858882513],\"y\":[0,-0.3681245526846781],\"type\":\"scatter\"},{\"line\":{\"width\":3},\"mode\":\"lines\",\"x\":[0,0.9297764858882513],\"y\":[-0.3681245526846781,-0.3681245526846781],\"type\":\"scatter\"},{\"mode\":\"markers\",\"x\":[0.9297764858882513],\"y\":[-0.3681245526846781],\"type\":\"scatter\"},{\"x\":[0,1],\"y\":[0.9297764858882513,0.9297764858882513],\"type\":\"scatter\"},{\"x\":[0,0],\"y\":[0,0.9297764858882513],\"type\":\"scatter\"},{\"x\":[0],\"y\":[0.9297764858882513],\"type\":\"scatter\"}],\"name\":\"97\"},{\"data\":[{\"line\":{\"width\":3},\"mode\":\"lines\",\"x\":[0,0.9685831611286314],\"y\":[0,-0.24868988716485388],\"type\":\"scatter\"},{\"line\":{\"width\":3},\"mode\":\"lines\",\"x\":[0,0.9685831611286314],\"y\":[-0.24868988716485388,-0.24868988716485388],\"type\":\"scatter\"},{\"mode\":\"markers\",\"x\":[0.9685831611286314],\"y\":[-0.24868988716485388],\"type\":\"scatter\"},{\"x\":[0,1],\"y\":[0.9685831611286314,0.9685831611286314],\"type\":\"scatter\"},{\"x\":[0,0],\"y\":[0,0.9685831611286314],\"type\":\"scatter\"},{\"x\":[0],\"y\":[0.9685831611286314],\"type\":\"scatter\"}],\"name\":\"98\"},{\"data\":[{\"line\":{\"width\":3},\"mode\":\"lines\",\"x\":[0,0.9921147013144779],\"y\":[0,-0.125333233564304],\"type\":\"scatter\"},{\"line\":{\"width\":3},\"mode\":\"lines\",\"x\":[0,0.9921147013144779],\"y\":[-0.125333233564304,-0.125333233564304],\"type\":\"scatter\"},{\"mode\":\"markers\",\"x\":[0.9921147013144779],\"y\":[-0.125333233564304],\"type\":\"scatter\"},{\"x\":[0,1],\"y\":[0.9921147013144779,0.9921147013144779],\"type\":\"scatter\"},{\"x\":[0,0],\"y\":[0,0.9921147013144779],\"type\":\"scatter\"},{\"x\":[0],\"y\":[0.9921147013144779],\"type\":\"scatter\"}],\"name\":\"99\"},{\"data\":[{\"line\":{\"width\":3},\"mode\":\"lines\",\"x\":[0,1.0],\"y\":[0,-4.898587196589413e-16],\"type\":\"scatter\"},{\"line\":{\"width\":3},\"mode\":\"lines\",\"x\":[0,1.0],\"y\":[-4.898587196589413e-16,-4.898587196589413e-16],\"type\":\"scatter\"},{\"mode\":\"markers\",\"x\":[1.0],\"y\":[-4.898587196589413e-16],\"type\":\"scatter\"},{\"x\":[0,1],\"y\":[1.0,1.0],\"type\":\"scatter\"},{\"x\":[0,0],\"y\":[0,1.0],\"type\":\"scatter\"},{\"x\":[0],\"y\":[1.0],\"type\":\"scatter\"}],\"name\":\"100\"}]);\n",
       "                        }).then(function(){\n",
       "                            \n",
       "var gd = document.getElementById('8134071e-22f1-42d5-b97b-e67cf63de2aa');\n",
       "var x = new MutationObserver(function (mutations, observer) {{\n",
       "        var display = window.getComputedStyle(gd).display;\n",
       "        if (!display || display === 'none') {{\n",
       "            console.log([gd, 'removed!']);\n",
       "            Plotly.purge(gd);\n",
       "            observer.disconnect();\n",
       "        }}\n",
       "}});\n",
       "\n",
       "// Listen for the removal of the full notebook cells\n",
       "var notebookContainer = gd.closest('#notebook-container');\n",
       "if (notebookContainer) {{\n",
       "    x.observe(notebookContainer, {childList: true});\n",
       "}}\n",
       "\n",
       "// Listen for the clearing of the current output cell\n",
       "var outputEl = gd.closest('.output');\n",
       "if (outputEl) {{\n",
       "    x.observe(outputEl, {childList: true});\n",
       "}}\n",
       "\n",
       "                        })                };            </script>        </div>"
      ]
     },
     "metadata": {},
     "output_type": "display_data"
    }
   ],
   "source": [
    "slider_steps = np.linspace(0, 4*np.pi, 101)\n",
    "\n",
    "fig = make_subplots(rows=1, cols=2,\n",
    "    subplot_titles=(\"Phasor Domain\", \"Spatial Domain\")\n",
    ")\n",
    "\n",
    "fig.add_trace(\n",
    "    go.Scatter(x=[0, np.cos(0)], y=[0, np.sin(0)],\n",
    "                line=dict(width=3), line_color=\"blue\", mode=\"lines\", name=\"vector\"),\n",
    "    row=1, col=1\n",
    ")\n",
    "fig.add_trace(\n",
    "    go.Scatter(x=[0, np.cos(0)], y=[np.sin(0), np.sin(0)],\n",
    "            line=dict(width=3), line_color=\"red\", mode=\"lines\", name=\"real\"),\n",
    "    row=1, col=1\n",
    ")\n",
    "fig.add_trace(\n",
    "    go.Scatter(x=[np.cos(0)], y=[np.sin(0)], mode=\"markers\",\n",
    "            marker_color=\"black\", name=\"point\"),\n",
    "    row=1, col=1\n",
    ")\n",
    "\n",
    "fig.add_trace(\n",
    "    go.Scatter(x=[0, 1], y=[np.cos(0), np.cos(0)],\n",
    "                line=dict(width=3), line_color=\"blue\", mode=\"lines\", name=\"signal\"),\n",
    "    row=1, col=2\n",
    ")\n",
    "fig.add_trace(\n",
    "    go.Scatter(x=[0, 0], y=[0, np.cos(0)],\n",
    "                line=dict(width=3), line_color=\"red\", mode=\"lines\", name=\"real\"),\n",
    "    row=1, col=2\n",
    ")\n",
    "fig.add_trace(\n",
    "    go.Scatter(x=[0], y=[np.cos(0)],\n",
    "            marker_color=\"black\", mode=\"markers\", name=\"point\"),\n",
    "    row=1, col=2\n",
    ")\n",
    "\n",
    "fig.update_xaxes(title_text=\"Real Part\", row=1, col=1)\n",
    "fig.update_yaxes(title_text=\"Imag Part\", row=1, col=1)\n",
    "fig.update_xaxes(title_text=\"Space [m]\", row=1, col=2, range=[-0.1, 1.1])\n",
    "fig.update_yaxes(title_text=\"Value\", row=1, col=2, range=[-2, 2])\n",
    "\n",
    "fig.update_layout(\n",
    "    xaxis=dict(range=[-2, 2], scaleanchor=\"y\", constrain=\"domain\"),\n",
    "    yaxis=dict(range=[-2, 2]),\n",
    "    sliders=[dict(\n",
    "        steps=[\n",
    "            dict(method=\"animate\",\n",
    "                    args=[[f\"{i}\"],\n",
    "                        {\"mode\": \"immediate\", \"frame\": {\"duration\": 0, \"redraw\": True}, \"transition\": {\"duration\": 0}}],\n",
    "                    label=rf\"Time: {np.round(angle, 2)}\")\n",
    "            for i, angle in enumerate(slider_steps)\n",
    "        ],\n",
    "        active=0,\n",
    "        pad={\"t\": 50}\n",
    "    )]\n",
    ")\n",
    "\n",
    "fig.frames = [\n",
    "    go.Frame(\n",
    "        data=[go.Scatter(x=[0, np.cos(angle)], y=[0, np.sin(angle)],\n",
    "                            mode=\"lines\",\n",
    "                            line=dict(width=3)),\n",
    "                go.Scatter(x=[0, np.cos(angle)], y=[np.sin(angle), np.sin(angle)],\n",
    "                            mode=\"lines\",\n",
    "                            line=dict(width=3)),\n",
    "                go.Scatter(x=[np.cos(angle)], y=[np.sin(angle)], mode=\"markers\"),\n",
    "                go.Scatter(x=[0, 1], y=[np.cos(angle), np.cos(angle)]),\n",
    "                go.Scatter(x=[0, 0], y=[0, np.cos(angle)]),\n",
    "                go.Scatter(x=[0], y=[np.cos(angle)])\n",
    "                ],\n",
    "        name=f\"{i}\"\n",
    "    )\n",
    "    for i, angle in enumerate(slider_steps)\n",
    "]\n",
    "\n",
    "fig.show()"
   ]
  },
  {
   "cell_type": "code",
   "execution_count": 3,
   "id": "c15a99f9",
   "metadata": {},
   "outputs": [],
   "source": [
    "# # Parameters\n",
    "# theta = np.pi / 3  # 60 degrees\n",
    "# arc_radius = 0.5\n",
    "# arc_resolution = 100  # number of points on the arc\n",
    "\n",
    "# # Compute arc points\n",
    "# arc_angles = np.linspace(0, theta, arc_resolution)\n",
    "# arc_x = arc_radius * np.cos(arc_angles)\n",
    "# arc_y = arc_radius * np.sin(arc_angles)\n",
    "\n",
    "# # Main vector (phasor)\n",
    "# vector_x = np.cos(theta)\n",
    "# vector_y = np.sin(theta)\n",
    "\n",
    "# fig = go.Figure()\n",
    "\n",
    "# # Draw the main vector\n",
    "# fig.add_trace(go.Scatter(\n",
    "#     x=[0, vector_x],\n",
    "#     y=[0, vector_y],\n",
    "#     mode='lines+markers',\n",
    "#     line=dict(color='blue', width=3),\n",
    "#     name='Vector'\n",
    "# ))\n",
    "\n",
    "# # Draw the arc\n",
    "# fig.add_trace(go.Scatter(\n",
    "#     x=arc_x,\n",
    "#     y=arc_y,\n",
    "#     mode='lines',\n",
    "#     line=dict(color='red', dash='dot'),\n",
    "#     name='Angle Arc'\n",
    "# ))\n",
    "\n",
    "# # Optional: Add annotation for angle label\n",
    "# fig.add_annotation(\n",
    "#     x=arc_radius * np.cos(theta / 2),\n",
    "#     y=arc_radius * np.sin(theta / 2),\n",
    "#     text=r'$\\theta$',\n",
    "#     showarrow=False,\n",
    "#     font=dict(size=16)\n",
    "# )\n",
    "\n",
    "# # Aspect ratio and limits\n",
    "# fig.update_layout(\n",
    "#     xaxis=dict(scaleanchor='y', range=[-1.2, 1.2]),\n",
    "#     yaxis=dict(range=[-1.2, 1.2]),\n",
    "#     width=500,\n",
    "#     height=500,\n",
    "#     showlegend=False\n",
    "# )\n",
    "# fig.show()"
   ]
  },
  {
   "cell_type": "raw",
   "id": "dcb66c4e",
   "metadata": {
    "vscode": {
     "languageId": "raw"
    }
   },
   "source": [
    "<!-- REFERENCES -->\n",
    "::: {#refs}\n",
    "## References\n",
    ":::\n",
    "---\n",
    "\n",
    "<!-- EDIT HISTORY -->\n",
    "::: {.callout-note}\n",
    "## Edit History\n",
    "\n",
    "- **20YY-MM-DD**: EDIT NOTE\n",
    ":::\n",
    "\n",
    "---\n",
    "\n",
    "<!-- COMMENTS/REACTIONS -->\n",
    "<script src=\"https://giscus.app/client.js\"\n",
    "        data-repo=\"aechoi/blog\"\n",
    "        data-repo-id=\"R_kgDOPWDacg\"\n",
    "        data-category=\"Announcements\"\n",
    "        data-category-id=\"DIC_kwDOPWDacs4CtpTY\"\n",
    "        data-mapping=\"pathname\"\n",
    "        data-strict=\"0\"\n",
    "        data-reactions-enabled=\"1\"\n",
    "        data-emit-metadata=\"0\"\n",
    "        data-input-position=\"top\"\n",
    "        data-theme=\"light\"\n",
    "        data-lang=\"en\"\n",
    "        data-loading=\"lazy\"\n",
    "        crossorigin=\"anonymous\"\n",
    "        async>\n",
    "</script>"
   ]
  }
 ],
 "metadata": {
  "kernelspec": {
   "display_name": "venvWin (3.12.3)",
   "language": "python",
   "name": "python3"
  },
  "language_info": {
   "codemirror_mode": {
    "name": "ipython",
    "version": 3
   },
   "file_extension": ".py",
   "mimetype": "text/x-python",
   "name": "python",
   "nbconvert_exporter": "python",
   "pygments_lexer": "ipython3",
   "version": "3.12.3"
  }
 },
 "nbformat": 4,
 "nbformat_minor": 5
}
