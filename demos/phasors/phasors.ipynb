{
 "cells": [
  {
   "cell_type": "raw",
   "id": "81125258",
   "metadata": {
    "vscode": {
     "languageId": "raw"
    }
   },
   "source": [
    "---\n",
    "title: Phasors\n",
    "date: today\n",
    "# date-modified: last-modified\n",
    "draft: true\n",
    "bibliography: ref.bibtex\n",
    "categories: \n",
    "- electrodynamics\n",
    "---"
   ]
  },
  {
   "cell_type": "code",
   "execution_count": 1,
   "id": "08af5d23",
   "metadata": {},
   "outputs": [],
   "source": [
    "import numpy as np\n",
    "import plotly.graph_objects as go\n",
    "import plotly.io as pio\n",
    "from plotly.subplots import make_subplots\n",
    "\n",
    "pio.renderers.default = \"plotly_mimetype+notebook_connected\""
   ]
  },
  {
   "cell_type": "markdown",
   "id": "c9dc60ba",
   "metadata": {},
   "source": [
    "## Introduction\n",
    "\n",
    "Phasors can feel a bit mystical. Many students may simply memorize the rules associated with them and run calculations without developing a more fundamental understanding. It's not uncommon for this to be the case at both the undergraduate and graduate level. \n",
    "\n",
    "The goal of this document is to motivate the use of phasors from the ground up, as well as to provide visual representations of complex numbers that make them intuitive to understand. Hopefully by the end, they seem like an obviously good choice for modeling sinusoidal signals. "
   ]
  },
  {
   "cell_type": "markdown",
   "id": "981fdce5",
   "metadata": {},
   "source": [
    "## Preliminaries: Complex Numbers and Euler's Equation\n",
    "\n",
    "Before talking about sinusoids or time domain signals, let's start by coming to grips with Euler's equation. Let's start by asking the question, what does it mean to raise a number to an imaginary power?\n",
    "\n",
    "$$ e^i = ?$$\n",
    "\n",
    "Exponential notation, $e^a$, naivly seems to imply $a$ repeated multiplications of $e$. However, recall that exponents have been extended from natural numbers to whole numbers ($e^0 = 1$), integers ($e^{-a} = 1/e^a$), rational numbers ($e^{1/2} = \\sqrt{e}$), and real numbers ([$e^\\pi - \\pi = 20$](https://xkcd.com/217/)). None of these hold on to the concept of repeated multiplication. Instead, they use a different property of exponentiation to derive these relationships (namely, $e^ae^b=e^{a+b} \\implies \\exp(a)\\exp(b) = \\exp(a+b)$).\n",
    "\n",
    "The properties of exponentials can be generalized further to accept complex inputs. Just like how exponentiation can be generalized from repeated multiplication to a function that relates the product of outputs to the sum of inputs, it can be generalized again such that it is a function that is its own derivative.\n",
    "\n",
    "$$\n",
    "e^x = \\frac{\\text{d}e^x}{\\text{d}x}\n",
    "$$\n",
    "\n",
    "We will first derive Euler's Equation, then examine some of its properties.\n",
    "\n",
    "### Deriving Euler's Equation from Picard Iterates\n",
    "\n",
    "Say we want to define a function, $f(x)$, that is equal to its own derivative.\n",
    "$$f(x) = f'(x)$$\n",
    "\n",
    "You may already know what the answer is, but let's try to rederive it. We'll start by making a guess.\n",
    "$$f_0(x) = 1$$\n",
    "\n",
    "This is a pretty bad guess. We know that $f_0'(x) = 0$, but we need $f_0'(x) = f_0(x) = 1$. \n",
    "\n",
    "Watch how we'll improve this iteratively (for a truly rigorous treatment, see [Picard Iterates](https://en.wikipedia.org/wiki/Picard–Lindelöf_theorem)). \n",
    "\n",
    "\\begin{align}\n",
    "f_0(x) &= 1 \\\\\n",
    "f'_0(x) &= 0\\\\\n",
    "\\\\\n",
    "f_1(x) &= 1+x \\\\\n",
    "f_1'(x) &= 1\\\\\n",
    "\\\\\n",
    "f_2(x) &= 1 + x + \\frac{1}{2}x^2 \\\\\n",
    "f'_2(x) &= 1 + x\\\\\n",
    "\n",
    "&\\vdots \\\\\n",
    "\n",
    "f(x) &= 1 + x + \\frac{x^2}{2!} + \\frac{x^3}{3!} + \\dots = \\sum_{k=0}^\\infty \\frac{x^k}{k!}\\\\\n",
    "f'(x) &= 1 + x + \\frac{x^2}{2!} + \\frac{x^3}{3!} + \\dots = \\sum_{k=0}^\\infty \\frac{x^k}{k!}\n",
    "\\end{align}\n",
    "\n",
    "We end up with a familiar equation for the Taylor expansion of $e^x$. Notationally, we can keep the form of $e^x$, but semantically we should refer to this infinite sum. \n",
    "\n",
    "::: {.callout-note}\n",
    "## Exercise\n",
    "\n",
    "Verify that this does in fact satisfy the product rule for exponentials ($e^ae^b = e^{a+b}$). Convince yourself that every other property of exponentials will hold.\n",
    "\n",
    ":::\n",
    "\n",
    "With this form, we can simply plug in $i$ as an argument to see what the result is. In other words: \n",
    "$$e^i = 1 +i +\\frac{-1}{2} + i\\frac{-1}{3!} +\\dots$$\n",
    "\n",
    "The above is just some complex number. It doesn't really simplify well, but we can try extracting some structure by evaluating $e^{i\\theta}$ where $\\theta \\in \\mathbb R$.\n",
    "\n",
    "$$e^{i\\theta} = 1 + i\\theta + \\frac{-\\theta^2}{2} + i\\frac{-\\theta^3}{3!} + \\dots \\\\\n",
    "= \\left(1 - \\frac{\\theta^2}{2} + \\dots \\right) + i\\left(\\theta - \\frac{\\theta^3}{3!} + \\dots \\right)$$\n",
    "\n",
    "If you recall your Taylor Series, you may recognize the right hand side as the series for $\\cos{\\theta}$ and $\\sin{\\theta}$. Resulting in\n",
    "\n",
    "$$e^{i\\theta} = \\cos{\\theta} + i\\sin{\\theta}$$\n",
    "\n",
    "Thus, we rederive Euler's Equation.\n",
    "\n",
    "::: {.callout-info}\n",
    "\n",
    "The complex exponential of every other base can be obtained by recalling the property that $a^{i\\theta} = (e^{\\ln a})^{i\\theta} = e^{i\\theta\\ln a}$\n",
    "\n",
    ":::\n",
    "\n",
    "### Properties of Euler's Equation\n",
    "Euler's equation evaluates to some complex number whose real part is $\\cos{\\theta}$ and whose imaginary part is $\\sin{\\theta}$. On the complex plane, this can represent any point on the unit circle. Scaling the entire expression by a constant magnitude $M$ results in scaling that radius by $M$. Adding a phase shift $\\phi$ results in a rotation around the origin by $\\phi$ radians.\n",
    "\n",
    "$$Me^{i(\\theta + \\phi)} = M\\cos{(\\theta + \\phi)} + iM\\sin{(\\theta+ \\phi)}$$"
   ]
  },
  {
   "cell_type": "raw",
   "id": "b2576bf0",
   "metadata": {
    "vscode": {
     "languageId": "raw"
    }
   },
   "source": [
    "```{ojs}\n",
    "import {slider} from \"@jashkenas/inputs\"\n",
    "viewof angle = slider(\n",
    "  {\n",
    "    min: -2*Math.PI, \n",
    "    max: 2*Math.PI,\n",
    "    step: .01,\n",
    "    value: 0,\n",
    "    label: \"angle\",\n",
    "    format: v => \"θ [radians]: \" + v.toFixed(2)\n",
    "  },\n",
    ")\n",
    "viewof phase_shift = slider(\n",
    "  {\n",
    "    min: -Math.PI,\n",
    "    max: Math.PI,\n",
    "    step: .01,\n",
    "    value: 0,\n",
    "    label: \"phase shift\",\n",
    "    format: v => \"φ [radians]: \" + v.toFixed(2)\n",
    "  },\n",
    ")\n",
    "viewof magnitude = slider(\n",
    "  {\n",
    "    min: 0,\n",
    "    max: 2,\n",
    "    step: .01,\n",
    "    value: 1,\n",
    "    label: \"magnitude\",\n",
    "    format: v => \"M [magnitude]: \" + v.toFixed(2)\n",
    "  },\n",
    ")\n",
    "\n",
    "point = [\n",
    "  {real: 0, imaginary: 0},\n",
    "  {real: magnitude*Math.cos(angle + phase_shift), imaginary: magnitude*Math.sin(angle + phase_shift)},\n",
    "]\n",
    "\n",
    "angle_mark_func = angle => 0.5 + angle / (2*Math.PI * 10)\n",
    "angle_points = Array.from(\n",
    "  {length: 50}, (_, i) => {\n",
    "    const t = angle * i / 49\n",
    "    return {real: magnitude * angle_mark_func(t) * Math.cos(t), imaginary: magnitude * angle_mark_func(t) * Math.sin(t)}\n",
    "  }\n",
    ")\n",
    "\n",
    "phase_mark_func = phase_shift => angle_mark_func(angle) + phase_shift / (2*Math.PI * 10)\n",
    "phase_shift_points = Array.from(\n",
    "  {length: 50}, (_, i) => {\n",
    "    const t = phase_shift * i / 49\n",
    "    return {real: magnitude * phase_mark_func(t) * Math.cos(t + angle), imaginary: magnitude * phase_mark_func(t) * Math.sin(t + angle)}\n",
    "  }\n",
    ")\n",
    "\n",
    "Plot.plot({\n",
    "  x: {\n",
    "    label: \"Real\",\n",
    "    domain: [-2, 2],\n",
    "  },\n",
    "  y: {\n",
    "    label: \"Imaginary\",\n",
    "    domain: [-2, 2],\n",
    "  },\n",
    "  ratio: 1,\n",
    "  width: 400,\n",
    "  height: 400,\n",
    "  marks: [\n",
    "    Plot.dot(point, {x: \"real\", y: \"imaginary\"}),\n",
    "    Plot.line(point, {x: \"real\", y: \"imaginary\"}),\n",
    "    Plot.ruleY([0], {stroke: \"black\", strokeWidth: 1}),\n",
    "    Plot.ruleX([0], {stroke: \"black\", strokeWidth: 1}),\n",
    "    Plot.line(angle_points, {x: \"real\", y: \"imaginary\", stroke: \"blue\", strokeWidth: 4}),\n",
    "    Plot.line(phase_shift_points, {x: \"real\", y: \"imaginary\", stroke: \"red\", strokeWidth: 2}),\n",
    "  ],\n",
    "})\n",
    "```"
   ]
  },
  {
   "cell_type": "code",
   "execution_count": null,
   "id": "03977f80",
   "metadata": {},
   "outputs": [
    {
     "data": {
      "text/html": [
       "        <script type=\"text/javascript\">\n",
       "        window.PlotlyConfig = {MathJaxConfig: 'local'};\n",
       "        if (window.MathJax && window.MathJax.Hub && window.MathJax.Hub.Config) {window.MathJax.Hub.Config({SVG: {font: \"STIX-Web\"}});}\n",
       "        </script>\n",
       "        <script type=\"module\">import \"https://cdn.plot.ly/plotly-3.0.1.min\"</script>\n",
       "        "
      ]
     },
     "metadata": {},
     "output_type": "display_data"
    },
    {
     "data": {
      "application/vnd.plotly.v1+json": {
       "config": {
        "plotlyServerURL": "https://plot.ly"
       },
       "data": [
        {
         "line": {
          "color": "blue",
          "width": 3
         },
         "mode": "lines",
         "name": "vector",
         "type": "scatter",
         "x": [
          0,
          1
         ],
         "xaxis": "x",
         "y": [
          0,
          0
         ],
         "yaxis": "y"
        },
        {
         "line": {
          "color": "red",
          "width": 3
         },
         "mode": "lines",
         "name": "real",
         "type": "scatter",
         "x": [
          0,
          1
         ],
         "xaxis": "x",
         "y": [
          0,
          0
         ],
         "yaxis": "y"
        },
        {
         "marker": {
          "color": "black"
         },
         "mode": "markers",
         "name": "point",
         "type": "scatter",
         "x": [
          1
         ],
         "xaxis": "x",
         "y": [
          0
         ],
         "yaxis": "y"
        },
        {
         "line": {
          "color": "blue",
          "width": 3
         },
         "mode": "lines",
         "name": "signal",
         "type": "scatter",
         "x": [
          0,
          1
         ],
         "xaxis": "x2",
         "y": [
          1,
          1
         ],
         "yaxis": "y2"
        },
        {
         "line": {
          "color": "red",
          "width": 3
         },
         "mode": "lines",
         "name": "real",
         "type": "scatter",
         "x": [
          0,
          0
         ],
         "xaxis": "x2",
         "y": [
          0,
          1
         ],
         "yaxis": "y2"
        },
        {
         "marker": {
          "color": "black"
         },
         "mode": "markers",
         "name": "point",
         "type": "scatter",
         "x": [
          0
         ],
         "xaxis": "x2",
         "y": [
          1
         ],
         "yaxis": "y2"
        }
       ],
       "frames": [
        {
         "data": [
          {
           "line": {
            "width": 3
           },
           "mode": "lines",
           "type": "scatter",
           "x": [
            0,
            1
           ],
           "y": [
            0,
            0
           ]
          },
          {
           "line": {
            "width": 3
           },
           "mode": "lines",
           "type": "scatter",
           "x": [
            0,
            1
           ],
           "y": [
            0,
            0
           ]
          },
          {
           "mode": "markers",
           "type": "scatter",
           "x": [
            1
           ],
           "y": [
            0
           ]
          },
          {
           "type": "scatter",
           "x": [
            0,
            1
           ],
           "y": [
            1,
            1
           ]
          },
          {
           "type": "scatter",
           "x": [
            0,
            0
           ],
           "y": [
            0,
            1
           ]
          },
          {
           "type": "scatter",
           "x": [
            0
           ],
           "y": [
            1
           ]
          }
         ],
         "name": "0"
        },
        {
         "data": [
          {
           "line": {
            "width": 3
           },
           "mode": "lines",
           "type": "scatter",
           "x": [
            0,
            0.9980267284282716
           ],
           "y": [
            0,
            0.06279051952931337
           ]
          },
          {
           "line": {
            "width": 3
           },
           "mode": "lines",
           "type": "scatter",
           "x": [
            0,
            0.9980267284282716
           ],
           "y": [
            0.06279051952931337,
            0.06279051952931337
           ]
          },
          {
           "mode": "markers",
           "type": "scatter",
           "x": [
            0.9980267284282716
           ],
           "y": [
            0.06279051952931337
           ]
          },
          {
           "type": "scatter",
           "x": [
            0,
            1
           ],
           "y": [
            0.9980267284282716,
            0.9980267284282716
           ]
          },
          {
           "type": "scatter",
           "x": [
            0,
            0
           ],
           "y": [
            0,
            0.9980267284282716
           ]
          },
          {
           "type": "scatter",
           "x": [
            0
           ],
           "y": [
            0.9980267284282716
           ]
          }
         ],
         "name": "1"
        },
        {
         "data": [
          {
           "line": {
            "width": 3
           },
           "mode": "lines",
           "type": "scatter",
           "x": [
            0,
            0.9921147013144779
           ],
           "y": [
            0,
            0.12533323356430426
           ]
          },
          {
           "line": {
            "width": 3
           },
           "mode": "lines",
           "type": "scatter",
           "x": [
            0,
            0.9921147013144779
           ],
           "y": [
            0.12533323356430426,
            0.12533323356430426
           ]
          },
          {
           "mode": "markers",
           "type": "scatter",
           "x": [
            0.9921147013144779
           ],
           "y": [
            0.12533323356430426
           ]
          },
          {
           "type": "scatter",
           "x": [
            0,
            1
           ],
           "y": [
            0.9921147013144779,
            0.9921147013144779
           ]
          },
          {
           "type": "scatter",
           "x": [
            0,
            0
           ],
           "y": [
            0,
            0.9921147013144779
           ]
          },
          {
           "type": "scatter",
           "x": [
            0
           ],
           "y": [
            0.9921147013144779
           ]
          }
         ],
         "name": "2"
        },
        {
         "data": [
          {
           "line": {
            "width": 3
           },
           "mode": "lines",
           "type": "scatter",
           "x": [
            0,
            0.9822872507286887
           ],
           "y": [
            0,
            0.18738131458572463
           ]
          },
          {
           "line": {
            "width": 3
           },
           "mode": "lines",
           "type": "scatter",
           "x": [
            0,
            0.9822872507286887
           ],
           "y": [
            0.18738131458572463,
            0.18738131458572463
           ]
          },
          {
           "mode": "markers",
           "type": "scatter",
           "x": [
            0.9822872507286887
           ],
           "y": [
            0.18738131458572463
           ]
          },
          {
           "type": "scatter",
           "x": [
            0,
            1
           ],
           "y": [
            0.9822872507286887,
            0.9822872507286887
           ]
          },
          {
           "type": "scatter",
           "x": [
            0,
            0
           ],
           "y": [
            0,
            0.9822872507286887
           ]
          },
          {
           "type": "scatter",
           "x": [
            0
           ],
           "y": [
            0.9822872507286887
           ]
          }
         ],
         "name": "3"
        },
        {
         "data": [
          {
           "line": {
            "width": 3
           },
           "mode": "lines",
           "type": "scatter",
           "x": [
            0,
            0.9685831611286311
           ],
           "y": [
            0,
            0.2486898871648548
           ]
          },
          {
           "line": {
            "width": 3
           },
           "mode": "lines",
           "type": "scatter",
           "x": [
            0,
            0.9685831611286311
           ],
           "y": [
            0.2486898871648548,
            0.2486898871648548
           ]
          },
          {
           "mode": "markers",
           "type": "scatter",
           "x": [
            0.9685831611286311
           ],
           "y": [
            0.2486898871648548
           ]
          },
          {
           "type": "scatter",
           "x": [
            0,
            1
           ],
           "y": [
            0.9685831611286311,
            0.9685831611286311
           ]
          },
          {
           "type": "scatter",
           "x": [
            0,
            0
           ],
           "y": [
            0,
            0.9685831611286311
           ]
          },
          {
           "type": "scatter",
           "x": [
            0
           ],
           "y": [
            0.9685831611286311
           ]
          }
         ],
         "name": "4"
        },
        {
         "data": [
          {
           "line": {
            "width": 3
           },
           "mode": "lines",
           "type": "scatter",
           "x": [
            0,
            0.9510565162951535
           ],
           "y": [
            0,
            0.3090169943749474
           ]
          },
          {
           "line": {
            "width": 3
           },
           "mode": "lines",
           "type": "scatter",
           "x": [
            0,
            0.9510565162951535
           ],
           "y": [
            0.3090169943749474,
            0.3090169943749474
           ]
          },
          {
           "mode": "markers",
           "type": "scatter",
           "x": [
            0.9510565162951535
           ],
           "y": [
            0.3090169943749474
           ]
          },
          {
           "type": "scatter",
           "x": [
            0,
            1
           ],
           "y": [
            0.9510565162951535,
            0.9510565162951535
           ]
          },
          {
           "type": "scatter",
           "x": [
            0,
            0
           ],
           "y": [
            0,
            0.9510565162951535
           ]
          },
          {
           "type": "scatter",
           "x": [
            0
           ],
           "y": [
            0.9510565162951535
           ]
          }
         ],
         "name": "5"
        },
        {
         "data": [
          {
           "line": {
            "width": 3
           },
           "mode": "lines",
           "type": "scatter",
           "x": [
            0,
            0.9297764858882513
           ],
           "y": [
            0,
            0.368124552684678
           ]
          },
          {
           "line": {
            "width": 3
           },
           "mode": "lines",
           "type": "scatter",
           "x": [
            0,
            0.9297764858882513
           ],
           "y": [
            0.368124552684678,
            0.368124552684678
           ]
          },
          {
           "mode": "markers",
           "type": "scatter",
           "x": [
            0.9297764858882513
           ],
           "y": [
            0.368124552684678
           ]
          },
          {
           "type": "scatter",
           "x": [
            0,
            1
           ],
           "y": [
            0.9297764858882513,
            0.9297764858882513
           ]
          },
          {
           "type": "scatter",
           "x": [
            0,
            0
           ],
           "y": [
            0,
            0.9297764858882513
           ]
          },
          {
           "type": "scatter",
           "x": [
            0
           ],
           "y": [
            0.9297764858882513
           ]
          }
         ],
         "name": "6"
        },
        {
         "data": [
          {
           "line": {
            "width": 3
           },
           "mode": "lines",
           "type": "scatter",
           "x": [
            0,
            0.9048270524660195
           ],
           "y": [
            0,
            0.4257792915650727
           ]
          },
          {
           "line": {
            "width": 3
           },
           "mode": "lines",
           "type": "scatter",
           "x": [
            0,
            0.9048270524660195
           ],
           "y": [
            0.4257792915650727,
            0.4257792915650727
           ]
          },
          {
           "mode": "markers",
           "type": "scatter",
           "x": [
            0.9048270524660195
           ],
           "y": [
            0.4257792915650727
           ]
          },
          {
           "type": "scatter",
           "x": [
            0,
            1
           ],
           "y": [
            0.9048270524660195,
            0.9048270524660195
           ]
          },
          {
           "type": "scatter",
           "x": [
            0,
            0
           ],
           "y": [
            0,
            0.9048270524660195
           ]
          },
          {
           "type": "scatter",
           "x": [
            0
           ],
           "y": [
            0.9048270524660195
           ]
          }
         ],
         "name": "7"
        },
        {
         "data": [
          {
           "line": {
            "width": 3
           },
           "mode": "lines",
           "type": "scatter",
           "x": [
            0,
            0.8763066800438636
           ],
           "y": [
            0,
            0.4817536741017153
           ]
          },
          {
           "line": {
            "width": 3
           },
           "mode": "lines",
           "type": "scatter",
           "x": [
            0,
            0.8763066800438636
           ],
           "y": [
            0.4817536741017153,
            0.4817536741017153
           ]
          },
          {
           "mode": "markers",
           "type": "scatter",
           "x": [
            0.8763066800438636
           ],
           "y": [
            0.4817536741017153
           ]
          },
          {
           "type": "scatter",
           "x": [
            0,
            1
           ],
           "y": [
            0.8763066800438636,
            0.8763066800438636
           ]
          },
          {
           "type": "scatter",
           "x": [
            0,
            0
           ],
           "y": [
            0,
            0.8763066800438636
           ]
          },
          {
           "type": "scatter",
           "x": [
            0
           ],
           "y": [
            0.8763066800438636
           ]
          }
         ],
         "name": "8"
        },
        {
         "data": [
          {
           "line": {
            "width": 3
           },
           "mode": "lines",
           "type": "scatter",
           "x": [
            0,
            0.8443279255020151
           ],
           "y": [
            0,
            0.5358267949789967
           ]
          },
          {
           "line": {
            "width": 3
           },
           "mode": "lines",
           "type": "scatter",
           "x": [
            0,
            0.8443279255020151
           ],
           "y": [
            0.5358267949789967,
            0.5358267949789967
           ]
          },
          {
           "mode": "markers",
           "type": "scatter",
           "x": [
            0.8443279255020151
           ],
           "y": [
            0.5358267949789967
           ]
          },
          {
           "type": "scatter",
           "x": [
            0,
            1
           ],
           "y": [
            0.8443279255020151,
            0.8443279255020151
           ]
          },
          {
           "type": "scatter",
           "x": [
            0,
            0
           ],
           "y": [
            0,
            0.8443279255020151
           ]
          },
          {
           "type": "scatter",
           "x": [
            0
           ],
           "y": [
            0.8443279255020151
           ]
          }
         ],
         "name": "9"
        },
        {
         "data": [
          {
           "line": {
            "width": 3
           },
           "mode": "lines",
           "type": "scatter",
           "x": [
            0,
            0.8090169943749475
           ],
           "y": [
            0,
            0.5877852522924731
           ]
          },
          {
           "line": {
            "width": 3
           },
           "mode": "lines",
           "type": "scatter",
           "x": [
            0,
            0.8090169943749475
           ],
           "y": [
            0.5877852522924731,
            0.5877852522924731
           ]
          },
          {
           "mode": "markers",
           "type": "scatter",
           "x": [
            0.8090169943749475
           ],
           "y": [
            0.5877852522924731
           ]
          },
          {
           "type": "scatter",
           "x": [
            0,
            1
           ],
           "y": [
            0.8090169943749475,
            0.8090169943749475
           ]
          },
          {
           "type": "scatter",
           "x": [
            0,
            0
           ],
           "y": [
            0,
            0.8090169943749475
           ]
          },
          {
           "type": "scatter",
           "x": [
            0
           ],
           "y": [
            0.8090169943749475
           ]
          }
         ],
         "name": "10"
        },
        {
         "data": [
          {
           "line": {
            "width": 3
           },
           "mode": "lines",
           "type": "scatter",
           "x": [
            0,
            0.7705132427757891
           ],
           "y": [
            0,
            0.6374239897486897
           ]
          },
          {
           "line": {
            "width": 3
           },
           "mode": "lines",
           "type": "scatter",
           "x": [
            0,
            0.7705132427757891
           ],
           "y": [
            0.6374239897486897,
            0.6374239897486897
           ]
          },
          {
           "mode": "markers",
           "type": "scatter",
           "x": [
            0.7705132427757891
           ],
           "y": [
            0.6374239897486897
           ]
          },
          {
           "type": "scatter",
           "x": [
            0,
            1
           ],
           "y": [
            0.7705132427757891,
            0.7705132427757891
           ]
          },
          {
           "type": "scatter",
           "x": [
            0,
            0
           ],
           "y": [
            0,
            0.7705132427757891
           ]
          },
          {
           "type": "scatter",
           "x": [
            0
           ],
           "y": [
            0.7705132427757891
           ]
          }
         ],
         "name": "11"
        },
        {
         "data": [
          {
           "line": {
            "width": 3
           },
           "mode": "lines",
           "type": "scatter",
           "x": [
            0,
            0.7289686274214116
           ],
           "y": [
            0,
            0.6845471059286887
           ]
          },
          {
           "line": {
            "width": 3
           },
           "mode": "lines",
           "type": "scatter",
           "x": [
            0,
            0.7289686274214116
           ],
           "y": [
            0.6845471059286887,
            0.6845471059286887
           ]
          },
          {
           "mode": "markers",
           "type": "scatter",
           "x": [
            0.7289686274214116
           ],
           "y": [
            0.6845471059286887
           ]
          },
          {
           "type": "scatter",
           "x": [
            0,
            1
           ],
           "y": [
            0.7289686274214116,
            0.7289686274214116
           ]
          },
          {
           "type": "scatter",
           "x": [
            0,
            0
           ],
           "y": [
            0,
            0.7289686274214116
           ]
          },
          {
           "type": "scatter",
           "x": [
            0
           ],
           "y": [
            0.7289686274214116
           ]
          }
         ],
         "name": "12"
        },
        {
         "data": [
          {
           "line": {
            "width": 3
           },
           "mode": "lines",
           "type": "scatter",
           "x": [
            0,
            0.6845471059286886
           ],
           "y": [
            0,
            0.7289686274214116
           ]
          },
          {
           "line": {
            "width": 3
           },
           "mode": "lines",
           "type": "scatter",
           "x": [
            0,
            0.6845471059286886
           ],
           "y": [
            0.7289686274214116,
            0.7289686274214116
           ]
          },
          {
           "mode": "markers",
           "type": "scatter",
           "x": [
            0.6845471059286886
           ],
           "y": [
            0.7289686274214116
           ]
          },
          {
           "type": "scatter",
           "x": [
            0,
            1
           ],
           "y": [
            0.6845471059286886,
            0.6845471059286886
           ]
          },
          {
           "type": "scatter",
           "x": [
            0,
            0
           ],
           "y": [
            0,
            0.6845471059286886
           ]
          },
          {
           "type": "scatter",
           "x": [
            0
           ],
           "y": [
            0.6845471059286886
           ]
          }
         ],
         "name": "13"
        },
        {
         "data": [
          {
           "line": {
            "width": 3
           },
           "mode": "lines",
           "type": "scatter",
           "x": [
            0,
            0.6374239897486896
           ],
           "y": [
            0,
            0.7705132427757893
           ]
          },
          {
           "line": {
            "width": 3
           },
           "mode": "lines",
           "type": "scatter",
           "x": [
            0,
            0.6374239897486896
           ],
           "y": [
            0.7705132427757893,
            0.7705132427757893
           ]
          },
          {
           "mode": "markers",
           "type": "scatter",
           "x": [
            0.6374239897486896
           ],
           "y": [
            0.7705132427757893
           ]
          },
          {
           "type": "scatter",
           "x": [
            0,
            1
           ],
           "y": [
            0.6374239897486896,
            0.6374239897486896
           ]
          },
          {
           "type": "scatter",
           "x": [
            0,
            0
           ],
           "y": [
            0,
            0.6374239897486896
           ]
          },
          {
           "type": "scatter",
           "x": [
            0
           ],
           "y": [
            0.6374239897486896
           ]
          }
         ],
         "name": "14"
        },
        {
         "data": [
          {
           "line": {
            "width": 3
           },
           "mode": "lines",
           "type": "scatter",
           "x": [
            0,
            0.587785252292473
           ],
           "y": [
            0,
            0.8090169943749475
           ]
          },
          {
           "line": {
            "width": 3
           },
           "mode": "lines",
           "type": "scatter",
           "x": [
            0,
            0.587785252292473
           ],
           "y": [
            0.8090169943749475,
            0.8090169943749475
           ]
          },
          {
           "mode": "markers",
           "type": "scatter",
           "x": [
            0.587785252292473
           ],
           "y": [
            0.8090169943749475
           ]
          },
          {
           "type": "scatter",
           "x": [
            0,
            1
           ],
           "y": [
            0.587785252292473,
            0.587785252292473
           ]
          },
          {
           "type": "scatter",
           "x": [
            0,
            0
           ],
           "y": [
            0,
            0.587785252292473
           ]
          },
          {
           "type": "scatter",
           "x": [
            0
           ],
           "y": [
            0.587785252292473
           ]
          }
         ],
         "name": "15"
        },
        {
         "data": [
          {
           "line": {
            "width": 3
           },
           "mode": "lines",
           "type": "scatter",
           "x": [
            0,
            0.5358267949789965
           ],
           "y": [
            0,
            0.8443279255020151
           ]
          },
          {
           "line": {
            "width": 3
           },
           "mode": "lines",
           "type": "scatter",
           "x": [
            0,
            0.5358267949789965
           ],
           "y": [
            0.8443279255020151,
            0.8443279255020151
           ]
          },
          {
           "mode": "markers",
           "type": "scatter",
           "x": [
            0.5358267949789965
           ],
           "y": [
            0.8443279255020151
           ]
          },
          {
           "type": "scatter",
           "x": [
            0,
            1
           ],
           "y": [
            0.5358267949789965,
            0.5358267949789965
           ]
          },
          {
           "type": "scatter",
           "x": [
            0,
            0
           ],
           "y": [
            0,
            0.5358267949789965
           ]
          },
          {
           "type": "scatter",
           "x": [
            0
           ],
           "y": [
            0.5358267949789965
           ]
          }
         ],
         "name": "16"
        },
        {
         "data": [
          {
           "line": {
            "width": 3
           },
           "mode": "lines",
           "type": "scatter",
           "x": [
            0,
            0.48175367410171516
           ],
           "y": [
            0,
            0.8763066800438637
           ]
          },
          {
           "line": {
            "width": 3
           },
           "mode": "lines",
           "type": "scatter",
           "x": [
            0,
            0.48175367410171516
           ],
           "y": [
            0.8763066800438637,
            0.8763066800438637
           ]
          },
          {
           "mode": "markers",
           "type": "scatter",
           "x": [
            0.48175367410171516
           ],
           "y": [
            0.8763066800438637
           ]
          },
          {
           "type": "scatter",
           "x": [
            0,
            1
           ],
           "y": [
            0.48175367410171516,
            0.48175367410171516
           ]
          },
          {
           "type": "scatter",
           "x": [
            0,
            0
           ],
           "y": [
            0,
            0.48175367410171516
           ]
          },
          {
           "type": "scatter",
           "x": [
            0
           ],
           "y": [
            0.48175367410171516
           ]
          }
         ],
         "name": "17"
        },
        {
         "data": [
          {
           "line": {
            "width": 3
           },
           "mode": "lines",
           "type": "scatter",
           "x": [
            0,
            0.42577929156507266
           ],
           "y": [
            0,
            0.9048270524660196
           ]
          },
          {
           "line": {
            "width": 3
           },
           "mode": "lines",
           "type": "scatter",
           "x": [
            0,
            0.42577929156507266
           ],
           "y": [
            0.9048270524660196,
            0.9048270524660196
           ]
          },
          {
           "mode": "markers",
           "type": "scatter",
           "x": [
            0.42577929156507266
           ],
           "y": [
            0.9048270524660196
           ]
          },
          {
           "type": "scatter",
           "x": [
            0,
            1
           ],
           "y": [
            0.42577929156507266,
            0.42577929156507266
           ]
          },
          {
           "type": "scatter",
           "x": [
            0,
            0
           ],
           "y": [
            0,
            0.42577929156507266
           ]
          },
          {
           "type": "scatter",
           "x": [
            0
           ],
           "y": [
            0.42577929156507266
           ]
          }
         ],
         "name": "18"
        },
        {
         "data": [
          {
           "line": {
            "width": 3
           },
           "mode": "lines",
           "type": "scatter",
           "x": [
            0,
            0.36812455268467786
           ],
           "y": [
            0,
            0.9297764858882515
           ]
          },
          {
           "line": {
            "width": 3
           },
           "mode": "lines",
           "type": "scatter",
           "x": [
            0,
            0.36812455268467786
           ],
           "y": [
            0.9297764858882515,
            0.9297764858882515
           ]
          },
          {
           "mode": "markers",
           "type": "scatter",
           "x": [
            0.36812455268467786
           ],
           "y": [
            0.9297764858882515
           ]
          },
          {
           "type": "scatter",
           "x": [
            0,
            1
           ],
           "y": [
            0.36812455268467786,
            0.36812455268467786
           ]
          },
          {
           "type": "scatter",
           "x": [
            0,
            0
           ],
           "y": [
            0,
            0.36812455268467786
           ]
          },
          {
           "type": "scatter",
           "x": [
            0
           ],
           "y": [
            0.36812455268467786
           ]
          }
         ],
         "name": "19"
        },
        {
         "data": [
          {
           "line": {
            "width": 3
           },
           "mode": "lines",
           "type": "scatter",
           "x": [
            0,
            0.30901699437494745
           ],
           "y": [
            0,
            0.9510565162951535
           ]
          },
          {
           "line": {
            "width": 3
           },
           "mode": "lines",
           "type": "scatter",
           "x": [
            0,
            0.30901699437494745
           ],
           "y": [
            0.9510565162951535,
            0.9510565162951535
           ]
          },
          {
           "mode": "markers",
           "type": "scatter",
           "x": [
            0.30901699437494745
           ],
           "y": [
            0.9510565162951535
           ]
          },
          {
           "type": "scatter",
           "x": [
            0,
            1
           ],
           "y": [
            0.30901699437494745,
            0.30901699437494745
           ]
          },
          {
           "type": "scatter",
           "x": [
            0,
            0
           ],
           "y": [
            0,
            0.30901699437494745
           ]
          },
          {
           "type": "scatter",
           "x": [
            0
           ],
           "y": [
            0.30901699437494745
           ]
          }
         ],
         "name": "20"
        },
        {
         "data": [
          {
           "line": {
            "width": 3
           },
           "mode": "lines",
           "type": "scatter",
           "x": [
            0,
            0.24868988716485474
           ],
           "y": [
            0,
            0.9685831611286311
           ]
          },
          {
           "line": {
            "width": 3
           },
           "mode": "lines",
           "type": "scatter",
           "x": [
            0,
            0.24868988716485474
           ],
           "y": [
            0.9685831611286311,
            0.9685831611286311
           ]
          },
          {
           "mode": "markers",
           "type": "scatter",
           "x": [
            0.24868988716485474
           ],
           "y": [
            0.9685831611286311
           ]
          },
          {
           "type": "scatter",
           "x": [
            0,
            1
           ],
           "y": [
            0.24868988716485474,
            0.24868988716485474
           ]
          },
          {
           "type": "scatter",
           "x": [
            0,
            0
           ],
           "y": [
            0,
            0.24868988716485474
           ]
          },
          {
           "type": "scatter",
           "x": [
            0
           ],
           "y": [
            0.24868988716485474
           ]
          }
         ],
         "name": "21"
        },
        {
         "data": [
          {
           "line": {
            "width": 3
           },
           "mode": "lines",
           "type": "scatter",
           "x": [
            0,
            0.18738131458572452
           ],
           "y": [
            0,
            0.9822872507286887
           ]
          },
          {
           "line": {
            "width": 3
           },
           "mode": "lines",
           "type": "scatter",
           "x": [
            0,
            0.18738131458572452
           ],
           "y": [
            0.9822872507286887,
            0.9822872507286887
           ]
          },
          {
           "mode": "markers",
           "type": "scatter",
           "x": [
            0.18738131458572452
           ],
           "y": [
            0.9822872507286887
           ]
          },
          {
           "type": "scatter",
           "x": [
            0,
            1
           ],
           "y": [
            0.18738131458572452,
            0.18738131458572452
           ]
          },
          {
           "type": "scatter",
           "x": [
            0,
            0
           ],
           "y": [
            0,
            0.18738131458572452
           ]
          },
          {
           "type": "scatter",
           "x": [
            0
           ],
           "y": [
            0.18738131458572452
           ]
          }
         ],
         "name": "22"
        },
        {
         "data": [
          {
           "line": {
            "width": 3
           },
           "mode": "lines",
           "type": "scatter",
           "x": [
            0,
            0.12533323356430426
           ],
           "y": [
            0,
            0.9921147013144779
           ]
          },
          {
           "line": {
            "width": 3
           },
           "mode": "lines",
           "type": "scatter",
           "x": [
            0,
            0.12533323356430426
           ],
           "y": [
            0.9921147013144779,
            0.9921147013144779
           ]
          },
          {
           "mode": "markers",
           "type": "scatter",
           "x": [
            0.12533323356430426
           ],
           "y": [
            0.9921147013144779
           ]
          },
          {
           "type": "scatter",
           "x": [
            0,
            1
           ],
           "y": [
            0.12533323356430426,
            0.12533323356430426
           ]
          },
          {
           "type": "scatter",
           "x": [
            0,
            0
           ],
           "y": [
            0,
            0.12533323356430426
           ]
          },
          {
           "type": "scatter",
           "x": [
            0
           ],
           "y": [
            0.12533323356430426
           ]
          }
         ],
         "name": "23"
        },
        {
         "data": [
          {
           "line": {
            "width": 3
           },
           "mode": "lines",
           "type": "scatter",
           "x": [
            0,
            0.0627905195293133
           ],
           "y": [
            0,
            0.9980267284282716
           ]
          },
          {
           "line": {
            "width": 3
           },
           "mode": "lines",
           "type": "scatter",
           "x": [
            0,
            0.0627905195293133
           ],
           "y": [
            0.9980267284282716,
            0.9980267284282716
           ]
          },
          {
           "mode": "markers",
           "type": "scatter",
           "x": [
            0.0627905195293133
           ],
           "y": [
            0.9980267284282716
           ]
          },
          {
           "type": "scatter",
           "x": [
            0,
            1
           ],
           "y": [
            0.0627905195293133,
            0.0627905195293133
           ]
          },
          {
           "type": "scatter",
           "x": [
            0,
            0
           ],
           "y": [
            0,
            0.0627905195293133
           ]
          },
          {
           "type": "scatter",
           "x": [
            0
           ],
           "y": [
            0.0627905195293133
           ]
          }
         ],
         "name": "24"
        },
        {
         "data": [
          {
           "line": {
            "width": 3
           },
           "mode": "lines",
           "type": "scatter",
           "x": [
            0,
            -1.6081226496766366e-16
           ],
           "y": [
            0,
            1
           ]
          },
          {
           "line": {
            "width": 3
           },
           "mode": "lines",
           "type": "scatter",
           "x": [
            0,
            -1.6081226496766366e-16
           ],
           "y": [
            1,
            1
           ]
          },
          {
           "mode": "markers",
           "type": "scatter",
           "x": [
            -1.6081226496766366e-16
           ],
           "y": [
            1
           ]
          },
          {
           "type": "scatter",
           "x": [
            0,
            1
           ],
           "y": [
            -1.6081226496766366e-16,
            -1.6081226496766366e-16
           ]
          },
          {
           "type": "scatter",
           "x": [
            0,
            0
           ],
           "y": [
            0,
            -1.6081226496766366e-16
           ]
          },
          {
           "type": "scatter",
           "x": [
            0
           ],
           "y": [
            -1.6081226496766366e-16
           ]
          }
         ],
         "name": "25"
        },
        {
         "data": [
          {
           "line": {
            "width": 3
           },
           "mode": "lines",
           "type": "scatter",
           "x": [
            0,
            -0.0627905195293134
           ],
           "y": [
            0,
            0.9980267284282716
           ]
          },
          {
           "line": {
            "width": 3
           },
           "mode": "lines",
           "type": "scatter",
           "x": [
            0,
            -0.0627905195293134
           ],
           "y": [
            0.9980267284282716,
            0.9980267284282716
           ]
          },
          {
           "mode": "markers",
           "type": "scatter",
           "x": [
            -0.0627905195293134
           ],
           "y": [
            0.9980267284282716
           ]
          },
          {
           "type": "scatter",
           "x": [
            0,
            1
           ],
           "y": [
            -0.0627905195293134,
            -0.0627905195293134
           ]
          },
          {
           "type": "scatter",
           "x": [
            0,
            0
           ],
           "y": [
            0,
            -0.0627905195293134
           ]
          },
          {
           "type": "scatter",
           "x": [
            0
           ],
           "y": [
            -0.0627905195293134
           ]
          }
         ],
         "name": "26"
        },
        {
         "data": [
          {
           "line": {
            "width": 3
           },
           "mode": "lines",
           "type": "scatter",
           "x": [
            0,
            -0.12533323356430437
           ],
           "y": [
            0,
            0.9921147013144778
           ]
          },
          {
           "line": {
            "width": 3
           },
           "mode": "lines",
           "type": "scatter",
           "x": [
            0,
            -0.12533323356430437
           ],
           "y": [
            0.9921147013144778,
            0.9921147013144778
           ]
          },
          {
           "mode": "markers",
           "type": "scatter",
           "x": [
            -0.12533323356430437
           ],
           "y": [
            0.9921147013144778
           ]
          },
          {
           "type": "scatter",
           "x": [
            0,
            1
           ],
           "y": [
            -0.12533323356430437,
            -0.12533323356430437
           ]
          },
          {
           "type": "scatter",
           "x": [
            0,
            0
           ],
           "y": [
            0,
            -0.12533323356430437
           ]
          },
          {
           "type": "scatter",
           "x": [
            0
           ],
           "y": [
            -0.12533323356430437
           ]
          }
         ],
         "name": "27"
        },
        {
         "data": [
          {
           "line": {
            "width": 3
           },
           "mode": "lines",
           "type": "scatter",
           "x": [
            0,
            -0.18738131458572482
           ],
           "y": [
            0,
            0.9822872507286886
           ]
          },
          {
           "line": {
            "width": 3
           },
           "mode": "lines",
           "type": "scatter",
           "x": [
            0,
            -0.18738131458572482
           ],
           "y": [
            0.9822872507286886,
            0.9822872507286886
           ]
          },
          {
           "mode": "markers",
           "type": "scatter",
           "x": [
            -0.18738131458572482
           ],
           "y": [
            0.9822872507286886
           ]
          },
          {
           "type": "scatter",
           "x": [
            0,
            1
           ],
           "y": [
            -0.18738131458572482,
            -0.18738131458572482
           ]
          },
          {
           "type": "scatter",
           "x": [
            0,
            0
           ],
           "y": [
            0,
            -0.18738131458572482
           ]
          },
          {
           "type": "scatter",
           "x": [
            0
           ],
           "y": [
            -0.18738131458572482
           ]
          }
         ],
         "name": "28"
        },
        {
         "data": [
          {
           "line": {
            "width": 3
           },
           "mode": "lines",
           "type": "scatter",
           "x": [
            0,
            -0.24868988716485485
           ],
           "y": [
            0,
            0.9685831611286311
           ]
          },
          {
           "line": {
            "width": 3
           },
           "mode": "lines",
           "type": "scatter",
           "x": [
            0,
            -0.24868988716485485
           ],
           "y": [
            0.9685831611286311,
            0.9685831611286311
           ]
          },
          {
           "mode": "markers",
           "type": "scatter",
           "x": [
            -0.24868988716485485
           ],
           "y": [
            0.9685831611286311
           ]
          },
          {
           "type": "scatter",
           "x": [
            0,
            1
           ],
           "y": [
            -0.24868988716485485,
            -0.24868988716485485
           ]
          },
          {
           "type": "scatter",
           "x": [
            0,
            0
           ],
           "y": [
            0,
            -0.24868988716485485
           ]
          },
          {
           "type": "scatter",
           "x": [
            0
           ],
           "y": [
            -0.24868988716485485
           ]
          }
         ],
         "name": "29"
        },
        {
         "data": [
          {
           "line": {
            "width": 3
           },
           "mode": "lines",
           "type": "scatter",
           "x": [
            0,
            -0.30901699437494756
           ],
           "y": [
            0,
            0.9510565162951535
           ]
          },
          {
           "line": {
            "width": 3
           },
           "mode": "lines",
           "type": "scatter",
           "x": [
            0,
            -0.30901699437494756
           ],
           "y": [
            0.9510565162951535,
            0.9510565162951535
           ]
          },
          {
           "mode": "markers",
           "type": "scatter",
           "x": [
            -0.30901699437494756
           ],
           "y": [
            0.9510565162951535
           ]
          },
          {
           "type": "scatter",
           "x": [
            0,
            1
           ],
           "y": [
            -0.30901699437494756,
            -0.30901699437494756
           ]
          },
          {
           "type": "scatter",
           "x": [
            0,
            0
           ],
           "y": [
            0,
            -0.30901699437494756
           ]
          },
          {
           "type": "scatter",
           "x": [
            0
           ],
           "y": [
            -0.30901699437494756
           ]
          }
         ],
         "name": "30"
        },
        {
         "data": [
          {
           "line": {
            "width": 3
           },
           "mode": "lines",
           "type": "scatter",
           "x": [
            0,
            -0.368124552684678
           ],
           "y": [
            0,
            0.9297764858882515
           ]
          },
          {
           "line": {
            "width": 3
           },
           "mode": "lines",
           "type": "scatter",
           "x": [
            0,
            -0.368124552684678
           ],
           "y": [
            0.9297764858882515,
            0.9297764858882515
           ]
          },
          {
           "mode": "markers",
           "type": "scatter",
           "x": [
            -0.368124552684678
           ],
           "y": [
            0.9297764858882515
           ]
          },
          {
           "type": "scatter",
           "x": [
            0,
            1
           ],
           "y": [
            -0.368124552684678,
            -0.368124552684678
           ]
          },
          {
           "type": "scatter",
           "x": [
            0,
            0
           ],
           "y": [
            0,
            -0.368124552684678
           ]
          },
          {
           "type": "scatter",
           "x": [
            0
           ],
           "y": [
            -0.368124552684678
           ]
          }
         ],
         "name": "31"
        },
        {
         "data": [
          {
           "line": {
            "width": 3
           },
           "mode": "lines",
           "type": "scatter",
           "x": [
            0,
            -0.4257792915650727
           ],
           "y": [
            0,
            0.9048270524660195
           ]
          },
          {
           "line": {
            "width": 3
           },
           "mode": "lines",
           "type": "scatter",
           "x": [
            0,
            -0.4257792915650727
           ],
           "y": [
            0.9048270524660195,
            0.9048270524660195
           ]
          },
          {
           "mode": "markers",
           "type": "scatter",
           "x": [
            -0.4257792915650727
           ],
           "y": [
            0.9048270524660195
           ]
          },
          {
           "type": "scatter",
           "x": [
            0,
            1
           ],
           "y": [
            -0.4257792915650727,
            -0.4257792915650727
           ]
          },
          {
           "type": "scatter",
           "x": [
            0,
            0
           ],
           "y": [
            0,
            -0.4257792915650727
           ]
          },
          {
           "type": "scatter",
           "x": [
            0
           ],
           "y": [
            -0.4257792915650727
           ]
          }
         ],
         "name": "32"
        },
        {
         "data": [
          {
           "line": {
            "width": 3
           },
           "mode": "lines",
           "type": "scatter",
           "x": [
            0,
            -0.48175367410171543
           ],
           "y": [
            0,
            0.8763066800438635
           ]
          },
          {
           "line": {
            "width": 3
           },
           "mode": "lines",
           "type": "scatter",
           "x": [
            0,
            -0.48175367410171543
           ],
           "y": [
            0.8763066800438635,
            0.8763066800438635
           ]
          },
          {
           "mode": "markers",
           "type": "scatter",
           "x": [
            -0.48175367410171543
           ],
           "y": [
            0.8763066800438635
           ]
          },
          {
           "type": "scatter",
           "x": [
            0,
            1
           ],
           "y": [
            -0.48175367410171543,
            -0.48175367410171543
           ]
          },
          {
           "type": "scatter",
           "x": [
            0,
            0
           ],
           "y": [
            0,
            -0.48175367410171543
           ]
          },
          {
           "type": "scatter",
           "x": [
            0
           ],
           "y": [
            -0.48175367410171543
           ]
          }
         ],
         "name": "33"
        },
        {
         "data": [
          {
           "line": {
            "width": 3
           },
           "mode": "lines",
           "type": "scatter",
           "x": [
            0,
            -0.5358267949789969
           ],
           "y": [
            0,
            0.844327925502015
           ]
          },
          {
           "line": {
            "width": 3
           },
           "mode": "lines",
           "type": "scatter",
           "x": [
            0,
            -0.5358267949789969
           ],
           "y": [
            0.844327925502015,
            0.844327925502015
           ]
          },
          {
           "mode": "markers",
           "type": "scatter",
           "x": [
            -0.5358267949789969
           ],
           "y": [
            0.844327925502015
           ]
          },
          {
           "type": "scatter",
           "x": [
            0,
            1
           ],
           "y": [
            -0.5358267949789969,
            -0.5358267949789969
           ]
          },
          {
           "type": "scatter",
           "x": [
            0,
            0
           ],
           "y": [
            0,
            -0.5358267949789969
           ]
          },
          {
           "type": "scatter",
           "x": [
            0
           ],
           "y": [
            -0.5358267949789969
           ]
          }
         ],
         "name": "34"
        },
        {
         "data": [
          {
           "line": {
            "width": 3
           },
           "mode": "lines",
           "type": "scatter",
           "x": [
            0,
            -0.587785252292473
           ],
           "y": [
            0,
            0.8090169943749475
           ]
          },
          {
           "line": {
            "width": 3
           },
           "mode": "lines",
           "type": "scatter",
           "x": [
            0,
            -0.587785252292473
           ],
           "y": [
            0.8090169943749475,
            0.8090169943749475
           ]
          },
          {
           "mode": "markers",
           "type": "scatter",
           "x": [
            -0.587785252292473
           ],
           "y": [
            0.8090169943749475
           ]
          },
          {
           "type": "scatter",
           "x": [
            0,
            1
           ],
           "y": [
            -0.587785252292473,
            -0.587785252292473
           ]
          },
          {
           "type": "scatter",
           "x": [
            0,
            0
           ],
           "y": [
            0,
            -0.587785252292473
           ]
          },
          {
           "type": "scatter",
           "x": [
            0
           ],
           "y": [
            -0.587785252292473
           ]
          }
         ],
         "name": "35"
        },
        {
         "data": [
          {
           "line": {
            "width": 3
           },
           "mode": "lines",
           "type": "scatter",
           "x": [
            0,
            -0.6374239897486897
           ],
           "y": [
            0,
            0.7705132427757893
           ]
          },
          {
           "line": {
            "width": 3
           },
           "mode": "lines",
           "type": "scatter",
           "x": [
            0,
            -0.6374239897486897
           ],
           "y": [
            0.7705132427757893,
            0.7705132427757893
           ]
          },
          {
           "mode": "markers",
           "type": "scatter",
           "x": [
            -0.6374239897486897
           ],
           "y": [
            0.7705132427757893
           ]
          },
          {
           "type": "scatter",
           "x": [
            0,
            1
           ],
           "y": [
            -0.6374239897486897,
            -0.6374239897486897
           ]
          },
          {
           "type": "scatter",
           "x": [
            0,
            0
           ],
           "y": [
            0,
            -0.6374239897486897
           ]
          },
          {
           "type": "scatter",
           "x": [
            0
           ],
           "y": [
            -0.6374239897486897
           ]
          }
         ],
         "name": "36"
        },
        {
         "data": [
          {
           "line": {
            "width": 3
           },
           "mode": "lines",
           "type": "scatter",
           "x": [
            0,
            -0.6845471059286887
           ],
           "y": [
            0,
            0.7289686274214114
           ]
          },
          {
           "line": {
            "width": 3
           },
           "mode": "lines",
           "type": "scatter",
           "x": [
            0,
            -0.6845471059286887
           ],
           "y": [
            0.7289686274214114,
            0.7289686274214114
           ]
          },
          {
           "mode": "markers",
           "type": "scatter",
           "x": [
            -0.6845471059286887
           ],
           "y": [
            0.7289686274214114
           ]
          },
          {
           "type": "scatter",
           "x": [
            0,
            1
           ],
           "y": [
            -0.6845471059286887,
            -0.6845471059286887
           ]
          },
          {
           "type": "scatter",
           "x": [
            0,
            0
           ],
           "y": [
            0,
            -0.6845471059286887
           ]
          },
          {
           "type": "scatter",
           "x": [
            0
           ],
           "y": [
            -0.6845471059286887
           ]
          }
         ],
         "name": "37"
        },
        {
         "data": [
          {
           "line": {
            "width": 3
           },
           "mode": "lines",
           "type": "scatter",
           "x": [
            0,
            -0.7289686274214117
           ],
           "y": [
            0,
            0.6845471059286885
           ]
          },
          {
           "line": {
            "width": 3
           },
           "mode": "lines",
           "type": "scatter",
           "x": [
            0,
            -0.7289686274214117
           ],
           "y": [
            0.6845471059286885,
            0.6845471059286885
           ]
          },
          {
           "mode": "markers",
           "type": "scatter",
           "x": [
            -0.7289686274214117
           ],
           "y": [
            0.6845471059286885
           ]
          },
          {
           "type": "scatter",
           "x": [
            0,
            1
           ],
           "y": [
            -0.7289686274214117,
            -0.7289686274214117
           ]
          },
          {
           "type": "scatter",
           "x": [
            0,
            0
           ],
           "y": [
            0,
            -0.7289686274214117
           ]
          },
          {
           "type": "scatter",
           "x": [
            0
           ],
           "y": [
            -0.7289686274214117
           ]
          }
         ],
         "name": "38"
        },
        {
         "data": [
          {
           "line": {
            "width": 3
           },
           "mode": "lines",
           "type": "scatter",
           "x": [
            0,
            -0.7705132427757894
           ],
           "y": [
            0,
            0.6374239897486895
           ]
          },
          {
           "line": {
            "width": 3
           },
           "mode": "lines",
           "type": "scatter",
           "x": [
            0,
            -0.7705132427757894
           ],
           "y": [
            0.6374239897486895,
            0.6374239897486895
           ]
          },
          {
           "mode": "markers",
           "type": "scatter",
           "x": [
            -0.7705132427757894
           ],
           "y": [
            0.6374239897486895
           ]
          },
          {
           "type": "scatter",
           "x": [
            0,
            1
           ],
           "y": [
            -0.7705132427757894,
            -0.7705132427757894
           ]
          },
          {
           "type": "scatter",
           "x": [
            0,
            0
           ],
           "y": [
            0,
            -0.7705132427757894
           ]
          },
          {
           "type": "scatter",
           "x": [
            0
           ],
           "y": [
            -0.7705132427757894
           ]
          }
         ],
         "name": "39"
        },
        {
         "data": [
          {
           "line": {
            "width": 3
           },
           "mode": "lines",
           "type": "scatter",
           "x": [
            0,
            -0.8090169943749473
           ],
           "y": [
            0,
            0.5877852522924732
           ]
          },
          {
           "line": {
            "width": 3
           },
           "mode": "lines",
           "type": "scatter",
           "x": [
            0,
            -0.8090169943749473
           ],
           "y": [
            0.5877852522924732,
            0.5877852522924732
           ]
          },
          {
           "mode": "markers",
           "type": "scatter",
           "x": [
            -0.8090169943749473
           ],
           "y": [
            0.5877852522924732
           ]
          },
          {
           "type": "scatter",
           "x": [
            0,
            1
           ],
           "y": [
            -0.8090169943749473,
            -0.8090169943749473
           ]
          },
          {
           "type": "scatter",
           "x": [
            0,
            0
           ],
           "y": [
            0,
            -0.8090169943749473
           ]
          },
          {
           "type": "scatter",
           "x": [
            0
           ],
           "y": [
            -0.8090169943749473
           ]
          }
         ],
         "name": "40"
        },
        {
         "data": [
          {
           "line": {
            "width": 3
           },
           "mode": "lines",
           "type": "scatter",
           "x": [
            0,
            -0.8443279255020151
           ],
           "y": [
            0,
            0.5358267949789967
           ]
          },
          {
           "line": {
            "width": 3
           },
           "mode": "lines",
           "type": "scatter",
           "x": [
            0,
            -0.8443279255020151
           ],
           "y": [
            0.5358267949789967,
            0.5358267949789967
           ]
          },
          {
           "mode": "markers",
           "type": "scatter",
           "x": [
            -0.8443279255020151
           ],
           "y": [
            0.5358267949789967
           ]
          },
          {
           "type": "scatter",
           "x": [
            0,
            1
           ],
           "y": [
            -0.8443279255020151,
            -0.8443279255020151
           ]
          },
          {
           "type": "scatter",
           "x": [
            0,
            0
           ],
           "y": [
            0,
            -0.8443279255020151
           ]
          },
          {
           "type": "scatter",
           "x": [
            0
           ],
           "y": [
            -0.8443279255020151
           ]
          }
         ],
         "name": "41"
        },
        {
         "data": [
          {
           "line": {
            "width": 3
           },
           "mode": "lines",
           "type": "scatter",
           "x": [
            0,
            -0.8763066800438636
           ],
           "y": [
            0,
            0.4817536741017152
           ]
          },
          {
           "line": {
            "width": 3
           },
           "mode": "lines",
           "type": "scatter",
           "x": [
            0,
            -0.8763066800438636
           ],
           "y": [
            0.4817536741017152,
            0.4817536741017152
           ]
          },
          {
           "mode": "markers",
           "type": "scatter",
           "x": [
            -0.8763066800438636
           ],
           "y": [
            0.4817536741017152
           ]
          },
          {
           "type": "scatter",
           "x": [
            0,
            1
           ],
           "y": [
            -0.8763066800438636,
            -0.8763066800438636
           ]
          },
          {
           "type": "scatter",
           "x": [
            0,
            0
           ],
           "y": [
            0,
            -0.8763066800438636
           ]
          },
          {
           "type": "scatter",
           "x": [
            0
           ],
           "y": [
            -0.8763066800438636
           ]
          }
         ],
         "name": "42"
        },
        {
         "data": [
          {
           "line": {
            "width": 3
           },
           "mode": "lines",
           "type": "scatter",
           "x": [
            0,
            -0.9048270524660196
           ],
           "y": [
            0,
            0.4257792915650725
           ]
          },
          {
           "line": {
            "width": 3
           },
           "mode": "lines",
           "type": "scatter",
           "x": [
            0,
            -0.9048270524660196
           ],
           "y": [
            0.4257792915650725,
            0.4257792915650725
           ]
          },
          {
           "mode": "markers",
           "type": "scatter",
           "x": [
            -0.9048270524660196
           ],
           "y": [
            0.4257792915650725
           ]
          },
          {
           "type": "scatter",
           "x": [
            0,
            1
           ],
           "y": [
            -0.9048270524660196,
            -0.9048270524660196
           ]
          },
          {
           "type": "scatter",
           "x": [
            0,
            0
           ],
           "y": [
            0,
            -0.9048270524660196
           ]
          },
          {
           "type": "scatter",
           "x": [
            0
           ],
           "y": [
            -0.9048270524660196
           ]
          }
         ],
         "name": "43"
        },
        {
         "data": [
          {
           "line": {
            "width": 3
           },
           "mode": "lines",
           "type": "scatter",
           "x": [
            0,
            -0.9297764858882515
           ],
           "y": [
            0,
            0.36812455268467775
           ]
          },
          {
           "line": {
            "width": 3
           },
           "mode": "lines",
           "type": "scatter",
           "x": [
            0,
            -0.9297764858882515
           ],
           "y": [
            0.36812455268467775,
            0.36812455268467775
           ]
          },
          {
           "mode": "markers",
           "type": "scatter",
           "x": [
            -0.9297764858882515
           ],
           "y": [
            0.36812455268467775
           ]
          },
          {
           "type": "scatter",
           "x": [
            0,
            1
           ],
           "y": [
            -0.9297764858882515,
            -0.9297764858882515
           ]
          },
          {
           "type": "scatter",
           "x": [
            0,
            0
           ],
           "y": [
            0,
            -0.9297764858882515
           ]
          },
          {
           "type": "scatter",
           "x": [
            0
           ],
           "y": [
            -0.9297764858882515
           ]
          }
         ],
         "name": "44"
        },
        {
         "data": [
          {
           "line": {
            "width": 3
           },
           "mode": "lines",
           "type": "scatter",
           "x": [
            0,
            -0.9510565162951536
           ],
           "y": [
            0,
            0.3090169943749471
           ]
          },
          {
           "line": {
            "width": 3
           },
           "mode": "lines",
           "type": "scatter",
           "x": [
            0,
            -0.9510565162951536
           ],
           "y": [
            0.3090169943749471,
            0.3090169943749471
           ]
          },
          {
           "mode": "markers",
           "type": "scatter",
           "x": [
            -0.9510565162951536
           ],
           "y": [
            0.3090169943749471
           ]
          },
          {
           "type": "scatter",
           "x": [
            0,
            1
           ],
           "y": [
            -0.9510565162951536,
            -0.9510565162951536
           ]
          },
          {
           "type": "scatter",
           "x": [
            0,
            0
           ],
           "y": [
            0,
            -0.9510565162951536
           ]
          },
          {
           "type": "scatter",
           "x": [
            0
           ],
           "y": [
            -0.9510565162951536
           ]
          }
         ],
         "name": "45"
        },
        {
         "data": [
          {
           "line": {
            "width": 3
           },
           "mode": "lines",
           "type": "scatter",
           "x": [
            0,
            -0.9685831611286311
           ],
           "y": [
            0,
            0.24868988716485482
           ]
          },
          {
           "line": {
            "width": 3
           },
           "mode": "lines",
           "type": "scatter",
           "x": [
            0,
            -0.9685831611286311
           ],
           "y": [
            0.24868988716485482,
            0.24868988716485482
           ]
          },
          {
           "mode": "markers",
           "type": "scatter",
           "x": [
            -0.9685831611286311
           ],
           "y": [
            0.24868988716485482
           ]
          },
          {
           "type": "scatter",
           "x": [
            0,
            1
           ],
           "y": [
            -0.9685831611286311,
            -0.9685831611286311
           ]
          },
          {
           "type": "scatter",
           "x": [
            0,
            0
           ],
           "y": [
            0,
            -0.9685831611286311
           ]
          },
          {
           "type": "scatter",
           "x": [
            0
           ],
           "y": [
            -0.9685831611286311
           ]
          }
         ],
         "name": "46"
        },
        {
         "data": [
          {
           "line": {
            "width": 3
           },
           "mode": "lines",
           "type": "scatter",
           "x": [
            0,
            -0.9822872507286887
           ],
           "y": [
            0,
            0.18738131458572457
           ]
          },
          {
           "line": {
            "width": 3
           },
           "mode": "lines",
           "type": "scatter",
           "x": [
            0,
            -0.9822872507286887
           ],
           "y": [
            0.18738131458572457,
            0.18738131458572457
           ]
          },
          {
           "mode": "markers",
           "type": "scatter",
           "x": [
            -0.9822872507286887
           ],
           "y": [
            0.18738131458572457
           ]
          },
          {
           "type": "scatter",
           "x": [
            0,
            1
           ],
           "y": [
            -0.9822872507286887,
            -0.9822872507286887
           ]
          },
          {
           "type": "scatter",
           "x": [
            0,
            0
           ],
           "y": [
            0,
            -0.9822872507286887
           ]
          },
          {
           "type": "scatter",
           "x": [
            0
           ],
           "y": [
            -0.9822872507286887
           ]
          }
         ],
         "name": "47"
        },
        {
         "data": [
          {
           "line": {
            "width": 3
           },
           "mode": "lines",
           "type": "scatter",
           "x": [
            0,
            -0.9921147013144779
           ],
           "y": [
            0,
            0.1253332335643041
           ]
          },
          {
           "line": {
            "width": 3
           },
           "mode": "lines",
           "type": "scatter",
           "x": [
            0,
            -0.9921147013144779
           ],
           "y": [
            0.1253332335643041,
            0.1253332335643041
           ]
          },
          {
           "mode": "markers",
           "type": "scatter",
           "x": [
            -0.9921147013144779
           ],
           "y": [
            0.1253332335643041
           ]
          },
          {
           "type": "scatter",
           "x": [
            0,
            1
           ],
           "y": [
            -0.9921147013144779,
            -0.9921147013144779
           ]
          },
          {
           "type": "scatter",
           "x": [
            0,
            0
           ],
           "y": [
            0,
            -0.9921147013144779
           ]
          },
          {
           "type": "scatter",
           "x": [
            0
           ],
           "y": [
            -0.9921147013144779
           ]
          }
         ],
         "name": "48"
        },
        {
         "data": [
          {
           "line": {
            "width": 3
           },
           "mode": "lines",
           "type": "scatter",
           "x": [
            0,
            -0.9980267284282716
           ],
           "y": [
            0,
            0.06279051952931314
           ]
          },
          {
           "line": {
            "width": 3
           },
           "mode": "lines",
           "type": "scatter",
           "x": [
            0,
            -0.9980267284282716
           ],
           "y": [
            0.06279051952931314,
            0.06279051952931314
           ]
          },
          {
           "mode": "markers",
           "type": "scatter",
           "x": [
            -0.9980267284282716
           ],
           "y": [
            0.06279051952931314
           ]
          },
          {
           "type": "scatter",
           "x": [
            0,
            1
           ],
           "y": [
            -0.9980267284282716,
            -0.9980267284282716
           ]
          },
          {
           "type": "scatter",
           "x": [
            0,
            0
           ],
           "y": [
            0,
            -0.9980267284282716
           ]
          },
          {
           "type": "scatter",
           "x": [
            0
           ],
           "y": [
            -0.9980267284282716
           ]
          }
         ],
         "name": "49"
        },
        {
         "data": [
          {
           "line": {
            "width": 3
           },
           "mode": "lines",
           "type": "scatter",
           "x": [
            0,
            -1
           ],
           "y": [
            0,
            -3.216245299353273e-16
           ]
          },
          {
           "line": {
            "width": 3
           },
           "mode": "lines",
           "type": "scatter",
           "x": [
            0,
            -1
           ],
           "y": [
            -3.216245299353273e-16,
            -3.216245299353273e-16
           ]
          },
          {
           "mode": "markers",
           "type": "scatter",
           "x": [
            -1
           ],
           "y": [
            -3.216245299353273e-16
           ]
          },
          {
           "type": "scatter",
           "x": [
            0,
            1
           ],
           "y": [
            -1,
            -1
           ]
          },
          {
           "type": "scatter",
           "x": [
            0,
            0
           ],
           "y": [
            0,
            -1
           ]
          },
          {
           "type": "scatter",
           "x": [
            0
           ],
           "y": [
            -1
           ]
          }
         ],
         "name": "50"
        },
        {
         "data": [
          {
           "line": {
            "width": 3
           },
           "mode": "lines",
           "type": "scatter",
           "x": [
            0,
            -0.9980267284282716
           ],
           "y": [
            0,
            -0.06279051952931335
           ]
          },
          {
           "line": {
            "width": 3
           },
           "mode": "lines",
           "type": "scatter",
           "x": [
            0,
            -0.9980267284282716
           ],
           "y": [
            -0.06279051952931335,
            -0.06279051952931335
           ]
          },
          {
           "mode": "markers",
           "type": "scatter",
           "x": [
            -0.9980267284282716
           ],
           "y": [
            -0.06279051952931335
           ]
          },
          {
           "type": "scatter",
           "x": [
            0,
            1
           ],
           "y": [
            -0.9980267284282716,
            -0.9980267284282716
           ]
          },
          {
           "type": "scatter",
           "x": [
            0,
            0
           ],
           "y": [
            0,
            -0.9980267284282716
           ]
          },
          {
           "type": "scatter",
           "x": [
            0
           ],
           "y": [
            -0.9980267284282716
           ]
          }
         ],
         "name": "51"
        },
        {
         "data": [
          {
           "line": {
            "width": 3
           },
           "mode": "lines",
           "type": "scatter",
           "x": [
            0,
            -0.9921147013144779
           ],
           "y": [
            0,
            -0.12533323356430429
           ]
          },
          {
           "line": {
            "width": 3
           },
           "mode": "lines",
           "type": "scatter",
           "x": [
            0,
            -0.9921147013144779
           ],
           "y": [
            -0.12533323356430429,
            -0.12533323356430429
           ]
          },
          {
           "mode": "markers",
           "type": "scatter",
           "x": [
            -0.9921147013144779
           ],
           "y": [
            -0.12533323356430429
           ]
          },
          {
           "type": "scatter",
           "x": [
            0,
            1
           ],
           "y": [
            -0.9921147013144779,
            -0.9921147013144779
           ]
          },
          {
           "type": "scatter",
           "x": [
            0,
            0
           ],
           "y": [
            0,
            -0.9921147013144779
           ]
          },
          {
           "type": "scatter",
           "x": [
            0
           ],
           "y": [
            -0.9921147013144779
           ]
          }
         ],
         "name": "52"
        },
        {
         "data": [
          {
           "line": {
            "width": 3
           },
           "mode": "lines",
           "type": "scatter",
           "x": [
            0,
            -0.9822872507286886
           ],
           "y": [
            0,
            -0.18738131458572477
           ]
          },
          {
           "line": {
            "width": 3
           },
           "mode": "lines",
           "type": "scatter",
           "x": [
            0,
            -0.9822872507286886
           ],
           "y": [
            -0.18738131458572477,
            -0.18738131458572477
           ]
          },
          {
           "mode": "markers",
           "type": "scatter",
           "x": [
            -0.9822872507286886
           ],
           "y": [
            -0.18738131458572477
           ]
          },
          {
           "type": "scatter",
           "x": [
            0,
            1
           ],
           "y": [
            -0.9822872507286886,
            -0.9822872507286886
           ]
          },
          {
           "type": "scatter",
           "x": [
            0,
            0
           ],
           "y": [
            0,
            -0.9822872507286886
           ]
          },
          {
           "type": "scatter",
           "x": [
            0
           ],
           "y": [
            -0.9822872507286886
           ]
          }
         ],
         "name": "53"
        },
        {
         "data": [
          {
           "line": {
            "width": 3
           },
           "mode": "lines",
           "type": "scatter",
           "x": [
            0,
            -0.9685831611286311
           ],
           "y": [
            0,
            -0.24868988716485502
           ]
          },
          {
           "line": {
            "width": 3
           },
           "mode": "lines",
           "type": "scatter",
           "x": [
            0,
            -0.9685831611286311
           ],
           "y": [
            -0.24868988716485502,
            -0.24868988716485502
           ]
          },
          {
           "mode": "markers",
           "type": "scatter",
           "x": [
            -0.9685831611286311
           ],
           "y": [
            -0.24868988716485502
           ]
          },
          {
           "type": "scatter",
           "x": [
            0,
            1
           ],
           "y": [
            -0.9685831611286311,
            -0.9685831611286311
           ]
          },
          {
           "type": "scatter",
           "x": [
            0,
            0
           ],
           "y": [
            0,
            -0.9685831611286311
           ]
          },
          {
           "type": "scatter",
           "x": [
            0
           ],
           "y": [
            -0.9685831611286311
           ]
          }
         ],
         "name": "54"
        },
        {
         "data": [
          {
           "line": {
            "width": 3
           },
           "mode": "lines",
           "type": "scatter",
           "x": [
            0,
            -0.9510565162951535
           ],
           "y": [
            0,
            -0.30901699437494773
           ]
          },
          {
           "line": {
            "width": 3
           },
           "mode": "lines",
           "type": "scatter",
           "x": [
            0,
            -0.9510565162951535
           ],
           "y": [
            -0.30901699437494773,
            -0.30901699437494773
           ]
          },
          {
           "mode": "markers",
           "type": "scatter",
           "x": [
            -0.9510565162951535
           ],
           "y": [
            -0.30901699437494773
           ]
          },
          {
           "type": "scatter",
           "x": [
            0,
            1
           ],
           "y": [
            -0.9510565162951535,
            -0.9510565162951535
           ]
          },
          {
           "type": "scatter",
           "x": [
            0,
            0
           ],
           "y": [
            0,
            -0.9510565162951535
           ]
          },
          {
           "type": "scatter",
           "x": [
            0
           ],
           "y": [
            -0.9510565162951535
           ]
          }
         ],
         "name": "55"
        },
        {
         "data": [
          {
           "line": {
            "width": 3
           },
           "mode": "lines",
           "type": "scatter",
           "x": [
            0,
            -0.9297764858882512
           ],
           "y": [
            0,
            -0.3681245526846783
           ]
          },
          {
           "line": {
            "width": 3
           },
           "mode": "lines",
           "type": "scatter",
           "x": [
            0,
            -0.9297764858882512
           ],
           "y": [
            -0.3681245526846783,
            -0.3681245526846783
           ]
          },
          {
           "mode": "markers",
           "type": "scatter",
           "x": [
            -0.9297764858882512
           ],
           "y": [
            -0.3681245526846783
           ]
          },
          {
           "type": "scatter",
           "x": [
            0,
            1
           ],
           "y": [
            -0.9297764858882512,
            -0.9297764858882512
           ]
          },
          {
           "type": "scatter",
           "x": [
            0,
            0
           ],
           "y": [
            0,
            -0.9297764858882512
           ]
          },
          {
           "type": "scatter",
           "x": [
            0
           ],
           "y": [
            -0.9297764858882512
           ]
          }
         ],
         "name": "56"
        },
        {
         "data": [
          {
           "line": {
            "width": 3
           },
           "mode": "lines",
           "type": "scatter",
           "x": [
            0,
            -0.9048270524660195
           ],
           "y": [
            0,
            -0.42577929156507266
           ]
          },
          {
           "line": {
            "width": 3
           },
           "mode": "lines",
           "type": "scatter",
           "x": [
            0,
            -0.9048270524660195
           ],
           "y": [
            -0.42577929156507266,
            -0.42577929156507266
           ]
          },
          {
           "mode": "markers",
           "type": "scatter",
           "x": [
            -0.9048270524660195
           ],
           "y": [
            -0.42577929156507266
           ]
          },
          {
           "type": "scatter",
           "x": [
            0,
            1
           ],
           "y": [
            -0.9048270524660195,
            -0.9048270524660195
           ]
          },
          {
           "type": "scatter",
           "x": [
            0,
            0
           ],
           "y": [
            0,
            -0.9048270524660195
           ]
          },
          {
           "type": "scatter",
           "x": [
            0
           ],
           "y": [
            -0.9048270524660195
           ]
          }
         ],
         "name": "57"
        },
        {
         "data": [
          {
           "line": {
            "width": 3
           },
           "mode": "lines",
           "type": "scatter",
           "x": [
            0,
            -0.8763066800438636
           ],
           "y": [
            0,
            -0.4817536741017154
           ]
          },
          {
           "line": {
            "width": 3
           },
           "mode": "lines",
           "type": "scatter",
           "x": [
            0,
            -0.8763066800438636
           ],
           "y": [
            -0.4817536741017154,
            -0.4817536741017154
           ]
          },
          {
           "mode": "markers",
           "type": "scatter",
           "x": [
            -0.8763066800438636
           ],
           "y": [
            -0.4817536741017154
           ]
          },
          {
           "type": "scatter",
           "x": [
            0,
            1
           ],
           "y": [
            -0.8763066800438636,
            -0.8763066800438636
           ]
          },
          {
           "type": "scatter",
           "x": [
            0,
            0
           ],
           "y": [
            0,
            -0.8763066800438636
           ]
          },
          {
           "type": "scatter",
           "x": [
            0
           ],
           "y": [
            -0.8763066800438636
           ]
          }
         ],
         "name": "58"
        },
        {
         "data": [
          {
           "line": {
            "width": 3
           },
           "mode": "lines",
           "type": "scatter",
           "x": [
            0,
            -0.844327925502015
           ],
           "y": [
            0,
            -0.5358267949789968
           ]
          },
          {
           "line": {
            "width": 3
           },
           "mode": "lines",
           "type": "scatter",
           "x": [
            0,
            -0.844327925502015
           ],
           "y": [
            -0.5358267949789968,
            -0.5358267949789968
           ]
          },
          {
           "mode": "markers",
           "type": "scatter",
           "x": [
            -0.844327925502015
           ],
           "y": [
            -0.5358267949789968
           ]
          },
          {
           "type": "scatter",
           "x": [
            0,
            1
           ],
           "y": [
            -0.844327925502015,
            -0.844327925502015
           ]
          },
          {
           "type": "scatter",
           "x": [
            0,
            0
           ],
           "y": [
            0,
            -0.844327925502015
           ]
          },
          {
           "type": "scatter",
           "x": [
            0
           ],
           "y": [
            -0.844327925502015
           ]
          }
         ],
         "name": "59"
        },
        {
         "data": [
          {
           "line": {
            "width": 3
           },
           "mode": "lines",
           "type": "scatter",
           "x": [
            0,
            -0.8090169943749472
           ],
           "y": [
            0,
            -0.5877852522924734
           ]
          },
          {
           "line": {
            "width": 3
           },
           "mode": "lines",
           "type": "scatter",
           "x": [
            0,
            -0.8090169943749472
           ],
           "y": [
            -0.5877852522924734,
            -0.5877852522924734
           ]
          },
          {
           "mode": "markers",
           "type": "scatter",
           "x": [
            -0.8090169943749472
           ],
           "y": [
            -0.5877852522924734
           ]
          },
          {
           "type": "scatter",
           "x": [
            0,
            1
           ],
           "y": [
            -0.8090169943749472,
            -0.8090169943749472
           ]
          },
          {
           "type": "scatter",
           "x": [
            0,
            0
           ],
           "y": [
            0,
            -0.8090169943749472
           ]
          },
          {
           "type": "scatter",
           "x": [
            0
           ],
           "y": [
            -0.8090169943749472
           ]
          }
         ],
         "name": "60"
        },
        {
         "data": [
          {
           "line": {
            "width": 3
           },
           "mode": "lines",
           "type": "scatter",
           "x": [
            0,
            -0.770513242775789
           ],
           "y": [
            0,
            -0.63742398974869
           ]
          },
          {
           "line": {
            "width": 3
           },
           "mode": "lines",
           "type": "scatter",
           "x": [
            0,
            -0.770513242775789
           ],
           "y": [
            -0.63742398974869,
            -0.63742398974869
           ]
          },
          {
           "mode": "markers",
           "type": "scatter",
           "x": [
            -0.770513242775789
           ],
           "y": [
            -0.63742398974869
           ]
          },
          {
           "type": "scatter",
           "x": [
            0,
            1
           ],
           "y": [
            -0.770513242775789,
            -0.770513242775789
           ]
          },
          {
           "type": "scatter",
           "x": [
            0,
            0
           ],
           "y": [
            0,
            -0.770513242775789
           ]
          },
          {
           "type": "scatter",
           "x": [
            0
           ],
           "y": [
            -0.770513242775789
           ]
          }
         ],
         "name": "61"
        },
        {
         "data": [
          {
           "line": {
            "width": 3
           },
           "mode": "lines",
           "type": "scatter",
           "x": [
            0,
            -0.7289686274214116
           ],
           "y": [
            0,
            -0.6845471059286887
           ]
          },
          {
           "line": {
            "width": 3
           },
           "mode": "lines",
           "type": "scatter",
           "x": [
            0,
            -0.7289686274214116
           ],
           "y": [
            -0.6845471059286887,
            -0.6845471059286887
           ]
          },
          {
           "mode": "markers",
           "type": "scatter",
           "x": [
            -0.7289686274214116
           ],
           "y": [
            -0.6845471059286887
           ]
          },
          {
           "type": "scatter",
           "x": [
            0,
            1
           ],
           "y": [
            -0.7289686274214116,
            -0.7289686274214116
           ]
          },
          {
           "type": "scatter",
           "x": [
            0,
            0
           ],
           "y": [
            0,
            -0.7289686274214116
           ]
          },
          {
           "type": "scatter",
           "x": [
            0
           ],
           "y": [
            -0.7289686274214116
           ]
          }
         ],
         "name": "62"
        },
        {
         "data": [
          {
           "line": {
            "width": 3
           },
           "mode": "lines",
           "type": "scatter",
           "x": [
            0,
            -0.6845471059286886
           ],
           "y": [
            0,
            -0.7289686274214116
           ]
          },
          {
           "line": {
            "width": 3
           },
           "mode": "lines",
           "type": "scatter",
           "x": [
            0,
            -0.6845471059286886
           ],
           "y": [
            -0.7289686274214116,
            -0.7289686274214116
           ]
          },
          {
           "mode": "markers",
           "type": "scatter",
           "x": [
            -0.6845471059286886
           ],
           "y": [
            -0.7289686274214116
           ]
          },
          {
           "type": "scatter",
           "x": [
            0,
            1
           ],
           "y": [
            -0.6845471059286886,
            -0.6845471059286886
           ]
          },
          {
           "type": "scatter",
           "x": [
            0,
            0
           ],
           "y": [
            0,
            -0.6845471059286886
           ]
          },
          {
           "type": "scatter",
           "x": [
            0
           ],
           "y": [
            -0.6845471059286886
           ]
          }
         ],
         "name": "63"
        },
        {
         "data": [
          {
           "line": {
            "width": 3
           },
           "mode": "lines",
           "type": "scatter",
           "x": [
            0,
            -0.6374239897486895
           ],
           "y": [
            0,
            -0.7705132427757894
           ]
          },
          {
           "line": {
            "width": 3
           },
           "mode": "lines",
           "type": "scatter",
           "x": [
            0,
            -0.6374239897486895
           ],
           "y": [
            -0.7705132427757894,
            -0.7705132427757894
           ]
          },
          {
           "mode": "markers",
           "type": "scatter",
           "x": [
            -0.6374239897486895
           ],
           "y": [
            -0.7705132427757894
           ]
          },
          {
           "type": "scatter",
           "x": [
            0,
            1
           ],
           "y": [
            -0.6374239897486895,
            -0.6374239897486895
           ]
          },
          {
           "type": "scatter",
           "x": [
            0,
            0
           ],
           "y": [
            0,
            -0.6374239897486895
           ]
          },
          {
           "type": "scatter",
           "x": [
            0
           ],
           "y": [
            -0.6374239897486895
           ]
          }
         ],
         "name": "64"
        },
        {
         "data": [
          {
           "line": {
            "width": 3
           },
           "mode": "lines",
           "type": "scatter",
           "x": [
            0,
            -0.5877852522924732
           ],
           "y": [
            0,
            -0.8090169943749473
           ]
          },
          {
           "line": {
            "width": 3
           },
           "mode": "lines",
           "type": "scatter",
           "x": [
            0,
            -0.5877852522924732
           ],
           "y": [
            -0.8090169943749473,
            -0.8090169943749473
           ]
          },
          {
           "mode": "markers",
           "type": "scatter",
           "x": [
            -0.5877852522924732
           ],
           "y": [
            -0.8090169943749473
           ]
          },
          {
           "type": "scatter",
           "x": [
            0,
            1
           ],
           "y": [
            -0.5877852522924732,
            -0.5877852522924732
           ]
          },
          {
           "type": "scatter",
           "x": [
            0,
            0
           ],
           "y": [
            0,
            -0.5877852522924732
           ]
          },
          {
           "type": "scatter",
           "x": [
            0
           ],
           "y": [
            -0.5877852522924732
           ]
          }
         ],
         "name": "65"
        },
        {
         "data": [
          {
           "line": {
            "width": 3
           },
           "mode": "lines",
           "type": "scatter",
           "x": [
            0,
            -0.5358267949789963
           ],
           "y": [
            0,
            -0.8443279255020153
           ]
          },
          {
           "line": {
            "width": 3
           },
           "mode": "lines",
           "type": "scatter",
           "x": [
            0,
            -0.5358267949789963
           ],
           "y": [
            -0.8443279255020153,
            -0.8443279255020153
           ]
          },
          {
           "mode": "markers",
           "type": "scatter",
           "x": [
            -0.5358267949789963
           ],
           "y": [
            -0.8443279255020153
           ]
          },
          {
           "type": "scatter",
           "x": [
            0,
            1
           ],
           "y": [
            -0.5358267949789963,
            -0.5358267949789963
           ]
          },
          {
           "type": "scatter",
           "x": [
            0,
            0
           ],
           "y": [
            0,
            -0.5358267949789963
           ]
          },
          {
           "type": "scatter",
           "x": [
            0
           ],
           "y": [
            -0.5358267949789963
           ]
          }
         ],
         "name": "66"
        },
        {
         "data": [
          {
           "line": {
            "width": 3
           },
           "mode": "lines",
           "type": "scatter",
           "x": [
            0,
            -0.48175367410171527
           ],
           "y": [
            0,
            -0.8763066800438636
           ]
          },
          {
           "line": {
            "width": 3
           },
           "mode": "lines",
           "type": "scatter",
           "x": [
            0,
            -0.48175367410171527
           ],
           "y": [
            -0.8763066800438636,
            -0.8763066800438636
           ]
          },
          {
           "mode": "markers",
           "type": "scatter",
           "x": [
            -0.48175367410171527
           ],
           "y": [
            -0.8763066800438636
           ]
          },
          {
           "type": "scatter",
           "x": [
            0,
            1
           ],
           "y": [
            -0.48175367410171527,
            -0.48175367410171527
           ]
          },
          {
           "type": "scatter",
           "x": [
            0,
            0
           ],
           "y": [
            0,
            -0.48175367410171527
           ]
          },
          {
           "type": "scatter",
           "x": [
            0
           ],
           "y": [
            -0.48175367410171527
           ]
          }
         ],
         "name": "67"
        },
        {
         "data": [
          {
           "line": {
            "width": 3
           },
           "mode": "lines",
           "type": "scatter",
           "x": [
            0,
            -0.42577929156507216
           ],
           "y": [
            0,
            -0.9048270524660198
           ]
          },
          {
           "line": {
            "width": 3
           },
           "mode": "lines",
           "type": "scatter",
           "x": [
            0,
            -0.42577929156507216
           ],
           "y": [
            -0.9048270524660198,
            -0.9048270524660198
           ]
          },
          {
           "mode": "markers",
           "type": "scatter",
           "x": [
            -0.42577929156507216
           ],
           "y": [
            -0.9048270524660198
           ]
          },
          {
           "type": "scatter",
           "x": [
            0,
            1
           ],
           "y": [
            -0.42577929156507216,
            -0.42577929156507216
           ]
          },
          {
           "type": "scatter",
           "x": [
            0,
            0
           ],
           "y": [
            0,
            -0.42577929156507216
           ]
          },
          {
           "type": "scatter",
           "x": [
            0
           ],
           "y": [
            -0.42577929156507216
           ]
          }
         ],
         "name": "68"
        },
        {
         "data": [
          {
           "line": {
            "width": 3
           },
           "mode": "lines",
           "type": "scatter",
           "x": [
            0,
            -0.3681245526846778
           ],
           "y": [
            0,
            -0.9297764858882515
           ]
          },
          {
           "line": {
            "width": 3
           },
           "mode": "lines",
           "type": "scatter",
           "x": [
            0,
            -0.3681245526846778
           ],
           "y": [
            -0.9297764858882515,
            -0.9297764858882515
           ]
          },
          {
           "mode": "markers",
           "type": "scatter",
           "x": [
            -0.3681245526846778
           ],
           "y": [
            -0.9297764858882515
           ]
          },
          {
           "type": "scatter",
           "x": [
            0,
            1
           ],
           "y": [
            -0.3681245526846778,
            -0.3681245526846778
           ]
          },
          {
           "type": "scatter",
           "x": [
            0,
            0
           ],
           "y": [
            0,
            -0.3681245526846778
           ]
          },
          {
           "type": "scatter",
           "x": [
            0
           ],
           "y": [
            -0.3681245526846778
           ]
          }
         ],
         "name": "69"
        },
        {
         "data": [
          {
           "line": {
            "width": 3
           },
           "mode": "lines",
           "type": "scatter",
           "x": [
            0,
            -0.30901699437494756
           ],
           "y": [
            0,
            -0.9510565162951535
           ]
          },
          {
           "line": {
            "width": 3
           },
           "mode": "lines",
           "type": "scatter",
           "x": [
            0,
            -0.30901699437494756
           ],
           "y": [
            -0.9510565162951535,
            -0.9510565162951535
           ]
          },
          {
           "mode": "markers",
           "type": "scatter",
           "x": [
            -0.30901699437494756
           ],
           "y": [
            -0.9510565162951535
           ]
          },
          {
           "type": "scatter",
           "x": [
            0,
            1
           ],
           "y": [
            -0.30901699437494756,
            -0.30901699437494756
           ]
          },
          {
           "type": "scatter",
           "x": [
            0,
            0
           ],
           "y": [
            0,
            -0.30901699437494756
           ]
          },
          {
           "type": "scatter",
           "x": [
            0
           ],
           "y": [
            -0.30901699437494756
           ]
          }
         ],
         "name": "70"
        },
        {
         "data": [
          {
           "line": {
            "width": 3
           },
           "mode": "lines",
           "type": "scatter",
           "x": [
            0,
            -0.24868988716485443
           ],
           "y": [
            0,
            -0.9685831611286312
           ]
          },
          {
           "line": {
            "width": 3
           },
           "mode": "lines",
           "type": "scatter",
           "x": [
            0,
            -0.24868988716485443
           ],
           "y": [
            -0.9685831611286312,
            -0.9685831611286312
           ]
          },
          {
           "mode": "markers",
           "type": "scatter",
           "x": [
            -0.24868988716485443
           ],
           "y": [
            -0.9685831611286312
           ]
          },
          {
           "type": "scatter",
           "x": [
            0,
            1
           ],
           "y": [
            -0.24868988716485443,
            -0.24868988716485443
           ]
          },
          {
           "type": "scatter",
           "x": [
            0,
            0
           ],
           "y": [
            0,
            -0.24868988716485443
           ]
          },
          {
           "type": "scatter",
           "x": [
            0
           ],
           "y": [
            -0.24868988716485443
           ]
          }
         ],
         "name": "71"
        },
        {
         "data": [
          {
           "line": {
            "width": 3
           },
           "mode": "lines",
           "type": "scatter",
           "x": [
            0,
            -0.18738131458572463
           ],
           "y": [
            0,
            -0.9822872507286887
           ]
          },
          {
           "line": {
            "width": 3
           },
           "mode": "lines",
           "type": "scatter",
           "x": [
            0,
            -0.18738131458572463
           ],
           "y": [
            -0.9822872507286887,
            -0.9822872507286887
           ]
          },
          {
           "mode": "markers",
           "type": "scatter",
           "x": [
            -0.18738131458572463
           ],
           "y": [
            -0.9822872507286887
           ]
          },
          {
           "type": "scatter",
           "x": [
            0,
            1
           ],
           "y": [
            -0.18738131458572463,
            -0.18738131458572463
           ]
          },
          {
           "type": "scatter",
           "x": [
            0,
            0
           ],
           "y": [
            0,
            -0.18738131458572463
           ]
          },
          {
           "type": "scatter",
           "x": [
            0
           ],
           "y": [
            -0.18738131458572463
           ]
          }
         ],
         "name": "72"
        },
        {
         "data": [
          {
           "line": {
            "width": 3
           },
           "mode": "lines",
           "type": "scatter",
           "x": [
            0,
            -0.12533323356430373
           ],
           "y": [
            0,
            -0.9921147013144779
           ]
          },
          {
           "line": {
            "width": 3
           },
           "mode": "lines",
           "type": "scatter",
           "x": [
            0,
            -0.12533323356430373
           ],
           "y": [
            -0.9921147013144779,
            -0.9921147013144779
           ]
          },
          {
           "mode": "markers",
           "type": "scatter",
           "x": [
            -0.12533323356430373
           ],
           "y": [
            -0.9921147013144779
           ]
          },
          {
           "type": "scatter",
           "x": [
            0,
            1
           ],
           "y": [
            -0.12533323356430373,
            -0.12533323356430373
           ]
          },
          {
           "type": "scatter",
           "x": [
            0,
            0
           ],
           "y": [
            0,
            -0.12533323356430373
           ]
          },
          {
           "type": "scatter",
           "x": [
            0
           ],
           "y": [
            -0.12533323356430373
           ]
          }
         ],
         "name": "73"
        },
        {
         "data": [
          {
           "line": {
            "width": 3
           },
           "mode": "lines",
           "type": "scatter",
           "x": [
            0,
            -0.06279051952931321
           ],
           "y": [
            0,
            -0.9980267284282716
           ]
          },
          {
           "line": {
            "width": 3
           },
           "mode": "lines",
           "type": "scatter",
           "x": [
            0,
            -0.06279051952931321
           ],
           "y": [
            -0.9980267284282716,
            -0.9980267284282716
           ]
          },
          {
           "mode": "markers",
           "type": "scatter",
           "x": [
            -0.06279051952931321
           ],
           "y": [
            -0.9980267284282716
           ]
          },
          {
           "type": "scatter",
           "x": [
            0,
            1
           ],
           "y": [
            -0.06279051952931321,
            -0.06279051952931321
           ]
          },
          {
           "type": "scatter",
           "x": [
            0,
            0
           ],
           "y": [
            0,
            -0.06279051952931321
           ]
          },
          {
           "type": "scatter",
           "x": [
            0
           ],
           "y": [
            -0.06279051952931321
           ]
          }
         ],
         "name": "74"
        },
        {
         "data": [
          {
           "line": {
            "width": 3
           },
           "mode": "lines",
           "type": "scatter",
           "x": [
            0,
            -1.8369701987210297e-16
           ],
           "y": [
            0,
            -1
           ]
          },
          {
           "line": {
            "width": 3
           },
           "mode": "lines",
           "type": "scatter",
           "x": [
            0,
            -1.8369701987210297e-16
           ],
           "y": [
            -1,
            -1
           ]
          },
          {
           "mode": "markers",
           "type": "scatter",
           "x": [
            -1.8369701987210297e-16
           ],
           "y": [
            -1
           ]
          },
          {
           "type": "scatter",
           "x": [
            0,
            1
           ],
           "y": [
            -1.8369701987210297e-16,
            -1.8369701987210297e-16
           ]
          },
          {
           "type": "scatter",
           "x": [
            0,
            0
           ],
           "y": [
            0,
            -1.8369701987210297e-16
           ]
          },
          {
           "type": "scatter",
           "x": [
            0
           ],
           "y": [
            -1.8369701987210297e-16
           ]
          }
         ],
         "name": "75"
        },
        {
         "data": [
          {
           "line": {
            "width": 3
           },
           "mode": "lines",
           "type": "scatter",
           "x": [
            0,
            0.06279051952931372
           ],
           "y": [
            0,
            -0.9980267284282716
           ]
          },
          {
           "line": {
            "width": 3
           },
           "mode": "lines",
           "type": "scatter",
           "x": [
            0,
            0.06279051952931372
           ],
           "y": [
            -0.9980267284282716,
            -0.9980267284282716
           ]
          },
          {
           "mode": "markers",
           "type": "scatter",
           "x": [
            0.06279051952931372
           ],
           "y": [
            -0.9980267284282716
           ]
          },
          {
           "type": "scatter",
           "x": [
            0,
            1
           ],
           "y": [
            0.06279051952931372,
            0.06279051952931372
           ]
          },
          {
           "type": "scatter",
           "x": [
            0,
            0
           ],
           "y": [
            0,
            0.06279051952931372
           ]
          },
          {
           "type": "scatter",
           "x": [
            0
           ],
           "y": [
            0.06279051952931372
           ]
          }
         ],
         "name": "76"
        },
        {
         "data": [
          {
           "line": {
            "width": 3
           },
           "mode": "lines",
           "type": "scatter",
           "x": [
            0,
            0.12533323356430423
           ],
           "y": [
            0,
            -0.9921147013144779
           ]
          },
          {
           "line": {
            "width": 3
           },
           "mode": "lines",
           "type": "scatter",
           "x": [
            0,
            0.12533323356430423
           ],
           "y": [
            -0.9921147013144779,
            -0.9921147013144779
           ]
          },
          {
           "mode": "markers",
           "type": "scatter",
           "x": [
            0.12533323356430423
           ],
           "y": [
            -0.9921147013144779
           ]
          },
          {
           "type": "scatter",
           "x": [
            0,
            1
           ],
           "y": [
            0.12533323356430423,
            0.12533323356430423
           ]
          },
          {
           "type": "scatter",
           "x": [
            0,
            0
           ],
           "y": [
            0,
            0.12533323356430423
           ]
          },
          {
           "type": "scatter",
           "x": [
            0
           ],
           "y": [
            0.12533323356430423
           ]
          }
         ],
         "name": "77"
        },
        {
         "data": [
          {
           "line": {
            "width": 3
           },
           "mode": "lines",
           "type": "scatter",
           "x": [
            0,
            0.18738131458572513
           ],
           "y": [
            0,
            -0.9822872507286886
           ]
          },
          {
           "line": {
            "width": 3
           },
           "mode": "lines",
           "type": "scatter",
           "x": [
            0,
            0.18738131458572513
           ],
           "y": [
            -0.9822872507286886,
            -0.9822872507286886
           ]
          },
          {
           "mode": "markers",
           "type": "scatter",
           "x": [
            0.18738131458572513
           ],
           "y": [
            -0.9822872507286886
           ]
          },
          {
           "type": "scatter",
           "x": [
            0,
            1
           ],
           "y": [
            0.18738131458572513,
            0.18738131458572513
           ]
          },
          {
           "type": "scatter",
           "x": [
            0,
            0
           ],
           "y": [
            0,
            0.18738131458572513
           ]
          },
          {
           "type": "scatter",
           "x": [
            0
           ],
           "y": [
            0.18738131458572513
           ]
          }
         ],
         "name": "78"
        },
        {
         "data": [
          {
           "line": {
            "width": 3
           },
           "mode": "lines",
           "type": "scatter",
           "x": [
            0,
            0.24868988716485493
           ],
           "y": [
            0,
            -0.9685831611286311
           ]
          },
          {
           "line": {
            "width": 3
           },
           "mode": "lines",
           "type": "scatter",
           "x": [
            0,
            0.24868988716485493
           ],
           "y": [
            -0.9685831611286311,
            -0.9685831611286311
           ]
          },
          {
           "mode": "markers",
           "type": "scatter",
           "x": [
            0.24868988716485493
           ],
           "y": [
            -0.9685831611286311
           ]
          },
          {
           "type": "scatter",
           "x": [
            0,
            1
           ],
           "y": [
            0.24868988716485493,
            0.24868988716485493
           ]
          },
          {
           "type": "scatter",
           "x": [
            0,
            0
           ],
           "y": [
            0,
            0.24868988716485493
           ]
          },
          {
           "type": "scatter",
           "x": [
            0
           ],
           "y": [
            0.24868988716485493
           ]
          }
         ],
         "name": "79"
        },
        {
         "data": [
          {
           "line": {
            "width": 3
           },
           "mode": "lines",
           "type": "scatter",
           "x": [
            0,
            0.30901699437494723
           ],
           "y": [
            0,
            -0.9510565162951536
           ]
          },
          {
           "line": {
            "width": 3
           },
           "mode": "lines",
           "type": "scatter",
           "x": [
            0,
            0.30901699437494723
           ],
           "y": [
            -0.9510565162951536,
            -0.9510565162951536
           ]
          },
          {
           "mode": "markers",
           "type": "scatter",
           "x": [
            0.30901699437494723
           ],
           "y": [
            -0.9510565162951536
           ]
          },
          {
           "type": "scatter",
           "x": [
            0,
            1
           ],
           "y": [
            0.30901699437494723,
            0.30901699437494723
           ]
          },
          {
           "type": "scatter",
           "x": [
            0,
            0
           ],
           "y": [
            0,
            0.30901699437494723
           ]
          },
          {
           "type": "scatter",
           "x": [
            0
           ],
           "y": [
            0.30901699437494723
           ]
          }
         ],
         "name": "80"
        },
        {
         "data": [
          {
           "line": {
            "width": 3
           },
           "mode": "lines",
           "type": "scatter",
           "x": [
            0,
            0.36812455268467825
           ],
           "y": [
            0,
            -0.9297764858882512
           ]
          },
          {
           "line": {
            "width": 3
           },
           "mode": "lines",
           "type": "scatter",
           "x": [
            0,
            0.36812455268467825
           ],
           "y": [
            -0.9297764858882512,
            -0.9297764858882512
           ]
          },
          {
           "mode": "markers",
           "type": "scatter",
           "x": [
            0.36812455268467825
           ],
           "y": [
            -0.9297764858882512
           ]
          },
          {
           "type": "scatter",
           "x": [
            0,
            1
           ],
           "y": [
            0.36812455268467825,
            0.36812455268467825
           ]
          },
          {
           "type": "scatter",
           "x": [
            0,
            0
           ],
           "y": [
            0,
            0.36812455268467825
           ]
          },
          {
           "type": "scatter",
           "x": [
            0
           ],
           "y": [
            0.36812455268467825
           ]
          }
         ],
         "name": "81"
        },
        {
         "data": [
          {
           "line": {
            "width": 3
           },
           "mode": "lines",
           "type": "scatter",
           "x": [
            0,
            0.4257792915650726
           ],
           "y": [
            0,
            -0.9048270524660196
           ]
          },
          {
           "line": {
            "width": 3
           },
           "mode": "lines",
           "type": "scatter",
           "x": [
            0,
            0.4257792915650726
           ],
           "y": [
            -0.9048270524660196,
            -0.9048270524660196
           ]
          },
          {
           "mode": "markers",
           "type": "scatter",
           "x": [
            0.4257792915650726
           ],
           "y": [
            -0.9048270524660196
           ]
          },
          {
           "type": "scatter",
           "x": [
            0,
            1
           ],
           "y": [
            0.4257792915650726,
            0.4257792915650726
           ]
          },
          {
           "type": "scatter",
           "x": [
            0,
            0
           ],
           "y": [
            0,
            0.4257792915650726
           ]
          },
          {
           "type": "scatter",
           "x": [
            0
           ],
           "y": [
            0.4257792915650726
           ]
          }
         ],
         "name": "82"
        },
        {
         "data": [
          {
           "line": {
            "width": 3
           },
           "mode": "lines",
           "type": "scatter",
           "x": [
            0,
            0.4817536741017157
           ],
           "y": [
            0,
            -0.8763066800438634
           ]
          },
          {
           "line": {
            "width": 3
           },
           "mode": "lines",
           "type": "scatter",
           "x": [
            0,
            0.4817536741017157
           ],
           "y": [
            -0.8763066800438634,
            -0.8763066800438634
           ]
          },
          {
           "mode": "markers",
           "type": "scatter",
           "x": [
            0.4817536741017157
           ],
           "y": [
            -0.8763066800438634
           ]
          },
          {
           "type": "scatter",
           "x": [
            0,
            1
           ],
           "y": [
            0.4817536741017157,
            0.4817536741017157
           ]
          },
          {
           "type": "scatter",
           "x": [
            0,
            0
           ],
           "y": [
            0,
            0.4817536741017157
           ]
          },
          {
           "type": "scatter",
           "x": [
            0
           ],
           "y": [
            0.4817536741017157
           ]
          }
         ],
         "name": "83"
        },
        {
         "data": [
          {
           "line": {
            "width": 3
           },
           "mode": "lines",
           "type": "scatter",
           "x": [
            0,
            0.5358267949789968
           ],
           "y": [
            0,
            -0.844327925502015
           ]
          },
          {
           "line": {
            "width": 3
           },
           "mode": "lines",
           "type": "scatter",
           "x": [
            0,
            0.5358267949789968
           ],
           "y": [
            -0.844327925502015,
            -0.844327925502015
           ]
          },
          {
           "mode": "markers",
           "type": "scatter",
           "x": [
            0.5358267949789968
           ],
           "y": [
            -0.844327925502015
           ]
          },
          {
           "type": "scatter",
           "x": [
            0,
            1
           ],
           "y": [
            0.5358267949789968,
            0.5358267949789968
           ]
          },
          {
           "type": "scatter",
           "x": [
            0,
            0
           ],
           "y": [
            0,
            0.5358267949789968
           ]
          },
          {
           "type": "scatter",
           "x": [
            0
           ],
           "y": [
            0.5358267949789968
           ]
          }
         ],
         "name": "84"
        },
        {
         "data": [
          {
           "line": {
            "width": 3
           },
           "mode": "lines",
           "type": "scatter",
           "x": [
            0,
            0.5877852522924737
           ],
           "y": [
            0,
            -0.809016994374947
           ]
          },
          {
           "line": {
            "width": 3
           },
           "mode": "lines",
           "type": "scatter",
           "x": [
            0,
            0.5877852522924737
           ],
           "y": [
            -0.809016994374947,
            -0.809016994374947
           ]
          },
          {
           "mode": "markers",
           "type": "scatter",
           "x": [
            0.5877852522924737
           ],
           "y": [
            -0.809016994374947
           ]
          },
          {
           "type": "scatter",
           "x": [
            0,
            1
           ],
           "y": [
            0.5877852522924737,
            0.5877852522924737
           ]
          },
          {
           "type": "scatter",
           "x": [
            0,
            0
           ],
           "y": [
            0,
            0.5877852522924737
           ]
          },
          {
           "type": "scatter",
           "x": [
            0
           ],
           "y": [
            0.5877852522924737
           ]
          }
         ],
         "name": "85"
        },
        {
         "data": [
          {
           "line": {
            "width": 3
           },
           "mode": "lines",
           "type": "scatter",
           "x": [
            0,
            0.63742398974869
           ],
           "y": [
            0,
            -0.770513242775789
           ]
          },
          {
           "line": {
            "width": 3
           },
           "mode": "lines",
           "type": "scatter",
           "x": [
            0,
            0.63742398974869
           ],
           "y": [
            -0.770513242775789,
            -0.770513242775789
           ]
          },
          {
           "mode": "markers",
           "type": "scatter",
           "x": [
            0.63742398974869
           ],
           "y": [
            -0.770513242775789
           ]
          },
          {
           "type": "scatter",
           "x": [
            0,
            1
           ],
           "y": [
            0.63742398974869,
            0.63742398974869
           ]
          },
          {
           "type": "scatter",
           "x": [
            0,
            0
           ],
           "y": [
            0,
            0.63742398974869
           ]
          },
          {
           "type": "scatter",
           "x": [
            0
           ],
           "y": [
            0.63742398974869
           ]
          }
         ],
         "name": "86"
        },
        {
         "data": [
          {
           "line": {
            "width": 3
           },
           "mode": "lines",
           "type": "scatter",
           "x": [
            0,
            0.6845471059286886
           ],
           "y": [
            0,
            -0.7289686274214116
           ]
          },
          {
           "line": {
            "width": 3
           },
           "mode": "lines",
           "type": "scatter",
           "x": [
            0,
            0.6845471059286886
           ],
           "y": [
            -0.7289686274214116,
            -0.7289686274214116
           ]
          },
          {
           "mode": "markers",
           "type": "scatter",
           "x": [
            0.6845471059286886
           ],
           "y": [
            -0.7289686274214116
           ]
          },
          {
           "type": "scatter",
           "x": [
            0,
            1
           ],
           "y": [
            0.6845471059286886,
            0.6845471059286886
           ]
          },
          {
           "type": "scatter",
           "x": [
            0,
            0
           ],
           "y": [
            0,
            0.6845471059286886
           ]
          },
          {
           "type": "scatter",
           "x": [
            0
           ],
           "y": [
            0.6845471059286886
           ]
          }
         ],
         "name": "87"
        },
        {
         "data": [
          {
           "line": {
            "width": 3
           },
           "mode": "lines",
           "type": "scatter",
           "x": [
            0,
            0.7289686274214119
           ],
           "y": [
            0,
            -0.6845471059286883
           ]
          },
          {
           "line": {
            "width": 3
           },
           "mode": "lines",
           "type": "scatter",
           "x": [
            0,
            0.7289686274214119
           ],
           "y": [
            -0.6845471059286883,
            -0.6845471059286883
           ]
          },
          {
           "mode": "markers",
           "type": "scatter",
           "x": [
            0.7289686274214119
           ],
           "y": [
            -0.6845471059286883
           ]
          },
          {
           "type": "scatter",
           "x": [
            0,
            1
           ],
           "y": [
            0.7289686274214119,
            0.7289686274214119
           ]
          },
          {
           "type": "scatter",
           "x": [
            0,
            0
           ],
           "y": [
            0,
            0.7289686274214119
           ]
          },
          {
           "type": "scatter",
           "x": [
            0
           ],
           "y": [
            0.7289686274214119
           ]
          }
         ],
         "name": "88"
        },
        {
         "data": [
          {
           "line": {
            "width": 3
           },
           "mode": "lines",
           "type": "scatter",
           "x": [
            0,
            0.7705132427757894
           ],
           "y": [
            0,
            -0.6374239897486896
           ]
          },
          {
           "line": {
            "width": 3
           },
           "mode": "lines",
           "type": "scatter",
           "x": [
            0,
            0.7705132427757894
           ],
           "y": [
            -0.6374239897486896,
            -0.6374239897486896
           ]
          },
          {
           "mode": "markers",
           "type": "scatter",
           "x": [
            0.7705132427757894
           ],
           "y": [
            -0.6374239897486896
           ]
          },
          {
           "type": "scatter",
           "x": [
            0,
            1
           ],
           "y": [
            0.7705132427757894,
            0.7705132427757894
           ]
          },
          {
           "type": "scatter",
           "x": [
            0,
            0
           ],
           "y": [
            0,
            0.7705132427757894
           ]
          },
          {
           "type": "scatter",
           "x": [
            0
           ],
           "y": [
            0.7705132427757894
           ]
          }
         ],
         "name": "89"
        },
        {
         "data": [
          {
           "line": {
            "width": 3
           },
           "mode": "lines",
           "type": "scatter",
           "x": [
            0,
            0.8090169943749478
           ],
           "y": [
            0,
            -0.5877852522924726
           ]
          },
          {
           "line": {
            "width": 3
           },
           "mode": "lines",
           "type": "scatter",
           "x": [
            0,
            0.8090169943749478
           ],
           "y": [
            -0.5877852522924726,
            -0.5877852522924726
           ]
          },
          {
           "mode": "markers",
           "type": "scatter",
           "x": [
            0.8090169943749478
           ],
           "y": [
            -0.5877852522924726
           ]
          },
          {
           "type": "scatter",
           "x": [
            0,
            1
           ],
           "y": [
            0.8090169943749478,
            0.8090169943749478
           ]
          },
          {
           "type": "scatter",
           "x": [
            0,
            0
           ],
           "y": [
            0,
            0.8090169943749478
           ]
          },
          {
           "type": "scatter",
           "x": [
            0
           ],
           "y": [
            0.8090169943749478
           ]
          }
         ],
         "name": "90"
        },
        {
         "data": [
          {
           "line": {
            "width": 3
           },
           "mode": "lines",
           "type": "scatter",
           "x": [
            0,
            0.8443279255020152
           ],
           "y": [
            0,
            -0.5358267949789963
           ]
          },
          {
           "line": {
            "width": 3
           },
           "mode": "lines",
           "type": "scatter",
           "x": [
            0,
            0.8443279255020152
           ],
           "y": [
            -0.5358267949789963,
            -0.5358267949789963
           ]
          },
          {
           "mode": "markers",
           "type": "scatter",
           "x": [
            0.8443279255020152
           ],
           "y": [
            -0.5358267949789963
           ]
          },
          {
           "type": "scatter",
           "x": [
            0,
            1
           ],
           "y": [
            0.8443279255020152,
            0.8443279255020152
           ]
          },
          {
           "type": "scatter",
           "x": [
            0,
            0
           ],
           "y": [
            0,
            0.8443279255020152
           ]
          },
          {
           "type": "scatter",
           "x": [
            0
           ],
           "y": [
            0.8443279255020152
           ]
          }
         ],
         "name": "91"
        },
        {
         "data": [
          {
           "line": {
            "width": 3
           },
           "mode": "lines",
           "type": "scatter",
           "x": [
            0,
            0.8763066800438636
           ],
           "y": [
            0,
            -0.4817536741017153
           ]
          },
          {
           "line": {
            "width": 3
           },
           "mode": "lines",
           "type": "scatter",
           "x": [
            0,
            0.8763066800438636
           ],
           "y": [
            -0.4817536741017153,
            -0.4817536741017153
           ]
          },
          {
           "mode": "markers",
           "type": "scatter",
           "x": [
            0.8763066800438636
           ],
           "y": [
            -0.4817536741017153
           ]
          },
          {
           "type": "scatter",
           "x": [
            0,
            1
           ],
           "y": [
            0.8763066800438636,
            0.8763066800438636
           ]
          },
          {
           "type": "scatter",
           "x": [
            0,
            0
           ],
           "y": [
            0,
            0.8763066800438636
           ]
          },
          {
           "type": "scatter",
           "x": [
            0
           ],
           "y": [
            0.8763066800438636
           ]
          }
         ],
         "name": "92"
        },
        {
         "data": [
          {
           "line": {
            "width": 3
           },
           "mode": "lines",
           "type": "scatter",
           "x": [
            0,
            0.9048270524660197
           ],
           "y": [
            0,
            -0.4257792915650722
           ]
          },
          {
           "line": {
            "width": 3
           },
           "mode": "lines",
           "type": "scatter",
           "x": [
            0,
            0.9048270524660197
           ],
           "y": [
            -0.4257792915650722,
            -0.4257792915650722
           ]
          },
          {
           "mode": "markers",
           "type": "scatter",
           "x": [
            0.9048270524660197
           ],
           "y": [
            -0.4257792915650722
           ]
          },
          {
           "type": "scatter",
           "x": [
            0,
            1
           ],
           "y": [
            0.9048270524660197,
            0.9048270524660197
           ]
          },
          {
           "type": "scatter",
           "x": [
            0,
            0
           ],
           "y": [
            0,
            0.9048270524660197
           ]
          },
          {
           "type": "scatter",
           "x": [
            0
           ],
           "y": [
            0.9048270524660197
           ]
          }
         ],
         "name": "93"
        },
        {
         "data": [
          {
           "line": {
            "width": 3
           },
           "mode": "lines",
           "type": "scatter",
           "x": [
            0,
            0.9297764858882515
           ],
           "y": [
            0,
            -0.36812455268467786
           ]
          },
          {
           "line": {
            "width": 3
           },
           "mode": "lines",
           "type": "scatter",
           "x": [
            0,
            0.9297764858882515
           ],
           "y": [
            -0.36812455268467786,
            -0.36812455268467786
           ]
          },
          {
           "mode": "markers",
           "type": "scatter",
           "x": [
            0.9297764858882515
           ],
           "y": [
            -0.36812455268467786
           ]
          },
          {
           "type": "scatter",
           "x": [
            0,
            1
           ],
           "y": [
            0.9297764858882515,
            0.9297764858882515
           ]
          },
          {
           "type": "scatter",
           "x": [
            0,
            0
           ],
           "y": [
            0,
            0.9297764858882515
           ]
          },
          {
           "type": "scatter",
           "x": [
            0
           ],
           "y": [
            0.9297764858882515
           ]
          }
         ],
         "name": "94"
        },
        {
         "data": [
          {
           "line": {
            "width": 3
           },
           "mode": "lines",
           "type": "scatter",
           "x": [
            0,
            0.9510565162951538
           ],
           "y": [
            0,
            -0.3090169943749468
           ]
          },
          {
           "line": {
            "width": 3
           },
           "mode": "lines",
           "type": "scatter",
           "x": [
            0,
            0.9510565162951538
           ],
           "y": [
            -0.3090169943749468,
            -0.3090169943749468
           ]
          },
          {
           "mode": "markers",
           "type": "scatter",
           "x": [
            0.9510565162951538
           ],
           "y": [
            -0.3090169943749468
           ]
          },
          {
           "type": "scatter",
           "x": [
            0,
            1
           ],
           "y": [
            0.9510565162951538,
            0.9510565162951538
           ]
          },
          {
           "type": "scatter",
           "x": [
            0,
            0
           ],
           "y": [
            0,
            0.9510565162951538
           ]
          },
          {
           "type": "scatter",
           "x": [
            0
           ],
           "y": [
            0.9510565162951538
           ]
          }
         ],
         "name": "95"
        },
        {
         "data": [
          {
           "line": {
            "width": 3
           },
           "mode": "lines",
           "type": "scatter",
           "x": [
            0,
            0.9685831611286312
           ],
           "y": [
            0,
            -0.2486898871648545
           ]
          },
          {
           "line": {
            "width": 3
           },
           "mode": "lines",
           "type": "scatter",
           "x": [
            0,
            0.9685831611286312
           ],
           "y": [
            -0.2486898871648545,
            -0.2486898871648545
           ]
          },
          {
           "mode": "markers",
           "type": "scatter",
           "x": [
            0.9685831611286312
           ],
           "y": [
            -0.2486898871648545
           ]
          },
          {
           "type": "scatter",
           "x": [
            0,
            1
           ],
           "y": [
            0.9685831611286312,
            0.9685831611286312
           ]
          },
          {
           "type": "scatter",
           "x": [
            0,
            0
           ],
           "y": [
            0,
            0.9685831611286312
           ]
          },
          {
           "type": "scatter",
           "x": [
            0
           ],
           "y": [
            0.9685831611286312
           ]
          }
         ],
         "name": "96"
        },
        {
         "data": [
          {
           "line": {
            "width": 3
           },
           "mode": "lines",
           "type": "scatter",
           "x": [
            0,
            0.9822872507286887
           ],
           "y": [
            0,
            -0.18738131458572468
           ]
          },
          {
           "line": {
            "width": 3
           },
           "mode": "lines",
           "type": "scatter",
           "x": [
            0,
            0.9822872507286887
           ],
           "y": [
            -0.18738131458572468,
            -0.18738131458572468
           ]
          },
          {
           "mode": "markers",
           "type": "scatter",
           "x": [
            0.9822872507286887
           ],
           "y": [
            -0.18738131458572468
           ]
          },
          {
           "type": "scatter",
           "x": [
            0,
            1
           ],
           "y": [
            0.9822872507286887,
            0.9822872507286887
           ]
          },
          {
           "type": "scatter",
           "x": [
            0,
            0
           ],
           "y": [
            0,
            0.9822872507286887
           ]
          },
          {
           "type": "scatter",
           "x": [
            0
           ],
           "y": [
            0.9822872507286887
           ]
          }
         ],
         "name": "97"
        },
        {
         "data": [
          {
           "line": {
            "width": 3
           },
           "mode": "lines",
           "type": "scatter",
           "x": [
            0,
            0.9921147013144779
           ],
           "y": [
            0,
            -0.1253332335643038
           ]
          },
          {
           "line": {
            "width": 3
           },
           "mode": "lines",
           "type": "scatter",
           "x": [
            0,
            0.9921147013144779
           ],
           "y": [
            -0.1253332335643038,
            -0.1253332335643038
           ]
          },
          {
           "mode": "markers",
           "type": "scatter",
           "x": [
            0.9921147013144779
           ],
           "y": [
            -0.1253332335643038
           ]
          },
          {
           "type": "scatter",
           "x": [
            0,
            1
           ],
           "y": [
            0.9921147013144779,
            0.9921147013144779
           ]
          },
          {
           "type": "scatter",
           "x": [
            0,
            0
           ],
           "y": [
            0,
            0.9921147013144779
           ]
          },
          {
           "type": "scatter",
           "x": [
            0
           ],
           "y": [
            0.9921147013144779
           ]
          }
         ],
         "name": "98"
        },
        {
         "data": [
          {
           "line": {
            "width": 3
           },
           "mode": "lines",
           "type": "scatter",
           "x": [
            0,
            0.9980267284282716
           ],
           "y": [
            0,
            -0.06279051952931326
           ]
          },
          {
           "line": {
            "width": 3
           },
           "mode": "lines",
           "type": "scatter",
           "x": [
            0,
            0.9980267284282716
           ],
           "y": [
            -0.06279051952931326,
            -0.06279051952931326
           ]
          },
          {
           "mode": "markers",
           "type": "scatter",
           "x": [
            0.9980267284282716
           ],
           "y": [
            -0.06279051952931326
           ]
          },
          {
           "type": "scatter",
           "x": [
            0,
            1
           ],
           "y": [
            0.9980267284282716,
            0.9980267284282716
           ]
          },
          {
           "type": "scatter",
           "x": [
            0,
            0
           ],
           "y": [
            0,
            0.9980267284282716
           ]
          },
          {
           "type": "scatter",
           "x": [
            0
           ],
           "y": [
            0.9980267284282716
           ]
          }
         ],
         "name": "99"
        },
        {
         "data": [
          {
           "line": {
            "width": 3
           },
           "mode": "lines",
           "type": "scatter",
           "x": [
            0,
            1
           ],
           "y": [
            0,
            6.432490598706546e-16
           ]
          },
          {
           "line": {
            "width": 3
           },
           "mode": "lines",
           "type": "scatter",
           "x": [
            0,
            1
           ],
           "y": [
            6.432490598706546e-16,
            6.432490598706546e-16
           ]
          },
          {
           "mode": "markers",
           "type": "scatter",
           "x": [
            1
           ],
           "y": [
            6.432490598706546e-16
           ]
          },
          {
           "type": "scatter",
           "x": [
            0,
            1
           ],
           "y": [
            1,
            1
           ]
          },
          {
           "type": "scatter",
           "x": [
            0,
            0
           ],
           "y": [
            0,
            1
           ]
          },
          {
           "type": "scatter",
           "x": [
            0
           ],
           "y": [
            1
           ]
          }
         ],
         "name": "100"
        },
        {
         "data": [
          {
           "line": {
            "width": 3
           },
           "mode": "lines",
           "type": "scatter",
           "x": [
            0,
            0.9980267284282716
           ],
           "y": [
            0,
            0.06279051952931367
           ]
          },
          {
           "line": {
            "width": 3
           },
           "mode": "lines",
           "type": "scatter",
           "x": [
            0,
            0.9980267284282716
           ],
           "y": [
            0.06279051952931367,
            0.06279051952931367
           ]
          },
          {
           "mode": "markers",
           "type": "scatter",
           "x": [
            0.9980267284282716
           ],
           "y": [
            0.06279051952931367
           ]
          },
          {
           "type": "scatter",
           "x": [
            0,
            1
           ],
           "y": [
            0.9980267284282716,
            0.9980267284282716
           ]
          },
          {
           "type": "scatter",
           "x": [
            0,
            0
           ],
           "y": [
            0,
            0.9980267284282716
           ]
          },
          {
           "type": "scatter",
           "x": [
            0
           ],
           "y": [
            0.9980267284282716
           ]
          }
         ],
         "name": "101"
        },
        {
         "data": [
          {
           "line": {
            "width": 3
           },
           "mode": "lines",
           "type": "scatter",
           "x": [
            0,
            0.9921147013144779
           ],
           "y": [
            0,
            0.12533323356430418
           ]
          },
          {
           "line": {
            "width": 3
           },
           "mode": "lines",
           "type": "scatter",
           "x": [
            0,
            0.9921147013144779
           ],
           "y": [
            0.12533323356430418,
            0.12533323356430418
           ]
          },
          {
           "mode": "markers",
           "type": "scatter",
           "x": [
            0.9921147013144779
           ],
           "y": [
            0.12533323356430418
           ]
          },
          {
           "type": "scatter",
           "x": [
            0,
            1
           ],
           "y": [
            0.9921147013144779,
            0.9921147013144779
           ]
          },
          {
           "type": "scatter",
           "x": [
            0,
            0
           ],
           "y": [
            0,
            0.9921147013144779
           ]
          },
          {
           "type": "scatter",
           "x": [
            0
           ],
           "y": [
            0.9921147013144779
           ]
          }
         ],
         "name": "102"
        },
        {
         "data": [
          {
           "line": {
            "width": 3
           },
           "mode": "lines",
           "type": "scatter",
           "x": [
            0,
            0.9822872507286886
           ],
           "y": [
            0,
            0.18738131458572507
           ]
          },
          {
           "line": {
            "width": 3
           },
           "mode": "lines",
           "type": "scatter",
           "x": [
            0,
            0.9822872507286886
           ],
           "y": [
            0.18738131458572507,
            0.18738131458572507
           ]
          },
          {
           "mode": "markers",
           "type": "scatter",
           "x": [
            0.9822872507286886
           ],
           "y": [
            0.18738131458572507
           ]
          },
          {
           "type": "scatter",
           "x": [
            0,
            1
           ],
           "y": [
            0.9822872507286886,
            0.9822872507286886
           ]
          },
          {
           "type": "scatter",
           "x": [
            0,
            0
           ],
           "y": [
            0,
            0.9822872507286886
           ]
          },
          {
           "type": "scatter",
           "x": [
            0
           ],
           "y": [
            0.9822872507286886
           ]
          }
         ],
         "name": "103"
        },
        {
         "data": [
          {
           "line": {
            "width": 3
           },
           "mode": "lines",
           "type": "scatter",
           "x": [
            0,
            0.9685831611286311
           ],
           "y": [
            0,
            0.24868988716485488
           ]
          },
          {
           "line": {
            "width": 3
           },
           "mode": "lines",
           "type": "scatter",
           "x": [
            0,
            0.9685831611286311
           ],
           "y": [
            0.24868988716485488,
            0.24868988716485488
           ]
          },
          {
           "mode": "markers",
           "type": "scatter",
           "x": [
            0.9685831611286311
           ],
           "y": [
            0.24868988716485488
           ]
          },
          {
           "type": "scatter",
           "x": [
            0,
            1
           ],
           "y": [
            0.9685831611286311,
            0.9685831611286311
           ]
          },
          {
           "type": "scatter",
           "x": [
            0,
            0
           ],
           "y": [
            0,
            0.9685831611286311
           ]
          },
          {
           "type": "scatter",
           "x": [
            0
           ],
           "y": [
            0.9685831611286311
           ]
          }
         ],
         "name": "104"
        },
        {
         "data": [
          {
           "line": {
            "width": 3
           },
           "mode": "lines",
           "type": "scatter",
           "x": [
            0,
            0.9510565162951534
           ],
           "y": [
            0,
            0.309016994374948
           ]
          },
          {
           "line": {
            "width": 3
           },
           "mode": "lines",
           "type": "scatter",
           "x": [
            0,
            0.9510565162951534
           ],
           "y": [
            0.309016994374948,
            0.309016994374948
           ]
          },
          {
           "mode": "markers",
           "type": "scatter",
           "x": [
            0.9510565162951534
           ],
           "y": [
            0.309016994374948
           ]
          },
          {
           "type": "scatter",
           "x": [
            0,
            1
           ],
           "y": [
            0.9510565162951534,
            0.9510565162951534
           ]
          },
          {
           "type": "scatter",
           "x": [
            0,
            0
           ],
           "y": [
            0,
            0.9510565162951534
           ]
          },
          {
           "type": "scatter",
           "x": [
            0
           ],
           "y": [
            0.9510565162951534
           ]
          }
         ],
         "name": "105"
        },
        {
         "data": [
          {
           "line": {
            "width": 3
           },
           "mode": "lines",
           "type": "scatter",
           "x": [
            0,
            0.9297764858882513
           ],
           "y": [
            0,
            0.3681245526846782
           ]
          },
          {
           "line": {
            "width": 3
           },
           "mode": "lines",
           "type": "scatter",
           "x": [
            0,
            0.9297764858882513
           ],
           "y": [
            0.3681245526846782,
            0.3681245526846782
           ]
          },
          {
           "mode": "markers",
           "type": "scatter",
           "x": [
            0.9297764858882513
           ],
           "y": [
            0.3681245526846782
           ]
          },
          {
           "type": "scatter",
           "x": [
            0,
            1
           ],
           "y": [
            0.9297764858882513,
            0.9297764858882513
           ]
          },
          {
           "type": "scatter",
           "x": [
            0,
            0
           ],
           "y": [
            0,
            0.9297764858882513
           ]
          },
          {
           "type": "scatter",
           "x": [
            0
           ],
           "y": [
            0.9297764858882513
           ]
          }
         ],
         "name": "106"
        },
        {
         "data": [
          {
           "line": {
            "width": 3
           },
           "mode": "lines",
           "type": "scatter",
           "x": [
            0,
            0.9048270524660196
           ],
           "y": [
            0,
            0.42577929156507255
           ]
          },
          {
           "line": {
            "width": 3
           },
           "mode": "lines",
           "type": "scatter",
           "x": [
            0,
            0.9048270524660196
           ],
           "y": [
            0.42577929156507255,
            0.42577929156507255
           ]
          },
          {
           "mode": "markers",
           "type": "scatter",
           "x": [
            0.9048270524660196
           ],
           "y": [
            0.42577929156507255
           ]
          },
          {
           "type": "scatter",
           "x": [
            0,
            1
           ],
           "y": [
            0.9048270524660196,
            0.9048270524660196
           ]
          },
          {
           "type": "scatter",
           "x": [
            0,
            0
           ],
           "y": [
            0,
            0.9048270524660196
           ]
          },
          {
           "type": "scatter",
           "x": [
            0
           ],
           "y": [
            0.9048270524660196
           ]
          }
         ],
         "name": "107"
        },
        {
         "data": [
          {
           "line": {
            "width": 3
           },
           "mode": "lines",
           "type": "scatter",
           "x": [
            0,
            0.8763066800438634
           ],
           "y": [
            0,
            0.48175367410171566
           ]
          },
          {
           "line": {
            "width": 3
           },
           "mode": "lines",
           "type": "scatter",
           "x": [
            0,
            0.8763066800438634
           ],
           "y": [
            0.48175367410171566,
            0.48175367410171566
           ]
          },
          {
           "mode": "markers",
           "type": "scatter",
           "x": [
            0.8763066800438634
           ],
           "y": [
            0.48175367410171566
           ]
          },
          {
           "type": "scatter",
           "x": [
            0,
            1
           ],
           "y": [
            0.8763066800438634,
            0.8763066800438634
           ]
          },
          {
           "type": "scatter",
           "x": [
            0,
            0
           ],
           "y": [
            0,
            0.8763066800438634
           ]
          },
          {
           "type": "scatter",
           "x": [
            0
           ],
           "y": [
            0.8763066800438634
           ]
          }
         ],
         "name": "108"
        },
        {
         "data": [
          {
           "line": {
            "width": 3
           },
           "mode": "lines",
           "type": "scatter",
           "x": [
            0,
            0.8443279255020151
           ],
           "y": [
            0,
            0.5358267949789967
           ]
          },
          {
           "line": {
            "width": 3
           },
           "mode": "lines",
           "type": "scatter",
           "x": [
            0,
            0.8443279255020151
           ],
           "y": [
            0.5358267949789967,
            0.5358267949789967
           ]
          },
          {
           "mode": "markers",
           "type": "scatter",
           "x": [
            0.8443279255020151
           ],
           "y": [
            0.5358267949789967
           ]
          },
          {
           "type": "scatter",
           "x": [
            0,
            1
           ],
           "y": [
            0.8443279255020151,
            0.8443279255020151
           ]
          },
          {
           "type": "scatter",
           "x": [
            0,
            0
           ],
           "y": [
            0,
            0.8443279255020151
           ]
          },
          {
           "type": "scatter",
           "x": [
            0
           ],
           "y": [
            0.8443279255020151
           ]
          }
         ],
         "name": "109"
        },
        {
         "data": [
          {
           "line": {
            "width": 3
           },
           "mode": "lines",
           "type": "scatter",
           "x": [
            0,
            0.8090169943749471
           ],
           "y": [
            0,
            0.5877852522924736
           ]
          },
          {
           "line": {
            "width": 3
           },
           "mode": "lines",
           "type": "scatter",
           "x": [
            0,
            0.8090169943749471
           ],
           "y": [
            0.5877852522924736,
            0.5877852522924736
           ]
          },
          {
           "mode": "markers",
           "type": "scatter",
           "x": [
            0.8090169943749471
           ],
           "y": [
            0.5877852522924736
           ]
          },
          {
           "type": "scatter",
           "x": [
            0,
            1
           ],
           "y": [
            0.8090169943749471,
            0.8090169943749471
           ]
          },
          {
           "type": "scatter",
           "x": [
            0,
            0
           ],
           "y": [
            0,
            0.8090169943749471
           ]
          },
          {
           "type": "scatter",
           "x": [
            0
           ],
           "y": [
            0.8090169943749471
           ]
          }
         ],
         "name": "110"
        },
        {
         "data": [
          {
           "line": {
            "width": 3
           },
           "mode": "lines",
           "type": "scatter",
           "x": [
            0,
            0.770513242775789
           ],
           "y": [
            0,
            0.63742398974869
           ]
          },
          {
           "line": {
            "width": 3
           },
           "mode": "lines",
           "type": "scatter",
           "x": [
            0,
            0.770513242775789
           ],
           "y": [
            0.63742398974869,
            0.63742398974869
           ]
          },
          {
           "mode": "markers",
           "type": "scatter",
           "x": [
            0.770513242775789
           ],
           "y": [
            0.63742398974869
           ]
          },
          {
           "type": "scatter",
           "x": [
            0,
            1
           ],
           "y": [
            0.770513242775789,
            0.770513242775789
           ]
          },
          {
           "type": "scatter",
           "x": [
            0,
            0
           ],
           "y": [
            0,
            0.770513242775789
           ]
          },
          {
           "type": "scatter",
           "x": [
            0
           ],
           "y": [
            0.770513242775789
           ]
          }
         ],
         "name": "111"
        },
        {
         "data": [
          {
           "line": {
            "width": 3
           },
           "mode": "lines",
           "type": "scatter",
           "x": [
            0,
            0.728968627421411
           ],
           "y": [
            0,
            0.6845471059286893
           ]
          },
          {
           "line": {
            "width": 3
           },
           "mode": "lines",
           "type": "scatter",
           "x": [
            0,
            0.728968627421411
           ],
           "y": [
            0.6845471059286893,
            0.6845471059286893
           ]
          },
          {
           "mode": "markers",
           "type": "scatter",
           "x": [
            0.728968627421411
           ],
           "y": [
            0.6845471059286893
           ]
          },
          {
           "type": "scatter",
           "x": [
            0,
            1
           ],
           "y": [
            0.728968627421411,
            0.728968627421411
           ]
          },
          {
           "type": "scatter",
           "x": [
            0,
            0
           ],
           "y": [
            0,
            0.728968627421411
           ]
          },
          {
           "type": "scatter",
           "x": [
            0
           ],
           "y": [
            0.728968627421411
           ]
          }
         ],
         "name": "112"
        },
        {
         "data": [
          {
           "line": {
            "width": 3
           },
           "mode": "lines",
           "type": "scatter",
           "x": [
            0,
            0.6845471059286884
           ],
           "y": [
            0,
            0.7289686274214119
           ]
          },
          {
           "line": {
            "width": 3
           },
           "mode": "lines",
           "type": "scatter",
           "x": [
            0,
            0.6845471059286884
           ],
           "y": [
            0.7289686274214119,
            0.7289686274214119
           ]
          },
          {
           "mode": "markers",
           "type": "scatter",
           "x": [
            0.6845471059286884
           ],
           "y": [
            0.7289686274214119
           ]
          },
          {
           "type": "scatter",
           "x": [
            0,
            1
           ],
           "y": [
            0.6845471059286884,
            0.6845471059286884
           ]
          },
          {
           "type": "scatter",
           "x": [
            0,
            0
           ],
           "y": [
            0,
            0.6845471059286884
           ]
          },
          {
           "type": "scatter",
           "x": [
            0
           ],
           "y": [
            0.6845471059286884
           ]
          }
         ],
         "name": "113"
        },
        {
         "data": [
          {
           "line": {
            "width": 3
           },
           "mode": "lines",
           "type": "scatter",
           "x": [
            0,
            0.6374239897486896
           ],
           "y": [
            0,
            0.7705132427757893
           ]
          },
          {
           "line": {
            "width": 3
           },
           "mode": "lines",
           "type": "scatter",
           "x": [
            0,
            0.6374239897486896
           ],
           "y": [
            0.7705132427757893,
            0.7705132427757893
           ]
          },
          {
           "mode": "markers",
           "type": "scatter",
           "x": [
            0.6374239897486896
           ],
           "y": [
            0.7705132427757893
           ]
          },
          {
           "type": "scatter",
           "x": [
            0,
            1
           ],
           "y": [
            0.6374239897486896,
            0.6374239897486896
           ]
          },
          {
           "type": "scatter",
           "x": [
            0,
            0
           ],
           "y": [
            0,
            0.6374239897486896
           ]
          },
          {
           "type": "scatter",
           "x": [
            0
           ],
           "y": [
            0.6374239897486896
           ]
          }
         ],
         "name": "114"
        },
        {
         "data": [
          {
           "line": {
            "width": 3
           },
           "mode": "lines",
           "type": "scatter",
           "x": [
            0,
            0.5877852522924727
           ],
           "y": [
            0,
            0.8090169943749478
           ]
          },
          {
           "line": {
            "width": 3
           },
           "mode": "lines",
           "type": "scatter",
           "x": [
            0,
            0.5877852522924727
           ],
           "y": [
            0.8090169943749478,
            0.8090169943749478
           ]
          },
          {
           "mode": "markers",
           "type": "scatter",
           "x": [
            0.5877852522924727
           ],
           "y": [
            0.8090169943749478
           ]
          },
          {
           "type": "scatter",
           "x": [
            0,
            1
           ],
           "y": [
            0.5877852522924727,
            0.5877852522924727
           ]
          },
          {
           "type": "scatter",
           "x": [
            0,
            0
           ],
           "y": [
            0,
            0.5877852522924727
           ]
          },
          {
           "type": "scatter",
           "x": [
            0
           ],
           "y": [
            0.5877852522924727
           ]
          }
         ],
         "name": "115"
        },
        {
         "data": [
          {
           "line": {
            "width": 3
           },
           "mode": "lines",
           "type": "scatter",
           "x": [
            0,
            0.5358267949789964
           ],
           "y": [
            0,
            0.8443279255020152
           ]
          },
          {
           "line": {
            "width": 3
           },
           "mode": "lines",
           "type": "scatter",
           "x": [
            0,
            0.5358267949789964
           ],
           "y": [
            0.8443279255020152,
            0.8443279255020152
           ]
          },
          {
           "mode": "markers",
           "type": "scatter",
           "x": [
            0.5358267949789964
           ],
           "y": [
            0.8443279255020152
           ]
          },
          {
           "type": "scatter",
           "x": [
            0,
            1
           ],
           "y": [
            0.5358267949789964,
            0.5358267949789964
           ]
          },
          {
           "type": "scatter",
           "x": [
            0,
            0
           ],
           "y": [
            0,
            0.5358267949789964
           ]
          },
          {
           "type": "scatter",
           "x": [
            0
           ],
           "y": [
            0.5358267949789964
           ]
          }
         ],
         "name": "116"
        },
        {
         "data": [
          {
           "line": {
            "width": 3
           },
           "mode": "lines",
           "type": "scatter",
           "x": [
            0,
            0.4817536741017146
           ],
           "y": [
            0,
            0.8763066800438639
           ]
          },
          {
           "line": {
            "width": 3
           },
           "mode": "lines",
           "type": "scatter",
           "x": [
            0,
            0.4817536741017146
           ],
           "y": [
            0.8763066800438639,
            0.8763066800438639
           ]
          },
          {
           "mode": "markers",
           "type": "scatter",
           "x": [
            0.4817536741017146
           ],
           "y": [
            0.8763066800438639
           ]
          },
          {
           "type": "scatter",
           "x": [
            0,
            1
           ],
           "y": [
            0.4817536741017146,
            0.4817536741017146
           ]
          },
          {
           "type": "scatter",
           "x": [
            0,
            0
           ],
           "y": [
            0,
            0.4817536741017146
           ]
          },
          {
           "type": "scatter",
           "x": [
            0
           ],
           "y": [
            0.4817536741017146
           ]
          }
         ],
         "name": "117"
        },
        {
         "data": [
          {
           "line": {
            "width": 3
           },
           "mode": "lines",
           "type": "scatter",
           "x": [
            0,
            0.42577929156507227
           ],
           "y": [
            0,
            0.9048270524660197
           ]
          },
          {
           "line": {
            "width": 3
           },
           "mode": "lines",
           "type": "scatter",
           "x": [
            0,
            0.42577929156507227
           ],
           "y": [
            0.9048270524660197,
            0.9048270524660197
           ]
          },
          {
           "mode": "markers",
           "type": "scatter",
           "x": [
            0.42577929156507227
           ],
           "y": [
            0.9048270524660197
           ]
          },
          {
           "type": "scatter",
           "x": [
            0,
            1
           ],
           "y": [
            0.42577929156507227,
            0.42577929156507227
           ]
          },
          {
           "type": "scatter",
           "x": [
            0,
            0
           ],
           "y": [
            0,
            0.42577929156507227
           ]
          },
          {
           "type": "scatter",
           "x": [
            0
           ],
           "y": [
            0.42577929156507227
           ]
          }
         ],
         "name": "118"
        },
        {
         "data": [
          {
           "line": {
            "width": 3
           },
           "mode": "lines",
           "type": "scatter",
           "x": [
            0,
            0.3681245526846779
           ],
           "y": [
            0,
            0.9297764858882515
           ]
          },
          {
           "line": {
            "width": 3
           },
           "mode": "lines",
           "type": "scatter",
           "x": [
            0,
            0.3681245526846779
           ],
           "y": [
            0.9297764858882515,
            0.9297764858882515
           ]
          },
          {
           "mode": "markers",
           "type": "scatter",
           "x": [
            0.3681245526846779
           ],
           "y": [
            0.9297764858882515
           ]
          },
          {
           "type": "scatter",
           "x": [
            0,
            1
           ],
           "y": [
            0.3681245526846779,
            0.3681245526846779
           ]
          },
          {
           "type": "scatter",
           "x": [
            0,
            0
           ],
           "y": [
            0,
            0.3681245526846779
           ]
          },
          {
           "type": "scatter",
           "x": [
            0
           ],
           "y": [
            0.3681245526846779
           ]
          }
         ],
         "name": "119"
        },
        {
         "data": [
          {
           "line": {
            "width": 3
           },
           "mode": "lines",
           "type": "scatter",
           "x": [
            0,
            0.30901699437494684
           ],
           "y": [
            0,
            0.9510565162951538
           ]
          },
          {
           "line": {
            "width": 3
           },
           "mode": "lines",
           "type": "scatter",
           "x": [
            0,
            0.30901699437494684
           ],
           "y": [
            0.9510565162951538,
            0.9510565162951538
           ]
          },
          {
           "mode": "markers",
           "type": "scatter",
           "x": [
            0.30901699437494684
           ],
           "y": [
            0.9510565162951538
           ]
          },
          {
           "type": "scatter",
           "x": [
            0,
            1
           ],
           "y": [
            0.30901699437494684,
            0.30901699437494684
           ]
          },
          {
           "type": "scatter",
           "x": [
            0,
            0
           ],
           "y": [
            0,
            0.30901699437494684
           ]
          },
          {
           "type": "scatter",
           "x": [
            0
           ],
           "y": [
            0.30901699437494684
           ]
          }
         ],
         "name": "120"
        },
        {
         "data": [
          {
           "line": {
            "width": 3
           },
           "mode": "lines",
           "type": "scatter",
           "x": [
            0,
            0.24868988716485457
           ],
           "y": [
            0,
            0.9685831611286312
           ]
          },
          {
           "line": {
            "width": 3
           },
           "mode": "lines",
           "type": "scatter",
           "x": [
            0,
            0.24868988716485457
           ],
           "y": [
            0.9685831611286312,
            0.9685831611286312
           ]
          },
          {
           "mode": "markers",
           "type": "scatter",
           "x": [
            0.24868988716485457
           ],
           "y": [
            0.9685831611286312
           ]
          },
          {
           "type": "scatter",
           "x": [
            0,
            1
           ],
           "y": [
            0.24868988716485457,
            0.24868988716485457
           ]
          },
          {
           "type": "scatter",
           "x": [
            0,
            0
           ],
           "y": [
            0,
            0.24868988716485457
           ]
          },
          {
           "type": "scatter",
           "x": [
            0
           ],
           "y": [
            0.24868988716485457
           ]
          }
         ],
         "name": "121"
        },
        {
         "data": [
          {
           "line": {
            "width": 3
           },
           "mode": "lines",
           "type": "scatter",
           "x": [
            0,
            0.18738131458572388
           ],
           "y": [
            0,
            0.9822872507286888
           ]
          },
          {
           "line": {
            "width": 3
           },
           "mode": "lines",
           "type": "scatter",
           "x": [
            0,
            0.18738131458572388
           ],
           "y": [
            0.9822872507286888,
            0.9822872507286888
           ]
          },
          {
           "mode": "markers",
           "type": "scatter",
           "x": [
            0.18738131458572388
           ],
           "y": [
            0.9822872507286888
           ]
          },
          {
           "type": "scatter",
           "x": [
            0,
            1
           ],
           "y": [
            0.18738131458572388,
            0.18738131458572388
           ]
          },
          {
           "type": "scatter",
           "x": [
            0,
            0
           ],
           "y": [
            0,
            0.18738131458572388
           ]
          },
          {
           "type": "scatter",
           "x": [
            0
           ],
           "y": [
            0.18738131458572388
           ]
          }
         ],
         "name": "122"
        },
        {
         "data": [
          {
           "line": {
            "width": 3
           },
           "mode": "lines",
           "type": "scatter",
           "x": [
            0,
            0.12533323356430384
           ],
           "y": [
            0,
            0.9921147013144779
           ]
          },
          {
           "line": {
            "width": 3
           },
           "mode": "lines",
           "type": "scatter",
           "x": [
            0,
            0.12533323356430384
           ],
           "y": [
            0.9921147013144779,
            0.9921147013144779
           ]
          },
          {
           "mode": "markers",
           "type": "scatter",
           "x": [
            0.12533323356430384
           ],
           "y": [
            0.9921147013144779
           ]
          },
          {
           "type": "scatter",
           "x": [
            0,
            1
           ],
           "y": [
            0.12533323356430384,
            0.12533323356430384
           ]
          },
          {
           "type": "scatter",
           "x": [
            0,
            0
           ],
           "y": [
            0,
            0.12533323356430384
           ]
          },
          {
           "type": "scatter",
           "x": [
            0
           ],
           "y": [
            0.12533323356430384
           ]
          }
         ],
         "name": "123"
        },
        {
         "data": [
          {
           "line": {
            "width": 3
           },
           "mode": "lines",
           "type": "scatter",
           "x": [
            0,
            0.06279051952931332
           ],
           "y": [
            0,
            0.9980267284282716
           ]
          },
          {
           "line": {
            "width": 3
           },
           "mode": "lines",
           "type": "scatter",
           "x": [
            0,
            0.06279051952931332
           ],
           "y": [
            0.9980267284282716,
            0.9980267284282716
           ]
          },
          {
           "mode": "markers",
           "type": "scatter",
           "x": [
            0.06279051952931332
           ],
           "y": [
            0.9980267284282716
           ]
          },
          {
           "type": "scatter",
           "x": [
            0,
            1
           ],
           "y": [
            0.06279051952931332,
            0.06279051952931332
           ]
          },
          {
           "type": "scatter",
           "x": [
            0,
            0
           ],
           "y": [
            0,
            0.06279051952931332
           ]
          },
          {
           "type": "scatter",
           "x": [
            0
           ],
           "y": [
            0.06279051952931332
           ]
          }
         ],
         "name": "124"
        },
        {
         "data": [
          {
           "line": {
            "width": 3
           },
           "mode": "lines",
           "type": "scatter",
           "x": [
            0,
            -5.82016719913287e-16
           ],
           "y": [
            0,
            1
           ]
          },
          {
           "line": {
            "width": 3
           },
           "mode": "lines",
           "type": "scatter",
           "x": [
            0,
            -5.82016719913287e-16
           ],
           "y": [
            1,
            1
           ]
          },
          {
           "mode": "markers",
           "type": "scatter",
           "x": [
            -5.82016719913287e-16
           ],
           "y": [
            1
           ]
          },
          {
           "type": "scatter",
           "x": [
            0,
            1
           ],
           "y": [
            -5.82016719913287e-16,
            -5.82016719913287e-16
           ]
          },
          {
           "type": "scatter",
           "x": [
            0,
            0
           ],
           "y": [
            0,
            -5.82016719913287e-16
           ]
          },
          {
           "type": "scatter",
           "x": [
            0
           ],
           "y": [
            -5.82016719913287e-16
           ]
          }
         ],
         "name": "125"
        },
        {
         "data": [
          {
           "line": {
            "width": 3
           },
           "mode": "lines",
           "type": "scatter",
           "x": [
            0,
            -0.0627905195293136
           ],
           "y": [
            0,
            0.9980267284282716
           ]
          },
          {
           "line": {
            "width": 3
           },
           "mode": "lines",
           "type": "scatter",
           "x": [
            0,
            -0.0627905195293136
           ],
           "y": [
            0.9980267284282716,
            0.9980267284282716
           ]
          },
          {
           "mode": "markers",
           "type": "scatter",
           "x": [
            -0.0627905195293136
           ],
           "y": [
            0.9980267284282716
           ]
          },
          {
           "type": "scatter",
           "x": [
            0,
            1
           ],
           "y": [
            -0.0627905195293136,
            -0.0627905195293136
           ]
          },
          {
           "type": "scatter",
           "x": [
            0,
            0
           ],
           "y": [
            0,
            -0.0627905195293136
           ]
          },
          {
           "type": "scatter",
           "x": [
            0
           ],
           "y": [
            -0.0627905195293136
           ]
          }
         ],
         "name": "126"
        },
        {
         "data": [
          {
           "line": {
            "width": 3
           },
           "mode": "lines",
           "type": "scatter",
           "x": [
            0,
            -0.125333233564305
           ],
           "y": [
            0,
            0.9921147013144778
           ]
          },
          {
           "line": {
            "width": 3
           },
           "mode": "lines",
           "type": "scatter",
           "x": [
            0,
            -0.125333233564305
           ],
           "y": [
            0.9921147013144778,
            0.9921147013144778
           ]
          },
          {
           "mode": "markers",
           "type": "scatter",
           "x": [
            -0.125333233564305
           ],
           "y": [
            0.9921147013144778
           ]
          },
          {
           "type": "scatter",
           "x": [
            0,
            1
           ],
           "y": [
            -0.125333233564305,
            -0.125333233564305
           ]
          },
          {
           "type": "scatter",
           "x": [
            0,
            0
           ],
           "y": [
            0,
            -0.125333233564305
           ]
          },
          {
           "type": "scatter",
           "x": [
            0
           ],
           "y": [
            -0.125333233564305
           ]
          }
         ],
         "name": "127"
        },
        {
         "data": [
          {
           "line": {
            "width": 3
           },
           "mode": "lines",
           "type": "scatter",
           "x": [
            0,
            -0.18738131458572502
           ],
           "y": [
            0,
            0.9822872507286886
           ]
          },
          {
           "line": {
            "width": 3
           },
           "mode": "lines",
           "type": "scatter",
           "x": [
            0,
            -0.18738131458572502
           ],
           "y": [
            0.9822872507286886,
            0.9822872507286886
           ]
          },
          {
           "mode": "markers",
           "type": "scatter",
           "x": [
            -0.18738131458572502
           ],
           "y": [
            0.9822872507286886
           ]
          },
          {
           "type": "scatter",
           "x": [
            0,
            1
           ],
           "y": [
            -0.18738131458572502,
            -0.18738131458572502
           ]
          },
          {
           "type": "scatter",
           "x": [
            0,
            0
           ],
           "y": [
            0,
            -0.18738131458572502
           ]
          },
          {
           "type": "scatter",
           "x": [
            0
           ],
           "y": [
            -0.18738131458572502
           ]
          }
         ],
         "name": "128"
        },
        {
         "data": [
          {
           "line": {
            "width": 3
           },
           "mode": "lines",
           "type": "scatter",
           "x": [
            0,
            -0.24868988716485482
           ],
           "y": [
            0,
            0.9685831611286311
           ]
          },
          {
           "line": {
            "width": 3
           },
           "mode": "lines",
           "type": "scatter",
           "x": [
            0,
            -0.24868988716485482
           ],
           "y": [
            0.9685831611286311,
            0.9685831611286311
           ]
          },
          {
           "mode": "markers",
           "type": "scatter",
           "x": [
            -0.24868988716485482
           ],
           "y": [
            0.9685831611286311
           ]
          },
          {
           "type": "scatter",
           "x": [
            0,
            1
           ],
           "y": [
            -0.24868988716485482,
            -0.24868988716485482
           ]
          },
          {
           "type": "scatter",
           "x": [
            0,
            0
           ],
           "y": [
            0,
            -0.24868988716485482
           ]
          },
          {
           "type": "scatter",
           "x": [
            0
           ],
           "y": [
            -0.24868988716485482
           ]
          }
         ],
         "name": "129"
        },
        {
         "data": [
          {
           "line": {
            "width": 3
           },
           "mode": "lines",
           "type": "scatter",
           "x": [
            0,
            -0.3090169943749471
           ],
           "y": [
            0,
            0.9510565162951536
           ]
          },
          {
           "line": {
            "width": 3
           },
           "mode": "lines",
           "type": "scatter",
           "x": [
            0,
            -0.3090169943749471
           ],
           "y": [
            0.9510565162951536,
            0.9510565162951536
           ]
          },
          {
           "mode": "markers",
           "type": "scatter",
           "x": [
            -0.3090169943749471
           ],
           "y": [
            0.9510565162951536
           ]
          },
          {
           "type": "scatter",
           "x": [
            0,
            1
           ],
           "y": [
            -0.3090169943749471,
            -0.3090169943749471
           ]
          },
          {
           "type": "scatter",
           "x": [
            0,
            0
           ],
           "y": [
            0,
            -0.3090169943749471
           ]
          },
          {
           "type": "scatter",
           "x": [
            0
           ],
           "y": [
            -0.3090169943749471
           ]
          }
         ],
         "name": "130"
        },
        {
         "data": [
          {
           "line": {
            "width": 3
           },
           "mode": "lines",
           "type": "scatter",
           "x": [
            0,
            -0.368124552684679
           ],
           "y": [
            0,
            0.929776485888251
           ]
          },
          {
           "line": {
            "width": 3
           },
           "mode": "lines",
           "type": "scatter",
           "x": [
            0,
            -0.368124552684679
           ],
           "y": [
            0.929776485888251,
            0.929776485888251
           ]
          },
          {
           "mode": "markers",
           "type": "scatter",
           "x": [
            -0.368124552684679
           ],
           "y": [
            0.929776485888251
           ]
          },
          {
           "type": "scatter",
           "x": [
            0,
            1
           ],
           "y": [
            -0.368124552684679,
            -0.368124552684679
           ]
          },
          {
           "type": "scatter",
           "x": [
            0,
            0
           ],
           "y": [
            0,
            -0.368124552684679
           ]
          },
          {
           "type": "scatter",
           "x": [
            0
           ],
           "y": [
            -0.368124552684679
           ]
          }
         ],
         "name": "131"
        },
        {
         "data": [
          {
           "line": {
            "width": 3
           },
           "mode": "lines",
           "type": "scatter",
           "x": [
            0,
            -0.4257792915650733
           ],
           "y": [
            0,
            0.9048270524660192
           ]
          },
          {
           "line": {
            "width": 3
           },
           "mode": "lines",
           "type": "scatter",
           "x": [
            0,
            -0.4257792915650733
           ],
           "y": [
            0.9048270524660192,
            0.9048270524660192
           ]
          },
          {
           "mode": "markers",
           "type": "scatter",
           "x": [
            -0.4257792915650733
           ],
           "y": [
            0.9048270524660192
           ]
          },
          {
           "type": "scatter",
           "x": [
            0,
            1
           ],
           "y": [
            -0.4257792915650733,
            -0.4257792915650733
           ]
          },
          {
           "type": "scatter",
           "x": [
            0,
            0
           ],
           "y": [
            0,
            -0.4257792915650733
           ]
          },
          {
           "type": "scatter",
           "x": [
            0
           ],
           "y": [
            -0.4257792915650733
           ]
          }
         ],
         "name": "132"
        },
        {
         "data": [
          {
           "line": {
            "width": 3
           },
           "mode": "lines",
           "type": "scatter",
           "x": [
            0,
            -0.4817536741017156
           ],
           "y": [
            0,
            0.8763066800438634
           ]
          },
          {
           "line": {
            "width": 3
           },
           "mode": "lines",
           "type": "scatter",
           "x": [
            0,
            -0.4817536741017156
           ],
           "y": [
            0.8763066800438634,
            0.8763066800438634
           ]
          },
          {
           "mode": "markers",
           "type": "scatter",
           "x": [
            -0.4817536741017156
           ],
           "y": [
            0.8763066800438634
           ]
          },
          {
           "type": "scatter",
           "x": [
            0,
            1
           ],
           "y": [
            -0.4817536741017156,
            -0.4817536741017156
           ]
          },
          {
           "type": "scatter",
           "x": [
            0,
            0
           ],
           "y": [
            0,
            -0.4817536741017156
           ]
          },
          {
           "type": "scatter",
           "x": [
            0
           ],
           "y": [
            -0.4817536741017156
           ]
          }
         ],
         "name": "133"
        },
        {
         "data": [
          {
           "line": {
            "width": 3
           },
           "mode": "lines",
           "type": "scatter",
           "x": [
            0,
            -0.5358267949789967
           ],
           "y": [
            0,
            0.8443279255020151
           ]
          },
          {
           "line": {
            "width": 3
           },
           "mode": "lines",
           "type": "scatter",
           "x": [
            0,
            -0.5358267949789967
           ],
           "y": [
            0.8443279255020151,
            0.8443279255020151
           ]
          },
          {
           "mode": "markers",
           "type": "scatter",
           "x": [
            -0.5358267949789967
           ],
           "y": [
            0.8443279255020151
           ]
          },
          {
           "type": "scatter",
           "x": [
            0,
            1
           ],
           "y": [
            -0.5358267949789967,
            -0.5358267949789967
           ]
          },
          {
           "type": "scatter",
           "x": [
            0,
            0
           ],
           "y": [
            0,
            -0.5358267949789967
           ]
          },
          {
           "type": "scatter",
           "x": [
            0
           ],
           "y": [
            -0.5358267949789967
           ]
          }
         ],
         "name": "134"
        },
        {
         "data": [
          {
           "line": {
            "width": 3
           },
           "mode": "lines",
           "type": "scatter",
           "x": [
            0,
            -0.5877852522924729
           ],
           "y": [
            0,
            0.8090169943749476
           ]
          },
          {
           "line": {
            "width": 3
           },
           "mode": "lines",
           "type": "scatter",
           "x": [
            0,
            -0.5877852522924729
           ],
           "y": [
            0.8090169943749476,
            0.8090169943749476
           ]
          },
          {
           "mode": "markers",
           "type": "scatter",
           "x": [
            -0.5877852522924729
           ],
           "y": [
            0.8090169943749476
           ]
          },
          {
           "type": "scatter",
           "x": [
            0,
            1
           ],
           "y": [
            -0.5877852522924729,
            -0.5877852522924729
           ]
          },
          {
           "type": "scatter",
           "x": [
            0,
            0
           ],
           "y": [
            0,
            -0.5877852522924729
           ]
          },
          {
           "type": "scatter",
           "x": [
            0
           ],
           "y": [
            -0.5877852522924729
           ]
          }
         ],
         "name": "135"
        },
        {
         "data": [
          {
           "line": {
            "width": 3
           },
           "mode": "lines",
           "type": "scatter",
           "x": [
            0,
            -0.6374239897486905
           ],
           "y": [
            0,
            0.7705132427757886
           ]
          },
          {
           "line": {
            "width": 3
           },
           "mode": "lines",
           "type": "scatter",
           "x": [
            0,
            -0.6374239897486905
           ],
           "y": [
            0.7705132427757886,
            0.7705132427757886
           ]
          },
          {
           "mode": "markers",
           "type": "scatter",
           "x": [
            -0.6374239897486905
           ],
           "y": [
            0.7705132427757886
           ]
          },
          {
           "type": "scatter",
           "x": [
            0,
            1
           ],
           "y": [
            -0.6374239897486905,
            -0.6374239897486905
           ]
          },
          {
           "type": "scatter",
           "x": [
            0,
            0
           ],
           "y": [
            0,
            -0.6374239897486905
           ]
          },
          {
           "type": "scatter",
           "x": [
            0
           ],
           "y": [
            -0.6374239897486905
           ]
          }
         ],
         "name": "136"
        },
        {
         "data": [
          {
           "line": {
            "width": 3
           },
           "mode": "lines",
           "type": "scatter",
           "x": [
            0,
            -0.6845471059286892
           ],
           "y": [
            0,
            0.728968627421411
           ]
          },
          {
           "line": {
            "width": 3
           },
           "mode": "lines",
           "type": "scatter",
           "x": [
            0,
            -0.6845471059286892
           ],
           "y": [
            0.728968627421411,
            0.728968627421411
           ]
          },
          {
           "mode": "markers",
           "type": "scatter",
           "x": [
            -0.6845471059286892
           ],
           "y": [
            0.728968627421411
           ]
          },
          {
           "type": "scatter",
           "x": [
            0,
            1
           ],
           "y": [
            -0.6845471059286892,
            -0.6845471059286892
           ]
          },
          {
           "type": "scatter",
           "x": [
            0,
            0
           ],
           "y": [
            0,
            -0.6845471059286892
           ]
          },
          {
           "type": "scatter",
           "x": [
            0
           ],
           "y": [
            -0.6845471059286892
           ]
          }
         ],
         "name": "137"
        },
        {
         "data": [
          {
           "line": {
            "width": 3
           },
           "mode": "lines",
           "type": "scatter",
           "x": [
            0,
            -0.7289686274214118
           ],
           "y": [
            0,
            0.6845471059286884
           ]
          },
          {
           "line": {
            "width": 3
           },
           "mode": "lines",
           "type": "scatter",
           "x": [
            0,
            -0.7289686274214118
           ],
           "y": [
            0.6845471059286884,
            0.6845471059286884
           ]
          },
          {
           "mode": "markers",
           "type": "scatter",
           "x": [
            -0.7289686274214118
           ],
           "y": [
            0.6845471059286884
           ]
          },
          {
           "type": "scatter",
           "x": [
            0,
            1
           ],
           "y": [
            -0.7289686274214118,
            -0.7289686274214118
           ]
          },
          {
           "type": "scatter",
           "x": [
            0,
            0
           ],
           "y": [
            0,
            -0.7289686274214118
           ]
          },
          {
           "type": "scatter",
           "x": [
            0
           ],
           "y": [
            -0.7289686274214118
           ]
          }
         ],
         "name": "138"
        },
        {
         "data": [
          {
           "line": {
            "width": 3
           },
           "mode": "lines",
           "type": "scatter",
           "x": [
            0,
            -0.7705132427757893
           ],
           "y": [
            0,
            0.6374239897486897
           ]
          },
          {
           "line": {
            "width": 3
           },
           "mode": "lines",
           "type": "scatter",
           "x": [
            0,
            -0.7705132427757893
           ],
           "y": [
            0.6374239897486897,
            0.6374239897486897
           ]
          },
          {
           "mode": "markers",
           "type": "scatter",
           "x": [
            -0.7705132427757893
           ],
           "y": [
            0.6374239897486897
           ]
          },
          {
           "type": "scatter",
           "x": [
            0,
            1
           ],
           "y": [
            -0.7705132427757893,
            -0.7705132427757893
           ]
          },
          {
           "type": "scatter",
           "x": [
            0,
            0
           ],
           "y": [
            0,
            -0.7705132427757893
           ]
          },
          {
           "type": "scatter",
           "x": [
            0
           ],
           "y": [
            -0.7705132427757893
           ]
          }
         ],
         "name": "139"
        },
        {
         "data": [
          {
           "line": {
            "width": 3
           },
           "mode": "lines",
           "type": "scatter",
           "x": [
            0,
            -0.8090169943749472
           ],
           "y": [
            0,
            0.5877852522924734
           ]
          },
          {
           "line": {
            "width": 3
           },
           "mode": "lines",
           "type": "scatter",
           "x": [
            0,
            -0.8090169943749472
           ],
           "y": [
            0.5877852522924734,
            0.5877852522924734
           ]
          },
          {
           "mode": "markers",
           "type": "scatter",
           "x": [
            -0.8090169943749472
           ],
           "y": [
            0.5877852522924734
           ]
          },
          {
           "type": "scatter",
           "x": [
            0,
            1
           ],
           "y": [
            -0.8090169943749472,
            -0.8090169943749472
           ]
          },
          {
           "type": "scatter",
           "x": [
            0,
            0
           ],
           "y": [
            0,
            -0.8090169943749472
           ]
          },
          {
           "type": "scatter",
           "x": [
            0
           ],
           "y": [
            -0.8090169943749472
           ]
          }
         ],
         "name": "140"
        },
        {
         "data": [
          {
           "line": {
            "width": 3
           },
           "mode": "lines",
           "type": "scatter",
           "x": [
            0,
            -0.8443279255020156
           ],
           "y": [
            0,
            0.5358267949789957
           ]
          },
          {
           "line": {
            "width": 3
           },
           "mode": "lines",
           "type": "scatter",
           "x": [
            0,
            -0.8443279255020156
           ],
           "y": [
            0.5358267949789957,
            0.5358267949789957
           ]
          },
          {
           "mode": "markers",
           "type": "scatter",
           "x": [
            -0.8443279255020156
           ],
           "y": [
            0.5358267949789957
           ]
          },
          {
           "type": "scatter",
           "x": [
            0,
            1
           ],
           "y": [
            -0.8443279255020156,
            -0.8443279255020156
           ]
          },
          {
           "type": "scatter",
           "x": [
            0,
            0
           ],
           "y": [
            0,
            -0.8443279255020156
           ]
          },
          {
           "type": "scatter",
           "x": [
            0
           ],
           "y": [
            -0.8443279255020156
           ]
          }
         ],
         "name": "141"
        },
        {
         "data": [
          {
           "line": {
            "width": 3
           },
           "mode": "lines",
           "type": "scatter",
           "x": [
            0,
            -0.8763066800438639
           ],
           "y": [
            0,
            0.48175367410171466
           ]
          },
          {
           "line": {
            "width": 3
           },
           "mode": "lines",
           "type": "scatter",
           "x": [
            0,
            -0.8763066800438639
           ],
           "y": [
            0.48175367410171466,
            0.48175367410171466
           ]
          },
          {
           "mode": "markers",
           "type": "scatter",
           "x": [
            -0.8763066800438639
           ],
           "y": [
            0.48175367410171466
           ]
          },
          {
           "type": "scatter",
           "x": [
            0,
            1
           ],
           "y": [
            -0.8763066800438639,
            -0.8763066800438639
           ]
          },
          {
           "type": "scatter",
           "x": [
            0,
            0
           ],
           "y": [
            0,
            -0.8763066800438639
           ]
          },
          {
           "type": "scatter",
           "x": [
            0
           ],
           "y": [
            -0.8763066800438639
           ]
          }
         ],
         "name": "142"
        },
        {
         "data": [
          {
           "line": {
            "width": 3
           },
           "mode": "lines",
           "type": "scatter",
           "x": [
            0,
            -0.9048270524660197
           ],
           "y": [
            0,
            0.4257792915650723
           ]
          },
          {
           "line": {
            "width": 3
           },
           "mode": "lines",
           "type": "scatter",
           "x": [
            0,
            -0.9048270524660197
           ],
           "y": [
            0.4257792915650723,
            0.4257792915650723
           ]
          },
          {
           "mode": "markers",
           "type": "scatter",
           "x": [
            -0.9048270524660197
           ],
           "y": [
            0.4257792915650723
           ]
          },
          {
           "type": "scatter",
           "x": [
            0,
            1
           ],
           "y": [
            -0.9048270524660197,
            -0.9048270524660197
           ]
          },
          {
           "type": "scatter",
           "x": [
            0,
            0
           ],
           "y": [
            0,
            -0.9048270524660197
           ]
          },
          {
           "type": "scatter",
           "x": [
            0
           ],
           "y": [
            -0.9048270524660197
           ]
          }
         ],
         "name": "143"
        },
        {
         "data": [
          {
           "line": {
            "width": 3
           },
           "mode": "lines",
           "type": "scatter",
           "x": [
            0,
            -0.9297764858882515
           ],
           "y": [
            0,
            0.368124552684678
           ]
          },
          {
           "line": {
            "width": 3
           },
           "mode": "lines",
           "type": "scatter",
           "x": [
            0,
            -0.9297764858882515
           ],
           "y": [
            0.368124552684678,
            0.368124552684678
           ]
          },
          {
           "mode": "markers",
           "type": "scatter",
           "x": [
            -0.9297764858882515
           ],
           "y": [
            0.368124552684678
           ]
          },
          {
           "type": "scatter",
           "x": [
            0,
            1
           ],
           "y": [
            -0.9297764858882515,
            -0.9297764858882515
           ]
          },
          {
           "type": "scatter",
           "x": [
            0,
            0
           ],
           "y": [
            0,
            -0.9297764858882515
           ]
          },
          {
           "type": "scatter",
           "x": [
            0
           ],
           "y": [
            -0.9297764858882515
           ]
          }
         ],
         "name": "144"
        },
        {
         "data": [
          {
           "line": {
            "width": 3
           },
           "mode": "lines",
           "type": "scatter",
           "x": [
            0,
            -0.9510565162951534
           ],
           "y": [
            0,
            0.3090169943749478
           ]
          },
          {
           "line": {
            "width": 3
           },
           "mode": "lines",
           "type": "scatter",
           "x": [
            0,
            -0.9510565162951534
           ],
           "y": [
            0.3090169943749478,
            0.3090169943749478
           ]
          },
          {
           "mode": "markers",
           "type": "scatter",
           "x": [
            -0.9510565162951534
           ],
           "y": [
            0.3090169943749478
           ]
          },
          {
           "type": "scatter",
           "x": [
            0,
            1
           ],
           "y": [
            -0.9510565162951534,
            -0.9510565162951534
           ]
          },
          {
           "type": "scatter",
           "x": [
            0,
            0
           ],
           "y": [
            0,
            -0.9510565162951534
           ]
          },
          {
           "type": "scatter",
           "x": [
            0
           ],
           "y": [
            -0.9510565162951534
           ]
          }
         ],
         "name": "145"
        },
        {
         "data": [
          {
           "line": {
            "width": 3
           },
           "mode": "lines",
           "type": "scatter",
           "x": [
            0,
            -0.9685831611286314
           ],
           "y": [
            0,
            0.24868988716485377
           ]
          },
          {
           "line": {
            "width": 3
           },
           "mode": "lines",
           "type": "scatter",
           "x": [
            0,
            -0.9685831611286314
           ],
           "y": [
            0.24868988716485377,
            0.24868988716485377
           ]
          },
          {
           "mode": "markers",
           "type": "scatter",
           "x": [
            -0.9685831611286314
           ],
           "y": [
            0.24868988716485377
           ]
          },
          {
           "type": "scatter",
           "x": [
            0,
            1
           ],
           "y": [
            -0.9685831611286314,
            -0.9685831611286314
           ]
          },
          {
           "type": "scatter",
           "x": [
            0,
            0
           ],
           "y": [
            0,
            -0.9685831611286314
           ]
          },
          {
           "type": "scatter",
           "x": [
            0
           ],
           "y": [
            -0.9685831611286314
           ]
          }
         ],
         "name": "146"
        },
        {
         "data": [
          {
           "line": {
            "width": 3
           },
           "mode": "lines",
           "type": "scatter",
           "x": [
            0,
            -0.9822872507286888
           ],
           "y": [
            0,
            0.18738131458572393
           ]
          },
          {
           "line": {
            "width": 3
           },
           "mode": "lines",
           "type": "scatter",
           "x": [
            0,
            -0.9822872507286888
           ],
           "y": [
            0.18738131458572393,
            0.18738131458572393
           ]
          },
          {
           "mode": "markers",
           "type": "scatter",
           "x": [
            -0.9822872507286888
           ],
           "y": [
            0.18738131458572393
           ]
          },
          {
           "type": "scatter",
           "x": [
            0,
            1
           ],
           "y": [
            -0.9822872507286888,
            -0.9822872507286888
           ]
          },
          {
           "type": "scatter",
           "x": [
            0,
            0
           ],
           "y": [
            0,
            -0.9822872507286888
           ]
          },
          {
           "type": "scatter",
           "x": [
            0
           ],
           "y": [
            -0.9822872507286888
           ]
          }
         ],
         "name": "147"
        },
        {
         "data": [
          {
           "line": {
            "width": 3
           },
           "mode": "lines",
           "type": "scatter",
           "x": [
            0,
            -0.9921147013144779
           ],
           "y": [
            0,
            0.1253332335643039
           ]
          },
          {
           "line": {
            "width": 3
           },
           "mode": "lines",
           "type": "scatter",
           "x": [
            0,
            -0.9921147013144779
           ],
           "y": [
            0.1253332335643039,
            0.1253332335643039
           ]
          },
          {
           "mode": "markers",
           "type": "scatter",
           "x": [
            -0.9921147013144779
           ],
           "y": [
            0.1253332335643039
           ]
          },
          {
           "type": "scatter",
           "x": [
            0,
            1
           ],
           "y": [
            -0.9921147013144779,
            -0.9921147013144779
           ]
          },
          {
           "type": "scatter",
           "x": [
            0,
            0
           ],
           "y": [
            0,
            -0.9921147013144779
           ]
          },
          {
           "type": "scatter",
           "x": [
            0
           ],
           "y": [
            -0.9921147013144779
           ]
          }
         ],
         "name": "148"
        },
        {
         "data": [
          {
           "line": {
            "width": 3
           },
           "mode": "lines",
           "type": "scatter",
           "x": [
            0,
            -0.9980267284282716
           ],
           "y": [
            0,
            0.06279051952931339
           ]
          },
          {
           "line": {
            "width": 3
           },
           "mode": "lines",
           "type": "scatter",
           "x": [
            0,
            -0.9980267284282716
           ],
           "y": [
            0.06279051952931339,
            0.06279051952931339
           ]
          },
          {
           "mode": "markers",
           "type": "scatter",
           "x": [
            -0.9980267284282716
           ],
           "y": [
            0.06279051952931339
           ]
          },
          {
           "type": "scatter",
           "x": [
            0,
            1
           ],
           "y": [
            -0.9980267284282716,
            -0.9980267284282716
           ]
          },
          {
           "type": "scatter",
           "x": [
            0,
            0
           ],
           "y": [
            0,
            -0.9980267284282716
           ]
          },
          {
           "type": "scatter",
           "x": [
            0
           ],
           "y": [
            -0.9980267284282716
           ]
          }
         ],
         "name": "149"
        },
        {
         "data": [
          {
           "line": {
            "width": 3
           },
           "mode": "lines",
           "type": "scatter",
           "x": [
            0,
            -1
           ],
           "y": [
            0,
            3.6739403974420594e-16
           ]
          },
          {
           "line": {
            "width": 3
           },
           "mode": "lines",
           "type": "scatter",
           "x": [
            0,
            -1
           ],
           "y": [
            3.6739403974420594e-16,
            3.6739403974420594e-16
           ]
          },
          {
           "mode": "markers",
           "type": "scatter",
           "x": [
            -1
           ],
           "y": [
            3.6739403974420594e-16
           ]
          },
          {
           "type": "scatter",
           "x": [
            0,
            1
           ],
           "y": [
            -1,
            -1
           ]
          },
          {
           "type": "scatter",
           "x": [
            0,
            0
           ],
           "y": [
            0,
            -1
           ]
          },
          {
           "type": "scatter",
           "x": [
            0
           ],
           "y": [
            -1
           ]
          }
         ],
         "name": "150"
        },
        {
         "data": [
          {
           "line": {
            "width": 3
           },
           "mode": "lines",
           "type": "scatter",
           "x": [
            0,
            -0.9980267284282714
           ],
           "y": [
            0,
            -0.06279051952931443
           ]
          },
          {
           "line": {
            "width": 3
           },
           "mode": "lines",
           "type": "scatter",
           "x": [
            0,
            -0.9980267284282714
           ],
           "y": [
            -0.06279051952931443,
            -0.06279051952931443
           ]
          },
          {
           "mode": "markers",
           "type": "scatter",
           "x": [
            -0.9980267284282714
           ],
           "y": [
            -0.06279051952931443
           ]
          },
          {
           "type": "scatter",
           "x": [
            0,
            1
           ],
           "y": [
            -0.9980267284282714,
            -0.9980267284282714
           ]
          },
          {
           "type": "scatter",
           "x": [
            0,
            0
           ],
           "y": [
            0,
            -0.9980267284282714
           ]
          },
          {
           "type": "scatter",
           "x": [
            0
           ],
           "y": [
            -0.9980267284282714
           ]
          }
         ],
         "name": "151"
        },
        {
         "data": [
          {
           "line": {
            "width": 3
           },
           "mode": "lines",
           "type": "scatter",
           "x": [
            0,
            -0.9921147013144778
           ],
           "y": [
            0,
            -0.12533323356430492
           ]
          },
          {
           "line": {
            "width": 3
           },
           "mode": "lines",
           "type": "scatter",
           "x": [
            0,
            -0.9921147013144778
           ],
           "y": [
            -0.12533323356430492,
            -0.12533323356430492
           ]
          },
          {
           "mode": "markers",
           "type": "scatter",
           "x": [
            -0.9921147013144778
           ],
           "y": [
            -0.12533323356430492
           ]
          },
          {
           "type": "scatter",
           "x": [
            0,
            1
           ],
           "y": [
            -0.9921147013144778,
            -0.9921147013144778
           ]
          },
          {
           "type": "scatter",
           "x": [
            0,
            0
           ],
           "y": [
            0,
            -0.9921147013144778
           ]
          },
          {
           "type": "scatter",
           "x": [
            0
           ],
           "y": [
            -0.9921147013144778
           ]
          }
         ],
         "name": "152"
        },
        {
         "data": [
          {
           "line": {
            "width": 3
           },
           "mode": "lines",
           "type": "scatter",
           "x": [
            0,
            -0.9822872507286886
           ],
           "y": [
            0,
            -0.18738131458572496
           ]
          },
          {
           "line": {
            "width": 3
           },
           "mode": "lines",
           "type": "scatter",
           "x": [
            0,
            -0.9822872507286886
           ],
           "y": [
            -0.18738131458572496,
            -0.18738131458572496
           ]
          },
          {
           "mode": "markers",
           "type": "scatter",
           "x": [
            -0.9822872507286886
           ],
           "y": [
            -0.18738131458572496
           ]
          },
          {
           "type": "scatter",
           "x": [
            0,
            1
           ],
           "y": [
            -0.9822872507286886,
            -0.9822872507286886
           ]
          },
          {
           "type": "scatter",
           "x": [
            0,
            0
           ],
           "y": [
            0,
            -0.9822872507286886
           ]
          },
          {
           "type": "scatter",
           "x": [
            0
           ],
           "y": [
            -0.9822872507286886
           ]
          }
         ],
         "name": "153"
        },
        {
         "data": [
          {
           "line": {
            "width": 3
           },
           "mode": "lines",
           "type": "scatter",
           "x": [
            0,
            -0.9685831611286311
           ],
           "y": [
            0,
            -0.24868988716485477
           ]
          },
          {
           "line": {
            "width": 3
           },
           "mode": "lines",
           "type": "scatter",
           "x": [
            0,
            -0.9685831611286311
           ],
           "y": [
            -0.24868988716485477,
            -0.24868988716485477
           ]
          },
          {
           "mode": "markers",
           "type": "scatter",
           "x": [
            -0.9685831611286311
           ],
           "y": [
            -0.24868988716485477
           ]
          },
          {
           "type": "scatter",
           "x": [
            0,
            1
           ],
           "y": [
            -0.9685831611286311,
            -0.9685831611286311
           ]
          },
          {
           "type": "scatter",
           "x": [
            0,
            0
           ],
           "y": [
            0,
            -0.9685831611286311
           ]
          },
          {
           "type": "scatter",
           "x": [
            0
           ],
           "y": [
            -0.9685831611286311
           ]
          }
         ],
         "name": "154"
        },
        {
         "data": [
          {
           "line": {
            "width": 3
           },
           "mode": "lines",
           "type": "scatter",
           "x": [
            0,
            -0.9510565162951536
           ],
           "y": [
            0,
            -0.30901699437494706
           ]
          },
          {
           "line": {
            "width": 3
           },
           "mode": "lines",
           "type": "scatter",
           "x": [
            0,
            -0.9510565162951536
           ],
           "y": [
            -0.30901699437494706,
            -0.30901699437494706
           ]
          },
          {
           "mode": "markers",
           "type": "scatter",
           "x": [
            -0.9510565162951536
           ],
           "y": [
            -0.30901699437494706
           ]
          },
          {
           "type": "scatter",
           "x": [
            0,
            1
           ],
           "y": [
            -0.9510565162951536,
            -0.9510565162951536
           ]
          },
          {
           "type": "scatter",
           "x": [
            0,
            0
           ],
           "y": [
            0,
            -0.9510565162951536
           ]
          },
          {
           "type": "scatter",
           "x": [
            0
           ],
           "y": [
            -0.9510565162951536
           ]
          }
         ],
         "name": "155"
        },
        {
         "data": [
          {
           "line": {
            "width": 3
           },
           "mode": "lines",
           "type": "scatter",
           "x": [
            0,
            -0.929776485888251
           ],
           "y": [
            0,
            -0.3681245526846789
           ]
          },
          {
           "line": {
            "width": 3
           },
           "mode": "lines",
           "type": "scatter",
           "x": [
            0,
            -0.929776485888251
           ],
           "y": [
            -0.3681245526846789,
            -0.3681245526846789
           ]
          },
          {
           "mode": "markers",
           "type": "scatter",
           "x": [
            -0.929776485888251
           ],
           "y": [
            -0.3681245526846789
           ]
          },
          {
           "type": "scatter",
           "x": [
            0,
            1
           ],
           "y": [
            -0.929776485888251,
            -0.929776485888251
           ]
          },
          {
           "type": "scatter",
           "x": [
            0,
            0
           ],
           "y": [
            0,
            -0.929776485888251
           ]
          },
          {
           "type": "scatter",
           "x": [
            0
           ],
           "y": [
            -0.929776485888251
           ]
          }
         ],
         "name": "156"
        },
        {
         "data": [
          {
           "line": {
            "width": 3
           },
           "mode": "lines",
           "type": "scatter",
           "x": [
            0,
            -0.9048270524660192
           ],
           "y": [
            0,
            -0.42577929156507327
           ]
          },
          {
           "line": {
            "width": 3
           },
           "mode": "lines",
           "type": "scatter",
           "x": [
            0,
            -0.9048270524660192
           ],
           "y": [
            -0.42577929156507327,
            -0.42577929156507327
           ]
          },
          {
           "mode": "markers",
           "type": "scatter",
           "x": [
            -0.9048270524660192
           ],
           "y": [
            -0.42577929156507327
           ]
          },
          {
           "type": "scatter",
           "x": [
            0,
            1
           ],
           "y": [
            -0.9048270524660192,
            -0.9048270524660192
           ]
          },
          {
           "type": "scatter",
           "x": [
            0,
            0
           ],
           "y": [
            0,
            -0.9048270524660192
           ]
          },
          {
           "type": "scatter",
           "x": [
            0
           ],
           "y": [
            -0.9048270524660192
           ]
          }
         ],
         "name": "157"
        },
        {
         "data": [
          {
           "line": {
            "width": 3
           },
           "mode": "lines",
           "type": "scatter",
           "x": [
            0,
            -0.8763066800438635
           ],
           "y": [
            0,
            -0.48175367410171555
           ]
          },
          {
           "line": {
            "width": 3
           },
           "mode": "lines",
           "type": "scatter",
           "x": [
            0,
            -0.8763066800438635
           ],
           "y": [
            -0.48175367410171555,
            -0.48175367410171555
           ]
          },
          {
           "mode": "markers",
           "type": "scatter",
           "x": [
            -0.8763066800438635
           ],
           "y": [
            -0.48175367410171555
           ]
          },
          {
           "type": "scatter",
           "x": [
            0,
            1
           ],
           "y": [
            -0.8763066800438635,
            -0.8763066800438635
           ]
          },
          {
           "type": "scatter",
           "x": [
            0,
            0
           ],
           "y": [
            0,
            -0.8763066800438635
           ]
          },
          {
           "type": "scatter",
           "x": [
            0
           ],
           "y": [
            -0.8763066800438635
           ]
          }
         ],
         "name": "158"
        },
        {
         "data": [
          {
           "line": {
            "width": 3
           },
           "mode": "lines",
           "type": "scatter",
           "x": [
            0,
            -0.8443279255020151
           ],
           "y": [
            0,
            -0.5358267949789965
           ]
          },
          {
           "line": {
            "width": 3
           },
           "mode": "lines",
           "type": "scatter",
           "x": [
            0,
            -0.8443279255020151
           ],
           "y": [
            -0.5358267949789965,
            -0.5358267949789965
           ]
          },
          {
           "mode": "markers",
           "type": "scatter",
           "x": [
            -0.8443279255020151
           ],
           "y": [
            -0.5358267949789965
           ]
          },
          {
           "type": "scatter",
           "x": [
            0,
            1
           ],
           "y": [
            -0.8443279255020151,
            -0.8443279255020151
           ]
          },
          {
           "type": "scatter",
           "x": [
            0,
            0
           ],
           "y": [
            0,
            -0.8443279255020151
           ]
          },
          {
           "type": "scatter",
           "x": [
            0
           ],
           "y": [
            -0.8443279255020151
           ]
          }
         ],
         "name": "159"
        },
        {
         "data": [
          {
           "line": {
            "width": 3
           },
           "mode": "lines",
           "type": "scatter",
           "x": [
            0,
            -0.8090169943749477
           ],
           "y": [
            0,
            -0.5877852522924728
           ]
          },
          {
           "line": {
            "width": 3
           },
           "mode": "lines",
           "type": "scatter",
           "x": [
            0,
            -0.8090169943749477
           ],
           "y": [
            -0.5877852522924728,
            -0.5877852522924728
           ]
          },
          {
           "mode": "markers",
           "type": "scatter",
           "x": [
            -0.8090169943749477
           ],
           "y": [
            -0.5877852522924728
           ]
          },
          {
           "type": "scatter",
           "x": [
            0,
            1
           ],
           "y": [
            -0.8090169943749477,
            -0.8090169943749477
           ]
          },
          {
           "type": "scatter",
           "x": [
            0,
            0
           ],
           "y": [
            0,
            -0.8090169943749477
           ]
          },
          {
           "type": "scatter",
           "x": [
            0
           ],
           "y": [
            -0.8090169943749477
           ]
          }
         ],
         "name": "160"
        },
        {
         "data": [
          {
           "line": {
            "width": 3
           },
           "mode": "lines",
           "type": "scatter",
           "x": [
            0,
            -0.7705132427757886
           ],
           "y": [
            0,
            -0.6374239897486905
           ]
          },
          {
           "line": {
            "width": 3
           },
           "mode": "lines",
           "type": "scatter",
           "x": [
            0,
            -0.7705132427757886
           ],
           "y": [
            -0.6374239897486905,
            -0.6374239897486905
           ]
          },
          {
           "mode": "markers",
           "type": "scatter",
           "x": [
            -0.7705132427757886
           ],
           "y": [
            -0.6374239897486905
           ]
          },
          {
           "type": "scatter",
           "x": [
            0,
            1
           ],
           "y": [
            -0.7705132427757886,
            -0.7705132427757886
           ]
          },
          {
           "type": "scatter",
           "x": [
            0,
            0
           ],
           "y": [
            0,
            -0.7705132427757886
           ]
          },
          {
           "type": "scatter",
           "x": [
            0
           ],
           "y": [
            -0.7705132427757886
           ]
          }
         ],
         "name": "161"
        },
        {
         "data": [
          {
           "line": {
            "width": 3
           },
           "mode": "lines",
           "type": "scatter",
           "x": [
            0,
            -0.728968627421411
           ],
           "y": [
            0,
            -0.6845471059286892
           ]
          },
          {
           "line": {
            "width": 3
           },
           "mode": "lines",
           "type": "scatter",
           "x": [
            0,
            -0.728968627421411
           ],
           "y": [
            -0.6845471059286892,
            -0.6845471059286892
           ]
          },
          {
           "mode": "markers",
           "type": "scatter",
           "x": [
            -0.728968627421411
           ],
           "y": [
            -0.6845471059286892
           ]
          },
          {
           "type": "scatter",
           "x": [
            0,
            1
           ],
           "y": [
            -0.728968627421411,
            -0.728968627421411
           ]
          },
          {
           "type": "scatter",
           "x": [
            0,
            0
           ],
           "y": [
            0,
            -0.728968627421411
           ]
          },
          {
           "type": "scatter",
           "x": [
            0
           ],
           "y": [
            -0.728968627421411
           ]
          }
         ],
         "name": "162"
        },
        {
         "data": [
          {
           "line": {
            "width": 3
           },
           "mode": "lines",
           "type": "scatter",
           "x": [
            0,
            -0.6845471059286884
           ],
           "y": [
            0,
            -0.7289686274214118
           ]
          },
          {
           "line": {
            "width": 3
           },
           "mode": "lines",
           "type": "scatter",
           "x": [
            0,
            -0.6845471059286884
           ],
           "y": [
            -0.7289686274214118,
            -0.7289686274214118
           ]
          },
          {
           "mode": "markers",
           "type": "scatter",
           "x": [
            -0.6845471059286884
           ],
           "y": [
            -0.7289686274214118
           ]
          },
          {
           "type": "scatter",
           "x": [
            0,
            1
           ],
           "y": [
            -0.6845471059286884,
            -0.6845471059286884
           ]
          },
          {
           "type": "scatter",
           "x": [
            0,
            0
           ],
           "y": [
            0,
            -0.6845471059286884
           ]
          },
          {
           "type": "scatter",
           "x": [
            0
           ],
           "y": [
            -0.6845471059286884
           ]
          }
         ],
         "name": "163"
        },
        {
         "data": [
          {
           "line": {
            "width": 3
           },
           "mode": "lines",
           "type": "scatter",
           "x": [
            0,
            -0.6374239897486897
           ],
           "y": [
            0,
            -0.7705132427757891
           ]
          },
          {
           "line": {
            "width": 3
           },
           "mode": "lines",
           "type": "scatter",
           "x": [
            0,
            -0.6374239897486897
           ],
           "y": [
            -0.7705132427757891,
            -0.7705132427757891
           ]
          },
          {
           "mode": "markers",
           "type": "scatter",
           "x": [
            -0.6374239897486897
           ],
           "y": [
            -0.7705132427757891
           ]
          },
          {
           "type": "scatter",
           "x": [
            0,
            1
           ],
           "y": [
            -0.6374239897486897,
            -0.6374239897486897
           ]
          },
          {
           "type": "scatter",
           "x": [
            0,
            0
           ],
           "y": [
            0,
            -0.6374239897486897
           ]
          },
          {
           "type": "scatter",
           "x": [
            0
           ],
           "y": [
            -0.6374239897486897
           ]
          }
         ],
         "name": "164"
        },
        {
         "data": [
          {
           "line": {
            "width": 3
           },
           "mode": "lines",
           "type": "scatter",
           "x": [
            0,
            -0.587785252292472
           ],
           "y": [
            0,
            -0.8090169943749482
           ]
          },
          {
           "line": {
            "width": 3
           },
           "mode": "lines",
           "type": "scatter",
           "x": [
            0,
            -0.587785252292472
           ],
           "y": [
            -0.8090169943749482,
            -0.8090169943749482
           ]
          },
          {
           "mode": "markers",
           "type": "scatter",
           "x": [
            -0.587785252292472
           ],
           "y": [
            -0.8090169943749482
           ]
          },
          {
           "type": "scatter",
           "x": [
            0,
            1
           ],
           "y": [
            -0.587785252292472,
            -0.587785252292472
           ]
          },
          {
           "type": "scatter",
           "x": [
            0,
            0
           ],
           "y": [
            0,
            -0.587785252292472
           ]
          },
          {
           "type": "scatter",
           "x": [
            0
           ],
           "y": [
            -0.587785252292472
           ]
          }
         ],
         "name": "165"
        },
        {
         "data": [
          {
           "line": {
            "width": 3
           },
           "mode": "lines",
           "type": "scatter",
           "x": [
            0,
            -0.5358267949789958
           ],
           "y": [
            0,
            -0.8443279255020156
           ]
          },
          {
           "line": {
            "width": 3
           },
           "mode": "lines",
           "type": "scatter",
           "x": [
            0,
            -0.5358267949789958
           ],
           "y": [
            -0.8443279255020156,
            -0.8443279255020156
           ]
          },
          {
           "mode": "markers",
           "type": "scatter",
           "x": [
            -0.5358267949789958
           ],
           "y": [
            -0.8443279255020156
           ]
          },
          {
           "type": "scatter",
           "x": [
            0,
            1
           ],
           "y": [
            -0.5358267949789958,
            -0.5358267949789958
           ]
          },
          {
           "type": "scatter",
           "x": [
            0,
            0
           ],
           "y": [
            0,
            -0.5358267949789958
           ]
          },
          {
           "type": "scatter",
           "x": [
            0
           ],
           "y": [
            -0.5358267949789958
           ]
          }
         ],
         "name": "166"
        },
        {
         "data": [
          {
           "line": {
            "width": 3
           },
           "mode": "lines",
           "type": "scatter",
           "x": [
            0,
            -0.4817536741017147
           ],
           "y": [
            0,
            -0.8763066800438639
           ]
          },
          {
           "line": {
            "width": 3
           },
           "mode": "lines",
           "type": "scatter",
           "x": [
            0,
            -0.4817536741017147
           ],
           "y": [
            -0.8763066800438639,
            -0.8763066800438639
           ]
          },
          {
           "mode": "markers",
           "type": "scatter",
           "x": [
            -0.4817536741017147
           ],
           "y": [
            -0.8763066800438639
           ]
          },
          {
           "type": "scatter",
           "x": [
            0,
            1
           ],
           "y": [
            -0.4817536741017147,
            -0.4817536741017147
           ]
          },
          {
           "type": "scatter",
           "x": [
            0,
            0
           ],
           "y": [
            0,
            -0.4817536741017147
           ]
          },
          {
           "type": "scatter",
           "x": [
            0
           ],
           "y": [
            -0.4817536741017147
           ]
          }
         ],
         "name": "167"
        },
        {
         "data": [
          {
           "line": {
            "width": 3
           },
           "mode": "lines",
           "type": "scatter",
           "x": [
            0,
            -0.4257792915650724
           ],
           "y": [
            0,
            -0.9048270524660197
           ]
          },
          {
           "line": {
            "width": 3
           },
           "mode": "lines",
           "type": "scatter",
           "x": [
            0,
            -0.4257792915650724
           ],
           "y": [
            -0.9048270524660197,
            -0.9048270524660197
           ]
          },
          {
           "mode": "markers",
           "type": "scatter",
           "x": [
            -0.4257792915650724
           ],
           "y": [
            -0.9048270524660197
           ]
          },
          {
           "type": "scatter",
           "x": [
            0,
            1
           ],
           "y": [
            -0.4257792915650724,
            -0.4257792915650724
           ]
          },
          {
           "type": "scatter",
           "x": [
            0,
            0
           ],
           "y": [
            0,
            -0.4257792915650724
           ]
          },
          {
           "type": "scatter",
           "x": [
            0
           ],
           "y": [
            -0.4257792915650724
           ]
          }
         ],
         "name": "168"
        },
        {
         "data": [
          {
           "line": {
            "width": 3
           },
           "mode": "lines",
           "type": "scatter",
           "x": [
            0,
            -0.36812455268467803
           ],
           "y": [
            0,
            -0.9297764858882513
           ]
          },
          {
           "line": {
            "width": 3
           },
           "mode": "lines",
           "type": "scatter",
           "x": [
            0,
            -0.36812455268467803
           ],
           "y": [
            -0.9297764858882513,
            -0.9297764858882513
           ]
          },
          {
           "mode": "markers",
           "type": "scatter",
           "x": [
            -0.36812455268467803
           ],
           "y": [
            -0.9297764858882513
           ]
          },
          {
           "type": "scatter",
           "x": [
            0,
            1
           ],
           "y": [
            -0.36812455268467803,
            -0.36812455268467803
           ]
          },
          {
           "type": "scatter",
           "x": [
            0,
            0
           ],
           "y": [
            0,
            -0.36812455268467803
           ]
          },
          {
           "type": "scatter",
           "x": [
            0
           ],
           "y": [
            -0.36812455268467803
           ]
          }
         ],
         "name": "169"
        },
        {
         "data": [
          {
           "line": {
            "width": 3
           },
           "mode": "lines",
           "type": "scatter",
           "x": [
            0,
            -0.3090169943749461
           ],
           "y": [
            0,
            -0.951056516295154
           ]
          },
          {
           "line": {
            "width": 3
           },
           "mode": "lines",
           "type": "scatter",
           "x": [
            0,
            -0.3090169943749461
           ],
           "y": [
            -0.951056516295154,
            -0.951056516295154
           ]
          },
          {
           "mode": "markers",
           "type": "scatter",
           "x": [
            -0.3090169943749461
           ],
           "y": [
            -0.951056516295154
           ]
          },
          {
           "type": "scatter",
           "x": [
            0,
            1
           ],
           "y": [
            -0.3090169943749461,
            -0.3090169943749461
           ]
          },
          {
           "type": "scatter",
           "x": [
            0,
            0
           ],
           "y": [
            0,
            -0.3090169943749461
           ]
          },
          {
           "type": "scatter",
           "x": [
            0
           ],
           "y": [
            -0.3090169943749461
           ]
          }
         ],
         "name": "170"
        },
        {
         "data": [
          {
           "line": {
            "width": 3
           },
           "mode": "lines",
           "type": "scatter",
           "x": [
            0,
            -0.24868988716485382
           ],
           "y": [
            0,
            -0.9685831611286314
           ]
          },
          {
           "line": {
            "width": 3
           },
           "mode": "lines",
           "type": "scatter",
           "x": [
            0,
            -0.24868988716485382
           ],
           "y": [
            -0.9685831611286314,
            -0.9685831611286314
           ]
          },
          {
           "mode": "markers",
           "type": "scatter",
           "x": [
            -0.24868988716485382
           ],
           "y": [
            -0.9685831611286314
           ]
          },
          {
           "type": "scatter",
           "x": [
            0,
            1
           ],
           "y": [
            -0.24868988716485382,
            -0.24868988716485382
           ]
          },
          {
           "type": "scatter",
           "x": [
            0,
            0
           ],
           "y": [
            0,
            -0.24868988716485382
           ]
          },
          {
           "type": "scatter",
           "x": [
            0
           ],
           "y": [
            -0.24868988716485382
           ]
          }
         ],
         "name": "171"
        },
        {
         "data": [
          {
           "line": {
            "width": 3
           },
           "mode": "lines",
           "type": "scatter",
           "x": [
            0,
            -0.187381314585724
           ],
           "y": [
            0,
            -0.9822872507286888
           ]
          },
          {
           "line": {
            "width": 3
           },
           "mode": "lines",
           "type": "scatter",
           "x": [
            0,
            -0.187381314585724
           ],
           "y": [
            -0.9822872507286888,
            -0.9822872507286888
           ]
          },
          {
           "mode": "markers",
           "type": "scatter",
           "x": [
            -0.187381314585724
           ],
           "y": [
            -0.9822872507286888
           ]
          },
          {
           "type": "scatter",
           "x": [
            0,
            1
           ],
           "y": [
            -0.187381314585724,
            -0.187381314585724
           ]
          },
          {
           "type": "scatter",
           "x": [
            0,
            0
           ],
           "y": [
            0,
            -0.187381314585724
           ]
          },
          {
           "type": "scatter",
           "x": [
            0
           ],
           "y": [
            -0.187381314585724
           ]
          }
         ],
         "name": "172"
        },
        {
         "data": [
          {
           "line": {
            "width": 3
           },
           "mode": "lines",
           "type": "scatter",
           "x": [
            0,
            -0.12533323356430395
           ],
           "y": [
            0,
            -0.9921147013144779
           ]
          },
          {
           "line": {
            "width": 3
           },
           "mode": "lines",
           "type": "scatter",
           "x": [
            0,
            -0.12533323356430395
           ],
           "y": [
            -0.9921147013144779,
            -0.9921147013144779
           ]
          },
          {
           "mode": "markers",
           "type": "scatter",
           "x": [
            -0.12533323356430395
           ],
           "y": [
            -0.9921147013144779
           ]
          },
          {
           "type": "scatter",
           "x": [
            0,
            1
           ],
           "y": [
            -0.12533323356430395,
            -0.12533323356430395
           ]
          },
          {
           "type": "scatter",
           "x": [
            0,
            0
           ],
           "y": [
            0,
            -0.12533323356430395
           ]
          },
          {
           "type": "scatter",
           "x": [
            0
           ],
           "y": [
            -0.12533323356430395
           ]
          }
         ],
         "name": "173"
        },
        {
         "data": [
          {
           "line": {
            "width": 3
           },
           "mode": "lines",
           "type": "scatter",
           "x": [
            0,
            -0.06279051952931344
           ],
           "y": [
            0,
            -0.9980267284282716
           ]
          },
          {
           "line": {
            "width": 3
           },
           "mode": "lines",
           "type": "scatter",
           "x": [
            0,
            -0.06279051952931344
           ],
           "y": [
            -0.9980267284282716,
            -0.9980267284282716
           ]
          },
          {
           "mode": "markers",
           "type": "scatter",
           "x": [
            -0.06279051952931344
           ],
           "y": [
            -0.9980267284282716
           ]
          },
          {
           "type": "scatter",
           "x": [
            0,
            1
           ],
           "y": [
            -0.06279051952931344,
            -0.06279051952931344
           ]
          },
          {
           "type": "scatter",
           "x": [
            0,
            0
           ],
           "y": [
            0,
            -0.06279051952931344
           ]
          },
          {
           "type": "scatter",
           "x": [
            0
           ],
           "y": [
            -0.06279051952931344
           ]
          }
         ],
         "name": "174"
        },
        {
         "data": [
          {
           "line": {
            "width": 3
           },
           "mode": "lines",
           "type": "scatter",
           "x": [
            0,
            1.3477304596986769e-15
           ],
           "y": [
            0,
            -1
           ]
          },
          {
           "line": {
            "width": 3
           },
           "mode": "lines",
           "type": "scatter",
           "x": [
            0,
            1.3477304596986769e-15
           ],
           "y": [
            -1,
            -1
           ]
          },
          {
           "mode": "markers",
           "type": "scatter",
           "x": [
            1.3477304596986769e-15
           ],
           "y": [
            -1
           ]
          },
          {
           "type": "scatter",
           "x": [
            0,
            1
           ],
           "y": [
            1.3477304596986769e-15,
            1.3477304596986769e-15
           ]
          },
          {
           "type": "scatter",
           "x": [
            0,
            0
           ],
           "y": [
            0,
            1.3477304596986769e-15
           ]
          },
          {
           "type": "scatter",
           "x": [
            0
           ],
           "y": [
            1.3477304596986769e-15
           ]
          }
         ],
         "name": "175"
        },
        {
         "data": [
          {
           "line": {
            "width": 3
           },
           "mode": "lines",
           "type": "scatter",
           "x": [
            0,
            0.06279051952931436
           ],
           "y": [
            0,
            -0.9980267284282714
           ]
          },
          {
           "line": {
            "width": 3
           },
           "mode": "lines",
           "type": "scatter",
           "x": [
            0,
            0.06279051952931436
           ],
           "y": [
            -0.9980267284282714,
            -0.9980267284282714
           ]
          },
          {
           "mode": "markers",
           "type": "scatter",
           "x": [
            0.06279051952931436
           ],
           "y": [
            -0.9980267284282714
           ]
          },
          {
           "type": "scatter",
           "x": [
            0,
            1
           ],
           "y": [
            0.06279051952931436,
            0.06279051952931436
           ]
          },
          {
           "type": "scatter",
           "x": [
            0,
            0
           ],
           "y": [
            0,
            0.06279051952931436
           ]
          },
          {
           "type": "scatter",
           "x": [
            0
           ],
           "y": [
            0.06279051952931436
           ]
          }
         ],
         "name": "176"
        },
        {
         "data": [
          {
           "line": {
            "width": 3
           },
           "mode": "lines",
           "type": "scatter",
           "x": [
            0,
            0.12533323356430487
           ],
           "y": [
            0,
            -0.9921147013144778
           ]
          },
          {
           "line": {
            "width": 3
           },
           "mode": "lines",
           "type": "scatter",
           "x": [
            0,
            0.12533323356430487
           ],
           "y": [
            -0.9921147013144778,
            -0.9921147013144778
           ]
          },
          {
           "mode": "markers",
           "type": "scatter",
           "x": [
            0.12533323356430487
           ],
           "y": [
            -0.9921147013144778
           ]
          },
          {
           "type": "scatter",
           "x": [
            0,
            1
           ],
           "y": [
            0.12533323356430487,
            0.12533323356430487
           ]
          },
          {
           "type": "scatter",
           "x": [
            0,
            0
           ],
           "y": [
            0,
            0.12533323356430487
           ]
          },
          {
           "type": "scatter",
           "x": [
            0
           ],
           "y": [
            0.12533323356430487
           ]
          }
         ],
         "name": "177"
        },
        {
         "data": [
          {
           "line": {
            "width": 3
           },
           "mode": "lines",
           "type": "scatter",
           "x": [
            0,
            0.1873813145857249
           ],
           "y": [
            0,
            -0.9822872507286886
           ]
          },
          {
           "line": {
            "width": 3
           },
           "mode": "lines",
           "type": "scatter",
           "x": [
            0,
            0.1873813145857249
           ],
           "y": [
            -0.9822872507286886,
            -0.9822872507286886
           ]
          },
          {
           "mode": "markers",
           "type": "scatter",
           "x": [
            0.1873813145857249
           ],
           "y": [
            -0.9822872507286886
           ]
          },
          {
           "type": "scatter",
           "x": [
            0,
            1
           ],
           "y": [
            0.1873813145857249,
            0.1873813145857249
           ]
          },
          {
           "type": "scatter",
           "x": [
            0,
            0
           ],
           "y": [
            0,
            0.1873813145857249
           ]
          },
          {
           "type": "scatter",
           "x": [
            0
           ],
           "y": [
            0.1873813145857249
           ]
          }
         ],
         "name": "178"
        },
        {
         "data": [
          {
           "line": {
            "width": 3
           },
           "mode": "lines",
           "type": "scatter",
           "x": [
            0,
            0.2486898871648547
           ],
           "y": [
            0,
            -0.9685831611286312
           ]
          },
          {
           "line": {
            "width": 3
           },
           "mode": "lines",
           "type": "scatter",
           "x": [
            0,
            0.2486898871648547
           ],
           "y": [
            -0.9685831611286312,
            -0.9685831611286312
           ]
          },
          {
           "mode": "markers",
           "type": "scatter",
           "x": [
            0.2486898871648547
           ],
           "y": [
            -0.9685831611286312
           ]
          },
          {
           "type": "scatter",
           "x": [
            0,
            1
           ],
           "y": [
            0.2486898871648547,
            0.2486898871648547
           ]
          },
          {
           "type": "scatter",
           "x": [
            0,
            0
           ],
           "y": [
            0,
            0.2486898871648547
           ]
          },
          {
           "type": "scatter",
           "x": [
            0
           ],
           "y": [
            0.2486898871648547
           ]
          }
         ],
         "name": "179"
        },
        {
         "data": [
          {
           "line": {
            "width": 3
           },
           "mode": "lines",
           "type": "scatter",
           "x": [
            0,
            0.3090169943749487
           ],
           "y": [
            0,
            -0.9510565162951532
           ]
          },
          {
           "line": {
            "width": 3
           },
           "mode": "lines",
           "type": "scatter",
           "x": [
            0,
            0.3090169943749487
           ],
           "y": [
            -0.9510565162951532,
            -0.9510565162951532
           ]
          },
          {
           "mode": "markers",
           "type": "scatter",
           "x": [
            0.3090169943749487
           ],
           "y": [
            -0.9510565162951532
           ]
          },
          {
           "type": "scatter",
           "x": [
            0,
            1
           ],
           "y": [
            0.3090169943749487,
            0.3090169943749487
           ]
          },
          {
           "type": "scatter",
           "x": [
            0,
            0
           ],
           "y": [
            0,
            0.3090169943749487
           ]
          },
          {
           "type": "scatter",
           "x": [
            0
           ],
           "y": [
            0.3090169943749487
           ]
          }
         ],
         "name": "180"
        },
        {
         "data": [
          {
           "line": {
            "width": 3
           },
           "mode": "lines",
           "type": "scatter",
           "x": [
            0,
            0.36812455268467886
           ],
           "y": [
            0,
            -0.929776485888251
           ]
          },
          {
           "line": {
            "width": 3
           },
           "mode": "lines",
           "type": "scatter",
           "x": [
            0,
            0.36812455268467886
           ],
           "y": [
            -0.929776485888251,
            -0.929776485888251
           ]
          },
          {
           "mode": "markers",
           "type": "scatter",
           "x": [
            0.36812455268467886
           ],
           "y": [
            -0.929776485888251
           ]
          },
          {
           "type": "scatter",
           "x": [
            0,
            1
           ],
           "y": [
            0.36812455268467886,
            0.36812455268467886
           ]
          },
          {
           "type": "scatter",
           "x": [
            0,
            0
           ],
           "y": [
            0,
            0.36812455268467886
           ]
          },
          {
           "type": "scatter",
           "x": [
            0
           ],
           "y": [
            0.36812455268467886
           ]
          }
         ],
         "name": "181"
        },
        {
         "data": [
          {
           "line": {
            "width": 3
           },
           "mode": "lines",
           "type": "scatter",
           "x": [
            0,
            0.4257792915650732
           ],
           "y": [
            0,
            -0.9048270524660192
           ]
          },
          {
           "line": {
            "width": 3
           },
           "mode": "lines",
           "type": "scatter",
           "x": [
            0,
            0.4257792915650732
           ],
           "y": [
            -0.9048270524660192,
            -0.9048270524660192
           ]
          },
          {
           "mode": "markers",
           "type": "scatter",
           "x": [
            0.4257792915650732
           ],
           "y": [
            -0.9048270524660192
           ]
          },
          {
           "type": "scatter",
           "x": [
            0,
            1
           ],
           "y": [
            0.4257792915650732,
            0.4257792915650732
           ]
          },
          {
           "type": "scatter",
           "x": [
            0,
            0
           ],
           "y": [
            0,
            0.4257792915650732
           ]
          },
          {
           "type": "scatter",
           "x": [
            0
           ],
           "y": [
            0.4257792915650732
           ]
          }
         ],
         "name": "182"
        },
        {
         "data": [
          {
           "line": {
            "width": 3
           },
           "mode": "lines",
           "type": "scatter",
           "x": [
            0,
            0.4817536741017155
           ],
           "y": [
            0,
            -0.8763066800438635
           ]
          },
          {
           "line": {
            "width": 3
           },
           "mode": "lines",
           "type": "scatter",
           "x": [
            0,
            0.4817536741017155
           ],
           "y": [
            -0.8763066800438635,
            -0.8763066800438635
           ]
          },
          {
           "mode": "markers",
           "type": "scatter",
           "x": [
            0.4817536741017155
           ],
           "y": [
            -0.8763066800438635
           ]
          },
          {
           "type": "scatter",
           "x": [
            0,
            1
           ],
           "y": [
            0.4817536741017155,
            0.4817536741017155
           ]
          },
          {
           "type": "scatter",
           "x": [
            0,
            0
           ],
           "y": [
            0,
            0.4817536741017155
           ]
          },
          {
           "type": "scatter",
           "x": [
            0
           ],
           "y": [
            0.4817536741017155
           ]
          }
         ],
         "name": "183"
        },
        {
         "data": [
          {
           "line": {
            "width": 3
           },
           "mode": "lines",
           "type": "scatter",
           "x": [
            0,
            0.5358267949789965
           ],
           "y": [
            0,
            -0.8443279255020152
           ]
          },
          {
           "line": {
            "width": 3
           },
           "mode": "lines",
           "type": "scatter",
           "x": [
            0,
            0.5358267949789965
           ],
           "y": [
            -0.8443279255020152,
            -0.8443279255020152
           ]
          },
          {
           "mode": "markers",
           "type": "scatter",
           "x": [
            0.5358267949789965
           ],
           "y": [
            -0.8443279255020152
           ]
          },
          {
           "type": "scatter",
           "x": [
            0,
            1
           ],
           "y": [
            0.5358267949789965,
            0.5358267949789965
           ]
          },
          {
           "type": "scatter",
           "x": [
            0,
            0
           ],
           "y": [
            0,
            0.5358267949789965
           ]
          },
          {
           "type": "scatter",
           "x": [
            0
           ],
           "y": [
            0.5358267949789965
           ]
          }
         ],
         "name": "184"
        },
        {
         "data": [
          {
           "line": {
            "width": 3
           },
           "mode": "lines",
           "type": "scatter",
           "x": [
            0,
            0.5877852522924742
           ],
           "y": [
            0,
            -0.8090169943749467
           ]
          },
          {
           "line": {
            "width": 3
           },
           "mode": "lines",
           "type": "scatter",
           "x": [
            0,
            0.5877852522924742
           ],
           "y": [
            -0.8090169943749467,
            -0.8090169943749467
           ]
          },
          {
           "mode": "markers",
           "type": "scatter",
           "x": [
            0.5877852522924742
           ],
           "y": [
            -0.8090169943749467
           ]
          },
          {
           "type": "scatter",
           "x": [
            0,
            1
           ],
           "y": [
            0.5877852522924742,
            0.5877852522924742
           ]
          },
          {
           "type": "scatter",
           "x": [
            0,
            0
           ],
           "y": [
            0,
            0.5877852522924742
           ]
          },
          {
           "type": "scatter",
           "x": [
            0
           ],
           "y": [
            0.5877852522924742
           ]
          }
         ],
         "name": "185"
        },
        {
         "data": [
          {
           "line": {
            "width": 3
           },
           "mode": "lines",
           "type": "scatter",
           "x": [
            0,
            0.6374239897486904
           ],
           "y": [
            0,
            -0.7705132427757886
           ]
          },
          {
           "line": {
            "width": 3
           },
           "mode": "lines",
           "type": "scatter",
           "x": [
            0,
            0.6374239897486904
           ],
           "y": [
            -0.7705132427757886,
            -0.7705132427757886
           ]
          },
          {
           "mode": "markers",
           "type": "scatter",
           "x": [
            0.6374239897486904
           ],
           "y": [
            -0.7705132427757886
           ]
          },
          {
           "type": "scatter",
           "x": [
            0,
            1
           ],
           "y": [
            0.6374239897486904,
            0.6374239897486904
           ]
          },
          {
           "type": "scatter",
           "x": [
            0,
            0
           ],
           "y": [
            0,
            0.6374239897486904
           ]
          },
          {
           "type": "scatter",
           "x": [
            0
           ],
           "y": [
            0.6374239897486904
           ]
          }
         ],
         "name": "186"
        },
        {
         "data": [
          {
           "line": {
            "width": 3
           },
           "mode": "lines",
           "type": "scatter",
           "x": [
            0,
            0.6845471059286891
           ],
           "y": [
            0,
            -0.7289686274214111
           ]
          },
          {
           "line": {
            "width": 3
           },
           "mode": "lines",
           "type": "scatter",
           "x": [
            0,
            0.6845471059286891
           ],
           "y": [
            -0.7289686274214111,
            -0.7289686274214111
           ]
          },
          {
           "mode": "markers",
           "type": "scatter",
           "x": [
            0.6845471059286891
           ],
           "y": [
            -0.7289686274214111
           ]
          },
          {
           "type": "scatter",
           "x": [
            0,
            1
           ],
           "y": [
            0.6845471059286891,
            0.6845471059286891
           ]
          },
          {
           "type": "scatter",
           "x": [
            0,
            0
           ],
           "y": [
            0,
            0.6845471059286891
           ]
          },
          {
           "type": "scatter",
           "x": [
            0
           ],
           "y": [
            0.6845471059286891
           ]
          }
         ],
         "name": "187"
        },
        {
         "data": [
          {
           "line": {
            "width": 3
           },
           "mode": "lines",
           "type": "scatter",
           "x": [
            0,
            0.7289686274214117
           ],
           "y": [
            0,
            -0.6845471059286885
           ]
          },
          {
           "line": {
            "width": 3
           },
           "mode": "lines",
           "type": "scatter",
           "x": [
            0,
            0.7289686274214117
           ],
           "y": [
            -0.6845471059286885,
            -0.6845471059286885
           ]
          },
          {
           "mode": "markers",
           "type": "scatter",
           "x": [
            0.7289686274214117
           ],
           "y": [
            -0.6845471059286885
           ]
          },
          {
           "type": "scatter",
           "x": [
            0,
            1
           ],
           "y": [
            0.7289686274214117,
            0.7289686274214117
           ]
          },
          {
           "type": "scatter",
           "x": [
            0,
            0
           ],
           "y": [
            0,
            0.7289686274214117
           ]
          },
          {
           "type": "scatter",
           "x": [
            0
           ],
           "y": [
            0.7289686274214117
           ]
          }
         ],
         "name": "188"
        },
        {
         "data": [
          {
           "line": {
            "width": 3
           },
           "mode": "lines",
           "type": "scatter",
           "x": [
            0,
            0.7705132427757891
           ],
           "y": [
            0,
            -0.6374239897486897
           ]
          },
          {
           "line": {
            "width": 3
           },
           "mode": "lines",
           "type": "scatter",
           "x": [
            0,
            0.7705132427757891
           ],
           "y": [
            -0.6374239897486897,
            -0.6374239897486897
           ]
          },
          {
           "mode": "markers",
           "type": "scatter",
           "x": [
            0.7705132427757891
           ],
           "y": [
            -0.6374239897486897
           ]
          },
          {
           "type": "scatter",
           "x": [
            0,
            1
           ],
           "y": [
            0.7705132427757891,
            0.7705132427757891
           ]
          },
          {
           "type": "scatter",
           "x": [
            0,
            0
           ],
           "y": [
            0,
            0.7705132427757891
           ]
          },
          {
           "type": "scatter",
           "x": [
            0
           ],
           "y": [
            0.7705132427757891
           ]
          }
         ],
         "name": "189"
        },
        {
         "data": [
          {
           "line": {
            "width": 3
           },
           "mode": "lines",
           "type": "scatter",
           "x": [
            0,
            0.8090169943749482
           ],
           "y": [
            0,
            -0.587785252292472
           ]
          },
          {
           "line": {
            "width": 3
           },
           "mode": "lines",
           "type": "scatter",
           "x": [
            0,
            0.8090169943749482
           ],
           "y": [
            -0.587785252292472,
            -0.587785252292472
           ]
          },
          {
           "mode": "markers",
           "type": "scatter",
           "x": [
            0.8090169943749482
           ],
           "y": [
            -0.587785252292472
           ]
          },
          {
           "type": "scatter",
           "x": [
            0,
            1
           ],
           "y": [
            0.8090169943749482,
            0.8090169943749482
           ]
          },
          {
           "type": "scatter",
           "x": [
            0,
            0
           ],
           "y": [
            0,
            0.8090169943749482
           ]
          },
          {
           "type": "scatter",
           "x": [
            0
           ],
           "y": [
            0.8090169943749482
           ]
          }
         ],
         "name": "190"
        },
        {
         "data": [
          {
           "line": {
            "width": 3
           },
           "mode": "lines",
           "type": "scatter",
           "x": [
            0,
            0.8443279255020156
           ],
           "y": [
            0,
            -0.5358267949789958
           ]
          },
          {
           "line": {
            "width": 3
           },
           "mode": "lines",
           "type": "scatter",
           "x": [
            0,
            0.8443279255020156
           ],
           "y": [
            -0.5358267949789958,
            -0.5358267949789958
           ]
          },
          {
           "mode": "markers",
           "type": "scatter",
           "x": [
            0.8443279255020156
           ],
           "y": [
            -0.5358267949789958
           ]
          },
          {
           "type": "scatter",
           "x": [
            0,
            1
           ],
           "y": [
            0.8443279255020156,
            0.8443279255020156
           ]
          },
          {
           "type": "scatter",
           "x": [
            0,
            0
           ],
           "y": [
            0,
            0.8443279255020156
           ]
          },
          {
           "type": "scatter",
           "x": [
            0
           ],
           "y": [
            0.8443279255020156
           ]
          }
         ],
         "name": "191"
        },
        {
         "data": [
          {
           "line": {
            "width": 3
           },
           "mode": "lines",
           "type": "scatter",
           "x": [
            0,
            0.8763066800438639
           ],
           "y": [
            0,
            -0.48175367410171477
           ]
          },
          {
           "line": {
            "width": 3
           },
           "mode": "lines",
           "type": "scatter",
           "x": [
            0,
            0.8763066800438639
           ],
           "y": [
            -0.48175367410171477,
            -0.48175367410171477
           ]
          },
          {
           "mode": "markers",
           "type": "scatter",
           "x": [
            0.8763066800438639
           ],
           "y": [
            -0.48175367410171477
           ]
          },
          {
           "type": "scatter",
           "x": [
            0,
            1
           ],
           "y": [
            0.8763066800438639,
            0.8763066800438639
           ]
          },
          {
           "type": "scatter",
           "x": [
            0,
            0
           ],
           "y": [
            0,
            0.8763066800438639
           ]
          },
          {
           "type": "scatter",
           "x": [
            0
           ],
           "y": [
            0.8763066800438639
           ]
          }
         ],
         "name": "192"
        },
        {
         "data": [
          {
           "line": {
            "width": 3
           },
           "mode": "lines",
           "type": "scatter",
           "x": [
            0,
            0.9048270524660196
           ],
           "y": [
            0,
            -0.42577929156507244
           ]
          },
          {
           "line": {
            "width": 3
           },
           "mode": "lines",
           "type": "scatter",
           "x": [
            0,
            0.9048270524660196
           ],
           "y": [
            -0.42577929156507244,
            -0.42577929156507244
           ]
          },
          {
           "mode": "markers",
           "type": "scatter",
           "x": [
            0.9048270524660196
           ],
           "y": [
            -0.42577929156507244
           ]
          },
          {
           "type": "scatter",
           "x": [
            0,
            1
           ],
           "y": [
            0.9048270524660196,
            0.9048270524660196
           ]
          },
          {
           "type": "scatter",
           "x": [
            0,
            0
           ],
           "y": [
            0,
            0.9048270524660196
           ]
          },
          {
           "type": "scatter",
           "x": [
            0
           ],
           "y": [
            0.9048270524660196
           ]
          }
         ],
         "name": "193"
        },
        {
         "data": [
          {
           "line": {
            "width": 3
           },
           "mode": "lines",
           "type": "scatter",
           "x": [
            0,
            0.9297764858882513
           ],
           "y": [
            0,
            -0.3681245526846781
           ]
          },
          {
           "line": {
            "width": 3
           },
           "mode": "lines",
           "type": "scatter",
           "x": [
            0,
            0.9297764858882513
           ],
           "y": [
            -0.3681245526846781,
            -0.3681245526846781
           ]
          },
          {
           "mode": "markers",
           "type": "scatter",
           "x": [
            0.9297764858882513
           ],
           "y": [
            -0.3681245526846781
           ]
          },
          {
           "type": "scatter",
           "x": [
            0,
            1
           ],
           "y": [
            0.9297764858882513,
            0.9297764858882513
           ]
          },
          {
           "type": "scatter",
           "x": [
            0,
            0
           ],
           "y": [
            0,
            0.9297764858882513
           ]
          },
          {
           "type": "scatter",
           "x": [
            0
           ],
           "y": [
            0.9297764858882513
           ]
          }
         ],
         "name": "194"
        },
        {
         "data": [
          {
           "line": {
            "width": 3
           },
           "mode": "lines",
           "type": "scatter",
           "x": [
            0,
            0.951056516295154
           ],
           "y": [
            0,
            -0.3090169943749462
           ]
          },
          {
           "line": {
            "width": 3
           },
           "mode": "lines",
           "type": "scatter",
           "x": [
            0,
            0.951056516295154
           ],
           "y": [
            -0.3090169943749462,
            -0.3090169943749462
           ]
          },
          {
           "mode": "markers",
           "type": "scatter",
           "x": [
            0.951056516295154
           ],
           "y": [
            -0.3090169943749462
           ]
          },
          {
           "type": "scatter",
           "x": [
            0,
            1
           ],
           "y": [
            0.951056516295154,
            0.951056516295154
           ]
          },
          {
           "type": "scatter",
           "x": [
            0,
            0
           ],
           "y": [
            0,
            0.951056516295154
           ]
          },
          {
           "type": "scatter",
           "x": [
            0
           ],
           "y": [
            0.951056516295154
           ]
          }
         ],
         "name": "195"
        },
        {
         "data": [
          {
           "line": {
            "width": 3
           },
           "mode": "lines",
           "type": "scatter",
           "x": [
            0,
            0.9685831611286314
           ],
           "y": [
            0,
            -0.24868988716485388
           ]
          },
          {
           "line": {
            "width": 3
           },
           "mode": "lines",
           "type": "scatter",
           "x": [
            0,
            0.9685831611286314
           ],
           "y": [
            -0.24868988716485388,
            -0.24868988716485388
           ]
          },
          {
           "mode": "markers",
           "type": "scatter",
           "x": [
            0.9685831611286314
           ],
           "y": [
            -0.24868988716485388
           ]
          },
          {
           "type": "scatter",
           "x": [
            0,
            1
           ],
           "y": [
            0.9685831611286314,
            0.9685831611286314
           ]
          },
          {
           "type": "scatter",
           "x": [
            0,
            0
           ],
           "y": [
            0,
            0.9685831611286314
           ]
          },
          {
           "type": "scatter",
           "x": [
            0
           ],
           "y": [
            0.9685831611286314
           ]
          }
         ],
         "name": "196"
        },
        {
         "data": [
          {
           "line": {
            "width": 3
           },
           "mode": "lines",
           "type": "scatter",
           "x": [
            0,
            0.9822872507286888
           ],
           "y": [
            0,
            -0.18738131458572405
           ]
          },
          {
           "line": {
            "width": 3
           },
           "mode": "lines",
           "type": "scatter",
           "x": [
            0,
            0.9822872507286888
           ],
           "y": [
            -0.18738131458572405,
            -0.18738131458572405
           ]
          },
          {
           "mode": "markers",
           "type": "scatter",
           "x": [
            0.9822872507286888
           ],
           "y": [
            -0.18738131458572405
           ]
          },
          {
           "type": "scatter",
           "x": [
            0,
            1
           ],
           "y": [
            0.9822872507286888,
            0.9822872507286888
           ]
          },
          {
           "type": "scatter",
           "x": [
            0,
            0
           ],
           "y": [
            0,
            0.9822872507286888
           ]
          },
          {
           "type": "scatter",
           "x": [
            0
           ],
           "y": [
            0.9822872507286888
           ]
          }
         ],
         "name": "197"
        },
        {
         "data": [
          {
           "line": {
            "width": 3
           },
           "mode": "lines",
           "type": "scatter",
           "x": [
            0,
            0.9921147013144779
           ],
           "y": [
            0,
            -0.125333233564304
           ]
          },
          {
           "line": {
            "width": 3
           },
           "mode": "lines",
           "type": "scatter",
           "x": [
            0,
            0.9921147013144779
           ],
           "y": [
            -0.125333233564304,
            -0.125333233564304
           ]
          },
          {
           "mode": "markers",
           "type": "scatter",
           "x": [
            0.9921147013144779
           ],
           "y": [
            -0.125333233564304
           ]
          },
          {
           "type": "scatter",
           "x": [
            0,
            1
           ],
           "y": [
            0.9921147013144779,
            0.9921147013144779
           ]
          },
          {
           "type": "scatter",
           "x": [
            0,
            0
           ],
           "y": [
            0,
            0.9921147013144779
           ]
          },
          {
           "type": "scatter",
           "x": [
            0
           ],
           "y": [
            0.9921147013144779
           ]
          }
         ],
         "name": "198"
        },
        {
         "data": [
          {
           "line": {
            "width": 3
           },
           "mode": "lines",
           "type": "scatter",
           "x": [
            0,
            0.9980267284282716
           ],
           "y": [
            0,
            -0.06279051952931351
           ]
          },
          {
           "line": {
            "width": 3
           },
           "mode": "lines",
           "type": "scatter",
           "x": [
            0,
            0.9980267284282716
           ],
           "y": [
            -0.06279051952931351,
            -0.06279051952931351
           ]
          },
          {
           "mode": "markers",
           "type": "scatter",
           "x": [
            0.9980267284282716
           ],
           "y": [
            -0.06279051952931351
           ]
          },
          {
           "type": "scatter",
           "x": [
            0,
            1
           ],
           "y": [
            0.9980267284282716,
            0.9980267284282716
           ]
          },
          {
           "type": "scatter",
           "x": [
            0,
            0
           ],
           "y": [
            0,
            0.9980267284282716
           ]
          },
          {
           "type": "scatter",
           "x": [
            0
           ],
           "y": [
            0.9980267284282716
           ]
          }
         ],
         "name": "199"
        },
        {
         "data": [
          {
           "line": {
            "width": 3
           },
           "mode": "lines",
           "type": "scatter",
           "x": [
            0,
            1
           ],
           "y": [
            0,
            -4.898587196589413e-16
           ]
          },
          {
           "line": {
            "width": 3
           },
           "mode": "lines",
           "type": "scatter",
           "x": [
            0,
            1
           ],
           "y": [
            -4.898587196589413e-16,
            -4.898587196589413e-16
           ]
          },
          {
           "mode": "markers",
           "type": "scatter",
           "x": [
            1
           ],
           "y": [
            -4.898587196589413e-16
           ]
          },
          {
           "type": "scatter",
           "x": [
            0,
            1
           ],
           "y": [
            1,
            1
           ]
          },
          {
           "type": "scatter",
           "x": [
            0,
            0
           ],
           "y": [
            0,
            1
           ]
          },
          {
           "type": "scatter",
           "x": [
            0
           ],
           "y": [
            1
           ]
          }
         ],
         "name": "200"
        }
       ],
       "layout": {
        "annotations": [
         {
          "font": {
           "size": 16
          },
          "showarrow": false,
          "text": "Phasor Domain",
          "x": 0.225,
          "xanchor": "center",
          "xref": "paper",
          "y": 1,
          "yanchor": "bottom",
          "yref": "paper"
         },
         {
          "font": {
           "size": 16
          },
          "showarrow": false,
          "text": "Spatial Domain",
          "x": 0.775,
          "xanchor": "center",
          "xref": "paper",
          "y": 1,
          "yanchor": "bottom",
          "yref": "paper"
         }
        ],
        "sliders": [
         {
          "active": 0,
          "pad": {
           "t": 50
          },
          "steps": [
           {
            "args": [
             [
              "0"
             ],
             {
              "frame": {
               "duration": 0,
               "redraw": true
              },
              "mode": "immediate",
              "transition": {
               "duration": 0
              }
             }
            ],
            "label": "Time: 0.0",
            "method": "animate"
           },
           {
            "args": [
             [
              "1"
             ],
             {
              "frame": {
               "duration": 0,
               "redraw": true
              },
              "mode": "immediate",
              "transition": {
               "duration": 0
              }
             }
            ],
            "label": "Time: 0.06",
            "method": "animate"
           },
           {
            "args": [
             [
              "2"
             ],
             {
              "frame": {
               "duration": 0,
               "redraw": true
              },
              "mode": "immediate",
              "transition": {
               "duration": 0
              }
             }
            ],
            "label": "Time: 0.13",
            "method": "animate"
           },
           {
            "args": [
             [
              "3"
             ],
             {
              "frame": {
               "duration": 0,
               "redraw": true
              },
              "mode": "immediate",
              "transition": {
               "duration": 0
              }
             }
            ],
            "label": "Time: 0.19",
            "method": "animate"
           },
           {
            "args": [
             [
              "4"
             ],
             {
              "frame": {
               "duration": 0,
               "redraw": true
              },
              "mode": "immediate",
              "transition": {
               "duration": 0
              }
             }
            ],
            "label": "Time: 0.25",
            "method": "animate"
           },
           {
            "args": [
             [
              "5"
             ],
             {
              "frame": {
               "duration": 0,
               "redraw": true
              },
              "mode": "immediate",
              "transition": {
               "duration": 0
              }
             }
            ],
            "label": "Time: 0.31",
            "method": "animate"
           },
           {
            "args": [
             [
              "6"
             ],
             {
              "frame": {
               "duration": 0,
               "redraw": true
              },
              "mode": "immediate",
              "transition": {
               "duration": 0
              }
             }
            ],
            "label": "Time: 0.38",
            "method": "animate"
           },
           {
            "args": [
             [
              "7"
             ],
             {
              "frame": {
               "duration": 0,
               "redraw": true
              },
              "mode": "immediate",
              "transition": {
               "duration": 0
              }
             }
            ],
            "label": "Time: 0.44",
            "method": "animate"
           },
           {
            "args": [
             [
              "8"
             ],
             {
              "frame": {
               "duration": 0,
               "redraw": true
              },
              "mode": "immediate",
              "transition": {
               "duration": 0
              }
             }
            ],
            "label": "Time: 0.5",
            "method": "animate"
           },
           {
            "args": [
             [
              "9"
             ],
             {
              "frame": {
               "duration": 0,
               "redraw": true
              },
              "mode": "immediate",
              "transition": {
               "duration": 0
              }
             }
            ],
            "label": "Time: 0.57",
            "method": "animate"
           },
           {
            "args": [
             [
              "10"
             ],
             {
              "frame": {
               "duration": 0,
               "redraw": true
              },
              "mode": "immediate",
              "transition": {
               "duration": 0
              }
             }
            ],
            "label": "Time: 0.63",
            "method": "animate"
           },
           {
            "args": [
             [
              "11"
             ],
             {
              "frame": {
               "duration": 0,
               "redraw": true
              },
              "mode": "immediate",
              "transition": {
               "duration": 0
              }
             }
            ],
            "label": "Time: 0.69",
            "method": "animate"
           },
           {
            "args": [
             [
              "12"
             ],
             {
              "frame": {
               "duration": 0,
               "redraw": true
              },
              "mode": "immediate",
              "transition": {
               "duration": 0
              }
             }
            ],
            "label": "Time: 0.75",
            "method": "animate"
           },
           {
            "args": [
             [
              "13"
             ],
             {
              "frame": {
               "duration": 0,
               "redraw": true
              },
              "mode": "immediate",
              "transition": {
               "duration": 0
              }
             }
            ],
            "label": "Time: 0.82",
            "method": "animate"
           },
           {
            "args": [
             [
              "14"
             ],
             {
              "frame": {
               "duration": 0,
               "redraw": true
              },
              "mode": "immediate",
              "transition": {
               "duration": 0
              }
             }
            ],
            "label": "Time: 0.88",
            "method": "animate"
           },
           {
            "args": [
             [
              "15"
             ],
             {
              "frame": {
               "duration": 0,
               "redraw": true
              },
              "mode": "immediate",
              "transition": {
               "duration": 0
              }
             }
            ],
            "label": "Time: 0.94",
            "method": "animate"
           },
           {
            "args": [
             [
              "16"
             ],
             {
              "frame": {
               "duration": 0,
               "redraw": true
              },
              "mode": "immediate",
              "transition": {
               "duration": 0
              }
             }
            ],
            "label": "Time: 1.01",
            "method": "animate"
           },
           {
            "args": [
             [
              "17"
             ],
             {
              "frame": {
               "duration": 0,
               "redraw": true
              },
              "mode": "immediate",
              "transition": {
               "duration": 0
              }
             }
            ],
            "label": "Time: 1.07",
            "method": "animate"
           },
           {
            "args": [
             [
              "18"
             ],
             {
              "frame": {
               "duration": 0,
               "redraw": true
              },
              "mode": "immediate",
              "transition": {
               "duration": 0
              }
             }
            ],
            "label": "Time: 1.13",
            "method": "animate"
           },
           {
            "args": [
             [
              "19"
             ],
             {
              "frame": {
               "duration": 0,
               "redraw": true
              },
              "mode": "immediate",
              "transition": {
               "duration": 0
              }
             }
            ],
            "label": "Time: 1.19",
            "method": "animate"
           },
           {
            "args": [
             [
              "20"
             ],
             {
              "frame": {
               "duration": 0,
               "redraw": true
              },
              "mode": "immediate",
              "transition": {
               "duration": 0
              }
             }
            ],
            "label": "Time: 1.26",
            "method": "animate"
           },
           {
            "args": [
             [
              "21"
             ],
             {
              "frame": {
               "duration": 0,
               "redraw": true
              },
              "mode": "immediate",
              "transition": {
               "duration": 0
              }
             }
            ],
            "label": "Time: 1.32",
            "method": "animate"
           },
           {
            "args": [
             [
              "22"
             ],
             {
              "frame": {
               "duration": 0,
               "redraw": true
              },
              "mode": "immediate",
              "transition": {
               "duration": 0
              }
             }
            ],
            "label": "Time: 1.38",
            "method": "animate"
           },
           {
            "args": [
             [
              "23"
             ],
             {
              "frame": {
               "duration": 0,
               "redraw": true
              },
              "mode": "immediate",
              "transition": {
               "duration": 0
              }
             }
            ],
            "label": "Time: 1.45",
            "method": "animate"
           },
           {
            "args": [
             [
              "24"
             ],
             {
              "frame": {
               "duration": 0,
               "redraw": true
              },
              "mode": "immediate",
              "transition": {
               "duration": 0
              }
             }
            ],
            "label": "Time: 1.51",
            "method": "animate"
           },
           {
            "args": [
             [
              "25"
             ],
             {
              "frame": {
               "duration": 0,
               "redraw": true
              },
              "mode": "immediate",
              "transition": {
               "duration": 0
              }
             }
            ],
            "label": "Time: 1.57",
            "method": "animate"
           },
           {
            "args": [
             [
              "26"
             ],
             {
              "frame": {
               "duration": 0,
               "redraw": true
              },
              "mode": "immediate",
              "transition": {
               "duration": 0
              }
             }
            ],
            "label": "Time: 1.63",
            "method": "animate"
           },
           {
            "args": [
             [
              "27"
             ],
             {
              "frame": {
               "duration": 0,
               "redraw": true
              },
              "mode": "immediate",
              "transition": {
               "duration": 0
              }
             }
            ],
            "label": "Time: 1.7",
            "method": "animate"
           },
           {
            "args": [
             [
              "28"
             ],
             {
              "frame": {
               "duration": 0,
               "redraw": true
              },
              "mode": "immediate",
              "transition": {
               "duration": 0
              }
             }
            ],
            "label": "Time: 1.76",
            "method": "animate"
           },
           {
            "args": [
             [
              "29"
             ],
             {
              "frame": {
               "duration": 0,
               "redraw": true
              },
              "mode": "immediate",
              "transition": {
               "duration": 0
              }
             }
            ],
            "label": "Time: 1.82",
            "method": "animate"
           },
           {
            "args": [
             [
              "30"
             ],
             {
              "frame": {
               "duration": 0,
               "redraw": true
              },
              "mode": "immediate",
              "transition": {
               "duration": 0
              }
             }
            ],
            "label": "Time: 1.88",
            "method": "animate"
           },
           {
            "args": [
             [
              "31"
             ],
             {
              "frame": {
               "duration": 0,
               "redraw": true
              },
              "mode": "immediate",
              "transition": {
               "duration": 0
              }
             }
            ],
            "label": "Time: 1.95",
            "method": "animate"
           },
           {
            "args": [
             [
              "32"
             ],
             {
              "frame": {
               "duration": 0,
               "redraw": true
              },
              "mode": "immediate",
              "transition": {
               "duration": 0
              }
             }
            ],
            "label": "Time: 2.01",
            "method": "animate"
           },
           {
            "args": [
             [
              "33"
             ],
             {
              "frame": {
               "duration": 0,
               "redraw": true
              },
              "mode": "immediate",
              "transition": {
               "duration": 0
              }
             }
            ],
            "label": "Time: 2.07",
            "method": "animate"
           },
           {
            "args": [
             [
              "34"
             ],
             {
              "frame": {
               "duration": 0,
               "redraw": true
              },
              "mode": "immediate",
              "transition": {
               "duration": 0
              }
             }
            ],
            "label": "Time: 2.14",
            "method": "animate"
           },
           {
            "args": [
             [
              "35"
             ],
             {
              "frame": {
               "duration": 0,
               "redraw": true
              },
              "mode": "immediate",
              "transition": {
               "duration": 0
              }
             }
            ],
            "label": "Time: 2.2",
            "method": "animate"
           },
           {
            "args": [
             [
              "36"
             ],
             {
              "frame": {
               "duration": 0,
               "redraw": true
              },
              "mode": "immediate",
              "transition": {
               "duration": 0
              }
             }
            ],
            "label": "Time: 2.26",
            "method": "animate"
           },
           {
            "args": [
             [
              "37"
             ],
             {
              "frame": {
               "duration": 0,
               "redraw": true
              },
              "mode": "immediate",
              "transition": {
               "duration": 0
              }
             }
            ],
            "label": "Time: 2.32",
            "method": "animate"
           },
           {
            "args": [
             [
              "38"
             ],
             {
              "frame": {
               "duration": 0,
               "redraw": true
              },
              "mode": "immediate",
              "transition": {
               "duration": 0
              }
             }
            ],
            "label": "Time: 2.39",
            "method": "animate"
           },
           {
            "args": [
             [
              "39"
             ],
             {
              "frame": {
               "duration": 0,
               "redraw": true
              },
              "mode": "immediate",
              "transition": {
               "duration": 0
              }
             }
            ],
            "label": "Time: 2.45",
            "method": "animate"
           },
           {
            "args": [
             [
              "40"
             ],
             {
              "frame": {
               "duration": 0,
               "redraw": true
              },
              "mode": "immediate",
              "transition": {
               "duration": 0
              }
             }
            ],
            "label": "Time: 2.51",
            "method": "animate"
           },
           {
            "args": [
             [
              "41"
             ],
             {
              "frame": {
               "duration": 0,
               "redraw": true
              },
              "mode": "immediate",
              "transition": {
               "duration": 0
              }
             }
            ],
            "label": "Time: 2.58",
            "method": "animate"
           },
           {
            "args": [
             [
              "42"
             ],
             {
              "frame": {
               "duration": 0,
               "redraw": true
              },
              "mode": "immediate",
              "transition": {
               "duration": 0
              }
             }
            ],
            "label": "Time: 2.64",
            "method": "animate"
           },
           {
            "args": [
             [
              "43"
             ],
             {
              "frame": {
               "duration": 0,
               "redraw": true
              },
              "mode": "immediate",
              "transition": {
               "duration": 0
              }
             }
            ],
            "label": "Time: 2.7",
            "method": "animate"
           },
           {
            "args": [
             [
              "44"
             ],
             {
              "frame": {
               "duration": 0,
               "redraw": true
              },
              "mode": "immediate",
              "transition": {
               "duration": 0
              }
             }
            ],
            "label": "Time: 2.76",
            "method": "animate"
           },
           {
            "args": [
             [
              "45"
             ],
             {
              "frame": {
               "duration": 0,
               "redraw": true
              },
              "mode": "immediate",
              "transition": {
               "duration": 0
              }
             }
            ],
            "label": "Time: 2.83",
            "method": "animate"
           },
           {
            "args": [
             [
              "46"
             ],
             {
              "frame": {
               "duration": 0,
               "redraw": true
              },
              "mode": "immediate",
              "transition": {
               "duration": 0
              }
             }
            ],
            "label": "Time: 2.89",
            "method": "animate"
           },
           {
            "args": [
             [
              "47"
             ],
             {
              "frame": {
               "duration": 0,
               "redraw": true
              },
              "mode": "immediate",
              "transition": {
               "duration": 0
              }
             }
            ],
            "label": "Time: 2.95",
            "method": "animate"
           },
           {
            "args": [
             [
              "48"
             ],
             {
              "frame": {
               "duration": 0,
               "redraw": true
              },
              "mode": "immediate",
              "transition": {
               "duration": 0
              }
             }
            ],
            "label": "Time: 3.02",
            "method": "animate"
           },
           {
            "args": [
             [
              "49"
             ],
             {
              "frame": {
               "duration": 0,
               "redraw": true
              },
              "mode": "immediate",
              "transition": {
               "duration": 0
              }
             }
            ],
            "label": "Time: 3.08",
            "method": "animate"
           },
           {
            "args": [
             [
              "50"
             ],
             {
              "frame": {
               "duration": 0,
               "redraw": true
              },
              "mode": "immediate",
              "transition": {
               "duration": 0
              }
             }
            ],
            "label": "Time: 3.14",
            "method": "animate"
           },
           {
            "args": [
             [
              "51"
             ],
             {
              "frame": {
               "duration": 0,
               "redraw": true
              },
              "mode": "immediate",
              "transition": {
               "duration": 0
              }
             }
            ],
            "label": "Time: 3.2",
            "method": "animate"
           },
           {
            "args": [
             [
              "52"
             ],
             {
              "frame": {
               "duration": 0,
               "redraw": true
              },
              "mode": "immediate",
              "transition": {
               "duration": 0
              }
             }
            ],
            "label": "Time: 3.27",
            "method": "animate"
           },
           {
            "args": [
             [
              "53"
             ],
             {
              "frame": {
               "duration": 0,
               "redraw": true
              },
              "mode": "immediate",
              "transition": {
               "duration": 0
              }
             }
            ],
            "label": "Time: 3.33",
            "method": "animate"
           },
           {
            "args": [
             [
              "54"
             ],
             {
              "frame": {
               "duration": 0,
               "redraw": true
              },
              "mode": "immediate",
              "transition": {
               "duration": 0
              }
             }
            ],
            "label": "Time: 3.39",
            "method": "animate"
           },
           {
            "args": [
             [
              "55"
             ],
             {
              "frame": {
               "duration": 0,
               "redraw": true
              },
              "mode": "immediate",
              "transition": {
               "duration": 0
              }
             }
            ],
            "label": "Time: 3.46",
            "method": "animate"
           },
           {
            "args": [
             [
              "56"
             ],
             {
              "frame": {
               "duration": 0,
               "redraw": true
              },
              "mode": "immediate",
              "transition": {
               "duration": 0
              }
             }
            ],
            "label": "Time: 3.52",
            "method": "animate"
           },
           {
            "args": [
             [
              "57"
             ],
             {
              "frame": {
               "duration": 0,
               "redraw": true
              },
              "mode": "immediate",
              "transition": {
               "duration": 0
              }
             }
            ],
            "label": "Time: 3.58",
            "method": "animate"
           },
           {
            "args": [
             [
              "58"
             ],
             {
              "frame": {
               "duration": 0,
               "redraw": true
              },
              "mode": "immediate",
              "transition": {
               "duration": 0
              }
             }
            ],
            "label": "Time: 3.64",
            "method": "animate"
           },
           {
            "args": [
             [
              "59"
             ],
             {
              "frame": {
               "duration": 0,
               "redraw": true
              },
              "mode": "immediate",
              "transition": {
               "duration": 0
              }
             }
            ],
            "label": "Time: 3.71",
            "method": "animate"
           },
           {
            "args": [
             [
              "60"
             ],
             {
              "frame": {
               "duration": 0,
               "redraw": true
              },
              "mode": "immediate",
              "transition": {
               "duration": 0
              }
             }
            ],
            "label": "Time: 3.77",
            "method": "animate"
           },
           {
            "args": [
             [
              "61"
             ],
             {
              "frame": {
               "duration": 0,
               "redraw": true
              },
              "mode": "immediate",
              "transition": {
               "duration": 0
              }
             }
            ],
            "label": "Time: 3.83",
            "method": "animate"
           },
           {
            "args": [
             [
              "62"
             ],
             {
              "frame": {
               "duration": 0,
               "redraw": true
              },
              "mode": "immediate",
              "transition": {
               "duration": 0
              }
             }
            ],
            "label": "Time: 3.9",
            "method": "animate"
           },
           {
            "args": [
             [
              "63"
             ],
             {
              "frame": {
               "duration": 0,
               "redraw": true
              },
              "mode": "immediate",
              "transition": {
               "duration": 0
              }
             }
            ],
            "label": "Time: 3.96",
            "method": "animate"
           },
           {
            "args": [
             [
              "64"
             ],
             {
              "frame": {
               "duration": 0,
               "redraw": true
              },
              "mode": "immediate",
              "transition": {
               "duration": 0
              }
             }
            ],
            "label": "Time: 4.02",
            "method": "animate"
           },
           {
            "args": [
             [
              "65"
             ],
             {
              "frame": {
               "duration": 0,
               "redraw": true
              },
              "mode": "immediate",
              "transition": {
               "duration": 0
              }
             }
            ],
            "label": "Time: 4.08",
            "method": "animate"
           },
           {
            "args": [
             [
              "66"
             ],
             {
              "frame": {
               "duration": 0,
               "redraw": true
              },
              "mode": "immediate",
              "transition": {
               "duration": 0
              }
             }
            ],
            "label": "Time: 4.15",
            "method": "animate"
           },
           {
            "args": [
             [
              "67"
             ],
             {
              "frame": {
               "duration": 0,
               "redraw": true
              },
              "mode": "immediate",
              "transition": {
               "duration": 0
              }
             }
            ],
            "label": "Time: 4.21",
            "method": "animate"
           },
           {
            "args": [
             [
              "68"
             ],
             {
              "frame": {
               "duration": 0,
               "redraw": true
              },
              "mode": "immediate",
              "transition": {
               "duration": 0
              }
             }
            ],
            "label": "Time: 4.27",
            "method": "animate"
           },
           {
            "args": [
             [
              "69"
             ],
             {
              "frame": {
               "duration": 0,
               "redraw": true
              },
              "mode": "immediate",
              "transition": {
               "duration": 0
              }
             }
            ],
            "label": "Time: 4.34",
            "method": "animate"
           },
           {
            "args": [
             [
              "70"
             ],
             {
              "frame": {
               "duration": 0,
               "redraw": true
              },
              "mode": "immediate",
              "transition": {
               "duration": 0
              }
             }
            ],
            "label": "Time: 4.4",
            "method": "animate"
           },
           {
            "args": [
             [
              "71"
             ],
             {
              "frame": {
               "duration": 0,
               "redraw": true
              },
              "mode": "immediate",
              "transition": {
               "duration": 0
              }
             }
            ],
            "label": "Time: 4.46",
            "method": "animate"
           },
           {
            "args": [
             [
              "72"
             ],
             {
              "frame": {
               "duration": 0,
               "redraw": true
              },
              "mode": "immediate",
              "transition": {
               "duration": 0
              }
             }
            ],
            "label": "Time: 4.52",
            "method": "animate"
           },
           {
            "args": [
             [
              "73"
             ],
             {
              "frame": {
               "duration": 0,
               "redraw": true
              },
              "mode": "immediate",
              "transition": {
               "duration": 0
              }
             }
            ],
            "label": "Time: 4.59",
            "method": "animate"
           },
           {
            "args": [
             [
              "74"
             ],
             {
              "frame": {
               "duration": 0,
               "redraw": true
              },
              "mode": "immediate",
              "transition": {
               "duration": 0
              }
             }
            ],
            "label": "Time: 4.65",
            "method": "animate"
           },
           {
            "args": [
             [
              "75"
             ],
             {
              "frame": {
               "duration": 0,
               "redraw": true
              },
              "mode": "immediate",
              "transition": {
               "duration": 0
              }
             }
            ],
            "label": "Time: 4.71",
            "method": "animate"
           },
           {
            "args": [
             [
              "76"
             ],
             {
              "frame": {
               "duration": 0,
               "redraw": true
              },
              "mode": "immediate",
              "transition": {
               "duration": 0
              }
             }
            ],
            "label": "Time: 4.78",
            "method": "animate"
           },
           {
            "args": [
             [
              "77"
             ],
             {
              "frame": {
               "duration": 0,
               "redraw": true
              },
              "mode": "immediate",
              "transition": {
               "duration": 0
              }
             }
            ],
            "label": "Time: 4.84",
            "method": "animate"
           },
           {
            "args": [
             [
              "78"
             ],
             {
              "frame": {
               "duration": 0,
               "redraw": true
              },
              "mode": "immediate",
              "transition": {
               "duration": 0
              }
             }
            ],
            "label": "Time: 4.9",
            "method": "animate"
           },
           {
            "args": [
             [
              "79"
             ],
             {
              "frame": {
               "duration": 0,
               "redraw": true
              },
              "mode": "immediate",
              "transition": {
               "duration": 0
              }
             }
            ],
            "label": "Time: 4.96",
            "method": "animate"
           },
           {
            "args": [
             [
              "80"
             ],
             {
              "frame": {
               "duration": 0,
               "redraw": true
              },
              "mode": "immediate",
              "transition": {
               "duration": 0
              }
             }
            ],
            "label": "Time: 5.03",
            "method": "animate"
           },
           {
            "args": [
             [
              "81"
             ],
             {
              "frame": {
               "duration": 0,
               "redraw": true
              },
              "mode": "immediate",
              "transition": {
               "duration": 0
              }
             }
            ],
            "label": "Time: 5.09",
            "method": "animate"
           },
           {
            "args": [
             [
              "82"
             ],
             {
              "frame": {
               "duration": 0,
               "redraw": true
              },
              "mode": "immediate",
              "transition": {
               "duration": 0
              }
             }
            ],
            "label": "Time: 5.15",
            "method": "animate"
           },
           {
            "args": [
             [
              "83"
             ],
             {
              "frame": {
               "duration": 0,
               "redraw": true
              },
              "mode": "immediate",
              "transition": {
               "duration": 0
              }
             }
            ],
            "label": "Time: 5.22",
            "method": "animate"
           },
           {
            "args": [
             [
              "84"
             ],
             {
              "frame": {
               "duration": 0,
               "redraw": true
              },
              "mode": "immediate",
              "transition": {
               "duration": 0
              }
             }
            ],
            "label": "Time: 5.28",
            "method": "animate"
           },
           {
            "args": [
             [
              "85"
             ],
             {
              "frame": {
               "duration": 0,
               "redraw": true
              },
              "mode": "immediate",
              "transition": {
               "duration": 0
              }
             }
            ],
            "label": "Time: 5.34",
            "method": "animate"
           },
           {
            "args": [
             [
              "86"
             ],
             {
              "frame": {
               "duration": 0,
               "redraw": true
              },
              "mode": "immediate",
              "transition": {
               "duration": 0
              }
             }
            ],
            "label": "Time: 5.4",
            "method": "animate"
           },
           {
            "args": [
             [
              "87"
             ],
             {
              "frame": {
               "duration": 0,
               "redraw": true
              },
              "mode": "immediate",
              "transition": {
               "duration": 0
              }
             }
            ],
            "label": "Time: 5.47",
            "method": "animate"
           },
           {
            "args": [
             [
              "88"
             ],
             {
              "frame": {
               "duration": 0,
               "redraw": true
              },
              "mode": "immediate",
              "transition": {
               "duration": 0
              }
             }
            ],
            "label": "Time: 5.53",
            "method": "animate"
           },
           {
            "args": [
             [
              "89"
             ],
             {
              "frame": {
               "duration": 0,
               "redraw": true
              },
              "mode": "immediate",
              "transition": {
               "duration": 0
              }
             }
            ],
            "label": "Time: 5.59",
            "method": "animate"
           },
           {
            "args": [
             [
              "90"
             ],
             {
              "frame": {
               "duration": 0,
               "redraw": true
              },
              "mode": "immediate",
              "transition": {
               "duration": 0
              }
             }
            ],
            "label": "Time: 5.65",
            "method": "animate"
           },
           {
            "args": [
             [
              "91"
             ],
             {
              "frame": {
               "duration": 0,
               "redraw": true
              },
              "mode": "immediate",
              "transition": {
               "duration": 0
              }
             }
            ],
            "label": "Time: 5.72",
            "method": "animate"
           },
           {
            "args": [
             [
              "92"
             ],
             {
              "frame": {
               "duration": 0,
               "redraw": true
              },
              "mode": "immediate",
              "transition": {
               "duration": 0
              }
             }
            ],
            "label": "Time: 5.78",
            "method": "animate"
           },
           {
            "args": [
             [
              "93"
             ],
             {
              "frame": {
               "duration": 0,
               "redraw": true
              },
              "mode": "immediate",
              "transition": {
               "duration": 0
              }
             }
            ],
            "label": "Time: 5.84",
            "method": "animate"
           },
           {
            "args": [
             [
              "94"
             ],
             {
              "frame": {
               "duration": 0,
               "redraw": true
              },
              "mode": "immediate",
              "transition": {
               "duration": 0
              }
             }
            ],
            "label": "Time: 5.91",
            "method": "animate"
           },
           {
            "args": [
             [
              "95"
             ],
             {
              "frame": {
               "duration": 0,
               "redraw": true
              },
              "mode": "immediate",
              "transition": {
               "duration": 0
              }
             }
            ],
            "label": "Time: 5.97",
            "method": "animate"
           },
           {
            "args": [
             [
              "96"
             ],
             {
              "frame": {
               "duration": 0,
               "redraw": true
              },
              "mode": "immediate",
              "transition": {
               "duration": 0
              }
             }
            ],
            "label": "Time: 6.03",
            "method": "animate"
           },
           {
            "args": [
             [
              "97"
             ],
             {
              "frame": {
               "duration": 0,
               "redraw": true
              },
              "mode": "immediate",
              "transition": {
               "duration": 0
              }
             }
            ],
            "label": "Time: 6.09",
            "method": "animate"
           },
           {
            "args": [
             [
              "98"
             ],
             {
              "frame": {
               "duration": 0,
               "redraw": true
              },
              "mode": "immediate",
              "transition": {
               "duration": 0
              }
             }
            ],
            "label": "Time: 6.16",
            "method": "animate"
           },
           {
            "args": [
             [
              "99"
             ],
             {
              "frame": {
               "duration": 0,
               "redraw": true
              },
              "mode": "immediate",
              "transition": {
               "duration": 0
              }
             }
            ],
            "label": "Time: 6.22",
            "method": "animate"
           },
           {
            "args": [
             [
              "100"
             ],
             {
              "frame": {
               "duration": 0,
               "redraw": true
              },
              "mode": "immediate",
              "transition": {
               "duration": 0
              }
             }
            ],
            "label": "Time: 6.28",
            "method": "animate"
           },
           {
            "args": [
             [
              "101"
             ],
             {
              "frame": {
               "duration": 0,
               "redraw": true
              },
              "mode": "immediate",
              "transition": {
               "duration": 0
              }
             }
            ],
            "label": "Time: 6.35",
            "method": "animate"
           },
           {
            "args": [
             [
              "102"
             ],
             {
              "frame": {
               "duration": 0,
               "redraw": true
              },
              "mode": "immediate",
              "transition": {
               "duration": 0
              }
             }
            ],
            "label": "Time: 6.41",
            "method": "animate"
           },
           {
            "args": [
             [
              "103"
             ],
             {
              "frame": {
               "duration": 0,
               "redraw": true
              },
              "mode": "immediate",
              "transition": {
               "duration": 0
              }
             }
            ],
            "label": "Time: 6.47",
            "method": "animate"
           },
           {
            "args": [
             [
              "104"
             ],
             {
              "frame": {
               "duration": 0,
               "redraw": true
              },
              "mode": "immediate",
              "transition": {
               "duration": 0
              }
             }
            ],
            "label": "Time: 6.53",
            "method": "animate"
           },
           {
            "args": [
             [
              "105"
             ],
             {
              "frame": {
               "duration": 0,
               "redraw": true
              },
              "mode": "immediate",
              "transition": {
               "duration": 0
              }
             }
            ],
            "label": "Time: 6.6",
            "method": "animate"
           },
           {
            "args": [
             [
              "106"
             ],
             {
              "frame": {
               "duration": 0,
               "redraw": true
              },
              "mode": "immediate",
              "transition": {
               "duration": 0
              }
             }
            ],
            "label": "Time: 6.66",
            "method": "animate"
           },
           {
            "args": [
             [
              "107"
             ],
             {
              "frame": {
               "duration": 0,
               "redraw": true
              },
              "mode": "immediate",
              "transition": {
               "duration": 0
              }
             }
            ],
            "label": "Time: 6.72",
            "method": "animate"
           },
           {
            "args": [
             [
              "108"
             ],
             {
              "frame": {
               "duration": 0,
               "redraw": true
              },
              "mode": "immediate",
              "transition": {
               "duration": 0
              }
             }
            ],
            "label": "Time: 6.79",
            "method": "animate"
           },
           {
            "args": [
             [
              "109"
             ],
             {
              "frame": {
               "duration": 0,
               "redraw": true
              },
              "mode": "immediate",
              "transition": {
               "duration": 0
              }
             }
            ],
            "label": "Time: 6.85",
            "method": "animate"
           },
           {
            "args": [
             [
              "110"
             ],
             {
              "frame": {
               "duration": 0,
               "redraw": true
              },
              "mode": "immediate",
              "transition": {
               "duration": 0
              }
             }
            ],
            "label": "Time: 6.91",
            "method": "animate"
           },
           {
            "args": [
             [
              "111"
             ],
             {
              "frame": {
               "duration": 0,
               "redraw": true
              },
              "mode": "immediate",
              "transition": {
               "duration": 0
              }
             }
            ],
            "label": "Time: 6.97",
            "method": "animate"
           },
           {
            "args": [
             [
              "112"
             ],
             {
              "frame": {
               "duration": 0,
               "redraw": true
              },
              "mode": "immediate",
              "transition": {
               "duration": 0
              }
             }
            ],
            "label": "Time: 7.04",
            "method": "animate"
           },
           {
            "args": [
             [
              "113"
             ],
             {
              "frame": {
               "duration": 0,
               "redraw": true
              },
              "mode": "immediate",
              "transition": {
               "duration": 0
              }
             }
            ],
            "label": "Time: 7.1",
            "method": "animate"
           },
           {
            "args": [
             [
              "114"
             ],
             {
              "frame": {
               "duration": 0,
               "redraw": true
              },
              "mode": "immediate",
              "transition": {
               "duration": 0
              }
             }
            ],
            "label": "Time: 7.16",
            "method": "animate"
           },
           {
            "args": [
             [
              "115"
             ],
             {
              "frame": {
               "duration": 0,
               "redraw": true
              },
              "mode": "immediate",
              "transition": {
               "duration": 0
              }
             }
            ],
            "label": "Time: 7.23",
            "method": "animate"
           },
           {
            "args": [
             [
              "116"
             ],
             {
              "frame": {
               "duration": 0,
               "redraw": true
              },
              "mode": "immediate",
              "transition": {
               "duration": 0
              }
             }
            ],
            "label": "Time: 7.29",
            "method": "animate"
           },
           {
            "args": [
             [
              "117"
             ],
             {
              "frame": {
               "duration": 0,
               "redraw": true
              },
              "mode": "immediate",
              "transition": {
               "duration": 0
              }
             }
            ],
            "label": "Time: 7.35",
            "method": "animate"
           },
           {
            "args": [
             [
              "118"
             ],
             {
              "frame": {
               "duration": 0,
               "redraw": true
              },
              "mode": "immediate",
              "transition": {
               "duration": 0
              }
             }
            ],
            "label": "Time: 7.41",
            "method": "animate"
           },
           {
            "args": [
             [
              "119"
             ],
             {
              "frame": {
               "duration": 0,
               "redraw": true
              },
              "mode": "immediate",
              "transition": {
               "duration": 0
              }
             }
            ],
            "label": "Time: 7.48",
            "method": "animate"
           },
           {
            "args": [
             [
              "120"
             ],
             {
              "frame": {
               "duration": 0,
               "redraw": true
              },
              "mode": "immediate",
              "transition": {
               "duration": 0
              }
             }
            ],
            "label": "Time: 7.54",
            "method": "animate"
           },
           {
            "args": [
             [
              "121"
             ],
             {
              "frame": {
               "duration": 0,
               "redraw": true
              },
              "mode": "immediate",
              "transition": {
               "duration": 0
              }
             }
            ],
            "label": "Time: 7.6",
            "method": "animate"
           },
           {
            "args": [
             [
              "122"
             ],
             {
              "frame": {
               "duration": 0,
               "redraw": true
              },
              "mode": "immediate",
              "transition": {
               "duration": 0
              }
             }
            ],
            "label": "Time: 7.67",
            "method": "animate"
           },
           {
            "args": [
             [
              "123"
             ],
             {
              "frame": {
               "duration": 0,
               "redraw": true
              },
              "mode": "immediate",
              "transition": {
               "duration": 0
              }
             }
            ],
            "label": "Time: 7.73",
            "method": "animate"
           },
           {
            "args": [
             [
              "124"
             ],
             {
              "frame": {
               "duration": 0,
               "redraw": true
              },
              "mode": "immediate",
              "transition": {
               "duration": 0
              }
             }
            ],
            "label": "Time: 7.79",
            "method": "animate"
           },
           {
            "args": [
             [
              "125"
             ],
             {
              "frame": {
               "duration": 0,
               "redraw": true
              },
              "mode": "immediate",
              "transition": {
               "duration": 0
              }
             }
            ],
            "label": "Time: 7.85",
            "method": "animate"
           },
           {
            "args": [
             [
              "126"
             ],
             {
              "frame": {
               "duration": 0,
               "redraw": true
              },
              "mode": "immediate",
              "transition": {
               "duration": 0
              }
             }
            ],
            "label": "Time: 7.92",
            "method": "animate"
           },
           {
            "args": [
             [
              "127"
             ],
             {
              "frame": {
               "duration": 0,
               "redraw": true
              },
              "mode": "immediate",
              "transition": {
               "duration": 0
              }
             }
            ],
            "label": "Time: 7.98",
            "method": "animate"
           },
           {
            "args": [
             [
              "128"
             ],
             {
              "frame": {
               "duration": 0,
               "redraw": true
              },
              "mode": "immediate",
              "transition": {
               "duration": 0
              }
             }
            ],
            "label": "Time: 8.04",
            "method": "animate"
           },
           {
            "args": [
             [
              "129"
             ],
             {
              "frame": {
               "duration": 0,
               "redraw": true
              },
              "mode": "immediate",
              "transition": {
               "duration": 0
              }
             }
            ],
            "label": "Time: 8.11",
            "method": "animate"
           },
           {
            "args": [
             [
              "130"
             ],
             {
              "frame": {
               "duration": 0,
               "redraw": true
              },
              "mode": "immediate",
              "transition": {
               "duration": 0
              }
             }
            ],
            "label": "Time: 8.17",
            "method": "animate"
           },
           {
            "args": [
             [
              "131"
             ],
             {
              "frame": {
               "duration": 0,
               "redraw": true
              },
              "mode": "immediate",
              "transition": {
               "duration": 0
              }
             }
            ],
            "label": "Time: 8.23",
            "method": "animate"
           },
           {
            "args": [
             [
              "132"
             ],
             {
              "frame": {
               "duration": 0,
               "redraw": true
              },
              "mode": "immediate",
              "transition": {
               "duration": 0
              }
             }
            ],
            "label": "Time: 8.29",
            "method": "animate"
           },
           {
            "args": [
             [
              "133"
             ],
             {
              "frame": {
               "duration": 0,
               "redraw": true
              },
              "mode": "immediate",
              "transition": {
               "duration": 0
              }
             }
            ],
            "label": "Time: 8.36",
            "method": "animate"
           },
           {
            "args": [
             [
              "134"
             ],
             {
              "frame": {
               "duration": 0,
               "redraw": true
              },
              "mode": "immediate",
              "transition": {
               "duration": 0
              }
             }
            ],
            "label": "Time: 8.42",
            "method": "animate"
           },
           {
            "args": [
             [
              "135"
             ],
             {
              "frame": {
               "duration": 0,
               "redraw": true
              },
              "mode": "immediate",
              "transition": {
               "duration": 0
              }
             }
            ],
            "label": "Time: 8.48",
            "method": "animate"
           },
           {
            "args": [
             [
              "136"
             ],
             {
              "frame": {
               "duration": 0,
               "redraw": true
              },
              "mode": "immediate",
              "transition": {
               "duration": 0
              }
             }
            ],
            "label": "Time: 8.55",
            "method": "animate"
           },
           {
            "args": [
             [
              "137"
             ],
             {
              "frame": {
               "duration": 0,
               "redraw": true
              },
              "mode": "immediate",
              "transition": {
               "duration": 0
              }
             }
            ],
            "label": "Time: 8.61",
            "method": "animate"
           },
           {
            "args": [
             [
              "138"
             ],
             {
              "frame": {
               "duration": 0,
               "redraw": true
              },
              "mode": "immediate",
              "transition": {
               "duration": 0
              }
             }
            ],
            "label": "Time: 8.67",
            "method": "animate"
           },
           {
            "args": [
             [
              "139"
             ],
             {
              "frame": {
               "duration": 0,
               "redraw": true
              },
              "mode": "immediate",
              "transition": {
               "duration": 0
              }
             }
            ],
            "label": "Time: 8.73",
            "method": "animate"
           },
           {
            "args": [
             [
              "140"
             ],
             {
              "frame": {
               "duration": 0,
               "redraw": true
              },
              "mode": "immediate",
              "transition": {
               "duration": 0
              }
             }
            ],
            "label": "Time: 8.8",
            "method": "animate"
           },
           {
            "args": [
             [
              "141"
             ],
             {
              "frame": {
               "duration": 0,
               "redraw": true
              },
              "mode": "immediate",
              "transition": {
               "duration": 0
              }
             }
            ],
            "label": "Time: 8.86",
            "method": "animate"
           },
           {
            "args": [
             [
              "142"
             ],
             {
              "frame": {
               "duration": 0,
               "redraw": true
              },
              "mode": "immediate",
              "transition": {
               "duration": 0
              }
             }
            ],
            "label": "Time: 8.92",
            "method": "animate"
           },
           {
            "args": [
             [
              "143"
             ],
             {
              "frame": {
               "duration": 0,
               "redraw": true
              },
              "mode": "immediate",
              "transition": {
               "duration": 0
              }
             }
            ],
            "label": "Time: 8.98",
            "method": "animate"
           },
           {
            "args": [
             [
              "144"
             ],
             {
              "frame": {
               "duration": 0,
               "redraw": true
              },
              "mode": "immediate",
              "transition": {
               "duration": 0
              }
             }
            ],
            "label": "Time: 9.05",
            "method": "animate"
           },
           {
            "args": [
             [
              "145"
             ],
             {
              "frame": {
               "duration": 0,
               "redraw": true
              },
              "mode": "immediate",
              "transition": {
               "duration": 0
              }
             }
            ],
            "label": "Time: 9.11",
            "method": "animate"
           },
           {
            "args": [
             [
              "146"
             ],
             {
              "frame": {
               "duration": 0,
               "redraw": true
              },
              "mode": "immediate",
              "transition": {
               "duration": 0
              }
             }
            ],
            "label": "Time: 9.17",
            "method": "animate"
           },
           {
            "args": [
             [
              "147"
             ],
             {
              "frame": {
               "duration": 0,
               "redraw": true
              },
              "mode": "immediate",
              "transition": {
               "duration": 0
              }
             }
            ],
            "label": "Time: 9.24",
            "method": "animate"
           },
           {
            "args": [
             [
              "148"
             ],
             {
              "frame": {
               "duration": 0,
               "redraw": true
              },
              "mode": "immediate",
              "transition": {
               "duration": 0
              }
             }
            ],
            "label": "Time: 9.3",
            "method": "animate"
           },
           {
            "args": [
             [
              "149"
             ],
             {
              "frame": {
               "duration": 0,
               "redraw": true
              },
              "mode": "immediate",
              "transition": {
               "duration": 0
              }
             }
            ],
            "label": "Time: 9.36",
            "method": "animate"
           },
           {
            "args": [
             [
              "150"
             ],
             {
              "frame": {
               "duration": 0,
               "redraw": true
              },
              "mode": "immediate",
              "transition": {
               "duration": 0
              }
             }
            ],
            "label": "Time: 9.42",
            "method": "animate"
           },
           {
            "args": [
             [
              "151"
             ],
             {
              "frame": {
               "duration": 0,
               "redraw": true
              },
              "mode": "immediate",
              "transition": {
               "duration": 0
              }
             }
            ],
            "label": "Time: 9.49",
            "method": "animate"
           },
           {
            "args": [
             [
              "152"
             ],
             {
              "frame": {
               "duration": 0,
               "redraw": true
              },
              "mode": "immediate",
              "transition": {
               "duration": 0
              }
             }
            ],
            "label": "Time: 9.55",
            "method": "animate"
           },
           {
            "args": [
             [
              "153"
             ],
             {
              "frame": {
               "duration": 0,
               "redraw": true
              },
              "mode": "immediate",
              "transition": {
               "duration": 0
              }
             }
            ],
            "label": "Time: 9.61",
            "method": "animate"
           },
           {
            "args": [
             [
              "154"
             ],
             {
              "frame": {
               "duration": 0,
               "redraw": true
              },
              "mode": "immediate",
              "transition": {
               "duration": 0
              }
             }
            ],
            "label": "Time: 9.68",
            "method": "animate"
           },
           {
            "args": [
             [
              "155"
             ],
             {
              "frame": {
               "duration": 0,
               "redraw": true
              },
              "mode": "immediate",
              "transition": {
               "duration": 0
              }
             }
            ],
            "label": "Time: 9.74",
            "method": "animate"
           },
           {
            "args": [
             [
              "156"
             ],
             {
              "frame": {
               "duration": 0,
               "redraw": true
              },
              "mode": "immediate",
              "transition": {
               "duration": 0
              }
             }
            ],
            "label": "Time: 9.8",
            "method": "animate"
           },
           {
            "args": [
             [
              "157"
             ],
             {
              "frame": {
               "duration": 0,
               "redraw": true
              },
              "mode": "immediate",
              "transition": {
               "duration": 0
              }
             }
            ],
            "label": "Time: 9.86",
            "method": "animate"
           },
           {
            "args": [
             [
              "158"
             ],
             {
              "frame": {
               "duration": 0,
               "redraw": true
              },
              "mode": "immediate",
              "transition": {
               "duration": 0
              }
             }
            ],
            "label": "Time: 9.93",
            "method": "animate"
           },
           {
            "args": [
             [
              "159"
             ],
             {
              "frame": {
               "duration": 0,
               "redraw": true
              },
              "mode": "immediate",
              "transition": {
               "duration": 0
              }
             }
            ],
            "label": "Time: 9.99",
            "method": "animate"
           },
           {
            "args": [
             [
              "160"
             ],
             {
              "frame": {
               "duration": 0,
               "redraw": true
              },
              "mode": "immediate",
              "transition": {
               "duration": 0
              }
             }
            ],
            "label": "Time: 10.05",
            "method": "animate"
           },
           {
            "args": [
             [
              "161"
             ],
             {
              "frame": {
               "duration": 0,
               "redraw": true
              },
              "mode": "immediate",
              "transition": {
               "duration": 0
              }
             }
            ],
            "label": "Time: 10.12",
            "method": "animate"
           },
           {
            "args": [
             [
              "162"
             ],
             {
              "frame": {
               "duration": 0,
               "redraw": true
              },
              "mode": "immediate",
              "transition": {
               "duration": 0
              }
             }
            ],
            "label": "Time: 10.18",
            "method": "animate"
           },
           {
            "args": [
             [
              "163"
             ],
             {
              "frame": {
               "duration": 0,
               "redraw": true
              },
              "mode": "immediate",
              "transition": {
               "duration": 0
              }
             }
            ],
            "label": "Time: 10.24",
            "method": "animate"
           },
           {
            "args": [
             [
              "164"
             ],
             {
              "frame": {
               "duration": 0,
               "redraw": true
              },
              "mode": "immediate",
              "transition": {
               "duration": 0
              }
             }
            ],
            "label": "Time: 10.3",
            "method": "animate"
           },
           {
            "args": [
             [
              "165"
             ],
             {
              "frame": {
               "duration": 0,
               "redraw": true
              },
              "mode": "immediate",
              "transition": {
               "duration": 0
              }
             }
            ],
            "label": "Time: 10.37",
            "method": "animate"
           },
           {
            "args": [
             [
              "166"
             ],
             {
              "frame": {
               "duration": 0,
               "redraw": true
              },
              "mode": "immediate",
              "transition": {
               "duration": 0
              }
             }
            ],
            "label": "Time: 10.43",
            "method": "animate"
           },
           {
            "args": [
             [
              "167"
             ],
             {
              "frame": {
               "duration": 0,
               "redraw": true
              },
              "mode": "immediate",
              "transition": {
               "duration": 0
              }
             }
            ],
            "label": "Time: 10.49",
            "method": "animate"
           },
           {
            "args": [
             [
              "168"
             ],
             {
              "frame": {
               "duration": 0,
               "redraw": true
              },
              "mode": "immediate",
              "transition": {
               "duration": 0
              }
             }
            ],
            "label": "Time: 10.56",
            "method": "animate"
           },
           {
            "args": [
             [
              "169"
             ],
             {
              "frame": {
               "duration": 0,
               "redraw": true
              },
              "mode": "immediate",
              "transition": {
               "duration": 0
              }
             }
            ],
            "label": "Time: 10.62",
            "method": "animate"
           },
           {
            "args": [
             [
              "170"
             ],
             {
              "frame": {
               "duration": 0,
               "redraw": true
              },
              "mode": "immediate",
              "transition": {
               "duration": 0
              }
             }
            ],
            "label": "Time: 10.68",
            "method": "animate"
           },
           {
            "args": [
             [
              "171"
             ],
             {
              "frame": {
               "duration": 0,
               "redraw": true
              },
              "mode": "immediate",
              "transition": {
               "duration": 0
              }
             }
            ],
            "label": "Time: 10.74",
            "method": "animate"
           },
           {
            "args": [
             [
              "172"
             ],
             {
              "frame": {
               "duration": 0,
               "redraw": true
              },
              "mode": "immediate",
              "transition": {
               "duration": 0
              }
             }
            ],
            "label": "Time: 10.81",
            "method": "animate"
           },
           {
            "args": [
             [
              "173"
             ],
             {
              "frame": {
               "duration": 0,
               "redraw": true
              },
              "mode": "immediate",
              "transition": {
               "duration": 0
              }
             }
            ],
            "label": "Time: 10.87",
            "method": "animate"
           },
           {
            "args": [
             [
              "174"
             ],
             {
              "frame": {
               "duration": 0,
               "redraw": true
              },
              "mode": "immediate",
              "transition": {
               "duration": 0
              }
             }
            ],
            "label": "Time: 10.93",
            "method": "animate"
           },
           {
            "args": [
             [
              "175"
             ],
             {
              "frame": {
               "duration": 0,
               "redraw": true
              },
              "mode": "immediate",
              "transition": {
               "duration": 0
              }
             }
            ],
            "label": "Time: 11.0",
            "method": "animate"
           },
           {
            "args": [
             [
              "176"
             ],
             {
              "frame": {
               "duration": 0,
               "redraw": true
              },
              "mode": "immediate",
              "transition": {
               "duration": 0
              }
             }
            ],
            "label": "Time: 11.06",
            "method": "animate"
           },
           {
            "args": [
             [
              "177"
             ],
             {
              "frame": {
               "duration": 0,
               "redraw": true
              },
              "mode": "immediate",
              "transition": {
               "duration": 0
              }
             }
            ],
            "label": "Time: 11.12",
            "method": "animate"
           },
           {
            "args": [
             [
              "178"
             ],
             {
              "frame": {
               "duration": 0,
               "redraw": true
              },
              "mode": "immediate",
              "transition": {
               "duration": 0
              }
             }
            ],
            "label": "Time: 11.18",
            "method": "animate"
           },
           {
            "args": [
             [
              "179"
             ],
             {
              "frame": {
               "duration": 0,
               "redraw": true
              },
              "mode": "immediate",
              "transition": {
               "duration": 0
              }
             }
            ],
            "label": "Time: 11.25",
            "method": "animate"
           },
           {
            "args": [
             [
              "180"
             ],
             {
              "frame": {
               "duration": 0,
               "redraw": true
              },
              "mode": "immediate",
              "transition": {
               "duration": 0
              }
             }
            ],
            "label": "Time: 11.31",
            "method": "animate"
           },
           {
            "args": [
             [
              "181"
             ],
             {
              "frame": {
               "duration": 0,
               "redraw": true
              },
              "mode": "immediate",
              "transition": {
               "duration": 0
              }
             }
            ],
            "label": "Time: 11.37",
            "method": "animate"
           },
           {
            "args": [
             [
              "182"
             ],
             {
              "frame": {
               "duration": 0,
               "redraw": true
              },
              "mode": "immediate",
              "transition": {
               "duration": 0
              }
             }
            ],
            "label": "Time: 11.44",
            "method": "animate"
           },
           {
            "args": [
             [
              "183"
             ],
             {
              "frame": {
               "duration": 0,
               "redraw": true
              },
              "mode": "immediate",
              "transition": {
               "duration": 0
              }
             }
            ],
            "label": "Time: 11.5",
            "method": "animate"
           },
           {
            "args": [
             [
              "184"
             ],
             {
              "frame": {
               "duration": 0,
               "redraw": true
              },
              "mode": "immediate",
              "transition": {
               "duration": 0
              }
             }
            ],
            "label": "Time: 11.56",
            "method": "animate"
           },
           {
            "args": [
             [
              "185"
             ],
             {
              "frame": {
               "duration": 0,
               "redraw": true
              },
              "mode": "immediate",
              "transition": {
               "duration": 0
              }
             }
            ],
            "label": "Time: 11.62",
            "method": "animate"
           },
           {
            "args": [
             [
              "186"
             ],
             {
              "frame": {
               "duration": 0,
               "redraw": true
              },
              "mode": "immediate",
              "transition": {
               "duration": 0
              }
             }
            ],
            "label": "Time: 11.69",
            "method": "animate"
           },
           {
            "args": [
             [
              "187"
             ],
             {
              "frame": {
               "duration": 0,
               "redraw": true
              },
              "mode": "immediate",
              "transition": {
               "duration": 0
              }
             }
            ],
            "label": "Time: 11.75",
            "method": "animate"
           },
           {
            "args": [
             [
              "188"
             ],
             {
              "frame": {
               "duration": 0,
               "redraw": true
              },
              "mode": "immediate",
              "transition": {
               "duration": 0
              }
             }
            ],
            "label": "Time: 11.81",
            "method": "animate"
           },
           {
            "args": [
             [
              "189"
             ],
             {
              "frame": {
               "duration": 0,
               "redraw": true
              },
              "mode": "immediate",
              "transition": {
               "duration": 0
              }
             }
            ],
            "label": "Time: 11.88",
            "method": "animate"
           },
           {
            "args": [
             [
              "190"
             ],
             {
              "frame": {
               "duration": 0,
               "redraw": true
              },
              "mode": "immediate",
              "transition": {
               "duration": 0
              }
             }
            ],
            "label": "Time: 11.94",
            "method": "animate"
           },
           {
            "args": [
             [
              "191"
             ],
             {
              "frame": {
               "duration": 0,
               "redraw": true
              },
              "mode": "immediate",
              "transition": {
               "duration": 0
              }
             }
            ],
            "label": "Time: 12.0",
            "method": "animate"
           },
           {
            "args": [
             [
              "192"
             ],
             {
              "frame": {
               "duration": 0,
               "redraw": true
              },
              "mode": "immediate",
              "transition": {
               "duration": 0
              }
             }
            ],
            "label": "Time: 12.06",
            "method": "animate"
           },
           {
            "args": [
             [
              "193"
             ],
             {
              "frame": {
               "duration": 0,
               "redraw": true
              },
              "mode": "immediate",
              "transition": {
               "duration": 0
              }
             }
            ],
            "label": "Time: 12.13",
            "method": "animate"
           },
           {
            "args": [
             [
              "194"
             ],
             {
              "frame": {
               "duration": 0,
               "redraw": true
              },
              "mode": "immediate",
              "transition": {
               "duration": 0
              }
             }
            ],
            "label": "Time: 12.19",
            "method": "animate"
           },
           {
            "args": [
             [
              "195"
             ],
             {
              "frame": {
               "duration": 0,
               "redraw": true
              },
              "mode": "immediate",
              "transition": {
               "duration": 0
              }
             }
            ],
            "label": "Time: 12.25",
            "method": "animate"
           },
           {
            "args": [
             [
              "196"
             ],
             {
              "frame": {
               "duration": 0,
               "redraw": true
              },
              "mode": "immediate",
              "transition": {
               "duration": 0
              }
             }
            ],
            "label": "Time: 12.32",
            "method": "animate"
           },
           {
            "args": [
             [
              "197"
             ],
             {
              "frame": {
               "duration": 0,
               "redraw": true
              },
              "mode": "immediate",
              "transition": {
               "duration": 0
              }
             }
            ],
            "label": "Time: 12.38",
            "method": "animate"
           },
           {
            "args": [
             [
              "198"
             ],
             {
              "frame": {
               "duration": 0,
               "redraw": true
              },
              "mode": "immediate",
              "transition": {
               "duration": 0
              }
             }
            ],
            "label": "Time: 12.44",
            "method": "animate"
           },
           {
            "args": [
             [
              "199"
             ],
             {
              "frame": {
               "duration": 0,
               "redraw": true
              },
              "mode": "immediate",
              "transition": {
               "duration": 0
              }
             }
            ],
            "label": "Time: 12.5",
            "method": "animate"
           },
           {
            "args": [
             [
              "200"
             ],
             {
              "frame": {
               "duration": 0,
               "redraw": true
              },
              "mode": "immediate",
              "transition": {
               "duration": 0
              }
             }
            ],
            "label": "Time: 12.57",
            "method": "animate"
           }
          ]
         }
        ],
        "template": {
         "data": {
          "bar": [
           {
            "error_x": {
             "color": "#2a3f5f"
            },
            "error_y": {
             "color": "#2a3f5f"
            },
            "marker": {
             "line": {
              "color": "#E5ECF6",
              "width": 0.5
             },
             "pattern": {
              "fillmode": "overlay",
              "size": 10,
              "solidity": 0.2
             }
            },
            "type": "bar"
           }
          ],
          "barpolar": [
           {
            "marker": {
             "line": {
              "color": "#E5ECF6",
              "width": 0.5
             },
             "pattern": {
              "fillmode": "overlay",
              "size": 10,
              "solidity": 0.2
             }
            },
            "type": "barpolar"
           }
          ],
          "carpet": [
           {
            "aaxis": {
             "endlinecolor": "#2a3f5f",
             "gridcolor": "white",
             "linecolor": "white",
             "minorgridcolor": "white",
             "startlinecolor": "#2a3f5f"
            },
            "baxis": {
             "endlinecolor": "#2a3f5f",
             "gridcolor": "white",
             "linecolor": "white",
             "minorgridcolor": "white",
             "startlinecolor": "#2a3f5f"
            },
            "type": "carpet"
           }
          ],
          "choropleth": [
           {
            "colorbar": {
             "outlinewidth": 0,
             "ticks": ""
            },
            "type": "choropleth"
           }
          ],
          "contour": [
           {
            "colorbar": {
             "outlinewidth": 0,
             "ticks": ""
            },
            "colorscale": [
             [
              0,
              "#0d0887"
             ],
             [
              0.1111111111111111,
              "#46039f"
             ],
             [
              0.2222222222222222,
              "#7201a8"
             ],
             [
              0.3333333333333333,
              "#9c179e"
             ],
             [
              0.4444444444444444,
              "#bd3786"
             ],
             [
              0.5555555555555556,
              "#d8576b"
             ],
             [
              0.6666666666666666,
              "#ed7953"
             ],
             [
              0.7777777777777778,
              "#fb9f3a"
             ],
             [
              0.8888888888888888,
              "#fdca26"
             ],
             [
              1,
              "#f0f921"
             ]
            ],
            "type": "contour"
           }
          ],
          "contourcarpet": [
           {
            "colorbar": {
             "outlinewidth": 0,
             "ticks": ""
            },
            "type": "contourcarpet"
           }
          ],
          "heatmap": [
           {
            "colorbar": {
             "outlinewidth": 0,
             "ticks": ""
            },
            "colorscale": [
             [
              0,
              "#0d0887"
             ],
             [
              0.1111111111111111,
              "#46039f"
             ],
             [
              0.2222222222222222,
              "#7201a8"
             ],
             [
              0.3333333333333333,
              "#9c179e"
             ],
             [
              0.4444444444444444,
              "#bd3786"
             ],
             [
              0.5555555555555556,
              "#d8576b"
             ],
             [
              0.6666666666666666,
              "#ed7953"
             ],
             [
              0.7777777777777778,
              "#fb9f3a"
             ],
             [
              0.8888888888888888,
              "#fdca26"
             ],
             [
              1,
              "#f0f921"
             ]
            ],
            "type": "heatmap"
           }
          ],
          "histogram": [
           {
            "marker": {
             "pattern": {
              "fillmode": "overlay",
              "size": 10,
              "solidity": 0.2
             }
            },
            "type": "histogram"
           }
          ],
          "histogram2d": [
           {
            "colorbar": {
             "outlinewidth": 0,
             "ticks": ""
            },
            "colorscale": [
             [
              0,
              "#0d0887"
             ],
             [
              0.1111111111111111,
              "#46039f"
             ],
             [
              0.2222222222222222,
              "#7201a8"
             ],
             [
              0.3333333333333333,
              "#9c179e"
             ],
             [
              0.4444444444444444,
              "#bd3786"
             ],
             [
              0.5555555555555556,
              "#d8576b"
             ],
             [
              0.6666666666666666,
              "#ed7953"
             ],
             [
              0.7777777777777778,
              "#fb9f3a"
             ],
             [
              0.8888888888888888,
              "#fdca26"
             ],
             [
              1,
              "#f0f921"
             ]
            ],
            "type": "histogram2d"
           }
          ],
          "histogram2dcontour": [
           {
            "colorbar": {
             "outlinewidth": 0,
             "ticks": ""
            },
            "colorscale": [
             [
              0,
              "#0d0887"
             ],
             [
              0.1111111111111111,
              "#46039f"
             ],
             [
              0.2222222222222222,
              "#7201a8"
             ],
             [
              0.3333333333333333,
              "#9c179e"
             ],
             [
              0.4444444444444444,
              "#bd3786"
             ],
             [
              0.5555555555555556,
              "#d8576b"
             ],
             [
              0.6666666666666666,
              "#ed7953"
             ],
             [
              0.7777777777777778,
              "#fb9f3a"
             ],
             [
              0.8888888888888888,
              "#fdca26"
             ],
             [
              1,
              "#f0f921"
             ]
            ],
            "type": "histogram2dcontour"
           }
          ],
          "mesh3d": [
           {
            "colorbar": {
             "outlinewidth": 0,
             "ticks": ""
            },
            "type": "mesh3d"
           }
          ],
          "parcoords": [
           {
            "line": {
             "colorbar": {
              "outlinewidth": 0,
              "ticks": ""
             }
            },
            "type": "parcoords"
           }
          ],
          "pie": [
           {
            "automargin": true,
            "type": "pie"
           }
          ],
          "scatter": [
           {
            "fillpattern": {
             "fillmode": "overlay",
             "size": 10,
             "solidity": 0.2
            },
            "type": "scatter"
           }
          ],
          "scatter3d": [
           {
            "line": {
             "colorbar": {
              "outlinewidth": 0,
              "ticks": ""
             }
            },
            "marker": {
             "colorbar": {
              "outlinewidth": 0,
              "ticks": ""
             }
            },
            "type": "scatter3d"
           }
          ],
          "scattercarpet": [
           {
            "marker": {
             "colorbar": {
              "outlinewidth": 0,
              "ticks": ""
             }
            },
            "type": "scattercarpet"
           }
          ],
          "scattergeo": [
           {
            "marker": {
             "colorbar": {
              "outlinewidth": 0,
              "ticks": ""
             }
            },
            "type": "scattergeo"
           }
          ],
          "scattergl": [
           {
            "marker": {
             "colorbar": {
              "outlinewidth": 0,
              "ticks": ""
             }
            },
            "type": "scattergl"
           }
          ],
          "scattermap": [
           {
            "marker": {
             "colorbar": {
              "outlinewidth": 0,
              "ticks": ""
             }
            },
            "type": "scattermap"
           }
          ],
          "scattermapbox": [
           {
            "marker": {
             "colorbar": {
              "outlinewidth": 0,
              "ticks": ""
             }
            },
            "type": "scattermapbox"
           }
          ],
          "scatterpolar": [
           {
            "marker": {
             "colorbar": {
              "outlinewidth": 0,
              "ticks": ""
             }
            },
            "type": "scatterpolar"
           }
          ],
          "scatterpolargl": [
           {
            "marker": {
             "colorbar": {
              "outlinewidth": 0,
              "ticks": ""
             }
            },
            "type": "scatterpolargl"
           }
          ],
          "scatterternary": [
           {
            "marker": {
             "colorbar": {
              "outlinewidth": 0,
              "ticks": ""
             }
            },
            "type": "scatterternary"
           }
          ],
          "surface": [
           {
            "colorbar": {
             "outlinewidth": 0,
             "ticks": ""
            },
            "colorscale": [
             [
              0,
              "#0d0887"
             ],
             [
              0.1111111111111111,
              "#46039f"
             ],
             [
              0.2222222222222222,
              "#7201a8"
             ],
             [
              0.3333333333333333,
              "#9c179e"
             ],
             [
              0.4444444444444444,
              "#bd3786"
             ],
             [
              0.5555555555555556,
              "#d8576b"
             ],
             [
              0.6666666666666666,
              "#ed7953"
             ],
             [
              0.7777777777777778,
              "#fb9f3a"
             ],
             [
              0.8888888888888888,
              "#fdca26"
             ],
             [
              1,
              "#f0f921"
             ]
            ],
            "type": "surface"
           }
          ],
          "table": [
           {
            "cells": {
             "fill": {
              "color": "#EBF0F8"
             },
             "line": {
              "color": "white"
             }
            },
            "header": {
             "fill": {
              "color": "#C8D4E3"
             },
             "line": {
              "color": "white"
             }
            },
            "type": "table"
           }
          ]
         },
         "layout": {
          "annotationdefaults": {
           "arrowcolor": "#2a3f5f",
           "arrowhead": 0,
           "arrowwidth": 1
          },
          "autotypenumbers": "strict",
          "coloraxis": {
           "colorbar": {
            "outlinewidth": 0,
            "ticks": ""
           }
          },
          "colorscale": {
           "diverging": [
            [
             0,
             "#8e0152"
            ],
            [
             0.1,
             "#c51b7d"
            ],
            [
             0.2,
             "#de77ae"
            ],
            [
             0.3,
             "#f1b6da"
            ],
            [
             0.4,
             "#fde0ef"
            ],
            [
             0.5,
             "#f7f7f7"
            ],
            [
             0.6,
             "#e6f5d0"
            ],
            [
             0.7,
             "#b8e186"
            ],
            [
             0.8,
             "#7fbc41"
            ],
            [
             0.9,
             "#4d9221"
            ],
            [
             1,
             "#276419"
            ]
           ],
           "sequential": [
            [
             0,
             "#0d0887"
            ],
            [
             0.1111111111111111,
             "#46039f"
            ],
            [
             0.2222222222222222,
             "#7201a8"
            ],
            [
             0.3333333333333333,
             "#9c179e"
            ],
            [
             0.4444444444444444,
             "#bd3786"
            ],
            [
             0.5555555555555556,
             "#d8576b"
            ],
            [
             0.6666666666666666,
             "#ed7953"
            ],
            [
             0.7777777777777778,
             "#fb9f3a"
            ],
            [
             0.8888888888888888,
             "#fdca26"
            ],
            [
             1,
             "#f0f921"
            ]
           ],
           "sequentialminus": [
            [
             0,
             "#0d0887"
            ],
            [
             0.1111111111111111,
             "#46039f"
            ],
            [
             0.2222222222222222,
             "#7201a8"
            ],
            [
             0.3333333333333333,
             "#9c179e"
            ],
            [
             0.4444444444444444,
             "#bd3786"
            ],
            [
             0.5555555555555556,
             "#d8576b"
            ],
            [
             0.6666666666666666,
             "#ed7953"
            ],
            [
             0.7777777777777778,
             "#fb9f3a"
            ],
            [
             0.8888888888888888,
             "#fdca26"
            ],
            [
             1,
             "#f0f921"
            ]
           ]
          },
          "colorway": [
           "#636efa",
           "#EF553B",
           "#00cc96",
           "#ab63fa",
           "#FFA15A",
           "#19d3f3",
           "#FF6692",
           "#B6E880",
           "#FF97FF",
           "#FECB52"
          ],
          "font": {
           "color": "#2a3f5f"
          },
          "geo": {
           "bgcolor": "white",
           "lakecolor": "white",
           "landcolor": "#E5ECF6",
           "showlakes": true,
           "showland": true,
           "subunitcolor": "white"
          },
          "hoverlabel": {
           "align": "left"
          },
          "hovermode": "closest",
          "mapbox": {
           "style": "light"
          },
          "margin": {
           "b": 0,
           "l": 0,
           "r": 0,
           "t": 30
          },
          "paper_bgcolor": "white",
          "plot_bgcolor": "#E5ECF6",
          "polar": {
           "angularaxis": {
            "gridcolor": "white",
            "linecolor": "white",
            "ticks": ""
           },
           "bgcolor": "#E5ECF6",
           "radialaxis": {
            "gridcolor": "white",
            "linecolor": "white",
            "ticks": ""
           }
          },
          "scene": {
           "xaxis": {
            "backgroundcolor": "#E5ECF6",
            "gridcolor": "white",
            "gridwidth": 2,
            "linecolor": "white",
            "showbackground": true,
            "ticks": "",
            "zerolinecolor": "white"
           },
           "yaxis": {
            "backgroundcolor": "#E5ECF6",
            "gridcolor": "white",
            "gridwidth": 2,
            "linecolor": "white",
            "showbackground": true,
            "ticks": "",
            "zerolinecolor": "white"
           },
           "zaxis": {
            "backgroundcolor": "#E5ECF6",
            "gridcolor": "white",
            "gridwidth": 2,
            "linecolor": "white",
            "showbackground": true,
            "ticks": "",
            "zerolinecolor": "white"
           }
          },
          "shapedefaults": {
           "line": {
            "color": "#2a3f5f"
           }
          },
          "ternary": {
           "aaxis": {
            "gridcolor": "white",
            "linecolor": "white",
            "ticks": ""
           },
           "baxis": {
            "gridcolor": "white",
            "linecolor": "white",
            "ticks": ""
           },
           "bgcolor": "#E5ECF6",
           "caxis": {
            "gridcolor": "white",
            "linecolor": "white",
            "ticks": ""
           }
          },
          "title": {
           "x": 0.05
          },
          "xaxis": {
           "automargin": true,
           "gridcolor": "white",
           "linecolor": "white",
           "ticks": "",
           "title": {
            "standoff": 15
           },
           "zerolinecolor": "white",
           "zerolinewidth": 2
          },
          "yaxis": {
           "automargin": true,
           "gridcolor": "white",
           "linecolor": "white",
           "ticks": "",
           "title": {
            "standoff": 15
           },
           "zerolinecolor": "white",
           "zerolinewidth": 2
          }
         }
        },
        "xaxis": {
         "anchor": "y",
         "constrain": "domain",
         "domain": [
          0,
          0.45
         ],
         "range": [
          -2,
          2
         ],
         "scaleanchor": "y",
         "title": {
          "text": "Real Part"
         }
        },
        "xaxis2": {
         "anchor": "y2",
         "domain": [
          0.55,
          1
         ],
         "range": [
          -0.1,
          1.1
         ],
         "title": {
          "text": "Space [m]"
         }
        },
        "yaxis": {
         "anchor": "x",
         "domain": [
          0,
          1
         ],
         "range": [
          -2,
          2
         ],
         "title": {
          "text": "Imag Part"
         }
        },
        "yaxis2": {
         "anchor": "x2",
         "domain": [
          0,
          1
         ],
         "range": [
          -2,
          2
         ],
         "title": {
          "text": "Value"
         }
        }
       }
      },
      "text/html": [
       "<div>            <script src=\"https://cdnjs.cloudflare.com/ajax/libs/mathjax/2.7.5/MathJax.js?config=TeX-AMS-MML_SVG\"></script><script type=\"text/javascript\">if (window.MathJax && window.MathJax.Hub && window.MathJax.Hub.Config) {window.MathJax.Hub.Config({SVG: {font: \"STIX-Web\"}});}</script>                <script type=\"text/javascript\">window.PlotlyConfig = {MathJaxConfig: 'local'};</script>\n",
       "        <script charset=\"utf-8\" src=\"https://cdn.plot.ly/plotly-3.0.1.min.js\" integrity=\"sha256-oy6Be7Eh6eiQFs5M7oXuPxxm9qbJXEtTpfSI93dW16Q=\" crossorigin=\"anonymous\"></script>                <div id=\"3fb658f1-0013-491b-b66b-1497fc61c45e\" class=\"plotly-graph-div\" style=\"height:525px; width:100%;\"></div>            <script type=\"text/javascript\">                window.PLOTLYENV=window.PLOTLYENV || {};                                if (document.getElementById(\"3fb658f1-0013-491b-b66b-1497fc61c45e\")) {                    Plotly.newPlot(                        \"3fb658f1-0013-491b-b66b-1497fc61c45e\",                        [{\"line\":{\"color\":\"blue\",\"width\":3},\"mode\":\"lines\",\"name\":\"vector\",\"x\":[0,1.0],\"y\":[0,0.0],\"type\":\"scatter\",\"xaxis\":\"x\",\"yaxis\":\"y\"},{\"line\":{\"color\":\"red\",\"width\":3},\"mode\":\"lines\",\"name\":\"real\",\"x\":[0,1.0],\"y\":[0.0,0.0],\"type\":\"scatter\",\"xaxis\":\"x\",\"yaxis\":\"y\"},{\"marker\":{\"color\":\"black\"},\"mode\":\"markers\",\"name\":\"point\",\"x\":[1.0],\"y\":[0.0],\"type\":\"scatter\",\"xaxis\":\"x\",\"yaxis\":\"y\"},{\"line\":{\"color\":\"blue\",\"width\":3},\"mode\":\"lines\",\"name\":\"signal\",\"x\":[0,1],\"y\":[1.0,1.0],\"type\":\"scatter\",\"xaxis\":\"x2\",\"yaxis\":\"y2\"},{\"line\":{\"color\":\"red\",\"width\":3},\"mode\":\"lines\",\"name\":\"real\",\"x\":[0,0],\"y\":[0,1.0],\"type\":\"scatter\",\"xaxis\":\"x2\",\"yaxis\":\"y2\"},{\"marker\":{\"color\":\"black\"},\"mode\":\"markers\",\"name\":\"point\",\"x\":[0],\"y\":[1.0],\"type\":\"scatter\",\"xaxis\":\"x2\",\"yaxis\":\"y2\"}],                        {\"template\":{\"data\":{\"histogram2dcontour\":[{\"type\":\"histogram2dcontour\",\"colorbar\":{\"outlinewidth\":0,\"ticks\":\"\"},\"colorscale\":[[0.0,\"#0d0887\"],[0.1111111111111111,\"#46039f\"],[0.2222222222222222,\"#7201a8\"],[0.3333333333333333,\"#9c179e\"],[0.4444444444444444,\"#bd3786\"],[0.5555555555555556,\"#d8576b\"],[0.6666666666666666,\"#ed7953\"],[0.7777777777777778,\"#fb9f3a\"],[0.8888888888888888,\"#fdca26\"],[1.0,\"#f0f921\"]]}],\"choropleth\":[{\"type\":\"choropleth\",\"colorbar\":{\"outlinewidth\":0,\"ticks\":\"\"}}],\"histogram2d\":[{\"type\":\"histogram2d\",\"colorbar\":{\"outlinewidth\":0,\"ticks\":\"\"},\"colorscale\":[[0.0,\"#0d0887\"],[0.1111111111111111,\"#46039f\"],[0.2222222222222222,\"#7201a8\"],[0.3333333333333333,\"#9c179e\"],[0.4444444444444444,\"#bd3786\"],[0.5555555555555556,\"#d8576b\"],[0.6666666666666666,\"#ed7953\"],[0.7777777777777778,\"#fb9f3a\"],[0.8888888888888888,\"#fdca26\"],[1.0,\"#f0f921\"]]}],\"heatmap\":[{\"type\":\"heatmap\",\"colorbar\":{\"outlinewidth\":0,\"ticks\":\"\"},\"colorscale\":[[0.0,\"#0d0887\"],[0.1111111111111111,\"#46039f\"],[0.2222222222222222,\"#7201a8\"],[0.3333333333333333,\"#9c179e\"],[0.4444444444444444,\"#bd3786\"],[0.5555555555555556,\"#d8576b\"],[0.6666666666666666,\"#ed7953\"],[0.7777777777777778,\"#fb9f3a\"],[0.8888888888888888,\"#fdca26\"],[1.0,\"#f0f921\"]]}],\"contourcarpet\":[{\"type\":\"contourcarpet\",\"colorbar\":{\"outlinewidth\":0,\"ticks\":\"\"}}],\"contour\":[{\"type\":\"contour\",\"colorbar\":{\"outlinewidth\":0,\"ticks\":\"\"},\"colorscale\":[[0.0,\"#0d0887\"],[0.1111111111111111,\"#46039f\"],[0.2222222222222222,\"#7201a8\"],[0.3333333333333333,\"#9c179e\"],[0.4444444444444444,\"#bd3786\"],[0.5555555555555556,\"#d8576b\"],[0.6666666666666666,\"#ed7953\"],[0.7777777777777778,\"#fb9f3a\"],[0.8888888888888888,\"#fdca26\"],[1.0,\"#f0f921\"]]}],\"surface\":[{\"type\":\"surface\",\"colorbar\":{\"outlinewidth\":0,\"ticks\":\"\"},\"colorscale\":[[0.0,\"#0d0887\"],[0.1111111111111111,\"#46039f\"],[0.2222222222222222,\"#7201a8\"],[0.3333333333333333,\"#9c179e\"],[0.4444444444444444,\"#bd3786\"],[0.5555555555555556,\"#d8576b\"],[0.6666666666666666,\"#ed7953\"],[0.7777777777777778,\"#fb9f3a\"],[0.8888888888888888,\"#fdca26\"],[1.0,\"#f0f921\"]]}],\"mesh3d\":[{\"type\":\"mesh3d\",\"colorbar\":{\"outlinewidth\":0,\"ticks\":\"\"}}],\"scatter\":[{\"fillpattern\":{\"fillmode\":\"overlay\",\"size\":10,\"solidity\":0.2},\"type\":\"scatter\"}],\"parcoords\":[{\"type\":\"parcoords\",\"line\":{\"colorbar\":{\"outlinewidth\":0,\"ticks\":\"\"}}}],\"scatterpolargl\":[{\"type\":\"scatterpolargl\",\"marker\":{\"colorbar\":{\"outlinewidth\":0,\"ticks\":\"\"}}}],\"bar\":[{\"error_x\":{\"color\":\"#2a3f5f\"},\"error_y\":{\"color\":\"#2a3f5f\"},\"marker\":{\"line\":{\"color\":\"#E5ECF6\",\"width\":0.5},\"pattern\":{\"fillmode\":\"overlay\",\"size\":10,\"solidity\":0.2}},\"type\":\"bar\"}],\"scattergeo\":[{\"type\":\"scattergeo\",\"marker\":{\"colorbar\":{\"outlinewidth\":0,\"ticks\":\"\"}}}],\"scatterpolar\":[{\"type\":\"scatterpolar\",\"marker\":{\"colorbar\":{\"outlinewidth\":0,\"ticks\":\"\"}}}],\"histogram\":[{\"marker\":{\"pattern\":{\"fillmode\":\"overlay\",\"size\":10,\"solidity\":0.2}},\"type\":\"histogram\"}],\"scattergl\":[{\"type\":\"scattergl\",\"marker\":{\"colorbar\":{\"outlinewidth\":0,\"ticks\":\"\"}}}],\"scatter3d\":[{\"type\":\"scatter3d\",\"line\":{\"colorbar\":{\"outlinewidth\":0,\"ticks\":\"\"}},\"marker\":{\"colorbar\":{\"outlinewidth\":0,\"ticks\":\"\"}}}],\"scattermap\":[{\"type\":\"scattermap\",\"marker\":{\"colorbar\":{\"outlinewidth\":0,\"ticks\":\"\"}}}],\"scattermapbox\":[{\"type\":\"scattermapbox\",\"marker\":{\"colorbar\":{\"outlinewidth\":0,\"ticks\":\"\"}}}],\"scatterternary\":[{\"type\":\"scatterternary\",\"marker\":{\"colorbar\":{\"outlinewidth\":0,\"ticks\":\"\"}}}],\"scattercarpet\":[{\"type\":\"scattercarpet\",\"marker\":{\"colorbar\":{\"outlinewidth\":0,\"ticks\":\"\"}}}],\"carpet\":[{\"aaxis\":{\"endlinecolor\":\"#2a3f5f\",\"gridcolor\":\"white\",\"linecolor\":\"white\",\"minorgridcolor\":\"white\",\"startlinecolor\":\"#2a3f5f\"},\"baxis\":{\"endlinecolor\":\"#2a3f5f\",\"gridcolor\":\"white\",\"linecolor\":\"white\",\"minorgridcolor\":\"white\",\"startlinecolor\":\"#2a3f5f\"},\"type\":\"carpet\"}],\"table\":[{\"cells\":{\"fill\":{\"color\":\"#EBF0F8\"},\"line\":{\"color\":\"white\"}},\"header\":{\"fill\":{\"color\":\"#C8D4E3\"},\"line\":{\"color\":\"white\"}},\"type\":\"table\"}],\"barpolar\":[{\"marker\":{\"line\":{\"color\":\"#E5ECF6\",\"width\":0.5},\"pattern\":{\"fillmode\":\"overlay\",\"size\":10,\"solidity\":0.2}},\"type\":\"barpolar\"}],\"pie\":[{\"automargin\":true,\"type\":\"pie\"}]},\"layout\":{\"autotypenumbers\":\"strict\",\"colorway\":[\"#636efa\",\"#EF553B\",\"#00cc96\",\"#ab63fa\",\"#FFA15A\",\"#19d3f3\",\"#FF6692\",\"#B6E880\",\"#FF97FF\",\"#FECB52\"],\"font\":{\"color\":\"#2a3f5f\"},\"hovermode\":\"closest\",\"hoverlabel\":{\"align\":\"left\"},\"paper_bgcolor\":\"white\",\"plot_bgcolor\":\"#E5ECF6\",\"polar\":{\"bgcolor\":\"#E5ECF6\",\"angularaxis\":{\"gridcolor\":\"white\",\"linecolor\":\"white\",\"ticks\":\"\"},\"radialaxis\":{\"gridcolor\":\"white\",\"linecolor\":\"white\",\"ticks\":\"\"}},\"ternary\":{\"bgcolor\":\"#E5ECF6\",\"aaxis\":{\"gridcolor\":\"white\",\"linecolor\":\"white\",\"ticks\":\"\"},\"baxis\":{\"gridcolor\":\"white\",\"linecolor\":\"white\",\"ticks\":\"\"},\"caxis\":{\"gridcolor\":\"white\",\"linecolor\":\"white\",\"ticks\":\"\"}},\"coloraxis\":{\"colorbar\":{\"outlinewidth\":0,\"ticks\":\"\"}},\"colorscale\":{\"sequential\":[[0.0,\"#0d0887\"],[0.1111111111111111,\"#46039f\"],[0.2222222222222222,\"#7201a8\"],[0.3333333333333333,\"#9c179e\"],[0.4444444444444444,\"#bd3786\"],[0.5555555555555556,\"#d8576b\"],[0.6666666666666666,\"#ed7953\"],[0.7777777777777778,\"#fb9f3a\"],[0.8888888888888888,\"#fdca26\"],[1.0,\"#f0f921\"]],\"sequentialminus\":[[0.0,\"#0d0887\"],[0.1111111111111111,\"#46039f\"],[0.2222222222222222,\"#7201a8\"],[0.3333333333333333,\"#9c179e\"],[0.4444444444444444,\"#bd3786\"],[0.5555555555555556,\"#d8576b\"],[0.6666666666666666,\"#ed7953\"],[0.7777777777777778,\"#fb9f3a\"],[0.8888888888888888,\"#fdca26\"],[1.0,\"#f0f921\"]],\"diverging\":[[0,\"#8e0152\"],[0.1,\"#c51b7d\"],[0.2,\"#de77ae\"],[0.3,\"#f1b6da\"],[0.4,\"#fde0ef\"],[0.5,\"#f7f7f7\"],[0.6,\"#e6f5d0\"],[0.7,\"#b8e186\"],[0.8,\"#7fbc41\"],[0.9,\"#4d9221\"],[1,\"#276419\"]]},\"xaxis\":{\"gridcolor\":\"white\",\"linecolor\":\"white\",\"ticks\":\"\",\"title\":{\"standoff\":15},\"zerolinecolor\":\"white\",\"automargin\":true,\"zerolinewidth\":2},\"yaxis\":{\"gridcolor\":\"white\",\"linecolor\":\"white\",\"ticks\":\"\",\"title\":{\"standoff\":15},\"zerolinecolor\":\"white\",\"automargin\":true,\"zerolinewidth\":2},\"scene\":{\"xaxis\":{\"backgroundcolor\":\"#E5ECF6\",\"gridcolor\":\"white\",\"linecolor\":\"white\",\"showbackground\":true,\"ticks\":\"\",\"zerolinecolor\":\"white\",\"gridwidth\":2},\"yaxis\":{\"backgroundcolor\":\"#E5ECF6\",\"gridcolor\":\"white\",\"linecolor\":\"white\",\"showbackground\":true,\"ticks\":\"\",\"zerolinecolor\":\"white\",\"gridwidth\":2},\"zaxis\":{\"backgroundcolor\":\"#E5ECF6\",\"gridcolor\":\"white\",\"linecolor\":\"white\",\"showbackground\":true,\"ticks\":\"\",\"zerolinecolor\":\"white\",\"gridwidth\":2}},\"shapedefaults\":{\"line\":{\"color\":\"#2a3f5f\"}},\"annotationdefaults\":{\"arrowcolor\":\"#2a3f5f\",\"arrowhead\":0,\"arrowwidth\":1},\"geo\":{\"bgcolor\":\"white\",\"landcolor\":\"#E5ECF6\",\"subunitcolor\":\"white\",\"showland\":true,\"showlakes\":true,\"lakecolor\":\"white\"},\"title\":{\"x\":0.05},\"mapbox\":{\"style\":\"light\"},\"margin\":{\"b\":0,\"l\":0,\"r\":0,\"t\":30}}},\"xaxis\":{\"anchor\":\"y\",\"domain\":[0.0,0.45],\"title\":{\"text\":\"Real Part\"},\"range\":[-2,2],\"scaleanchor\":\"y\",\"constrain\":\"domain\"},\"yaxis\":{\"anchor\":\"x\",\"domain\":[0.0,1.0],\"title\":{\"text\":\"Imag Part\"},\"range\":[-2,2]},\"xaxis2\":{\"anchor\":\"y2\",\"domain\":[0.55,1.0],\"title\":{\"text\":\"Space [m]\"},\"range\":[-0.1,1.1]},\"yaxis2\":{\"anchor\":\"x2\",\"domain\":[0.0,1.0],\"title\":{\"text\":\"Value\"},\"range\":[-2,2]},\"annotations\":[{\"font\":{\"size\":16},\"showarrow\":false,\"text\":\"Phasor Domain\",\"x\":0.225,\"xanchor\":\"center\",\"xref\":\"paper\",\"y\":1.0,\"yanchor\":\"bottom\",\"yref\":\"paper\"},{\"font\":{\"size\":16},\"showarrow\":false,\"text\":\"Spatial Domain\",\"x\":0.775,\"xanchor\":\"center\",\"xref\":\"paper\",\"y\":1.0,\"yanchor\":\"bottom\",\"yref\":\"paper\"}],\"sliders\":[{\"active\":0,\"pad\":{\"t\":50},\"steps\":[{\"args\":[[\"0\"],{\"mode\":\"immediate\",\"frame\":{\"duration\":0,\"redraw\":true},\"transition\":{\"duration\":0}}],\"label\":\"Time: 0.0\",\"method\":\"animate\"},{\"args\":[[\"1\"],{\"mode\":\"immediate\",\"frame\":{\"duration\":0,\"redraw\":true},\"transition\":{\"duration\":0}}],\"label\":\"Time: 0.06\",\"method\":\"animate\"},{\"args\":[[\"2\"],{\"mode\":\"immediate\",\"frame\":{\"duration\":0,\"redraw\":true},\"transition\":{\"duration\":0}}],\"label\":\"Time: 0.13\",\"method\":\"animate\"},{\"args\":[[\"3\"],{\"mode\":\"immediate\",\"frame\":{\"duration\":0,\"redraw\":true},\"transition\":{\"duration\":0}}],\"label\":\"Time: 0.19\",\"method\":\"animate\"},{\"args\":[[\"4\"],{\"mode\":\"immediate\",\"frame\":{\"duration\":0,\"redraw\":true},\"transition\":{\"duration\":0}}],\"label\":\"Time: 0.25\",\"method\":\"animate\"},{\"args\":[[\"5\"],{\"mode\":\"immediate\",\"frame\":{\"duration\":0,\"redraw\":true},\"transition\":{\"duration\":0}}],\"label\":\"Time: 0.31\",\"method\":\"animate\"},{\"args\":[[\"6\"],{\"mode\":\"immediate\",\"frame\":{\"duration\":0,\"redraw\":true},\"transition\":{\"duration\":0}}],\"label\":\"Time: 0.38\",\"method\":\"animate\"},{\"args\":[[\"7\"],{\"mode\":\"immediate\",\"frame\":{\"duration\":0,\"redraw\":true},\"transition\":{\"duration\":0}}],\"label\":\"Time: 0.44\",\"method\":\"animate\"},{\"args\":[[\"8\"],{\"mode\":\"immediate\",\"frame\":{\"duration\":0,\"redraw\":true},\"transition\":{\"duration\":0}}],\"label\":\"Time: 0.5\",\"method\":\"animate\"},{\"args\":[[\"9\"],{\"mode\":\"immediate\",\"frame\":{\"duration\":0,\"redraw\":true},\"transition\":{\"duration\":0}}],\"label\":\"Time: 0.57\",\"method\":\"animate\"},{\"args\":[[\"10\"],{\"mode\":\"immediate\",\"frame\":{\"duration\":0,\"redraw\":true},\"transition\":{\"duration\":0}}],\"label\":\"Time: 0.63\",\"method\":\"animate\"},{\"args\":[[\"11\"],{\"mode\":\"immediate\",\"frame\":{\"duration\":0,\"redraw\":true},\"transition\":{\"duration\":0}}],\"label\":\"Time: 0.69\",\"method\":\"animate\"},{\"args\":[[\"12\"],{\"mode\":\"immediate\",\"frame\":{\"duration\":0,\"redraw\":true},\"transition\":{\"duration\":0}}],\"label\":\"Time: 0.75\",\"method\":\"animate\"},{\"args\":[[\"13\"],{\"mode\":\"immediate\",\"frame\":{\"duration\":0,\"redraw\":true},\"transition\":{\"duration\":0}}],\"label\":\"Time: 0.82\",\"method\":\"animate\"},{\"args\":[[\"14\"],{\"mode\":\"immediate\",\"frame\":{\"duration\":0,\"redraw\":true},\"transition\":{\"duration\":0}}],\"label\":\"Time: 0.88\",\"method\":\"animate\"},{\"args\":[[\"15\"],{\"mode\":\"immediate\",\"frame\":{\"duration\":0,\"redraw\":true},\"transition\":{\"duration\":0}}],\"label\":\"Time: 0.94\",\"method\":\"animate\"},{\"args\":[[\"16\"],{\"mode\":\"immediate\",\"frame\":{\"duration\":0,\"redraw\":true},\"transition\":{\"duration\":0}}],\"label\":\"Time: 1.01\",\"method\":\"animate\"},{\"args\":[[\"17\"],{\"mode\":\"immediate\",\"frame\":{\"duration\":0,\"redraw\":true},\"transition\":{\"duration\":0}}],\"label\":\"Time: 1.07\",\"method\":\"animate\"},{\"args\":[[\"18\"],{\"mode\":\"immediate\",\"frame\":{\"duration\":0,\"redraw\":true},\"transition\":{\"duration\":0}}],\"label\":\"Time: 1.13\",\"method\":\"animate\"},{\"args\":[[\"19\"],{\"mode\":\"immediate\",\"frame\":{\"duration\":0,\"redraw\":true},\"transition\":{\"duration\":0}}],\"label\":\"Time: 1.19\",\"method\":\"animate\"},{\"args\":[[\"20\"],{\"mode\":\"immediate\",\"frame\":{\"duration\":0,\"redraw\":true},\"transition\":{\"duration\":0}}],\"label\":\"Time: 1.26\",\"method\":\"animate\"},{\"args\":[[\"21\"],{\"mode\":\"immediate\",\"frame\":{\"duration\":0,\"redraw\":true},\"transition\":{\"duration\":0}}],\"label\":\"Time: 1.32\",\"method\":\"animate\"},{\"args\":[[\"22\"],{\"mode\":\"immediate\",\"frame\":{\"duration\":0,\"redraw\":true},\"transition\":{\"duration\":0}}],\"label\":\"Time: 1.38\",\"method\":\"animate\"},{\"args\":[[\"23\"],{\"mode\":\"immediate\",\"frame\":{\"duration\":0,\"redraw\":true},\"transition\":{\"duration\":0}}],\"label\":\"Time: 1.45\",\"method\":\"animate\"},{\"args\":[[\"24\"],{\"mode\":\"immediate\",\"frame\":{\"duration\":0,\"redraw\":true},\"transition\":{\"duration\":0}}],\"label\":\"Time: 1.51\",\"method\":\"animate\"},{\"args\":[[\"25\"],{\"mode\":\"immediate\",\"frame\":{\"duration\":0,\"redraw\":true},\"transition\":{\"duration\":0}}],\"label\":\"Time: 1.57\",\"method\":\"animate\"},{\"args\":[[\"26\"],{\"mode\":\"immediate\",\"frame\":{\"duration\":0,\"redraw\":true},\"transition\":{\"duration\":0}}],\"label\":\"Time: 1.63\",\"method\":\"animate\"},{\"args\":[[\"27\"],{\"mode\":\"immediate\",\"frame\":{\"duration\":0,\"redraw\":true},\"transition\":{\"duration\":0}}],\"label\":\"Time: 1.7\",\"method\":\"animate\"},{\"args\":[[\"28\"],{\"mode\":\"immediate\",\"frame\":{\"duration\":0,\"redraw\":true},\"transition\":{\"duration\":0}}],\"label\":\"Time: 1.76\",\"method\":\"animate\"},{\"args\":[[\"29\"],{\"mode\":\"immediate\",\"frame\":{\"duration\":0,\"redraw\":true},\"transition\":{\"duration\":0}}],\"label\":\"Time: 1.82\",\"method\":\"animate\"},{\"args\":[[\"30\"],{\"mode\":\"immediate\",\"frame\":{\"duration\":0,\"redraw\":true},\"transition\":{\"duration\":0}}],\"label\":\"Time: 1.88\",\"method\":\"animate\"},{\"args\":[[\"31\"],{\"mode\":\"immediate\",\"frame\":{\"duration\":0,\"redraw\":true},\"transition\":{\"duration\":0}}],\"label\":\"Time: 1.95\",\"method\":\"animate\"},{\"args\":[[\"32\"],{\"mode\":\"immediate\",\"frame\":{\"duration\":0,\"redraw\":true},\"transition\":{\"duration\":0}}],\"label\":\"Time: 2.01\",\"method\":\"animate\"},{\"args\":[[\"33\"],{\"mode\":\"immediate\",\"frame\":{\"duration\":0,\"redraw\":true},\"transition\":{\"duration\":0}}],\"label\":\"Time: 2.07\",\"method\":\"animate\"},{\"args\":[[\"34\"],{\"mode\":\"immediate\",\"frame\":{\"duration\":0,\"redraw\":true},\"transition\":{\"duration\":0}}],\"label\":\"Time: 2.14\",\"method\":\"animate\"},{\"args\":[[\"35\"],{\"mode\":\"immediate\",\"frame\":{\"duration\":0,\"redraw\":true},\"transition\":{\"duration\":0}}],\"label\":\"Time: 2.2\",\"method\":\"animate\"},{\"args\":[[\"36\"],{\"mode\":\"immediate\",\"frame\":{\"duration\":0,\"redraw\":true},\"transition\":{\"duration\":0}}],\"label\":\"Time: 2.26\",\"method\":\"animate\"},{\"args\":[[\"37\"],{\"mode\":\"immediate\",\"frame\":{\"duration\":0,\"redraw\":true},\"transition\":{\"duration\":0}}],\"label\":\"Time: 2.32\",\"method\":\"animate\"},{\"args\":[[\"38\"],{\"mode\":\"immediate\",\"frame\":{\"duration\":0,\"redraw\":true},\"transition\":{\"duration\":0}}],\"label\":\"Time: 2.39\",\"method\":\"animate\"},{\"args\":[[\"39\"],{\"mode\":\"immediate\",\"frame\":{\"duration\":0,\"redraw\":true},\"transition\":{\"duration\":0}}],\"label\":\"Time: 2.45\",\"method\":\"animate\"},{\"args\":[[\"40\"],{\"mode\":\"immediate\",\"frame\":{\"duration\":0,\"redraw\":true},\"transition\":{\"duration\":0}}],\"label\":\"Time: 2.51\",\"method\":\"animate\"},{\"args\":[[\"41\"],{\"mode\":\"immediate\",\"frame\":{\"duration\":0,\"redraw\":true},\"transition\":{\"duration\":0}}],\"label\":\"Time: 2.58\",\"method\":\"animate\"},{\"args\":[[\"42\"],{\"mode\":\"immediate\",\"frame\":{\"duration\":0,\"redraw\":true},\"transition\":{\"duration\":0}}],\"label\":\"Time: 2.64\",\"method\":\"animate\"},{\"args\":[[\"43\"],{\"mode\":\"immediate\",\"frame\":{\"duration\":0,\"redraw\":true},\"transition\":{\"duration\":0}}],\"label\":\"Time: 2.7\",\"method\":\"animate\"},{\"args\":[[\"44\"],{\"mode\":\"immediate\",\"frame\":{\"duration\":0,\"redraw\":true},\"transition\":{\"duration\":0}}],\"label\":\"Time: 2.76\",\"method\":\"animate\"},{\"args\":[[\"45\"],{\"mode\":\"immediate\",\"frame\":{\"duration\":0,\"redraw\":true},\"transition\":{\"duration\":0}}],\"label\":\"Time: 2.83\",\"method\":\"animate\"},{\"args\":[[\"46\"],{\"mode\":\"immediate\",\"frame\":{\"duration\":0,\"redraw\":true},\"transition\":{\"duration\":0}}],\"label\":\"Time: 2.89\",\"method\":\"animate\"},{\"args\":[[\"47\"],{\"mode\":\"immediate\",\"frame\":{\"duration\":0,\"redraw\":true},\"transition\":{\"duration\":0}}],\"label\":\"Time: 2.95\",\"method\":\"animate\"},{\"args\":[[\"48\"],{\"mode\":\"immediate\",\"frame\":{\"duration\":0,\"redraw\":true},\"transition\":{\"duration\":0}}],\"label\":\"Time: 3.02\",\"method\":\"animate\"},{\"args\":[[\"49\"],{\"mode\":\"immediate\",\"frame\":{\"duration\":0,\"redraw\":true},\"transition\":{\"duration\":0}}],\"label\":\"Time: 3.08\",\"method\":\"animate\"},{\"args\":[[\"50\"],{\"mode\":\"immediate\",\"frame\":{\"duration\":0,\"redraw\":true},\"transition\":{\"duration\":0}}],\"label\":\"Time: 3.14\",\"method\":\"animate\"},{\"args\":[[\"51\"],{\"mode\":\"immediate\",\"frame\":{\"duration\":0,\"redraw\":true},\"transition\":{\"duration\":0}}],\"label\":\"Time: 3.2\",\"method\":\"animate\"},{\"args\":[[\"52\"],{\"mode\":\"immediate\",\"frame\":{\"duration\":0,\"redraw\":true},\"transition\":{\"duration\":0}}],\"label\":\"Time: 3.27\",\"method\":\"animate\"},{\"args\":[[\"53\"],{\"mode\":\"immediate\",\"frame\":{\"duration\":0,\"redraw\":true},\"transition\":{\"duration\":0}}],\"label\":\"Time: 3.33\",\"method\":\"animate\"},{\"args\":[[\"54\"],{\"mode\":\"immediate\",\"frame\":{\"duration\":0,\"redraw\":true},\"transition\":{\"duration\":0}}],\"label\":\"Time: 3.39\",\"method\":\"animate\"},{\"args\":[[\"55\"],{\"mode\":\"immediate\",\"frame\":{\"duration\":0,\"redraw\":true},\"transition\":{\"duration\":0}}],\"label\":\"Time: 3.46\",\"method\":\"animate\"},{\"args\":[[\"56\"],{\"mode\":\"immediate\",\"frame\":{\"duration\":0,\"redraw\":true},\"transition\":{\"duration\":0}}],\"label\":\"Time: 3.52\",\"method\":\"animate\"},{\"args\":[[\"57\"],{\"mode\":\"immediate\",\"frame\":{\"duration\":0,\"redraw\":true},\"transition\":{\"duration\":0}}],\"label\":\"Time: 3.58\",\"method\":\"animate\"},{\"args\":[[\"58\"],{\"mode\":\"immediate\",\"frame\":{\"duration\":0,\"redraw\":true},\"transition\":{\"duration\":0}}],\"label\":\"Time: 3.64\",\"method\":\"animate\"},{\"args\":[[\"59\"],{\"mode\":\"immediate\",\"frame\":{\"duration\":0,\"redraw\":true},\"transition\":{\"duration\":0}}],\"label\":\"Time: 3.71\",\"method\":\"animate\"},{\"args\":[[\"60\"],{\"mode\":\"immediate\",\"frame\":{\"duration\":0,\"redraw\":true},\"transition\":{\"duration\":0}}],\"label\":\"Time: 3.77\",\"method\":\"animate\"},{\"args\":[[\"61\"],{\"mode\":\"immediate\",\"frame\":{\"duration\":0,\"redraw\":true},\"transition\":{\"duration\":0}}],\"label\":\"Time: 3.83\",\"method\":\"animate\"},{\"args\":[[\"62\"],{\"mode\":\"immediate\",\"frame\":{\"duration\":0,\"redraw\":true},\"transition\":{\"duration\":0}}],\"label\":\"Time: 3.9\",\"method\":\"animate\"},{\"args\":[[\"63\"],{\"mode\":\"immediate\",\"frame\":{\"duration\":0,\"redraw\":true},\"transition\":{\"duration\":0}}],\"label\":\"Time: 3.96\",\"method\":\"animate\"},{\"args\":[[\"64\"],{\"mode\":\"immediate\",\"frame\":{\"duration\":0,\"redraw\":true},\"transition\":{\"duration\":0}}],\"label\":\"Time: 4.02\",\"method\":\"animate\"},{\"args\":[[\"65\"],{\"mode\":\"immediate\",\"frame\":{\"duration\":0,\"redraw\":true},\"transition\":{\"duration\":0}}],\"label\":\"Time: 4.08\",\"method\":\"animate\"},{\"args\":[[\"66\"],{\"mode\":\"immediate\",\"frame\":{\"duration\":0,\"redraw\":true},\"transition\":{\"duration\":0}}],\"label\":\"Time: 4.15\",\"method\":\"animate\"},{\"args\":[[\"67\"],{\"mode\":\"immediate\",\"frame\":{\"duration\":0,\"redraw\":true},\"transition\":{\"duration\":0}}],\"label\":\"Time: 4.21\",\"method\":\"animate\"},{\"args\":[[\"68\"],{\"mode\":\"immediate\",\"frame\":{\"duration\":0,\"redraw\":true},\"transition\":{\"duration\":0}}],\"label\":\"Time: 4.27\",\"method\":\"animate\"},{\"args\":[[\"69\"],{\"mode\":\"immediate\",\"frame\":{\"duration\":0,\"redraw\":true},\"transition\":{\"duration\":0}}],\"label\":\"Time: 4.34\",\"method\":\"animate\"},{\"args\":[[\"70\"],{\"mode\":\"immediate\",\"frame\":{\"duration\":0,\"redraw\":true},\"transition\":{\"duration\":0}}],\"label\":\"Time: 4.4\",\"method\":\"animate\"},{\"args\":[[\"71\"],{\"mode\":\"immediate\",\"frame\":{\"duration\":0,\"redraw\":true},\"transition\":{\"duration\":0}}],\"label\":\"Time: 4.46\",\"method\":\"animate\"},{\"args\":[[\"72\"],{\"mode\":\"immediate\",\"frame\":{\"duration\":0,\"redraw\":true},\"transition\":{\"duration\":0}}],\"label\":\"Time: 4.52\",\"method\":\"animate\"},{\"args\":[[\"73\"],{\"mode\":\"immediate\",\"frame\":{\"duration\":0,\"redraw\":true},\"transition\":{\"duration\":0}}],\"label\":\"Time: 4.59\",\"method\":\"animate\"},{\"args\":[[\"74\"],{\"mode\":\"immediate\",\"frame\":{\"duration\":0,\"redraw\":true},\"transition\":{\"duration\":0}}],\"label\":\"Time: 4.65\",\"method\":\"animate\"},{\"args\":[[\"75\"],{\"mode\":\"immediate\",\"frame\":{\"duration\":0,\"redraw\":true},\"transition\":{\"duration\":0}}],\"label\":\"Time: 4.71\",\"method\":\"animate\"},{\"args\":[[\"76\"],{\"mode\":\"immediate\",\"frame\":{\"duration\":0,\"redraw\":true},\"transition\":{\"duration\":0}}],\"label\":\"Time: 4.78\",\"method\":\"animate\"},{\"args\":[[\"77\"],{\"mode\":\"immediate\",\"frame\":{\"duration\":0,\"redraw\":true},\"transition\":{\"duration\":0}}],\"label\":\"Time: 4.84\",\"method\":\"animate\"},{\"args\":[[\"78\"],{\"mode\":\"immediate\",\"frame\":{\"duration\":0,\"redraw\":true},\"transition\":{\"duration\":0}}],\"label\":\"Time: 4.9\",\"method\":\"animate\"},{\"args\":[[\"79\"],{\"mode\":\"immediate\",\"frame\":{\"duration\":0,\"redraw\":true},\"transition\":{\"duration\":0}}],\"label\":\"Time: 4.96\",\"method\":\"animate\"},{\"args\":[[\"80\"],{\"mode\":\"immediate\",\"frame\":{\"duration\":0,\"redraw\":true},\"transition\":{\"duration\":0}}],\"label\":\"Time: 5.03\",\"method\":\"animate\"},{\"args\":[[\"81\"],{\"mode\":\"immediate\",\"frame\":{\"duration\":0,\"redraw\":true},\"transition\":{\"duration\":0}}],\"label\":\"Time: 5.09\",\"method\":\"animate\"},{\"args\":[[\"82\"],{\"mode\":\"immediate\",\"frame\":{\"duration\":0,\"redraw\":true},\"transition\":{\"duration\":0}}],\"label\":\"Time: 5.15\",\"method\":\"animate\"},{\"args\":[[\"83\"],{\"mode\":\"immediate\",\"frame\":{\"duration\":0,\"redraw\":true},\"transition\":{\"duration\":0}}],\"label\":\"Time: 5.22\",\"method\":\"animate\"},{\"args\":[[\"84\"],{\"mode\":\"immediate\",\"frame\":{\"duration\":0,\"redraw\":true},\"transition\":{\"duration\":0}}],\"label\":\"Time: 5.28\",\"method\":\"animate\"},{\"args\":[[\"85\"],{\"mode\":\"immediate\",\"frame\":{\"duration\":0,\"redraw\":true},\"transition\":{\"duration\":0}}],\"label\":\"Time: 5.34\",\"method\":\"animate\"},{\"args\":[[\"86\"],{\"mode\":\"immediate\",\"frame\":{\"duration\":0,\"redraw\":true},\"transition\":{\"duration\":0}}],\"label\":\"Time: 5.4\",\"method\":\"animate\"},{\"args\":[[\"87\"],{\"mode\":\"immediate\",\"frame\":{\"duration\":0,\"redraw\":true},\"transition\":{\"duration\":0}}],\"label\":\"Time: 5.47\",\"method\":\"animate\"},{\"args\":[[\"88\"],{\"mode\":\"immediate\",\"frame\":{\"duration\":0,\"redraw\":true},\"transition\":{\"duration\":0}}],\"label\":\"Time: 5.53\",\"method\":\"animate\"},{\"args\":[[\"89\"],{\"mode\":\"immediate\",\"frame\":{\"duration\":0,\"redraw\":true},\"transition\":{\"duration\":0}}],\"label\":\"Time: 5.59\",\"method\":\"animate\"},{\"args\":[[\"90\"],{\"mode\":\"immediate\",\"frame\":{\"duration\":0,\"redraw\":true},\"transition\":{\"duration\":0}}],\"label\":\"Time: 5.65\",\"method\":\"animate\"},{\"args\":[[\"91\"],{\"mode\":\"immediate\",\"frame\":{\"duration\":0,\"redraw\":true},\"transition\":{\"duration\":0}}],\"label\":\"Time: 5.72\",\"method\":\"animate\"},{\"args\":[[\"92\"],{\"mode\":\"immediate\",\"frame\":{\"duration\":0,\"redraw\":true},\"transition\":{\"duration\":0}}],\"label\":\"Time: 5.78\",\"method\":\"animate\"},{\"args\":[[\"93\"],{\"mode\":\"immediate\",\"frame\":{\"duration\":0,\"redraw\":true},\"transition\":{\"duration\":0}}],\"label\":\"Time: 5.84\",\"method\":\"animate\"},{\"args\":[[\"94\"],{\"mode\":\"immediate\",\"frame\":{\"duration\":0,\"redraw\":true},\"transition\":{\"duration\":0}}],\"label\":\"Time: 5.91\",\"method\":\"animate\"},{\"args\":[[\"95\"],{\"mode\":\"immediate\",\"frame\":{\"duration\":0,\"redraw\":true},\"transition\":{\"duration\":0}}],\"label\":\"Time: 5.97\",\"method\":\"animate\"},{\"args\":[[\"96\"],{\"mode\":\"immediate\",\"frame\":{\"duration\":0,\"redraw\":true},\"transition\":{\"duration\":0}}],\"label\":\"Time: 6.03\",\"method\":\"animate\"},{\"args\":[[\"97\"],{\"mode\":\"immediate\",\"frame\":{\"duration\":0,\"redraw\":true},\"transition\":{\"duration\":0}}],\"label\":\"Time: 6.09\",\"method\":\"animate\"},{\"args\":[[\"98\"],{\"mode\":\"immediate\",\"frame\":{\"duration\":0,\"redraw\":true},\"transition\":{\"duration\":0}}],\"label\":\"Time: 6.16\",\"method\":\"animate\"},{\"args\":[[\"99\"],{\"mode\":\"immediate\",\"frame\":{\"duration\":0,\"redraw\":true},\"transition\":{\"duration\":0}}],\"label\":\"Time: 6.22\",\"method\":\"animate\"},{\"args\":[[\"100\"],{\"mode\":\"immediate\",\"frame\":{\"duration\":0,\"redraw\":true},\"transition\":{\"duration\":0}}],\"label\":\"Time: 6.28\",\"method\":\"animate\"},{\"args\":[[\"101\"],{\"mode\":\"immediate\",\"frame\":{\"duration\":0,\"redraw\":true},\"transition\":{\"duration\":0}}],\"label\":\"Time: 6.35\",\"method\":\"animate\"},{\"args\":[[\"102\"],{\"mode\":\"immediate\",\"frame\":{\"duration\":0,\"redraw\":true},\"transition\":{\"duration\":0}}],\"label\":\"Time: 6.41\",\"method\":\"animate\"},{\"args\":[[\"103\"],{\"mode\":\"immediate\",\"frame\":{\"duration\":0,\"redraw\":true},\"transition\":{\"duration\":0}}],\"label\":\"Time: 6.47\",\"method\":\"animate\"},{\"args\":[[\"104\"],{\"mode\":\"immediate\",\"frame\":{\"duration\":0,\"redraw\":true},\"transition\":{\"duration\":0}}],\"label\":\"Time: 6.53\",\"method\":\"animate\"},{\"args\":[[\"105\"],{\"mode\":\"immediate\",\"frame\":{\"duration\":0,\"redraw\":true},\"transition\":{\"duration\":0}}],\"label\":\"Time: 6.6\",\"method\":\"animate\"},{\"args\":[[\"106\"],{\"mode\":\"immediate\",\"frame\":{\"duration\":0,\"redraw\":true},\"transition\":{\"duration\":0}}],\"label\":\"Time: 6.66\",\"method\":\"animate\"},{\"args\":[[\"107\"],{\"mode\":\"immediate\",\"frame\":{\"duration\":0,\"redraw\":true},\"transition\":{\"duration\":0}}],\"label\":\"Time: 6.72\",\"method\":\"animate\"},{\"args\":[[\"108\"],{\"mode\":\"immediate\",\"frame\":{\"duration\":0,\"redraw\":true},\"transition\":{\"duration\":0}}],\"label\":\"Time: 6.79\",\"method\":\"animate\"},{\"args\":[[\"109\"],{\"mode\":\"immediate\",\"frame\":{\"duration\":0,\"redraw\":true},\"transition\":{\"duration\":0}}],\"label\":\"Time: 6.85\",\"method\":\"animate\"},{\"args\":[[\"110\"],{\"mode\":\"immediate\",\"frame\":{\"duration\":0,\"redraw\":true},\"transition\":{\"duration\":0}}],\"label\":\"Time: 6.91\",\"method\":\"animate\"},{\"args\":[[\"111\"],{\"mode\":\"immediate\",\"frame\":{\"duration\":0,\"redraw\":true},\"transition\":{\"duration\":0}}],\"label\":\"Time: 6.97\",\"method\":\"animate\"},{\"args\":[[\"112\"],{\"mode\":\"immediate\",\"frame\":{\"duration\":0,\"redraw\":true},\"transition\":{\"duration\":0}}],\"label\":\"Time: 7.04\",\"method\":\"animate\"},{\"args\":[[\"113\"],{\"mode\":\"immediate\",\"frame\":{\"duration\":0,\"redraw\":true},\"transition\":{\"duration\":0}}],\"label\":\"Time: 7.1\",\"method\":\"animate\"},{\"args\":[[\"114\"],{\"mode\":\"immediate\",\"frame\":{\"duration\":0,\"redraw\":true},\"transition\":{\"duration\":0}}],\"label\":\"Time: 7.16\",\"method\":\"animate\"},{\"args\":[[\"115\"],{\"mode\":\"immediate\",\"frame\":{\"duration\":0,\"redraw\":true},\"transition\":{\"duration\":0}}],\"label\":\"Time: 7.23\",\"method\":\"animate\"},{\"args\":[[\"116\"],{\"mode\":\"immediate\",\"frame\":{\"duration\":0,\"redraw\":true},\"transition\":{\"duration\":0}}],\"label\":\"Time: 7.29\",\"method\":\"animate\"},{\"args\":[[\"117\"],{\"mode\":\"immediate\",\"frame\":{\"duration\":0,\"redraw\":true},\"transition\":{\"duration\":0}}],\"label\":\"Time: 7.35\",\"method\":\"animate\"},{\"args\":[[\"118\"],{\"mode\":\"immediate\",\"frame\":{\"duration\":0,\"redraw\":true},\"transition\":{\"duration\":0}}],\"label\":\"Time: 7.41\",\"method\":\"animate\"},{\"args\":[[\"119\"],{\"mode\":\"immediate\",\"frame\":{\"duration\":0,\"redraw\":true},\"transition\":{\"duration\":0}}],\"label\":\"Time: 7.48\",\"method\":\"animate\"},{\"args\":[[\"120\"],{\"mode\":\"immediate\",\"frame\":{\"duration\":0,\"redraw\":true},\"transition\":{\"duration\":0}}],\"label\":\"Time: 7.54\",\"method\":\"animate\"},{\"args\":[[\"121\"],{\"mode\":\"immediate\",\"frame\":{\"duration\":0,\"redraw\":true},\"transition\":{\"duration\":0}}],\"label\":\"Time: 7.6\",\"method\":\"animate\"},{\"args\":[[\"122\"],{\"mode\":\"immediate\",\"frame\":{\"duration\":0,\"redraw\":true},\"transition\":{\"duration\":0}}],\"label\":\"Time: 7.67\",\"method\":\"animate\"},{\"args\":[[\"123\"],{\"mode\":\"immediate\",\"frame\":{\"duration\":0,\"redraw\":true},\"transition\":{\"duration\":0}}],\"label\":\"Time: 7.73\",\"method\":\"animate\"},{\"args\":[[\"124\"],{\"mode\":\"immediate\",\"frame\":{\"duration\":0,\"redraw\":true},\"transition\":{\"duration\":0}}],\"label\":\"Time: 7.79\",\"method\":\"animate\"},{\"args\":[[\"125\"],{\"mode\":\"immediate\",\"frame\":{\"duration\":0,\"redraw\":true},\"transition\":{\"duration\":0}}],\"label\":\"Time: 7.85\",\"method\":\"animate\"},{\"args\":[[\"126\"],{\"mode\":\"immediate\",\"frame\":{\"duration\":0,\"redraw\":true},\"transition\":{\"duration\":0}}],\"label\":\"Time: 7.92\",\"method\":\"animate\"},{\"args\":[[\"127\"],{\"mode\":\"immediate\",\"frame\":{\"duration\":0,\"redraw\":true},\"transition\":{\"duration\":0}}],\"label\":\"Time: 7.98\",\"method\":\"animate\"},{\"args\":[[\"128\"],{\"mode\":\"immediate\",\"frame\":{\"duration\":0,\"redraw\":true},\"transition\":{\"duration\":0}}],\"label\":\"Time: 8.04\",\"method\":\"animate\"},{\"args\":[[\"129\"],{\"mode\":\"immediate\",\"frame\":{\"duration\":0,\"redraw\":true},\"transition\":{\"duration\":0}}],\"label\":\"Time: 8.11\",\"method\":\"animate\"},{\"args\":[[\"130\"],{\"mode\":\"immediate\",\"frame\":{\"duration\":0,\"redraw\":true},\"transition\":{\"duration\":0}}],\"label\":\"Time: 8.17\",\"method\":\"animate\"},{\"args\":[[\"131\"],{\"mode\":\"immediate\",\"frame\":{\"duration\":0,\"redraw\":true},\"transition\":{\"duration\":0}}],\"label\":\"Time: 8.23\",\"method\":\"animate\"},{\"args\":[[\"132\"],{\"mode\":\"immediate\",\"frame\":{\"duration\":0,\"redraw\":true},\"transition\":{\"duration\":0}}],\"label\":\"Time: 8.29\",\"method\":\"animate\"},{\"args\":[[\"133\"],{\"mode\":\"immediate\",\"frame\":{\"duration\":0,\"redraw\":true},\"transition\":{\"duration\":0}}],\"label\":\"Time: 8.36\",\"method\":\"animate\"},{\"args\":[[\"134\"],{\"mode\":\"immediate\",\"frame\":{\"duration\":0,\"redraw\":true},\"transition\":{\"duration\":0}}],\"label\":\"Time: 8.42\",\"method\":\"animate\"},{\"args\":[[\"135\"],{\"mode\":\"immediate\",\"frame\":{\"duration\":0,\"redraw\":true},\"transition\":{\"duration\":0}}],\"label\":\"Time: 8.48\",\"method\":\"animate\"},{\"args\":[[\"136\"],{\"mode\":\"immediate\",\"frame\":{\"duration\":0,\"redraw\":true},\"transition\":{\"duration\":0}}],\"label\":\"Time: 8.55\",\"method\":\"animate\"},{\"args\":[[\"137\"],{\"mode\":\"immediate\",\"frame\":{\"duration\":0,\"redraw\":true},\"transition\":{\"duration\":0}}],\"label\":\"Time: 8.61\",\"method\":\"animate\"},{\"args\":[[\"138\"],{\"mode\":\"immediate\",\"frame\":{\"duration\":0,\"redraw\":true},\"transition\":{\"duration\":0}}],\"label\":\"Time: 8.67\",\"method\":\"animate\"},{\"args\":[[\"139\"],{\"mode\":\"immediate\",\"frame\":{\"duration\":0,\"redraw\":true},\"transition\":{\"duration\":0}}],\"label\":\"Time: 8.73\",\"method\":\"animate\"},{\"args\":[[\"140\"],{\"mode\":\"immediate\",\"frame\":{\"duration\":0,\"redraw\":true},\"transition\":{\"duration\":0}}],\"label\":\"Time: 8.8\",\"method\":\"animate\"},{\"args\":[[\"141\"],{\"mode\":\"immediate\",\"frame\":{\"duration\":0,\"redraw\":true},\"transition\":{\"duration\":0}}],\"label\":\"Time: 8.86\",\"method\":\"animate\"},{\"args\":[[\"142\"],{\"mode\":\"immediate\",\"frame\":{\"duration\":0,\"redraw\":true},\"transition\":{\"duration\":0}}],\"label\":\"Time: 8.92\",\"method\":\"animate\"},{\"args\":[[\"143\"],{\"mode\":\"immediate\",\"frame\":{\"duration\":0,\"redraw\":true},\"transition\":{\"duration\":0}}],\"label\":\"Time: 8.98\",\"method\":\"animate\"},{\"args\":[[\"144\"],{\"mode\":\"immediate\",\"frame\":{\"duration\":0,\"redraw\":true},\"transition\":{\"duration\":0}}],\"label\":\"Time: 9.05\",\"method\":\"animate\"},{\"args\":[[\"145\"],{\"mode\":\"immediate\",\"frame\":{\"duration\":0,\"redraw\":true},\"transition\":{\"duration\":0}}],\"label\":\"Time: 9.11\",\"method\":\"animate\"},{\"args\":[[\"146\"],{\"mode\":\"immediate\",\"frame\":{\"duration\":0,\"redraw\":true},\"transition\":{\"duration\":0}}],\"label\":\"Time: 9.17\",\"method\":\"animate\"},{\"args\":[[\"147\"],{\"mode\":\"immediate\",\"frame\":{\"duration\":0,\"redraw\":true},\"transition\":{\"duration\":0}}],\"label\":\"Time: 9.24\",\"method\":\"animate\"},{\"args\":[[\"148\"],{\"mode\":\"immediate\",\"frame\":{\"duration\":0,\"redraw\":true},\"transition\":{\"duration\":0}}],\"label\":\"Time: 9.3\",\"method\":\"animate\"},{\"args\":[[\"149\"],{\"mode\":\"immediate\",\"frame\":{\"duration\":0,\"redraw\":true},\"transition\":{\"duration\":0}}],\"label\":\"Time: 9.36\",\"method\":\"animate\"},{\"args\":[[\"150\"],{\"mode\":\"immediate\",\"frame\":{\"duration\":0,\"redraw\":true},\"transition\":{\"duration\":0}}],\"label\":\"Time: 9.42\",\"method\":\"animate\"},{\"args\":[[\"151\"],{\"mode\":\"immediate\",\"frame\":{\"duration\":0,\"redraw\":true},\"transition\":{\"duration\":0}}],\"label\":\"Time: 9.49\",\"method\":\"animate\"},{\"args\":[[\"152\"],{\"mode\":\"immediate\",\"frame\":{\"duration\":0,\"redraw\":true},\"transition\":{\"duration\":0}}],\"label\":\"Time: 9.55\",\"method\":\"animate\"},{\"args\":[[\"153\"],{\"mode\":\"immediate\",\"frame\":{\"duration\":0,\"redraw\":true},\"transition\":{\"duration\":0}}],\"label\":\"Time: 9.61\",\"method\":\"animate\"},{\"args\":[[\"154\"],{\"mode\":\"immediate\",\"frame\":{\"duration\":0,\"redraw\":true},\"transition\":{\"duration\":0}}],\"label\":\"Time: 9.68\",\"method\":\"animate\"},{\"args\":[[\"155\"],{\"mode\":\"immediate\",\"frame\":{\"duration\":0,\"redraw\":true},\"transition\":{\"duration\":0}}],\"label\":\"Time: 9.74\",\"method\":\"animate\"},{\"args\":[[\"156\"],{\"mode\":\"immediate\",\"frame\":{\"duration\":0,\"redraw\":true},\"transition\":{\"duration\":0}}],\"label\":\"Time: 9.8\",\"method\":\"animate\"},{\"args\":[[\"157\"],{\"mode\":\"immediate\",\"frame\":{\"duration\":0,\"redraw\":true},\"transition\":{\"duration\":0}}],\"label\":\"Time: 9.86\",\"method\":\"animate\"},{\"args\":[[\"158\"],{\"mode\":\"immediate\",\"frame\":{\"duration\":0,\"redraw\":true},\"transition\":{\"duration\":0}}],\"label\":\"Time: 9.93\",\"method\":\"animate\"},{\"args\":[[\"159\"],{\"mode\":\"immediate\",\"frame\":{\"duration\":0,\"redraw\":true},\"transition\":{\"duration\":0}}],\"label\":\"Time: 9.99\",\"method\":\"animate\"},{\"args\":[[\"160\"],{\"mode\":\"immediate\",\"frame\":{\"duration\":0,\"redraw\":true},\"transition\":{\"duration\":0}}],\"label\":\"Time: 10.05\",\"method\":\"animate\"},{\"args\":[[\"161\"],{\"mode\":\"immediate\",\"frame\":{\"duration\":0,\"redraw\":true},\"transition\":{\"duration\":0}}],\"label\":\"Time: 10.12\",\"method\":\"animate\"},{\"args\":[[\"162\"],{\"mode\":\"immediate\",\"frame\":{\"duration\":0,\"redraw\":true},\"transition\":{\"duration\":0}}],\"label\":\"Time: 10.18\",\"method\":\"animate\"},{\"args\":[[\"163\"],{\"mode\":\"immediate\",\"frame\":{\"duration\":0,\"redraw\":true},\"transition\":{\"duration\":0}}],\"label\":\"Time: 10.24\",\"method\":\"animate\"},{\"args\":[[\"164\"],{\"mode\":\"immediate\",\"frame\":{\"duration\":0,\"redraw\":true},\"transition\":{\"duration\":0}}],\"label\":\"Time: 10.3\",\"method\":\"animate\"},{\"args\":[[\"165\"],{\"mode\":\"immediate\",\"frame\":{\"duration\":0,\"redraw\":true},\"transition\":{\"duration\":0}}],\"label\":\"Time: 10.37\",\"method\":\"animate\"},{\"args\":[[\"166\"],{\"mode\":\"immediate\",\"frame\":{\"duration\":0,\"redraw\":true},\"transition\":{\"duration\":0}}],\"label\":\"Time: 10.43\",\"method\":\"animate\"},{\"args\":[[\"167\"],{\"mode\":\"immediate\",\"frame\":{\"duration\":0,\"redraw\":true},\"transition\":{\"duration\":0}}],\"label\":\"Time: 10.49\",\"method\":\"animate\"},{\"args\":[[\"168\"],{\"mode\":\"immediate\",\"frame\":{\"duration\":0,\"redraw\":true},\"transition\":{\"duration\":0}}],\"label\":\"Time: 10.56\",\"method\":\"animate\"},{\"args\":[[\"169\"],{\"mode\":\"immediate\",\"frame\":{\"duration\":0,\"redraw\":true},\"transition\":{\"duration\":0}}],\"label\":\"Time: 10.62\",\"method\":\"animate\"},{\"args\":[[\"170\"],{\"mode\":\"immediate\",\"frame\":{\"duration\":0,\"redraw\":true},\"transition\":{\"duration\":0}}],\"label\":\"Time: 10.68\",\"method\":\"animate\"},{\"args\":[[\"171\"],{\"mode\":\"immediate\",\"frame\":{\"duration\":0,\"redraw\":true},\"transition\":{\"duration\":0}}],\"label\":\"Time: 10.74\",\"method\":\"animate\"},{\"args\":[[\"172\"],{\"mode\":\"immediate\",\"frame\":{\"duration\":0,\"redraw\":true},\"transition\":{\"duration\":0}}],\"label\":\"Time: 10.81\",\"method\":\"animate\"},{\"args\":[[\"173\"],{\"mode\":\"immediate\",\"frame\":{\"duration\":0,\"redraw\":true},\"transition\":{\"duration\":0}}],\"label\":\"Time: 10.87\",\"method\":\"animate\"},{\"args\":[[\"174\"],{\"mode\":\"immediate\",\"frame\":{\"duration\":0,\"redraw\":true},\"transition\":{\"duration\":0}}],\"label\":\"Time: 10.93\",\"method\":\"animate\"},{\"args\":[[\"175\"],{\"mode\":\"immediate\",\"frame\":{\"duration\":0,\"redraw\":true},\"transition\":{\"duration\":0}}],\"label\":\"Time: 11.0\",\"method\":\"animate\"},{\"args\":[[\"176\"],{\"mode\":\"immediate\",\"frame\":{\"duration\":0,\"redraw\":true},\"transition\":{\"duration\":0}}],\"label\":\"Time: 11.06\",\"method\":\"animate\"},{\"args\":[[\"177\"],{\"mode\":\"immediate\",\"frame\":{\"duration\":0,\"redraw\":true},\"transition\":{\"duration\":0}}],\"label\":\"Time: 11.12\",\"method\":\"animate\"},{\"args\":[[\"178\"],{\"mode\":\"immediate\",\"frame\":{\"duration\":0,\"redraw\":true},\"transition\":{\"duration\":0}}],\"label\":\"Time: 11.18\",\"method\":\"animate\"},{\"args\":[[\"179\"],{\"mode\":\"immediate\",\"frame\":{\"duration\":0,\"redraw\":true},\"transition\":{\"duration\":0}}],\"label\":\"Time: 11.25\",\"method\":\"animate\"},{\"args\":[[\"180\"],{\"mode\":\"immediate\",\"frame\":{\"duration\":0,\"redraw\":true},\"transition\":{\"duration\":0}}],\"label\":\"Time: 11.31\",\"method\":\"animate\"},{\"args\":[[\"181\"],{\"mode\":\"immediate\",\"frame\":{\"duration\":0,\"redraw\":true},\"transition\":{\"duration\":0}}],\"label\":\"Time: 11.37\",\"method\":\"animate\"},{\"args\":[[\"182\"],{\"mode\":\"immediate\",\"frame\":{\"duration\":0,\"redraw\":true},\"transition\":{\"duration\":0}}],\"label\":\"Time: 11.44\",\"method\":\"animate\"},{\"args\":[[\"183\"],{\"mode\":\"immediate\",\"frame\":{\"duration\":0,\"redraw\":true},\"transition\":{\"duration\":0}}],\"label\":\"Time: 11.5\",\"method\":\"animate\"},{\"args\":[[\"184\"],{\"mode\":\"immediate\",\"frame\":{\"duration\":0,\"redraw\":true},\"transition\":{\"duration\":0}}],\"label\":\"Time: 11.56\",\"method\":\"animate\"},{\"args\":[[\"185\"],{\"mode\":\"immediate\",\"frame\":{\"duration\":0,\"redraw\":true},\"transition\":{\"duration\":0}}],\"label\":\"Time: 11.62\",\"method\":\"animate\"},{\"args\":[[\"186\"],{\"mode\":\"immediate\",\"frame\":{\"duration\":0,\"redraw\":true},\"transition\":{\"duration\":0}}],\"label\":\"Time: 11.69\",\"method\":\"animate\"},{\"args\":[[\"187\"],{\"mode\":\"immediate\",\"frame\":{\"duration\":0,\"redraw\":true},\"transition\":{\"duration\":0}}],\"label\":\"Time: 11.75\",\"method\":\"animate\"},{\"args\":[[\"188\"],{\"mode\":\"immediate\",\"frame\":{\"duration\":0,\"redraw\":true},\"transition\":{\"duration\":0}}],\"label\":\"Time: 11.81\",\"method\":\"animate\"},{\"args\":[[\"189\"],{\"mode\":\"immediate\",\"frame\":{\"duration\":0,\"redraw\":true},\"transition\":{\"duration\":0}}],\"label\":\"Time: 11.88\",\"method\":\"animate\"},{\"args\":[[\"190\"],{\"mode\":\"immediate\",\"frame\":{\"duration\":0,\"redraw\":true},\"transition\":{\"duration\":0}}],\"label\":\"Time: 11.94\",\"method\":\"animate\"},{\"args\":[[\"191\"],{\"mode\":\"immediate\",\"frame\":{\"duration\":0,\"redraw\":true},\"transition\":{\"duration\":0}}],\"label\":\"Time: 12.0\",\"method\":\"animate\"},{\"args\":[[\"192\"],{\"mode\":\"immediate\",\"frame\":{\"duration\":0,\"redraw\":true},\"transition\":{\"duration\":0}}],\"label\":\"Time: 12.06\",\"method\":\"animate\"},{\"args\":[[\"193\"],{\"mode\":\"immediate\",\"frame\":{\"duration\":0,\"redraw\":true},\"transition\":{\"duration\":0}}],\"label\":\"Time: 12.13\",\"method\":\"animate\"},{\"args\":[[\"194\"],{\"mode\":\"immediate\",\"frame\":{\"duration\":0,\"redraw\":true},\"transition\":{\"duration\":0}}],\"label\":\"Time: 12.19\",\"method\":\"animate\"},{\"args\":[[\"195\"],{\"mode\":\"immediate\",\"frame\":{\"duration\":0,\"redraw\":true},\"transition\":{\"duration\":0}}],\"label\":\"Time: 12.25\",\"method\":\"animate\"},{\"args\":[[\"196\"],{\"mode\":\"immediate\",\"frame\":{\"duration\":0,\"redraw\":true},\"transition\":{\"duration\":0}}],\"label\":\"Time: 12.32\",\"method\":\"animate\"},{\"args\":[[\"197\"],{\"mode\":\"immediate\",\"frame\":{\"duration\":0,\"redraw\":true},\"transition\":{\"duration\":0}}],\"label\":\"Time: 12.38\",\"method\":\"animate\"},{\"args\":[[\"198\"],{\"mode\":\"immediate\",\"frame\":{\"duration\":0,\"redraw\":true},\"transition\":{\"duration\":0}}],\"label\":\"Time: 12.44\",\"method\":\"animate\"},{\"args\":[[\"199\"],{\"mode\":\"immediate\",\"frame\":{\"duration\":0,\"redraw\":true},\"transition\":{\"duration\":0}}],\"label\":\"Time: 12.5\",\"method\":\"animate\"},{\"args\":[[\"200\"],{\"mode\":\"immediate\",\"frame\":{\"duration\":0,\"redraw\":true},\"transition\":{\"duration\":0}}],\"label\":\"Time: 12.57\",\"method\":\"animate\"}]}]},                        {\"responsive\": true}                    ).then(function(){\n",
       "                            Plotly.addFrames('3fb658f1-0013-491b-b66b-1497fc61c45e', [{\"data\":[{\"line\":{\"width\":3},\"mode\":\"lines\",\"x\":[0,1.0],\"y\":[0,0.0],\"type\":\"scatter\"},{\"line\":{\"width\":3},\"mode\":\"lines\",\"x\":[0,1.0],\"y\":[0.0,0.0],\"type\":\"scatter\"},{\"mode\":\"markers\",\"x\":[1.0],\"y\":[0.0],\"type\":\"scatter\"},{\"x\":[0,1],\"y\":[1.0,1.0],\"type\":\"scatter\"},{\"x\":[0,0],\"y\":[0,1.0],\"type\":\"scatter\"},{\"x\":[0],\"y\":[1.0],\"type\":\"scatter\"}],\"name\":\"0\"},{\"data\":[{\"line\":{\"width\":3},\"mode\":\"lines\",\"x\":[0,0.9980267284282716],\"y\":[0,0.06279051952931337],\"type\":\"scatter\"},{\"line\":{\"width\":3},\"mode\":\"lines\",\"x\":[0,0.9980267284282716],\"y\":[0.06279051952931337,0.06279051952931337],\"type\":\"scatter\"},{\"mode\":\"markers\",\"x\":[0.9980267284282716],\"y\":[0.06279051952931337],\"type\":\"scatter\"},{\"x\":[0,1],\"y\":[0.9980267284282716,0.9980267284282716],\"type\":\"scatter\"},{\"x\":[0,0],\"y\":[0,0.9980267284282716],\"type\":\"scatter\"},{\"x\":[0],\"y\":[0.9980267284282716],\"type\":\"scatter\"}],\"name\":\"1\"},{\"data\":[{\"line\":{\"width\":3},\"mode\":\"lines\",\"x\":[0,0.9921147013144779],\"y\":[0,0.12533323356430426],\"type\":\"scatter\"},{\"line\":{\"width\":3},\"mode\":\"lines\",\"x\":[0,0.9921147013144779],\"y\":[0.12533323356430426,0.12533323356430426],\"type\":\"scatter\"},{\"mode\":\"markers\",\"x\":[0.9921147013144779],\"y\":[0.12533323356430426],\"type\":\"scatter\"},{\"x\":[0,1],\"y\":[0.9921147013144779,0.9921147013144779],\"type\":\"scatter\"},{\"x\":[0,0],\"y\":[0,0.9921147013144779],\"type\":\"scatter\"},{\"x\":[0],\"y\":[0.9921147013144779],\"type\":\"scatter\"}],\"name\":\"2\"},{\"data\":[{\"line\":{\"width\":3},\"mode\":\"lines\",\"x\":[0,0.9822872507286887],\"y\":[0,0.18738131458572463],\"type\":\"scatter\"},{\"line\":{\"width\":3},\"mode\":\"lines\",\"x\":[0,0.9822872507286887],\"y\":[0.18738131458572463,0.18738131458572463],\"type\":\"scatter\"},{\"mode\":\"markers\",\"x\":[0.9822872507286887],\"y\":[0.18738131458572463],\"type\":\"scatter\"},{\"x\":[0,1],\"y\":[0.9822872507286887,0.9822872507286887],\"type\":\"scatter\"},{\"x\":[0,0],\"y\":[0,0.9822872507286887],\"type\":\"scatter\"},{\"x\":[0],\"y\":[0.9822872507286887],\"type\":\"scatter\"}],\"name\":\"3\"},{\"data\":[{\"line\":{\"width\":3},\"mode\":\"lines\",\"x\":[0,0.9685831611286311],\"y\":[0,0.2486898871648548],\"type\":\"scatter\"},{\"line\":{\"width\":3},\"mode\":\"lines\",\"x\":[0,0.9685831611286311],\"y\":[0.2486898871648548,0.2486898871648548],\"type\":\"scatter\"},{\"mode\":\"markers\",\"x\":[0.9685831611286311],\"y\":[0.2486898871648548],\"type\":\"scatter\"},{\"x\":[0,1],\"y\":[0.9685831611286311,0.9685831611286311],\"type\":\"scatter\"},{\"x\":[0,0],\"y\":[0,0.9685831611286311],\"type\":\"scatter\"},{\"x\":[0],\"y\":[0.9685831611286311],\"type\":\"scatter\"}],\"name\":\"4\"},{\"data\":[{\"line\":{\"width\":3},\"mode\":\"lines\",\"x\":[0,0.9510565162951535],\"y\":[0,0.3090169943749474],\"type\":\"scatter\"},{\"line\":{\"width\":3},\"mode\":\"lines\",\"x\":[0,0.9510565162951535],\"y\":[0.3090169943749474,0.3090169943749474],\"type\":\"scatter\"},{\"mode\":\"markers\",\"x\":[0.9510565162951535],\"y\":[0.3090169943749474],\"type\":\"scatter\"},{\"x\":[0,1],\"y\":[0.9510565162951535,0.9510565162951535],\"type\":\"scatter\"},{\"x\":[0,0],\"y\":[0,0.9510565162951535],\"type\":\"scatter\"},{\"x\":[0],\"y\":[0.9510565162951535],\"type\":\"scatter\"}],\"name\":\"5\"},{\"data\":[{\"line\":{\"width\":3},\"mode\":\"lines\",\"x\":[0,0.9297764858882513],\"y\":[0,0.368124552684678],\"type\":\"scatter\"},{\"line\":{\"width\":3},\"mode\":\"lines\",\"x\":[0,0.9297764858882513],\"y\":[0.368124552684678,0.368124552684678],\"type\":\"scatter\"},{\"mode\":\"markers\",\"x\":[0.9297764858882513],\"y\":[0.368124552684678],\"type\":\"scatter\"},{\"x\":[0,1],\"y\":[0.9297764858882513,0.9297764858882513],\"type\":\"scatter\"},{\"x\":[0,0],\"y\":[0,0.9297764858882513],\"type\":\"scatter\"},{\"x\":[0],\"y\":[0.9297764858882513],\"type\":\"scatter\"}],\"name\":\"6\"},{\"data\":[{\"line\":{\"width\":3},\"mode\":\"lines\",\"x\":[0,0.9048270524660195],\"y\":[0,0.4257792915650727],\"type\":\"scatter\"},{\"line\":{\"width\":3},\"mode\":\"lines\",\"x\":[0,0.9048270524660195],\"y\":[0.4257792915650727,0.4257792915650727],\"type\":\"scatter\"},{\"mode\":\"markers\",\"x\":[0.9048270524660195],\"y\":[0.4257792915650727],\"type\":\"scatter\"},{\"x\":[0,1],\"y\":[0.9048270524660195,0.9048270524660195],\"type\":\"scatter\"},{\"x\":[0,0],\"y\":[0,0.9048270524660195],\"type\":\"scatter\"},{\"x\":[0],\"y\":[0.9048270524660195],\"type\":\"scatter\"}],\"name\":\"7\"},{\"data\":[{\"line\":{\"width\":3},\"mode\":\"lines\",\"x\":[0,0.8763066800438636],\"y\":[0,0.4817536741017153],\"type\":\"scatter\"},{\"line\":{\"width\":3},\"mode\":\"lines\",\"x\":[0,0.8763066800438636],\"y\":[0.4817536741017153,0.4817536741017153],\"type\":\"scatter\"},{\"mode\":\"markers\",\"x\":[0.8763066800438636],\"y\":[0.4817536741017153],\"type\":\"scatter\"},{\"x\":[0,1],\"y\":[0.8763066800438636,0.8763066800438636],\"type\":\"scatter\"},{\"x\":[0,0],\"y\":[0,0.8763066800438636],\"type\":\"scatter\"},{\"x\":[0],\"y\":[0.8763066800438636],\"type\":\"scatter\"}],\"name\":\"8\"},{\"data\":[{\"line\":{\"width\":3},\"mode\":\"lines\",\"x\":[0,0.8443279255020151],\"y\":[0,0.5358267949789967],\"type\":\"scatter\"},{\"line\":{\"width\":3},\"mode\":\"lines\",\"x\":[0,0.8443279255020151],\"y\":[0.5358267949789967,0.5358267949789967],\"type\":\"scatter\"},{\"mode\":\"markers\",\"x\":[0.8443279255020151],\"y\":[0.5358267949789967],\"type\":\"scatter\"},{\"x\":[0,1],\"y\":[0.8443279255020151,0.8443279255020151],\"type\":\"scatter\"},{\"x\":[0,0],\"y\":[0,0.8443279255020151],\"type\":\"scatter\"},{\"x\":[0],\"y\":[0.8443279255020151],\"type\":\"scatter\"}],\"name\":\"9\"},{\"data\":[{\"line\":{\"width\":3},\"mode\":\"lines\",\"x\":[0,0.8090169943749475],\"y\":[0,0.5877852522924731],\"type\":\"scatter\"},{\"line\":{\"width\":3},\"mode\":\"lines\",\"x\":[0,0.8090169943749475],\"y\":[0.5877852522924731,0.5877852522924731],\"type\":\"scatter\"},{\"mode\":\"markers\",\"x\":[0.8090169943749475],\"y\":[0.5877852522924731],\"type\":\"scatter\"},{\"x\":[0,1],\"y\":[0.8090169943749475,0.8090169943749475],\"type\":\"scatter\"},{\"x\":[0,0],\"y\":[0,0.8090169943749475],\"type\":\"scatter\"},{\"x\":[0],\"y\":[0.8090169943749475],\"type\":\"scatter\"}],\"name\":\"10\"},{\"data\":[{\"line\":{\"width\":3},\"mode\":\"lines\",\"x\":[0,0.7705132427757891],\"y\":[0,0.6374239897486897],\"type\":\"scatter\"},{\"line\":{\"width\":3},\"mode\":\"lines\",\"x\":[0,0.7705132427757891],\"y\":[0.6374239897486897,0.6374239897486897],\"type\":\"scatter\"},{\"mode\":\"markers\",\"x\":[0.7705132427757891],\"y\":[0.6374239897486897],\"type\":\"scatter\"},{\"x\":[0,1],\"y\":[0.7705132427757891,0.7705132427757891],\"type\":\"scatter\"},{\"x\":[0,0],\"y\":[0,0.7705132427757891],\"type\":\"scatter\"},{\"x\":[0],\"y\":[0.7705132427757891],\"type\":\"scatter\"}],\"name\":\"11\"},{\"data\":[{\"line\":{\"width\":3},\"mode\":\"lines\",\"x\":[0,0.7289686274214116],\"y\":[0,0.6845471059286887],\"type\":\"scatter\"},{\"line\":{\"width\":3},\"mode\":\"lines\",\"x\":[0,0.7289686274214116],\"y\":[0.6845471059286887,0.6845471059286887],\"type\":\"scatter\"},{\"mode\":\"markers\",\"x\":[0.7289686274214116],\"y\":[0.6845471059286887],\"type\":\"scatter\"},{\"x\":[0,1],\"y\":[0.7289686274214116,0.7289686274214116],\"type\":\"scatter\"},{\"x\":[0,0],\"y\":[0,0.7289686274214116],\"type\":\"scatter\"},{\"x\":[0],\"y\":[0.7289686274214116],\"type\":\"scatter\"}],\"name\":\"12\"},{\"data\":[{\"line\":{\"width\":3},\"mode\":\"lines\",\"x\":[0,0.6845471059286886],\"y\":[0,0.7289686274214116],\"type\":\"scatter\"},{\"line\":{\"width\":3},\"mode\":\"lines\",\"x\":[0,0.6845471059286886],\"y\":[0.7289686274214116,0.7289686274214116],\"type\":\"scatter\"},{\"mode\":\"markers\",\"x\":[0.6845471059286886],\"y\":[0.7289686274214116],\"type\":\"scatter\"},{\"x\":[0,1],\"y\":[0.6845471059286886,0.6845471059286886],\"type\":\"scatter\"},{\"x\":[0,0],\"y\":[0,0.6845471059286886],\"type\":\"scatter\"},{\"x\":[0],\"y\":[0.6845471059286886],\"type\":\"scatter\"}],\"name\":\"13\"},{\"data\":[{\"line\":{\"width\":3},\"mode\":\"lines\",\"x\":[0,0.6374239897486896],\"y\":[0,0.7705132427757893],\"type\":\"scatter\"},{\"line\":{\"width\":3},\"mode\":\"lines\",\"x\":[0,0.6374239897486896],\"y\":[0.7705132427757893,0.7705132427757893],\"type\":\"scatter\"},{\"mode\":\"markers\",\"x\":[0.6374239897486896],\"y\":[0.7705132427757893],\"type\":\"scatter\"},{\"x\":[0,1],\"y\":[0.6374239897486896,0.6374239897486896],\"type\":\"scatter\"},{\"x\":[0,0],\"y\":[0,0.6374239897486896],\"type\":\"scatter\"},{\"x\":[0],\"y\":[0.6374239897486896],\"type\":\"scatter\"}],\"name\":\"14\"},{\"data\":[{\"line\":{\"width\":3},\"mode\":\"lines\",\"x\":[0,0.587785252292473],\"y\":[0,0.8090169943749475],\"type\":\"scatter\"},{\"line\":{\"width\":3},\"mode\":\"lines\",\"x\":[0,0.587785252292473],\"y\":[0.8090169943749475,0.8090169943749475],\"type\":\"scatter\"},{\"mode\":\"markers\",\"x\":[0.587785252292473],\"y\":[0.8090169943749475],\"type\":\"scatter\"},{\"x\":[0,1],\"y\":[0.587785252292473,0.587785252292473],\"type\":\"scatter\"},{\"x\":[0,0],\"y\":[0,0.587785252292473],\"type\":\"scatter\"},{\"x\":[0],\"y\":[0.587785252292473],\"type\":\"scatter\"}],\"name\":\"15\"},{\"data\":[{\"line\":{\"width\":3},\"mode\":\"lines\",\"x\":[0,0.5358267949789965],\"y\":[0,0.8443279255020151],\"type\":\"scatter\"},{\"line\":{\"width\":3},\"mode\":\"lines\",\"x\":[0,0.5358267949789965],\"y\":[0.8443279255020151,0.8443279255020151],\"type\":\"scatter\"},{\"mode\":\"markers\",\"x\":[0.5358267949789965],\"y\":[0.8443279255020151],\"type\":\"scatter\"},{\"x\":[0,1],\"y\":[0.5358267949789965,0.5358267949789965],\"type\":\"scatter\"},{\"x\":[0,0],\"y\":[0,0.5358267949789965],\"type\":\"scatter\"},{\"x\":[0],\"y\":[0.5358267949789965],\"type\":\"scatter\"}],\"name\":\"16\"},{\"data\":[{\"line\":{\"width\":3},\"mode\":\"lines\",\"x\":[0,0.48175367410171516],\"y\":[0,0.8763066800438637],\"type\":\"scatter\"},{\"line\":{\"width\":3},\"mode\":\"lines\",\"x\":[0,0.48175367410171516],\"y\":[0.8763066800438637,0.8763066800438637],\"type\":\"scatter\"},{\"mode\":\"markers\",\"x\":[0.48175367410171516],\"y\":[0.8763066800438637],\"type\":\"scatter\"},{\"x\":[0,1],\"y\":[0.48175367410171516,0.48175367410171516],\"type\":\"scatter\"},{\"x\":[0,0],\"y\":[0,0.48175367410171516],\"type\":\"scatter\"},{\"x\":[0],\"y\":[0.48175367410171516],\"type\":\"scatter\"}],\"name\":\"17\"},{\"data\":[{\"line\":{\"width\":3},\"mode\":\"lines\",\"x\":[0,0.42577929156507266],\"y\":[0,0.9048270524660196],\"type\":\"scatter\"},{\"line\":{\"width\":3},\"mode\":\"lines\",\"x\":[0,0.42577929156507266],\"y\":[0.9048270524660196,0.9048270524660196],\"type\":\"scatter\"},{\"mode\":\"markers\",\"x\":[0.42577929156507266],\"y\":[0.9048270524660196],\"type\":\"scatter\"},{\"x\":[0,1],\"y\":[0.42577929156507266,0.42577929156507266],\"type\":\"scatter\"},{\"x\":[0,0],\"y\":[0,0.42577929156507266],\"type\":\"scatter\"},{\"x\":[0],\"y\":[0.42577929156507266],\"type\":\"scatter\"}],\"name\":\"18\"},{\"data\":[{\"line\":{\"width\":3},\"mode\":\"lines\",\"x\":[0,0.36812455268467786],\"y\":[0,0.9297764858882515],\"type\":\"scatter\"},{\"line\":{\"width\":3},\"mode\":\"lines\",\"x\":[0,0.36812455268467786],\"y\":[0.9297764858882515,0.9297764858882515],\"type\":\"scatter\"},{\"mode\":\"markers\",\"x\":[0.36812455268467786],\"y\":[0.9297764858882515],\"type\":\"scatter\"},{\"x\":[0,1],\"y\":[0.36812455268467786,0.36812455268467786],\"type\":\"scatter\"},{\"x\":[0,0],\"y\":[0,0.36812455268467786],\"type\":\"scatter\"},{\"x\":[0],\"y\":[0.36812455268467786],\"type\":\"scatter\"}],\"name\":\"19\"},{\"data\":[{\"line\":{\"width\":3},\"mode\":\"lines\",\"x\":[0,0.30901699437494745],\"y\":[0,0.9510565162951535],\"type\":\"scatter\"},{\"line\":{\"width\":3},\"mode\":\"lines\",\"x\":[0,0.30901699437494745],\"y\":[0.9510565162951535,0.9510565162951535],\"type\":\"scatter\"},{\"mode\":\"markers\",\"x\":[0.30901699437494745],\"y\":[0.9510565162951535],\"type\":\"scatter\"},{\"x\":[0,1],\"y\":[0.30901699437494745,0.30901699437494745],\"type\":\"scatter\"},{\"x\":[0,0],\"y\":[0,0.30901699437494745],\"type\":\"scatter\"},{\"x\":[0],\"y\":[0.30901699437494745],\"type\":\"scatter\"}],\"name\":\"20\"},{\"data\":[{\"line\":{\"width\":3},\"mode\":\"lines\",\"x\":[0,0.24868988716485474],\"y\":[0,0.9685831611286311],\"type\":\"scatter\"},{\"line\":{\"width\":3},\"mode\":\"lines\",\"x\":[0,0.24868988716485474],\"y\":[0.9685831611286311,0.9685831611286311],\"type\":\"scatter\"},{\"mode\":\"markers\",\"x\":[0.24868988716485474],\"y\":[0.9685831611286311],\"type\":\"scatter\"},{\"x\":[0,1],\"y\":[0.24868988716485474,0.24868988716485474],\"type\":\"scatter\"},{\"x\":[0,0],\"y\":[0,0.24868988716485474],\"type\":\"scatter\"},{\"x\":[0],\"y\":[0.24868988716485474],\"type\":\"scatter\"}],\"name\":\"21\"},{\"data\":[{\"line\":{\"width\":3},\"mode\":\"lines\",\"x\":[0,0.18738131458572452],\"y\":[0,0.9822872507286887],\"type\":\"scatter\"},{\"line\":{\"width\":3},\"mode\":\"lines\",\"x\":[0,0.18738131458572452],\"y\":[0.9822872507286887,0.9822872507286887],\"type\":\"scatter\"},{\"mode\":\"markers\",\"x\":[0.18738131458572452],\"y\":[0.9822872507286887],\"type\":\"scatter\"},{\"x\":[0,1],\"y\":[0.18738131458572452,0.18738131458572452],\"type\":\"scatter\"},{\"x\":[0,0],\"y\":[0,0.18738131458572452],\"type\":\"scatter\"},{\"x\":[0],\"y\":[0.18738131458572452],\"type\":\"scatter\"}],\"name\":\"22\"},{\"data\":[{\"line\":{\"width\":3},\"mode\":\"lines\",\"x\":[0,0.12533323356430426],\"y\":[0,0.9921147013144779],\"type\":\"scatter\"},{\"line\":{\"width\":3},\"mode\":\"lines\",\"x\":[0,0.12533323356430426],\"y\":[0.9921147013144779,0.9921147013144779],\"type\":\"scatter\"},{\"mode\":\"markers\",\"x\":[0.12533323356430426],\"y\":[0.9921147013144779],\"type\":\"scatter\"},{\"x\":[0,1],\"y\":[0.12533323356430426,0.12533323356430426],\"type\":\"scatter\"},{\"x\":[0,0],\"y\":[0,0.12533323356430426],\"type\":\"scatter\"},{\"x\":[0],\"y\":[0.12533323356430426],\"type\":\"scatter\"}],\"name\":\"23\"},{\"data\":[{\"line\":{\"width\":3},\"mode\":\"lines\",\"x\":[0,0.0627905195293133],\"y\":[0,0.9980267284282716],\"type\":\"scatter\"},{\"line\":{\"width\":3},\"mode\":\"lines\",\"x\":[0,0.0627905195293133],\"y\":[0.9980267284282716,0.9980267284282716],\"type\":\"scatter\"},{\"mode\":\"markers\",\"x\":[0.0627905195293133],\"y\":[0.9980267284282716],\"type\":\"scatter\"},{\"x\":[0,1],\"y\":[0.0627905195293133,0.0627905195293133],\"type\":\"scatter\"},{\"x\":[0,0],\"y\":[0,0.0627905195293133],\"type\":\"scatter\"},{\"x\":[0],\"y\":[0.0627905195293133],\"type\":\"scatter\"}],\"name\":\"24\"},{\"data\":[{\"line\":{\"width\":3},\"mode\":\"lines\",\"x\":[0,-1.6081226496766366e-16],\"y\":[0,1.0],\"type\":\"scatter\"},{\"line\":{\"width\":3},\"mode\":\"lines\",\"x\":[0,-1.6081226496766366e-16],\"y\":[1.0,1.0],\"type\":\"scatter\"},{\"mode\":\"markers\",\"x\":[-1.6081226496766366e-16],\"y\":[1.0],\"type\":\"scatter\"},{\"x\":[0,1],\"y\":[-1.6081226496766366e-16,-1.6081226496766366e-16],\"type\":\"scatter\"},{\"x\":[0,0],\"y\":[0,-1.6081226496766366e-16],\"type\":\"scatter\"},{\"x\":[0],\"y\":[-1.6081226496766366e-16],\"type\":\"scatter\"}],\"name\":\"25\"},{\"data\":[{\"line\":{\"width\":3},\"mode\":\"lines\",\"x\":[0,-0.0627905195293134],\"y\":[0,0.9980267284282716],\"type\":\"scatter\"},{\"line\":{\"width\":3},\"mode\":\"lines\",\"x\":[0,-0.0627905195293134],\"y\":[0.9980267284282716,0.9980267284282716],\"type\":\"scatter\"},{\"mode\":\"markers\",\"x\":[-0.0627905195293134],\"y\":[0.9980267284282716],\"type\":\"scatter\"},{\"x\":[0,1],\"y\":[-0.0627905195293134,-0.0627905195293134],\"type\":\"scatter\"},{\"x\":[0,0],\"y\":[0,-0.0627905195293134],\"type\":\"scatter\"},{\"x\":[0],\"y\":[-0.0627905195293134],\"type\":\"scatter\"}],\"name\":\"26\"},{\"data\":[{\"line\":{\"width\":3},\"mode\":\"lines\",\"x\":[0,-0.12533323356430437],\"y\":[0,0.9921147013144778],\"type\":\"scatter\"},{\"line\":{\"width\":3},\"mode\":\"lines\",\"x\":[0,-0.12533323356430437],\"y\":[0.9921147013144778,0.9921147013144778],\"type\":\"scatter\"},{\"mode\":\"markers\",\"x\":[-0.12533323356430437],\"y\":[0.9921147013144778],\"type\":\"scatter\"},{\"x\":[0,1],\"y\":[-0.12533323356430437,-0.12533323356430437],\"type\":\"scatter\"},{\"x\":[0,0],\"y\":[0,-0.12533323356430437],\"type\":\"scatter\"},{\"x\":[0],\"y\":[-0.12533323356430437],\"type\":\"scatter\"}],\"name\":\"27\"},{\"data\":[{\"line\":{\"width\":3},\"mode\":\"lines\",\"x\":[0,-0.18738131458572482],\"y\":[0,0.9822872507286886],\"type\":\"scatter\"},{\"line\":{\"width\":3},\"mode\":\"lines\",\"x\":[0,-0.18738131458572482],\"y\":[0.9822872507286886,0.9822872507286886],\"type\":\"scatter\"},{\"mode\":\"markers\",\"x\":[-0.18738131458572482],\"y\":[0.9822872507286886],\"type\":\"scatter\"},{\"x\":[0,1],\"y\":[-0.18738131458572482,-0.18738131458572482],\"type\":\"scatter\"},{\"x\":[0,0],\"y\":[0,-0.18738131458572482],\"type\":\"scatter\"},{\"x\":[0],\"y\":[-0.18738131458572482],\"type\":\"scatter\"}],\"name\":\"28\"},{\"data\":[{\"line\":{\"width\":3},\"mode\":\"lines\",\"x\":[0,-0.24868988716485485],\"y\":[0,0.9685831611286311],\"type\":\"scatter\"},{\"line\":{\"width\":3},\"mode\":\"lines\",\"x\":[0,-0.24868988716485485],\"y\":[0.9685831611286311,0.9685831611286311],\"type\":\"scatter\"},{\"mode\":\"markers\",\"x\":[-0.24868988716485485],\"y\":[0.9685831611286311],\"type\":\"scatter\"},{\"x\":[0,1],\"y\":[-0.24868988716485485,-0.24868988716485485],\"type\":\"scatter\"},{\"x\":[0,0],\"y\":[0,-0.24868988716485485],\"type\":\"scatter\"},{\"x\":[0],\"y\":[-0.24868988716485485],\"type\":\"scatter\"}],\"name\":\"29\"},{\"data\":[{\"line\":{\"width\":3},\"mode\":\"lines\",\"x\":[0,-0.30901699437494756],\"y\":[0,0.9510565162951535],\"type\":\"scatter\"},{\"line\":{\"width\":3},\"mode\":\"lines\",\"x\":[0,-0.30901699437494756],\"y\":[0.9510565162951535,0.9510565162951535],\"type\":\"scatter\"},{\"mode\":\"markers\",\"x\":[-0.30901699437494756],\"y\":[0.9510565162951535],\"type\":\"scatter\"},{\"x\":[0,1],\"y\":[-0.30901699437494756,-0.30901699437494756],\"type\":\"scatter\"},{\"x\":[0,0],\"y\":[0,-0.30901699437494756],\"type\":\"scatter\"},{\"x\":[0],\"y\":[-0.30901699437494756],\"type\":\"scatter\"}],\"name\":\"30\"},{\"data\":[{\"line\":{\"width\":3},\"mode\":\"lines\",\"x\":[0,-0.368124552684678],\"y\":[0,0.9297764858882515],\"type\":\"scatter\"},{\"line\":{\"width\":3},\"mode\":\"lines\",\"x\":[0,-0.368124552684678],\"y\":[0.9297764858882515,0.9297764858882515],\"type\":\"scatter\"},{\"mode\":\"markers\",\"x\":[-0.368124552684678],\"y\":[0.9297764858882515],\"type\":\"scatter\"},{\"x\":[0,1],\"y\":[-0.368124552684678,-0.368124552684678],\"type\":\"scatter\"},{\"x\":[0,0],\"y\":[0,-0.368124552684678],\"type\":\"scatter\"},{\"x\":[0],\"y\":[-0.368124552684678],\"type\":\"scatter\"}],\"name\":\"31\"},{\"data\":[{\"line\":{\"width\":3},\"mode\":\"lines\",\"x\":[0,-0.4257792915650727],\"y\":[0,0.9048270524660195],\"type\":\"scatter\"},{\"line\":{\"width\":3},\"mode\":\"lines\",\"x\":[0,-0.4257792915650727],\"y\":[0.9048270524660195,0.9048270524660195],\"type\":\"scatter\"},{\"mode\":\"markers\",\"x\":[-0.4257792915650727],\"y\":[0.9048270524660195],\"type\":\"scatter\"},{\"x\":[0,1],\"y\":[-0.4257792915650727,-0.4257792915650727],\"type\":\"scatter\"},{\"x\":[0,0],\"y\":[0,-0.4257792915650727],\"type\":\"scatter\"},{\"x\":[0],\"y\":[-0.4257792915650727],\"type\":\"scatter\"}],\"name\":\"32\"},{\"data\":[{\"line\":{\"width\":3},\"mode\":\"lines\",\"x\":[0,-0.48175367410171543],\"y\":[0,0.8763066800438635],\"type\":\"scatter\"},{\"line\":{\"width\":3},\"mode\":\"lines\",\"x\":[0,-0.48175367410171543],\"y\":[0.8763066800438635,0.8763066800438635],\"type\":\"scatter\"},{\"mode\":\"markers\",\"x\":[-0.48175367410171543],\"y\":[0.8763066800438635],\"type\":\"scatter\"},{\"x\":[0,1],\"y\":[-0.48175367410171543,-0.48175367410171543],\"type\":\"scatter\"},{\"x\":[0,0],\"y\":[0,-0.48175367410171543],\"type\":\"scatter\"},{\"x\":[0],\"y\":[-0.48175367410171543],\"type\":\"scatter\"}],\"name\":\"33\"},{\"data\":[{\"line\":{\"width\":3},\"mode\":\"lines\",\"x\":[0,-0.5358267949789969],\"y\":[0,0.844327925502015],\"type\":\"scatter\"},{\"line\":{\"width\":3},\"mode\":\"lines\",\"x\":[0,-0.5358267949789969],\"y\":[0.844327925502015,0.844327925502015],\"type\":\"scatter\"},{\"mode\":\"markers\",\"x\":[-0.5358267949789969],\"y\":[0.844327925502015],\"type\":\"scatter\"},{\"x\":[0,1],\"y\":[-0.5358267949789969,-0.5358267949789969],\"type\":\"scatter\"},{\"x\":[0,0],\"y\":[0,-0.5358267949789969],\"type\":\"scatter\"},{\"x\":[0],\"y\":[-0.5358267949789969],\"type\":\"scatter\"}],\"name\":\"34\"},{\"data\":[{\"line\":{\"width\":3},\"mode\":\"lines\",\"x\":[0,-0.587785252292473],\"y\":[0,0.8090169943749475],\"type\":\"scatter\"},{\"line\":{\"width\":3},\"mode\":\"lines\",\"x\":[0,-0.587785252292473],\"y\":[0.8090169943749475,0.8090169943749475],\"type\":\"scatter\"},{\"mode\":\"markers\",\"x\":[-0.587785252292473],\"y\":[0.8090169943749475],\"type\":\"scatter\"},{\"x\":[0,1],\"y\":[-0.587785252292473,-0.587785252292473],\"type\":\"scatter\"},{\"x\":[0,0],\"y\":[0,-0.587785252292473],\"type\":\"scatter\"},{\"x\":[0],\"y\":[-0.587785252292473],\"type\":\"scatter\"}],\"name\":\"35\"},{\"data\":[{\"line\":{\"width\":3},\"mode\":\"lines\",\"x\":[0,-0.6374239897486897],\"y\":[0,0.7705132427757893],\"type\":\"scatter\"},{\"line\":{\"width\":3},\"mode\":\"lines\",\"x\":[0,-0.6374239897486897],\"y\":[0.7705132427757893,0.7705132427757893],\"type\":\"scatter\"},{\"mode\":\"markers\",\"x\":[-0.6374239897486897],\"y\":[0.7705132427757893],\"type\":\"scatter\"},{\"x\":[0,1],\"y\":[-0.6374239897486897,-0.6374239897486897],\"type\":\"scatter\"},{\"x\":[0,0],\"y\":[0,-0.6374239897486897],\"type\":\"scatter\"},{\"x\":[0],\"y\":[-0.6374239897486897],\"type\":\"scatter\"}],\"name\":\"36\"},{\"data\":[{\"line\":{\"width\":3},\"mode\":\"lines\",\"x\":[0,-0.6845471059286887],\"y\":[0,0.7289686274214114],\"type\":\"scatter\"},{\"line\":{\"width\":3},\"mode\":\"lines\",\"x\":[0,-0.6845471059286887],\"y\":[0.7289686274214114,0.7289686274214114],\"type\":\"scatter\"},{\"mode\":\"markers\",\"x\":[-0.6845471059286887],\"y\":[0.7289686274214114],\"type\":\"scatter\"},{\"x\":[0,1],\"y\":[-0.6845471059286887,-0.6845471059286887],\"type\":\"scatter\"},{\"x\":[0,0],\"y\":[0,-0.6845471059286887],\"type\":\"scatter\"},{\"x\":[0],\"y\":[-0.6845471059286887],\"type\":\"scatter\"}],\"name\":\"37\"},{\"data\":[{\"line\":{\"width\":3},\"mode\":\"lines\",\"x\":[0,-0.7289686274214117],\"y\":[0,0.6845471059286885],\"type\":\"scatter\"},{\"line\":{\"width\":3},\"mode\":\"lines\",\"x\":[0,-0.7289686274214117],\"y\":[0.6845471059286885,0.6845471059286885],\"type\":\"scatter\"},{\"mode\":\"markers\",\"x\":[-0.7289686274214117],\"y\":[0.6845471059286885],\"type\":\"scatter\"},{\"x\":[0,1],\"y\":[-0.7289686274214117,-0.7289686274214117],\"type\":\"scatter\"},{\"x\":[0,0],\"y\":[0,-0.7289686274214117],\"type\":\"scatter\"},{\"x\":[0],\"y\":[-0.7289686274214117],\"type\":\"scatter\"}],\"name\":\"38\"},{\"data\":[{\"line\":{\"width\":3},\"mode\":\"lines\",\"x\":[0,-0.7705132427757894],\"y\":[0,0.6374239897486895],\"type\":\"scatter\"},{\"line\":{\"width\":3},\"mode\":\"lines\",\"x\":[0,-0.7705132427757894],\"y\":[0.6374239897486895,0.6374239897486895],\"type\":\"scatter\"},{\"mode\":\"markers\",\"x\":[-0.7705132427757894],\"y\":[0.6374239897486895],\"type\":\"scatter\"},{\"x\":[0,1],\"y\":[-0.7705132427757894,-0.7705132427757894],\"type\":\"scatter\"},{\"x\":[0,0],\"y\":[0,-0.7705132427757894],\"type\":\"scatter\"},{\"x\":[0],\"y\":[-0.7705132427757894],\"type\":\"scatter\"}],\"name\":\"39\"},{\"data\":[{\"line\":{\"width\":3},\"mode\":\"lines\",\"x\":[0,-0.8090169943749473],\"y\":[0,0.5877852522924732],\"type\":\"scatter\"},{\"line\":{\"width\":3},\"mode\":\"lines\",\"x\":[0,-0.8090169943749473],\"y\":[0.5877852522924732,0.5877852522924732],\"type\":\"scatter\"},{\"mode\":\"markers\",\"x\":[-0.8090169943749473],\"y\":[0.5877852522924732],\"type\":\"scatter\"},{\"x\":[0,1],\"y\":[-0.8090169943749473,-0.8090169943749473],\"type\":\"scatter\"},{\"x\":[0,0],\"y\":[0,-0.8090169943749473],\"type\":\"scatter\"},{\"x\":[0],\"y\":[-0.8090169943749473],\"type\":\"scatter\"}],\"name\":\"40\"},{\"data\":[{\"line\":{\"width\":3},\"mode\":\"lines\",\"x\":[0,-0.8443279255020151],\"y\":[0,0.5358267949789967],\"type\":\"scatter\"},{\"line\":{\"width\":3},\"mode\":\"lines\",\"x\":[0,-0.8443279255020151],\"y\":[0.5358267949789967,0.5358267949789967],\"type\":\"scatter\"},{\"mode\":\"markers\",\"x\":[-0.8443279255020151],\"y\":[0.5358267949789967],\"type\":\"scatter\"},{\"x\":[0,1],\"y\":[-0.8443279255020151,-0.8443279255020151],\"type\":\"scatter\"},{\"x\":[0,0],\"y\":[0,-0.8443279255020151],\"type\":\"scatter\"},{\"x\":[0],\"y\":[-0.8443279255020151],\"type\":\"scatter\"}],\"name\":\"41\"},{\"data\":[{\"line\":{\"width\":3},\"mode\":\"lines\",\"x\":[0,-0.8763066800438636],\"y\":[0,0.4817536741017152],\"type\":\"scatter\"},{\"line\":{\"width\":3},\"mode\":\"lines\",\"x\":[0,-0.8763066800438636],\"y\":[0.4817536741017152,0.4817536741017152],\"type\":\"scatter\"},{\"mode\":\"markers\",\"x\":[-0.8763066800438636],\"y\":[0.4817536741017152],\"type\":\"scatter\"},{\"x\":[0,1],\"y\":[-0.8763066800438636,-0.8763066800438636],\"type\":\"scatter\"},{\"x\":[0,0],\"y\":[0,-0.8763066800438636],\"type\":\"scatter\"},{\"x\":[0],\"y\":[-0.8763066800438636],\"type\":\"scatter\"}],\"name\":\"42\"},{\"data\":[{\"line\":{\"width\":3},\"mode\":\"lines\",\"x\":[0,-0.9048270524660196],\"y\":[0,0.4257792915650725],\"type\":\"scatter\"},{\"line\":{\"width\":3},\"mode\":\"lines\",\"x\":[0,-0.9048270524660196],\"y\":[0.4257792915650725,0.4257792915650725],\"type\":\"scatter\"},{\"mode\":\"markers\",\"x\":[-0.9048270524660196],\"y\":[0.4257792915650725],\"type\":\"scatter\"},{\"x\":[0,1],\"y\":[-0.9048270524660196,-0.9048270524660196],\"type\":\"scatter\"},{\"x\":[0,0],\"y\":[0,-0.9048270524660196],\"type\":\"scatter\"},{\"x\":[0],\"y\":[-0.9048270524660196],\"type\":\"scatter\"}],\"name\":\"43\"},{\"data\":[{\"line\":{\"width\":3},\"mode\":\"lines\",\"x\":[0,-0.9297764858882515],\"y\":[0,0.36812455268467775],\"type\":\"scatter\"},{\"line\":{\"width\":3},\"mode\":\"lines\",\"x\":[0,-0.9297764858882515],\"y\":[0.36812455268467775,0.36812455268467775],\"type\":\"scatter\"},{\"mode\":\"markers\",\"x\":[-0.9297764858882515],\"y\":[0.36812455268467775],\"type\":\"scatter\"},{\"x\":[0,1],\"y\":[-0.9297764858882515,-0.9297764858882515],\"type\":\"scatter\"},{\"x\":[0,0],\"y\":[0,-0.9297764858882515],\"type\":\"scatter\"},{\"x\":[0],\"y\":[-0.9297764858882515],\"type\":\"scatter\"}],\"name\":\"44\"},{\"data\":[{\"line\":{\"width\":3},\"mode\":\"lines\",\"x\":[0,-0.9510565162951536],\"y\":[0,0.3090169943749471],\"type\":\"scatter\"},{\"line\":{\"width\":3},\"mode\":\"lines\",\"x\":[0,-0.9510565162951536],\"y\":[0.3090169943749471,0.3090169943749471],\"type\":\"scatter\"},{\"mode\":\"markers\",\"x\":[-0.9510565162951536],\"y\":[0.3090169943749471],\"type\":\"scatter\"},{\"x\":[0,1],\"y\":[-0.9510565162951536,-0.9510565162951536],\"type\":\"scatter\"},{\"x\":[0,0],\"y\":[0,-0.9510565162951536],\"type\":\"scatter\"},{\"x\":[0],\"y\":[-0.9510565162951536],\"type\":\"scatter\"}],\"name\":\"45\"},{\"data\":[{\"line\":{\"width\":3},\"mode\":\"lines\",\"x\":[0,-0.9685831611286311],\"y\":[0,0.24868988716485482],\"type\":\"scatter\"},{\"line\":{\"width\":3},\"mode\":\"lines\",\"x\":[0,-0.9685831611286311],\"y\":[0.24868988716485482,0.24868988716485482],\"type\":\"scatter\"},{\"mode\":\"markers\",\"x\":[-0.9685831611286311],\"y\":[0.24868988716485482],\"type\":\"scatter\"},{\"x\":[0,1],\"y\":[-0.9685831611286311,-0.9685831611286311],\"type\":\"scatter\"},{\"x\":[0,0],\"y\":[0,-0.9685831611286311],\"type\":\"scatter\"},{\"x\":[0],\"y\":[-0.9685831611286311],\"type\":\"scatter\"}],\"name\":\"46\"},{\"data\":[{\"line\":{\"width\":3},\"mode\":\"lines\",\"x\":[0,-0.9822872507286887],\"y\":[0,0.18738131458572457],\"type\":\"scatter\"},{\"line\":{\"width\":3},\"mode\":\"lines\",\"x\":[0,-0.9822872507286887],\"y\":[0.18738131458572457,0.18738131458572457],\"type\":\"scatter\"},{\"mode\":\"markers\",\"x\":[-0.9822872507286887],\"y\":[0.18738131458572457],\"type\":\"scatter\"},{\"x\":[0,1],\"y\":[-0.9822872507286887,-0.9822872507286887],\"type\":\"scatter\"},{\"x\":[0,0],\"y\":[0,-0.9822872507286887],\"type\":\"scatter\"},{\"x\":[0],\"y\":[-0.9822872507286887],\"type\":\"scatter\"}],\"name\":\"47\"},{\"data\":[{\"line\":{\"width\":3},\"mode\":\"lines\",\"x\":[0,-0.9921147013144779],\"y\":[0,0.1253332335643041],\"type\":\"scatter\"},{\"line\":{\"width\":3},\"mode\":\"lines\",\"x\":[0,-0.9921147013144779],\"y\":[0.1253332335643041,0.1253332335643041],\"type\":\"scatter\"},{\"mode\":\"markers\",\"x\":[-0.9921147013144779],\"y\":[0.1253332335643041],\"type\":\"scatter\"},{\"x\":[0,1],\"y\":[-0.9921147013144779,-0.9921147013144779],\"type\":\"scatter\"},{\"x\":[0,0],\"y\":[0,-0.9921147013144779],\"type\":\"scatter\"},{\"x\":[0],\"y\":[-0.9921147013144779],\"type\":\"scatter\"}],\"name\":\"48\"},{\"data\":[{\"line\":{\"width\":3},\"mode\":\"lines\",\"x\":[0,-0.9980267284282716],\"y\":[0,0.06279051952931314],\"type\":\"scatter\"},{\"line\":{\"width\":3},\"mode\":\"lines\",\"x\":[0,-0.9980267284282716],\"y\":[0.06279051952931314,0.06279051952931314],\"type\":\"scatter\"},{\"mode\":\"markers\",\"x\":[-0.9980267284282716],\"y\":[0.06279051952931314],\"type\":\"scatter\"},{\"x\":[0,1],\"y\":[-0.9980267284282716,-0.9980267284282716],\"type\":\"scatter\"},{\"x\":[0,0],\"y\":[0,-0.9980267284282716],\"type\":\"scatter\"},{\"x\":[0],\"y\":[-0.9980267284282716],\"type\":\"scatter\"}],\"name\":\"49\"},{\"data\":[{\"line\":{\"width\":3},\"mode\":\"lines\",\"x\":[0,-1.0],\"y\":[0,-3.216245299353273e-16],\"type\":\"scatter\"},{\"line\":{\"width\":3},\"mode\":\"lines\",\"x\":[0,-1.0],\"y\":[-3.216245299353273e-16,-3.216245299353273e-16],\"type\":\"scatter\"},{\"mode\":\"markers\",\"x\":[-1.0],\"y\":[-3.216245299353273e-16],\"type\":\"scatter\"},{\"x\":[0,1],\"y\":[-1.0,-1.0],\"type\":\"scatter\"},{\"x\":[0,0],\"y\":[0,-1.0],\"type\":\"scatter\"},{\"x\":[0],\"y\":[-1.0],\"type\":\"scatter\"}],\"name\":\"50\"},{\"data\":[{\"line\":{\"width\":3},\"mode\":\"lines\",\"x\":[0,-0.9980267284282716],\"y\":[0,-0.06279051952931335],\"type\":\"scatter\"},{\"line\":{\"width\":3},\"mode\":\"lines\",\"x\":[0,-0.9980267284282716],\"y\":[-0.06279051952931335,-0.06279051952931335],\"type\":\"scatter\"},{\"mode\":\"markers\",\"x\":[-0.9980267284282716],\"y\":[-0.06279051952931335],\"type\":\"scatter\"},{\"x\":[0,1],\"y\":[-0.9980267284282716,-0.9980267284282716],\"type\":\"scatter\"},{\"x\":[0,0],\"y\":[0,-0.9980267284282716],\"type\":\"scatter\"},{\"x\":[0],\"y\":[-0.9980267284282716],\"type\":\"scatter\"}],\"name\":\"51\"},{\"data\":[{\"line\":{\"width\":3},\"mode\":\"lines\",\"x\":[0,-0.9921147013144779],\"y\":[0,-0.12533323356430429],\"type\":\"scatter\"},{\"line\":{\"width\":3},\"mode\":\"lines\",\"x\":[0,-0.9921147013144779],\"y\":[-0.12533323356430429,-0.12533323356430429],\"type\":\"scatter\"},{\"mode\":\"markers\",\"x\":[-0.9921147013144779],\"y\":[-0.12533323356430429],\"type\":\"scatter\"},{\"x\":[0,1],\"y\":[-0.9921147013144779,-0.9921147013144779],\"type\":\"scatter\"},{\"x\":[0,0],\"y\":[0,-0.9921147013144779],\"type\":\"scatter\"},{\"x\":[0],\"y\":[-0.9921147013144779],\"type\":\"scatter\"}],\"name\":\"52\"},{\"data\":[{\"line\":{\"width\":3},\"mode\":\"lines\",\"x\":[0,-0.9822872507286886],\"y\":[0,-0.18738131458572477],\"type\":\"scatter\"},{\"line\":{\"width\":3},\"mode\":\"lines\",\"x\":[0,-0.9822872507286886],\"y\":[-0.18738131458572477,-0.18738131458572477],\"type\":\"scatter\"},{\"mode\":\"markers\",\"x\":[-0.9822872507286886],\"y\":[-0.18738131458572477],\"type\":\"scatter\"},{\"x\":[0,1],\"y\":[-0.9822872507286886,-0.9822872507286886],\"type\":\"scatter\"},{\"x\":[0,0],\"y\":[0,-0.9822872507286886],\"type\":\"scatter\"},{\"x\":[0],\"y\":[-0.9822872507286886],\"type\":\"scatter\"}],\"name\":\"53\"},{\"data\":[{\"line\":{\"width\":3},\"mode\":\"lines\",\"x\":[0,-0.9685831611286311],\"y\":[0,-0.24868988716485502],\"type\":\"scatter\"},{\"line\":{\"width\":3},\"mode\":\"lines\",\"x\":[0,-0.9685831611286311],\"y\":[-0.24868988716485502,-0.24868988716485502],\"type\":\"scatter\"},{\"mode\":\"markers\",\"x\":[-0.9685831611286311],\"y\":[-0.24868988716485502],\"type\":\"scatter\"},{\"x\":[0,1],\"y\":[-0.9685831611286311,-0.9685831611286311],\"type\":\"scatter\"},{\"x\":[0,0],\"y\":[0,-0.9685831611286311],\"type\":\"scatter\"},{\"x\":[0],\"y\":[-0.9685831611286311],\"type\":\"scatter\"}],\"name\":\"54\"},{\"data\":[{\"line\":{\"width\":3},\"mode\":\"lines\",\"x\":[0,-0.9510565162951535],\"y\":[0,-0.30901699437494773],\"type\":\"scatter\"},{\"line\":{\"width\":3},\"mode\":\"lines\",\"x\":[0,-0.9510565162951535],\"y\":[-0.30901699437494773,-0.30901699437494773],\"type\":\"scatter\"},{\"mode\":\"markers\",\"x\":[-0.9510565162951535],\"y\":[-0.30901699437494773],\"type\":\"scatter\"},{\"x\":[0,1],\"y\":[-0.9510565162951535,-0.9510565162951535],\"type\":\"scatter\"},{\"x\":[0,0],\"y\":[0,-0.9510565162951535],\"type\":\"scatter\"},{\"x\":[0],\"y\":[-0.9510565162951535],\"type\":\"scatter\"}],\"name\":\"55\"},{\"data\":[{\"line\":{\"width\":3},\"mode\":\"lines\",\"x\":[0,-0.9297764858882512],\"y\":[0,-0.3681245526846783],\"type\":\"scatter\"},{\"line\":{\"width\":3},\"mode\":\"lines\",\"x\":[0,-0.9297764858882512],\"y\":[-0.3681245526846783,-0.3681245526846783],\"type\":\"scatter\"},{\"mode\":\"markers\",\"x\":[-0.9297764858882512],\"y\":[-0.3681245526846783],\"type\":\"scatter\"},{\"x\":[0,1],\"y\":[-0.9297764858882512,-0.9297764858882512],\"type\":\"scatter\"},{\"x\":[0,0],\"y\":[0,-0.9297764858882512],\"type\":\"scatter\"},{\"x\":[0],\"y\":[-0.9297764858882512],\"type\":\"scatter\"}],\"name\":\"56\"},{\"data\":[{\"line\":{\"width\":3},\"mode\":\"lines\",\"x\":[0,-0.9048270524660195],\"y\":[0,-0.42577929156507266],\"type\":\"scatter\"},{\"line\":{\"width\":3},\"mode\":\"lines\",\"x\":[0,-0.9048270524660195],\"y\":[-0.42577929156507266,-0.42577929156507266],\"type\":\"scatter\"},{\"mode\":\"markers\",\"x\":[-0.9048270524660195],\"y\":[-0.42577929156507266],\"type\":\"scatter\"},{\"x\":[0,1],\"y\":[-0.9048270524660195,-0.9048270524660195],\"type\":\"scatter\"},{\"x\":[0,0],\"y\":[0,-0.9048270524660195],\"type\":\"scatter\"},{\"x\":[0],\"y\":[-0.9048270524660195],\"type\":\"scatter\"}],\"name\":\"57\"},{\"data\":[{\"line\":{\"width\":3},\"mode\":\"lines\",\"x\":[0,-0.8763066800438636],\"y\":[0,-0.4817536741017154],\"type\":\"scatter\"},{\"line\":{\"width\":3},\"mode\":\"lines\",\"x\":[0,-0.8763066800438636],\"y\":[-0.4817536741017154,-0.4817536741017154],\"type\":\"scatter\"},{\"mode\":\"markers\",\"x\":[-0.8763066800438636],\"y\":[-0.4817536741017154],\"type\":\"scatter\"},{\"x\":[0,1],\"y\":[-0.8763066800438636,-0.8763066800438636],\"type\":\"scatter\"},{\"x\":[0,0],\"y\":[0,-0.8763066800438636],\"type\":\"scatter\"},{\"x\":[0],\"y\":[-0.8763066800438636],\"type\":\"scatter\"}],\"name\":\"58\"},{\"data\":[{\"line\":{\"width\":3},\"mode\":\"lines\",\"x\":[0,-0.844327925502015],\"y\":[0,-0.5358267949789968],\"type\":\"scatter\"},{\"line\":{\"width\":3},\"mode\":\"lines\",\"x\":[0,-0.844327925502015],\"y\":[-0.5358267949789968,-0.5358267949789968],\"type\":\"scatter\"},{\"mode\":\"markers\",\"x\":[-0.844327925502015],\"y\":[-0.5358267949789968],\"type\":\"scatter\"},{\"x\":[0,1],\"y\":[-0.844327925502015,-0.844327925502015],\"type\":\"scatter\"},{\"x\":[0,0],\"y\":[0,-0.844327925502015],\"type\":\"scatter\"},{\"x\":[0],\"y\":[-0.844327925502015],\"type\":\"scatter\"}],\"name\":\"59\"},{\"data\":[{\"line\":{\"width\":3},\"mode\":\"lines\",\"x\":[0,-0.8090169943749472],\"y\":[0,-0.5877852522924734],\"type\":\"scatter\"},{\"line\":{\"width\":3},\"mode\":\"lines\",\"x\":[0,-0.8090169943749472],\"y\":[-0.5877852522924734,-0.5877852522924734],\"type\":\"scatter\"},{\"mode\":\"markers\",\"x\":[-0.8090169943749472],\"y\":[-0.5877852522924734],\"type\":\"scatter\"},{\"x\":[0,1],\"y\":[-0.8090169943749472,-0.8090169943749472],\"type\":\"scatter\"},{\"x\":[0,0],\"y\":[0,-0.8090169943749472],\"type\":\"scatter\"},{\"x\":[0],\"y\":[-0.8090169943749472],\"type\":\"scatter\"}],\"name\":\"60\"},{\"data\":[{\"line\":{\"width\":3},\"mode\":\"lines\",\"x\":[0,-0.770513242775789],\"y\":[0,-0.63742398974869],\"type\":\"scatter\"},{\"line\":{\"width\":3},\"mode\":\"lines\",\"x\":[0,-0.770513242775789],\"y\":[-0.63742398974869,-0.63742398974869],\"type\":\"scatter\"},{\"mode\":\"markers\",\"x\":[-0.770513242775789],\"y\":[-0.63742398974869],\"type\":\"scatter\"},{\"x\":[0,1],\"y\":[-0.770513242775789,-0.770513242775789],\"type\":\"scatter\"},{\"x\":[0,0],\"y\":[0,-0.770513242775789],\"type\":\"scatter\"},{\"x\":[0],\"y\":[-0.770513242775789],\"type\":\"scatter\"}],\"name\":\"61\"},{\"data\":[{\"line\":{\"width\":3},\"mode\":\"lines\",\"x\":[0,-0.7289686274214116],\"y\":[0,-0.6845471059286887],\"type\":\"scatter\"},{\"line\":{\"width\":3},\"mode\":\"lines\",\"x\":[0,-0.7289686274214116],\"y\":[-0.6845471059286887,-0.6845471059286887],\"type\":\"scatter\"},{\"mode\":\"markers\",\"x\":[-0.7289686274214116],\"y\":[-0.6845471059286887],\"type\":\"scatter\"},{\"x\":[0,1],\"y\":[-0.7289686274214116,-0.7289686274214116],\"type\":\"scatter\"},{\"x\":[0,0],\"y\":[0,-0.7289686274214116],\"type\":\"scatter\"},{\"x\":[0],\"y\":[-0.7289686274214116],\"type\":\"scatter\"}],\"name\":\"62\"},{\"data\":[{\"line\":{\"width\":3},\"mode\":\"lines\",\"x\":[0,-0.6845471059286886],\"y\":[0,-0.7289686274214116],\"type\":\"scatter\"},{\"line\":{\"width\":3},\"mode\":\"lines\",\"x\":[0,-0.6845471059286886],\"y\":[-0.7289686274214116,-0.7289686274214116],\"type\":\"scatter\"},{\"mode\":\"markers\",\"x\":[-0.6845471059286886],\"y\":[-0.7289686274214116],\"type\":\"scatter\"},{\"x\":[0,1],\"y\":[-0.6845471059286886,-0.6845471059286886],\"type\":\"scatter\"},{\"x\":[0,0],\"y\":[0,-0.6845471059286886],\"type\":\"scatter\"},{\"x\":[0],\"y\":[-0.6845471059286886],\"type\":\"scatter\"}],\"name\":\"63\"},{\"data\":[{\"line\":{\"width\":3},\"mode\":\"lines\",\"x\":[0,-0.6374239897486895],\"y\":[0,-0.7705132427757894],\"type\":\"scatter\"},{\"line\":{\"width\":3},\"mode\":\"lines\",\"x\":[0,-0.6374239897486895],\"y\":[-0.7705132427757894,-0.7705132427757894],\"type\":\"scatter\"},{\"mode\":\"markers\",\"x\":[-0.6374239897486895],\"y\":[-0.7705132427757894],\"type\":\"scatter\"},{\"x\":[0,1],\"y\":[-0.6374239897486895,-0.6374239897486895],\"type\":\"scatter\"},{\"x\":[0,0],\"y\":[0,-0.6374239897486895],\"type\":\"scatter\"},{\"x\":[0],\"y\":[-0.6374239897486895],\"type\":\"scatter\"}],\"name\":\"64\"},{\"data\":[{\"line\":{\"width\":3},\"mode\":\"lines\",\"x\":[0,-0.5877852522924732],\"y\":[0,-0.8090169943749473],\"type\":\"scatter\"},{\"line\":{\"width\":3},\"mode\":\"lines\",\"x\":[0,-0.5877852522924732],\"y\":[-0.8090169943749473,-0.8090169943749473],\"type\":\"scatter\"},{\"mode\":\"markers\",\"x\":[-0.5877852522924732],\"y\":[-0.8090169943749473],\"type\":\"scatter\"},{\"x\":[0,1],\"y\":[-0.5877852522924732,-0.5877852522924732],\"type\":\"scatter\"},{\"x\":[0,0],\"y\":[0,-0.5877852522924732],\"type\":\"scatter\"},{\"x\":[0],\"y\":[-0.5877852522924732],\"type\":\"scatter\"}],\"name\":\"65\"},{\"data\":[{\"line\":{\"width\":3},\"mode\":\"lines\",\"x\":[0,-0.5358267949789963],\"y\":[0,-0.8443279255020153],\"type\":\"scatter\"},{\"line\":{\"width\":3},\"mode\":\"lines\",\"x\":[0,-0.5358267949789963],\"y\":[-0.8443279255020153,-0.8443279255020153],\"type\":\"scatter\"},{\"mode\":\"markers\",\"x\":[-0.5358267949789963],\"y\":[-0.8443279255020153],\"type\":\"scatter\"},{\"x\":[0,1],\"y\":[-0.5358267949789963,-0.5358267949789963],\"type\":\"scatter\"},{\"x\":[0,0],\"y\":[0,-0.5358267949789963],\"type\":\"scatter\"},{\"x\":[0],\"y\":[-0.5358267949789963],\"type\":\"scatter\"}],\"name\":\"66\"},{\"data\":[{\"line\":{\"width\":3},\"mode\":\"lines\",\"x\":[0,-0.48175367410171527],\"y\":[0,-0.8763066800438636],\"type\":\"scatter\"},{\"line\":{\"width\":3},\"mode\":\"lines\",\"x\":[0,-0.48175367410171527],\"y\":[-0.8763066800438636,-0.8763066800438636],\"type\":\"scatter\"},{\"mode\":\"markers\",\"x\":[-0.48175367410171527],\"y\":[-0.8763066800438636],\"type\":\"scatter\"},{\"x\":[0,1],\"y\":[-0.48175367410171527,-0.48175367410171527],\"type\":\"scatter\"},{\"x\":[0,0],\"y\":[0,-0.48175367410171527],\"type\":\"scatter\"},{\"x\":[0],\"y\":[-0.48175367410171527],\"type\":\"scatter\"}],\"name\":\"67\"},{\"data\":[{\"line\":{\"width\":3},\"mode\":\"lines\",\"x\":[0,-0.42577929156507216],\"y\":[0,-0.9048270524660198],\"type\":\"scatter\"},{\"line\":{\"width\":3},\"mode\":\"lines\",\"x\":[0,-0.42577929156507216],\"y\":[-0.9048270524660198,-0.9048270524660198],\"type\":\"scatter\"},{\"mode\":\"markers\",\"x\":[-0.42577929156507216],\"y\":[-0.9048270524660198],\"type\":\"scatter\"},{\"x\":[0,1],\"y\":[-0.42577929156507216,-0.42577929156507216],\"type\":\"scatter\"},{\"x\":[0,0],\"y\":[0,-0.42577929156507216],\"type\":\"scatter\"},{\"x\":[0],\"y\":[-0.42577929156507216],\"type\":\"scatter\"}],\"name\":\"68\"},{\"data\":[{\"line\":{\"width\":3},\"mode\":\"lines\",\"x\":[0,-0.3681245526846778],\"y\":[0,-0.9297764858882515],\"type\":\"scatter\"},{\"line\":{\"width\":3},\"mode\":\"lines\",\"x\":[0,-0.3681245526846778],\"y\":[-0.9297764858882515,-0.9297764858882515],\"type\":\"scatter\"},{\"mode\":\"markers\",\"x\":[-0.3681245526846778],\"y\":[-0.9297764858882515],\"type\":\"scatter\"},{\"x\":[0,1],\"y\":[-0.3681245526846778,-0.3681245526846778],\"type\":\"scatter\"},{\"x\":[0,0],\"y\":[0,-0.3681245526846778],\"type\":\"scatter\"},{\"x\":[0],\"y\":[-0.3681245526846778],\"type\":\"scatter\"}],\"name\":\"69\"},{\"data\":[{\"line\":{\"width\":3},\"mode\":\"lines\",\"x\":[0,-0.30901699437494756],\"y\":[0,-0.9510565162951535],\"type\":\"scatter\"},{\"line\":{\"width\":3},\"mode\":\"lines\",\"x\":[0,-0.30901699437494756],\"y\":[-0.9510565162951535,-0.9510565162951535],\"type\":\"scatter\"},{\"mode\":\"markers\",\"x\":[-0.30901699437494756],\"y\":[-0.9510565162951535],\"type\":\"scatter\"},{\"x\":[0,1],\"y\":[-0.30901699437494756,-0.30901699437494756],\"type\":\"scatter\"},{\"x\":[0,0],\"y\":[0,-0.30901699437494756],\"type\":\"scatter\"},{\"x\":[0],\"y\":[-0.30901699437494756],\"type\":\"scatter\"}],\"name\":\"70\"},{\"data\":[{\"line\":{\"width\":3},\"mode\":\"lines\",\"x\":[0,-0.24868988716485443],\"y\":[0,-0.9685831611286312],\"type\":\"scatter\"},{\"line\":{\"width\":3},\"mode\":\"lines\",\"x\":[0,-0.24868988716485443],\"y\":[-0.9685831611286312,-0.9685831611286312],\"type\":\"scatter\"},{\"mode\":\"markers\",\"x\":[-0.24868988716485443],\"y\":[-0.9685831611286312],\"type\":\"scatter\"},{\"x\":[0,1],\"y\":[-0.24868988716485443,-0.24868988716485443],\"type\":\"scatter\"},{\"x\":[0,0],\"y\":[0,-0.24868988716485443],\"type\":\"scatter\"},{\"x\":[0],\"y\":[-0.24868988716485443],\"type\":\"scatter\"}],\"name\":\"71\"},{\"data\":[{\"line\":{\"width\":3},\"mode\":\"lines\",\"x\":[0,-0.18738131458572463],\"y\":[0,-0.9822872507286887],\"type\":\"scatter\"},{\"line\":{\"width\":3},\"mode\":\"lines\",\"x\":[0,-0.18738131458572463],\"y\":[-0.9822872507286887,-0.9822872507286887],\"type\":\"scatter\"},{\"mode\":\"markers\",\"x\":[-0.18738131458572463],\"y\":[-0.9822872507286887],\"type\":\"scatter\"},{\"x\":[0,1],\"y\":[-0.18738131458572463,-0.18738131458572463],\"type\":\"scatter\"},{\"x\":[0,0],\"y\":[0,-0.18738131458572463],\"type\":\"scatter\"},{\"x\":[0],\"y\":[-0.18738131458572463],\"type\":\"scatter\"}],\"name\":\"72\"},{\"data\":[{\"line\":{\"width\":3},\"mode\":\"lines\",\"x\":[0,-0.12533323356430373],\"y\":[0,-0.9921147013144779],\"type\":\"scatter\"},{\"line\":{\"width\":3},\"mode\":\"lines\",\"x\":[0,-0.12533323356430373],\"y\":[-0.9921147013144779,-0.9921147013144779],\"type\":\"scatter\"},{\"mode\":\"markers\",\"x\":[-0.12533323356430373],\"y\":[-0.9921147013144779],\"type\":\"scatter\"},{\"x\":[0,1],\"y\":[-0.12533323356430373,-0.12533323356430373],\"type\":\"scatter\"},{\"x\":[0,0],\"y\":[0,-0.12533323356430373],\"type\":\"scatter\"},{\"x\":[0],\"y\":[-0.12533323356430373],\"type\":\"scatter\"}],\"name\":\"73\"},{\"data\":[{\"line\":{\"width\":3},\"mode\":\"lines\",\"x\":[0,-0.06279051952931321],\"y\":[0,-0.9980267284282716],\"type\":\"scatter\"},{\"line\":{\"width\":3},\"mode\":\"lines\",\"x\":[0,-0.06279051952931321],\"y\":[-0.9980267284282716,-0.9980267284282716],\"type\":\"scatter\"},{\"mode\":\"markers\",\"x\":[-0.06279051952931321],\"y\":[-0.9980267284282716],\"type\":\"scatter\"},{\"x\":[0,1],\"y\":[-0.06279051952931321,-0.06279051952931321],\"type\":\"scatter\"},{\"x\":[0,0],\"y\":[0,-0.06279051952931321],\"type\":\"scatter\"},{\"x\":[0],\"y\":[-0.06279051952931321],\"type\":\"scatter\"}],\"name\":\"74\"},{\"data\":[{\"line\":{\"width\":3},\"mode\":\"lines\",\"x\":[0,-1.8369701987210297e-16],\"y\":[0,-1.0],\"type\":\"scatter\"},{\"line\":{\"width\":3},\"mode\":\"lines\",\"x\":[0,-1.8369701987210297e-16],\"y\":[-1.0,-1.0],\"type\":\"scatter\"},{\"mode\":\"markers\",\"x\":[-1.8369701987210297e-16],\"y\":[-1.0],\"type\":\"scatter\"},{\"x\":[0,1],\"y\":[-1.8369701987210297e-16,-1.8369701987210297e-16],\"type\":\"scatter\"},{\"x\":[0,0],\"y\":[0,-1.8369701987210297e-16],\"type\":\"scatter\"},{\"x\":[0],\"y\":[-1.8369701987210297e-16],\"type\":\"scatter\"}],\"name\":\"75\"},{\"data\":[{\"line\":{\"width\":3},\"mode\":\"lines\",\"x\":[0,0.06279051952931372],\"y\":[0,-0.9980267284282716],\"type\":\"scatter\"},{\"line\":{\"width\":3},\"mode\":\"lines\",\"x\":[0,0.06279051952931372],\"y\":[-0.9980267284282716,-0.9980267284282716],\"type\":\"scatter\"},{\"mode\":\"markers\",\"x\":[0.06279051952931372],\"y\":[-0.9980267284282716],\"type\":\"scatter\"},{\"x\":[0,1],\"y\":[0.06279051952931372,0.06279051952931372],\"type\":\"scatter\"},{\"x\":[0,0],\"y\":[0,0.06279051952931372],\"type\":\"scatter\"},{\"x\":[0],\"y\":[0.06279051952931372],\"type\":\"scatter\"}],\"name\":\"76\"},{\"data\":[{\"line\":{\"width\":3},\"mode\":\"lines\",\"x\":[0,0.12533323356430423],\"y\":[0,-0.9921147013144779],\"type\":\"scatter\"},{\"line\":{\"width\":3},\"mode\":\"lines\",\"x\":[0,0.12533323356430423],\"y\":[-0.9921147013144779,-0.9921147013144779],\"type\":\"scatter\"},{\"mode\":\"markers\",\"x\":[0.12533323356430423],\"y\":[-0.9921147013144779],\"type\":\"scatter\"},{\"x\":[0,1],\"y\":[0.12533323356430423,0.12533323356430423],\"type\":\"scatter\"},{\"x\":[0,0],\"y\":[0,0.12533323356430423],\"type\":\"scatter\"},{\"x\":[0],\"y\":[0.12533323356430423],\"type\":\"scatter\"}],\"name\":\"77\"},{\"data\":[{\"line\":{\"width\":3},\"mode\":\"lines\",\"x\":[0,0.18738131458572513],\"y\":[0,-0.9822872507286886],\"type\":\"scatter\"},{\"line\":{\"width\":3},\"mode\":\"lines\",\"x\":[0,0.18738131458572513],\"y\":[-0.9822872507286886,-0.9822872507286886],\"type\":\"scatter\"},{\"mode\":\"markers\",\"x\":[0.18738131458572513],\"y\":[-0.9822872507286886],\"type\":\"scatter\"},{\"x\":[0,1],\"y\":[0.18738131458572513,0.18738131458572513],\"type\":\"scatter\"},{\"x\":[0,0],\"y\":[0,0.18738131458572513],\"type\":\"scatter\"},{\"x\":[0],\"y\":[0.18738131458572513],\"type\":\"scatter\"}],\"name\":\"78\"},{\"data\":[{\"line\":{\"width\":3},\"mode\":\"lines\",\"x\":[0,0.24868988716485493],\"y\":[0,-0.9685831611286311],\"type\":\"scatter\"},{\"line\":{\"width\":3},\"mode\":\"lines\",\"x\":[0,0.24868988716485493],\"y\":[-0.9685831611286311,-0.9685831611286311],\"type\":\"scatter\"},{\"mode\":\"markers\",\"x\":[0.24868988716485493],\"y\":[-0.9685831611286311],\"type\":\"scatter\"},{\"x\":[0,1],\"y\":[0.24868988716485493,0.24868988716485493],\"type\":\"scatter\"},{\"x\":[0,0],\"y\":[0,0.24868988716485493],\"type\":\"scatter\"},{\"x\":[0],\"y\":[0.24868988716485493],\"type\":\"scatter\"}],\"name\":\"79\"},{\"data\":[{\"line\":{\"width\":3},\"mode\":\"lines\",\"x\":[0,0.30901699437494723],\"y\":[0,-0.9510565162951536],\"type\":\"scatter\"},{\"line\":{\"width\":3},\"mode\":\"lines\",\"x\":[0,0.30901699437494723],\"y\":[-0.9510565162951536,-0.9510565162951536],\"type\":\"scatter\"},{\"mode\":\"markers\",\"x\":[0.30901699437494723],\"y\":[-0.9510565162951536],\"type\":\"scatter\"},{\"x\":[0,1],\"y\":[0.30901699437494723,0.30901699437494723],\"type\":\"scatter\"},{\"x\":[0,0],\"y\":[0,0.30901699437494723],\"type\":\"scatter\"},{\"x\":[0],\"y\":[0.30901699437494723],\"type\":\"scatter\"}],\"name\":\"80\"},{\"data\":[{\"line\":{\"width\":3},\"mode\":\"lines\",\"x\":[0,0.36812455268467825],\"y\":[0,-0.9297764858882512],\"type\":\"scatter\"},{\"line\":{\"width\":3},\"mode\":\"lines\",\"x\":[0,0.36812455268467825],\"y\":[-0.9297764858882512,-0.9297764858882512],\"type\":\"scatter\"},{\"mode\":\"markers\",\"x\":[0.36812455268467825],\"y\":[-0.9297764858882512],\"type\":\"scatter\"},{\"x\":[0,1],\"y\":[0.36812455268467825,0.36812455268467825],\"type\":\"scatter\"},{\"x\":[0,0],\"y\":[0,0.36812455268467825],\"type\":\"scatter\"},{\"x\":[0],\"y\":[0.36812455268467825],\"type\":\"scatter\"}],\"name\":\"81\"},{\"data\":[{\"line\":{\"width\":3},\"mode\":\"lines\",\"x\":[0,0.4257792915650726],\"y\":[0,-0.9048270524660196],\"type\":\"scatter\"},{\"line\":{\"width\":3},\"mode\":\"lines\",\"x\":[0,0.4257792915650726],\"y\":[-0.9048270524660196,-0.9048270524660196],\"type\":\"scatter\"},{\"mode\":\"markers\",\"x\":[0.4257792915650726],\"y\":[-0.9048270524660196],\"type\":\"scatter\"},{\"x\":[0,1],\"y\":[0.4257792915650726,0.4257792915650726],\"type\":\"scatter\"},{\"x\":[0,0],\"y\":[0,0.4257792915650726],\"type\":\"scatter\"},{\"x\":[0],\"y\":[0.4257792915650726],\"type\":\"scatter\"}],\"name\":\"82\"},{\"data\":[{\"line\":{\"width\":3},\"mode\":\"lines\",\"x\":[0,0.4817536741017157],\"y\":[0,-0.8763066800438634],\"type\":\"scatter\"},{\"line\":{\"width\":3},\"mode\":\"lines\",\"x\":[0,0.4817536741017157],\"y\":[-0.8763066800438634,-0.8763066800438634],\"type\":\"scatter\"},{\"mode\":\"markers\",\"x\":[0.4817536741017157],\"y\":[-0.8763066800438634],\"type\":\"scatter\"},{\"x\":[0,1],\"y\":[0.4817536741017157,0.4817536741017157],\"type\":\"scatter\"},{\"x\":[0,0],\"y\":[0,0.4817536741017157],\"type\":\"scatter\"},{\"x\":[0],\"y\":[0.4817536741017157],\"type\":\"scatter\"}],\"name\":\"83\"},{\"data\":[{\"line\":{\"width\":3},\"mode\":\"lines\",\"x\":[0,0.5358267949789968],\"y\":[0,-0.844327925502015],\"type\":\"scatter\"},{\"line\":{\"width\":3},\"mode\":\"lines\",\"x\":[0,0.5358267949789968],\"y\":[-0.844327925502015,-0.844327925502015],\"type\":\"scatter\"},{\"mode\":\"markers\",\"x\":[0.5358267949789968],\"y\":[-0.844327925502015],\"type\":\"scatter\"},{\"x\":[0,1],\"y\":[0.5358267949789968,0.5358267949789968],\"type\":\"scatter\"},{\"x\":[0,0],\"y\":[0,0.5358267949789968],\"type\":\"scatter\"},{\"x\":[0],\"y\":[0.5358267949789968],\"type\":\"scatter\"}],\"name\":\"84\"},{\"data\":[{\"line\":{\"width\":3},\"mode\":\"lines\",\"x\":[0,0.5877852522924737],\"y\":[0,-0.809016994374947],\"type\":\"scatter\"},{\"line\":{\"width\":3},\"mode\":\"lines\",\"x\":[0,0.5877852522924737],\"y\":[-0.809016994374947,-0.809016994374947],\"type\":\"scatter\"},{\"mode\":\"markers\",\"x\":[0.5877852522924737],\"y\":[-0.809016994374947],\"type\":\"scatter\"},{\"x\":[0,1],\"y\":[0.5877852522924737,0.5877852522924737],\"type\":\"scatter\"},{\"x\":[0,0],\"y\":[0,0.5877852522924737],\"type\":\"scatter\"},{\"x\":[0],\"y\":[0.5877852522924737],\"type\":\"scatter\"}],\"name\":\"85\"},{\"data\":[{\"line\":{\"width\":3},\"mode\":\"lines\",\"x\":[0,0.63742398974869],\"y\":[0,-0.770513242775789],\"type\":\"scatter\"},{\"line\":{\"width\":3},\"mode\":\"lines\",\"x\":[0,0.63742398974869],\"y\":[-0.770513242775789,-0.770513242775789],\"type\":\"scatter\"},{\"mode\":\"markers\",\"x\":[0.63742398974869],\"y\":[-0.770513242775789],\"type\":\"scatter\"},{\"x\":[0,1],\"y\":[0.63742398974869,0.63742398974869],\"type\":\"scatter\"},{\"x\":[0,0],\"y\":[0,0.63742398974869],\"type\":\"scatter\"},{\"x\":[0],\"y\":[0.63742398974869],\"type\":\"scatter\"}],\"name\":\"86\"},{\"data\":[{\"line\":{\"width\":3},\"mode\":\"lines\",\"x\":[0,0.6845471059286886],\"y\":[0,-0.7289686274214116],\"type\":\"scatter\"},{\"line\":{\"width\":3},\"mode\":\"lines\",\"x\":[0,0.6845471059286886],\"y\":[-0.7289686274214116,-0.7289686274214116],\"type\":\"scatter\"},{\"mode\":\"markers\",\"x\":[0.6845471059286886],\"y\":[-0.7289686274214116],\"type\":\"scatter\"},{\"x\":[0,1],\"y\":[0.6845471059286886,0.6845471059286886],\"type\":\"scatter\"},{\"x\":[0,0],\"y\":[0,0.6845471059286886],\"type\":\"scatter\"},{\"x\":[0],\"y\":[0.6845471059286886],\"type\":\"scatter\"}],\"name\":\"87\"},{\"data\":[{\"line\":{\"width\":3},\"mode\":\"lines\",\"x\":[0,0.7289686274214119],\"y\":[0,-0.6845471059286883],\"type\":\"scatter\"},{\"line\":{\"width\":3},\"mode\":\"lines\",\"x\":[0,0.7289686274214119],\"y\":[-0.6845471059286883,-0.6845471059286883],\"type\":\"scatter\"},{\"mode\":\"markers\",\"x\":[0.7289686274214119],\"y\":[-0.6845471059286883],\"type\":\"scatter\"},{\"x\":[0,1],\"y\":[0.7289686274214119,0.7289686274214119],\"type\":\"scatter\"},{\"x\":[0,0],\"y\":[0,0.7289686274214119],\"type\":\"scatter\"},{\"x\":[0],\"y\":[0.7289686274214119],\"type\":\"scatter\"}],\"name\":\"88\"},{\"data\":[{\"line\":{\"width\":3},\"mode\":\"lines\",\"x\":[0,0.7705132427757894],\"y\":[0,-0.6374239897486896],\"type\":\"scatter\"},{\"line\":{\"width\":3},\"mode\":\"lines\",\"x\":[0,0.7705132427757894],\"y\":[-0.6374239897486896,-0.6374239897486896],\"type\":\"scatter\"},{\"mode\":\"markers\",\"x\":[0.7705132427757894],\"y\":[-0.6374239897486896],\"type\":\"scatter\"},{\"x\":[0,1],\"y\":[0.7705132427757894,0.7705132427757894],\"type\":\"scatter\"},{\"x\":[0,0],\"y\":[0,0.7705132427757894],\"type\":\"scatter\"},{\"x\":[0],\"y\":[0.7705132427757894],\"type\":\"scatter\"}],\"name\":\"89\"},{\"data\":[{\"line\":{\"width\":3},\"mode\":\"lines\",\"x\":[0,0.8090169943749478],\"y\":[0,-0.5877852522924726],\"type\":\"scatter\"},{\"line\":{\"width\":3},\"mode\":\"lines\",\"x\":[0,0.8090169943749478],\"y\":[-0.5877852522924726,-0.5877852522924726],\"type\":\"scatter\"},{\"mode\":\"markers\",\"x\":[0.8090169943749478],\"y\":[-0.5877852522924726],\"type\":\"scatter\"},{\"x\":[0,1],\"y\":[0.8090169943749478,0.8090169943749478],\"type\":\"scatter\"},{\"x\":[0,0],\"y\":[0,0.8090169943749478],\"type\":\"scatter\"},{\"x\":[0],\"y\":[0.8090169943749478],\"type\":\"scatter\"}],\"name\":\"90\"},{\"data\":[{\"line\":{\"width\":3},\"mode\":\"lines\",\"x\":[0,0.8443279255020152],\"y\":[0,-0.5358267949789963],\"type\":\"scatter\"},{\"line\":{\"width\":3},\"mode\":\"lines\",\"x\":[0,0.8443279255020152],\"y\":[-0.5358267949789963,-0.5358267949789963],\"type\":\"scatter\"},{\"mode\":\"markers\",\"x\":[0.8443279255020152],\"y\":[-0.5358267949789963],\"type\":\"scatter\"},{\"x\":[0,1],\"y\":[0.8443279255020152,0.8443279255020152],\"type\":\"scatter\"},{\"x\":[0,0],\"y\":[0,0.8443279255020152],\"type\":\"scatter\"},{\"x\":[0],\"y\":[0.8443279255020152],\"type\":\"scatter\"}],\"name\":\"91\"},{\"data\":[{\"line\":{\"width\":3},\"mode\":\"lines\",\"x\":[0,0.8763066800438636],\"y\":[0,-0.4817536741017153],\"type\":\"scatter\"},{\"line\":{\"width\":3},\"mode\":\"lines\",\"x\":[0,0.8763066800438636],\"y\":[-0.4817536741017153,-0.4817536741017153],\"type\":\"scatter\"},{\"mode\":\"markers\",\"x\":[0.8763066800438636],\"y\":[-0.4817536741017153],\"type\":\"scatter\"},{\"x\":[0,1],\"y\":[0.8763066800438636,0.8763066800438636],\"type\":\"scatter\"},{\"x\":[0,0],\"y\":[0,0.8763066800438636],\"type\":\"scatter\"},{\"x\":[0],\"y\":[0.8763066800438636],\"type\":\"scatter\"}],\"name\":\"92\"},{\"data\":[{\"line\":{\"width\":3},\"mode\":\"lines\",\"x\":[0,0.9048270524660197],\"y\":[0,-0.4257792915650722],\"type\":\"scatter\"},{\"line\":{\"width\":3},\"mode\":\"lines\",\"x\":[0,0.9048270524660197],\"y\":[-0.4257792915650722,-0.4257792915650722],\"type\":\"scatter\"},{\"mode\":\"markers\",\"x\":[0.9048270524660197],\"y\":[-0.4257792915650722],\"type\":\"scatter\"},{\"x\":[0,1],\"y\":[0.9048270524660197,0.9048270524660197],\"type\":\"scatter\"},{\"x\":[0,0],\"y\":[0,0.9048270524660197],\"type\":\"scatter\"},{\"x\":[0],\"y\":[0.9048270524660197],\"type\":\"scatter\"}],\"name\":\"93\"},{\"data\":[{\"line\":{\"width\":3},\"mode\":\"lines\",\"x\":[0,0.9297764858882515],\"y\":[0,-0.36812455268467786],\"type\":\"scatter\"},{\"line\":{\"width\":3},\"mode\":\"lines\",\"x\":[0,0.9297764858882515],\"y\":[-0.36812455268467786,-0.36812455268467786],\"type\":\"scatter\"},{\"mode\":\"markers\",\"x\":[0.9297764858882515],\"y\":[-0.36812455268467786],\"type\":\"scatter\"},{\"x\":[0,1],\"y\":[0.9297764858882515,0.9297764858882515],\"type\":\"scatter\"},{\"x\":[0,0],\"y\":[0,0.9297764858882515],\"type\":\"scatter\"},{\"x\":[0],\"y\":[0.9297764858882515],\"type\":\"scatter\"}],\"name\":\"94\"},{\"data\":[{\"line\":{\"width\":3},\"mode\":\"lines\",\"x\":[0,0.9510565162951538],\"y\":[0,-0.3090169943749468],\"type\":\"scatter\"},{\"line\":{\"width\":3},\"mode\":\"lines\",\"x\":[0,0.9510565162951538],\"y\":[-0.3090169943749468,-0.3090169943749468],\"type\":\"scatter\"},{\"mode\":\"markers\",\"x\":[0.9510565162951538],\"y\":[-0.3090169943749468],\"type\":\"scatter\"},{\"x\":[0,1],\"y\":[0.9510565162951538,0.9510565162951538],\"type\":\"scatter\"},{\"x\":[0,0],\"y\":[0,0.9510565162951538],\"type\":\"scatter\"},{\"x\":[0],\"y\":[0.9510565162951538],\"type\":\"scatter\"}],\"name\":\"95\"},{\"data\":[{\"line\":{\"width\":3},\"mode\":\"lines\",\"x\":[0,0.9685831611286312],\"y\":[0,-0.2486898871648545],\"type\":\"scatter\"},{\"line\":{\"width\":3},\"mode\":\"lines\",\"x\":[0,0.9685831611286312],\"y\":[-0.2486898871648545,-0.2486898871648545],\"type\":\"scatter\"},{\"mode\":\"markers\",\"x\":[0.9685831611286312],\"y\":[-0.2486898871648545],\"type\":\"scatter\"},{\"x\":[0,1],\"y\":[0.9685831611286312,0.9685831611286312],\"type\":\"scatter\"},{\"x\":[0,0],\"y\":[0,0.9685831611286312],\"type\":\"scatter\"},{\"x\":[0],\"y\":[0.9685831611286312],\"type\":\"scatter\"}],\"name\":\"96\"},{\"data\":[{\"line\":{\"width\":3},\"mode\":\"lines\",\"x\":[0,0.9822872507286887],\"y\":[0,-0.18738131458572468],\"type\":\"scatter\"},{\"line\":{\"width\":3},\"mode\":\"lines\",\"x\":[0,0.9822872507286887],\"y\":[-0.18738131458572468,-0.18738131458572468],\"type\":\"scatter\"},{\"mode\":\"markers\",\"x\":[0.9822872507286887],\"y\":[-0.18738131458572468],\"type\":\"scatter\"},{\"x\":[0,1],\"y\":[0.9822872507286887,0.9822872507286887],\"type\":\"scatter\"},{\"x\":[0,0],\"y\":[0,0.9822872507286887],\"type\":\"scatter\"},{\"x\":[0],\"y\":[0.9822872507286887],\"type\":\"scatter\"}],\"name\":\"97\"},{\"data\":[{\"line\":{\"width\":3},\"mode\":\"lines\",\"x\":[0,0.9921147013144779],\"y\":[0,-0.1253332335643038],\"type\":\"scatter\"},{\"line\":{\"width\":3},\"mode\":\"lines\",\"x\":[0,0.9921147013144779],\"y\":[-0.1253332335643038,-0.1253332335643038],\"type\":\"scatter\"},{\"mode\":\"markers\",\"x\":[0.9921147013144779],\"y\":[-0.1253332335643038],\"type\":\"scatter\"},{\"x\":[0,1],\"y\":[0.9921147013144779,0.9921147013144779],\"type\":\"scatter\"},{\"x\":[0,0],\"y\":[0,0.9921147013144779],\"type\":\"scatter\"},{\"x\":[0],\"y\":[0.9921147013144779],\"type\":\"scatter\"}],\"name\":\"98\"},{\"data\":[{\"line\":{\"width\":3},\"mode\":\"lines\",\"x\":[0,0.9980267284282716],\"y\":[0,-0.06279051952931326],\"type\":\"scatter\"},{\"line\":{\"width\":3},\"mode\":\"lines\",\"x\":[0,0.9980267284282716],\"y\":[-0.06279051952931326,-0.06279051952931326],\"type\":\"scatter\"},{\"mode\":\"markers\",\"x\":[0.9980267284282716],\"y\":[-0.06279051952931326],\"type\":\"scatter\"},{\"x\":[0,1],\"y\":[0.9980267284282716,0.9980267284282716],\"type\":\"scatter\"},{\"x\":[0,0],\"y\":[0,0.9980267284282716],\"type\":\"scatter\"},{\"x\":[0],\"y\":[0.9980267284282716],\"type\":\"scatter\"}],\"name\":\"99\"},{\"data\":[{\"line\":{\"width\":3},\"mode\":\"lines\",\"x\":[0,1.0],\"y\":[0,6.432490598706546e-16],\"type\":\"scatter\"},{\"line\":{\"width\":3},\"mode\":\"lines\",\"x\":[0,1.0],\"y\":[6.432490598706546e-16,6.432490598706546e-16],\"type\":\"scatter\"},{\"mode\":\"markers\",\"x\":[1.0],\"y\":[6.432490598706546e-16],\"type\":\"scatter\"},{\"x\":[0,1],\"y\":[1.0,1.0],\"type\":\"scatter\"},{\"x\":[0,0],\"y\":[0,1.0],\"type\":\"scatter\"},{\"x\":[0],\"y\":[1.0],\"type\":\"scatter\"}],\"name\":\"100\"},{\"data\":[{\"line\":{\"width\":3},\"mode\":\"lines\",\"x\":[0,0.9980267284282716],\"y\":[0,0.06279051952931367],\"type\":\"scatter\"},{\"line\":{\"width\":3},\"mode\":\"lines\",\"x\":[0,0.9980267284282716],\"y\":[0.06279051952931367,0.06279051952931367],\"type\":\"scatter\"},{\"mode\":\"markers\",\"x\":[0.9980267284282716],\"y\":[0.06279051952931367],\"type\":\"scatter\"},{\"x\":[0,1],\"y\":[0.9980267284282716,0.9980267284282716],\"type\":\"scatter\"},{\"x\":[0,0],\"y\":[0,0.9980267284282716],\"type\":\"scatter\"},{\"x\":[0],\"y\":[0.9980267284282716],\"type\":\"scatter\"}],\"name\":\"101\"},{\"data\":[{\"line\":{\"width\":3},\"mode\":\"lines\",\"x\":[0,0.9921147013144779],\"y\":[0,0.12533323356430418],\"type\":\"scatter\"},{\"line\":{\"width\":3},\"mode\":\"lines\",\"x\":[0,0.9921147013144779],\"y\":[0.12533323356430418,0.12533323356430418],\"type\":\"scatter\"},{\"mode\":\"markers\",\"x\":[0.9921147013144779],\"y\":[0.12533323356430418],\"type\":\"scatter\"},{\"x\":[0,1],\"y\":[0.9921147013144779,0.9921147013144779],\"type\":\"scatter\"},{\"x\":[0,0],\"y\":[0,0.9921147013144779],\"type\":\"scatter\"},{\"x\":[0],\"y\":[0.9921147013144779],\"type\":\"scatter\"}],\"name\":\"102\"},{\"data\":[{\"line\":{\"width\":3},\"mode\":\"lines\",\"x\":[0,0.9822872507286886],\"y\":[0,0.18738131458572507],\"type\":\"scatter\"},{\"line\":{\"width\":3},\"mode\":\"lines\",\"x\":[0,0.9822872507286886],\"y\":[0.18738131458572507,0.18738131458572507],\"type\":\"scatter\"},{\"mode\":\"markers\",\"x\":[0.9822872507286886],\"y\":[0.18738131458572507],\"type\":\"scatter\"},{\"x\":[0,1],\"y\":[0.9822872507286886,0.9822872507286886],\"type\":\"scatter\"},{\"x\":[0,0],\"y\":[0,0.9822872507286886],\"type\":\"scatter\"},{\"x\":[0],\"y\":[0.9822872507286886],\"type\":\"scatter\"}],\"name\":\"103\"},{\"data\":[{\"line\":{\"width\":3},\"mode\":\"lines\",\"x\":[0,0.9685831611286311],\"y\":[0,0.24868988716485488],\"type\":\"scatter\"},{\"line\":{\"width\":3},\"mode\":\"lines\",\"x\":[0,0.9685831611286311],\"y\":[0.24868988716485488,0.24868988716485488],\"type\":\"scatter\"},{\"mode\":\"markers\",\"x\":[0.9685831611286311],\"y\":[0.24868988716485488],\"type\":\"scatter\"},{\"x\":[0,1],\"y\":[0.9685831611286311,0.9685831611286311],\"type\":\"scatter\"},{\"x\":[0,0],\"y\":[0,0.9685831611286311],\"type\":\"scatter\"},{\"x\":[0],\"y\":[0.9685831611286311],\"type\":\"scatter\"}],\"name\":\"104\"},{\"data\":[{\"line\":{\"width\":3},\"mode\":\"lines\",\"x\":[0,0.9510565162951534],\"y\":[0,0.309016994374948],\"type\":\"scatter\"},{\"line\":{\"width\":3},\"mode\":\"lines\",\"x\":[0,0.9510565162951534],\"y\":[0.309016994374948,0.309016994374948],\"type\":\"scatter\"},{\"mode\":\"markers\",\"x\":[0.9510565162951534],\"y\":[0.309016994374948],\"type\":\"scatter\"},{\"x\":[0,1],\"y\":[0.9510565162951534,0.9510565162951534],\"type\":\"scatter\"},{\"x\":[0,0],\"y\":[0,0.9510565162951534],\"type\":\"scatter\"},{\"x\":[0],\"y\":[0.9510565162951534],\"type\":\"scatter\"}],\"name\":\"105\"},{\"data\":[{\"line\":{\"width\":3},\"mode\":\"lines\",\"x\":[0,0.9297764858882513],\"y\":[0,0.3681245526846782],\"type\":\"scatter\"},{\"line\":{\"width\":3},\"mode\":\"lines\",\"x\":[0,0.9297764858882513],\"y\":[0.3681245526846782,0.3681245526846782],\"type\":\"scatter\"},{\"mode\":\"markers\",\"x\":[0.9297764858882513],\"y\":[0.3681245526846782],\"type\":\"scatter\"},{\"x\":[0,1],\"y\":[0.9297764858882513,0.9297764858882513],\"type\":\"scatter\"},{\"x\":[0,0],\"y\":[0,0.9297764858882513],\"type\":\"scatter\"},{\"x\":[0],\"y\":[0.9297764858882513],\"type\":\"scatter\"}],\"name\":\"106\"},{\"data\":[{\"line\":{\"width\":3},\"mode\":\"lines\",\"x\":[0,0.9048270524660196],\"y\":[0,0.42577929156507255],\"type\":\"scatter\"},{\"line\":{\"width\":3},\"mode\":\"lines\",\"x\":[0,0.9048270524660196],\"y\":[0.42577929156507255,0.42577929156507255],\"type\":\"scatter\"},{\"mode\":\"markers\",\"x\":[0.9048270524660196],\"y\":[0.42577929156507255],\"type\":\"scatter\"},{\"x\":[0,1],\"y\":[0.9048270524660196,0.9048270524660196],\"type\":\"scatter\"},{\"x\":[0,0],\"y\":[0,0.9048270524660196],\"type\":\"scatter\"},{\"x\":[0],\"y\":[0.9048270524660196],\"type\":\"scatter\"}],\"name\":\"107\"},{\"data\":[{\"line\":{\"width\":3},\"mode\":\"lines\",\"x\":[0,0.8763066800438634],\"y\":[0,0.48175367410171566],\"type\":\"scatter\"},{\"line\":{\"width\":3},\"mode\":\"lines\",\"x\":[0,0.8763066800438634],\"y\":[0.48175367410171566,0.48175367410171566],\"type\":\"scatter\"},{\"mode\":\"markers\",\"x\":[0.8763066800438634],\"y\":[0.48175367410171566],\"type\":\"scatter\"},{\"x\":[0,1],\"y\":[0.8763066800438634,0.8763066800438634],\"type\":\"scatter\"},{\"x\":[0,0],\"y\":[0,0.8763066800438634],\"type\":\"scatter\"},{\"x\":[0],\"y\":[0.8763066800438634],\"type\":\"scatter\"}],\"name\":\"108\"},{\"data\":[{\"line\":{\"width\":3},\"mode\":\"lines\",\"x\":[0,0.8443279255020151],\"y\":[0,0.5358267949789967],\"type\":\"scatter\"},{\"line\":{\"width\":3},\"mode\":\"lines\",\"x\":[0,0.8443279255020151],\"y\":[0.5358267949789967,0.5358267949789967],\"type\":\"scatter\"},{\"mode\":\"markers\",\"x\":[0.8443279255020151],\"y\":[0.5358267949789967],\"type\":\"scatter\"},{\"x\":[0,1],\"y\":[0.8443279255020151,0.8443279255020151],\"type\":\"scatter\"},{\"x\":[0,0],\"y\":[0,0.8443279255020151],\"type\":\"scatter\"},{\"x\":[0],\"y\":[0.8443279255020151],\"type\":\"scatter\"}],\"name\":\"109\"},{\"data\":[{\"line\":{\"width\":3},\"mode\":\"lines\",\"x\":[0,0.8090169943749471],\"y\":[0,0.5877852522924736],\"type\":\"scatter\"},{\"line\":{\"width\":3},\"mode\":\"lines\",\"x\":[0,0.8090169943749471],\"y\":[0.5877852522924736,0.5877852522924736],\"type\":\"scatter\"},{\"mode\":\"markers\",\"x\":[0.8090169943749471],\"y\":[0.5877852522924736],\"type\":\"scatter\"},{\"x\":[0,1],\"y\":[0.8090169943749471,0.8090169943749471],\"type\":\"scatter\"},{\"x\":[0,0],\"y\":[0,0.8090169943749471],\"type\":\"scatter\"},{\"x\":[0],\"y\":[0.8090169943749471],\"type\":\"scatter\"}],\"name\":\"110\"},{\"data\":[{\"line\":{\"width\":3},\"mode\":\"lines\",\"x\":[0,0.770513242775789],\"y\":[0,0.63742398974869],\"type\":\"scatter\"},{\"line\":{\"width\":3},\"mode\":\"lines\",\"x\":[0,0.770513242775789],\"y\":[0.63742398974869,0.63742398974869],\"type\":\"scatter\"},{\"mode\":\"markers\",\"x\":[0.770513242775789],\"y\":[0.63742398974869],\"type\":\"scatter\"},{\"x\":[0,1],\"y\":[0.770513242775789,0.770513242775789],\"type\":\"scatter\"},{\"x\":[0,0],\"y\":[0,0.770513242775789],\"type\":\"scatter\"},{\"x\":[0],\"y\":[0.770513242775789],\"type\":\"scatter\"}],\"name\":\"111\"},{\"data\":[{\"line\":{\"width\":3},\"mode\":\"lines\",\"x\":[0,0.728968627421411],\"y\":[0,0.6845471059286893],\"type\":\"scatter\"},{\"line\":{\"width\":3},\"mode\":\"lines\",\"x\":[0,0.728968627421411],\"y\":[0.6845471059286893,0.6845471059286893],\"type\":\"scatter\"},{\"mode\":\"markers\",\"x\":[0.728968627421411],\"y\":[0.6845471059286893],\"type\":\"scatter\"},{\"x\":[0,1],\"y\":[0.728968627421411,0.728968627421411],\"type\":\"scatter\"},{\"x\":[0,0],\"y\":[0,0.728968627421411],\"type\":\"scatter\"},{\"x\":[0],\"y\":[0.728968627421411],\"type\":\"scatter\"}],\"name\":\"112\"},{\"data\":[{\"line\":{\"width\":3},\"mode\":\"lines\",\"x\":[0,0.6845471059286884],\"y\":[0,0.7289686274214119],\"type\":\"scatter\"},{\"line\":{\"width\":3},\"mode\":\"lines\",\"x\":[0,0.6845471059286884],\"y\":[0.7289686274214119,0.7289686274214119],\"type\":\"scatter\"},{\"mode\":\"markers\",\"x\":[0.6845471059286884],\"y\":[0.7289686274214119],\"type\":\"scatter\"},{\"x\":[0,1],\"y\":[0.6845471059286884,0.6845471059286884],\"type\":\"scatter\"},{\"x\":[0,0],\"y\":[0,0.6845471059286884],\"type\":\"scatter\"},{\"x\":[0],\"y\":[0.6845471059286884],\"type\":\"scatter\"}],\"name\":\"113\"},{\"data\":[{\"line\":{\"width\":3},\"mode\":\"lines\",\"x\":[0,0.6374239897486896],\"y\":[0,0.7705132427757893],\"type\":\"scatter\"},{\"line\":{\"width\":3},\"mode\":\"lines\",\"x\":[0,0.6374239897486896],\"y\":[0.7705132427757893,0.7705132427757893],\"type\":\"scatter\"},{\"mode\":\"markers\",\"x\":[0.6374239897486896],\"y\":[0.7705132427757893],\"type\":\"scatter\"},{\"x\":[0,1],\"y\":[0.6374239897486896,0.6374239897486896],\"type\":\"scatter\"},{\"x\":[0,0],\"y\":[0,0.6374239897486896],\"type\":\"scatter\"},{\"x\":[0],\"y\":[0.6374239897486896],\"type\":\"scatter\"}],\"name\":\"114\"},{\"data\":[{\"line\":{\"width\":3},\"mode\":\"lines\",\"x\":[0,0.5877852522924727],\"y\":[0,0.8090169943749478],\"type\":\"scatter\"},{\"line\":{\"width\":3},\"mode\":\"lines\",\"x\":[0,0.5877852522924727],\"y\":[0.8090169943749478,0.8090169943749478],\"type\":\"scatter\"},{\"mode\":\"markers\",\"x\":[0.5877852522924727],\"y\":[0.8090169943749478],\"type\":\"scatter\"},{\"x\":[0,1],\"y\":[0.5877852522924727,0.5877852522924727],\"type\":\"scatter\"},{\"x\":[0,0],\"y\":[0,0.5877852522924727],\"type\":\"scatter\"},{\"x\":[0],\"y\":[0.5877852522924727],\"type\":\"scatter\"}],\"name\":\"115\"},{\"data\":[{\"line\":{\"width\":3},\"mode\":\"lines\",\"x\":[0,0.5358267949789964],\"y\":[0,0.8443279255020152],\"type\":\"scatter\"},{\"line\":{\"width\":3},\"mode\":\"lines\",\"x\":[0,0.5358267949789964],\"y\":[0.8443279255020152,0.8443279255020152],\"type\":\"scatter\"},{\"mode\":\"markers\",\"x\":[0.5358267949789964],\"y\":[0.8443279255020152],\"type\":\"scatter\"},{\"x\":[0,1],\"y\":[0.5358267949789964,0.5358267949789964],\"type\":\"scatter\"},{\"x\":[0,0],\"y\":[0,0.5358267949789964],\"type\":\"scatter\"},{\"x\":[0],\"y\":[0.5358267949789964],\"type\":\"scatter\"}],\"name\":\"116\"},{\"data\":[{\"line\":{\"width\":3},\"mode\":\"lines\",\"x\":[0,0.4817536741017146],\"y\":[0,0.8763066800438639],\"type\":\"scatter\"},{\"line\":{\"width\":3},\"mode\":\"lines\",\"x\":[0,0.4817536741017146],\"y\":[0.8763066800438639,0.8763066800438639],\"type\":\"scatter\"},{\"mode\":\"markers\",\"x\":[0.4817536741017146],\"y\":[0.8763066800438639],\"type\":\"scatter\"},{\"x\":[0,1],\"y\":[0.4817536741017146,0.4817536741017146],\"type\":\"scatter\"},{\"x\":[0,0],\"y\":[0,0.4817536741017146],\"type\":\"scatter\"},{\"x\":[0],\"y\":[0.4817536741017146],\"type\":\"scatter\"}],\"name\":\"117\"},{\"data\":[{\"line\":{\"width\":3},\"mode\":\"lines\",\"x\":[0,0.42577929156507227],\"y\":[0,0.9048270524660197],\"type\":\"scatter\"},{\"line\":{\"width\":3},\"mode\":\"lines\",\"x\":[0,0.42577929156507227],\"y\":[0.9048270524660197,0.9048270524660197],\"type\":\"scatter\"},{\"mode\":\"markers\",\"x\":[0.42577929156507227],\"y\":[0.9048270524660197],\"type\":\"scatter\"},{\"x\":[0,1],\"y\":[0.42577929156507227,0.42577929156507227],\"type\":\"scatter\"},{\"x\":[0,0],\"y\":[0,0.42577929156507227],\"type\":\"scatter\"},{\"x\":[0],\"y\":[0.42577929156507227],\"type\":\"scatter\"}],\"name\":\"118\"},{\"data\":[{\"line\":{\"width\":3},\"mode\":\"lines\",\"x\":[0,0.3681245526846779],\"y\":[0,0.9297764858882515],\"type\":\"scatter\"},{\"line\":{\"width\":3},\"mode\":\"lines\",\"x\":[0,0.3681245526846779],\"y\":[0.9297764858882515,0.9297764858882515],\"type\":\"scatter\"},{\"mode\":\"markers\",\"x\":[0.3681245526846779],\"y\":[0.9297764858882515],\"type\":\"scatter\"},{\"x\":[0,1],\"y\":[0.3681245526846779,0.3681245526846779],\"type\":\"scatter\"},{\"x\":[0,0],\"y\":[0,0.3681245526846779],\"type\":\"scatter\"},{\"x\":[0],\"y\":[0.3681245526846779],\"type\":\"scatter\"}],\"name\":\"119\"},{\"data\":[{\"line\":{\"width\":3},\"mode\":\"lines\",\"x\":[0,0.30901699437494684],\"y\":[0,0.9510565162951538],\"type\":\"scatter\"},{\"line\":{\"width\":3},\"mode\":\"lines\",\"x\":[0,0.30901699437494684],\"y\":[0.9510565162951538,0.9510565162951538],\"type\":\"scatter\"},{\"mode\":\"markers\",\"x\":[0.30901699437494684],\"y\":[0.9510565162951538],\"type\":\"scatter\"},{\"x\":[0,1],\"y\":[0.30901699437494684,0.30901699437494684],\"type\":\"scatter\"},{\"x\":[0,0],\"y\":[0,0.30901699437494684],\"type\":\"scatter\"},{\"x\":[0],\"y\":[0.30901699437494684],\"type\":\"scatter\"}],\"name\":\"120\"},{\"data\":[{\"line\":{\"width\":3},\"mode\":\"lines\",\"x\":[0,0.24868988716485457],\"y\":[0,0.9685831611286312],\"type\":\"scatter\"},{\"line\":{\"width\":3},\"mode\":\"lines\",\"x\":[0,0.24868988716485457],\"y\":[0.9685831611286312,0.9685831611286312],\"type\":\"scatter\"},{\"mode\":\"markers\",\"x\":[0.24868988716485457],\"y\":[0.9685831611286312],\"type\":\"scatter\"},{\"x\":[0,1],\"y\":[0.24868988716485457,0.24868988716485457],\"type\":\"scatter\"},{\"x\":[0,0],\"y\":[0,0.24868988716485457],\"type\":\"scatter\"},{\"x\":[0],\"y\":[0.24868988716485457],\"type\":\"scatter\"}],\"name\":\"121\"},{\"data\":[{\"line\":{\"width\":3},\"mode\":\"lines\",\"x\":[0,0.18738131458572388],\"y\":[0,0.9822872507286888],\"type\":\"scatter\"},{\"line\":{\"width\":3},\"mode\":\"lines\",\"x\":[0,0.18738131458572388],\"y\":[0.9822872507286888,0.9822872507286888],\"type\":\"scatter\"},{\"mode\":\"markers\",\"x\":[0.18738131458572388],\"y\":[0.9822872507286888],\"type\":\"scatter\"},{\"x\":[0,1],\"y\":[0.18738131458572388,0.18738131458572388],\"type\":\"scatter\"},{\"x\":[0,0],\"y\":[0,0.18738131458572388],\"type\":\"scatter\"},{\"x\":[0],\"y\":[0.18738131458572388],\"type\":\"scatter\"}],\"name\":\"122\"},{\"data\":[{\"line\":{\"width\":3},\"mode\":\"lines\",\"x\":[0,0.12533323356430384],\"y\":[0,0.9921147013144779],\"type\":\"scatter\"},{\"line\":{\"width\":3},\"mode\":\"lines\",\"x\":[0,0.12533323356430384],\"y\":[0.9921147013144779,0.9921147013144779],\"type\":\"scatter\"},{\"mode\":\"markers\",\"x\":[0.12533323356430384],\"y\":[0.9921147013144779],\"type\":\"scatter\"},{\"x\":[0,1],\"y\":[0.12533323356430384,0.12533323356430384],\"type\":\"scatter\"},{\"x\":[0,0],\"y\":[0,0.12533323356430384],\"type\":\"scatter\"},{\"x\":[0],\"y\":[0.12533323356430384],\"type\":\"scatter\"}],\"name\":\"123\"},{\"data\":[{\"line\":{\"width\":3},\"mode\":\"lines\",\"x\":[0,0.06279051952931332],\"y\":[0,0.9980267284282716],\"type\":\"scatter\"},{\"line\":{\"width\":3},\"mode\":\"lines\",\"x\":[0,0.06279051952931332],\"y\":[0.9980267284282716,0.9980267284282716],\"type\":\"scatter\"},{\"mode\":\"markers\",\"x\":[0.06279051952931332],\"y\":[0.9980267284282716],\"type\":\"scatter\"},{\"x\":[0,1],\"y\":[0.06279051952931332,0.06279051952931332],\"type\":\"scatter\"},{\"x\":[0,0],\"y\":[0,0.06279051952931332],\"type\":\"scatter\"},{\"x\":[0],\"y\":[0.06279051952931332],\"type\":\"scatter\"}],\"name\":\"124\"},{\"data\":[{\"line\":{\"width\":3},\"mode\":\"lines\",\"x\":[0,-5.82016719913287e-16],\"y\":[0,1.0],\"type\":\"scatter\"},{\"line\":{\"width\":3},\"mode\":\"lines\",\"x\":[0,-5.82016719913287e-16],\"y\":[1.0,1.0],\"type\":\"scatter\"},{\"mode\":\"markers\",\"x\":[-5.82016719913287e-16],\"y\":[1.0],\"type\":\"scatter\"},{\"x\":[0,1],\"y\":[-5.82016719913287e-16,-5.82016719913287e-16],\"type\":\"scatter\"},{\"x\":[0,0],\"y\":[0,-5.82016719913287e-16],\"type\":\"scatter\"},{\"x\":[0],\"y\":[-5.82016719913287e-16],\"type\":\"scatter\"}],\"name\":\"125\"},{\"data\":[{\"line\":{\"width\":3},\"mode\":\"lines\",\"x\":[0,-0.0627905195293136],\"y\":[0,0.9980267284282716],\"type\":\"scatter\"},{\"line\":{\"width\":3},\"mode\":\"lines\",\"x\":[0,-0.0627905195293136],\"y\":[0.9980267284282716,0.9980267284282716],\"type\":\"scatter\"},{\"mode\":\"markers\",\"x\":[-0.0627905195293136],\"y\":[0.9980267284282716],\"type\":\"scatter\"},{\"x\":[0,1],\"y\":[-0.0627905195293136,-0.0627905195293136],\"type\":\"scatter\"},{\"x\":[0,0],\"y\":[0,-0.0627905195293136],\"type\":\"scatter\"},{\"x\":[0],\"y\":[-0.0627905195293136],\"type\":\"scatter\"}],\"name\":\"126\"},{\"data\":[{\"line\":{\"width\":3},\"mode\":\"lines\",\"x\":[0,-0.125333233564305],\"y\":[0,0.9921147013144778],\"type\":\"scatter\"},{\"line\":{\"width\":3},\"mode\":\"lines\",\"x\":[0,-0.125333233564305],\"y\":[0.9921147013144778,0.9921147013144778],\"type\":\"scatter\"},{\"mode\":\"markers\",\"x\":[-0.125333233564305],\"y\":[0.9921147013144778],\"type\":\"scatter\"},{\"x\":[0,1],\"y\":[-0.125333233564305,-0.125333233564305],\"type\":\"scatter\"},{\"x\":[0,0],\"y\":[0,-0.125333233564305],\"type\":\"scatter\"},{\"x\":[0],\"y\":[-0.125333233564305],\"type\":\"scatter\"}],\"name\":\"127\"},{\"data\":[{\"line\":{\"width\":3},\"mode\":\"lines\",\"x\":[0,-0.18738131458572502],\"y\":[0,0.9822872507286886],\"type\":\"scatter\"},{\"line\":{\"width\":3},\"mode\":\"lines\",\"x\":[0,-0.18738131458572502],\"y\":[0.9822872507286886,0.9822872507286886],\"type\":\"scatter\"},{\"mode\":\"markers\",\"x\":[-0.18738131458572502],\"y\":[0.9822872507286886],\"type\":\"scatter\"},{\"x\":[0,1],\"y\":[-0.18738131458572502,-0.18738131458572502],\"type\":\"scatter\"},{\"x\":[0,0],\"y\":[0,-0.18738131458572502],\"type\":\"scatter\"},{\"x\":[0],\"y\":[-0.18738131458572502],\"type\":\"scatter\"}],\"name\":\"128\"},{\"data\":[{\"line\":{\"width\":3},\"mode\":\"lines\",\"x\":[0,-0.24868988716485482],\"y\":[0,0.9685831611286311],\"type\":\"scatter\"},{\"line\":{\"width\":3},\"mode\":\"lines\",\"x\":[0,-0.24868988716485482],\"y\":[0.9685831611286311,0.9685831611286311],\"type\":\"scatter\"},{\"mode\":\"markers\",\"x\":[-0.24868988716485482],\"y\":[0.9685831611286311],\"type\":\"scatter\"},{\"x\":[0,1],\"y\":[-0.24868988716485482,-0.24868988716485482],\"type\":\"scatter\"},{\"x\":[0,0],\"y\":[0,-0.24868988716485482],\"type\":\"scatter\"},{\"x\":[0],\"y\":[-0.24868988716485482],\"type\":\"scatter\"}],\"name\":\"129\"},{\"data\":[{\"line\":{\"width\":3},\"mode\":\"lines\",\"x\":[0,-0.3090169943749471],\"y\":[0,0.9510565162951536],\"type\":\"scatter\"},{\"line\":{\"width\":3},\"mode\":\"lines\",\"x\":[0,-0.3090169943749471],\"y\":[0.9510565162951536,0.9510565162951536],\"type\":\"scatter\"},{\"mode\":\"markers\",\"x\":[-0.3090169943749471],\"y\":[0.9510565162951536],\"type\":\"scatter\"},{\"x\":[0,1],\"y\":[-0.3090169943749471,-0.3090169943749471],\"type\":\"scatter\"},{\"x\":[0,0],\"y\":[0,-0.3090169943749471],\"type\":\"scatter\"},{\"x\":[0],\"y\":[-0.3090169943749471],\"type\":\"scatter\"}],\"name\":\"130\"},{\"data\":[{\"line\":{\"width\":3},\"mode\":\"lines\",\"x\":[0,-0.368124552684679],\"y\":[0,0.929776485888251],\"type\":\"scatter\"},{\"line\":{\"width\":3},\"mode\":\"lines\",\"x\":[0,-0.368124552684679],\"y\":[0.929776485888251,0.929776485888251],\"type\":\"scatter\"},{\"mode\":\"markers\",\"x\":[-0.368124552684679],\"y\":[0.929776485888251],\"type\":\"scatter\"},{\"x\":[0,1],\"y\":[-0.368124552684679,-0.368124552684679],\"type\":\"scatter\"},{\"x\":[0,0],\"y\":[0,-0.368124552684679],\"type\":\"scatter\"},{\"x\":[0],\"y\":[-0.368124552684679],\"type\":\"scatter\"}],\"name\":\"131\"},{\"data\":[{\"line\":{\"width\":3},\"mode\":\"lines\",\"x\":[0,-0.4257792915650733],\"y\":[0,0.9048270524660192],\"type\":\"scatter\"},{\"line\":{\"width\":3},\"mode\":\"lines\",\"x\":[0,-0.4257792915650733],\"y\":[0.9048270524660192,0.9048270524660192],\"type\":\"scatter\"},{\"mode\":\"markers\",\"x\":[-0.4257792915650733],\"y\":[0.9048270524660192],\"type\":\"scatter\"},{\"x\":[0,1],\"y\":[-0.4257792915650733,-0.4257792915650733],\"type\":\"scatter\"},{\"x\":[0,0],\"y\":[0,-0.4257792915650733],\"type\":\"scatter\"},{\"x\":[0],\"y\":[-0.4257792915650733],\"type\":\"scatter\"}],\"name\":\"132\"},{\"data\":[{\"line\":{\"width\":3},\"mode\":\"lines\",\"x\":[0,-0.4817536741017156],\"y\":[0,0.8763066800438634],\"type\":\"scatter\"},{\"line\":{\"width\":3},\"mode\":\"lines\",\"x\":[0,-0.4817536741017156],\"y\":[0.8763066800438634,0.8763066800438634],\"type\":\"scatter\"},{\"mode\":\"markers\",\"x\":[-0.4817536741017156],\"y\":[0.8763066800438634],\"type\":\"scatter\"},{\"x\":[0,1],\"y\":[-0.4817536741017156,-0.4817536741017156],\"type\":\"scatter\"},{\"x\":[0,0],\"y\":[0,-0.4817536741017156],\"type\":\"scatter\"},{\"x\":[0],\"y\":[-0.4817536741017156],\"type\":\"scatter\"}],\"name\":\"133\"},{\"data\":[{\"line\":{\"width\":3},\"mode\":\"lines\",\"x\":[0,-0.5358267949789967],\"y\":[0,0.8443279255020151],\"type\":\"scatter\"},{\"line\":{\"width\":3},\"mode\":\"lines\",\"x\":[0,-0.5358267949789967],\"y\":[0.8443279255020151,0.8443279255020151],\"type\":\"scatter\"},{\"mode\":\"markers\",\"x\":[-0.5358267949789967],\"y\":[0.8443279255020151],\"type\":\"scatter\"},{\"x\":[0,1],\"y\":[-0.5358267949789967,-0.5358267949789967],\"type\":\"scatter\"},{\"x\":[0,0],\"y\":[0,-0.5358267949789967],\"type\":\"scatter\"},{\"x\":[0],\"y\":[-0.5358267949789967],\"type\":\"scatter\"}],\"name\":\"134\"},{\"data\":[{\"line\":{\"width\":3},\"mode\":\"lines\",\"x\":[0,-0.5877852522924729],\"y\":[0,0.8090169943749476],\"type\":\"scatter\"},{\"line\":{\"width\":3},\"mode\":\"lines\",\"x\":[0,-0.5877852522924729],\"y\":[0.8090169943749476,0.8090169943749476],\"type\":\"scatter\"},{\"mode\":\"markers\",\"x\":[-0.5877852522924729],\"y\":[0.8090169943749476],\"type\":\"scatter\"},{\"x\":[0,1],\"y\":[-0.5877852522924729,-0.5877852522924729],\"type\":\"scatter\"},{\"x\":[0,0],\"y\":[0,-0.5877852522924729],\"type\":\"scatter\"},{\"x\":[0],\"y\":[-0.5877852522924729],\"type\":\"scatter\"}],\"name\":\"135\"},{\"data\":[{\"line\":{\"width\":3},\"mode\":\"lines\",\"x\":[0,-0.6374239897486905],\"y\":[0,0.7705132427757886],\"type\":\"scatter\"},{\"line\":{\"width\":3},\"mode\":\"lines\",\"x\":[0,-0.6374239897486905],\"y\":[0.7705132427757886,0.7705132427757886],\"type\":\"scatter\"},{\"mode\":\"markers\",\"x\":[-0.6374239897486905],\"y\":[0.7705132427757886],\"type\":\"scatter\"},{\"x\":[0,1],\"y\":[-0.6374239897486905,-0.6374239897486905],\"type\":\"scatter\"},{\"x\":[0,0],\"y\":[0,-0.6374239897486905],\"type\":\"scatter\"},{\"x\":[0],\"y\":[-0.6374239897486905],\"type\":\"scatter\"}],\"name\":\"136\"},{\"data\":[{\"line\":{\"width\":3},\"mode\":\"lines\",\"x\":[0,-0.6845471059286892],\"y\":[0,0.728968627421411],\"type\":\"scatter\"},{\"line\":{\"width\":3},\"mode\":\"lines\",\"x\":[0,-0.6845471059286892],\"y\":[0.728968627421411,0.728968627421411],\"type\":\"scatter\"},{\"mode\":\"markers\",\"x\":[-0.6845471059286892],\"y\":[0.728968627421411],\"type\":\"scatter\"},{\"x\":[0,1],\"y\":[-0.6845471059286892,-0.6845471059286892],\"type\":\"scatter\"},{\"x\":[0,0],\"y\":[0,-0.6845471059286892],\"type\":\"scatter\"},{\"x\":[0],\"y\":[-0.6845471059286892],\"type\":\"scatter\"}],\"name\":\"137\"},{\"data\":[{\"line\":{\"width\":3},\"mode\":\"lines\",\"x\":[0,-0.7289686274214118],\"y\":[0,0.6845471059286884],\"type\":\"scatter\"},{\"line\":{\"width\":3},\"mode\":\"lines\",\"x\":[0,-0.7289686274214118],\"y\":[0.6845471059286884,0.6845471059286884],\"type\":\"scatter\"},{\"mode\":\"markers\",\"x\":[-0.7289686274214118],\"y\":[0.6845471059286884],\"type\":\"scatter\"},{\"x\":[0,1],\"y\":[-0.7289686274214118,-0.7289686274214118],\"type\":\"scatter\"},{\"x\":[0,0],\"y\":[0,-0.7289686274214118],\"type\":\"scatter\"},{\"x\":[0],\"y\":[-0.7289686274214118],\"type\":\"scatter\"}],\"name\":\"138\"},{\"data\":[{\"line\":{\"width\":3},\"mode\":\"lines\",\"x\":[0,-0.7705132427757893],\"y\":[0,0.6374239897486897],\"type\":\"scatter\"},{\"line\":{\"width\":3},\"mode\":\"lines\",\"x\":[0,-0.7705132427757893],\"y\":[0.6374239897486897,0.6374239897486897],\"type\":\"scatter\"},{\"mode\":\"markers\",\"x\":[-0.7705132427757893],\"y\":[0.6374239897486897],\"type\":\"scatter\"},{\"x\":[0,1],\"y\":[-0.7705132427757893,-0.7705132427757893],\"type\":\"scatter\"},{\"x\":[0,0],\"y\":[0,-0.7705132427757893],\"type\":\"scatter\"},{\"x\":[0],\"y\":[-0.7705132427757893],\"type\":\"scatter\"}],\"name\":\"139\"},{\"data\":[{\"line\":{\"width\":3},\"mode\":\"lines\",\"x\":[0,-0.8090169943749472],\"y\":[0,0.5877852522924734],\"type\":\"scatter\"},{\"line\":{\"width\":3},\"mode\":\"lines\",\"x\":[0,-0.8090169943749472],\"y\":[0.5877852522924734,0.5877852522924734],\"type\":\"scatter\"},{\"mode\":\"markers\",\"x\":[-0.8090169943749472],\"y\":[0.5877852522924734],\"type\":\"scatter\"},{\"x\":[0,1],\"y\":[-0.8090169943749472,-0.8090169943749472],\"type\":\"scatter\"},{\"x\":[0,0],\"y\":[0,-0.8090169943749472],\"type\":\"scatter\"},{\"x\":[0],\"y\":[-0.8090169943749472],\"type\":\"scatter\"}],\"name\":\"140\"},{\"data\":[{\"line\":{\"width\":3},\"mode\":\"lines\",\"x\":[0,-0.8443279255020156],\"y\":[0,0.5358267949789957],\"type\":\"scatter\"},{\"line\":{\"width\":3},\"mode\":\"lines\",\"x\":[0,-0.8443279255020156],\"y\":[0.5358267949789957,0.5358267949789957],\"type\":\"scatter\"},{\"mode\":\"markers\",\"x\":[-0.8443279255020156],\"y\":[0.5358267949789957],\"type\":\"scatter\"},{\"x\":[0,1],\"y\":[-0.8443279255020156,-0.8443279255020156],\"type\":\"scatter\"},{\"x\":[0,0],\"y\":[0,-0.8443279255020156],\"type\":\"scatter\"},{\"x\":[0],\"y\":[-0.8443279255020156],\"type\":\"scatter\"}],\"name\":\"141\"},{\"data\":[{\"line\":{\"width\":3},\"mode\":\"lines\",\"x\":[0,-0.8763066800438639],\"y\":[0,0.48175367410171466],\"type\":\"scatter\"},{\"line\":{\"width\":3},\"mode\":\"lines\",\"x\":[0,-0.8763066800438639],\"y\":[0.48175367410171466,0.48175367410171466],\"type\":\"scatter\"},{\"mode\":\"markers\",\"x\":[-0.8763066800438639],\"y\":[0.48175367410171466],\"type\":\"scatter\"},{\"x\":[0,1],\"y\":[-0.8763066800438639,-0.8763066800438639],\"type\":\"scatter\"},{\"x\":[0,0],\"y\":[0,-0.8763066800438639],\"type\":\"scatter\"},{\"x\":[0],\"y\":[-0.8763066800438639],\"type\":\"scatter\"}],\"name\":\"142\"},{\"data\":[{\"line\":{\"width\":3},\"mode\":\"lines\",\"x\":[0,-0.9048270524660197],\"y\":[0,0.4257792915650723],\"type\":\"scatter\"},{\"line\":{\"width\":3},\"mode\":\"lines\",\"x\":[0,-0.9048270524660197],\"y\":[0.4257792915650723,0.4257792915650723],\"type\":\"scatter\"},{\"mode\":\"markers\",\"x\":[-0.9048270524660197],\"y\":[0.4257792915650723],\"type\":\"scatter\"},{\"x\":[0,1],\"y\":[-0.9048270524660197,-0.9048270524660197],\"type\":\"scatter\"},{\"x\":[0,0],\"y\":[0,-0.9048270524660197],\"type\":\"scatter\"},{\"x\":[0],\"y\":[-0.9048270524660197],\"type\":\"scatter\"}],\"name\":\"143\"},{\"data\":[{\"line\":{\"width\":3},\"mode\":\"lines\",\"x\":[0,-0.9297764858882515],\"y\":[0,0.368124552684678],\"type\":\"scatter\"},{\"line\":{\"width\":3},\"mode\":\"lines\",\"x\":[0,-0.9297764858882515],\"y\":[0.368124552684678,0.368124552684678],\"type\":\"scatter\"},{\"mode\":\"markers\",\"x\":[-0.9297764858882515],\"y\":[0.368124552684678],\"type\":\"scatter\"},{\"x\":[0,1],\"y\":[-0.9297764858882515,-0.9297764858882515],\"type\":\"scatter\"},{\"x\":[0,0],\"y\":[0,-0.9297764858882515],\"type\":\"scatter\"},{\"x\":[0],\"y\":[-0.9297764858882515],\"type\":\"scatter\"}],\"name\":\"144\"},{\"data\":[{\"line\":{\"width\":3},\"mode\":\"lines\",\"x\":[0,-0.9510565162951534],\"y\":[0,0.3090169943749478],\"type\":\"scatter\"},{\"line\":{\"width\":3},\"mode\":\"lines\",\"x\":[0,-0.9510565162951534],\"y\":[0.3090169943749478,0.3090169943749478],\"type\":\"scatter\"},{\"mode\":\"markers\",\"x\":[-0.9510565162951534],\"y\":[0.3090169943749478],\"type\":\"scatter\"},{\"x\":[0,1],\"y\":[-0.9510565162951534,-0.9510565162951534],\"type\":\"scatter\"},{\"x\":[0,0],\"y\":[0,-0.9510565162951534],\"type\":\"scatter\"},{\"x\":[0],\"y\":[-0.9510565162951534],\"type\":\"scatter\"}],\"name\":\"145\"},{\"data\":[{\"line\":{\"width\":3},\"mode\":\"lines\",\"x\":[0,-0.9685831611286314],\"y\":[0,0.24868988716485377],\"type\":\"scatter\"},{\"line\":{\"width\":3},\"mode\":\"lines\",\"x\":[0,-0.9685831611286314],\"y\":[0.24868988716485377,0.24868988716485377],\"type\":\"scatter\"},{\"mode\":\"markers\",\"x\":[-0.9685831611286314],\"y\":[0.24868988716485377],\"type\":\"scatter\"},{\"x\":[0,1],\"y\":[-0.9685831611286314,-0.9685831611286314],\"type\":\"scatter\"},{\"x\":[0,0],\"y\":[0,-0.9685831611286314],\"type\":\"scatter\"},{\"x\":[0],\"y\":[-0.9685831611286314],\"type\":\"scatter\"}],\"name\":\"146\"},{\"data\":[{\"line\":{\"width\":3},\"mode\":\"lines\",\"x\":[0,-0.9822872507286888],\"y\":[0,0.18738131458572393],\"type\":\"scatter\"},{\"line\":{\"width\":3},\"mode\":\"lines\",\"x\":[0,-0.9822872507286888],\"y\":[0.18738131458572393,0.18738131458572393],\"type\":\"scatter\"},{\"mode\":\"markers\",\"x\":[-0.9822872507286888],\"y\":[0.18738131458572393],\"type\":\"scatter\"},{\"x\":[0,1],\"y\":[-0.9822872507286888,-0.9822872507286888],\"type\":\"scatter\"},{\"x\":[0,0],\"y\":[0,-0.9822872507286888],\"type\":\"scatter\"},{\"x\":[0],\"y\":[-0.9822872507286888],\"type\":\"scatter\"}],\"name\":\"147\"},{\"data\":[{\"line\":{\"width\":3},\"mode\":\"lines\",\"x\":[0,-0.9921147013144779],\"y\":[0,0.1253332335643039],\"type\":\"scatter\"},{\"line\":{\"width\":3},\"mode\":\"lines\",\"x\":[0,-0.9921147013144779],\"y\":[0.1253332335643039,0.1253332335643039],\"type\":\"scatter\"},{\"mode\":\"markers\",\"x\":[-0.9921147013144779],\"y\":[0.1253332335643039],\"type\":\"scatter\"},{\"x\":[0,1],\"y\":[-0.9921147013144779,-0.9921147013144779],\"type\":\"scatter\"},{\"x\":[0,0],\"y\":[0,-0.9921147013144779],\"type\":\"scatter\"},{\"x\":[0],\"y\":[-0.9921147013144779],\"type\":\"scatter\"}],\"name\":\"148\"},{\"data\":[{\"line\":{\"width\":3},\"mode\":\"lines\",\"x\":[0,-0.9980267284282716],\"y\":[0,0.06279051952931339],\"type\":\"scatter\"},{\"line\":{\"width\":3},\"mode\":\"lines\",\"x\":[0,-0.9980267284282716],\"y\":[0.06279051952931339,0.06279051952931339],\"type\":\"scatter\"},{\"mode\":\"markers\",\"x\":[-0.9980267284282716],\"y\":[0.06279051952931339],\"type\":\"scatter\"},{\"x\":[0,1],\"y\":[-0.9980267284282716,-0.9980267284282716],\"type\":\"scatter\"},{\"x\":[0,0],\"y\":[0,-0.9980267284282716],\"type\":\"scatter\"},{\"x\":[0],\"y\":[-0.9980267284282716],\"type\":\"scatter\"}],\"name\":\"149\"},{\"data\":[{\"line\":{\"width\":3},\"mode\":\"lines\",\"x\":[0,-1.0],\"y\":[0,3.6739403974420594e-16],\"type\":\"scatter\"},{\"line\":{\"width\":3},\"mode\":\"lines\",\"x\":[0,-1.0],\"y\":[3.6739403974420594e-16,3.6739403974420594e-16],\"type\":\"scatter\"},{\"mode\":\"markers\",\"x\":[-1.0],\"y\":[3.6739403974420594e-16],\"type\":\"scatter\"},{\"x\":[0,1],\"y\":[-1.0,-1.0],\"type\":\"scatter\"},{\"x\":[0,0],\"y\":[0,-1.0],\"type\":\"scatter\"},{\"x\":[0],\"y\":[-1.0],\"type\":\"scatter\"}],\"name\":\"150\"},{\"data\":[{\"line\":{\"width\":3},\"mode\":\"lines\",\"x\":[0,-0.9980267284282714],\"y\":[0,-0.06279051952931443],\"type\":\"scatter\"},{\"line\":{\"width\":3},\"mode\":\"lines\",\"x\":[0,-0.9980267284282714],\"y\":[-0.06279051952931443,-0.06279051952931443],\"type\":\"scatter\"},{\"mode\":\"markers\",\"x\":[-0.9980267284282714],\"y\":[-0.06279051952931443],\"type\":\"scatter\"},{\"x\":[0,1],\"y\":[-0.9980267284282714,-0.9980267284282714],\"type\":\"scatter\"},{\"x\":[0,0],\"y\":[0,-0.9980267284282714],\"type\":\"scatter\"},{\"x\":[0],\"y\":[-0.9980267284282714],\"type\":\"scatter\"}],\"name\":\"151\"},{\"data\":[{\"line\":{\"width\":3},\"mode\":\"lines\",\"x\":[0,-0.9921147013144778],\"y\":[0,-0.12533323356430492],\"type\":\"scatter\"},{\"line\":{\"width\":3},\"mode\":\"lines\",\"x\":[0,-0.9921147013144778],\"y\":[-0.12533323356430492,-0.12533323356430492],\"type\":\"scatter\"},{\"mode\":\"markers\",\"x\":[-0.9921147013144778],\"y\":[-0.12533323356430492],\"type\":\"scatter\"},{\"x\":[0,1],\"y\":[-0.9921147013144778,-0.9921147013144778],\"type\":\"scatter\"},{\"x\":[0,0],\"y\":[0,-0.9921147013144778],\"type\":\"scatter\"},{\"x\":[0],\"y\":[-0.9921147013144778],\"type\":\"scatter\"}],\"name\":\"152\"},{\"data\":[{\"line\":{\"width\":3},\"mode\":\"lines\",\"x\":[0,-0.9822872507286886],\"y\":[0,-0.18738131458572496],\"type\":\"scatter\"},{\"line\":{\"width\":3},\"mode\":\"lines\",\"x\":[0,-0.9822872507286886],\"y\":[-0.18738131458572496,-0.18738131458572496],\"type\":\"scatter\"},{\"mode\":\"markers\",\"x\":[-0.9822872507286886],\"y\":[-0.18738131458572496],\"type\":\"scatter\"},{\"x\":[0,1],\"y\":[-0.9822872507286886,-0.9822872507286886],\"type\":\"scatter\"},{\"x\":[0,0],\"y\":[0,-0.9822872507286886],\"type\":\"scatter\"},{\"x\":[0],\"y\":[-0.9822872507286886],\"type\":\"scatter\"}],\"name\":\"153\"},{\"data\":[{\"line\":{\"width\":3},\"mode\":\"lines\",\"x\":[0,-0.9685831611286311],\"y\":[0,-0.24868988716485477],\"type\":\"scatter\"},{\"line\":{\"width\":3},\"mode\":\"lines\",\"x\":[0,-0.9685831611286311],\"y\":[-0.24868988716485477,-0.24868988716485477],\"type\":\"scatter\"},{\"mode\":\"markers\",\"x\":[-0.9685831611286311],\"y\":[-0.24868988716485477],\"type\":\"scatter\"},{\"x\":[0,1],\"y\":[-0.9685831611286311,-0.9685831611286311],\"type\":\"scatter\"},{\"x\":[0,0],\"y\":[0,-0.9685831611286311],\"type\":\"scatter\"},{\"x\":[0],\"y\":[-0.9685831611286311],\"type\":\"scatter\"}],\"name\":\"154\"},{\"data\":[{\"line\":{\"width\":3},\"mode\":\"lines\",\"x\":[0,-0.9510565162951536],\"y\":[0,-0.30901699437494706],\"type\":\"scatter\"},{\"line\":{\"width\":3},\"mode\":\"lines\",\"x\":[0,-0.9510565162951536],\"y\":[-0.30901699437494706,-0.30901699437494706],\"type\":\"scatter\"},{\"mode\":\"markers\",\"x\":[-0.9510565162951536],\"y\":[-0.30901699437494706],\"type\":\"scatter\"},{\"x\":[0,1],\"y\":[-0.9510565162951536,-0.9510565162951536],\"type\":\"scatter\"},{\"x\":[0,0],\"y\":[0,-0.9510565162951536],\"type\":\"scatter\"},{\"x\":[0],\"y\":[-0.9510565162951536],\"type\":\"scatter\"}],\"name\":\"155\"},{\"data\":[{\"line\":{\"width\":3},\"mode\":\"lines\",\"x\":[0,-0.929776485888251],\"y\":[0,-0.3681245526846789],\"type\":\"scatter\"},{\"line\":{\"width\":3},\"mode\":\"lines\",\"x\":[0,-0.929776485888251],\"y\":[-0.3681245526846789,-0.3681245526846789],\"type\":\"scatter\"},{\"mode\":\"markers\",\"x\":[-0.929776485888251],\"y\":[-0.3681245526846789],\"type\":\"scatter\"},{\"x\":[0,1],\"y\":[-0.929776485888251,-0.929776485888251],\"type\":\"scatter\"},{\"x\":[0,0],\"y\":[0,-0.929776485888251],\"type\":\"scatter\"},{\"x\":[0],\"y\":[-0.929776485888251],\"type\":\"scatter\"}],\"name\":\"156\"},{\"data\":[{\"line\":{\"width\":3},\"mode\":\"lines\",\"x\":[0,-0.9048270524660192],\"y\":[0,-0.42577929156507327],\"type\":\"scatter\"},{\"line\":{\"width\":3},\"mode\":\"lines\",\"x\":[0,-0.9048270524660192],\"y\":[-0.42577929156507327,-0.42577929156507327],\"type\":\"scatter\"},{\"mode\":\"markers\",\"x\":[-0.9048270524660192],\"y\":[-0.42577929156507327],\"type\":\"scatter\"},{\"x\":[0,1],\"y\":[-0.9048270524660192,-0.9048270524660192],\"type\":\"scatter\"},{\"x\":[0,0],\"y\":[0,-0.9048270524660192],\"type\":\"scatter\"},{\"x\":[0],\"y\":[-0.9048270524660192],\"type\":\"scatter\"}],\"name\":\"157\"},{\"data\":[{\"line\":{\"width\":3},\"mode\":\"lines\",\"x\":[0,-0.8763066800438635],\"y\":[0,-0.48175367410171555],\"type\":\"scatter\"},{\"line\":{\"width\":3},\"mode\":\"lines\",\"x\":[0,-0.8763066800438635],\"y\":[-0.48175367410171555,-0.48175367410171555],\"type\":\"scatter\"},{\"mode\":\"markers\",\"x\":[-0.8763066800438635],\"y\":[-0.48175367410171555],\"type\":\"scatter\"},{\"x\":[0,1],\"y\":[-0.8763066800438635,-0.8763066800438635],\"type\":\"scatter\"},{\"x\":[0,0],\"y\":[0,-0.8763066800438635],\"type\":\"scatter\"},{\"x\":[0],\"y\":[-0.8763066800438635],\"type\":\"scatter\"}],\"name\":\"158\"},{\"data\":[{\"line\":{\"width\":3},\"mode\":\"lines\",\"x\":[0,-0.8443279255020151],\"y\":[0,-0.5358267949789965],\"type\":\"scatter\"},{\"line\":{\"width\":3},\"mode\":\"lines\",\"x\":[0,-0.8443279255020151],\"y\":[-0.5358267949789965,-0.5358267949789965],\"type\":\"scatter\"},{\"mode\":\"markers\",\"x\":[-0.8443279255020151],\"y\":[-0.5358267949789965],\"type\":\"scatter\"},{\"x\":[0,1],\"y\":[-0.8443279255020151,-0.8443279255020151],\"type\":\"scatter\"},{\"x\":[0,0],\"y\":[0,-0.8443279255020151],\"type\":\"scatter\"},{\"x\":[0],\"y\":[-0.8443279255020151],\"type\":\"scatter\"}],\"name\":\"159\"},{\"data\":[{\"line\":{\"width\":3},\"mode\":\"lines\",\"x\":[0,-0.8090169943749477],\"y\":[0,-0.5877852522924728],\"type\":\"scatter\"},{\"line\":{\"width\":3},\"mode\":\"lines\",\"x\":[0,-0.8090169943749477],\"y\":[-0.5877852522924728,-0.5877852522924728],\"type\":\"scatter\"},{\"mode\":\"markers\",\"x\":[-0.8090169943749477],\"y\":[-0.5877852522924728],\"type\":\"scatter\"},{\"x\":[0,1],\"y\":[-0.8090169943749477,-0.8090169943749477],\"type\":\"scatter\"},{\"x\":[0,0],\"y\":[0,-0.8090169943749477],\"type\":\"scatter\"},{\"x\":[0],\"y\":[-0.8090169943749477],\"type\":\"scatter\"}],\"name\":\"160\"},{\"data\":[{\"line\":{\"width\":3},\"mode\":\"lines\",\"x\":[0,-0.7705132427757886],\"y\":[0,-0.6374239897486905],\"type\":\"scatter\"},{\"line\":{\"width\":3},\"mode\":\"lines\",\"x\":[0,-0.7705132427757886],\"y\":[-0.6374239897486905,-0.6374239897486905],\"type\":\"scatter\"},{\"mode\":\"markers\",\"x\":[-0.7705132427757886],\"y\":[-0.6374239897486905],\"type\":\"scatter\"},{\"x\":[0,1],\"y\":[-0.7705132427757886,-0.7705132427757886],\"type\":\"scatter\"},{\"x\":[0,0],\"y\":[0,-0.7705132427757886],\"type\":\"scatter\"},{\"x\":[0],\"y\":[-0.7705132427757886],\"type\":\"scatter\"}],\"name\":\"161\"},{\"data\":[{\"line\":{\"width\":3},\"mode\":\"lines\",\"x\":[0,-0.728968627421411],\"y\":[0,-0.6845471059286892],\"type\":\"scatter\"},{\"line\":{\"width\":3},\"mode\":\"lines\",\"x\":[0,-0.728968627421411],\"y\":[-0.6845471059286892,-0.6845471059286892],\"type\":\"scatter\"},{\"mode\":\"markers\",\"x\":[-0.728968627421411],\"y\":[-0.6845471059286892],\"type\":\"scatter\"},{\"x\":[0,1],\"y\":[-0.728968627421411,-0.728968627421411],\"type\":\"scatter\"},{\"x\":[0,0],\"y\":[0,-0.728968627421411],\"type\":\"scatter\"},{\"x\":[0],\"y\":[-0.728968627421411],\"type\":\"scatter\"}],\"name\":\"162\"},{\"data\":[{\"line\":{\"width\":3},\"mode\":\"lines\",\"x\":[0,-0.6845471059286884],\"y\":[0,-0.7289686274214118],\"type\":\"scatter\"},{\"line\":{\"width\":3},\"mode\":\"lines\",\"x\":[0,-0.6845471059286884],\"y\":[-0.7289686274214118,-0.7289686274214118],\"type\":\"scatter\"},{\"mode\":\"markers\",\"x\":[-0.6845471059286884],\"y\":[-0.7289686274214118],\"type\":\"scatter\"},{\"x\":[0,1],\"y\":[-0.6845471059286884,-0.6845471059286884],\"type\":\"scatter\"},{\"x\":[0,0],\"y\":[0,-0.6845471059286884],\"type\":\"scatter\"},{\"x\":[0],\"y\":[-0.6845471059286884],\"type\":\"scatter\"}],\"name\":\"163\"},{\"data\":[{\"line\":{\"width\":3},\"mode\":\"lines\",\"x\":[0,-0.6374239897486897],\"y\":[0,-0.7705132427757891],\"type\":\"scatter\"},{\"line\":{\"width\":3},\"mode\":\"lines\",\"x\":[0,-0.6374239897486897],\"y\":[-0.7705132427757891,-0.7705132427757891],\"type\":\"scatter\"},{\"mode\":\"markers\",\"x\":[-0.6374239897486897],\"y\":[-0.7705132427757891],\"type\":\"scatter\"},{\"x\":[0,1],\"y\":[-0.6374239897486897,-0.6374239897486897],\"type\":\"scatter\"},{\"x\":[0,0],\"y\":[0,-0.6374239897486897],\"type\":\"scatter\"},{\"x\":[0],\"y\":[-0.6374239897486897],\"type\":\"scatter\"}],\"name\":\"164\"},{\"data\":[{\"line\":{\"width\":3},\"mode\":\"lines\",\"x\":[0,-0.587785252292472],\"y\":[0,-0.8090169943749482],\"type\":\"scatter\"},{\"line\":{\"width\":3},\"mode\":\"lines\",\"x\":[0,-0.587785252292472],\"y\":[-0.8090169943749482,-0.8090169943749482],\"type\":\"scatter\"},{\"mode\":\"markers\",\"x\":[-0.587785252292472],\"y\":[-0.8090169943749482],\"type\":\"scatter\"},{\"x\":[0,1],\"y\":[-0.587785252292472,-0.587785252292472],\"type\":\"scatter\"},{\"x\":[0,0],\"y\":[0,-0.587785252292472],\"type\":\"scatter\"},{\"x\":[0],\"y\":[-0.587785252292472],\"type\":\"scatter\"}],\"name\":\"165\"},{\"data\":[{\"line\":{\"width\":3},\"mode\":\"lines\",\"x\":[0,-0.5358267949789958],\"y\":[0,-0.8443279255020156],\"type\":\"scatter\"},{\"line\":{\"width\":3},\"mode\":\"lines\",\"x\":[0,-0.5358267949789958],\"y\":[-0.8443279255020156,-0.8443279255020156],\"type\":\"scatter\"},{\"mode\":\"markers\",\"x\":[-0.5358267949789958],\"y\":[-0.8443279255020156],\"type\":\"scatter\"},{\"x\":[0,1],\"y\":[-0.5358267949789958,-0.5358267949789958],\"type\":\"scatter\"},{\"x\":[0,0],\"y\":[0,-0.5358267949789958],\"type\":\"scatter\"},{\"x\":[0],\"y\":[-0.5358267949789958],\"type\":\"scatter\"}],\"name\":\"166\"},{\"data\":[{\"line\":{\"width\":3},\"mode\":\"lines\",\"x\":[0,-0.4817536741017147],\"y\":[0,-0.8763066800438639],\"type\":\"scatter\"},{\"line\":{\"width\":3},\"mode\":\"lines\",\"x\":[0,-0.4817536741017147],\"y\":[-0.8763066800438639,-0.8763066800438639],\"type\":\"scatter\"},{\"mode\":\"markers\",\"x\":[-0.4817536741017147],\"y\":[-0.8763066800438639],\"type\":\"scatter\"},{\"x\":[0,1],\"y\":[-0.4817536741017147,-0.4817536741017147],\"type\":\"scatter\"},{\"x\":[0,0],\"y\":[0,-0.4817536741017147],\"type\":\"scatter\"},{\"x\":[0],\"y\":[-0.4817536741017147],\"type\":\"scatter\"}],\"name\":\"167\"},{\"data\":[{\"line\":{\"width\":3},\"mode\":\"lines\",\"x\":[0,-0.4257792915650724],\"y\":[0,-0.9048270524660197],\"type\":\"scatter\"},{\"line\":{\"width\":3},\"mode\":\"lines\",\"x\":[0,-0.4257792915650724],\"y\":[-0.9048270524660197,-0.9048270524660197],\"type\":\"scatter\"},{\"mode\":\"markers\",\"x\":[-0.4257792915650724],\"y\":[-0.9048270524660197],\"type\":\"scatter\"},{\"x\":[0,1],\"y\":[-0.4257792915650724,-0.4257792915650724],\"type\":\"scatter\"},{\"x\":[0,0],\"y\":[0,-0.4257792915650724],\"type\":\"scatter\"},{\"x\":[0],\"y\":[-0.4257792915650724],\"type\":\"scatter\"}],\"name\":\"168\"},{\"data\":[{\"line\":{\"width\":3},\"mode\":\"lines\",\"x\":[0,-0.36812455268467803],\"y\":[0,-0.9297764858882513],\"type\":\"scatter\"},{\"line\":{\"width\":3},\"mode\":\"lines\",\"x\":[0,-0.36812455268467803],\"y\":[-0.9297764858882513,-0.9297764858882513],\"type\":\"scatter\"},{\"mode\":\"markers\",\"x\":[-0.36812455268467803],\"y\":[-0.9297764858882513],\"type\":\"scatter\"},{\"x\":[0,1],\"y\":[-0.36812455268467803,-0.36812455268467803],\"type\":\"scatter\"},{\"x\":[0,0],\"y\":[0,-0.36812455268467803],\"type\":\"scatter\"},{\"x\":[0],\"y\":[-0.36812455268467803],\"type\":\"scatter\"}],\"name\":\"169\"},{\"data\":[{\"line\":{\"width\":3},\"mode\":\"lines\",\"x\":[0,-0.3090169943749461],\"y\":[0,-0.951056516295154],\"type\":\"scatter\"},{\"line\":{\"width\":3},\"mode\":\"lines\",\"x\":[0,-0.3090169943749461],\"y\":[-0.951056516295154,-0.951056516295154],\"type\":\"scatter\"},{\"mode\":\"markers\",\"x\":[-0.3090169943749461],\"y\":[-0.951056516295154],\"type\":\"scatter\"},{\"x\":[0,1],\"y\":[-0.3090169943749461,-0.3090169943749461],\"type\":\"scatter\"},{\"x\":[0,0],\"y\":[0,-0.3090169943749461],\"type\":\"scatter\"},{\"x\":[0],\"y\":[-0.3090169943749461],\"type\":\"scatter\"}],\"name\":\"170\"},{\"data\":[{\"line\":{\"width\":3},\"mode\":\"lines\",\"x\":[0,-0.24868988716485382],\"y\":[0,-0.9685831611286314],\"type\":\"scatter\"},{\"line\":{\"width\":3},\"mode\":\"lines\",\"x\":[0,-0.24868988716485382],\"y\":[-0.9685831611286314,-0.9685831611286314],\"type\":\"scatter\"},{\"mode\":\"markers\",\"x\":[-0.24868988716485382],\"y\":[-0.9685831611286314],\"type\":\"scatter\"},{\"x\":[0,1],\"y\":[-0.24868988716485382,-0.24868988716485382],\"type\":\"scatter\"},{\"x\":[0,0],\"y\":[0,-0.24868988716485382],\"type\":\"scatter\"},{\"x\":[0],\"y\":[-0.24868988716485382],\"type\":\"scatter\"}],\"name\":\"171\"},{\"data\":[{\"line\":{\"width\":3},\"mode\":\"lines\",\"x\":[0,-0.187381314585724],\"y\":[0,-0.9822872507286888],\"type\":\"scatter\"},{\"line\":{\"width\":3},\"mode\":\"lines\",\"x\":[0,-0.187381314585724],\"y\":[-0.9822872507286888,-0.9822872507286888],\"type\":\"scatter\"},{\"mode\":\"markers\",\"x\":[-0.187381314585724],\"y\":[-0.9822872507286888],\"type\":\"scatter\"},{\"x\":[0,1],\"y\":[-0.187381314585724,-0.187381314585724],\"type\":\"scatter\"},{\"x\":[0,0],\"y\":[0,-0.187381314585724],\"type\":\"scatter\"},{\"x\":[0],\"y\":[-0.187381314585724],\"type\":\"scatter\"}],\"name\":\"172\"},{\"data\":[{\"line\":{\"width\":3},\"mode\":\"lines\",\"x\":[0,-0.12533323356430395],\"y\":[0,-0.9921147013144779],\"type\":\"scatter\"},{\"line\":{\"width\":3},\"mode\":\"lines\",\"x\":[0,-0.12533323356430395],\"y\":[-0.9921147013144779,-0.9921147013144779],\"type\":\"scatter\"},{\"mode\":\"markers\",\"x\":[-0.12533323356430395],\"y\":[-0.9921147013144779],\"type\":\"scatter\"},{\"x\":[0,1],\"y\":[-0.12533323356430395,-0.12533323356430395],\"type\":\"scatter\"},{\"x\":[0,0],\"y\":[0,-0.12533323356430395],\"type\":\"scatter\"},{\"x\":[0],\"y\":[-0.12533323356430395],\"type\":\"scatter\"}],\"name\":\"173\"},{\"data\":[{\"line\":{\"width\":3},\"mode\":\"lines\",\"x\":[0,-0.06279051952931344],\"y\":[0,-0.9980267284282716],\"type\":\"scatter\"},{\"line\":{\"width\":3},\"mode\":\"lines\",\"x\":[0,-0.06279051952931344],\"y\":[-0.9980267284282716,-0.9980267284282716],\"type\":\"scatter\"},{\"mode\":\"markers\",\"x\":[-0.06279051952931344],\"y\":[-0.9980267284282716],\"type\":\"scatter\"},{\"x\":[0,1],\"y\":[-0.06279051952931344,-0.06279051952931344],\"type\":\"scatter\"},{\"x\":[0,0],\"y\":[0,-0.06279051952931344],\"type\":\"scatter\"},{\"x\":[0],\"y\":[-0.06279051952931344],\"type\":\"scatter\"}],\"name\":\"174\"},{\"data\":[{\"line\":{\"width\":3},\"mode\":\"lines\",\"x\":[0,1.3477304596986769e-15],\"y\":[0,-1.0],\"type\":\"scatter\"},{\"line\":{\"width\":3},\"mode\":\"lines\",\"x\":[0,1.3477304596986769e-15],\"y\":[-1.0,-1.0],\"type\":\"scatter\"},{\"mode\":\"markers\",\"x\":[1.3477304596986769e-15],\"y\":[-1.0],\"type\":\"scatter\"},{\"x\":[0,1],\"y\":[1.3477304596986769e-15,1.3477304596986769e-15],\"type\":\"scatter\"},{\"x\":[0,0],\"y\":[0,1.3477304596986769e-15],\"type\":\"scatter\"},{\"x\":[0],\"y\":[1.3477304596986769e-15],\"type\":\"scatter\"}],\"name\":\"175\"},{\"data\":[{\"line\":{\"width\":3},\"mode\":\"lines\",\"x\":[0,0.06279051952931436],\"y\":[0,-0.9980267284282714],\"type\":\"scatter\"},{\"line\":{\"width\":3},\"mode\":\"lines\",\"x\":[0,0.06279051952931436],\"y\":[-0.9980267284282714,-0.9980267284282714],\"type\":\"scatter\"},{\"mode\":\"markers\",\"x\":[0.06279051952931436],\"y\":[-0.9980267284282714],\"type\":\"scatter\"},{\"x\":[0,1],\"y\":[0.06279051952931436,0.06279051952931436],\"type\":\"scatter\"},{\"x\":[0,0],\"y\":[0,0.06279051952931436],\"type\":\"scatter\"},{\"x\":[0],\"y\":[0.06279051952931436],\"type\":\"scatter\"}],\"name\":\"176\"},{\"data\":[{\"line\":{\"width\":3},\"mode\":\"lines\",\"x\":[0,0.12533323356430487],\"y\":[0,-0.9921147013144778],\"type\":\"scatter\"},{\"line\":{\"width\":3},\"mode\":\"lines\",\"x\":[0,0.12533323356430487],\"y\":[-0.9921147013144778,-0.9921147013144778],\"type\":\"scatter\"},{\"mode\":\"markers\",\"x\":[0.12533323356430487],\"y\":[-0.9921147013144778],\"type\":\"scatter\"},{\"x\":[0,1],\"y\":[0.12533323356430487,0.12533323356430487],\"type\":\"scatter\"},{\"x\":[0,0],\"y\":[0,0.12533323356430487],\"type\":\"scatter\"},{\"x\":[0],\"y\":[0.12533323356430487],\"type\":\"scatter\"}],\"name\":\"177\"},{\"data\":[{\"line\":{\"width\":3},\"mode\":\"lines\",\"x\":[0,0.1873813145857249],\"y\":[0,-0.9822872507286886],\"type\":\"scatter\"},{\"line\":{\"width\":3},\"mode\":\"lines\",\"x\":[0,0.1873813145857249],\"y\":[-0.9822872507286886,-0.9822872507286886],\"type\":\"scatter\"},{\"mode\":\"markers\",\"x\":[0.1873813145857249],\"y\":[-0.9822872507286886],\"type\":\"scatter\"},{\"x\":[0,1],\"y\":[0.1873813145857249,0.1873813145857249],\"type\":\"scatter\"},{\"x\":[0,0],\"y\":[0,0.1873813145857249],\"type\":\"scatter\"},{\"x\":[0],\"y\":[0.1873813145857249],\"type\":\"scatter\"}],\"name\":\"178\"},{\"data\":[{\"line\":{\"width\":3},\"mode\":\"lines\",\"x\":[0,0.2486898871648547],\"y\":[0,-0.9685831611286312],\"type\":\"scatter\"},{\"line\":{\"width\":3},\"mode\":\"lines\",\"x\":[0,0.2486898871648547],\"y\":[-0.9685831611286312,-0.9685831611286312],\"type\":\"scatter\"},{\"mode\":\"markers\",\"x\":[0.2486898871648547],\"y\":[-0.9685831611286312],\"type\":\"scatter\"},{\"x\":[0,1],\"y\":[0.2486898871648547,0.2486898871648547],\"type\":\"scatter\"},{\"x\":[0,0],\"y\":[0,0.2486898871648547],\"type\":\"scatter\"},{\"x\":[0],\"y\":[0.2486898871648547],\"type\":\"scatter\"}],\"name\":\"179\"},{\"data\":[{\"line\":{\"width\":3},\"mode\":\"lines\",\"x\":[0,0.3090169943749487],\"y\":[0,-0.9510565162951532],\"type\":\"scatter\"},{\"line\":{\"width\":3},\"mode\":\"lines\",\"x\":[0,0.3090169943749487],\"y\":[-0.9510565162951532,-0.9510565162951532],\"type\":\"scatter\"},{\"mode\":\"markers\",\"x\":[0.3090169943749487],\"y\":[-0.9510565162951532],\"type\":\"scatter\"},{\"x\":[0,1],\"y\":[0.3090169943749487,0.3090169943749487],\"type\":\"scatter\"},{\"x\":[0,0],\"y\":[0,0.3090169943749487],\"type\":\"scatter\"},{\"x\":[0],\"y\":[0.3090169943749487],\"type\":\"scatter\"}],\"name\":\"180\"},{\"data\":[{\"line\":{\"width\":3},\"mode\":\"lines\",\"x\":[0,0.36812455268467886],\"y\":[0,-0.929776485888251],\"type\":\"scatter\"},{\"line\":{\"width\":3},\"mode\":\"lines\",\"x\":[0,0.36812455268467886],\"y\":[-0.929776485888251,-0.929776485888251],\"type\":\"scatter\"},{\"mode\":\"markers\",\"x\":[0.36812455268467886],\"y\":[-0.929776485888251],\"type\":\"scatter\"},{\"x\":[0,1],\"y\":[0.36812455268467886,0.36812455268467886],\"type\":\"scatter\"},{\"x\":[0,0],\"y\":[0,0.36812455268467886],\"type\":\"scatter\"},{\"x\":[0],\"y\":[0.36812455268467886],\"type\":\"scatter\"}],\"name\":\"181\"},{\"data\":[{\"line\":{\"width\":3},\"mode\":\"lines\",\"x\":[0,0.4257792915650732],\"y\":[0,-0.9048270524660192],\"type\":\"scatter\"},{\"line\":{\"width\":3},\"mode\":\"lines\",\"x\":[0,0.4257792915650732],\"y\":[-0.9048270524660192,-0.9048270524660192],\"type\":\"scatter\"},{\"mode\":\"markers\",\"x\":[0.4257792915650732],\"y\":[-0.9048270524660192],\"type\":\"scatter\"},{\"x\":[0,1],\"y\":[0.4257792915650732,0.4257792915650732],\"type\":\"scatter\"},{\"x\":[0,0],\"y\":[0,0.4257792915650732],\"type\":\"scatter\"},{\"x\":[0],\"y\":[0.4257792915650732],\"type\":\"scatter\"}],\"name\":\"182\"},{\"data\":[{\"line\":{\"width\":3},\"mode\":\"lines\",\"x\":[0,0.4817536741017155],\"y\":[0,-0.8763066800438635],\"type\":\"scatter\"},{\"line\":{\"width\":3},\"mode\":\"lines\",\"x\":[0,0.4817536741017155],\"y\":[-0.8763066800438635,-0.8763066800438635],\"type\":\"scatter\"},{\"mode\":\"markers\",\"x\":[0.4817536741017155],\"y\":[-0.8763066800438635],\"type\":\"scatter\"},{\"x\":[0,1],\"y\":[0.4817536741017155,0.4817536741017155],\"type\":\"scatter\"},{\"x\":[0,0],\"y\":[0,0.4817536741017155],\"type\":\"scatter\"},{\"x\":[0],\"y\":[0.4817536741017155],\"type\":\"scatter\"}],\"name\":\"183\"},{\"data\":[{\"line\":{\"width\":3},\"mode\":\"lines\",\"x\":[0,0.5358267949789965],\"y\":[0,-0.8443279255020152],\"type\":\"scatter\"},{\"line\":{\"width\":3},\"mode\":\"lines\",\"x\":[0,0.5358267949789965],\"y\":[-0.8443279255020152,-0.8443279255020152],\"type\":\"scatter\"},{\"mode\":\"markers\",\"x\":[0.5358267949789965],\"y\":[-0.8443279255020152],\"type\":\"scatter\"},{\"x\":[0,1],\"y\":[0.5358267949789965,0.5358267949789965],\"type\":\"scatter\"},{\"x\":[0,0],\"y\":[0,0.5358267949789965],\"type\":\"scatter\"},{\"x\":[0],\"y\":[0.5358267949789965],\"type\":\"scatter\"}],\"name\":\"184\"},{\"data\":[{\"line\":{\"width\":3},\"mode\":\"lines\",\"x\":[0,0.5877852522924742],\"y\":[0,-0.8090169943749467],\"type\":\"scatter\"},{\"line\":{\"width\":3},\"mode\":\"lines\",\"x\":[0,0.5877852522924742],\"y\":[-0.8090169943749467,-0.8090169943749467],\"type\":\"scatter\"},{\"mode\":\"markers\",\"x\":[0.5877852522924742],\"y\":[-0.8090169943749467],\"type\":\"scatter\"},{\"x\":[0,1],\"y\":[0.5877852522924742,0.5877852522924742],\"type\":\"scatter\"},{\"x\":[0,0],\"y\":[0,0.5877852522924742],\"type\":\"scatter\"},{\"x\":[0],\"y\":[0.5877852522924742],\"type\":\"scatter\"}],\"name\":\"185\"},{\"data\":[{\"line\":{\"width\":3},\"mode\":\"lines\",\"x\":[0,0.6374239897486904],\"y\":[0,-0.7705132427757886],\"type\":\"scatter\"},{\"line\":{\"width\":3},\"mode\":\"lines\",\"x\":[0,0.6374239897486904],\"y\":[-0.7705132427757886,-0.7705132427757886],\"type\":\"scatter\"},{\"mode\":\"markers\",\"x\":[0.6374239897486904],\"y\":[-0.7705132427757886],\"type\":\"scatter\"},{\"x\":[0,1],\"y\":[0.6374239897486904,0.6374239897486904],\"type\":\"scatter\"},{\"x\":[0,0],\"y\":[0,0.6374239897486904],\"type\":\"scatter\"},{\"x\":[0],\"y\":[0.6374239897486904],\"type\":\"scatter\"}],\"name\":\"186\"},{\"data\":[{\"line\":{\"width\":3},\"mode\":\"lines\",\"x\":[0,0.6845471059286891],\"y\":[0,-0.7289686274214111],\"type\":\"scatter\"},{\"line\":{\"width\":3},\"mode\":\"lines\",\"x\":[0,0.6845471059286891],\"y\":[-0.7289686274214111,-0.7289686274214111],\"type\":\"scatter\"},{\"mode\":\"markers\",\"x\":[0.6845471059286891],\"y\":[-0.7289686274214111],\"type\":\"scatter\"},{\"x\":[0,1],\"y\":[0.6845471059286891,0.6845471059286891],\"type\":\"scatter\"},{\"x\":[0,0],\"y\":[0,0.6845471059286891],\"type\":\"scatter\"},{\"x\":[0],\"y\":[0.6845471059286891],\"type\":\"scatter\"}],\"name\":\"187\"},{\"data\":[{\"line\":{\"width\":3},\"mode\":\"lines\",\"x\":[0,0.7289686274214117],\"y\":[0,-0.6845471059286885],\"type\":\"scatter\"},{\"line\":{\"width\":3},\"mode\":\"lines\",\"x\":[0,0.7289686274214117],\"y\":[-0.6845471059286885,-0.6845471059286885],\"type\":\"scatter\"},{\"mode\":\"markers\",\"x\":[0.7289686274214117],\"y\":[-0.6845471059286885],\"type\":\"scatter\"},{\"x\":[0,1],\"y\":[0.7289686274214117,0.7289686274214117],\"type\":\"scatter\"},{\"x\":[0,0],\"y\":[0,0.7289686274214117],\"type\":\"scatter\"},{\"x\":[0],\"y\":[0.7289686274214117],\"type\":\"scatter\"}],\"name\":\"188\"},{\"data\":[{\"line\":{\"width\":3},\"mode\":\"lines\",\"x\":[0,0.7705132427757891],\"y\":[0,-0.6374239897486897],\"type\":\"scatter\"},{\"line\":{\"width\":3},\"mode\":\"lines\",\"x\":[0,0.7705132427757891],\"y\":[-0.6374239897486897,-0.6374239897486897],\"type\":\"scatter\"},{\"mode\":\"markers\",\"x\":[0.7705132427757891],\"y\":[-0.6374239897486897],\"type\":\"scatter\"},{\"x\":[0,1],\"y\":[0.7705132427757891,0.7705132427757891],\"type\":\"scatter\"},{\"x\":[0,0],\"y\":[0,0.7705132427757891],\"type\":\"scatter\"},{\"x\":[0],\"y\":[0.7705132427757891],\"type\":\"scatter\"}],\"name\":\"189\"},{\"data\":[{\"line\":{\"width\":3},\"mode\":\"lines\",\"x\":[0,0.8090169943749482],\"y\":[0,-0.587785252292472],\"type\":\"scatter\"},{\"line\":{\"width\":3},\"mode\":\"lines\",\"x\":[0,0.8090169943749482],\"y\":[-0.587785252292472,-0.587785252292472],\"type\":\"scatter\"},{\"mode\":\"markers\",\"x\":[0.8090169943749482],\"y\":[-0.587785252292472],\"type\":\"scatter\"},{\"x\":[0,1],\"y\":[0.8090169943749482,0.8090169943749482],\"type\":\"scatter\"},{\"x\":[0,0],\"y\":[0,0.8090169943749482],\"type\":\"scatter\"},{\"x\":[0],\"y\":[0.8090169943749482],\"type\":\"scatter\"}],\"name\":\"190\"},{\"data\":[{\"line\":{\"width\":3},\"mode\":\"lines\",\"x\":[0,0.8443279255020156],\"y\":[0,-0.5358267949789958],\"type\":\"scatter\"},{\"line\":{\"width\":3},\"mode\":\"lines\",\"x\":[0,0.8443279255020156],\"y\":[-0.5358267949789958,-0.5358267949789958],\"type\":\"scatter\"},{\"mode\":\"markers\",\"x\":[0.8443279255020156],\"y\":[-0.5358267949789958],\"type\":\"scatter\"},{\"x\":[0,1],\"y\":[0.8443279255020156,0.8443279255020156],\"type\":\"scatter\"},{\"x\":[0,0],\"y\":[0,0.8443279255020156],\"type\":\"scatter\"},{\"x\":[0],\"y\":[0.8443279255020156],\"type\":\"scatter\"}],\"name\":\"191\"},{\"data\":[{\"line\":{\"width\":3},\"mode\":\"lines\",\"x\":[0,0.8763066800438639],\"y\":[0,-0.48175367410171477],\"type\":\"scatter\"},{\"line\":{\"width\":3},\"mode\":\"lines\",\"x\":[0,0.8763066800438639],\"y\":[-0.48175367410171477,-0.48175367410171477],\"type\":\"scatter\"},{\"mode\":\"markers\",\"x\":[0.8763066800438639],\"y\":[-0.48175367410171477],\"type\":\"scatter\"},{\"x\":[0,1],\"y\":[0.8763066800438639,0.8763066800438639],\"type\":\"scatter\"},{\"x\":[0,0],\"y\":[0,0.8763066800438639],\"type\":\"scatter\"},{\"x\":[0],\"y\":[0.8763066800438639],\"type\":\"scatter\"}],\"name\":\"192\"},{\"data\":[{\"line\":{\"width\":3},\"mode\":\"lines\",\"x\":[0,0.9048270524660196],\"y\":[0,-0.42577929156507244],\"type\":\"scatter\"},{\"line\":{\"width\":3},\"mode\":\"lines\",\"x\":[0,0.9048270524660196],\"y\":[-0.42577929156507244,-0.42577929156507244],\"type\":\"scatter\"},{\"mode\":\"markers\",\"x\":[0.9048270524660196],\"y\":[-0.42577929156507244],\"type\":\"scatter\"},{\"x\":[0,1],\"y\":[0.9048270524660196,0.9048270524660196],\"type\":\"scatter\"},{\"x\":[0,0],\"y\":[0,0.9048270524660196],\"type\":\"scatter\"},{\"x\":[0],\"y\":[0.9048270524660196],\"type\":\"scatter\"}],\"name\":\"193\"},{\"data\":[{\"line\":{\"width\":3},\"mode\":\"lines\",\"x\":[0,0.9297764858882513],\"y\":[0,-0.3681245526846781],\"type\":\"scatter\"},{\"line\":{\"width\":3},\"mode\":\"lines\",\"x\":[0,0.9297764858882513],\"y\":[-0.3681245526846781,-0.3681245526846781],\"type\":\"scatter\"},{\"mode\":\"markers\",\"x\":[0.9297764858882513],\"y\":[-0.3681245526846781],\"type\":\"scatter\"},{\"x\":[0,1],\"y\":[0.9297764858882513,0.9297764858882513],\"type\":\"scatter\"},{\"x\":[0,0],\"y\":[0,0.9297764858882513],\"type\":\"scatter\"},{\"x\":[0],\"y\":[0.9297764858882513],\"type\":\"scatter\"}],\"name\":\"194\"},{\"data\":[{\"line\":{\"width\":3},\"mode\":\"lines\",\"x\":[0,0.951056516295154],\"y\":[0,-0.3090169943749462],\"type\":\"scatter\"},{\"line\":{\"width\":3},\"mode\":\"lines\",\"x\":[0,0.951056516295154],\"y\":[-0.3090169943749462,-0.3090169943749462],\"type\":\"scatter\"},{\"mode\":\"markers\",\"x\":[0.951056516295154],\"y\":[-0.3090169943749462],\"type\":\"scatter\"},{\"x\":[0,1],\"y\":[0.951056516295154,0.951056516295154],\"type\":\"scatter\"},{\"x\":[0,0],\"y\":[0,0.951056516295154],\"type\":\"scatter\"},{\"x\":[0],\"y\":[0.951056516295154],\"type\":\"scatter\"}],\"name\":\"195\"},{\"data\":[{\"line\":{\"width\":3},\"mode\":\"lines\",\"x\":[0,0.9685831611286314],\"y\":[0,-0.24868988716485388],\"type\":\"scatter\"},{\"line\":{\"width\":3},\"mode\":\"lines\",\"x\":[0,0.9685831611286314],\"y\":[-0.24868988716485388,-0.24868988716485388],\"type\":\"scatter\"},{\"mode\":\"markers\",\"x\":[0.9685831611286314],\"y\":[-0.24868988716485388],\"type\":\"scatter\"},{\"x\":[0,1],\"y\":[0.9685831611286314,0.9685831611286314],\"type\":\"scatter\"},{\"x\":[0,0],\"y\":[0,0.9685831611286314],\"type\":\"scatter\"},{\"x\":[0],\"y\":[0.9685831611286314],\"type\":\"scatter\"}],\"name\":\"196\"},{\"data\":[{\"line\":{\"width\":3},\"mode\":\"lines\",\"x\":[0,0.9822872507286888],\"y\":[0,-0.18738131458572405],\"type\":\"scatter\"},{\"line\":{\"width\":3},\"mode\":\"lines\",\"x\":[0,0.9822872507286888],\"y\":[-0.18738131458572405,-0.18738131458572405],\"type\":\"scatter\"},{\"mode\":\"markers\",\"x\":[0.9822872507286888],\"y\":[-0.18738131458572405],\"type\":\"scatter\"},{\"x\":[0,1],\"y\":[0.9822872507286888,0.9822872507286888],\"type\":\"scatter\"},{\"x\":[0,0],\"y\":[0,0.9822872507286888],\"type\":\"scatter\"},{\"x\":[0],\"y\":[0.9822872507286888],\"type\":\"scatter\"}],\"name\":\"197\"},{\"data\":[{\"line\":{\"width\":3},\"mode\":\"lines\",\"x\":[0,0.9921147013144779],\"y\":[0,-0.125333233564304],\"type\":\"scatter\"},{\"line\":{\"width\":3},\"mode\":\"lines\",\"x\":[0,0.9921147013144779],\"y\":[-0.125333233564304,-0.125333233564304],\"type\":\"scatter\"},{\"mode\":\"markers\",\"x\":[0.9921147013144779],\"y\":[-0.125333233564304],\"type\":\"scatter\"},{\"x\":[0,1],\"y\":[0.9921147013144779,0.9921147013144779],\"type\":\"scatter\"},{\"x\":[0,0],\"y\":[0,0.9921147013144779],\"type\":\"scatter\"},{\"x\":[0],\"y\":[0.9921147013144779],\"type\":\"scatter\"}],\"name\":\"198\"},{\"data\":[{\"line\":{\"width\":3},\"mode\":\"lines\",\"x\":[0,0.9980267284282716],\"y\":[0,-0.06279051952931351],\"type\":\"scatter\"},{\"line\":{\"width\":3},\"mode\":\"lines\",\"x\":[0,0.9980267284282716],\"y\":[-0.06279051952931351,-0.06279051952931351],\"type\":\"scatter\"},{\"mode\":\"markers\",\"x\":[0.9980267284282716],\"y\":[-0.06279051952931351],\"type\":\"scatter\"},{\"x\":[0,1],\"y\":[0.9980267284282716,0.9980267284282716],\"type\":\"scatter\"},{\"x\":[0,0],\"y\":[0,0.9980267284282716],\"type\":\"scatter\"},{\"x\":[0],\"y\":[0.9980267284282716],\"type\":\"scatter\"}],\"name\":\"199\"},{\"data\":[{\"line\":{\"width\":3},\"mode\":\"lines\",\"x\":[0,1.0],\"y\":[0,-4.898587196589413e-16],\"type\":\"scatter\"},{\"line\":{\"width\":3},\"mode\":\"lines\",\"x\":[0,1.0],\"y\":[-4.898587196589413e-16,-4.898587196589413e-16],\"type\":\"scatter\"},{\"mode\":\"markers\",\"x\":[1.0],\"y\":[-4.898587196589413e-16],\"type\":\"scatter\"},{\"x\":[0,1],\"y\":[1.0,1.0],\"type\":\"scatter\"},{\"x\":[0,0],\"y\":[0,1.0],\"type\":\"scatter\"},{\"x\":[0],\"y\":[1.0],\"type\":\"scatter\"}],\"name\":\"200\"}]);\n",
       "                        }).then(function(){\n",
       "                            \n",
       "var gd = document.getElementById('3fb658f1-0013-491b-b66b-1497fc61c45e');\n",
       "var x = new MutationObserver(function (mutations, observer) {{\n",
       "        var display = window.getComputedStyle(gd).display;\n",
       "        if (!display || display === 'none') {{\n",
       "            console.log([gd, 'removed!']);\n",
       "            Plotly.purge(gd);\n",
       "            observer.disconnect();\n",
       "        }}\n",
       "}});\n",
       "\n",
       "// Listen for the removal of the full notebook cells\n",
       "var notebookContainer = gd.closest('#notebook-container');\n",
       "if (notebookContainer) {{\n",
       "    x.observe(notebookContainer, {childList: true});\n",
       "}}\n",
       "\n",
       "// Listen for the clearing of the current output cell\n",
       "var outputEl = gd.closest('.output');\n",
       "if (outputEl) {{\n",
       "    x.observe(outputEl, {childList: true});\n",
       "}}\n",
       "\n",
       "                        })                };            </script>        </div>"
      ]
     },
     "metadata": {},
     "output_type": "display_data"
    }
   ],
   "source": [
    "# slider_steps = np.linspace(0, 4*np.pi, 201)\n",
    "\n",
    "# fig = make_subplots(rows=1, cols=2,\n",
    "#     subplot_titles=(\"Phasor Domain\", \"Spatial Domain\")\n",
    "# )\n",
    "\n",
    "# fig.add_trace(\n",
    "#     go.Scatter(x=[0, np.cos(0)], y=[0, np.sin(0)],\n",
    "#                 line=dict(width=3), line_color=\"blue\", mode=\"lines\", name=\"vector\"),\n",
    "#     row=1, col=1\n",
    "# )\n",
    "# fig.add_trace(\n",
    "#     go.Scatter(x=[0, np.cos(0)], y=[np.sin(0), np.sin(0)],\n",
    "#             line=dict(width=3), line_color=\"red\", mode=\"lines\", name=\"real\"),\n",
    "#     row=1, col=1\n",
    "# )\n",
    "# fig.add_trace(\n",
    "#     go.Scatter(x=[np.cos(0)], y=[np.sin(0)], mode=\"markers\",\n",
    "#             marker_color=\"black\", name=\"point\"),\n",
    "#     row=1, col=1\n",
    "# )\n",
    "\n",
    "# fig.add_trace(\n",
    "#     go.Scatter(x=[0, 1], y=[np.cos(0), np.cos(0)],\n",
    "#                 line=dict(width=3), line_color=\"blue\", mode=\"lines\", name=\"signal\"),\n",
    "#     row=1, col=2\n",
    "# )\n",
    "# fig.add_trace(\n",
    "#     go.Scatter(x=[0, 0], y=[0, np.cos(0)],\n",
    "#                 line=dict(width=3), line_color=\"red\", mode=\"lines\", name=\"real\"),\n",
    "#     row=1, col=2\n",
    "# )\n",
    "# fig.add_trace(\n",
    "#     go.Scatter(x=[0], y=[np.cos(0)],\n",
    "#             marker_color=\"black\", mode=\"markers\", name=\"point\"),\n",
    "#     row=1, col=2\n",
    "# )\n",
    "\n",
    "# fig.update_xaxes(title_text=\"Real Part\", row=1, col=1)\n",
    "# fig.update_yaxes(title_text=\"Imag Part\", row=1, col=1)\n",
    "# fig.update_xaxes(title_text=\"Space [m]\", row=1, col=2, range=[-0.1, 1.1])\n",
    "# fig.update_yaxes(title_text=\"Value\", row=1, col=2, range=[-2, 2])\n",
    "\n",
    "# fig.update_layout(\n",
    "#     xaxis=dict(range=[-2, 2], scaleanchor=\"y\", constrain=\"domain\"),\n",
    "#     yaxis=dict(range=[-2, 2]),\n",
    "#     sliders=[dict(\n",
    "#         steps=[\n",
    "#             dict(method=\"animate\",\n",
    "#                     args=[[f\"{i}\"],\n",
    "#                         {\"mode\": \"immediate\", \"frame\": {\"duration\": 0, \"redraw\": True}, \"transition\": {\"duration\": 0}}],\n",
    "#                     label=rf\"Time: {np.round(angle, 2)}\")\n",
    "#             for i, angle in enumerate(slider_steps)\n",
    "#         ],\n",
    "#         active=0,\n",
    "#         pad={\"t\": 50}\n",
    "#     )]\n",
    "# )\n",
    "\n",
    "# fig.frames = [\n",
    "#     go.Frame(\n",
    "#         data=[go.Scatter(x=[0, np.cos(angle)], y=[0, np.sin(angle)],\n",
    "#                             mode=\"lines\",\n",
    "#                             line=dict(width=3)),\n",
    "#                 go.Scatter(x=[0, np.cos(angle)], y=[np.sin(angle), np.sin(angle)],\n",
    "#                             mode=\"lines\",\n",
    "#                             line=dict(width=3)),\n",
    "#                 go.Scatter(x=[np.cos(angle)], y=[np.sin(angle)], mode=\"markers\"),\n",
    "#                 go.Scatter(x=[0, 1], y=[np.cos(angle), np.cos(angle)]),\n",
    "#                 go.Scatter(x=[0, 0], y=[0, np.cos(angle)]),\n",
    "#                 go.Scatter(x=[0], y=[np.cos(angle)])\n",
    "#                 ],\n",
    "#         name=f\"{i}\"\n",
    "#     )\n",
    "#     for i, angle in enumerate(slider_steps)\n",
    "# ]\n",
    "\n",
    "# fig.show()"
   ]
  },
  {
   "cell_type": "raw",
   "id": "dcb66c4e",
   "metadata": {
    "vscode": {
     "languageId": "raw"
    }
   },
   "source": [
    "<!-- REFERENCES -->\n",
    "::: {#refs}\n",
    "## References\n",
    ":::\n",
    "---\n",
    "\n",
    "<!-- EDIT HISTORY -->\n",
    "::: {.callout-note}\n",
    "## Edit History\n",
    "\n",
    "- **20YY-MM-DD**: EDIT NOTE\n",
    ":::\n",
    "\n",
    "---\n",
    "\n",
    "<!-- COMMENTS/REACTIONS -->\n",
    "<script src=\"https://giscus.app/client.js\"\n",
    "        data-repo=\"aechoi/blog\"\n",
    "        data-repo-id=\"R_kgDOPWDacg\"\n",
    "        data-category=\"Announcements\"\n",
    "        data-category-id=\"DIC_kwDOPWDacs4CtpTY\"\n",
    "        data-mapping=\"pathname\"\n",
    "        data-strict=\"0\"\n",
    "        data-reactions-enabled=\"1\"\n",
    "        data-emit-metadata=\"0\"\n",
    "        data-input-position=\"top\"\n",
    "        data-theme=\"light\"\n",
    "        data-lang=\"en\"\n",
    "        data-loading=\"lazy\"\n",
    "        crossorigin=\"anonymous\"\n",
    "        async>\n",
    "</script>"
   ]
  }
 ],
 "metadata": {
  "kernelspec": {
   "display_name": "Python 3",
   "language": "python",
   "name": "python3"
  },
  "language_info": {
   "codemirror_mode": {
    "name": "ipython",
    "version": 3
   },
   "file_extension": ".py",
   "mimetype": "text/x-python",
   "name": "python",
   "nbconvert_exporter": "python",
   "pygments_lexer": "ipython3",
   "version": "3.12.3"
  }
 },
 "nbformat": 4,
 "nbformat_minor": 5
}
