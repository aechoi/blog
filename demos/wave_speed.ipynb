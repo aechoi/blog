{
 "cells": [
  {
   "cell_type": "raw",
   "id": "81125258",
   "metadata": {
    "vscode": {
     "languageId": "raw"
    }
   },
   "source": [
    "---\n",
    "title: Waves\n",
    "date: today\n",
    "# date-modified: last-modified\n",
    "categories: \n",
    "- electrodynamics\n",
    "draft: true\n",
    "bibliography: wave_speed/ref.bibtex\n",
    "---"
   ]
  },
  {
   "cell_type": "markdown",
   "id": "c9dc60ba",
   "metadata": {},
   "source": []
  },
  {
   "cell_type": "raw",
   "id": "dcb66c4e",
   "metadata": {
    "vscode": {
     "languageId": "raw"
    }
   },
   "source": [
    "<!-- REFERENCES -->\n",
    "::: {#refs}\n",
    "## References\n",
    ":::\n",
    "---\n",
    "\n",
    "<!-- EDIT HISTORY -->\n",
    "::: {.callout-note}\n",
    "## Edit History\n",
    "\n",
    "- **20YY-MM-DD**: EDIT NOTE\n",
    ":::\n",
    "\n",
    "---\n",
    "\n",
    "<!-- COMMENTS/REACTIONS -->\n",
    "<script src=\"https://giscus.app/client.js\"\n",
    "        data-repo=\"aechoi/blog\"\n",
    "        data-repo-id=\"R_kgDOPWDacg\"\n",
    "        data-category=\"Announcements\"\n",
    "        data-category-id=\"DIC_kwDOPWDacs4CtpTY\"\n",
    "        data-mapping=\"pathname\"\n",
    "        data-strict=\"0\"\n",
    "        data-reactions-enabled=\"1\"\n",
    "        data-emit-metadata=\"0\"\n",
    "        data-input-position=\"top\"\n",
    "        data-theme=\"light\"\n",
    "        data-lang=\"en\"\n",
    "        data-loading=\"lazy\"\n",
    "        crossorigin=\"anonymous\"\n",
    "        async>\n",
    "</script>"
   ]
  }
 ],
 "metadata": {
  "kernelspec": {
   "display_name": "Python 3",
   "language": "python",
   "name": "python3"
  },
  "language_info": {
   "codemirror_mode": {
    "name": "ipython",
    "version": 3
   },
   "file_extension": ".py",
   "mimetype": "text/x-python",
   "name": "python",
   "nbconvert_exporter": "python",
   "pygments_lexer": "ipython3",
   "version": "3.12.3"
  }
 },
 "nbformat": 4,
 "nbformat_minor": 5
}
